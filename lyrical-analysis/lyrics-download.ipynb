{
 "cells": [
  {
   "cell_type": "code",
   "execution_count": 1,
   "id": "0ec03599-3565-4c06-8276-9f2df8534aa0",
   "metadata": {},
   "outputs": [],
   "source": [
    "import json\n",
    "\n",
    "import pygsheets\n",
    "import os\n",
    "\n",
    "from spotipy.oauth2 import SpotifyClientCredentials\n",
    "from spotipy import Spotify\n",
    "\n",
    "from tqdm import tqdm\n",
    "\n",
    "import lyricsgenius"
   ]
  },
  {
   "cell_type": "markdown",
   "id": "735d05de-98a0-4c24-8169-67aa4e439415",
   "metadata": {
    "jp-MarkdownHeadingCollapsed": true,
    "tags": []
   },
   "source": [
    "# Get previous version"
   ]
  },
  {
   "cell_type": "code",
   "execution_count": null,
   "id": "59eeaac1-5a81-4cba-b8b0-39edc1a381af",
   "metadata": {},
   "outputs": [],
   "source": [
    "!cp ../analysis/track-meta-data.json ."
   ]
  },
  {
   "cell_type": "code",
   "execution_count": 4,
   "id": "d1c8b8c7-16be-4a74-8403-ccb1d80e87f4",
   "metadata": {},
   "outputs": [],
   "source": [
    "with open(\"track-meta-data.json\") as f:\n",
    "    track_meta_data = json.load(f)"
   ]
  },
  {
   "cell_type": "markdown",
   "id": "e9c59f8d-4510-47a8-a1e4-1c8e2fb769e6",
   "metadata": {},
   "source": [
    "# Control Group"
   ]
  },
  {
   "cell_type": "code",
   "execution_count": 16,
   "id": "32726554-d79e-4baf-a734-7cb03e59cd95",
   "metadata": {},
   "outputs": [],
   "source": [
    "PLAYLIST_ID = \"4Dg0J0ICj9kKTGDyFu0Cv4\""
   ]
  },
  {
   "cell_type": "code",
   "execution_count": 17,
   "id": "79b6a055-8cec-4480-ac29-818cd4613860",
   "metadata": {},
   "outputs": [],
   "source": [
    "with open(f\"../analysis/playlist_data/{PLAYLIST_ID}-meta-data.json\") as f:\n",
    "    track_meta_data = json.load(f)"
   ]
  },
  {
   "cell_type": "markdown",
   "id": "d012583b-239f-4d01-b359-07e9afd09130",
   "metadata": {
    "jp-MarkdownHeadingCollapsed": true,
    "tags": []
   },
   "source": [
    "# Fresh Data"
   ]
  },
  {
   "cell_type": "code",
   "execution_count": null,
   "id": "8fa0371c-899a-45f1-9ca4-e08cea724c8e",
   "metadata": {},
   "outputs": [],
   "source": [
    "gs_client = pygsheets.authorize(service_file=os.environ[\"GS_CRED_PATH\"])\n",
    "\n",
    "sh = gs_client.open('moving_data')\n",
    "worksheet = sh.sheet1 "
   ]
  },
  {
   "cell_type": "code",
   "execution_count": null,
   "id": "4a503f30-93e1-47d1-8b4e-de400431c2b4",
   "metadata": {},
   "outputs": [],
   "source": [
    "df = worksheet.get_as_df()\n",
    "df.head()"
   ]
  },
  {
   "cell_type": "code",
   "execution_count": null,
   "id": "41f2e8e7-8b15-497c-9d3c-7ff2a92cf554",
   "metadata": {},
   "outputs": [],
   "source": [
    "len(df)"
   ]
  },
  {
   "cell_type": "code",
   "execution_count": null,
   "id": "80a4eade-7622-472a-b59f-23a881ca1af9",
   "metadata": {},
   "outputs": [],
   "source": [
    "spotify_ids = df[(~df[\"spotify_id\"].isnull()) & (df[\"spotify_id\"] != 'Video Unavailable') ][\"spotify_id\"].unique()\n",
    "spotify_ids = list(spotify_ids)\n",
    "len(spotify_ids)"
   ]
  },
  {
   "cell_type": "code",
   "execution_count": null,
   "id": "8effde5b-3edb-435f-aa7f-ea4d9025e7e5",
   "metadata": {},
   "outputs": [],
   "source": [
    "spotify_ids[:10]"
   ]
  },
  {
   "cell_type": "code",
   "execution_count": null,
   "id": "c78117c6-a559-4253-8eba-da7925cb7ff9",
   "metadata": {},
   "outputs": [],
   "source": [
    "credentials = SpotifyClientCredentials(\n",
    "        client_id=os.environ[\"SPOTIFY_CLIENT_ID\"],\n",
    "        client_secret=os.environ[\"SPOTIFY_CLIENT_SECRET\"])\n",
    "sp = Spotify(client_credentials_manager=credentials)"
   ]
  },
  {
   "cell_type": "code",
   "execution_count": null,
   "id": "1492ee74-e2af-478a-90c6-c6397d115437",
   "metadata": {},
   "outputs": [],
   "source": [
    "track_meta_data = []\n",
    "for track_id in tqdm(spotify_ids):\n",
    "    track_meta_data.append(sp.track(track_id))"
   ]
  },
  {
   "cell_type": "markdown",
   "id": "19037c60-8a36-4b80-8954-9df2065c07ee",
   "metadata": {},
   "source": [
    "# Get Lyrics"
   ]
  },
  {
   "cell_type": "code",
   "execution_count": 18,
   "id": "efb1fa63-c113-466e-a694-522fd1c053d5",
   "metadata": {},
   "outputs": [],
   "source": [
    "genius = lyricsgenius.Genius('27770e4c80530bfb03b80b262d1d915e')"
   ]
  },
  {
   "cell_type": "code",
   "execution_count": 19,
   "id": "6cd8a2c0-e335-4488-8424-0566625583e9",
   "metadata": {},
   "outputs": [],
   "source": [
    "def scrape(trackname, artistname):\n",
    "    cnt = 0\n",
    "    while 1:\n",
    "        try:\n",
    "            song = genius.search_song(trackname, artistname)\n",
    "            return song.lyrics\n",
    "            break\n",
    "        except:\n",
    "            cnt += 1\n",
    "            if cnt == 5:\n",
    "                print(trackname + \" \" + artistname + \" Not present in Genius\")\n",
    "                return \"\"\n",
    "            continue"
   ]
  },
  {
   "cell_type": "code",
   "execution_count": 20,
   "id": "6aa17dc4-d292-4473-9924-e0c5a36b9daf",
   "metadata": {},
   "outputs": [
    {
     "name": "stderr",
     "output_type": "stream",
     "text": [
      "  0%|                                                                              | 0/1322 [00:00<?, ?it/s]"
     ]
    },
    {
     "name": "stdout",
     "output_type": "stream",
     "text": [
      "Searching for \"You Can Do It\" by Caribou...\n"
     ]
    },
    {
     "name": "stderr",
     "output_type": "stream",
     "text": [
      "  0%|                                                                      | 1/1322 [00:02<51:47,  2.35s/it]"
     ]
    },
    {
     "name": "stdout",
     "output_type": "stream",
     "text": [
      "Done.\n",
      "Searching for \"A Suite Deal - A Lo Noyáno Mix\" by Muinota Noy...\n",
      "No results found for: 'A Suite Deal - A Lo Noyáno Mix Muinota Noy'\n",
      "Searching for \"A Suite Deal - A Lo Noyáno Mix\" by Muinota Noy...\n",
      "No results found for: 'A Suite Deal - A Lo Noyáno Mix Muinota Noy'\n",
      "Searching for \"A Suite Deal - A Lo Noyáno Mix\" by Muinota Noy...\n",
      "No results found for: 'A Suite Deal - A Lo Noyáno Mix Muinota Noy'\n",
      "Searching for \"A Suite Deal - A Lo Noyáno Mix\" by Muinota Noy...\n",
      "No results found for: 'A Suite Deal - A Lo Noyáno Mix Muinota Noy'\n",
      "Searching for \"A Suite Deal - A Lo Noyáno Mix\" by Muinota Noy...\n"
     ]
    },
    {
     "name": "stderr",
     "output_type": "stream",
     "text": [
      "  0%|                                                                      | 2/1322 [00:04<45:29,  2.07s/it]"
     ]
    },
    {
     "name": "stdout",
     "output_type": "stream",
     "text": [
      "No results found for: 'A Suite Deal - A Lo Noyáno Mix Muinota Noy'\n",
      "A Suite Deal - A Lo Noyáno Mix Muinota Noy Not present in Genius\n",
      "Searching for \"Sunnys Time - Prince Nifty Saddle up Mix\" by Caribou...\n"
     ]
    },
    {
     "name": "stderr",
     "output_type": "stream",
     "text": [
      "  0%|▏                                                                     | 3/1322 [00:06<50:46,  2.31s/it]"
     ]
    },
    {
     "name": "stdout",
     "output_type": "stream",
     "text": [
      "Done.\n",
      "Searching for \"Nduzangou\" by Zaza...\n",
      "No results found for: 'Nduzangou Zaza'\n",
      "Searching for \"Nduzangou\" by Zaza...\n",
      "No results found for: 'Nduzangou Zaza'\n",
      "Searching for \"Nduzangou\" by Zaza...\n",
      "No results found for: 'Nduzangou Zaza'\n",
      "Searching for \"Nduzangou\" by Zaza...\n",
      "No results found for: 'Nduzangou Zaza'\n",
      "Searching for \"Nduzangou\" by Zaza...\n"
     ]
    },
    {
     "name": "stderr",
     "output_type": "stream",
     "text": [
      "  0%|▏                                                                     | 4/1322 [00:08<48:44,  2.22s/it]"
     ]
    },
    {
     "name": "stdout",
     "output_type": "stream",
     "text": [
      "No results found for: 'Nduzangou Zaza'\n",
      "Nduzangou Zaza Not present in Genius\n",
      "Searching for \"Wheele\" by Anunaku...\n"
     ]
    },
    {
     "name": "stderr",
     "output_type": "stream",
     "text": [
      "  0%|▎                                                                   | 5/1322 [00:12<1:02:46,  2.86s/it]"
     ]
    },
    {
     "name": "stdout",
     "output_type": "stream",
     "text": [
      "Done.\n",
      "Searching for \"QuoVadis\" by Gman...\n"
     ]
    },
    {
     "name": "stderr",
     "output_type": "stream",
     "text": [
      "  0%|▎                                                                     | 6/1322 [00:15<58:57,  2.69s/it]"
     ]
    },
    {
     "name": "stdout",
     "output_type": "stream",
     "text": [
      "Done.\n",
      "Searching for \"Night Echoes\" by Kareem Ali...\n"
     ]
    },
    {
     "name": "stderr",
     "output_type": "stream",
     "text": [
      "  1%|▎                                                                   | 7/1322 [00:19<1:11:10,  3.25s/it]"
     ]
    },
    {
     "name": "stdout",
     "output_type": "stream",
     "text": [
      "Done.\n",
      "Searching for \"I'll Keep My Light in My Window - 12\" Version\" by The New York Community Choir...\n"
     ]
    },
    {
     "name": "stderr",
     "output_type": "stream",
     "text": [
      "  1%|▍                                                                   | 8/1322 [00:21<1:03:05,  2.88s/it]"
     ]
    },
    {
     "name": "stdout",
     "output_type": "stream",
     "text": [
      "Done.\n",
      "Searching for \"RED LADY\" by Phil Cordell...\n"
     ]
    },
    {
     "name": "stderr",
     "output_type": "stream",
     "text": [
      "  1%|▍                                                                   | 9/1322 [00:25<1:06:51,  3.06s/it]"
     ]
    },
    {
     "name": "stdout",
     "output_type": "stream",
     "text": [
      "Done.\n",
      "Searching for \"Never Come Back - Koreless Remix\" by Caribou...\n"
     ]
    },
    {
     "name": "stderr",
     "output_type": "stream",
     "text": [
      "  1%|▌                                                                  | 10/1322 [00:27<1:04:48,  2.96s/it]"
     ]
    },
    {
     "name": "stdout",
     "output_type": "stream",
     "text": [
      "Done.\n",
      "Searching for \"Observatory Crest\" by Captain Beefheart & His Magic Band...\n"
     ]
    },
    {
     "name": "stderr",
     "output_type": "stream",
     "text": [
      "  1%|▌                                                                    | 11/1322 [00:30<59:35,  2.73s/it]"
     ]
    },
    {
     "name": "stdout",
     "output_type": "stream",
     "text": [
      "Done.\n",
      "Searching for \"I Don't Know How (To Say I Love You)\" by Superlatives...\n"
     ]
    },
    {
     "name": "stderr",
     "output_type": "stream",
     "text": [
      "  1%|▌                                                                  | 12/1322 [00:33<1:03:55,  2.93s/it]"
     ]
    },
    {
     "name": "stdout",
     "output_type": "stream",
     "text": [
      "Done.\n",
      "Searching for \"Such A Funny Night\" by Aphrodite's Child...\n"
     ]
    },
    {
     "name": "stderr",
     "output_type": "stream",
     "text": [
      "  1%|▋                                                                  | 13/1322 [00:36<1:01:43,  2.83s/it]"
     ]
    },
    {
     "name": "stdout",
     "output_type": "stream",
     "text": [
      "Done.\n",
      "Searching for \"Tilim m'dohm\" by Offering...\n",
      "No results found for: 'Tilim m'dohm Offering'\n",
      "Searching for \"Tilim m'dohm\" by Offering...\n",
      "No results found for: 'Tilim m'dohm Offering'\n",
      "Searching for \"Tilim m'dohm\" by Offering...\n",
      "No results found for: 'Tilim m'dohm Offering'\n",
      "Searching for \"Tilim m'dohm\" by Offering...\n",
      "No results found for: 'Tilim m'dohm Offering'\n",
      "Searching for \"Tilim m'dohm\" by Offering...\n"
     ]
    },
    {
     "name": "stderr",
     "output_type": "stream",
     "text": [
      "  1%|▋                                                                    | 14/1322 [00:37<54:40,  2.51s/it]"
     ]
    },
    {
     "name": "stdout",
     "output_type": "stream",
     "text": [
      "No results found for: 'Tilim m'dohm Offering'\n",
      "Tilim m'dohm Offering Not present in Genius\n",
      "Searching for \"Faces in Reflection No.1\" by George Duke...\n"
     ]
    },
    {
     "name": "stderr",
     "output_type": "stream",
     "text": [
      "  1%|▊                                                                  | 15/1322 [00:42<1:11:11,  3.27s/it]"
     ]
    },
    {
     "name": "stdout",
     "output_type": "stream",
     "text": [
      "Done.\n",
      "Searching for \"Faces in Reflection No.2\" by George Duke...\n",
      "No results found for: 'Faces in Reflection No.2 George Duke'\n",
      "Searching for \"Faces in Reflection No.2\" by George Duke...\n",
      "No results found for: 'Faces in Reflection No.2 George Duke'\n",
      "Searching for \"Faces in Reflection No.2\" by George Duke...\n",
      "No results found for: 'Faces in Reflection No.2 George Duke'\n",
      "Searching for \"Faces in Reflection No.2\" by George Duke...\n",
      "No results found for: 'Faces in Reflection No.2 George Duke'\n",
      "Searching for \"Faces in Reflection No.2\" by George Duke...\n"
     ]
    },
    {
     "name": "stderr",
     "output_type": "stream",
     "text": [
      "  1%|▊                                                                  | 16/1322 [00:44<1:03:17,  2.91s/it]"
     ]
    },
    {
     "name": "stdout",
     "output_type": "stream",
     "text": [
      "No results found for: 'Faces in Reflection No.2 George Duke'\n",
      "Faces in Reflection No.2 George Duke Not present in Genius\n",
      "Searching for \"Yoga\" by 645AR...\n"
     ]
    },
    {
     "name": "stderr",
     "output_type": "stream",
     "text": [
      "  1%|▊                                                                  | 17/1322 [00:47<1:03:16,  2.91s/it]"
     ]
    },
    {
     "name": "stdout",
     "output_type": "stream",
     "text": [
      "Done.\n",
      "Searching for \"Love Brings Out the Best of You\" by Apple & The Three Oranges...\n"
     ]
    },
    {
     "name": "stderr",
     "output_type": "stream",
     "text": [
      "  1%|▉                                                                    | 18/1322 [00:50<59:25,  2.73s/it]"
     ]
    },
    {
     "name": "stdout",
     "output_type": "stream",
     "text": [
      "Done.\n",
      "Searching for \"The Big Wind\" by Steve Tibbetts...\n"
     ]
    },
    {
     "name": "stderr",
     "output_type": "stream",
     "text": [
      "  1%|▉                                                                  | 19/1322 [00:53<1:04:08,  2.95s/it]"
     ]
    },
    {
     "name": "stdout",
     "output_type": "stream",
     "text": [
      "Done.\n",
      "Searching for \"The Almoravid\" by Joe Chambers...\n",
      "No results found for: 'The Almoravid Joe Chambers'\n",
      "Searching for \"The Almoravid\" by Joe Chambers...\n",
      "No results found for: 'The Almoravid Joe Chambers'\n",
      "Searching for \"The Almoravid\" by Joe Chambers...\n",
      "No results found for: 'The Almoravid Joe Chambers'\n",
      "Searching for \"The Almoravid\" by Joe Chambers...\n",
      "No results found for: 'The Almoravid Joe Chambers'\n",
      "Searching for \"The Almoravid\" by Joe Chambers...\n"
     ]
    },
    {
     "name": "stderr",
     "output_type": "stream",
     "text": [
      "  2%|█                                                                    | 20/1322 [00:55<56:27,  2.60s/it]"
     ]
    },
    {
     "name": "stdout",
     "output_type": "stream",
     "text": [
      "No results found for: 'The Almoravid Joe Chambers'\n",
      "The Almoravid Joe Chambers Not present in Genius\n",
      "Searching for \"AVAILABLE\" by Dean Blunt...\n",
      "Specified song does not contain lyrics. Rejecting.\n",
      "Searching for \"AVAILABLE\" by Dean Blunt...\n",
      "Specified song does not contain lyrics. Rejecting.\n",
      "Searching for \"AVAILABLE\" by Dean Blunt...\n",
      "Specified song does not contain lyrics. Rejecting.\n",
      "Searching for \"AVAILABLE\" by Dean Blunt...\n",
      "Specified song does not contain lyrics. Rejecting.\n",
      "Searching for \"AVAILABLE\" by Dean Blunt...\n"
     ]
    },
    {
     "name": "stderr",
     "output_type": "stream",
     "text": [
      "  2%|█                                                                    | 21/1322 [00:58<57:10,  2.64s/it]"
     ]
    },
    {
     "name": "stdout",
     "output_type": "stream",
     "text": [
      "Specified song does not contain lyrics. Rejecting.\n",
      "AVAILABLE Dean Blunt Not present in Genius\n",
      "Searching for \"Never Come Back - Floating Points Remix\" by Caribou...\n",
      "No results found for: 'Never Come Back - Floating Points Remix Caribou'\n",
      "Searching for \"Never Come Back - Floating Points Remix\" by Caribou...\n",
      "No results found for: 'Never Come Back - Floating Points Remix Caribou'\n",
      "Searching for \"Never Come Back - Floating Points Remix\" by Caribou...\n",
      "No results found for: 'Never Come Back - Floating Points Remix Caribou'\n",
      "Searching for \"Never Come Back - Floating Points Remix\" by Caribou...\n",
      "No results found for: 'Never Come Back - Floating Points Remix Caribou'\n",
      "Searching for \"Never Come Back - Floating Points Remix\" by Caribou...\n"
     ]
    },
    {
     "name": "stderr",
     "output_type": "stream",
     "text": [
      "  2%|█▏                                                                   | 22/1322 [00:59<51:28,  2.38s/it]"
     ]
    },
    {
     "name": "stdout",
     "output_type": "stream",
     "text": [
      "No results found for: 'Never Come Back - Floating Points Remix Caribou'\n",
      "Never Come Back - Floating Points Remix Caribou Not present in Genius\n",
      "Searching for \"Prøv og Gør Ligesom Jeg\" by Lotte Kærså & Græsrødderne...\n",
      "No results found for: 'Prøv og Gør Ligesom Jeg Lotte Kærså & Græsrødderne'\n",
      "Searching for \"Prøv og Gør Ligesom Jeg\" by Lotte Kærså & Græsrødderne...\n",
      "No results found for: 'Prøv og Gør Ligesom Jeg Lotte Kærså & Græsrødderne'\n",
      "Searching for \"Prøv og Gør Ligesom Jeg\" by Lotte Kærså & Græsrødderne...\n",
      "No results found for: 'Prøv og Gør Ligesom Jeg Lotte Kærså & Græsrødderne'\n",
      "Searching for \"Prøv og Gør Ligesom Jeg\" by Lotte Kærså & Græsrødderne...\n",
      "No results found for: 'Prøv og Gør Ligesom Jeg Lotte Kærså & Græsrødderne'\n",
      "Searching for \"Prøv og Gør Ligesom Jeg\" by Lotte Kærså & Græsrødderne...\n"
     ]
    },
    {
     "name": "stderr",
     "output_type": "stream",
     "text": [
      "  2%|█▏                                                                   | 23/1322 [01:01<47:27,  2.19s/it]"
     ]
    },
    {
     "name": "stdout",
     "output_type": "stream",
     "text": [
      "No results found for: 'Prøv og Gør Ligesom Jeg Lotte Kærså & Græsrødderne'\n",
      "Prøv og Gør Ligesom Jeg Lotte Kærså & Græsrødderne Not present in Genius\n",
      "Searching for \"Mam Yinne Wa\" by Alogte Oho & His Sounds of Joy...\n",
      "No results found for: 'Mam Yinne Wa Alogte Oho & His Sounds of Joy'\n",
      "Searching for \"Mam Yinne Wa\" by Alogte Oho & His Sounds of Joy...\n",
      "No results found for: 'Mam Yinne Wa Alogte Oho & His Sounds of Joy'\n",
      "Searching for \"Mam Yinne Wa\" by Alogte Oho & His Sounds of Joy...\n",
      "No results found for: 'Mam Yinne Wa Alogte Oho & His Sounds of Joy'\n",
      "Searching for \"Mam Yinne Wa\" by Alogte Oho & His Sounds of Joy...\n",
      "No results found for: 'Mam Yinne Wa Alogte Oho & His Sounds of Joy'\n",
      "Searching for \"Mam Yinne Wa\" by Alogte Oho & His Sounds of Joy...\n"
     ]
    },
    {
     "name": "stderr",
     "output_type": "stream",
     "text": [
      "  2%|█▎                                                                   | 24/1322 [01:03<47:30,  2.20s/it]"
     ]
    },
    {
     "name": "stdout",
     "output_type": "stream",
     "text": [
      "No results found for: 'Mam Yinne Wa Alogte Oho & His Sounds of Joy'\n",
      "Mam Yinne Wa Alogte Oho & His Sounds of Joy Not present in Genius\n",
      "Searching for \"Off The Beaten Track\" by African Head Charge...\n"
     ]
    },
    {
     "name": "stderr",
     "output_type": "stream",
     "text": [
      "  2%|█▎                                                                 | 25/1322 [01:09<1:08:25,  3.17s/it]"
     ]
    },
    {
     "name": "stdout",
     "output_type": "stream",
     "text": [
      "Done.\n",
      "Searching for \"Elephant's Easy Moonwalk Through the Night\" by Manos Tsangaris...\n",
      "No results found for: 'Elephant's Easy Moonwalk Through the Night Manos Tsangaris'\n",
      "Searching for \"Elephant's Easy Moonwalk Through the Night\" by Manos Tsangaris...\n",
      "No results found for: 'Elephant's Easy Moonwalk Through the Night Manos Tsangaris'\n",
      "Searching for \"Elephant's Easy Moonwalk Through the Night\" by Manos Tsangaris...\n",
      "No results found for: 'Elephant's Easy Moonwalk Through the Night Manos Tsangaris'\n",
      "Searching for \"Elephant's Easy Moonwalk Through the Night\" by Manos Tsangaris...\n",
      "No results found for: 'Elephant's Easy Moonwalk Through the Night Manos Tsangaris'\n",
      "Searching for \"Elephant's Easy Moonwalk Through the Night\" by Manos Tsangaris...\n"
     ]
    },
    {
     "name": "stderr",
     "output_type": "stream",
     "text": [
      "  2%|█▎                                                                 | 26/1322 [01:11<1:00:55,  2.82s/it]"
     ]
    },
    {
     "name": "stdout",
     "output_type": "stream",
     "text": [
      "No results found for: 'Elephant's Easy Moonwalk Through the Night Manos Tsangaris'\n",
      "Elephant's Easy Moonwalk Through the Night Manos Tsangaris Not present in Genius\n",
      "Searching for \"Never Come Back - Four Tet Remix\" by Caribou...\n"
     ]
    },
    {
     "name": "stderr",
     "output_type": "stream",
     "text": [
      "  2%|█▎                                                                 | 27/1322 [01:14<1:01:59,  2.87s/it]"
     ]
    },
    {
     "name": "stdout",
     "output_type": "stream",
     "text": [
      "Done.\n",
      "Searching for \"Let It Happen\" by Tame Impala...\n"
     ]
    },
    {
     "name": "stderr",
     "output_type": "stream",
     "text": [
      "  2%|█▍                                                                 | 28/1322 [01:18<1:10:30,  3.27s/it]"
     ]
    },
    {
     "name": "stdout",
     "output_type": "stream",
     "text": [
      "Done.\n",
      "Searching for \"Au Jus\" by Carl Stone...\n"
     ]
    },
    {
     "name": "stderr",
     "output_type": "stream",
     "text": [
      "  2%|█▍                                                                 | 29/1322 [01:22<1:14:42,  3.47s/it]"
     ]
    },
    {
     "name": "stdout",
     "output_type": "stream",
     "text": [
      "Done.\n",
      "Searching for \"Parola - Rework\" by Donato Dozzy...\n",
      "No results found for: 'Parola - Rework Donato Dozzy'\n",
      "Searching for \"Parola - Rework\" by Donato Dozzy...\n",
      "No results found for: 'Parola - Rework Donato Dozzy'\n",
      "Searching for \"Parola - Rework\" by Donato Dozzy...\n",
      "No results found for: 'Parola - Rework Donato Dozzy'\n",
      "Searching for \"Parola - Rework\" by Donato Dozzy...\n",
      "No results found for: 'Parola - Rework Donato Dozzy'\n",
      "Searching for \"Parola - Rework\" by Donato Dozzy...\n"
     ]
    },
    {
     "name": "stderr",
     "output_type": "stream",
     "text": [
      "  2%|█▌                                                                 | 30/1322 [01:24<1:03:43,  2.96s/it]"
     ]
    },
    {
     "name": "stdout",
     "output_type": "stream",
     "text": [
      "No results found for: 'Parola - Rework Donato Dozzy'\n",
      "Parola - Rework Donato Dozzy Not present in Genius\n",
      "Searching for \"Dub of Jerusalem\" by Yabby You...\n",
      "No results found for: 'Dub of Jerusalem Yabby You'\n",
      "Searching for \"Dub of Jerusalem\" by Yabby You...\n",
      "No results found for: 'Dub of Jerusalem Yabby You'\n",
      "Searching for \"Dub of Jerusalem\" by Yabby You...\n",
      "No results found for: 'Dub of Jerusalem Yabby You'\n",
      "Searching for \"Dub of Jerusalem\" by Yabby You...\n",
      "No results found for: 'Dub of Jerusalem Yabby You'\n",
      "Searching for \"Dub of Jerusalem\" by Yabby You...\n"
     ]
    },
    {
     "name": "stderr",
     "output_type": "stream",
     "text": [
      "  2%|█▌                                                                   | 31/1322 [01:26<55:49,  2.59s/it]"
     ]
    },
    {
     "name": "stdout",
     "output_type": "stream",
     "text": [
      "No results found for: 'Dub of Jerusalem Yabby You'\n",
      "Dub of Jerusalem Yabby You Not present in Genius\n",
      "Searching for \"Fly\" by Nick Drake...\n"
     ]
    },
    {
     "name": "stderr",
     "output_type": "stream",
     "text": [
      "  2%|█▌                                                                 | 32/1322 [01:33<1:24:12,  3.92s/it]"
     ]
    },
    {
     "name": "stdout",
     "output_type": "stream",
     "text": [
      "Done.\n",
      "Searching for \"Agora ou Nunca Mais\" by Ana Mazzotti...\n",
      "No results found for: 'Agora ou Nunca Mais Ana Mazzotti'\n",
      "Searching for \"Agora ou Nunca Mais\" by Ana Mazzotti...\n",
      "No results found for: 'Agora ou Nunca Mais Ana Mazzotti'\n",
      "Searching for \"Agora ou Nunca Mais\" by Ana Mazzotti...\n",
      "No results found for: 'Agora ou Nunca Mais Ana Mazzotti'\n",
      "Searching for \"Agora ou Nunca Mais\" by Ana Mazzotti...\n",
      "No results found for: 'Agora ou Nunca Mais Ana Mazzotti'\n",
      "Searching for \"Agora ou Nunca Mais\" by Ana Mazzotti...\n"
     ]
    },
    {
     "name": "stderr",
     "output_type": "stream",
     "text": [
      "  2%|█▋                                                                 | 33/1322 [01:35<1:12:09,  3.36s/it]"
     ]
    },
    {
     "name": "stdout",
     "output_type": "stream",
     "text": [
      "No results found for: 'Agora ou Nunca Mais Ana Mazzotti'\n",
      "Agora ou Nunca Mais Ana Mazzotti Not present in Genius\n",
      "Searching for \"İkimiz Bir Fidanız\" by Kamuran Akkor...\n"
     ]
    },
    {
     "name": "stderr",
     "output_type": "stream",
     "text": [
      "  3%|█▋                                                                 | 34/1322 [01:38<1:09:48,  3.25s/it]"
     ]
    },
    {
     "name": "stdout",
     "output_type": "stream",
     "text": [
      "Done.\n",
      "Searching for \"Jardins\" by Brainticket...\n",
      "No results found for: 'Jardins Brainticket'\n",
      "Searching for \"Jardins\" by Brainticket...\n",
      "No results found for: 'Jardins Brainticket'\n",
      "Searching for \"Jardins\" by Brainticket...\n",
      "No results found for: 'Jardins Brainticket'\n",
      "Searching for \"Jardins\" by Brainticket...\n",
      "No results found for: 'Jardins Brainticket'\n",
      "Searching for \"Jardins\" by Brainticket...\n"
     ]
    },
    {
     "name": "stderr",
     "output_type": "stream",
     "text": [
      "  3%|█▊                                                                 | 35/1322 [01:39<1:00:09,  2.80s/it]"
     ]
    },
    {
     "name": "stdout",
     "output_type": "stream",
     "text": [
      "No results found for: 'Jardins Brainticket'\n",
      "Jardins Brainticket Not present in Genius\n",
      "Searching for \"Prati Bagnati Del Monte Analogo\" by Raul Lovisoni...\n",
      "No results found for: 'Prati Bagnati Del Monte Analogo Raul Lovisoni'\n",
      "Searching for \"Prati Bagnati Del Monte Analogo\" by Raul Lovisoni...\n",
      "No results found for: 'Prati Bagnati Del Monte Analogo Raul Lovisoni'\n",
      "Searching for \"Prati Bagnati Del Monte Analogo\" by Raul Lovisoni...\n",
      "No results found for: 'Prati Bagnati Del Monte Analogo Raul Lovisoni'\n",
      "Searching for \"Prati Bagnati Del Monte Analogo\" by Raul Lovisoni...\n",
      "No results found for: 'Prati Bagnati Del Monte Analogo Raul Lovisoni'\n",
      "Searching for \"Prati Bagnati Del Monte Analogo\" by Raul Lovisoni...\n"
     ]
    },
    {
     "name": "stderr",
     "output_type": "stream",
     "text": [
      "  3%|█▉                                                                   | 36/1322 [01:41<53:53,  2.51s/it]"
     ]
    },
    {
     "name": "stdout",
     "output_type": "stream",
     "text": [
      "No results found for: 'Prati Bagnati Del Monte Analogo Raul Lovisoni'\n",
      "Prati Bagnati Del Monte Analogo Raul Lovisoni Not present in Genius\n",
      "Searching for \"Won't You Serve Him\" by Cyril Walker...\n"
     ]
    },
    {
     "name": "stderr",
     "output_type": "stream",
     "text": [
      "  3%|█▉                                                                 | 37/1322 [01:46<1:11:51,  3.36s/it]"
     ]
    },
    {
     "name": "stdout",
     "output_type": "stream",
     "text": [
      "Done.\n",
      "Searching for \"C'mon Now\" by Jeff Parker...\n",
      "Specified song does not contain lyrics. Rejecting.\n",
      "Searching for \"C'mon Now\" by Jeff Parker...\n",
      "Specified song does not contain lyrics. Rejecting.\n",
      "Searching for \"C'mon Now\" by Jeff Parker...\n",
      "Specified song does not contain lyrics. Rejecting.\n",
      "Searching for \"C'mon Now\" by Jeff Parker...\n",
      "Specified song does not contain lyrics. Rejecting.\n",
      "Searching for \"C'mon Now\" by Jeff Parker...\n"
     ]
    },
    {
     "name": "stderr",
     "output_type": "stream",
     "text": [
      "  3%|█▉                                                                 | 38/1322 [01:49<1:05:32,  3.06s/it]"
     ]
    },
    {
     "name": "stdout",
     "output_type": "stream",
     "text": [
      "Specified song does not contain lyrics. Rejecting.\n",
      "C'mon Now Jeff Parker Not present in Genius\n",
      "Searching for \"Niente\" by Gruppo di Improvvisazione Nuova Consonanza...\n",
      "No results found for: 'Niente Gruppo di Improvvisazione Nuova Consonanza'\n",
      "Searching for \"Niente\" by Gruppo di Improvvisazione Nuova Consonanza...\n",
      "No results found for: 'Niente Gruppo di Improvvisazione Nuova Consonanza'\n",
      "Searching for \"Niente\" by Gruppo di Improvvisazione Nuova Consonanza...\n",
      "No results found for: 'Niente Gruppo di Improvvisazione Nuova Consonanza'\n",
      "Searching for \"Niente\" by Gruppo di Improvvisazione Nuova Consonanza...\n",
      "No results found for: 'Niente Gruppo di Improvvisazione Nuova Consonanza'\n",
      "Searching for \"Niente\" by Gruppo di Improvvisazione Nuova Consonanza...\n"
     ]
    },
    {
     "name": "stderr",
     "output_type": "stream",
     "text": [
      "  3%|██                                                                   | 39/1322 [01:51<57:42,  2.70s/it]"
     ]
    },
    {
     "name": "stdout",
     "output_type": "stream",
     "text": [
      "No results found for: 'Niente Gruppo di Improvvisazione Nuova Consonanza'\n",
      "Niente Gruppo di Improvvisazione Nuova Consonanza Not present in Genius\n",
      "Searching for \"My Bleeding Wound\" by The New Year...\n"
     ]
    },
    {
     "name": "stderr",
     "output_type": "stream",
     "text": [
      "  3%|██                                                                   | 40/1322 [01:53<54:54,  2.57s/it]"
     ]
    },
    {
     "name": "stdout",
     "output_type": "stream",
     "text": [
      "Done.\n",
      "Searching for \"Yellow Density\" by EYE...\n"
     ]
    },
    {
     "name": "stderr",
     "output_type": "stream",
     "text": [
      "  3%|██                                                                 | 41/1322 [01:57<1:02:17,  2.92s/it]"
     ]
    },
    {
     "name": "stdout",
     "output_type": "stream",
     "text": [
      "Done.\n",
      "Searching for \"Got To Get Your Own - 7\" Short Edit\" by Reuben Wilson...\n"
     ]
    },
    {
     "name": "stderr",
     "output_type": "stream",
     "text": [
      "  3%|██▏                                                                  | 42/1322 [01:59<58:08,  2.73s/it]"
     ]
    },
    {
     "name": "stdout",
     "output_type": "stream",
     "text": [
      "Done.\n",
      "Searching for \"Le boeuf\" by Delired Cameleon Family...\n",
      "No results found for: 'Le boeuf Delired Cameleon Family'\n",
      "Searching for \"Le boeuf\" by Delired Cameleon Family...\n",
      "No results found for: 'Le boeuf Delired Cameleon Family'\n",
      "Searching for \"Le boeuf\" by Delired Cameleon Family...\n",
      "No results found for: 'Le boeuf Delired Cameleon Family'\n",
      "Searching for \"Le boeuf\" by Delired Cameleon Family...\n",
      "No results found for: 'Le boeuf Delired Cameleon Family'\n",
      "Searching for \"Le boeuf\" by Delired Cameleon Family...\n"
     ]
    },
    {
     "name": "stderr",
     "output_type": "stream",
     "text": [
      "  3%|██▏                                                                  | 43/1322 [02:01<51:46,  2.43s/it]"
     ]
    },
    {
     "name": "stdout",
     "output_type": "stream",
     "text": [
      "No results found for: 'Le boeuf Delired Cameleon Family'\n",
      "Le boeuf Delired Cameleon Family Not present in Genius\n",
      "Searching for \"Welcome Rain In Banana Grove\" by Gene Menger...\n"
     ]
    },
    {
     "name": "stderr",
     "output_type": "stream",
     "text": [
      "  3%|██▎                                                                  | 44/1322 [02:03<49:58,  2.35s/it]"
     ]
    },
    {
     "name": "stdout",
     "output_type": "stream",
     "text": [
      "Done.\n",
      "Searching for \"5'...et quelque de bonheur\" by Jeanne Folly...\n",
      "No results found for: '5'...et quelque de bonheur Jeanne Folly'\n",
      "Searching for \"5'...et quelque de bonheur\" by Jeanne Folly...\n",
      "No results found for: '5'...et quelque de bonheur Jeanne Folly'\n",
      "Searching for \"5'...et quelque de bonheur\" by Jeanne Folly...\n",
      "No results found for: '5'...et quelque de bonheur Jeanne Folly'\n",
      "Searching for \"5'...et quelque de bonheur\" by Jeanne Folly...\n",
      "No results found for: '5'...et quelque de bonheur Jeanne Folly'\n",
      "Searching for \"5'...et quelque de bonheur\" by Jeanne Folly...\n"
     ]
    },
    {
     "name": "stderr",
     "output_type": "stream",
     "text": [
      "  3%|██▎                                                                  | 45/1322 [02:05<48:00,  2.26s/it]"
     ]
    },
    {
     "name": "stdout",
     "output_type": "stream",
     "text": [
      "No results found for: '5'...et quelque de bonheur Jeanne Folly'\n",
      "5'...et quelque de bonheur Jeanne Folly Not present in Genius\n",
      "Searching for \"Descarga\" by Totem Uruguay...\n"
     ]
    },
    {
     "name": "stderr",
     "output_type": "stream",
     "text": [
      "  3%|██▍                                                                  | 46/1322 [02:07<47:46,  2.25s/it]"
     ]
    },
    {
     "name": "stdout",
     "output_type": "stream",
     "text": [
      "Done.\n",
      "Searching for \"(Just) A Little More Line\" by Labi Siffre...\n",
      "No results found for: '(Just) A Little More Line Labi Siffre'\n",
      "Searching for \"(Just) A Little More Line\" by Labi Siffre...\n",
      "No results found for: '(Just) A Little More Line Labi Siffre'\n",
      "Searching for \"(Just) A Little More Line\" by Labi Siffre...\n",
      "No results found for: '(Just) A Little More Line Labi Siffre'\n",
      "Searching for \"(Just) A Little More Line\" by Labi Siffre...\n",
      "No results found for: '(Just) A Little More Line Labi Siffre'\n",
      "Searching for \"(Just) A Little More Line\" by Labi Siffre...\n"
     ]
    },
    {
     "name": "stderr",
     "output_type": "stream",
     "text": [
      "  4%|██▍                                                                  | 47/1322 [02:09<44:56,  2.12s/it]"
     ]
    },
    {
     "name": "stdout",
     "output_type": "stream",
     "text": [
      "No results found for: '(Just) A Little More Line Labi Siffre'\n",
      "(Just) A Little More Line Labi Siffre Not present in Genius\n",
      "Searching for \"Call\" by Michael Naura Quartet...\n"
     ]
    },
    {
     "name": "stderr",
     "output_type": "stream",
     "text": [
      "  4%|██▌                                                                  | 48/1322 [02:13<57:00,  2.68s/it]"
     ]
    },
    {
     "name": "stdout",
     "output_type": "stream",
     "text": [
      "Done.\n",
      "Searching for \"Ne - Original Mix\" by Ramuntcho Matta...\n",
      "No results found for: 'Ne - Original Mix Ramuntcho Matta'\n",
      "Searching for \"Ne - Original Mix\" by Ramuntcho Matta...\n",
      "No results found for: 'Ne - Original Mix Ramuntcho Matta'\n",
      "Searching for \"Ne - Original Mix\" by Ramuntcho Matta...\n",
      "No results found for: 'Ne - Original Mix Ramuntcho Matta'\n",
      "Searching for \"Ne - Original Mix\" by Ramuntcho Matta...\n",
      "No results found for: 'Ne - Original Mix Ramuntcho Matta'\n",
      "Searching for \"Ne - Original Mix\" by Ramuntcho Matta...\n"
     ]
    },
    {
     "name": "stderr",
     "output_type": "stream",
     "text": [
      "  4%|██▌                                                                  | 49/1322 [02:15<50:42,  2.39s/it]"
     ]
    },
    {
     "name": "stdout",
     "output_type": "stream",
     "text": [
      "No results found for: 'Ne - Original Mix Ramuntcho Matta'\n",
      "Ne - Original Mix Ramuntcho Matta Not present in Genius\n",
      "Searching for \"10101\" by James Holden...\n"
     ]
    },
    {
     "name": "stderr",
     "output_type": "stream",
     "text": [
      "  4%|██▌                                                                  | 50/1322 [02:18<54:39,  2.58s/it]"
     ]
    },
    {
     "name": "stdout",
     "output_type": "stream",
     "text": [
      "Done.\n",
      "Searching for \"Cold Expression\" by Lives Of Angels...\n"
     ]
    },
    {
     "name": "stderr",
     "output_type": "stream",
     "text": [
      "  4%|██▌                                                                | 51/1322 [02:23<1:10:19,  3.32s/it]"
     ]
    },
    {
     "name": "stdout",
     "output_type": "stream",
     "text": [
      "Done.\n",
      "Searching for \"Never Come Back - Morgan Geist Remix\" by Caribou...\n",
      "No results found for: 'Never Come Back - Morgan Geist Remix Caribou'\n",
      "Searching for \"Never Come Back - Morgan Geist Remix\" by Caribou...\n",
      "No results found for: 'Never Come Back - Morgan Geist Remix Caribou'\n",
      "Searching for \"Never Come Back - Morgan Geist Remix\" by Caribou...\n",
      "No results found for: 'Never Come Back - Morgan Geist Remix Caribou'\n",
      "Searching for \"Never Come Back - Morgan Geist Remix\" by Caribou...\n",
      "No results found for: 'Never Come Back - Morgan Geist Remix Caribou'\n",
      "Searching for \"Never Come Back - Morgan Geist Remix\" by Caribou...\n"
     ]
    },
    {
     "name": "stderr",
     "output_type": "stream",
     "text": [
      "  4%|██▋                                                                | 52/1322 [02:25<1:02:43,  2.96s/it]"
     ]
    },
    {
     "name": "stdout",
     "output_type": "stream",
     "text": [
      "No results found for: 'Never Come Back - Morgan Geist Remix Caribou'\n",
      "Never Come Back - Morgan Geist Remix Caribou Not present in Genius\n",
      "Searching for \"Insect Near Piha Beach\" by Four Tet...\n",
      "Specified song does not contain lyrics. Rejecting.\n",
      "Searching for \"Insect Near Piha Beach\" by Four Tet...\n",
      "Specified song does not contain lyrics. Rejecting.\n",
      "Searching for \"Insect Near Piha Beach\" by Four Tet...\n",
      "Specified song does not contain lyrics. Rejecting.\n",
      "Searching for \"Insect Near Piha Beach\" by Four Tet...\n",
      "Specified song does not contain lyrics. Rejecting.\n",
      "Searching for \"Insect Near Piha Beach\" by Four Tet...\n"
     ]
    },
    {
     "name": "stderr",
     "output_type": "stream",
     "text": [
      "  4%|██▊                                                                  | 53/1322 [02:27<56:50,  2.69s/it]"
     ]
    },
    {
     "name": "stdout",
     "output_type": "stream",
     "text": [
      "Specified song does not contain lyrics. Rejecting.\n",
      "Insect Near Piha Beach Four Tet Not present in Genius\n",
      "Searching for \"Hi Hello\" by Four Tet...\n",
      "Specified song does not contain lyrics. Rejecting.\n",
      "Searching for \"Hi Hello\" by Four Tet...\n",
      "Specified song does not contain lyrics. Rejecting.\n",
      "Searching for \"Hi Hello\" by Four Tet...\n",
      "Specified song does not contain lyrics. Rejecting.\n",
      "Searching for \"Hi Hello\" by Four Tet...\n",
      "Specified song does not contain lyrics. Rejecting.\n",
      "Searching for \"Hi Hello\" by Four Tet...\n"
     ]
    },
    {
     "name": "stderr",
     "output_type": "stream",
     "text": [
      "  4%|██▊                                                                  | 54/1322 [02:29<52:37,  2.49s/it]"
     ]
    },
    {
     "name": "stdout",
     "output_type": "stream",
     "text": [
      "Specified song does not contain lyrics. Rejecting.\n",
      "Hi Hello Four Tet Not present in Genius\n",
      "Searching for \"Sunny's Time\" by Caribou...\n"
     ]
    },
    {
     "name": "stderr",
     "output_type": "stream",
     "text": [
      "  4%|██▊                                                                  | 55/1322 [02:31<47:40,  2.26s/it]"
     ]
    },
    {
     "name": "stdout",
     "output_type": "stream",
     "text": [
      "Done.\n",
      "Searching for \"900 Degrees\" by Ian Pooley...\n",
      "No results found for: '900 Degrees Ian Pooley'\n",
      "Searching for \"900 Degrees\" by Ian Pooley...\n",
      "No results found for: '900 Degrees Ian Pooley'\n",
      "Searching for \"900 Degrees\" by Ian Pooley...\n",
      "No results found for: '900 Degrees Ian Pooley'\n",
      "Searching for \"900 Degrees\" by Ian Pooley...\n",
      "No results found for: '900 Degrees Ian Pooley'\n",
      "Searching for \"900 Degrees\" by Ian Pooley...\n"
     ]
    },
    {
     "name": "stderr",
     "output_type": "stream",
     "text": [
      "  4%|██▉                                                                  | 56/1322 [02:32<44:37,  2.11s/it]"
     ]
    },
    {
     "name": "stdout",
     "output_type": "stream",
     "text": [
      "No results found for: '900 Degrees Ian Pooley'\n",
      "900 Degrees Ian Pooley Not present in Genius\n",
      "Searching for \"The Conditioning Track - NYC Mix\" by Asquith...\n",
      "No results found for: 'The Conditioning Track - NYC Mix Asquith'\n",
      "Searching for \"The Conditioning Track - NYC Mix\" by Asquith...\n",
      "No results found for: 'The Conditioning Track - NYC Mix Asquith'\n",
      "Searching for \"The Conditioning Track - NYC Mix\" by Asquith...\n",
      "No results found for: 'The Conditioning Track - NYC Mix Asquith'\n",
      "Searching for \"The Conditioning Track - NYC Mix\" by Asquith...\n",
      "No results found for: 'The Conditioning Track - NYC Mix Asquith'\n",
      "Searching for \"The Conditioning Track - NYC Mix\" by Asquith...\n"
     ]
    },
    {
     "name": "stderr",
     "output_type": "stream",
     "text": [
      "  4%|██▉                                                                  | 57/1322 [02:34<42:37,  2.02s/it]"
     ]
    },
    {
     "name": "stdout",
     "output_type": "stream",
     "text": [
      "No results found for: 'The Conditioning Track - NYC Mix Asquith'\n",
      "The Conditioning Track - NYC Mix Asquith Not present in Genius\n",
      "Searching for \"Dizzy New Heights - Shanti Celeste Remix\" by MJ Cole...\n",
      "No results found for: 'Dizzy New Heights - Shanti Celeste Remix MJ Cole'\n",
      "Searching for \"Dizzy New Heights - Shanti Celeste Remix\" by MJ Cole...\n",
      "No results found for: 'Dizzy New Heights - Shanti Celeste Remix MJ Cole'\n",
      "Searching for \"Dizzy New Heights - Shanti Celeste Remix\" by MJ Cole...\n",
      "No results found for: 'Dizzy New Heights - Shanti Celeste Remix MJ Cole'\n",
      "Searching for \"Dizzy New Heights - Shanti Celeste Remix\" by MJ Cole...\n",
      "No results found for: 'Dizzy New Heights - Shanti Celeste Remix MJ Cole'\n",
      "Searching for \"Dizzy New Heights - Shanti Celeste Remix\" by MJ Cole...\n"
     ]
    },
    {
     "name": "stderr",
     "output_type": "stream",
     "text": [
      "  4%|███                                                                  | 58/1322 [02:36<43:26,  2.06s/it]"
     ]
    },
    {
     "name": "stdout",
     "output_type": "stream",
     "text": [
      "No results found for: 'Dizzy New Heights - Shanti Celeste Remix MJ Cole'\n",
      "Dizzy New Heights - Shanti Celeste Remix MJ Cole Not present in Genius\n",
      "Searching for \"The Sky Was Pink - Holden Remix\" by Nathan Fake...\n"
     ]
    },
    {
     "name": "stderr",
     "output_type": "stream",
     "text": [
      "  4%|███                                                                  | 59/1322 [02:38<40:04,  1.90s/it]"
     ]
    },
    {
     "name": "stdout",
     "output_type": "stream",
     "text": [
      "Done.\n",
      "Searching for \"It's a Crime - Caribou Remix\" by Virgo Four...\n",
      "No results found for: 'It's a Crime - Caribou Remix Virgo Four'\n",
      "Searching for \"It's a Crime - Caribou Remix\" by Virgo Four...\n",
      "No results found for: 'It's a Crime - Caribou Remix Virgo Four'\n",
      "Searching for \"It's a Crime - Caribou Remix\" by Virgo Four...\n",
      "No results found for: 'It's a Crime - Caribou Remix Virgo Four'\n",
      "Searching for \"It's a Crime - Caribou Remix\" by Virgo Four...\n",
      "No results found for: 'It's a Crime - Caribou Remix Virgo Four'\n",
      "Searching for \"It's a Crime - Caribou Remix\" by Virgo Four...\n"
     ]
    },
    {
     "name": "stderr",
     "output_type": "stream",
     "text": [
      "  5%|███▏                                                                 | 60/1322 [02:40<39:24,  1.87s/it]"
     ]
    },
    {
     "name": "stdout",
     "output_type": "stream",
     "text": [
      "No results found for: 'It's a Crime - Caribou Remix Virgo Four'\n",
      "It's a Crime - Caribou Remix Virgo Four Not present in Genius\n",
      "Searching for \"Curura\" by Totó La Momposina...\n"
     ]
    },
    {
     "name": "stderr",
     "output_type": "stream",
     "text": [
      "  5%|███▏                                                                 | 61/1322 [02:42<43:41,  2.08s/it]"
     ]
    },
    {
     "name": "stdout",
     "output_type": "stream",
     "text": [
      "Done.\n",
      "Searching for \"Man Up In The Sky\" by Barrett Strong...\n"
     ]
    },
    {
     "name": "stderr",
     "output_type": "stream",
     "text": [
      "  5%|███▏                                                                 | 62/1322 [02:45<50:39,  2.41s/it]"
     ]
    },
    {
     "name": "stdout",
     "output_type": "stream",
     "text": [
      "Done.\n",
      "Searching for \"Intergalactic Love Song\" by The Diddys...\n"
     ]
    },
    {
     "name": "stderr",
     "output_type": "stream",
     "text": [
      "  5%|███▎                                                                 | 63/1322 [02:48<49:22,  2.35s/it]"
     ]
    },
    {
     "name": "stdout",
     "output_type": "stream",
     "text": [
      "Done.\n",
      "Searching for \"Blue Lights\" by Henry Franklin...\n"
     ]
    },
    {
     "name": "stderr",
     "output_type": "stream",
     "text": [
      "  5%|███▎                                                                 | 64/1322 [02:50<46:19,  2.21s/it]"
     ]
    },
    {
     "name": "stdout",
     "output_type": "stream",
     "text": [
      "Done.\n",
      "Searching for \"Love The Way\" by Quavius...\n"
     ]
    },
    {
     "name": "stderr",
     "output_type": "stream",
     "text": [
      "  5%|███▍                                                                 | 65/1322 [02:52<48:03,  2.29s/it]"
     ]
    },
    {
     "name": "stdout",
     "output_type": "stream",
     "text": [
      "Done.\n",
      "Searching for \"I'm Gonna Miss Ya\" by Aaron Broomfield...\n",
      "No results found for: 'I'm Gonna Miss Ya Aaron Broomfield'\n",
      "Searching for \"I'm Gonna Miss Ya\" by Aaron Broomfield...\n",
      "No results found for: 'I'm Gonna Miss Ya Aaron Broomfield'\n",
      "Searching for \"I'm Gonna Miss Ya\" by Aaron Broomfield...\n",
      "No results found for: 'I'm Gonna Miss Ya Aaron Broomfield'\n",
      "Searching for \"I'm Gonna Miss Ya\" by Aaron Broomfield...\n",
      "No results found for: 'I'm Gonna Miss Ya Aaron Broomfield'\n",
      "Searching for \"I'm Gonna Miss Ya\" by Aaron Broomfield...\n"
     ]
    },
    {
     "name": "stderr",
     "output_type": "stream",
     "text": [
      "  5%|███▍                                                                 | 66/1322 [02:54<46:07,  2.20s/it]"
     ]
    },
    {
     "name": "stdout",
     "output_type": "stream",
     "text": [
      "No results found for: 'I'm Gonna Miss Ya Aaron Broomfield'\n",
      "I'm Gonna Miss Ya Aaron Broomfield Not present in Genius\n",
      "Searching for \"Just U and Me\" by Kingsley Bucknor...\n",
      "No results found for: 'Just U and Me Kingsley Bucknor'\n",
      "Searching for \"Just U and Me\" by Kingsley Bucknor...\n",
      "No results found for: 'Just U and Me Kingsley Bucknor'\n",
      "Searching for \"Just U and Me\" by Kingsley Bucknor...\n",
      "No results found for: 'Just U and Me Kingsley Bucknor'\n",
      "Searching for \"Just U and Me\" by Kingsley Bucknor...\n",
      "No results found for: 'Just U and Me Kingsley Bucknor'\n",
      "Searching for \"Just U and Me\" by Kingsley Bucknor...\n"
     ]
    },
    {
     "name": "stderr",
     "output_type": "stream",
     "text": [
      "  5%|███▍                                                                 | 67/1322 [02:56<44:03,  2.11s/it]"
     ]
    },
    {
     "name": "stdout",
     "output_type": "stream",
     "text": [
      "No results found for: 'Just U and Me Kingsley Bucknor'\n",
      "Just U and Me Kingsley Bucknor Not present in Genius\n",
      "Searching for \"BOP\" by DaBaby...\n"
     ]
    },
    {
     "name": "stderr",
     "output_type": "stream",
     "text": [
      "  5%|███▌                                                                 | 68/1322 [02:59<47:21,  2.27s/it]"
     ]
    },
    {
     "name": "stdout",
     "output_type": "stream",
     "text": [
      "Done.\n",
      "Searching for \"Hell on Earth (Front Lines)\" by Mobb Deep...\n"
     ]
    },
    {
     "name": "stderr",
     "output_type": "stream",
     "text": [
      "  5%|███▌                                                                 | 69/1322 [03:01<48:50,  2.34s/it]"
     ]
    },
    {
     "name": "stdout",
     "output_type": "stream",
     "text": [
      "Done.\n",
      "Searching for \"Heron Dance\" by Ursula K. Le Guin...\n",
      "No results found for: 'Heron Dance Ursula K. Le Guin'\n",
      "Searching for \"Heron Dance\" by Ursula K. Le Guin...\n",
      "No results found for: 'Heron Dance Ursula K. Le Guin'\n",
      "Searching for \"Heron Dance\" by Ursula K. Le Guin...\n",
      "No results found for: 'Heron Dance Ursula K. Le Guin'\n",
      "Searching for \"Heron Dance\" by Ursula K. Le Guin...\n",
      "No results found for: 'Heron Dance Ursula K. Le Guin'\n",
      "Searching for \"Heron Dance\" by Ursula K. Le Guin...\n"
     ]
    },
    {
     "name": "stderr",
     "output_type": "stream",
     "text": [
      "  5%|███▋                                                                 | 70/1322 [03:04<50:07,  2.40s/it]"
     ]
    },
    {
     "name": "stdout",
     "output_type": "stream",
     "text": [
      "No results found for: 'Heron Dance Ursula K. Le Guin'\n",
      "Heron Dance Ursula K. Le Guin Not present in Genius\n",
      "Searching for \"Raindance, Pt. 1\" by Angelo Noce Santoro...\n",
      "No results found for: 'Raindance, Pt. 1 Angelo Noce Santoro'\n",
      "Searching for \"Raindance, Pt. 1\" by Angelo Noce Santoro...\n",
      "No results found for: 'Raindance, Pt. 1 Angelo Noce Santoro'\n",
      "Searching for \"Raindance, Pt. 1\" by Angelo Noce Santoro...\n",
      "No results found for: 'Raindance, Pt. 1 Angelo Noce Santoro'\n",
      "Searching for \"Raindance, Pt. 1\" by Angelo Noce Santoro...\n",
      "No results found for: 'Raindance, Pt. 1 Angelo Noce Santoro'\n",
      "Searching for \"Raindance, Pt. 1\" by Angelo Noce Santoro...\n"
     ]
    },
    {
     "name": "stderr",
     "output_type": "stream",
     "text": [
      "  5%|███▋                                                                 | 71/1322 [03:05<46:18,  2.22s/it]"
     ]
    },
    {
     "name": "stdout",
     "output_type": "stream",
     "text": [
      "No results found for: 'Raindance, Pt. 1 Angelo Noce Santoro'\n",
      "Raindance, Pt. 1 Angelo Noce Santoro Not present in Genius\n",
      "Searching for \"And the Darkest Hour is Just Before Dawn\" by Daniel Schmidt...\n",
      "No results found for: 'And the Darkest Hour is Just Before Dawn Daniel Schmidt'\n",
      "Searching for \"And the Darkest Hour is Just Before Dawn\" by Daniel Schmidt...\n",
      "No results found for: 'And the Darkest Hour is Just Before Dawn Daniel Schmidt'\n",
      "Searching for \"And the Darkest Hour is Just Before Dawn\" by Daniel Schmidt...\n",
      "No results found for: 'And the Darkest Hour is Just Before Dawn Daniel Schmidt'\n",
      "Searching for \"And the Darkest Hour is Just Before Dawn\" by Daniel Schmidt...\n",
      "No results found for: 'And the Darkest Hour is Just Before Dawn Daniel Schmidt'\n",
      "Searching for \"And the Darkest Hour is Just Before Dawn\" by Daniel Schmidt...\n"
     ]
    },
    {
     "name": "stderr",
     "output_type": "stream",
     "text": [
      "  5%|███▊                                                                 | 72/1322 [03:07<43:47,  2.10s/it]"
     ]
    },
    {
     "name": "stdout",
     "output_type": "stream",
     "text": [
      "No results found for: 'And the Darkest Hour is Just Before Dawn Daniel Schmidt'\n",
      "And the Darkest Hour is Just Before Dawn Daniel Schmidt Not present in Genius\n",
      "Searching for \"Galloop\" by Melodic Energy Commission...\n",
      "No results found for: 'Galloop Melodic Energy Commission'\n",
      "Searching for \"Galloop\" by Melodic Energy Commission...\n",
      "No results found for: 'Galloop Melodic Energy Commission'\n",
      "Searching for \"Galloop\" by Melodic Energy Commission...\n",
      "No results found for: 'Galloop Melodic Energy Commission'\n",
      "Searching for \"Galloop\" by Melodic Energy Commission...\n",
      "No results found for: 'Galloop Melodic Energy Commission'\n",
      "Searching for \"Galloop\" by Melodic Energy Commission...\n"
     ]
    },
    {
     "name": "stderr",
     "output_type": "stream",
     "text": [
      "  6%|███▊                                                                 | 73/1322 [03:09<41:44,  2.01s/it]"
     ]
    },
    {
     "name": "stdout",
     "output_type": "stream",
     "text": [
      "No results found for: 'Galloop Melodic Energy Commission'\n",
      "Galloop Melodic Energy Commission Not present in Genius\n",
      "Searching for \"Other Playgrounds\" by Peter Kardas...\n",
      "No results found for: 'Other Playgrounds Peter Kardas'\n",
      "Searching for \"Other Playgrounds\" by Peter Kardas...\n",
      "No results found for: 'Other Playgrounds Peter Kardas'\n",
      "Searching for \"Other Playgrounds\" by Peter Kardas...\n",
      "No results found for: 'Other Playgrounds Peter Kardas'\n",
      "Searching for \"Other Playgrounds\" by Peter Kardas...\n",
      "No results found for: 'Other Playgrounds Peter Kardas'\n",
      "Searching for \"Other Playgrounds\" by Peter Kardas...\n"
     ]
    },
    {
     "name": "stderr",
     "output_type": "stream",
     "text": [
      "  6%|███▊                                                                 | 74/1322 [03:11<40:15,  1.94s/it]"
     ]
    },
    {
     "name": "stdout",
     "output_type": "stream",
     "text": [
      "No results found for: 'Other Playgrounds Peter Kardas'\n",
      "Other Playgrounds Peter Kardas Not present in Genius\n",
      "Searching for \"Magpie\" by Caribou...\n"
     ]
    },
    {
     "name": "stderr",
     "output_type": "stream",
     "text": [
      "  6%|███▉                                                                 | 75/1322 [03:13<41:43,  2.01s/it]"
     ]
    },
    {
     "name": "stdout",
     "output_type": "stream",
     "text": [
      "Done.\n",
      "Searching for \"Erzili\" by Beverly Glenn-Copeland...\n"
     ]
    },
    {
     "name": "stderr",
     "output_type": "stream",
     "text": [
      "  6%|███▉                                                                 | 76/1322 [03:15<43:19,  2.09s/it]"
     ]
    },
    {
     "name": "stdout",
     "output_type": "stream",
     "text": [
      "Done.\n",
      "Searching for \"Terriya\" by Luka Productions...\n",
      "No results found for: 'Terriya Luka Productions'\n",
      "Searching for \"Terriya\" by Luka Productions...\n",
      "No results found for: 'Terriya Luka Productions'\n",
      "Searching for \"Terriya\" by Luka Productions...\n",
      "No results found for: 'Terriya Luka Productions'\n",
      "Searching for \"Terriya\" by Luka Productions...\n",
      "No results found for: 'Terriya Luka Productions'\n",
      "Searching for \"Terriya\" by Luka Productions...\n"
     ]
    },
    {
     "name": "stderr",
     "output_type": "stream",
     "text": [
      "  6%|████                                                                 | 77/1322 [03:17<41:51,  2.02s/it]"
     ]
    },
    {
     "name": "stdout",
     "output_type": "stream",
     "text": [
      "No results found for: 'Terriya Luka Productions'\n",
      "Terriya Luka Productions Not present in Genius\n",
      "Searching for \"Akal Akal\" by African Futurism...\n"
     ]
    },
    {
     "name": "stderr",
     "output_type": "stream",
     "text": [
      "  6%|████                                                                 | 78/1322 [03:20<46:24,  2.24s/it]"
     ]
    },
    {
     "name": "stdout",
     "output_type": "stream",
     "text": [
      "Done.\n",
      "Searching for \"Professor 3\" by Professor Rhythm...\n",
      "Specified song does not contain lyrics. Rejecting.\n",
      "Searching for \"Professor 3\" by Professor Rhythm...\n",
      "Specified song does not contain lyrics. Rejecting.\n",
      "Searching for \"Professor 3\" by Professor Rhythm...\n",
      "Specified song does not contain lyrics. Rejecting.\n",
      "Searching for \"Professor 3\" by Professor Rhythm...\n",
      "Specified song does not contain lyrics. Rejecting.\n",
      "Searching for \"Professor 3\" by Professor Rhythm...\n"
     ]
    },
    {
     "name": "stderr",
     "output_type": "stream",
     "text": [
      "  6%|████                                                                 | 79/1322 [03:22<47:58,  2.32s/it]"
     ]
    },
    {
     "name": "stdout",
     "output_type": "stream",
     "text": [
      "Specified song does not contain lyrics. Rejecting.\n",
      "Professor 3 Professor Rhythm Not present in Genius\n",
      "Searching for \"Udi Baba\" by Asha Bhosle...\n",
      "No results found for: 'Udi Baba Asha Bhosle'\n",
      "Searching for \"Udi Baba\" by Asha Bhosle...\n",
      "No results found for: 'Udi Baba Asha Bhosle'\n",
      "Searching for \"Udi Baba\" by Asha Bhosle...\n",
      "No results found for: 'Udi Baba Asha Bhosle'\n",
      "Searching for \"Udi Baba\" by Asha Bhosle...\n",
      "No results found for: 'Udi Baba Asha Bhosle'\n",
      "Searching for \"Udi Baba\" by Asha Bhosle...\n"
     ]
    },
    {
     "name": "stderr",
     "output_type": "stream",
     "text": [
      "  6%|████▏                                                                | 80/1322 [03:24<46:00,  2.22s/it]"
     ]
    },
    {
     "name": "stdout",
     "output_type": "stream",
     "text": [
      "No results found for: 'Udi Baba Asha Bhosle'\n",
      "Udi Baba Asha Bhosle Not present in Genius\n",
      "Searching for \"High Life\" by Daniel Lopatin...\n",
      "Specified song does not contain lyrics. Rejecting.\n",
      "Searching for \"High Life\" by Daniel Lopatin...\n",
      "Specified song does not contain lyrics. Rejecting.\n",
      "Searching for \"High Life\" by Daniel Lopatin...\n",
      "Specified song does not contain lyrics. Rejecting.\n",
      "Searching for \"High Life\" by Daniel Lopatin...\n",
      "Specified song does not contain lyrics. Rejecting.\n",
      "Searching for \"High Life\" by Daniel Lopatin...\n"
     ]
    },
    {
     "name": "stderr",
     "output_type": "stream",
     "text": [
      "  6%|████▏                                                                | 81/1322 [03:28<52:42,  2.55s/it]"
     ]
    },
    {
     "name": "stdout",
     "output_type": "stream",
     "text": [
      "Specified song does not contain lyrics. Rejecting.\n",
      "High Life Daniel Lopatin Not present in Genius\n",
      "Searching for \"Like I Loved You\" by Caribou...\n"
     ]
    },
    {
     "name": "stderr",
     "output_type": "stream",
     "text": [
      "  6%|████▎                                                                | 82/1322 [03:31<56:28,  2.73s/it]"
     ]
    },
    {
     "name": "stdout",
     "output_type": "stream",
     "text": [
      "Done.\n",
      "Searching for \"Blue Verb\" by Vegyn...\n"
     ]
    },
    {
     "name": "stderr",
     "output_type": "stream",
     "text": [
      "  6%|████▎                                                                | 83/1322 [03:34<59:37,  2.89s/it]"
     ]
    },
    {
     "name": "stdout",
     "output_type": "stream",
     "text": [
      "Done.\n",
      "Searching for \"Puff Lah\" by KAYTRANADA...\n",
      "Specified song does not contain lyrics. Rejecting.\n",
      "Searching for \"Puff Lah\" by KAYTRANADA...\n",
      "Specified song does not contain lyrics. Rejecting.\n",
      "Searching for \"Puff Lah\" by KAYTRANADA...\n",
      "Specified song does not contain lyrics. Rejecting.\n",
      "Searching for \"Puff Lah\" by KAYTRANADA...\n",
      "Specified song does not contain lyrics. Rejecting.\n",
      "Searching for \"Puff Lah\" by KAYTRANADA...\n"
     ]
    },
    {
     "name": "stderr",
     "output_type": "stream",
     "text": [
      "  6%|████▍                                                                | 84/1322 [03:36<53:50,  2.61s/it]"
     ]
    },
    {
     "name": "stdout",
     "output_type": "stream",
     "text": [
      "Specified song does not contain lyrics. Rejecting.\n",
      "Puff Lah KAYTRANADA Not present in Genius\n",
      "Searching for \"Bicycle Ride\" by Bruno Spoerri...\n",
      "No results found for: 'Bicycle Ride Bruno Spoerri'\n",
      "Searching for \"Bicycle Ride\" by Bruno Spoerri...\n",
      "No results found for: 'Bicycle Ride Bruno Spoerri'\n",
      "Searching for \"Bicycle Ride\" by Bruno Spoerri...\n",
      "No results found for: 'Bicycle Ride Bruno Spoerri'\n",
      "Searching for \"Bicycle Ride\" by Bruno Spoerri...\n",
      "No results found for: 'Bicycle Ride Bruno Spoerri'\n",
      "Searching for \"Bicycle Ride\" by Bruno Spoerri...\n"
     ]
    },
    {
     "name": "stderr",
     "output_type": "stream",
     "text": [
      "  6%|████▍                                                                | 85/1322 [03:38<52:29,  2.55s/it]"
     ]
    },
    {
     "name": "stdout",
     "output_type": "stream",
     "text": [
      "No results found for: 'Bicycle Ride Bruno Spoerri'\n",
      "Bicycle Ride Bruno Spoerri Not present in Genius\n",
      "Searching for \"Riversong\" by Tonto's Expanding Head Band...\n",
      "No results found for: 'Riversong Tonto's Expanding Head Band'\n",
      "Searching for \"Riversong\" by Tonto's Expanding Head Band...\n",
      "No results found for: 'Riversong Tonto's Expanding Head Band'\n",
      "Searching for \"Riversong\" by Tonto's Expanding Head Band...\n",
      "No results found for: 'Riversong Tonto's Expanding Head Band'\n",
      "Searching for \"Riversong\" by Tonto's Expanding Head Band...\n",
      "No results found for: 'Riversong Tonto's Expanding Head Band'\n",
      "Searching for \"Riversong\" by Tonto's Expanding Head Band...\n"
     ]
    },
    {
     "name": "stderr",
     "output_type": "stream",
     "text": [
      "  7%|████▍                                                                | 86/1322 [03:41<49:51,  2.42s/it]"
     ]
    },
    {
     "name": "stdout",
     "output_type": "stream",
     "text": [
      "No results found for: 'Riversong Tonto's Expanding Head Band'\n",
      "Riversong Tonto's Expanding Head Band Not present in Genius\n",
      "Searching for \"Independent Woman\" by Jan Jones...\n"
     ]
    },
    {
     "name": "stderr",
     "output_type": "stream",
     "text": [
      "  7%|████▍                                                              | 87/1322 [03:46<1:10:30,  3.43s/it]"
     ]
    },
    {
     "name": "stdout",
     "output_type": "stream",
     "text": [
      "Done.\n",
      "Searching for \"Why Can't There Be Love\" by Dee Edwards...\n"
     ]
    },
    {
     "name": "stderr",
     "output_type": "stream",
     "text": [
      "  7%|████▍                                                              | 88/1322 [03:49<1:05:36,  3.19s/it]"
     ]
    },
    {
     "name": "stdout",
     "output_type": "stream",
     "text": [
      "Done.\n",
      "Searching for \"Creation Dubwise\" by Itopia...\n",
      "No results found for: 'Creation Dubwise Itopia'\n",
      "Searching for \"Creation Dubwise\" by Itopia...\n",
      "No results found for: 'Creation Dubwise Itopia'\n",
      "Searching for \"Creation Dubwise\" by Itopia...\n",
      "No results found for: 'Creation Dubwise Itopia'\n",
      "Searching for \"Creation Dubwise\" by Itopia...\n",
      "No results found for: 'Creation Dubwise Itopia'\n",
      "Searching for \"Creation Dubwise\" by Itopia...\n"
     ]
    },
    {
     "name": "stderr",
     "output_type": "stream",
     "text": [
      "  7%|████▋                                                                | 89/1322 [03:51<56:32,  2.75s/it]"
     ]
    },
    {
     "name": "stdout",
     "output_type": "stream",
     "text": [
      "No results found for: 'Creation Dubwise Itopia'\n",
      "Creation Dubwise Itopia Not present in Genius\n",
      "Searching for \"Shikako Maru Ten\" by CAN...\n"
     ]
    },
    {
     "name": "stderr",
     "output_type": "stream",
     "text": [
      "  7%|████▋                                                                | 90/1322 [03:53<55:12,  2.69s/it]"
     ]
    },
    {
     "name": "stdout",
     "output_type": "stream",
     "text": [
      "Done.\n",
      "Searching for \"Color of Anyhow\" by Beverly Glenn-Copeland...\n"
     ]
    },
    {
     "name": "stderr",
     "output_type": "stream",
     "text": [
      "  7%|████▋                                                                | 91/1322 [03:56<54:33,  2.66s/it]"
     ]
    },
    {
     "name": "stdout",
     "output_type": "stream",
     "text": [
      "Done.\n",
      "Searching for \"Cherry-coloured Funk\" by Cocteau Twins...\n",
      "No results found for: 'Cherry-coloured Funk Cocteau Twins'\n",
      "Searching for \"Cherry-coloured Funk\" by Cocteau Twins...\n",
      "No results found for: 'Cherry-coloured Funk Cocteau Twins'\n",
      "Searching for \"Cherry-coloured Funk\" by Cocteau Twins...\n",
      "No results found for: 'Cherry-coloured Funk Cocteau Twins'\n",
      "Searching for \"Cherry-coloured Funk\" by Cocteau Twins...\n",
      "No results found for: 'Cherry-coloured Funk Cocteau Twins'\n",
      "Searching for \"Cherry-coloured Funk\" by Cocteau Twins...\n"
     ]
    },
    {
     "name": "stderr",
     "output_type": "stream",
     "text": [
      "  7%|████▊                                                                | 92/1322 [03:58<49:58,  2.44s/it]"
     ]
    },
    {
     "name": "stdout",
     "output_type": "stream",
     "text": [
      "No results found for: 'Cherry-coloured Funk Cocteau Twins'\n",
      "Cherry-coloured Funk Cocteau Twins Not present in Genius\n",
      "Searching for \"Feel It In The Air\" by Beanie Sigel...\n"
     ]
    },
    {
     "name": "stderr",
     "output_type": "stream",
     "text": [
      "  7%|████▊                                                                | 93/1322 [04:00<48:09,  2.35s/it]"
     ]
    },
    {
     "name": "stdout",
     "output_type": "stream",
     "text": [
      "Done.\n",
      "Searching for \"Cops Shot The Kid\" by Nas...\n"
     ]
    },
    {
     "name": "stderr",
     "output_type": "stream",
     "text": [
      "  7%|████▉                                                                | 94/1322 [04:02<45:25,  2.22s/it]"
     ]
    },
    {
     "name": "stdout",
     "output_type": "stream",
     "text": [
      "Done.\n",
      "Searching for \"Indian Flute\" by Timbaland...\n"
     ]
    },
    {
     "name": "stderr",
     "output_type": "stream",
     "text": [
      "  7%|████▉                                                                | 95/1322 [04:06<55:11,  2.70s/it]"
     ]
    },
    {
     "name": "stdout",
     "output_type": "stream",
     "text": [
      "Done.\n",
      "Searching for \"Sona Rupa Layo Re - Joshila / Soundtrack Version\" by Asha Bhosle...\n",
      "No results found for: 'Sona Rupa Layo Re - Joshila / Soundtrack Version Asha Bhosle'\n",
      "Searching for \"Sona Rupa Layo Re - Joshila / Soundtrack Version\" by Asha Bhosle...\n",
      "No results found for: 'Sona Rupa Layo Re - Joshila / Soundtrack Version Asha Bhosle'\n",
      "Searching for \"Sona Rupa Layo Re - Joshila / Soundtrack Version\" by Asha Bhosle...\n",
      "No results found for: 'Sona Rupa Layo Re - Joshila / Soundtrack Version Asha Bhosle'\n",
      "Searching for \"Sona Rupa Layo Re - Joshila / Soundtrack Version\" by Asha Bhosle...\n",
      "No results found for: 'Sona Rupa Layo Re - Joshila / Soundtrack Version Asha Bhosle'\n",
      "Searching for \"Sona Rupa Layo Re - Joshila / Soundtrack Version\" by Asha Bhosle...\n"
     ]
    },
    {
     "name": "stderr",
     "output_type": "stream",
     "text": [
      "  7%|█████                                                                | 96/1322 [04:07<49:36,  2.43s/it]"
     ]
    },
    {
     "name": "stdout",
     "output_type": "stream",
     "text": [
      "No results found for: 'Sona Rupa Layo Re - Joshila / Soundtrack Version Asha Bhosle'\n",
      "Sona Rupa Layo Re - Joshila / Soundtrack Version Asha Bhosle Not present in Genius\n",
      "Searching for \"SW9 9SL\" by Four Tet...\n",
      "Specified song does not contain lyrics. Rejecting.\n",
      "Searching for \"SW9 9SL\" by Four Tet...\n",
      "Specified song does not contain lyrics. Rejecting.\n",
      "Searching for \"SW9 9SL\" by Four Tet...\n",
      "Specified song does not contain lyrics. Rejecting.\n",
      "Searching for \"SW9 9SL\" by Four Tet...\n",
      "Specified song does not contain lyrics. Rejecting.\n",
      "Searching for \"SW9 9SL\" by Four Tet...\n"
     ]
    },
    {
     "name": "stderr",
     "output_type": "stream",
     "text": [
      "  7%|█████                                                                | 97/1322 [04:09<46:04,  2.26s/it]"
     ]
    },
    {
     "name": "stdout",
     "output_type": "stream",
     "text": [
      "Specified song does not contain lyrics. Rejecting.\n",
      "SW9 9SL Four Tet Not present in Genius\n",
      "Searching for \"DJ Logic Please Forgive Me\" by Logic1000...\n"
     ]
    },
    {
     "name": "stderr",
     "output_type": "stream",
     "text": [
      "  7%|█████                                                                | 98/1322 [04:11<45:13,  2.22s/it]"
     ]
    },
    {
     "name": "stdout",
     "output_type": "stream",
     "text": [
      "Done.\n",
      "Searching for \"Never Come Back\" by Caribou...\n"
     ]
    },
    {
     "name": "stderr",
     "output_type": "stream",
     "text": [
      "  7%|█████▏                                                               | 99/1322 [04:13<42:14,  2.07s/it]"
     ]
    },
    {
     "name": "stdout",
     "output_type": "stream",
     "text": [
      "Done.\n",
      "Searching for \"Joy TV\" by Lxury...\n"
     ]
    },
    {
     "name": "stderr",
     "output_type": "stream",
     "text": [
      "  8%|█████▏                                                              | 100/1322 [04:17<55:16,  2.71s/it]"
     ]
    },
    {
     "name": "stdout",
     "output_type": "stream",
     "text": [
      "Done.\n",
      "Searching for \"Charlev\" by Oliver Coates...\n"
     ]
    },
    {
     "name": "stderr",
     "output_type": "stream",
     "text": [
      "  8%|█████                                                             | 101/1322 [04:21<1:00:05,  2.95s/it]"
     ]
    },
    {
     "name": "stdout",
     "output_type": "stream",
     "text": [
      "Done.\n",
      "Searching for \"Loop132 - Original Mix\" by Mark Broom...\n",
      "No results found for: 'Loop132 - Original Mix Mark Broom'\n",
      "Searching for \"Loop132 - Original Mix\" by Mark Broom...\n",
      "No results found for: 'Loop132 - Original Mix Mark Broom'\n",
      "Searching for \"Loop132 - Original Mix\" by Mark Broom...\n",
      "No results found for: 'Loop132 - Original Mix Mark Broom'\n",
      "Searching for \"Loop132 - Original Mix\" by Mark Broom...\n",
      "No results found for: 'Loop132 - Original Mix Mark Broom'\n",
      "Searching for \"Loop132 - Original Mix\" by Mark Broom...\n"
     ]
    },
    {
     "name": "stderr",
     "output_type": "stream",
     "text": [
      "  8%|█████▏                                                              | 102/1322 [04:23<52:38,  2.59s/it]"
     ]
    },
    {
     "name": "stdout",
     "output_type": "stream",
     "text": [
      "No results found for: 'Loop132 - Original Mix Mark Broom'\n",
      "Loop132 - Original Mix Mark Broom Not present in Genius\n",
      "Searching for \"New Jade\" by Caribou...\n"
     ]
    },
    {
     "name": "stderr",
     "output_type": "stream",
     "text": [
      "  8%|█████▎                                                              | 103/1322 [04:25<53:34,  2.64s/it]"
     ]
    },
    {
     "name": "stdout",
     "output_type": "stream",
     "text": [
      "Done.\n",
      "Searching for \"Tsunami\" by Benoit Widemann...\n",
      "No results found for: 'Tsunami Benoit Widemann'\n",
      "Searching for \"Tsunami\" by Benoit Widemann...\n",
      "No results found for: 'Tsunami Benoit Widemann'\n",
      "Searching for \"Tsunami\" by Benoit Widemann...\n",
      "No results found for: 'Tsunami Benoit Widemann'\n",
      "Searching for \"Tsunami\" by Benoit Widemann...\n",
      "No results found for: 'Tsunami Benoit Widemann'\n",
      "Searching for \"Tsunami\" by Benoit Widemann...\n"
     ]
    },
    {
     "name": "stderr",
     "output_type": "stream",
     "text": [
      "  8%|█████▎                                                              | 104/1322 [04:27<48:04,  2.37s/it]"
     ]
    },
    {
     "name": "stdout",
     "output_type": "stream",
     "text": [
      "No results found for: 'Tsunami Benoit Widemann'\n",
      "Tsunami Benoit Widemann Not present in Genius\n",
      "Searching for \"Les dunes d'ostende (Original Motion Picture Soundtrack)\" by François de Roubaix...\n",
      "No results found for: 'Les dunes d'ostende (Original Motion Picture Soundtrack) François de Roubaix'\n",
      "Searching for \"Les dunes d'ostende (Original Motion Picture Soundtrack)\" by François de Roubaix...\n",
      "No results found for: 'Les dunes d'ostende (Original Motion Picture Soundtrack) François de Roubaix'\n",
      "Searching for \"Les dunes d'ostende (Original Motion Picture Soundtrack)\" by François de Roubaix...\n",
      "No results found for: 'Les dunes d'ostende (Original Motion Picture Soundtrack) François de Roubaix'\n",
      "Searching for \"Les dunes d'ostende (Original Motion Picture Soundtrack)\" by François de Roubaix...\n",
      "No results found for: 'Les dunes d'ostende (Original Motion Picture Soundtrack) François de Roubaix'\n",
      "Searching for \"Les dunes d'ostende (Original Motion Picture Soundtrack)\" by François de Roubaix...\n"
     ]
    },
    {
     "name": "stderr",
     "output_type": "stream",
     "text": [
      "  8%|█████▍                                                              | 105/1322 [04:29<44:43,  2.20s/it]"
     ]
    },
    {
     "name": "stdout",
     "output_type": "stream",
     "text": [
      "No results found for: 'Les dunes d'ostende (Original Motion Picture Soundtrack) François de Roubaix'\n",
      "Les dunes d'ostende (Original Motion Picture Soundtrack) François de Roubaix Not present in Genius\n",
      "Searching for \"Forget Me\" by Born Ruffians...\n"
     ]
    },
    {
     "name": "stderr",
     "output_type": "stream",
     "text": [
      "  8%|█████▍                                                              | 106/1322 [04:32<50:12,  2.48s/it]"
     ]
    },
    {
     "name": "stdout",
     "output_type": "stream",
     "text": [
      "Done.\n",
      "Searching for \"The Valley of the Ultra Blacks\" by Binker and Moses...\n"
     ]
    },
    {
     "name": "stderr",
     "output_type": "stream",
     "text": [
      "  8%|█████▌                                                              | 107/1322 [04:35<55:01,  2.72s/it]"
     ]
    },
    {
     "name": "stdout",
     "output_type": "stream",
     "text": [
      "Done.\n",
      "Searching for \"The Empress And The Ukraine King\" by CAN...\n"
     ]
    },
    {
     "name": "stderr",
     "output_type": "stream",
     "text": [
      "  8%|█████▌                                                              | 108/1322 [04:38<53:31,  2.65s/it]"
     ]
    },
    {
     "name": "stdout",
     "output_type": "stream",
     "text": [
      "Done.\n",
      "Searching for \"La soupeuse\" by Jeanne Folly...\n"
     ]
    },
    {
     "name": "stderr",
     "output_type": "stream",
     "text": [
      "  8%|█████▌                                                              | 109/1322 [04:40<50:29,  2.50s/it]"
     ]
    },
    {
     "name": "stdout",
     "output_type": "stream",
     "text": [
      "Done.\n",
      "Searching for \"Music\" by The Headhunters...\n",
      "Specified song does not contain lyrics. Rejecting.\n",
      "Searching for \"Music\" by The Headhunters...\n",
      "Specified song does not contain lyrics. Rejecting.\n",
      "Searching for \"Music\" by The Headhunters...\n",
      "Specified song does not contain lyrics. Rejecting.\n",
      "Searching for \"Music\" by The Headhunters...\n",
      "Specified song does not contain lyrics. Rejecting.\n",
      "Searching for \"Music\" by The Headhunters...\n"
     ]
    },
    {
     "name": "stderr",
     "output_type": "stream",
     "text": [
      "  8%|█████▋                                                              | 110/1322 [04:42<48:41,  2.41s/it]"
     ]
    },
    {
     "name": "stdout",
     "output_type": "stream",
     "text": [
      "Specified song does not contain lyrics. Rejecting.\n",
      "Music The Headhunters Not present in Genius\n",
      "Searching for \"Ultra Marina (1988)\" by Nuno Canavarro...\n",
      "No results found for: 'Ultra Marina (1988) Nuno Canavarro'\n",
      "Searching for \"Ultra Marina (1988)\" by Nuno Canavarro...\n",
      "No results found for: 'Ultra Marina (1988) Nuno Canavarro'\n",
      "Searching for \"Ultra Marina (1988)\" by Nuno Canavarro...\n",
      "No results found for: 'Ultra Marina (1988) Nuno Canavarro'\n",
      "Searching for \"Ultra Marina (1988)\" by Nuno Canavarro...\n",
      "No results found for: 'Ultra Marina (1988) Nuno Canavarro'\n",
      "Searching for \"Ultra Marina (1988)\" by Nuno Canavarro...\n"
     ]
    },
    {
     "name": "stderr",
     "output_type": "stream",
     "text": [
      "  8%|█████▋                                                              | 111/1322 [04:44<46:11,  2.29s/it]"
     ]
    },
    {
     "name": "stdout",
     "output_type": "stream",
     "text": [
      "No results found for: 'Ultra Marina (1988) Nuno Canavarro'\n",
      "Ultra Marina (1988) Nuno Canavarro Not present in Genius\n",
      "Searching for \"Detail For Paul\" by The Durutti Column...\n",
      "Specified song does not contain lyrics. Rejecting.\n",
      "Searching for \"Detail For Paul\" by The Durutti Column...\n",
      "Specified song does not contain lyrics. Rejecting.\n",
      "Searching for \"Detail For Paul\" by The Durutti Column...\n",
      "Specified song does not contain lyrics. Rejecting.\n",
      "Searching for \"Detail For Paul\" by The Durutti Column...\n",
      "Specified song does not contain lyrics. Rejecting.\n",
      "Searching for \"Detail For Paul\" by The Durutti Column...\n"
     ]
    },
    {
     "name": "stderr",
     "output_type": "stream",
     "text": [
      "  8%|█████▊                                                              | 112/1322 [04:46<43:45,  2.17s/it]"
     ]
    },
    {
     "name": "stdout",
     "output_type": "stream",
     "text": [
      "Specified song does not contain lyrics. Rejecting.\n",
      "Detail For Paul The Durutti Column Not present in Genius\n",
      "Searching for \"See-Through\" by Arthur Russell...\n"
     ]
    },
    {
     "name": "stderr",
     "output_type": "stream",
     "text": [
      "  9%|█████▊                                                              | 113/1322 [04:48<42:36,  2.11s/it]"
     ]
    },
    {
     "name": "stdout",
     "output_type": "stream",
     "text": [
      "Done.\n",
      "Searching for \"Home\" by Gloria Barnes...\n"
     ]
    },
    {
     "name": "stderr",
     "output_type": "stream",
     "text": [
      "  9%|█████▊                                                              | 114/1322 [04:50<42:33,  2.11s/it]"
     ]
    },
    {
     "name": "stdout",
     "output_type": "stream",
     "text": [
      "Done.\n",
      "Searching for \"Ready Or Not Here I Come (Can't Hide From Love)\" by The Delfonics...\n",
      "No results found for: 'Ready Or Not Here I Come (Can't Hide From Love) The Delfonics'\n",
      "Searching for \"Ready Or Not Here I Come (Can't Hide From Love)\" by The Delfonics...\n",
      "No results found for: 'Ready Or Not Here I Come (Can't Hide From Love) The Delfonics'\n",
      "Searching for \"Ready Or Not Here I Come (Can't Hide From Love)\" by The Delfonics...\n",
      "No results found for: 'Ready Or Not Here I Come (Can't Hide From Love) The Delfonics'\n",
      "Searching for \"Ready Or Not Here I Come (Can't Hide From Love)\" by The Delfonics...\n",
      "No results found for: 'Ready Or Not Here I Come (Can't Hide From Love) The Delfonics'\n",
      "Searching for \"Ready Or Not Here I Come (Can't Hide From Love)\" by The Delfonics...\n"
     ]
    },
    {
     "name": "stderr",
     "output_type": "stream",
     "text": [
      "  9%|█████▉                                                              | 115/1322 [04:52<40:35,  2.02s/it]"
     ]
    },
    {
     "name": "stdout",
     "output_type": "stream",
     "text": [
      "No results found for: 'Ready Or Not Here I Come (Can't Hide From Love) The Delfonics'\n",
      "Ready Or Not Here I Come (Can't Hide From Love) The Delfonics Not present in Genius\n",
      "Searching for \"The Games We Play\" by Pusha T...\n"
     ]
    },
    {
     "name": "stderr",
     "output_type": "stream",
     "text": [
      "  9%|█████▉                                                              | 116/1322 [04:57<58:35,  2.92s/it]"
     ]
    },
    {
     "name": "stdout",
     "output_type": "stream",
     "text": [
      "Done.\n",
      "Searching for \"In My Room\" by Frank Ocean...\n"
     ]
    },
    {
     "name": "stderr",
     "output_type": "stream",
     "text": [
      "  9%|█████▊                                                            | 117/1322 [05:01<1:05:06,  3.24s/it]"
     ]
    },
    {
     "name": "stdout",
     "output_type": "stream",
     "text": [
      "Done.\n",
      "Searching for \"Because\" by Smerz...\n"
     ]
    },
    {
     "name": "stderr",
     "output_type": "stream",
     "text": [
      "  9%|█████▉                                                            | 118/1322 [05:04<1:06:27,  3.31s/it]"
     ]
    },
    {
     "name": "stdout",
     "output_type": "stream",
     "text": [
      "Done.\n",
      "Searching for \"ʅ͡͡͡͡͡͡͡͡͡͡͡(ƟӨ)ʃ͡͡͡͡͡͡͡͡͡͡ ꐑ(ཀ ඊູ ఠీੂ೧ູ࿃ूੂ✧✧✧✧✧✧ළඕั࿃ूੂ࿃ूੂ\" by ⣎⡇ꉺლ༽இ•̛)ྀ◞ ༎ຶ ༽ৣৢ؞ৢ؞ؖ ꉺლ...\n",
      "No results found for: 'ʅ͡͡͡͡͡͡͡͡͡͡͡(ƟӨ)ʃ͡͡͡͡͡͡͡͡͡͡ ꐑ(ཀ ඊູ ఠీੂ೧ູ࿃ूੂ✧✧✧✧✧✧ළඕั࿃ूੂ࿃ूੂ ⣎⡇ꉺლ༽இ•̛)ྀ◞ ༎ຶ ༽ৣৢ؞ৢ؞ؖ ꉺლ'\n",
      "Searching for \"ʅ͡͡͡͡͡͡͡͡͡͡͡(ƟӨ)ʃ͡͡͡͡͡͡͡͡͡͡ ꐑ(ཀ ඊູ ఠీੂ೧ູ࿃ूੂ✧✧✧✧✧✧ළඕั࿃ूੂ࿃ूੂ\" by ⣎⡇ꉺლ༽இ•̛)ྀ◞ ༎ຶ ༽ৣৢ؞ৢ؞ؖ ꉺლ...\n",
      "No results found for: 'ʅ͡͡͡͡͡͡͡͡͡͡͡(ƟӨ)ʃ͡͡͡͡͡͡͡͡͡͡ ꐑ(ཀ ඊູ ఠీੂ೧ູ࿃ूੂ✧✧✧✧✧✧ළඕั࿃ूੂ࿃ूੂ ⣎⡇ꉺლ༽இ•̛)ྀ◞ ༎ຶ ༽ৣৢ؞ৢ؞ؖ ꉺლ'\n",
      "Searching for \"ʅ͡͡͡͡͡͡͡͡͡͡͡(ƟӨ)ʃ͡͡͡͡͡͡͡͡͡͡ ꐑ(ཀ ඊູ ఠీੂ೧ູ࿃ूੂ✧✧✧✧✧✧ළඕั࿃ूੂ࿃ूੂ\" by ⣎⡇ꉺლ༽இ•̛)ྀ◞ ༎ຶ ༽ৣৢ؞ৢ؞ؖ ꉺლ...\n",
      "No results found for: 'ʅ͡͡͡͡͡͡͡͡͡͡͡(ƟӨ)ʃ͡͡͡͡͡͡͡͡͡͡ ꐑ(ཀ ඊູ ఠీੂ೧ູ࿃ूੂ✧✧✧✧✧✧ළඕั࿃ूੂ࿃ूੂ ⣎⡇ꉺლ༽இ•̛)ྀ◞ ༎ຶ ༽ৣৢ؞ৢ؞ؖ ꉺლ'\n",
      "Searching for \"ʅ͡͡͡͡͡͡͡͡͡͡͡(ƟӨ)ʃ͡͡͡͡͡͡͡͡͡͡ ꐑ(ཀ ඊູ ఠీੂ೧ູ࿃ूੂ✧✧✧✧✧✧ළඕั࿃ूੂ࿃ूੂ\" by ⣎⡇ꉺლ༽இ•̛)ྀ◞ ༎ຶ ༽ৣৢ؞ৢ؞ؖ ꉺლ...\n",
      "No results found for: 'ʅ͡͡͡͡͡͡͡͡͡͡͡(ƟӨ)ʃ͡͡͡͡͡͡͡͡͡͡ ꐑ(ཀ ඊູ ఠీੂ೧ູ࿃ूੂ✧✧✧✧✧✧ළඕั࿃ूੂ࿃ूੂ ⣎⡇ꉺლ༽இ•̛)ྀ◞ ༎ຶ ༽ৣৢ؞ৢ؞ؖ ꉺლ'\n",
      "Searching for \"ʅ͡͡͡͡͡͡͡͡͡͡͡(ƟӨ)ʃ͡͡͡͡͡͡͡͡͡͡ ꐑ(ཀ ඊູ ఠీੂ೧ູ࿃ूੂ✧✧✧✧✧✧ළඕั࿃ूੂ࿃ूੂ\" by ⣎⡇ꉺლ༽இ•̛)ྀ◞ ༎ຶ ༽ৣৢ؞ৢ؞ؖ ꉺლ...\n"
     ]
    },
    {
     "name": "stderr",
     "output_type": "stream",
     "text": [
      "  9%|██████                                                              | 119/1322 [05:06<57:24,  2.86s/it]"
     ]
    },
    {
     "name": "stdout",
     "output_type": "stream",
     "text": [
      "No results found for: 'ʅ͡͡͡͡͡͡͡͡͡͡͡(ƟӨ)ʃ͡͡͡͡͡͡͡͡͡͡ ꐑ(ཀ ඊູ ఠీੂ೧ູ࿃ूੂ✧✧✧✧✧✧ළඕั࿃ूੂ࿃ूੂ ⣎⡇ꉺლ༽இ•̛)ྀ◞ ༎ຶ ༽ৣৢ؞ৢ؞ؖ ꉺლ'\n",
      "ʅ͡͡͡͡͡͡͡͡͡͡͡(ƟӨ)ʃ͡͡͡͡͡͡͡͡͡͡ ꐑ(ཀ ඊູ ఠీੂ೧ູ࿃ूੂ✧✧✧✧✧✧ළඕั࿃ूੂ࿃ूੂ ⣎⡇ꉺლ༽இ•̛)ྀ◞ ༎ຶ ༽ৣৢ؞ৢ؞ؖ ꉺლ Not present in Genius\n",
      "Searching for \"Easy Rider\" by Action Bronson...\n"
     ]
    },
    {
     "name": "stderr",
     "output_type": "stream",
     "text": [
      "  9%|█████▉                                                            | 120/1322 [05:13<1:20:59,  4.04s/it]"
     ]
    },
    {
     "name": "stdout",
     "output_type": "stream",
     "text": [
      "Done.\n",
      "Searching for \"Mafatshi Leh\" by Al Massrieen...\n",
      "No results found for: 'Mafatshi Leh Al Massrieen'\n",
      "Searching for \"Mafatshi Leh\" by Al Massrieen...\n",
      "No results found for: 'Mafatshi Leh Al Massrieen'\n",
      "Searching for \"Mafatshi Leh\" by Al Massrieen...\n",
      "No results found for: 'Mafatshi Leh Al Massrieen'\n",
      "Searching for \"Mafatshi Leh\" by Al Massrieen...\n",
      "No results found for: 'Mafatshi Leh Al Massrieen'\n",
      "Searching for \"Mafatshi Leh\" by Al Massrieen...\n"
     ]
    },
    {
     "name": "stderr",
     "output_type": "stream",
     "text": [
      "  9%|██████                                                            | 121/1322 [05:15<1:09:59,  3.50s/it]"
     ]
    },
    {
     "name": "stdout",
     "output_type": "stream",
     "text": [
      "No results found for: 'Mafatshi Leh Al Massrieen'\n",
      "Mafatshi Leh Al Massrieen Not present in Genius\n",
      "Searching for \"Butterfly Effect\" by Shinichi Atobe...\n",
      "No results found for: 'Butterfly Effect Shinichi Atobe'\n",
      "Searching for \"Butterfly Effect\" by Shinichi Atobe...\n",
      "No results found for: 'Butterfly Effect Shinichi Atobe'\n",
      "Searching for \"Butterfly Effect\" by Shinichi Atobe...\n",
      "No results found for: 'Butterfly Effect Shinichi Atobe'\n",
      "Searching for \"Butterfly Effect\" by Shinichi Atobe...\n",
      "No results found for: 'Butterfly Effect Shinichi Atobe'\n",
      "Searching for \"Butterfly Effect\" by Shinichi Atobe...\n"
     ]
    },
    {
     "name": "stderr",
     "output_type": "stream",
     "text": [
      "  9%|██████▎                                                             | 122/1322 [05:17<59:38,  2.98s/it]"
     ]
    },
    {
     "name": "stdout",
     "output_type": "stream",
     "text": [
      "No results found for: 'Butterfly Effect Shinichi Atobe'\n",
      "Butterfly Effect Shinichi Atobe Not present in Genius\n",
      "Searching for \"You Owe Me\" by Vegyn...\n"
     ]
    },
    {
     "name": "stderr",
     "output_type": "stream",
     "text": [
      "  9%|██████▎                                                             | 123/1322 [05:19<53:13,  2.66s/it]"
     ]
    },
    {
     "name": "stdout",
     "output_type": "stream",
     "text": [
      "Done.\n",
      "Searching for \"Dissan Na M'bera\" by Super Mama Djombo...\n",
      "No results found for: 'Dissan Na M'bera Super Mama Djombo'\n",
      "Searching for \"Dissan Na M'bera\" by Super Mama Djombo...\n",
      "No results found for: 'Dissan Na M'bera Super Mama Djombo'\n",
      "Searching for \"Dissan Na M'bera\" by Super Mama Djombo...\n",
      "No results found for: 'Dissan Na M'bera Super Mama Djombo'\n",
      "Searching for \"Dissan Na M'bera\" by Super Mama Djombo...\n",
      "No results found for: 'Dissan Na M'bera Super Mama Djombo'\n",
      "Searching for \"Dissan Na M'bera\" by Super Mama Djombo...\n"
     ]
    },
    {
     "name": "stderr",
     "output_type": "stream",
     "text": [
      "  9%|██████▍                                                             | 124/1322 [05:21<48:08,  2.41s/it]"
     ]
    },
    {
     "name": "stdout",
     "output_type": "stream",
     "text": [
      "No results found for: 'Dissan Na M'bera Super Mama Djombo'\n",
      "Dissan Na M'bera Super Mama Djombo Not present in Genius\n",
      "Searching for \"Mabelle\" by Ruth...\n"
     ]
    },
    {
     "name": "stderr",
     "output_type": "stream",
     "text": [
      "  9%|██████▍                                                             | 125/1322 [05:23<48:16,  2.42s/it]"
     ]
    },
    {
     "name": "stdout",
     "output_type": "stream",
     "text": [
      "Done.\n",
      "Searching for \"Baby That's Backatcha\" by Smokey Robinson...\n"
     ]
    },
    {
     "name": "stderr",
     "output_type": "stream",
     "text": [
      " 10%|██████▍                                                             | 126/1322 [05:26<49:23,  2.48s/it]"
     ]
    },
    {
     "name": "stdout",
     "output_type": "stream",
     "text": [
      "Done.\n",
      "Searching for \"N' Nafanta\" by The Ousmane Kouyate Band...\n",
      "No results found for: 'N' Nafanta The Ousmane Kouyate Band'\n",
      "Searching for \"N' Nafanta\" by The Ousmane Kouyate Band...\n",
      "No results found for: 'N' Nafanta The Ousmane Kouyate Band'\n",
      "Searching for \"N' Nafanta\" by The Ousmane Kouyate Band...\n",
      "No results found for: 'N' Nafanta The Ousmane Kouyate Band'\n",
      "Searching for \"N' Nafanta\" by The Ousmane Kouyate Band...\n",
      "No results found for: 'N' Nafanta The Ousmane Kouyate Band'\n",
      "Searching for \"N' Nafanta\" by The Ousmane Kouyate Band...\n"
     ]
    },
    {
     "name": "stderr",
     "output_type": "stream",
     "text": [
      " 10%|██████▌                                                             | 127/1322 [05:28<45:41,  2.29s/it]"
     ]
    },
    {
     "name": "stdout",
     "output_type": "stream",
     "text": [
      "No results found for: 'N' Nafanta The Ousmane Kouyate Band'\n",
      "N' Nafanta The Ousmane Kouyate Band Not present in Genius\n",
      "Searching for \"Flight 2\" by Angelo & Eighteen...\n"
     ]
    },
    {
     "name": "stderr",
     "output_type": "stream",
     "text": [
      " 10%|██████▌                                                             | 128/1322 [05:30<43:54,  2.21s/it]"
     ]
    },
    {
     "name": "stdout",
     "output_type": "stream",
     "text": [
      "Done.\n",
      "Searching for \"Only You\" by Steve Monite...\n"
     ]
    },
    {
     "name": "stderr",
     "output_type": "stream",
     "text": [
      " 10%|██████▋                                                             | 129/1322 [05:33<48:21,  2.43s/it]"
     ]
    },
    {
     "name": "stdout",
     "output_type": "stream",
     "text": [
      "Done.\n",
      "Searching for \"Daydreaming\" by Radiohead...\n"
     ]
    },
    {
     "name": "stderr",
     "output_type": "stream",
     "text": [
      " 10%|██████▋                                                             | 130/1322 [05:37<59:04,  2.97s/it]"
     ]
    },
    {
     "name": "stdout",
     "output_type": "stream",
     "text": [
      "Done.\n",
      "Searching for \"Admire\" by Fango...\n"
     ]
    },
    {
     "name": "stderr",
     "output_type": "stream",
     "text": [
      " 10%|██████▋                                                             | 131/1322 [05:39<53:59,  2.72s/it]"
     ]
    },
    {
     "name": "stdout",
     "output_type": "stream",
     "text": [
      "Done.\n",
      "Searching for \"Speed It Up\" by Gunna...\n"
     ]
    },
    {
     "name": "stderr",
     "output_type": "stream",
     "text": [
      " 10%|██████▊                                                             | 132/1322 [05:42<57:23,  2.89s/it]"
     ]
    },
    {
     "name": "stdout",
     "output_type": "stream",
     "text": [
      "Done.\n",
      "Searching for \"30 Hours\" by Kanye West...\n"
     ]
    },
    {
     "name": "stderr",
     "output_type": "stream",
     "text": [
      " 10%|██████▋                                                           | 133/1322 [05:47<1:10:20,  3.55s/it]"
     ]
    },
    {
     "name": "stdout",
     "output_type": "stream",
     "text": [
      "Done.\n",
      "Searching for \"Volume 2A\" by The Truper...\n",
      "No results found for: 'Volume 2A The Truper'\n",
      "Searching for \"Volume 2A\" by The Truper...\n",
      "No results found for: 'Volume 2A The Truper'\n",
      "Searching for \"Volume 2A\" by The Truper...\n",
      "No results found for: 'Volume 2A The Truper'\n",
      "Searching for \"Volume 2A\" by The Truper...\n",
      "No results found for: 'Volume 2A The Truper'\n",
      "Searching for \"Volume 2A\" by The Truper...\n"
     ]
    },
    {
     "name": "stderr",
     "output_type": "stream",
     "text": [
      " 10%|██████▉                                                             | 134/1322 [05:49<59:33,  3.01s/it]"
     ]
    },
    {
     "name": "stdout",
     "output_type": "stream",
     "text": [
      "No results found for: 'Volume 2A The Truper'\n",
      "Volume 2A The Truper Not present in Genius\n",
      "Searching for \"Afro Blue\" by Momo Wandel Soumah...\n",
      "No results found for: 'Afro Blue Momo Wandel Soumah'\n",
      "Searching for \"Afro Blue\" by Momo Wandel Soumah...\n",
      "No results found for: 'Afro Blue Momo Wandel Soumah'\n",
      "Searching for \"Afro Blue\" by Momo Wandel Soumah...\n",
      "No results found for: 'Afro Blue Momo Wandel Soumah'\n",
      "Searching for \"Afro Blue\" by Momo Wandel Soumah...\n",
      "No results found for: 'Afro Blue Momo Wandel Soumah'\n",
      "Searching for \"Afro Blue\" by Momo Wandel Soumah...\n"
     ]
    },
    {
     "name": "stderr",
     "output_type": "stream",
     "text": [
      " 10%|██████▉                                                             | 135/1322 [05:51<52:27,  2.65s/it]"
     ]
    },
    {
     "name": "stdout",
     "output_type": "stream",
     "text": [
      "No results found for: 'Afro Blue Momo Wandel Soumah'\n",
      "Afro Blue Momo Wandel Soumah Not present in Genius\n",
      "Searching for \"Worldwide\" by Royal Flush...\n"
     ]
    },
    {
     "name": "stderr",
     "output_type": "stream",
     "text": [
      " 10%|██████▉                                                             | 136/1322 [05:54<53:54,  2.73s/it]"
     ]
    },
    {
     "name": "stdout",
     "output_type": "stream",
     "text": [
      "Done.\n",
      "Searching for \"Metal I (Camila)\" by Marco Bosco...\n"
     ]
    },
    {
     "name": "stderr",
     "output_type": "stream",
     "text": [
      " 10%|███████                                                             | 137/1322 [05:56<49:00,  2.48s/it]"
     ]
    },
    {
     "name": "stdout",
     "output_type": "stream",
     "text": [
      "Done.\n",
      "Searching for \"Time for a Change\" by Benita...\n"
     ]
    },
    {
     "name": "stderr",
     "output_type": "stream",
     "text": [
      " 10%|███████                                                             | 138/1322 [05:59<52:39,  2.67s/it]"
     ]
    },
    {
     "name": "stdout",
     "output_type": "stream",
     "text": [
      "Done.\n",
      "Searching for \"Black Purd's Theme\" by Bernard \"Pretty\" Purdie...\n"
     ]
    },
    {
     "name": "stderr",
     "output_type": "stream",
     "text": [
      " 11%|███████▏                                                            | 139/1322 [06:02<52:39,  2.67s/it]"
     ]
    },
    {
     "name": "stdout",
     "output_type": "stream",
     "text": [
      "Done.\n",
      "Searching for \"A Better Version\" by King Tubby...\n"
     ]
    },
    {
     "name": "stderr",
     "output_type": "stream",
     "text": [
      " 11%|███████▏                                                            | 140/1322 [06:04<52:29,  2.66s/it]"
     ]
    },
    {
     "name": "stdout",
     "output_type": "stream",
     "text": [
      "Done.\n",
      "Searching for \"Arthur\" by Kelly Lee Owens...\n",
      "Specified song does not contain lyrics. Rejecting.\n",
      "Searching for \"Arthur\" by Kelly Lee Owens...\n",
      "Specified song does not contain lyrics. Rejecting.\n",
      "Searching for \"Arthur\" by Kelly Lee Owens...\n",
      "Specified song does not contain lyrics. Rejecting.\n",
      "Searching for \"Arthur\" by Kelly Lee Owens...\n",
      "Specified song does not contain lyrics. Rejecting.\n",
      "Searching for \"Arthur\" by Kelly Lee Owens...\n"
     ]
    },
    {
     "name": "stderr",
     "output_type": "stream",
     "text": [
      " 11%|███████▎                                                            | 141/1322 [06:08<56:06,  2.85s/it]"
     ]
    },
    {
     "name": "stdout",
     "output_type": "stream",
     "text": [
      "Specified song does not contain lyrics. Rejecting.\n",
      "Arthur Kelly Lee Owens Not present in Genius\n",
      "Searching for \"Ae Meri Awaz Ke Dosto - Amne Samne / Soundtrack Version\" by Amit Kumar...\n",
      "No results found for: 'Ae Meri Awaz Ke Dosto - Amne Samne / Soundtrack Version Amit Kumar'\n",
      "Searching for \"Ae Meri Awaz Ke Dosto - Amne Samne / Soundtrack Version\" by Amit Kumar...\n",
      "No results found for: 'Ae Meri Awaz Ke Dosto - Amne Samne / Soundtrack Version Amit Kumar'\n",
      "Searching for \"Ae Meri Awaz Ke Dosto - Amne Samne / Soundtrack Version\" by Amit Kumar...\n",
      "No results found for: 'Ae Meri Awaz Ke Dosto - Amne Samne / Soundtrack Version Amit Kumar'\n",
      "Searching for \"Ae Meri Awaz Ke Dosto - Amne Samne / Soundtrack Version\" by Amit Kumar...\n",
      "No results found for: 'Ae Meri Awaz Ke Dosto - Amne Samne / Soundtrack Version Amit Kumar'\n",
      "Searching for \"Ae Meri Awaz Ke Dosto - Amne Samne / Soundtrack Version\" by Amit Kumar...\n"
     ]
    },
    {
     "name": "stderr",
     "output_type": "stream",
     "text": [
      " 11%|███████▎                                                            | 142/1322 [06:09<49:39,  2.53s/it]"
     ]
    },
    {
     "name": "stdout",
     "output_type": "stream",
     "text": [
      "No results found for: 'Ae Meri Awaz Ke Dosto - Amne Samne / Soundtrack Version Amit Kumar'\n",
      "Ae Meri Awaz Ke Dosto - Amne Samne / Soundtrack Version Amit Kumar Not present in Genius\n",
      "Searching for \"Requiem for CS70 and Strings\" by Floating Points...\n",
      "Specified song does not contain lyrics. Rejecting.\n",
      "Searching for \"Requiem for CS70 and Strings\" by Floating Points...\n",
      "Specified song does not contain lyrics. Rejecting.\n",
      "Searching for \"Requiem for CS70 and Strings\" by Floating Points...\n",
      "Specified song does not contain lyrics. Rejecting.\n",
      "Searching for \"Requiem for CS70 and Strings\" by Floating Points...\n",
      "Specified song does not contain lyrics. Rejecting.\n",
      "Searching for \"Requiem for CS70 and Strings\" by Floating Points...\n"
     ]
    },
    {
     "name": "stderr",
     "output_type": "stream",
     "text": [
      " 11%|███████▎                                                            | 143/1322 [06:11<45:41,  2.33s/it]"
     ]
    },
    {
     "name": "stdout",
     "output_type": "stream",
     "text": [
      "Specified song does not contain lyrics. Rejecting.\n",
      "Requiem for CS70 and Strings Floating Points Not present in Genius\n",
      "Searching for \"Last Bloom\" by Floating Points...\n",
      "Specified song does not contain lyrics. Rejecting.\n",
      "Searching for \"Last Bloom\" by Floating Points...\n",
      "Specified song does not contain lyrics. Rejecting.\n",
      "Searching for \"Last Bloom\" by Floating Points...\n",
      "Specified song does not contain lyrics. Rejecting.\n",
      "Searching for \"Last Bloom\" by Floating Points...\n",
      "Specified song does not contain lyrics. Rejecting.\n",
      "Searching for \"Last Bloom\" by Floating Points...\n"
     ]
    },
    {
     "name": "stderr",
     "output_type": "stream",
     "text": [
      " 11%|███████▍                                                            | 144/1322 [06:13<44:16,  2.26s/it]"
     ]
    },
    {
     "name": "stdout",
     "output_type": "stream",
     "text": [
      "Specified song does not contain lyrics. Rejecting.\n",
      "Last Bloom Floating Points Not present in Genius\n",
      "Searching for \"Little By Little (Caribou Rmx)\" by Radiohead...\n"
     ]
    },
    {
     "name": "stderr",
     "output_type": "stream",
     "text": [
      " 11%|███████▍                                                            | 145/1322 [06:16<46:10,  2.35s/it]"
     ]
    },
    {
     "name": "stdout",
     "output_type": "stream",
     "text": [
      "Done.\n",
      "Searching for \"The North Wind Blew South\" by Philamore Lincoln...\n"
     ]
    },
    {
     "name": "stderr",
     "output_type": "stream",
     "text": [
      " 11%|███████▌                                                            | 146/1322 [06:18<47:05,  2.40s/it]"
     ]
    },
    {
     "name": "stdout",
     "output_type": "stream",
     "text": [
      "Done.\n",
      "Searching for \"Daddy's Little Girl\" by Warfield Spillers...\n",
      "No results found for: 'Daddy's Little Girl Warfield Spillers'\n",
      "Searching for \"Daddy's Little Girl\" by Warfield Spillers...\n",
      "No results found for: 'Daddy's Little Girl Warfield Spillers'\n",
      "Searching for \"Daddy's Little Girl\" by Warfield Spillers...\n",
      "No results found for: 'Daddy's Little Girl Warfield Spillers'\n",
      "Searching for \"Daddy's Little Girl\" by Warfield Spillers...\n",
      "No results found for: 'Daddy's Little Girl Warfield Spillers'\n",
      "Searching for \"Daddy's Little Girl\" by Warfield Spillers...\n"
     ]
    },
    {
     "name": "stderr",
     "output_type": "stream",
     "text": [
      " 11%|███████▌                                                            | 147/1322 [06:20<43:16,  2.21s/it]"
     ]
    },
    {
     "name": "stdout",
     "output_type": "stream",
     "text": [
      "No results found for: 'Daddy's Little Girl Warfield Spillers'\n",
      "Daddy's Little Girl Warfield Spillers Not present in Genius\n",
      "Searching for \"Aaj Shanibar\" by Rupa...\n"
     ]
    },
    {
     "name": "stderr",
     "output_type": "stream",
     "text": [
      " 11%|███████▌                                                            | 148/1322 [06:22<42:43,  2.18s/it]"
     ]
    },
    {
     "name": "stdout",
     "output_type": "stream",
     "text": [
      "Done.\n",
      "Searching for \"Sequenza bosco - Fuga - Theme From \"Oedipus Orca\"\" by James Dashow...\n",
      "No results found for: 'Sequenza bosco - Fuga - Theme From \"Oedipus Orca\" James Dashow'\n",
      "Searching for \"Sequenza bosco - Fuga - Theme From \"Oedipus Orca\"\" by James Dashow...\n",
      "No results found for: 'Sequenza bosco - Fuga - Theme From \"Oedipus Orca\" James Dashow'\n",
      "Searching for \"Sequenza bosco - Fuga - Theme From \"Oedipus Orca\"\" by James Dashow...\n",
      "No results found for: 'Sequenza bosco - Fuga - Theme From \"Oedipus Orca\" James Dashow'\n",
      "Searching for \"Sequenza bosco - Fuga - Theme From \"Oedipus Orca\"\" by James Dashow...\n",
      "No results found for: 'Sequenza bosco - Fuga - Theme From \"Oedipus Orca\" James Dashow'\n",
      "Searching for \"Sequenza bosco - Fuga - Theme From \"Oedipus Orca\"\" by James Dashow...\n"
     ]
    },
    {
     "name": "stderr",
     "output_type": "stream",
     "text": [
      " 11%|███████▋                                                            | 149/1322 [06:24<40:40,  2.08s/it]"
     ]
    },
    {
     "name": "stdout",
     "output_type": "stream",
     "text": [
      "No results found for: 'Sequenza bosco - Fuga - Theme From \"Oedipus Orca\" James Dashow'\n",
      "Sequenza bosco - Fuga - Theme From \"Oedipus Orca\" James Dashow Not present in Genius\n",
      "Searching for \"Thiely\" by Etoile De Dakar...\n",
      "No results found for: 'Thiely Etoile De Dakar'\n",
      "Searching for \"Thiely\" by Etoile De Dakar...\n",
      "No results found for: 'Thiely Etoile De Dakar'\n",
      "Searching for \"Thiely\" by Etoile De Dakar...\n",
      "No results found for: 'Thiely Etoile De Dakar'\n",
      "Searching for \"Thiely\" by Etoile De Dakar...\n",
      "No results found for: 'Thiely Etoile De Dakar'\n",
      "Searching for \"Thiely\" by Etoile De Dakar...\n"
     ]
    },
    {
     "name": "stderr",
     "output_type": "stream",
     "text": [
      " 11%|███████▋                                                            | 150/1322 [06:26<38:41,  1.98s/it]"
     ]
    },
    {
     "name": "stdout",
     "output_type": "stream",
     "text": [
      "No results found for: 'Thiely Etoile De Dakar'\n",
      "Thiely Etoile De Dakar Not present in Genius\n",
      "Searching for \"Peer Pressure\" by Mobb Deep...\n"
     ]
    },
    {
     "name": "stderr",
     "output_type": "stream",
     "text": [
      " 11%|███████▊                                                            | 151/1322 [06:29<45:56,  2.35s/it]"
     ]
    },
    {
     "name": "stdout",
     "output_type": "stream",
     "text": [
      "Done.\n",
      "Searching for \"One Beer\" by MF DOOM...\n"
     ]
    },
    {
     "name": "stderr",
     "output_type": "stream",
     "text": [
      " 11%|███████▌                                                          | 152/1322 [06:34<1:01:45,  3.17s/it]"
     ]
    },
    {
     "name": "stdout",
     "output_type": "stream",
     "text": [
      "Done.\n",
      "Searching for \"Odessa\" by Caribou...\n"
     ]
    },
    {
     "name": "stderr",
     "output_type": "stream",
     "text": [
      " 12%|███████▊                                                            | 153/1322 [06:36<54:37,  2.80s/it]"
     ]
    },
    {
     "name": "stdout",
     "output_type": "stream",
     "text": [
      "Done.\n",
      "Searching for \"Flame\" by patten...\n"
     ]
    },
    {
     "name": "stderr",
     "output_type": "stream",
     "text": [
      " 12%|███████▉                                                            | 154/1322 [06:39<52:33,  2.70s/it]"
     ]
    },
    {
     "name": "stdout",
     "output_type": "stream",
     "text": [
      "Done.\n",
      "Searching for \"Orientasie\" by Baroque Jazz Trio...\n"
     ]
    },
    {
     "name": "stderr",
     "output_type": "stream",
     "text": [
      " 12%|███████▉                                                            | 155/1322 [06:42<55:46,  2.87s/it]"
     ]
    },
    {
     "name": "stdout",
     "output_type": "stream",
     "text": [
      "Done.\n",
      "Searching for \"Tinariwen\" by Group Anmataff...\n",
      "No results found for: 'Tinariwen Group Anmataff'\n",
      "Searching for \"Tinariwen\" by Group Anmataff...\n",
      "No results found for: 'Tinariwen Group Anmataff'\n",
      "Searching for \"Tinariwen\" by Group Anmataff...\n",
      "No results found for: 'Tinariwen Group Anmataff'\n",
      "Searching for \"Tinariwen\" by Group Anmataff...\n",
      "No results found for: 'Tinariwen Group Anmataff'\n",
      "Searching for \"Tinariwen\" by Group Anmataff...\n"
     ]
    },
    {
     "name": "stderr",
     "output_type": "stream",
     "text": [
      " 12%|████████                                                            | 156/1322 [06:44<50:33,  2.60s/it]"
     ]
    },
    {
     "name": "stdout",
     "output_type": "stream",
     "text": [
      "No results found for: 'Tinariwen Group Anmataff'\n",
      "Tinariwen Group Anmataff Not present in Genius\n",
      "Searching for \"Cos-Ber-Zam Ne Noya - Daphni Mix\" by Daphni...\n",
      "No results found for: 'Cos-Ber-Zam Ne Noya - Daphni Mix Daphni'\n",
      "Searching for \"Cos-Ber-Zam Ne Noya - Daphni Mix\" by Daphni...\n",
      "No results found for: 'Cos-Ber-Zam Ne Noya - Daphni Mix Daphni'\n",
      "Searching for \"Cos-Ber-Zam Ne Noya - Daphni Mix\" by Daphni...\n",
      "No results found for: 'Cos-Ber-Zam Ne Noya - Daphni Mix Daphni'\n",
      "Searching for \"Cos-Ber-Zam Ne Noya - Daphni Mix\" by Daphni...\n",
      "No results found for: 'Cos-Ber-Zam Ne Noya - Daphni Mix Daphni'\n",
      "Searching for \"Cos-Ber-Zam Ne Noya - Daphni Mix\" by Daphni...\n"
     ]
    },
    {
     "name": "stderr",
     "output_type": "stream",
     "text": [
      " 12%|████████                                                            | 157/1322 [06:46<45:36,  2.35s/it]"
     ]
    },
    {
     "name": "stdout",
     "output_type": "stream",
     "text": [
      "No results found for: 'Cos-Ber-Zam Ne Noya - Daphni Mix Daphni'\n",
      "Cos-Ber-Zam Ne Noya - Daphni Mix Daphni Not present in Genius\n",
      "Searching for \"Buttaflybeat\" by Koushik...\n",
      "No results found for: 'Buttaflybeat Koushik'\n",
      "Searching for \"Buttaflybeat\" by Koushik...\n",
      "No results found for: 'Buttaflybeat Koushik'\n",
      "Searching for \"Buttaflybeat\" by Koushik...\n",
      "No results found for: 'Buttaflybeat Koushik'\n",
      "Searching for \"Buttaflybeat\" by Koushik...\n",
      "No results found for: 'Buttaflybeat Koushik'\n",
      "Searching for \"Buttaflybeat\" by Koushik...\n"
     ]
    },
    {
     "name": "stderr",
     "output_type": "stream",
     "text": [
      " 12%|████████▏                                                           | 158/1322 [06:47<41:49,  2.16s/it]"
     ]
    },
    {
     "name": "stdout",
     "output_type": "stream",
     "text": [
      "No results found for: 'Buttaflybeat Koushik'\n",
      "Buttaflybeat Koushik Not present in Genius\n",
      "Searching for \"Idyongwana\" by D'Yani...\n",
      "No results found for: 'Idyongwana D'Yani'\n",
      "Searching for \"Idyongwana\" by D'Yani...\n",
      "No results found for: 'Idyongwana D'Yani'\n",
      "Searching for \"Idyongwana\" by D'Yani...\n",
      "No results found for: 'Idyongwana D'Yani'\n",
      "Searching for \"Idyongwana\" by D'Yani...\n",
      "No results found for: 'Idyongwana D'Yani'\n",
      "Searching for \"Idyongwana\" by D'Yani...\n"
     ]
    },
    {
     "name": "stderr",
     "output_type": "stream",
     "text": [
      " 12%|████████▏                                                           | 159/1322 [06:49<39:16,  2.03s/it]"
     ]
    },
    {
     "name": "stdout",
     "output_type": "stream",
     "text": [
      "No results found for: 'Idyongwana D'Yani'\n",
      "Idyongwana D'Yani Not present in Genius\n",
      "Searching for \"Glowin' (2018 Remaster)\" by The Rationals...\n"
     ]
    },
    {
     "name": "stderr",
     "output_type": "stream",
     "text": [
      " 12%|████████▏                                                           | 160/1322 [06:51<40:57,  2.12s/it]"
     ]
    },
    {
     "name": "stdout",
     "output_type": "stream",
     "text": [
      "Done.\n",
      "Searching for \"Om Shanti\" by Woo...\n"
     ]
    },
    {
     "name": "stderr",
     "output_type": "stream",
     "text": [
      " 12%|████████▎                                                           | 161/1322 [06:54<44:15,  2.29s/it]"
     ]
    },
    {
     "name": "stdout",
     "output_type": "stream",
     "text": [
      "Done.\n",
      "Searching for \"Traditional (Papua New Guinea)\" by Wame Igini Kamu...\n",
      "No results found for: 'Traditional (Papua New Guinea) Wame Igini Kamu'\n",
      "Searching for \"Traditional (Papua New Guinea)\" by Wame Igini Kamu...\n",
      "No results found for: 'Traditional (Papua New Guinea) Wame Igini Kamu'\n",
      "Searching for \"Traditional (Papua New Guinea)\" by Wame Igini Kamu...\n",
      "No results found for: 'Traditional (Papua New Guinea) Wame Igini Kamu'\n",
      "Searching for \"Traditional (Papua New Guinea)\" by Wame Igini Kamu...\n",
      "No results found for: 'Traditional (Papua New Guinea) Wame Igini Kamu'\n",
      "Searching for \"Traditional (Papua New Guinea)\" by Wame Igini Kamu...\n"
     ]
    },
    {
     "name": "stderr",
     "output_type": "stream",
     "text": [
      " 12%|████████▎                                                           | 162/1322 [06:56<41:13,  2.13s/it]"
     ]
    },
    {
     "name": "stdout",
     "output_type": "stream",
     "text": [
      "No results found for: 'Traditional (Papua New Guinea) Wame Igini Kamu'\n",
      "Traditional (Papua New Guinea) Wame Igini Kamu Not present in Genius\n",
      "Searching for \"Curl\" by Beatrice Dillon...\n"
     ]
    },
    {
     "name": "stderr",
     "output_type": "stream",
     "text": [
      " 12%|████████▍                                                           | 163/1322 [06:58<42:08,  2.18s/it]"
     ]
    },
    {
     "name": "stdout",
     "output_type": "stream",
     "text": [
      "Done.\n",
      "Searching for \"Can We Try Love Again\" by Kool Blues...\n"
     ]
    },
    {
     "name": "stderr",
     "output_type": "stream",
     "text": [
      " 12%|████████▏                                                         | 164/1322 [07:03<1:00:13,  3.12s/it]"
     ]
    },
    {
     "name": "stdout",
     "output_type": "stream",
     "text": [
      "Done.\n",
      "Searching for \"Guinnevere\" by Miles Davis...\n",
      "Specified song does not contain lyrics. Rejecting.\n",
      "Searching for \"Guinnevere\" by Miles Davis...\n",
      "Specified song does not contain lyrics. Rejecting.\n",
      "Searching for \"Guinnevere\" by Miles Davis...\n",
      "Specified song does not contain lyrics. Rejecting.\n",
      "Searching for \"Guinnevere\" by Miles Davis...\n",
      "Specified song does not contain lyrics. Rejecting.\n",
      "Searching for \"Guinnevere\" by Miles Davis...\n"
     ]
    },
    {
     "name": "stderr",
     "output_type": "stream",
     "text": [
      " 12%|████████▍                                                           | 165/1322 [07:06<56:21,  2.92s/it]"
     ]
    },
    {
     "name": "stdout",
     "output_type": "stream",
     "text": [
      "Specified song does not contain lyrics. Rejecting.\n",
      "Guinnevere Miles Davis Not present in Genius\n",
      "Searching for \"Right On For The Darkness\" by Willie Wright...\n"
     ]
    },
    {
     "name": "stderr",
     "output_type": "stream",
     "text": [
      " 13%|████████▌                                                           | 166/1322 [07:09<59:51,  3.11s/it]"
     ]
    },
    {
     "name": "stdout",
     "output_type": "stream",
     "text": [
      "Done.\n",
      "Searching for \"Figa De Guiné\" by Alcione...\n",
      "No results found for: 'Figa De Guiné Alcione'\n",
      "Searching for \"Figa De Guiné\" by Alcione...\n",
      "No results found for: 'Figa De Guiné Alcione'\n",
      "Searching for \"Figa De Guiné\" by Alcione...\n",
      "No results found for: 'Figa De Guiné Alcione'\n",
      "Searching for \"Figa De Guiné\" by Alcione...\n",
      "No results found for: 'Figa De Guiné Alcione'\n",
      "Searching for \"Figa De Guiné\" by Alcione...\n"
     ]
    },
    {
     "name": "stderr",
     "output_type": "stream",
     "text": [
      " 13%|████████▌                                                           | 167/1322 [07:11<53:34,  2.78s/it]"
     ]
    },
    {
     "name": "stdout",
     "output_type": "stream",
     "text": [
      "No results found for: 'Figa De Guiné Alcione'\n",
      "Figa De Guiné Alcione Not present in Genius\n",
      "Searching for \"Silver\" by Caribou...\n"
     ]
    },
    {
     "name": "stderr",
     "output_type": "stream",
     "text": [
      " 13%|████████▋                                                           | 168/1322 [07:14<53:14,  2.77s/it]"
     ]
    },
    {
     "name": "stdout",
     "output_type": "stream",
     "text": [
      "Done.\n",
      "Searching for \"Witchi Tai To\" by Harpers Bizarre...\n"
     ]
    },
    {
     "name": "stderr",
     "output_type": "stream",
     "text": [
      " 13%|████████▋                                                           | 169/1322 [07:16<45:29,  2.37s/it]"
     ]
    },
    {
     "name": "stdout",
     "output_type": "stream",
     "text": [
      "Done.\n",
      "Searching for \"Lembur Kuring\" by Yanti Bersaudara...\n"
     ]
    },
    {
     "name": "stderr",
     "output_type": "stream",
     "text": [
      " 13%|████████▋                                                           | 170/1322 [07:19<52:58,  2.76s/it]"
     ]
    },
    {
     "name": "stdout",
     "output_type": "stream",
     "text": [
      "Done.\n",
      "Searching for \"Those Flowers\" by Jo Tongo...\n"
     ]
    },
    {
     "name": "stderr",
     "output_type": "stream",
     "text": [
      " 13%|████████▊                                                           | 171/1322 [07:22<55:13,  2.88s/it]"
     ]
    },
    {
     "name": "stdout",
     "output_type": "stream",
     "text": [
      "Done.\n",
      "Searching for \"Can't Do Without You\" by Caribou...\n"
     ]
    },
    {
     "name": "stderr",
     "output_type": "stream",
     "text": [
      " 13%|████████▊                                                           | 172/1322 [07:24<50:21,  2.63s/it]"
     ]
    },
    {
     "name": "stdout",
     "output_type": "stream",
     "text": [
      "Done.\n",
      "Searching for \"Just\" by Daphni...\n"
     ]
    },
    {
     "name": "stderr",
     "output_type": "stream",
     "text": [
      " 13%|████████▉                                                           | 173/1322 [07:26<46:19,  2.42s/it]"
     ]
    },
    {
     "name": "stdout",
     "output_type": "stream",
     "text": [
      "Done.\n",
      "Searching for \"Pinta Manta\" by Antonio Sanches...\n"
     ]
    },
    {
     "name": "stderr",
     "output_type": "stream",
     "text": [
      " 13%|████████▉                                                           | 174/1322 [07:29<49:45,  2.60s/it]"
     ]
    },
    {
     "name": "stdout",
     "output_type": "stream",
     "text": [
      "Done.\n",
      "Searching for \"Title Music (Sholay) - From “Sholay Songs And Dialogues, Vol. 1” Soundtrack\" by R. D. Burman...\n",
      "No results found for: 'Title Music (Sholay) - From “Sholay Songs And Dialogues, Vol. 1” Soundtrack R. D. Burman'\n",
      "Searching for \"Title Music (Sholay) - From “Sholay Songs And Dialogues, Vol. 1” Soundtrack\" by R. D. Burman...\n",
      "No results found for: 'Title Music (Sholay) - From “Sholay Songs And Dialogues, Vol. 1” Soundtrack R. D. Burman'\n",
      "Searching for \"Title Music (Sholay) - From “Sholay Songs And Dialogues, Vol. 1” Soundtrack\" by R. D. Burman...\n",
      "No results found for: 'Title Music (Sholay) - From “Sholay Songs And Dialogues, Vol. 1” Soundtrack R. D. Burman'\n",
      "Searching for \"Title Music (Sholay) - From “Sholay Songs And Dialogues, Vol. 1” Soundtrack\" by R. D. Burman...\n",
      "No results found for: 'Title Music (Sholay) - From “Sholay Songs And Dialogues, Vol. 1” Soundtrack R. D. Burman'\n",
      "Searching for \"Title Music (Sholay) - From “Sholay Songs And Dialogues, Vol. 1” Soundtrack\" by R. D. Burman...\n"
     ]
    },
    {
     "name": "stderr",
     "output_type": "stream",
     "text": [
      " 13%|█████████                                                           | 175/1322 [07:31<46:22,  2.43s/it]"
     ]
    },
    {
     "name": "stdout",
     "output_type": "stream",
     "text": [
      "No results found for: 'Title Music (Sholay) - From “Sholay Songs And Dialogues, Vol. 1” Soundtrack R. D. Burman'\n",
      "Title Music (Sholay) - From “Sholay Songs And Dialogues, Vol. 1” Soundtrack R. D. Burman Not present in Genius\n",
      "Searching for \"Da Kara\" by Stip Guys...\n"
     ]
    },
    {
     "name": "stderr",
     "output_type": "stream",
     "text": [
      " 13%|█████████                                                           | 176/1322 [07:34<47:21,  2.48s/it]"
     ]
    },
    {
     "name": "stdout",
     "output_type": "stream",
     "text": [
      "Done.\n",
      "Searching for \"Irene\" by Caribou...\n"
     ]
    },
    {
     "name": "stderr",
     "output_type": "stream",
     "text": [
      " 13%|█████████                                                           | 177/1322 [07:37<50:11,  2.63s/it]"
     ]
    },
    {
     "name": "stdout",
     "output_type": "stream",
     "text": [
      "Done.\n",
      "Searching for \"Assalariado\" by Super Mama Djombo...\n",
      "No results found for: 'Assalariado Super Mama Djombo'\n",
      "Searching for \"Assalariado\" by Super Mama Djombo...\n",
      "No results found for: 'Assalariado Super Mama Djombo'\n",
      "Searching for \"Assalariado\" by Super Mama Djombo...\n",
      "No results found for: 'Assalariado Super Mama Djombo'\n",
      "Searching for \"Assalariado\" by Super Mama Djombo...\n",
      "No results found for: 'Assalariado Super Mama Djombo'\n",
      "Searching for \"Assalariado\" by Super Mama Djombo...\n"
     ]
    },
    {
     "name": "stderr",
     "output_type": "stream",
     "text": [
      " 13%|█████████▏                                                          | 178/1322 [07:39<44:59,  2.36s/it]"
     ]
    },
    {
     "name": "stdout",
     "output_type": "stream",
     "text": [
      "No results found for: 'Assalariado Super Mama Djombo'\n",
      "Assalariado Super Mama Djombo Not present in Genius\n",
      "Searching for \"Don't Be so Nice\" by Chuck Senrick...\n"
     ]
    },
    {
     "name": "stderr",
     "output_type": "stream",
     "text": [
      " 14%|█████████▏                                                          | 179/1322 [07:42<48:07,  2.53s/it]"
     ]
    },
    {
     "name": "stdout",
     "output_type": "stream",
     "text": [
      "Done.\n",
      "Searching for \"Kosmos 1 & 2\" by Fabriano Fuzion...\n",
      "No results found for: 'Kosmos 1 & 2 Fabriano Fuzion'\n",
      "Searching for \"Kosmos 1 & 2\" by Fabriano Fuzion...\n",
      "No results found for: 'Kosmos 1 & 2 Fabriano Fuzion'\n",
      "Searching for \"Kosmos 1 & 2\" by Fabriano Fuzion...\n",
      "No results found for: 'Kosmos 1 & 2 Fabriano Fuzion'\n",
      "Searching for \"Kosmos 1 & 2\" by Fabriano Fuzion...\n",
      "No results found for: 'Kosmos 1 & 2 Fabriano Fuzion'\n",
      "Searching for \"Kosmos 1 & 2\" by Fabriano Fuzion...\n"
     ]
    },
    {
     "name": "stderr",
     "output_type": "stream",
     "text": [
      " 14%|█████████▎                                                          | 180/1322 [07:43<43:52,  2.30s/it]"
     ]
    },
    {
     "name": "stdout",
     "output_type": "stream",
     "text": [
      "No results found for: 'Kosmos 1 & 2 Fabriano Fuzion'\n",
      "Kosmos 1 & 2 Fabriano Fuzion Not present in Genius\n",
      "Searching for \"Sao New Look\" by Rome Sithammarat...\n",
      "No results found for: 'Sao New Look Rome Sithammarat'\n",
      "Searching for \"Sao New Look\" by Rome Sithammarat...\n",
      "No results found for: 'Sao New Look Rome Sithammarat'\n",
      "Searching for \"Sao New Look\" by Rome Sithammarat...\n",
      "No results found for: 'Sao New Look Rome Sithammarat'\n",
      "Searching for \"Sao New Look\" by Rome Sithammarat...\n",
      "No results found for: 'Sao New Look Rome Sithammarat'\n",
      "Searching for \"Sao New Look\" by Rome Sithammarat...\n"
     ]
    },
    {
     "name": "stderr",
     "output_type": "stream",
     "text": [
      " 14%|█████████▎                                                          | 181/1322 [07:45<42:11,  2.22s/it]"
     ]
    },
    {
     "name": "stdout",
     "output_type": "stream",
     "text": [
      "No results found for: 'Sao New Look Rome Sithammarat'\n",
      "Sao New Look Rome Sithammarat Not present in Genius\n",
      "Searching for \"Bees\" by Caribou...\n",
      "Specified song does not contain lyrics. Rejecting.\n",
      "Searching for \"Bees\" by Caribou...\n",
      "Specified song does not contain lyrics. Rejecting.\n",
      "Searching for \"Bees\" by Caribou...\n",
      "Specified song does not contain lyrics. Rejecting.\n",
      "Searching for \"Bees\" by Caribou...\n",
      "Specified song does not contain lyrics. Rejecting.\n",
      "Searching for \"Bees\" by Caribou...\n"
     ]
    },
    {
     "name": "stderr",
     "output_type": "stream",
     "text": [
      " 14%|█████████▎                                                          | 182/1322 [07:49<50:36,  2.66s/it]"
     ]
    },
    {
     "name": "stdout",
     "output_type": "stream",
     "text": [
      "Specified song does not contain lyrics. Rejecting.\n",
      "Bees Caribou Not present in Genius\n",
      "Searching for \"O Nketsang\" by Rex Rabanye...\n",
      "No results found for: 'O Nketsang Rex Rabanye'\n",
      "Searching for \"O Nketsang\" by Rex Rabanye...\n",
      "No results found for: 'O Nketsang Rex Rabanye'\n",
      "Searching for \"O Nketsang\" by Rex Rabanye...\n",
      "No results found for: 'O Nketsang Rex Rabanye'\n",
      "Searching for \"O Nketsang\" by Rex Rabanye...\n",
      "No results found for: 'O Nketsang Rex Rabanye'\n",
      "Searching for \"O Nketsang\" by Rex Rabanye...\n"
     ]
    },
    {
     "name": "stderr",
     "output_type": "stream",
     "text": [
      " 14%|█████████▍                                                          | 183/1322 [07:51<45:20,  2.39s/it]"
     ]
    },
    {
     "name": "stdout",
     "output_type": "stream",
     "text": [
      "No results found for: 'O Nketsang Rex Rabanye'\n",
      "O Nketsang Rex Rabanye Not present in Genius\n",
      "Searching for \"Sizzling\" by Daphni...\n"
     ]
    },
    {
     "name": "stderr",
     "output_type": "stream",
     "text": [
      " 14%|█████████▍                                                          | 184/1322 [07:54<52:00,  2.74s/it]"
     ]
    },
    {
     "name": "stdout",
     "output_type": "stream",
     "text": [
      "Done.\n",
      "Searching for \"Saturnalia\" by Steve Moore...\n"
     ]
    },
    {
     "name": "stderr",
     "output_type": "stream",
     "text": [
      " 14%|█████████▌                                                          | 185/1322 [07:58<55:10,  2.91s/it]"
     ]
    },
    {
     "name": "stdout",
     "output_type": "stream",
     "text": [
      "Done.\n",
      "Searching for \"Firebird\" by White Noise...\n"
     ]
    },
    {
     "name": "stderr",
     "output_type": "stream",
     "text": [
      " 14%|█████████▌                                                          | 186/1322 [08:00<51:07,  2.70s/it]"
     ]
    },
    {
     "name": "stdout",
     "output_type": "stream",
     "text": [
      "Done.\n",
      "Searching for \"Vem, É Lua\" by Candeia...\n"
     ]
    },
    {
     "name": "stderr",
     "output_type": "stream",
     "text": [
      " 14%|█████████▌                                                          | 187/1322 [08:03<51:24,  2.72s/it]"
     ]
    },
    {
     "name": "stdout",
     "output_type": "stream",
     "text": [
      "Done.\n",
      "Searching for \"Can 2002\" by Neba Solo...\n"
     ]
    },
    {
     "name": "stderr",
     "output_type": "stream",
     "text": [
      " 14%|█████████▋                                                          | 188/1322 [08:05<50:20,  2.66s/it]"
     ]
    },
    {
     "name": "stdout",
     "output_type": "stream",
     "text": [
      "Done.\n",
      "Searching for \"Crayon\" by Caribou...\n"
     ]
    },
    {
     "name": "stderr",
     "output_type": "stream",
     "text": [
      " 14%|█████████▋                                                          | 189/1322 [08:07<45:29,  2.41s/it]"
     ]
    },
    {
     "name": "stdout",
     "output_type": "stream",
     "text": [
      "Done.\n",
      "Searching for \"DNT STP MY LV\" by India Jordan...\n",
      "No results found for: 'DNT STP MY LV India Jordan'\n",
      "Searching for \"DNT STP MY LV\" by India Jordan...\n",
      "No results found for: 'DNT STP MY LV India Jordan'\n",
      "Searching for \"DNT STP MY LV\" by India Jordan...\n",
      "No results found for: 'DNT STP MY LV India Jordan'\n",
      "Searching for \"DNT STP MY LV\" by India Jordan...\n",
      "No results found for: 'DNT STP MY LV India Jordan'\n",
      "Searching for \"DNT STP MY LV\" by India Jordan...\n"
     ]
    },
    {
     "name": "stderr",
     "output_type": "stream",
     "text": [
      " 14%|█████████▊                                                          | 190/1322 [08:09<41:29,  2.20s/it]"
     ]
    },
    {
     "name": "stdout",
     "output_type": "stream",
     "text": [
      "No results found for: 'DNT STP MY LV India Jordan'\n",
      "DNT STP MY LV India Jordan Not present in Genius\n",
      "Searching for \"Girl, I Can Feel Ya\" by Bobby Boyd...\n"
     ]
    },
    {
     "name": "stderr",
     "output_type": "stream",
     "text": [
      " 14%|█████████▊                                                          | 191/1322 [08:13<50:56,  2.70s/it]"
     ]
    },
    {
     "name": "stdout",
     "output_type": "stream",
     "text": [
      "Done.\n",
      "Searching for \"Maritime Tatami\" by Victrola...\n",
      "No results found for: 'Maritime Tatami Victrola'\n",
      "Searching for \"Maritime Tatami\" by Victrola...\n",
      "No results found for: 'Maritime Tatami Victrola'\n",
      "Searching for \"Maritime Tatami\" by Victrola...\n",
      "No results found for: 'Maritime Tatami Victrola'\n",
      "Searching for \"Maritime Tatami\" by Victrola...\n",
      "No results found for: 'Maritime Tatami Victrola'\n",
      "Searching for \"Maritime Tatami\" by Victrola...\n"
     ]
    },
    {
     "name": "stderr",
     "output_type": "stream",
     "text": [
      " 15%|█████████▉                                                          | 192/1322 [08:14<45:33,  2.42s/it]"
     ]
    },
    {
     "name": "stdout",
     "output_type": "stream",
     "text": [
      "No results found for: 'Maritime Tatami Victrola'\n",
      "Maritime Tatami Victrola Not present in Genius\n",
      "Searching for \"Sea Fluorescent\" by Alain Bellaïche...\n"
     ]
    },
    {
     "name": "stderr",
     "output_type": "stream",
     "text": [
      " 15%|█████████▉                                                          | 193/1322 [08:17<43:56,  2.34s/it]"
     ]
    },
    {
     "name": "stdout",
     "output_type": "stream",
     "text": [
      "Done.\n",
      "Searching for \"We Want to Play\" by Brief Encounter...\n"
     ]
    },
    {
     "name": "stderr",
     "output_type": "stream",
     "text": [
      " 15%|█████████▋                                                        | 194/1322 [08:23<1:08:32,  3.65s/it]"
     ]
    },
    {
     "name": "stdout",
     "output_type": "stream",
     "text": [
      "Done.\n",
      "Searching for \"Face to Face\" by Daphni...\n",
      "Searching for \"Face to Face\" by Daphni...\n"
     ]
    },
    {
     "name": "stderr",
     "output_type": "stream",
     "text": [
      " 15%|█████████▋                                                        | 195/1322 [08:33<1:40:14,  5.34s/it]"
     ]
    },
    {
     "name": "stdout",
     "output_type": "stream",
     "text": [
      "Done.\n",
      "Searching for \"Echo (feat. Nas)\" by Swizz Beatz...\n"
     ]
    },
    {
     "name": "stderr",
     "output_type": "stream",
     "text": [
      " 15%|█████████▊                                                        | 196/1322 [08:37<1:33:40,  4.99s/it]"
     ]
    },
    {
     "name": "stdout",
     "output_type": "stream",
     "text": [
      "Done.\n",
      "Searching for \"Orbital\" by Herbert Bodzin...\n",
      "No results found for: 'Orbital Herbert Bodzin'\n",
      "Searching for \"Orbital\" by Herbert Bodzin...\n",
      "No results found for: 'Orbital Herbert Bodzin'\n",
      "Searching for \"Orbital\" by Herbert Bodzin...\n",
      "No results found for: 'Orbital Herbert Bodzin'\n",
      "Searching for \"Orbital\" by Herbert Bodzin...\n",
      "No results found for: 'Orbital Herbert Bodzin'\n",
      "Searching for \"Orbital\" by Herbert Bodzin...\n"
     ]
    },
    {
     "name": "stderr",
     "output_type": "stream",
     "text": [
      " 15%|█████████▊                                                        | 197/1322 [08:38<1:15:15,  4.01s/it]"
     ]
    },
    {
     "name": "stdout",
     "output_type": "stream",
     "text": [
      "No results found for: 'Orbital Herbert Bodzin'\n",
      "Orbital Herbert Bodzin Not present in Genius\n",
      "Searching for \"Breathing Rain\" by Morgan Fisher...\n"
     ]
    },
    {
     "name": "stderr",
     "output_type": "stream",
     "text": [
      " 15%|█████████▉                                                        | 198/1322 [08:40<1:03:59,  3.42s/it]"
     ]
    },
    {
     "name": "stdout",
     "output_type": "stream",
     "text": [
      "Done.\n",
      "Searching for \"Self-Regulation (II)\" by Carl Juarez...\n",
      "No results found for: 'Self-Regulation (II) Carl Juarez'\n",
      "Searching for \"Self-Regulation (II)\" by Carl Juarez...\n",
      "No results found for: 'Self-Regulation (II) Carl Juarez'\n",
      "Searching for \"Self-Regulation (II)\" by Carl Juarez...\n",
      "No results found for: 'Self-Regulation (II) Carl Juarez'\n",
      "Searching for \"Self-Regulation (II)\" by Carl Juarez...\n",
      "No results found for: 'Self-Regulation (II) Carl Juarez'\n",
      "Searching for \"Self-Regulation (II)\" by Carl Juarez...\n"
     ]
    },
    {
     "name": "stderr",
     "output_type": "stream",
     "text": [
      " 15%|██████████▏                                                         | 199/1322 [08:42<54:28,  2.91s/it]"
     ]
    },
    {
     "name": "stdout",
     "output_type": "stream",
     "text": [
      "No results found for: 'Self-Regulation (II) Carl Juarez'\n",
      "Self-Regulation (II) Carl Juarez Not present in Genius\n",
      "Searching for \"Baby Cry\" by 9th Wonder...\n",
      "Specified song does not contain lyrics. Rejecting.\n",
      "Searching for \"Baby Cry\" by 9th Wonder...\n",
      "Specified song does not contain lyrics. Rejecting.\n",
      "Searching for \"Baby Cry\" by 9th Wonder...\n",
      "Specified song does not contain lyrics. Rejecting.\n",
      "Searching for \"Baby Cry\" by 9th Wonder...\n",
      "Specified song does not contain lyrics. Rejecting.\n",
      "Searching for \"Baby Cry\" by 9th Wonder...\n"
     ]
    },
    {
     "name": "stderr",
     "output_type": "stream",
     "text": [
      " 15%|██████████▎                                                         | 200/1322 [08:45<52:03,  2.78s/it]"
     ]
    },
    {
     "name": "stdout",
     "output_type": "stream",
     "text": [
      "Specified song does not contain lyrics. Rejecting.\n",
      "Baby Cry 9th Wonder Not present in Genius\n",
      "Searching for \"People Eating Fruit\" by Caribou...\n",
      "No results found for: 'People Eating Fruit Caribou'\n",
      "Searching for \"People Eating Fruit\" by Caribou...\n",
      "No results found for: 'People Eating Fruit Caribou'\n",
      "Searching for \"People Eating Fruit\" by Caribou...\n",
      "No results found for: 'People Eating Fruit Caribou'\n",
      "Searching for \"People Eating Fruit\" by Caribou...\n",
      "No results found for: 'People Eating Fruit Caribou'\n",
      "Searching for \"People Eating Fruit\" by Caribou...\n"
     ]
    },
    {
     "name": "stderr",
     "output_type": "stream",
     "text": [
      " 15%|██████████▎                                                         | 201/1322 [08:46<46:11,  2.47s/it]"
     ]
    },
    {
     "name": "stdout",
     "output_type": "stream",
     "text": [
      "No results found for: 'People Eating Fruit Caribou'\n",
      "People Eating Fruit Caribou Not present in Genius\n",
      "Searching for \"Veliki Prekor\" by Rex Ilusivii...\n",
      "No results found for: 'Veliki Prekor Rex Ilusivii'\n",
      "Searching for \"Veliki Prekor\" by Rex Ilusivii...\n",
      "No results found for: 'Veliki Prekor Rex Ilusivii'\n",
      "Searching for \"Veliki Prekor\" by Rex Ilusivii...\n",
      "No results found for: 'Veliki Prekor Rex Ilusivii'\n",
      "Searching for \"Veliki Prekor\" by Rex Ilusivii...\n",
      "No results found for: 'Veliki Prekor Rex Ilusivii'\n",
      "Searching for \"Veliki Prekor\" by Rex Ilusivii...\n"
     ]
    },
    {
     "name": "stderr",
     "output_type": "stream",
     "text": [
      " 15%|██████████▍                                                         | 202/1322 [08:48<42:10,  2.26s/it]"
     ]
    },
    {
     "name": "stdout",
     "output_type": "stream",
     "text": [
      "No results found for: 'Veliki Prekor Rex Ilusivii'\n",
      "Veliki Prekor Rex Ilusivii Not present in Genius\n",
      "Searching for \"I Love You\" by Willie Griffin...\n"
     ]
    },
    {
     "name": "stderr",
     "output_type": "stream",
     "text": [
      " 15%|██████████▍                                                         | 203/1322 [08:51<42:46,  2.29s/it]"
     ]
    },
    {
     "name": "stdout",
     "output_type": "stream",
     "text": [
      "Done.\n",
      "Searching for \"China Camp\" by David Casper...\n"
     ]
    },
    {
     "name": "stderr",
     "output_type": "stream",
     "text": [
      " 15%|██████████▍                                                         | 204/1322 [08:54<49:53,  2.68s/it]"
     ]
    },
    {
     "name": "stdout",
     "output_type": "stream",
     "text": [
      "Done.\n",
      "Searching for \"May My Love Be with You\" by Phreek...\n"
     ]
    },
    {
     "name": "stderr",
     "output_type": "stream",
     "text": [
      " 16%|██████████▌                                                         | 205/1322 [08:57<51:58,  2.79s/it]"
     ]
    },
    {
     "name": "stdout",
     "output_type": "stream",
     "text": [
      "Done.\n",
      "Searching for \"Yes, I Know\" by Daphni...\n"
     ]
    },
    {
     "name": "stderr",
     "output_type": "stream",
     "text": [
      " 16%|██████████▌                                                         | 206/1322 [08:59<48:39,  2.62s/it]"
     ]
    },
    {
     "name": "stdout",
     "output_type": "stream",
     "text": [
      "Done.\n",
      "Searching for \"Melody Day - Four Tet Remix\" by Caribou...\n"
     ]
    },
    {
     "name": "stderr",
     "output_type": "stream",
     "text": [
      " 16%|██████████▋                                                         | 207/1322 [09:01<45:14,  2.43s/it]"
     ]
    },
    {
     "name": "stdout",
     "output_type": "stream",
     "text": [
      "Done.\n",
      "Searching for \"Heaven Tar\" by Flourish...\n"
     ]
    },
    {
     "name": "stderr",
     "output_type": "stream",
     "text": [
      " 16%|██████████▋                                                         | 208/1322 [09:06<56:05,  3.02s/it]"
     ]
    },
    {
     "name": "stdout",
     "output_type": "stream",
     "text": [
      "Done.\n",
      "Searching for \"Together (strange loneliness, change into melodic far eastern scene)\" by Deuter...\n",
      "No results found for: 'Together (strange loneliness, change into melodic far eastern scene) Deuter'\n",
      "Searching for \"Together (strange loneliness, change into melodic far eastern scene)\" by Deuter...\n",
      "No results found for: 'Together (strange loneliness, change into melodic far eastern scene) Deuter'\n",
      "Searching for \"Together (strange loneliness, change into melodic far eastern scene)\" by Deuter...\n",
      "No results found for: 'Together (strange loneliness, change into melodic far eastern scene) Deuter'\n",
      "Searching for \"Together (strange loneliness, change into melodic far eastern scene)\" by Deuter...\n",
      "No results found for: 'Together (strange loneliness, change into melodic far eastern scene) Deuter'\n",
      "Searching for \"Together (strange loneliness, change into melodic far eastern scene)\" by Deuter...\n"
     ]
    },
    {
     "name": "stderr",
     "output_type": "stream",
     "text": [
      " 16%|██████████▊                                                         | 209/1322 [09:08<49:38,  2.68s/it]"
     ]
    },
    {
     "name": "stdout",
     "output_type": "stream",
     "text": [
      "No results found for: 'Together (strange loneliness, change into melodic far eastern scene) Deuter'\n",
      "Together (strange loneliness, change into melodic far eastern scene) Deuter Not present in Genius\n",
      "Searching for \"Malika\" by Houari Benchenet...\n",
      "No results found for: 'Malika Houari Benchenet'\n",
      "Searching for \"Malika\" by Houari Benchenet...\n",
      "No results found for: 'Malika Houari Benchenet'\n",
      "Searching for \"Malika\" by Houari Benchenet...\n",
      "No results found for: 'Malika Houari Benchenet'\n",
      "Searching for \"Malika\" by Houari Benchenet...\n",
      "No results found for: 'Malika Houari Benchenet'\n",
      "Searching for \"Malika\" by Houari Benchenet...\n"
     ]
    },
    {
     "name": "stderr",
     "output_type": "stream",
     "text": [
      " 16%|██████████▊                                                         | 210/1322 [09:09<44:17,  2.39s/it]"
     ]
    },
    {
     "name": "stdout",
     "output_type": "stream",
     "text": [
      "No results found for: 'Malika Houari Benchenet'\n",
      "Malika Houari Benchenet Not present in Genius\n",
      "Searching for \"Fancy Good\" by Electric Machine...\n"
     ]
    },
    {
     "name": "stderr",
     "output_type": "stream",
     "text": [
      " 16%|██████████▊                                                         | 211/1322 [09:11<42:25,  2.29s/it]"
     ]
    },
    {
     "name": "stdout",
     "output_type": "stream",
     "text": [
      "Done.\n",
      "Searching for \"Bowungakanani?\" by Msawawa...\n"
     ]
    },
    {
     "name": "stderr",
     "output_type": "stream",
     "text": [
      " 16%|██████████▉                                                         | 212/1322 [09:14<41:22,  2.24s/it]"
     ]
    },
    {
     "name": "stdout",
     "output_type": "stream",
     "text": [
      "Done.\n",
      "Searching for \"Two Friends\" by Timmermans/Wise...\n"
     ]
    },
    {
     "name": "stderr",
     "output_type": "stream",
     "text": [
      " 16%|██████████▉                                                         | 213/1322 [09:16<40:14,  2.18s/it]"
     ]
    },
    {
     "name": "stdout",
     "output_type": "stream",
     "text": [
      "Done.\n",
      "Searching for \"Cherrybomb, Pt. 2\" by Caribou...\n",
      "No results found for: 'Cherrybomb, Pt. 2 Caribou'\n",
      "Searching for \"Cherrybomb, Pt. 2\" by Caribou...\n",
      "No results found for: 'Cherrybomb, Pt. 2 Caribou'\n",
      "Searching for \"Cherrybomb, Pt. 2\" by Caribou...\n",
      "No results found for: 'Cherrybomb, Pt. 2 Caribou'\n",
      "Searching for \"Cherrybomb, Pt. 2\" by Caribou...\n",
      "No results found for: 'Cherrybomb, Pt. 2 Caribou'\n",
      "Searching for \"Cherrybomb, Pt. 2\" by Caribou...\n"
     ]
    },
    {
     "name": "stderr",
     "output_type": "stream",
     "text": [
      " 16%|███████████                                                         | 214/1322 [09:17<37:38,  2.04s/it]"
     ]
    },
    {
     "name": "stdout",
     "output_type": "stream",
     "text": [
      "No results found for: 'Cherrybomb, Pt. 2 Caribou'\n",
      "Cherrybomb, Pt. 2 Caribou Not present in Genius\n",
      "Searching for \"Life’s What You Make It\" by Daphni...\n"
     ]
    },
    {
     "name": "stderr",
     "output_type": "stream",
     "text": [
      " 16%|███████████                                                         | 215/1322 [09:19<35:08,  1.90s/it]"
     ]
    },
    {
     "name": "stdout",
     "output_type": "stream",
     "text": [
      "Done.\n",
      "Searching for \"Wild Dream\" by Joe Tossini...\n"
     ]
    },
    {
     "name": "stderr",
     "output_type": "stream",
     "text": [
      " 16%|███████████                                                         | 216/1322 [09:21<36:12,  1.96s/it]"
     ]
    },
    {
     "name": "stdout",
     "output_type": "stream",
     "text": [
      "Done.\n",
      "Searching for \"Asiko (In a Silent Mix) - Ricardo Villalobos Remix\" by Tony Allen...\n",
      "No results found for: 'Asiko (In a Silent Mix) - Ricardo Villalobos Remix Tony Allen'\n",
      "Searching for \"Asiko (In a Silent Mix) - Ricardo Villalobos Remix\" by Tony Allen...\n",
      "No results found for: 'Asiko (In a Silent Mix) - Ricardo Villalobos Remix Tony Allen'\n",
      "Searching for \"Asiko (In a Silent Mix) - Ricardo Villalobos Remix\" by Tony Allen...\n",
      "No results found for: 'Asiko (In a Silent Mix) - Ricardo Villalobos Remix Tony Allen'\n",
      "Searching for \"Asiko (In a Silent Mix) - Ricardo Villalobos Remix\" by Tony Allen...\n",
      "No results found for: 'Asiko (In a Silent Mix) - Ricardo Villalobos Remix Tony Allen'\n",
      "Searching for \"Asiko (In a Silent Mix) - Ricardo Villalobos Remix\" by Tony Allen...\n"
     ]
    },
    {
     "name": "stderr",
     "output_type": "stream",
     "text": [
      " 16%|███████████▏                                                        | 217/1322 [09:23<37:26,  2.03s/it]"
     ]
    },
    {
     "name": "stdout",
     "output_type": "stream",
     "text": [
      "No results found for: 'Asiko (In a Silent Mix) - Ricardo Villalobos Remix Tony Allen'\n",
      "Asiko (In a Silent Mix) - Ricardo Villalobos Remix Tony Allen Not present in Genius\n",
      "Searching for \"Plain & Sane & Simple Melody\" by Ted Lucas...\n"
     ]
    },
    {
     "name": "stderr",
     "output_type": "stream",
     "text": [
      " 16%|███████████▏                                                        | 218/1322 [09:26<39:56,  2.17s/it]"
     ]
    },
    {
     "name": "stdout",
     "output_type": "stream",
     "text": [
      "Done.\n",
      "Searching for \"Toda Essa Água\" by Lô Borges...\n",
      "Specified song does not contain lyrics. Rejecting.\n",
      "Searching for \"Toda Essa Água\" by Lô Borges...\n",
      "Specified song does not contain lyrics. Rejecting.\n",
      "Searching for \"Toda Essa Água\" by Lô Borges...\n",
      "Specified song does not contain lyrics. Rejecting.\n",
      "Searching for \"Toda Essa Água\" by Lô Borges...\n",
      "Specified song does not contain lyrics. Rejecting.\n",
      "Searching for \"Toda Essa Água\" by Lô Borges...\n"
     ]
    },
    {
     "name": "stderr",
     "output_type": "stream",
     "text": [
      " 17%|███████████▎                                                        | 219/1322 [09:28<41:51,  2.28s/it]"
     ]
    },
    {
     "name": "stdout",
     "output_type": "stream",
     "text": [
      "Specified song does not contain lyrics. Rejecting.\n",
      "Toda Essa Água Lô Borges Not present in Genius\n",
      "Searching for \"Wallpaper\" by Woo...\n"
     ]
    },
    {
     "name": "stderr",
     "output_type": "stream",
     "text": [
      " 17%|███████████▎                                                        | 220/1322 [09:31<46:44,  2.54s/it]"
     ]
    },
    {
     "name": "stdout",
     "output_type": "stream",
     "text": [
      "Done.\n",
      "Searching for \"Second Chance\" by Caribou...\n"
     ]
    },
    {
     "name": "stderr",
     "output_type": "stream",
     "text": [
      " 17%|███████████▎                                                        | 221/1322 [09:34<44:23,  2.42s/it]"
     ]
    },
    {
     "name": "stdout",
     "output_type": "stream",
     "text": [
      "Done.\n",
      "Searching for \"Gestos De Equilíbrio\" by Priscilla Ermel...\n",
      "No results found for: 'Gestos De Equilíbrio Priscilla Ermel'\n",
      "Searching for \"Gestos De Equilíbrio\" by Priscilla Ermel...\n",
      "No results found for: 'Gestos De Equilíbrio Priscilla Ermel'\n",
      "Searching for \"Gestos De Equilíbrio\" by Priscilla Ermel...\n",
      "No results found for: 'Gestos De Equilíbrio Priscilla Ermel'\n",
      "Searching for \"Gestos De Equilíbrio\" by Priscilla Ermel...\n",
      "No results found for: 'Gestos De Equilíbrio Priscilla Ermel'\n",
      "Searching for \"Gestos De Equilíbrio\" by Priscilla Ermel...\n"
     ]
    },
    {
     "name": "stderr",
     "output_type": "stream",
     "text": [
      " 17%|███████████▍                                                        | 222/1322 [09:35<40:57,  2.23s/it]"
     ]
    },
    {
     "name": "stdout",
     "output_type": "stream",
     "text": [
      "No results found for: 'Gestos De Equilíbrio Priscilla Ermel'\n",
      "Gestos De Equilíbrio Priscilla Ermel Not present in Genius\n",
      "Searching for \"Bandit Nrah Master of Rajasthan\" by Richard Horowitz...\n",
      "No results found for: 'Bandit Nrah Master of Rajasthan Richard Horowitz'\n",
      "Searching for \"Bandit Nrah Master of Rajasthan\" by Richard Horowitz...\n",
      "No results found for: 'Bandit Nrah Master of Rajasthan Richard Horowitz'\n",
      "Searching for \"Bandit Nrah Master of Rajasthan\" by Richard Horowitz...\n",
      "No results found for: 'Bandit Nrah Master of Rajasthan Richard Horowitz'\n",
      "Searching for \"Bandit Nrah Master of Rajasthan\" by Richard Horowitz...\n",
      "No results found for: 'Bandit Nrah Master of Rajasthan Richard Horowitz'\n",
      "Searching for \"Bandit Nrah Master of Rajasthan\" by Richard Horowitz...\n"
     ]
    },
    {
     "name": "stderr",
     "output_type": "stream",
     "text": [
      " 17%|███████████▍                                                        | 223/1322 [09:37<38:17,  2.09s/it]"
     ]
    },
    {
     "name": "stdout",
     "output_type": "stream",
     "text": [
      "No results found for: 'Bandit Nrah Master of Rajasthan Richard Horowitz'\n",
      "Bandit Nrah Master of Rajasthan Richard Horowitz Not present in Genius\n",
      "Searching for \"Africa - Live; Live - Strumentale\" by Pepe Maina...\n",
      "No results found for: 'Africa - Live; Live - Strumentale Pepe Maina'\n",
      "Searching for \"Africa - Live; Live - Strumentale\" by Pepe Maina...\n",
      "No results found for: 'Africa - Live; Live - Strumentale Pepe Maina'\n",
      "Searching for \"Africa - Live; Live - Strumentale\" by Pepe Maina...\n",
      "No results found for: 'Africa - Live; Live - Strumentale Pepe Maina'\n",
      "Searching for \"Africa - Live; Live - Strumentale\" by Pepe Maina...\n",
      "No results found for: 'Africa - Live; Live - Strumentale Pepe Maina'\n",
      "Searching for \"Africa - Live; Live - Strumentale\" by Pepe Maina...\n"
     ]
    },
    {
     "name": "stderr",
     "output_type": "stream",
     "text": [
      " 17%|███████████▌                                                        | 224/1322 [09:39<38:39,  2.11s/it]"
     ]
    },
    {
     "name": "stdout",
     "output_type": "stream",
     "text": [
      "No results found for: 'Africa - Live; Live - Strumentale Pepe Maina'\n",
      "Africa - Live; Live - Strumentale Pepe Maina Not present in Genius\n",
      "Searching for \"Fancy\" by The-Dream...\n"
     ]
    },
    {
     "name": "stderr",
     "output_type": "stream",
     "text": [
      " 17%|███████████▌                                                        | 225/1322 [09:43<45:12,  2.47s/it]"
     ]
    },
    {
     "name": "stdout",
     "output_type": "stream",
     "text": [
      "Done.\n",
      "Searching for \"Jamelia\" by Caribou...\n"
     ]
    },
    {
     "name": "stderr",
     "output_type": "stream",
     "text": [
      " 17%|███████████▌                                                        | 226/1322 [09:44<40:38,  2.22s/it]"
     ]
    },
    {
     "name": "stdout",
     "output_type": "stream",
     "text": [
      "Done.\n",
      "Searching for \"Faster Than A Speeding Bullet\" by iSH...\n"
     ]
    },
    {
     "name": "stderr",
     "output_type": "stream",
     "text": [
      " 17%|███████████▋                                                        | 227/1322 [09:47<41:27,  2.27s/it]"
     ]
    },
    {
     "name": "stdout",
     "output_type": "stream",
     "text": [
      "Done.\n",
      "Searching for \"It'll All Be Over\" by Supreme Jubilees...\n"
     ]
    },
    {
     "name": "stderr",
     "output_type": "stream",
     "text": [
      " 17%|███████████▋                                                        | 228/1322 [09:49<40:30,  2.22s/it]"
     ]
    },
    {
     "name": "stdout",
     "output_type": "stream",
     "text": [
      "Done.\n",
      "Searching for \"Lalibela\" by Caribou...\n",
      "Specified song does not contain lyrics. Rejecting.\n",
      "Searching for \"Lalibela\" by Caribou...\n",
      "Specified song does not contain lyrics. Rejecting.\n",
      "Searching for \"Lalibela\" by Caribou...\n",
      "Specified song does not contain lyrics. Rejecting.\n",
      "Searching for \"Lalibela\" by Caribou...\n",
      "Specified song does not contain lyrics. Rejecting.\n",
      "Searching for \"Lalibela\" by Caribou...\n"
     ]
    },
    {
     "name": "stderr",
     "output_type": "stream",
     "text": [
      " 17%|███████████▊                                                        | 229/1322 [09:50<38:10,  2.10s/it]"
     ]
    },
    {
     "name": "stdout",
     "output_type": "stream",
     "text": [
      "Specified song does not contain lyrics. Rejecting.\n",
      "Lalibela Caribou Not present in Genius\n",
      "Searching for \"Ngoni Fola\" by Bassekou Kouyate...\n",
      "No results found for: 'Ngoni Fola Bassekou Kouyate'\n",
      "Searching for \"Ngoni Fola\" by Bassekou Kouyate...\n",
      "No results found for: 'Ngoni Fola Bassekou Kouyate'\n",
      "Searching for \"Ngoni Fola\" by Bassekou Kouyate...\n",
      "No results found for: 'Ngoni Fola Bassekou Kouyate'\n",
      "Searching for \"Ngoni Fola\" by Bassekou Kouyate...\n",
      "No results found for: 'Ngoni Fola Bassekou Kouyate'\n",
      "Searching for \"Ngoni Fola\" by Bassekou Kouyate...\n"
     ]
    },
    {
     "name": "stderr",
     "output_type": "stream",
     "text": [
      " 17%|███████████▊                                                        | 230/1322 [09:52<36:11,  1.99s/it]"
     ]
    },
    {
     "name": "stdout",
     "output_type": "stream",
     "text": [
      "No results found for: 'Ngoni Fola Bassekou Kouyate'\n",
      "Ngoni Fola Bassekou Kouyate Not present in Genius\n",
      "Searching for \"I'm Sending Vibrations\" by The Webb People...\n"
     ]
    },
    {
     "name": "stderr",
     "output_type": "stream",
     "text": [
      " 17%|███████████▉                                                        | 231/1322 [09:55<39:40,  2.18s/it]"
     ]
    },
    {
     "name": "stdout",
     "output_type": "stream",
     "text": [
      "Done.\n",
      "Searching for \"Sunrain\" by Ashra...\n"
     ]
    },
    {
     "name": "stderr",
     "output_type": "stream",
     "text": [
      " 18%|███████████▉                                                        | 232/1322 [09:58<42:44,  2.35s/it]"
     ]
    },
    {
     "name": "stdout",
     "output_type": "stream",
     "text": [
      "Done.\n",
      "Searching for \"Nemo's Dream\" by Wolfgang Dauners Et Cetera...\n",
      "No results found for: 'Nemo's Dream Wolfgang Dauners Et Cetera'\n",
      "Searching for \"Nemo's Dream\" by Wolfgang Dauners Et Cetera...\n",
      "No results found for: 'Nemo's Dream Wolfgang Dauners Et Cetera'\n",
      "Searching for \"Nemo's Dream\" by Wolfgang Dauners Et Cetera...\n",
      "No results found for: 'Nemo's Dream Wolfgang Dauners Et Cetera'\n",
      "Searching for \"Nemo's Dream\" by Wolfgang Dauners Et Cetera...\n",
      "No results found for: 'Nemo's Dream Wolfgang Dauners Et Cetera'\n",
      "Searching for \"Nemo's Dream\" by Wolfgang Dauners Et Cetera...\n"
     ]
    },
    {
     "name": "stderr",
     "output_type": "stream",
     "text": [
      " 18%|███████████▉                                                        | 233/1322 [09:59<39:23,  2.17s/it]"
     ]
    },
    {
     "name": "stdout",
     "output_type": "stream",
     "text": [
      "No results found for: 'Nemo's Dream Wolfgang Dauners Et Cetera'\n",
      "Nemo's Dream Wolfgang Dauners Et Cetera Not present in Genius\n",
      "Searching for \"Children'S Song\" by Jordi Sabatés...\n",
      "No results found for: 'Children'S Song Jordi Sabatés'\n",
      "Searching for \"Children'S Song\" by Jordi Sabatés...\n",
      "No results found for: 'Children'S Song Jordi Sabatés'\n",
      "Searching for \"Children'S Song\" by Jordi Sabatés...\n",
      "No results found for: 'Children'S Song Jordi Sabatés'\n",
      "Searching for \"Children'S Song\" by Jordi Sabatés...\n",
      "No results found for: 'Children'S Song Jordi Sabatés'\n",
      "Searching for \"Children'S Song\" by Jordi Sabatés...\n"
     ]
    },
    {
     "name": "stderr",
     "output_type": "stream",
     "text": [
      " 18%|████████████                                                        | 234/1322 [10:01<38:35,  2.13s/it]"
     ]
    },
    {
     "name": "stdout",
     "output_type": "stream",
     "text": [
      "No results found for: 'Children'S Song Jordi Sabatés'\n",
      "Children'S Song Jordi Sabatés Not present in Genius\n",
      "Searching for \"Lucy\" by Roman IV...\n"
     ]
    },
    {
     "name": "stderr",
     "output_type": "stream",
     "text": [
      " 18%|████████████                                                        | 235/1322 [10:03<38:29,  2.13s/it]"
     ]
    },
    {
     "name": "stdout",
     "output_type": "stream",
     "text": [
      "Done.\n",
      "Searching for \"Ahora\" by Daphni...\n"
     ]
    },
    {
     "name": "stderr",
     "output_type": "stream",
     "text": [
      " 18%|████████████▏                                                       | 236/1322 [10:06<40:30,  2.24s/it]"
     ]
    },
    {
     "name": "stdout",
     "output_type": "stream",
     "text": [
      "Done.\n",
      "Searching for \"Sun\" by Caribou...\n"
     ]
    },
    {
     "name": "stderr",
     "output_type": "stream",
     "text": [
      " 18%|████████████▏                                                       | 237/1322 [10:08<38:56,  2.15s/it]"
     ]
    },
    {
     "name": "stdout",
     "output_type": "stream",
     "text": [
      "Done.\n",
      "Searching for \"Rack railway To\" by Roberto Musci...\n"
     ]
    },
    {
     "name": "stderr",
     "output_type": "stream",
     "text": [
      " 18%|████████████▏                                                       | 238/1322 [10:11<45:20,  2.51s/it]"
     ]
    },
    {
     "name": "stdout",
     "output_type": "stream",
     "text": [
      "Done.\n",
      "Searching for \"Get Down with Me\" by Angelo Tinsley...\n"
     ]
    },
    {
     "name": "stderr",
     "output_type": "stream",
     "text": [
      " 18%|████████████▎                                                       | 239/1322 [10:13<41:56,  2.32s/it]"
     ]
    },
    {
     "name": "stdout",
     "output_type": "stream",
     "text": [
      "Done.\n",
      "Searching for \"Sah\" by Al Massrieen...\n"
     ]
    },
    {
     "name": "stderr",
     "output_type": "stream",
     "text": [
      " 18%|████████████▎                                                       | 240/1322 [10:15<39:52,  2.21s/it]"
     ]
    },
    {
     "name": "stdout",
     "output_type": "stream",
     "text": [
      "Done.\n",
      "Searching for \"Ayonha\" by Hamid Al Shaeri...\n"
     ]
    },
    {
     "name": "stderr",
     "output_type": "stream",
     "text": [
      " 18%|████████████▍                                                       | 241/1322 [10:17<38:06,  2.11s/it]"
     ]
    },
    {
     "name": "stdout",
     "output_type": "stream",
     "text": [
      "Done.\n",
      "Searching for \"Lamento Africano/Rictus\" by Maria Rita Stumpf...\n",
      "No results found for: 'Lamento Africano/Rictus Maria Rita Stumpf'\n",
      "Searching for \"Lamento Africano/Rictus\" by Maria Rita Stumpf...\n",
      "No results found for: 'Lamento Africano/Rictus Maria Rita Stumpf'\n",
      "Searching for \"Lamento Africano/Rictus\" by Maria Rita Stumpf...\n",
      "No results found for: 'Lamento Africano/Rictus Maria Rita Stumpf'\n",
      "Searching for \"Lamento Africano/Rictus\" by Maria Rita Stumpf...\n",
      "No results found for: 'Lamento Africano/Rictus Maria Rita Stumpf'\n",
      "Searching for \"Lamento Africano/Rictus\" by Maria Rita Stumpf...\n"
     ]
    },
    {
     "name": "stderr",
     "output_type": "stream",
     "text": [
      " 18%|████████████▍                                                       | 242/1322 [10:19<36:21,  2.02s/it]"
     ]
    },
    {
     "name": "stdout",
     "output_type": "stream",
     "text": [
      "No results found for: 'Lamento Africano/Rictus Maria Rita Stumpf'\n",
      "Lamento Africano/Rictus Maria Rita Stumpf Not present in Genius\n",
      "Searching for \"And Then\" by Harco Pront...\n"
     ]
    },
    {
     "name": "stderr",
     "output_type": "stream",
     "text": [
      " 18%|████████████▍                                                       | 243/1322 [10:22<41:11,  2.29s/it]"
     ]
    },
    {
     "name": "stdout",
     "output_type": "stream",
     "text": [
      "Done.\n",
      "Searching for \"Sunsesame\" by Caribou...\n",
      "Specified song does not contain lyrics. Rejecting.\n",
      "Searching for \"Sunsesame\" by Caribou...\n",
      "Specified song does not contain lyrics. Rejecting.\n",
      "Searching for \"Sunsesame\" by Caribou...\n",
      "Specified song does not contain lyrics. Rejecting.\n",
      "Searching for \"Sunsesame\" by Caribou...\n",
      "Specified song does not contain lyrics. Rejecting.\n",
      "Searching for \"Sunsesame\" by Caribou...\n"
     ]
    },
    {
     "name": "stderr",
     "output_type": "stream",
     "text": [
      " 18%|████████████▌                                                       | 244/1322 [10:24<38:45,  2.16s/it]"
     ]
    },
    {
     "name": "stdout",
     "output_type": "stream",
     "text": [
      "Specified song does not contain lyrics. Rejecting.\n",
      "Sunsesame Caribou Not present in Genius\n",
      "Searching for \"Prison Song\" by Carlton Williams...\n"
     ]
    },
    {
     "name": "stderr",
     "output_type": "stream",
     "text": [
      " 19%|████████████▌                                                       | 245/1322 [10:26<40:49,  2.27s/it]"
     ]
    },
    {
     "name": "stdout",
     "output_type": "stream",
     "text": [
      "Done.\n",
      "Searching for \"Hal Hal\" by Barış Manço...\n"
     ]
    },
    {
     "name": "stderr",
     "output_type": "stream",
     "text": [
      " 19%|████████████▋                                                       | 246/1322 [10:29<44:48,  2.50s/it]"
     ]
    },
    {
     "name": "stdout",
     "output_type": "stream",
     "text": [
      "Done.\n",
      "Searching for \"Dujii\" by Kool & The Gang...\n"
     ]
    },
    {
     "name": "stderr",
     "output_type": "stream",
     "text": [
      " 19%|████████████▋                                                       | 247/1322 [10:33<49:30,  2.76s/it]"
     ]
    },
    {
     "name": "stdout",
     "output_type": "stream",
     "text": [
      "Done.\n",
      "Searching for \"Love Song\" by Lani Hall...\n"
     ]
    },
    {
     "name": "stderr",
     "output_type": "stream",
     "text": [
      " 19%|████████████▊                                                       | 248/1322 [10:35<46:37,  2.60s/it]"
     ]
    },
    {
     "name": "stdout",
     "output_type": "stream",
     "text": [
      "Done.\n",
      "Searching for \"Dundas, Ontario\" by Caribou...\n",
      "Specified song does not contain lyrics. Rejecting.\n",
      "Searching for \"Dundas, Ontario\" by Caribou...\n",
      "Specified song does not contain lyrics. Rejecting.\n",
      "Searching for \"Dundas, Ontario\" by Caribou...\n",
      "Specified song does not contain lyrics. Rejecting.\n",
      "Searching for \"Dundas, Ontario\" by Caribou...\n",
      "Specified song does not contain lyrics. Rejecting.\n",
      "Searching for \"Dundas, Ontario\" by Caribou...\n"
     ]
    },
    {
     "name": "stderr",
     "output_type": "stream",
     "text": [
      " 19%|████████████▊                                                       | 249/1322 [10:37<41:56,  2.35s/it]"
     ]
    },
    {
     "name": "stdout",
     "output_type": "stream",
     "text": [
      "Specified song does not contain lyrics. Rejecting.\n",
      "Dundas, Ontario Caribou Not present in Genius\n",
      "Searching for \"Medellin\" by Daphni...\n"
     ]
    },
    {
     "name": "stderr",
     "output_type": "stream",
     "text": [
      " 19%|████████████▊                                                       | 250/1322 [10:39<42:23,  2.37s/it]"
     ]
    },
    {
     "name": "stdout",
     "output_type": "stream",
     "text": [
      "Done.\n",
      "Searching for \"Don't Turn Me Away\" by Gladys Knight & The Pips...\n"
     ]
    },
    {
     "name": "stderr",
     "output_type": "stream",
     "text": [
      " 19%|████████████▉                                                       | 251/1322 [10:42<44:54,  2.52s/it]"
     ]
    },
    {
     "name": "stdout",
     "output_type": "stream",
     "text": [
      "Done.\n",
      "Searching for \"The Waving Theme\" by Nemo...\n"
     ]
    },
    {
     "name": "stderr",
     "output_type": "stream",
     "text": [
      " 19%|████████████▉                                                       | 252/1322 [10:47<56:56,  3.19s/it]"
     ]
    },
    {
     "name": "stdout",
     "output_type": "stream",
     "text": [
      "Done.\n",
      "Searching for \"Nao Aguento Voce\" by Trio Esperança...\n"
     ]
    },
    {
     "name": "stderr",
     "output_type": "stream",
     "text": [
      " 19%|█████████████                                                       | 253/1322 [10:49<53:21,  2.99s/it]"
     ]
    },
    {
     "name": "stdout",
     "output_type": "stream",
     "text": [
      "Done.\n",
      "Searching for \"Tihar bayatin - Live\" by Tartit...\n",
      "No results found for: 'Tihar bayatin - Live Tartit'\n",
      "Searching for \"Tihar bayatin - Live\" by Tartit...\n",
      "No results found for: 'Tihar bayatin - Live Tartit'\n",
      "Searching for \"Tihar bayatin - Live\" by Tartit...\n",
      "No results found for: 'Tihar bayatin - Live Tartit'\n",
      "Searching for \"Tihar bayatin - Live\" by Tartit...\n",
      "No results found for: 'Tihar bayatin - Live Tartit'\n",
      "Searching for \"Tihar bayatin - Live\" by Tartit...\n"
     ]
    },
    {
     "name": "stderr",
     "output_type": "stream",
     "text": [
      " 19%|█████████████                                                       | 254/1322 [10:51<46:31,  2.61s/it]"
     ]
    },
    {
     "name": "stdout",
     "output_type": "stream",
     "text": [
      "No results found for: 'Tihar bayatin - Live Tartit'\n",
      "Tihar bayatin - Live Tartit Not present in Genius\n",
      "Searching for \"DOWN TO THE EARTH/大地へ\" by Haruomi Hosono...\n",
      "No results found for: 'DOWN TO THE EARTH/大地へ Haruomi Hosono'\n",
      "Searching for \"DOWN TO THE EARTH/大地へ\" by Haruomi Hosono...\n",
      "No results found for: 'DOWN TO THE EARTH/大地へ Haruomi Hosono'\n",
      "Searching for \"DOWN TO THE EARTH/大地へ\" by Haruomi Hosono...\n",
      "No results found for: 'DOWN TO THE EARTH/大地へ Haruomi Hosono'\n",
      "Searching for \"DOWN TO THE EARTH/大地へ\" by Haruomi Hosono...\n",
      "No results found for: 'DOWN TO THE EARTH/大地へ Haruomi Hosono'\n",
      "Searching for \"DOWN TO THE EARTH/大地へ\" by Haruomi Hosono...\n"
     ]
    },
    {
     "name": "stderr",
     "output_type": "stream",
     "text": [
      " 19%|█████████████                                                       | 255/1322 [10:53<42:14,  2.38s/it]"
     ]
    },
    {
     "name": "stdout",
     "output_type": "stream",
     "text": [
      "No results found for: 'DOWN TO THE EARTH/大地へ Haruomi Hosono'\n",
      "DOWN TO THE EARTH/大地へ Haruomi Hosono Not present in Genius\n",
      "Searching for \"Leave House\" by Caribou...\n"
     ]
    },
    {
     "name": "stderr",
     "output_type": "stream",
     "text": [
      " 19%|█████████████▏                                                      | 256/1322 [10:57<54:45,  3.08s/it]"
     ]
    },
    {
     "name": "stdout",
     "output_type": "stream",
     "text": [
      "Done.\n",
      "Searching for \"Guerra e pace, pollo e brace 1\" by Ennio Morricone...\n",
      "No results found for: 'Guerra e pace, pollo e brace 1 Ennio Morricone'\n",
      "Searching for \"Guerra e pace, pollo e brace 1\" by Ennio Morricone...\n",
      "No results found for: 'Guerra e pace, pollo e brace 1 Ennio Morricone'\n",
      "Searching for \"Guerra e pace, pollo e brace 1\" by Ennio Morricone...\n",
      "No results found for: 'Guerra e pace, pollo e brace 1 Ennio Morricone'\n",
      "Searching for \"Guerra e pace, pollo e brace 1\" by Ennio Morricone...\n",
      "No results found for: 'Guerra e pace, pollo e brace 1 Ennio Morricone'\n",
      "Searching for \"Guerra e pace, pollo e brace 1\" by Ennio Morricone...\n"
     ]
    },
    {
     "name": "stderr",
     "output_type": "stream",
     "text": [
      " 19%|█████████████▏                                                      | 257/1322 [10:59<47:37,  2.68s/it]"
     ]
    },
    {
     "name": "stdout",
     "output_type": "stream",
     "text": [
      "No results found for: 'Guerra e pace, pollo e brace 1 Ennio Morricone'\n",
      "Guerra e pace, pollo e brace 1 Ennio Morricone Not present in Genius\n",
      "Searching for \"Bandung\" by Yanti Bersaudara...\n"
     ]
    },
    {
     "name": "stderr",
     "output_type": "stream",
     "text": [
      " 20%|█████████████▎                                                      | 258/1322 [11:01<45:28,  2.56s/it]"
     ]
    },
    {
     "name": "stdout",
     "output_type": "stream",
     "text": [
      "Done.\n",
      "Searching for \"Searching For The Truth\" by Dwain Vinyard...\n"
     ]
    },
    {
     "name": "stderr",
     "output_type": "stream",
     "text": [
      " 20%|█████████████▎                                                      | 259/1322 [11:04<46:12,  2.61s/it]"
     ]
    },
    {
     "name": "stdout",
     "output_type": "stream",
     "text": [
      "Done.\n",
      "Searching for \"You Can't Blame Me\" by Johnson, Hawkins, Tatum & Durr...\n"
     ]
    },
    {
     "name": "stderr",
     "output_type": "stream",
     "text": [
      " 20%|█████████████▎                                                      | 260/1322 [11:07<48:41,  2.75s/it]"
     ]
    },
    {
     "name": "stdout",
     "output_type": "stream",
     "text": [
      "Done.\n",
      "Searching for \"You Make Me Nothing\" by Energettics...\n"
     ]
    },
    {
     "name": "stderr",
     "output_type": "stream",
     "text": [
      " 20%|█████████████▍                                                      | 261/1322 [11:09<44:22,  2.51s/it]"
     ]
    },
    {
     "name": "stdout",
     "output_type": "stream",
     "text": [
      "Done.\n",
      "Searching for \"Drumheller\" by Caribou...\n",
      "Specified song does not contain lyrics. Rejecting.\n",
      "Searching for \"Drumheller\" by Caribou...\n",
      "Specified song does not contain lyrics. Rejecting.\n",
      "Searching for \"Drumheller\" by Caribou...\n",
      "Specified song does not contain lyrics. Rejecting.\n",
      "Searching for \"Drumheller\" by Caribou...\n",
      "Specified song does not contain lyrics. Rejecting.\n",
      "Searching for \"Drumheller\" by Caribou...\n"
     ]
    },
    {
     "name": "stderr",
     "output_type": "stream",
     "text": [
      " 20%|█████████████▍                                                      | 262/1322 [11:11<40:34,  2.30s/it]"
     ]
    },
    {
     "name": "stdout",
     "output_type": "stream",
     "text": [
      "Specified song does not contain lyrics. Rejecting.\n",
      "Drumheller Caribou Not present in Genius\n",
      "Searching for \"Love's Gonna Pack up and Walk Out\" by Sly, Slick & Wicked...\n"
     ]
    },
    {
     "name": "stderr",
     "output_type": "stream",
     "text": [
      " 20%|█████████████▌                                                      | 263/1322 [11:14<42:36,  2.41s/it]"
     ]
    },
    {
     "name": "stdout",
     "output_type": "stream",
     "text": [
      "Done.\n",
      "Searching for \"If\" by Daphni...\n",
      "Specified song does not contain lyrics. Rejecting.\n",
      "Searching for \"If\" by Daphni...\n",
      "Specified song does not contain lyrics. Rejecting.\n",
      "Searching for \"If\" by Daphni...\n",
      "Specified song does not contain lyrics. Rejecting.\n",
      "Searching for \"If\" by Daphni...\n",
      "Specified song does not contain lyrics. Rejecting.\n",
      "Searching for \"If\" by Daphni...\n"
     ]
    },
    {
     "name": "stderr",
     "output_type": "stream",
     "text": [
      " 20%|█████████████▌                                                      | 264/1322 [11:16<40:44,  2.31s/it]"
     ]
    },
    {
     "name": "stdout",
     "output_type": "stream",
     "text": [
      "Specified song does not contain lyrics. Rejecting.\n",
      "If Daphni Not present in Genius\n",
      "Searching for \"Seven Years\" by The Impressions...\n"
     ]
    },
    {
     "name": "stderr",
     "output_type": "stream",
     "text": [
      " 20%|█████████████▋                                                      | 265/1322 [11:17<36:46,  2.09s/it]"
     ]
    },
    {
     "name": "stdout",
     "output_type": "stream",
     "text": [
      "Done.\n",
      "Searching for \"The Meaning of Love\" by Steve Kuhn...\n"
     ]
    },
    {
     "name": "stderr",
     "output_type": "stream",
     "text": [
      " 20%|█████████████▋                                                      | 266/1322 [11:20<38:19,  2.18s/it]"
     ]
    },
    {
     "name": "stdout",
     "output_type": "stream",
     "text": [
      "Done.\n",
      "Searching for \"Kisloty People\" by Schacke...\n"
     ]
    },
    {
     "name": "stderr",
     "output_type": "stream",
     "text": [
      " 20%|█████████████▋                                                      | 267/1322 [11:21<35:53,  2.04s/it]"
     ]
    },
    {
     "name": "stdout",
     "output_type": "stream",
     "text": [
      "Done.\n",
      "Searching for \"Antistatic, Pt. 2\" by Vainqueur...\n",
      "No results found for: 'Antistatic, Pt. 2 Vainqueur'\n",
      "Searching for \"Antistatic, Pt. 2\" by Vainqueur...\n",
      "No results found for: 'Antistatic, Pt. 2 Vainqueur'\n",
      "Searching for \"Antistatic, Pt. 2\" by Vainqueur...\n",
      "No results found for: 'Antistatic, Pt. 2 Vainqueur'\n",
      "Searching for \"Antistatic, Pt. 2\" by Vainqueur...\n",
      "No results found for: 'Antistatic, Pt. 2 Vainqueur'\n",
      "Searching for \"Antistatic, Pt. 2\" by Vainqueur...\n"
     ]
    },
    {
     "name": "stderr",
     "output_type": "stream",
     "text": [
      " 20%|█████████████▊                                                      | 268/1322 [11:23<34:07,  1.94s/it]"
     ]
    },
    {
     "name": "stdout",
     "output_type": "stream",
     "text": [
      "No results found for: 'Antistatic, Pt. 2 Vainqueur'\n",
      "Antistatic, Pt. 2 Vainqueur Not present in Genius\n",
      "Searching for \"Back Home\" by Caribou...\n"
     ]
    },
    {
     "name": "stderr",
     "output_type": "stream",
     "text": [
      " 20%|█████████████▊                                                      | 269/1322 [11:26<39:49,  2.27s/it]"
     ]
    },
    {
     "name": "stdout",
     "output_type": "stream",
     "text": [
      "Done.\n",
      "Searching for \"Where Is the Love (You Promised Me)\" by Jack Sass Band...\n"
     ]
    },
    {
     "name": "stderr",
     "output_type": "stream",
     "text": [
      " 20%|█████████████▉                                                      | 270/1322 [11:29<43:00,  2.45s/it]"
     ]
    },
    {
     "name": "stdout",
     "output_type": "stream",
     "text": [
      "Done.\n",
      "Searching for \"Driving Hyperreality\" by Stargate...\n"
     ]
    },
    {
     "name": "stderr",
     "output_type": "stream",
     "text": [
      " 20%|█████████████▉                                                      | 271/1322 [11:32<47:23,  2.71s/it]"
     ]
    },
    {
     "name": "stdout",
     "output_type": "stream",
     "text": [
      "Done.\n",
      "Searching for \"Aria\" by Placebo...\n"
     ]
    },
    {
     "name": "stderr",
     "output_type": "stream",
     "text": [
      " 21%|█████████████▉                                                      | 272/1322 [11:34<43:29,  2.49s/it]"
     ]
    },
    {
     "name": "stdout",
     "output_type": "stream",
     "text": [
      "Done.\n",
      "Searching for \"Capoeira na vila\" by Ensemble Amaro de Souza...\n",
      "No results found for: 'Capoeira na vila Ensemble Amaro de Souza'\n",
      "Searching for \"Capoeira na vila\" by Ensemble Amaro de Souza...\n",
      "No results found for: 'Capoeira na vila Ensemble Amaro de Souza'\n",
      "Searching for \"Capoeira na vila\" by Ensemble Amaro de Souza...\n",
      "No results found for: 'Capoeira na vila Ensemble Amaro de Souza'\n",
      "Searching for \"Capoeira na vila\" by Ensemble Amaro de Souza...\n",
      "No results found for: 'Capoeira na vila Ensemble Amaro de Souza'\n",
      "Searching for \"Capoeira na vila\" by Ensemble Amaro de Souza...\n"
     ]
    },
    {
     "name": "stderr",
     "output_type": "stream",
     "text": [
      " 21%|██████████████                                                      | 273/1322 [11:36<39:43,  2.27s/it]"
     ]
    },
    {
     "name": "stdout",
     "output_type": "stream",
     "text": [
      "No results found for: 'Capoeira na vila Ensemble Amaro de Souza'\n",
      "Capoeira na vila Ensemble Amaro de Souza Not present in Genius\n",
      "Searching for \"Juana y Rosalía\" by Finis Africae...\n",
      "No results found for: 'Juana y Rosalía Finis Africae'\n",
      "Searching for \"Juana y Rosalía\" by Finis Africae...\n",
      "No results found for: 'Juana y Rosalía Finis Africae'\n",
      "Searching for \"Juana y Rosalía\" by Finis Africae...\n",
      "No results found for: 'Juana y Rosalía Finis Africae'\n",
      "Searching for \"Juana y Rosalía\" by Finis Africae...\n",
      "No results found for: 'Juana y Rosalía Finis Africae'\n",
      "Searching for \"Juana y Rosalía\" by Finis Africae...\n"
     ]
    },
    {
     "name": "stderr",
     "output_type": "stream",
     "text": [
      " 21%|██████████████                                                      | 274/1322 [11:38<36:46,  2.11s/it]"
     ]
    },
    {
     "name": "stdout",
     "output_type": "stream",
     "text": [
      "No results found for: 'Juana y Rosalía Finis Africae'\n",
      "Juana y Rosalía Finis Africae Not present in Genius\n",
      "Searching for \"Banteay Srey\" by Carl Stone...\n",
      "No results found for: 'Banteay Srey Carl Stone'\n",
      "Searching for \"Banteay Srey\" by Carl Stone...\n",
      "No results found for: 'Banteay Srey Carl Stone'\n",
      "Searching for \"Banteay Srey\" by Carl Stone...\n",
      "No results found for: 'Banteay Srey Carl Stone'\n",
      "Searching for \"Banteay Srey\" by Carl Stone...\n",
      "No results found for: 'Banteay Srey Carl Stone'\n",
      "Searching for \"Banteay Srey\" by Carl Stone...\n"
     ]
    },
    {
     "name": "stderr",
     "output_type": "stream",
     "text": [
      " 21%|██████████████▏                                                     | 275/1322 [11:40<35:07,  2.01s/it]"
     ]
    },
    {
     "name": "stdout",
     "output_type": "stream",
     "text": [
      "No results found for: 'Banteay Srey Carl Stone'\n",
      "Banteay Srey Carl Stone Not present in Genius\n",
      "Searching for \"Bowls\" by Caribou...\n",
      "Specified song does not contain lyrics. Rejecting.\n",
      "Searching for \"Bowls\" by Caribou...\n",
      "Specified song does not contain lyrics. Rejecting.\n",
      "Searching for \"Bowls\" by Caribou...\n",
      "Specified song does not contain lyrics. Rejecting.\n",
      "Searching for \"Bowls\" by Caribou...\n",
      "Specified song does not contain lyrics. Rejecting.\n",
      "Searching for \"Bowls\" by Caribou...\n"
     ]
    },
    {
     "name": "stderr",
     "output_type": "stream",
     "text": [
      " 21%|██████████████▏                                                     | 276/1322 [11:42<39:20,  2.26s/it]"
     ]
    },
    {
     "name": "stdout",
     "output_type": "stream",
     "text": [
      "Specified song does not contain lyrics. Rejecting.\n",
      "Bowls Caribou Not present in Genius\n",
      "Searching for \"A Gira\" by Trio Ternura...\n"
     ]
    },
    {
     "name": "stderr",
     "output_type": "stream",
     "text": [
      " 21%|██████████████▏                                                     | 277/1322 [11:46<44:57,  2.58s/it]"
     ]
    },
    {
     "name": "stdout",
     "output_type": "stream",
     "text": [
      "Done.\n",
      "Searching for \"Dance of Magic\" by Norman Connors...\n"
     ]
    },
    {
     "name": "stderr",
     "output_type": "stream",
     "text": [
      " 21%|██████████████▎                                                     | 278/1322 [11:49<47:57,  2.76s/it]"
     ]
    },
    {
     "name": "stdout",
     "output_type": "stream",
     "text": [
      "Done.\n",
      "Searching for \"A Spectacle\" by CAN...\n"
     ]
    },
    {
     "name": "stderr",
     "output_type": "stream",
     "text": [
      " 21%|██████████████▎                                                     | 279/1322 [11:51<46:28,  2.67s/it]"
     ]
    },
    {
     "name": "stdout",
     "output_type": "stream",
     "text": [
      "Done.\n",
      "Searching for \"East\" by Billy Paul...\n"
     ]
    },
    {
     "name": "stderr",
     "output_type": "stream",
     "text": [
      " 21%|██████████████▍                                                     | 280/1322 [11:54<46:27,  2.68s/it]"
     ]
    },
    {
     "name": "stdout",
     "output_type": "stream",
     "text": [
      "Done.\n",
      "Searching for \"Saat Samundar Paar, Pt. 1\" by Udit Narayan...\n",
      "No results found for: 'Saat Samundar Paar, Pt. 1 Udit Narayan'\n",
      "Searching for \"Saat Samundar Paar, Pt. 1\" by Udit Narayan...\n",
      "No results found for: 'Saat Samundar Paar, Pt. 1 Udit Narayan'\n",
      "Searching for \"Saat Samundar Paar, Pt. 1\" by Udit Narayan...\n",
      "No results found for: 'Saat Samundar Paar, Pt. 1 Udit Narayan'\n",
      "Searching for \"Saat Samundar Paar, Pt. 1\" by Udit Narayan...\n",
      "No results found for: 'Saat Samundar Paar, Pt. 1 Udit Narayan'\n",
      "Searching for \"Saat Samundar Paar, Pt. 1\" by Udit Narayan...\n"
     ]
    },
    {
     "name": "stderr",
     "output_type": "stream",
     "text": [
      " 21%|██████████████▍                                                     | 281/1322 [11:56<41:47,  2.41s/it]"
     ]
    },
    {
     "name": "stdout",
     "output_type": "stream",
     "text": [
      "No results found for: 'Saat Samundar Paar, Pt. 1 Udit Narayan'\n",
      "Saat Samundar Paar, Pt. 1 Udit Narayan Not present in Genius\n",
      "Searching for \"C.R.E.A.M. (Cash Rules Everything Around Me) (feat. Method Man, Raekwon, Inspectah Deck & Buddha Monk)\" by Wu-Tang Clan...\n",
      "No results found for: 'C.R.E.A.M. (Cash Rules Everything Around Me) (feat. Method Man, Raekwon, Inspectah Deck & Buddha Monk) Wu-Tang Clan'\n",
      "Searching for \"C.R.E.A.M. (Cash Rules Everything Around Me) (feat. Method Man, Raekwon, Inspectah Deck & Buddha Monk)\" by Wu-Tang Clan...\n",
      "No results found for: 'C.R.E.A.M. (Cash Rules Everything Around Me) (feat. Method Man, Raekwon, Inspectah Deck & Buddha Monk) Wu-Tang Clan'\n",
      "Searching for \"C.R.E.A.M. (Cash Rules Everything Around Me) (feat. Method Man, Raekwon, Inspectah Deck & Buddha Monk)\" by Wu-Tang Clan...\n",
      "No results found for: 'C.R.E.A.M. (Cash Rules Everything Around Me) (feat. Method Man, Raekwon, Inspectah Deck & Buddha Monk) Wu-Tang Clan'\n",
      "Searching for \"C.R.E.A.M. (Cash Rules Everything Around Me) (feat. Method Man, Raekwon, Inspectah Deck & Buddha Monk)\" by Wu-Tang Clan...\n",
      "No results found for: 'C.R.E.A.M. (Cash Rules Everything Around Me) (feat. Method Man, Raekwon, Inspectah Deck & Buddha Monk) Wu-Tang Clan'\n",
      "Searching for \"C.R.E.A.M. (Cash Rules Everything Around Me) (feat. Method Man, Raekwon, Inspectah Deck & Buddha Monk)\" by Wu-Tang Clan...\n"
     ]
    },
    {
     "name": "stderr",
     "output_type": "stream",
     "text": [
      " 21%|██████████████▌                                                     | 282/1322 [11:58<38:29,  2.22s/it]"
     ]
    },
    {
     "name": "stdout",
     "output_type": "stream",
     "text": [
      "No results found for: 'C.R.E.A.M. (Cash Rules Everything Around Me) (feat. Method Man, Raekwon, Inspectah Deck & Buddha Monk) Wu-Tang Clan'\n",
      "C.R.E.A.M. (Cash Rules Everything Around Me) (feat. Method Man, Raekwon, Inspectah Deck & Buddha Monk) Wu-Tang Clan Not present in Genius\n",
      "Searching for \"Interlude\" by J Dilla...\n"
     ]
    },
    {
     "name": "stderr",
     "output_type": "stream",
     "text": [
      " 21%|██████████████▌                                                     | 283/1322 [12:00<37:41,  2.18s/it]"
     ]
    },
    {
     "name": "stdout",
     "output_type": "stream",
     "text": [
      "Done.\n",
      "Searching for \"It's A Crime - Caribou Mix\" by Virgo Four...\n",
      "No results found for: 'It's A Crime - Caribou Mix Virgo Four'\n",
      "Searching for \"It's A Crime - Caribou Mix\" by Virgo Four...\n",
      "No results found for: 'It's A Crime - Caribou Mix Virgo Four'\n",
      "Searching for \"It's A Crime - Caribou Mix\" by Virgo Four...\n",
      "No results found for: 'It's A Crime - Caribou Mix Virgo Four'\n",
      "Searching for \"It's A Crime - Caribou Mix\" by Virgo Four...\n",
      "No results found for: 'It's A Crime - Caribou Mix Virgo Four'\n",
      "Searching for \"It's A Crime - Caribou Mix\" by Virgo Four...\n"
     ]
    },
    {
     "name": "stderr",
     "output_type": "stream",
     "text": [
      " 21%|██████████████▌                                                     | 284/1322 [12:01<35:27,  2.05s/it]"
     ]
    },
    {
     "name": "stdout",
     "output_type": "stream",
     "text": [
      "No results found for: 'It's A Crime - Caribou Mix Virgo Four'\n",
      "It's A Crime - Caribou Mix Virgo Four Not present in Genius\n",
      "Searching for \"Mechanical Disco Heart\" by Tevo Howard...\n"
     ]
    },
    {
     "name": "stderr",
     "output_type": "stream",
     "text": [
      " 22%|██████████████▋                                                     | 285/1322 [12:04<38:46,  2.24s/it]"
     ]
    },
    {
     "name": "stdout",
     "output_type": "stream",
     "text": [
      "Done.\n",
      "Searching for \"You Know, You Know\" by John McLaughlin...\n"
     ]
    },
    {
     "name": "stderr",
     "output_type": "stream",
     "text": [
      " 22%|██████████████▋                                                     | 286/1322 [12:06<35:46,  2.07s/it]"
     ]
    },
    {
     "name": "stdout",
     "output_type": "stream",
     "text": [
      "Done.\n",
      "Searching for \"Enthusiasm\" by Brother Ah...\n"
     ]
    },
    {
     "name": "stderr",
     "output_type": "stream",
     "text": [
      " 22%|██████████████▊                                                     | 287/1322 [12:10<44:47,  2.60s/it]"
     ]
    },
    {
     "name": "stdout",
     "output_type": "stream",
     "text": [
      "Done.\n",
      "Searching for \"Extraterrestrial Search Contact Tones\" by George Semper...\n",
      "No results found for: 'Extraterrestrial Search Contact Tones George Semper'\n",
      "Searching for \"Extraterrestrial Search Contact Tones\" by George Semper...\n",
      "No results found for: 'Extraterrestrial Search Contact Tones George Semper'\n",
      "Searching for \"Extraterrestrial Search Contact Tones\" by George Semper...\n",
      "No results found for: 'Extraterrestrial Search Contact Tones George Semper'\n",
      "Searching for \"Extraterrestrial Search Contact Tones\" by George Semper...\n",
      "No results found for: 'Extraterrestrial Search Contact Tones George Semper'\n",
      "Searching for \"Extraterrestrial Search Contact Tones\" by George Semper...\n"
     ]
    },
    {
     "name": "stderr",
     "output_type": "stream",
     "text": [
      " 22%|██████████████▊                                                     | 288/1322 [12:12<43:07,  2.50s/it]"
     ]
    },
    {
     "name": "stdout",
     "output_type": "stream",
     "text": [
      "No results found for: 'Extraterrestrial Search Contact Tones George Semper'\n",
      "Extraterrestrial Search Contact Tones George Semper Not present in Genius\n",
      "Searching for \"Both Sides Now\" by Joni Mitchell...\n"
     ]
    },
    {
     "name": "stderr",
     "output_type": "stream",
     "text": [
      " 22%|██████████████▊                                                     | 289/1322 [12:14<38:32,  2.24s/it]"
     ]
    },
    {
     "name": "stdout",
     "output_type": "stream",
     "text": [
      "Done.\n",
      "Searching for \"He\" by Jai Paul...\n"
     ]
    },
    {
     "name": "stderr",
     "output_type": "stream",
     "text": [
      " 22%|██████████████▉                                                     | 290/1322 [12:15<36:45,  2.14s/it]"
     ]
    },
    {
     "name": "stdout",
     "output_type": "stream",
     "text": [
      "Done.\n",
      "Searching for \"jasmine - demo\" by Jai Paul...\n"
     ]
    },
    {
     "name": "stderr",
     "output_type": "stream",
     "text": [
      " 22%|██████████████▉                                                     | 291/1322 [12:19<44:13,  2.57s/it]"
     ]
    },
    {
     "name": "stdout",
     "output_type": "stream",
     "text": [
      "Done.\n",
      "Searching for \"Zion Wolf Theme - Unfinished\" by Jai Paul...\n"
     ]
    },
    {
     "name": "stderr",
     "output_type": "stream",
     "text": [
      " 22%|███████████████                                                     | 292/1322 [12:21<42:01,  2.45s/it]"
     ]
    },
    {
     "name": "stdout",
     "output_type": "stream",
     "text": [
      "Done.\n",
      "Searching for \"Jacknuggeted\" by Caribou...\n"
     ]
    },
    {
     "name": "stderr",
     "output_type": "stream",
     "text": [
      " 22%|███████████████                                                     | 293/1322 [12:23<37:18,  2.18s/it]"
     ]
    },
    {
     "name": "stdout",
     "output_type": "stream",
     "text": [
      "Done.\n",
      "Searching for \"Santa Cruz Mountains\" by Eddie Callahan...\n"
     ]
    },
    {
     "name": "stderr",
     "output_type": "stream",
     "text": [
      " 22%|███████████████                                                     | 294/1322 [12:24<34:49,  2.03s/it]"
     ]
    },
    {
     "name": "stdout",
     "output_type": "stream",
     "text": [
      "Done.\n",
      "Searching for \"The More I Get the More I Want\" by Lorraine Johnson...\n"
     ]
    },
    {
     "name": "stderr",
     "output_type": "stream",
     "text": [
      " 22%|███████████████▏                                                    | 295/1322 [12:27<38:03,  2.22s/it]"
     ]
    },
    {
     "name": "stdout",
     "output_type": "stream",
     "text": [
      "Done.\n",
      "Searching for \"Four Pieces for Harp - Produced\" by Lou Harrison...\n"
     ]
    },
    {
     "name": "stderr",
     "output_type": "stream",
     "text": [
      " 22%|███████████████▏                                                    | 296/1322 [12:29<37:00,  2.16s/it]"
     ]
    },
    {
     "name": "stdout",
     "output_type": "stream",
     "text": [
      "Done.\n",
      "Searching for \"Les Fleurs\" by Minnie Riperton...\n"
     ]
    },
    {
     "name": "stderr",
     "output_type": "stream",
     "text": [
      " 22%|███████████████▎                                                    | 297/1322 [12:33<45:32,  2.67s/it]"
     ]
    },
    {
     "name": "stdout",
     "output_type": "stream",
     "text": [
      "Done.\n",
      "Searching for \"You Can Be a Star\" by Luther Davis Group...\n"
     ]
    },
    {
     "name": "stderr",
     "output_type": "stream",
     "text": [
      " 23%|███████████████▎                                                    | 298/1322 [12:36<48:45,  2.86s/it]"
     ]
    },
    {
     "name": "stdout",
     "output_type": "stream",
     "text": [
      "Done.\n",
      "Searching for \"Yermande (Prophet 5 Mix) [with Mbene Diatta Seck]\" by Mark Ernestus’ Ndagga Rhythm Force...\n",
      "No results found for: 'Yermande (Prophet 5 Mix) [with Mbene Diatta Seck] Mark Ernestus’ Ndagga Rhythm Force'\n",
      "Searching for \"Yermande (Prophet 5 Mix) [with Mbene Diatta Seck]\" by Mark Ernestus’ Ndagga Rhythm Force...\n",
      "No results found for: 'Yermande (Prophet 5 Mix) [with Mbene Diatta Seck] Mark Ernestus’ Ndagga Rhythm Force'\n",
      "Searching for \"Yermande (Prophet 5 Mix) [with Mbene Diatta Seck]\" by Mark Ernestus’ Ndagga Rhythm Force...\n",
      "No results found for: 'Yermande (Prophet 5 Mix) [with Mbene Diatta Seck] Mark Ernestus’ Ndagga Rhythm Force'\n",
      "Searching for \"Yermande (Prophet 5 Mix) [with Mbene Diatta Seck]\" by Mark Ernestus’ Ndagga Rhythm Force...\n",
      "No results found for: 'Yermande (Prophet 5 Mix) [with Mbene Diatta Seck] Mark Ernestus’ Ndagga Rhythm Force'\n",
      "Searching for \"Yermande (Prophet 5 Mix) [with Mbene Diatta Seck]\" by Mark Ernestus’ Ndagga Rhythm Force...\n"
     ]
    },
    {
     "name": "stderr",
     "output_type": "stream",
     "text": [
      " 23%|███████████████▍                                                    | 299/1322 [12:38<43:17,  2.54s/it]"
     ]
    },
    {
     "name": "stdout",
     "output_type": "stream",
     "text": [
      "No results found for: 'Yermande (Prophet 5 Mix) [with Mbene Diatta Seck] Mark Ernestus’ Ndagga Rhythm Force'\n",
      "Yermande (Prophet 5 Mix) [with Mbene Diatta Seck] Mark Ernestus’ Ndagga Rhythm Force Not present in Genius\n",
      "Searching for \"Brothers and Sisters\" by Milton Wright...\n"
     ]
    },
    {
     "name": "stderr",
     "output_type": "stream",
     "text": [
      " 23%|███████████████▍                                                    | 300/1322 [12:41<44:18,  2.60s/it]"
     ]
    },
    {
     "name": "stdout",
     "output_type": "stream",
     "text": [
      "Done.\n",
      "Searching for \"Metropolis\" by Adam F...\n"
     ]
    },
    {
     "name": "stderr",
     "output_type": "stream",
     "text": [
      " 23%|███████████████▍                                                    | 301/1322 [12:43<42:14,  2.48s/it]"
     ]
    },
    {
     "name": "stdout",
     "output_type": "stream",
     "text": [
      "Done.\n",
      "Searching for \"Like A Child - Carl Craig Remix\" by Junior Boys...\n"
     ]
    },
    {
     "name": "stderr",
     "output_type": "stream",
     "text": [
      " 23%|███████████████▌                                                    | 302/1322 [12:46<43:27,  2.56s/it]"
     ]
    },
    {
     "name": "stdout",
     "output_type": "stream",
     "text": [
      "Done.\n",
      "Searching for \"Melody Day\" by Caribou...\n"
     ]
    },
    {
     "name": "stderr",
     "output_type": "stream",
     "text": [
      " 23%|███████████████▌                                                    | 303/1322 [12:49<48:44,  2.87s/it]"
     ]
    },
    {
     "name": "stdout",
     "output_type": "stream",
     "text": [
      "Done.\n",
      "Searching for \"Adimiz Miskindir Bizim\" by Mazhar Ve Fuat...\n",
      "Specified song does not contain lyrics. Rejecting.\n",
      "Searching for \"Adimiz Miskindir Bizim\" by Mazhar Ve Fuat...\n",
      "Specified song does not contain lyrics. Rejecting.\n",
      "Searching for \"Adimiz Miskindir Bizim\" by Mazhar Ve Fuat...\n",
      "Specified song does not contain lyrics. Rejecting.\n",
      "Searching for \"Adimiz Miskindir Bizim\" by Mazhar Ve Fuat...\n",
      "Specified song does not contain lyrics. Rejecting.\n",
      "Searching for \"Adimiz Miskindir Bizim\" by Mazhar Ve Fuat...\n"
     ]
    },
    {
     "name": "stderr",
     "output_type": "stream",
     "text": [
      " 23%|███████████████▋                                                    | 304/1322 [12:52<46:40,  2.75s/it]"
     ]
    },
    {
     "name": "stdout",
     "output_type": "stream",
     "text": [
      "Specified song does not contain lyrics. Rejecting.\n",
      "Adimiz Miskindir Bizim Mazhar Ve Fuat Not present in Genius\n",
      "Searching for \"The Brain of Oskar Panizza\" by Michael Bundt...\n",
      "No results found for: 'The Brain of Oskar Panizza Michael Bundt'\n",
      "Searching for \"The Brain of Oskar Panizza\" by Michael Bundt...\n",
      "No results found for: 'The Brain of Oskar Panizza Michael Bundt'\n",
      "Searching for \"The Brain of Oskar Panizza\" by Michael Bundt...\n",
      "No results found for: 'The Brain of Oskar Panizza Michael Bundt'\n",
      "Searching for \"The Brain of Oskar Panizza\" by Michael Bundt...\n",
      "No results found for: 'The Brain of Oskar Panizza Michael Bundt'\n",
      "Searching for \"The Brain of Oskar Panizza\" by Michael Bundt...\n"
     ]
    },
    {
     "name": "stderr",
     "output_type": "stream",
     "text": [
      " 23%|███████████████▋                                                    | 305/1322 [12:54<41:34,  2.45s/it]"
     ]
    },
    {
     "name": "stdout",
     "output_type": "stream",
     "text": [
      "No results found for: 'The Brain of Oskar Panizza Michael Bundt'\n",
      "The Brain of Oskar Panizza Michael Bundt Not present in Genius\n",
      "Searching for \"Hang on in There\" by Mike James Kirkland...\n"
     ]
    },
    {
     "name": "stderr",
     "output_type": "stream",
     "text": [
      " 23%|███████████████▋                                                    | 306/1322 [12:58<52:33,  3.10s/it]"
     ]
    },
    {
     "name": "stdout",
     "output_type": "stream",
     "text": [
      "Done.\n",
      "Searching for \"Will to Love - 2016 Remaster\" by Neil Young...\n"
     ]
    },
    {
     "name": "stderr",
     "output_type": "stream",
     "text": [
      " 23%|███████████████▊                                                    | 307/1322 [13:01<48:51,  2.89s/it]"
     ]
    },
    {
     "name": "stdout",
     "output_type": "stream",
     "text": [
      "Done.\n",
      "Searching for \"Found Out\" by Caribou...\n"
     ]
    },
    {
     "name": "stderr",
     "output_type": "stream",
     "text": [
      " 23%|███████████████▊                                                    | 308/1322 [13:02<40:50,  2.42s/it]"
     ]
    },
    {
     "name": "stdout",
     "output_type": "stream",
     "text": [
      "Done.\n",
      "Searching for \"Dream Baby Dream (Four Tet remix)\" by Neneh Cherry & The Thing...\n",
      "No results found for: 'Dream Baby Dream (Four Tet remix) Neneh Cherry & The Thing'\n",
      "Searching for \"Dream Baby Dream (Four Tet remix)\" by Neneh Cherry & The Thing...\n",
      "No results found for: 'Dream Baby Dream (Four Tet remix) Neneh Cherry & The Thing'\n",
      "Searching for \"Dream Baby Dream (Four Tet remix)\" by Neneh Cherry & The Thing...\n",
      "No results found for: 'Dream Baby Dream (Four Tet remix) Neneh Cherry & The Thing'\n",
      "Searching for \"Dream Baby Dream (Four Tet remix)\" by Neneh Cherry & The Thing...\n",
      "No results found for: 'Dream Baby Dream (Four Tet remix) Neneh Cherry & The Thing'\n",
      "Searching for \"Dream Baby Dream (Four Tet remix)\" by Neneh Cherry & The Thing...\n"
     ]
    },
    {
     "name": "stderr",
     "output_type": "stream",
     "text": [
      " 23%|███████████████▉                                                    | 309/1322 [13:04<37:19,  2.21s/it]"
     ]
    },
    {
     "name": "stdout",
     "output_type": "stream",
     "text": [
      "No results found for: 'Dream Baby Dream (Four Tet remix) Neneh Cherry & The Thing'\n",
      "Dream Baby Dream (Four Tet remix) Neneh Cherry & The Thing Not present in Genius\n",
      "Searching for \"Frisco Disco\" by The New X-Perience...\n",
      "No results found for: 'Frisco Disco The New X-Perience'\n",
      "Searching for \"Frisco Disco\" by The New X-Perience...\n",
      "No results found for: 'Frisco Disco The New X-Perience'\n",
      "Searching for \"Frisco Disco\" by The New X-Perience...\n",
      "No results found for: 'Frisco Disco The New X-Perience'\n",
      "Searching for \"Frisco Disco\" by The New X-Perience...\n",
      "No results found for: 'Frisco Disco The New X-Perience'\n",
      "Searching for \"Frisco Disco\" by The New X-Perience...\n"
     ]
    },
    {
     "name": "stderr",
     "output_type": "stream",
     "text": [
      " 23%|███████████████▉                                                    | 310/1322 [13:06<36:38,  2.17s/it]"
     ]
    },
    {
     "name": "stdout",
     "output_type": "stream",
     "text": [
      "No results found for: 'Frisco Disco The New X-Perience'\n",
      "Frisco Disco The New X-Perience Not present in Genius\n",
      "Searching for \"Lihue\" by Nohelani Cypriano...\n"
     ]
    },
    {
     "name": "stderr",
     "output_type": "stream",
     "text": [
      " 24%|███████████████▉                                                    | 311/1322 [13:08<39:17,  2.33s/it]"
     ]
    },
    {
     "name": "stdout",
     "output_type": "stream",
     "text": [
      "Done.\n",
      "Searching for \"Give the Drummer Some\" by Norman Connors...\n",
      "No results found for: 'Give the Drummer Some Norman Connors'\n",
      "Searching for \"Give the Drummer Some\" by Norman Connors...\n",
      "No results found for: 'Give the Drummer Some Norman Connors'\n",
      "Searching for \"Give the Drummer Some\" by Norman Connors...\n",
      "No results found for: 'Give the Drummer Some Norman Connors'\n",
      "Searching for \"Give the Drummer Some\" by Norman Connors...\n",
      "No results found for: 'Give the Drummer Some Norman Connors'\n",
      "Searching for \"Give the Drummer Some\" by Norman Connors...\n"
     ]
    },
    {
     "name": "stderr",
     "output_type": "stream",
     "text": [
      " 24%|████████████████                                                    | 312/1322 [13:11<38:52,  2.31s/it]"
     ]
    },
    {
     "name": "stdout",
     "output_type": "stream",
     "text": [
      "No results found for: 'Give the Drummer Some Norman Connors'\n",
      "Give the Drummer Some Norman Connors Not present in Genius\n",
      "Searching for \"Idyongwana\" by D'Yani...\n",
      "No results found for: 'Idyongwana D'Yani'\n",
      "Searching for \"Idyongwana\" by D'Yani...\n",
      "No results found for: 'Idyongwana D'Yani'\n",
      "Searching for \"Idyongwana\" by D'Yani...\n",
      "No results found for: 'Idyongwana D'Yani'\n",
      "Searching for \"Idyongwana\" by D'Yani...\n",
      "No results found for: 'Idyongwana D'Yani'\n",
      "Searching for \"Idyongwana\" by D'Yani...\n"
     ]
    },
    {
     "name": "stderr",
     "output_type": "stream",
     "text": [
      " 24%|████████████████                                                    | 313/1322 [13:12<35:39,  2.12s/it]"
     ]
    },
    {
     "name": "stdout",
     "output_type": "stream",
     "text": [
      "No results found for: 'Idyongwana D'Yani'\n",
      "Idyongwana D'Yani Not present in Genius\n",
      "Searching for \"Pelican Narrows\" by Caribou...\n",
      "Specified song does not contain lyrics. Rejecting.\n",
      "Searching for \"Pelican Narrows\" by Caribou...\n",
      "Specified song does not contain lyrics. Rejecting.\n",
      "Searching for \"Pelican Narrows\" by Caribou...\n",
      "Specified song does not contain lyrics. Rejecting.\n",
      "Searching for \"Pelican Narrows\" by Caribou...\n",
      "Specified song does not contain lyrics. Rejecting.\n",
      "Searching for \"Pelican Narrows\" by Caribou...\n"
     ]
    },
    {
     "name": "stderr",
     "output_type": "stream",
     "text": [
      " 24%|████████████████▏                                                   | 314/1322 [13:14<34:28,  2.05s/it]"
     ]
    },
    {
     "name": "stdout",
     "output_type": "stream",
     "text": [
      "Specified song does not contain lyrics. Rejecting.\n",
      "Pelican Narrows Caribou Not present in Genius\n",
      "Searching for \"Praise Jah (Vocal)\" by Oluko Imo...\n",
      "No results found for: 'Praise Jah (Vocal) Oluko Imo'\n",
      "Searching for \"Praise Jah (Vocal)\" by Oluko Imo...\n",
      "No results found for: 'Praise Jah (Vocal) Oluko Imo'\n",
      "Searching for \"Praise Jah (Vocal)\" by Oluko Imo...\n",
      "No results found for: 'Praise Jah (Vocal) Oluko Imo'\n",
      "Searching for \"Praise Jah (Vocal)\" by Oluko Imo...\n",
      "No results found for: 'Praise Jah (Vocal) Oluko Imo'\n",
      "Searching for \"Praise Jah (Vocal)\" by Oluko Imo...\n"
     ]
    },
    {
     "name": "stderr",
     "output_type": "stream",
     "text": [
      " 24%|████████████████▏                                                   | 315/1322 [13:16<32:56,  1.96s/it]"
     ]
    },
    {
     "name": "stdout",
     "output_type": "stream",
     "text": [
      "No results found for: 'Praise Jah (Vocal) Oluko Imo'\n",
      "Praise Jah (Vocal) Oluko Imo Not present in Genius\n",
      "Searching for \"It Ain't No Big Thing\" by Personal Touch...\n",
      "Specified song does not contain lyrics. Rejecting.\n",
      "Searching for \"It Ain't No Big Thing\" by Personal Touch...\n",
      "Specified song does not contain lyrics. Rejecting.\n",
      "Searching for \"It Ain't No Big Thing\" by Personal Touch...\n",
      "Specified song does not contain lyrics. Rejecting.\n",
      "Searching for \"It Ain't No Big Thing\" by Personal Touch...\n",
      "Specified song does not contain lyrics. Rejecting.\n",
      "Searching for \"It Ain't No Big Thing\" by Personal Touch...\n"
     ]
    },
    {
     "name": "stderr",
     "output_type": "stream",
     "text": [
      " 24%|████████████████▎                                                   | 316/1322 [13:19<35:50,  2.14s/it]"
     ]
    },
    {
     "name": "stdout",
     "output_type": "stream",
     "text": [
      "Specified song does not contain lyrics. Rejecting.\n",
      "It Ain't No Big Thing Personal Touch Not present in Genius\n",
      "Searching for \"Truth Is Marching On\" by The Rance Allen Group...\n"
     ]
    },
    {
     "name": "stderr",
     "output_type": "stream",
     "text": [
      " 24%|████████████████▎                                                   | 317/1322 [13:21<36:47,  2.20s/it]"
     ]
    },
    {
     "name": "stdout",
     "output_type": "stream",
     "text": [
      "Done.\n",
      "Searching for \"Ambulance - Original Mix\" by Robert Armani...\n",
      "No results found for: 'Ambulance - Original Mix Robert Armani'\n",
      "Searching for \"Ambulance - Original Mix\" by Robert Armani...\n",
      "No results found for: 'Ambulance - Original Mix Robert Armani'\n",
      "Searching for \"Ambulance - Original Mix\" by Robert Armani...\n",
      "No results found for: 'Ambulance - Original Mix Robert Armani'\n",
      "Searching for \"Ambulance - Original Mix\" by Robert Armani...\n",
      "No results found for: 'Ambulance - Original Mix Robert Armani'\n",
      "Searching for \"Ambulance - Original Mix\" by Robert Armani...\n"
     ]
    },
    {
     "name": "stderr",
     "output_type": "stream",
     "text": [
      " 24%|████████████████▎                                                   | 318/1322 [13:23<34:22,  2.05s/it]"
     ]
    },
    {
     "name": "stdout",
     "output_type": "stream",
     "text": [
      "No results found for: 'Ambulance - Original Mix Robert Armani'\n",
      "Ambulance - Original Mix Robert Armani Not present in Genius\n",
      "Searching for \"Music Is The Only Way I Can Cominicate (edit)\" by Shake...\n"
     ]
    },
    {
     "name": "stderr",
     "output_type": "stream",
     "text": [
      " 24%|████████████████▍                                                   | 319/1322 [13:26<42:09,  2.52s/it]"
     ]
    },
    {
     "name": "stdout",
     "output_type": "stream",
     "text": [
      "Done.\n",
      "Searching for \"Barnowl\" by Caribou...\n",
      "Specified song does not contain lyrics. Rejecting.\n",
      "Searching for \"Barnowl\" by Caribou...\n",
      "Specified song does not contain lyrics. Rejecting.\n",
      "Searching for \"Barnowl\" by Caribou...\n",
      "Specified song does not contain lyrics. Rejecting.\n",
      "Searching for \"Barnowl\" by Caribou...\n",
      "Specified song does not contain lyrics. Rejecting.\n",
      "Searching for \"Barnowl\" by Caribou...\n"
     ]
    },
    {
     "name": "stderr",
     "output_type": "stream",
     "text": [
      " 24%|████████████████▍                                                   | 320/1322 [13:28<39:31,  2.37s/it]"
     ]
    },
    {
     "name": "stdout",
     "output_type": "stream",
     "text": [
      "Specified song does not contain lyrics. Rejecting.\n",
      "Barnowl Caribou Not present in Genius\n",
      "Searching for \"Verbal Experiments (Instrumental)\" by Lootpack...\n"
     ]
    },
    {
     "name": "stderr",
     "output_type": "stream",
     "text": [
      " 24%|████████████████▌                                                   | 321/1322 [13:33<49:08,  2.95s/it]"
     ]
    },
    {
     "name": "stdout",
     "output_type": "stream",
     "text": [
      "Done.\n",
      "Searching for \"Love Gonna Pack Up (And Walk Out)\" by The Persuaders...\n"
     ]
    },
    {
     "name": "stderr",
     "output_type": "stream",
     "text": [
      " 24%|████████████████▌                                                   | 322/1322 [13:35<45:09,  2.71s/it]"
     ]
    },
    {
     "name": "stdout",
     "output_type": "stream",
     "text": [
      "Done.\n",
      "Searching for \"Andromeda\" by Room...\n"
     ]
    },
    {
     "name": "stderr",
     "output_type": "stream",
     "text": [
      " 24%|████████████████▌                                                   | 323/1322 [13:38<49:05,  2.95s/it]"
     ]
    },
    {
     "name": "stdout",
     "output_type": "stream",
     "text": [
      "Done.\n",
      "Searching for \"Yebèqanal\" by Alemayehu Eshete...\n",
      "No results found for: 'Yebèqanal Alemayehu Eshete'\n",
      "Searching for \"Yebèqanal\" by Alemayehu Eshete...\n",
      "No results found for: 'Yebèqanal Alemayehu Eshete'\n",
      "Searching for \"Yebèqanal\" by Alemayehu Eshete...\n",
      "No results found for: 'Yebèqanal Alemayehu Eshete'\n",
      "Searching for \"Yebèqanal\" by Alemayehu Eshete...\n",
      "No results found for: 'Yebèqanal Alemayehu Eshete'\n",
      "Searching for \"Yebèqanal\" by Alemayehu Eshete...\n"
     ]
    },
    {
     "name": "stderr",
     "output_type": "stream",
     "text": [
      " 25%|████████████████▋                                                   | 324/1322 [13:40<42:49,  2.57s/it]"
     ]
    },
    {
     "name": "stdout",
     "output_type": "stream",
     "text": [
      "No results found for: 'Yebèqanal Alemayehu Eshete'\n",
      "Yebèqanal Alemayehu Eshete Not present in Genius\n",
      "Searching for \"They Call Me\" by Per Tjernberg...\n",
      "No results found for: 'They Call Me Per Tjernberg'\n",
      "Searching for \"They Call Me\" by Per Tjernberg...\n",
      "No results found for: 'They Call Me Per Tjernberg'\n",
      "Searching for \"They Call Me\" by Per Tjernberg...\n",
      "No results found for: 'They Call Me Per Tjernberg'\n",
      "Searching for \"They Call Me\" by Per Tjernberg...\n",
      "No results found for: 'They Call Me Per Tjernberg'\n",
      "Searching for \"They Call Me\" by Per Tjernberg...\n"
     ]
    },
    {
     "name": "stderr",
     "output_type": "stream",
     "text": [
      " 25%|████████████████▋                                                   | 325/1322 [13:42<38:42,  2.33s/it]"
     ]
    },
    {
     "name": "stdout",
     "output_type": "stream",
     "text": [
      "No results found for: 'They Call Me Per Tjernberg'\n",
      "They Call Me Per Tjernberg Not present in Genius\n",
      "Searching for \"Every Time She Turns Round It's Her Birthday\" by Caribou...\n"
     ]
    },
    {
     "name": "stderr",
     "output_type": "stream",
     "text": [
      " 25%|████████████████▊                                                   | 326/1322 [13:44<37:11,  2.24s/it]"
     ]
    },
    {
     "name": "stdout",
     "output_type": "stream",
     "text": [
      "Done.\n",
      "Searching for \"Blood Of An American\" by Bobby Wright...\n"
     ]
    },
    {
     "name": "stderr",
     "output_type": "stream",
     "text": [
      " 25%|████████████████▊                                                   | 327/1322 [13:47<41:26,  2.50s/it]"
     ]
    },
    {
     "name": "stdout",
     "output_type": "stream",
     "text": [
      "Done.\n",
      "Searching for \"Hasabe (My Worries)\" by Ayalew Mesfin...\n",
      "Specified song does not contain lyrics. Rejecting.\n",
      "Searching for \"Hasabe (My Worries)\" by Ayalew Mesfin...\n",
      "Specified song does not contain lyrics. Rejecting.\n",
      "Searching for \"Hasabe (My Worries)\" by Ayalew Mesfin...\n",
      "Specified song does not contain lyrics. Rejecting.\n",
      "Searching for \"Hasabe (My Worries)\" by Ayalew Mesfin...\n",
      "Specified song does not contain lyrics. Rejecting.\n",
      "Searching for \"Hasabe (My Worries)\" by Ayalew Mesfin...\n"
     ]
    },
    {
     "name": "stderr",
     "output_type": "stream",
     "text": [
      " 25%|████████████████▊                                                   | 328/1322 [13:49<38:06,  2.30s/it]"
     ]
    },
    {
     "name": "stdout",
     "output_type": "stream",
     "text": [
      "Specified song does not contain lyrics. Rejecting.\n",
      "Hasabe (My Worries) Ayalew Mesfin Not present in Genius\n",
      "Searching for \"Opera II\" by The Durutti Column...\n",
      "No results found for: 'Opera II The Durutti Column'\n",
      "Searching for \"Opera II\" by The Durutti Column...\n",
      "No results found for: 'Opera II The Durutti Column'\n",
      "Searching for \"Opera II\" by The Durutti Column...\n",
      "No results found for: 'Opera II The Durutti Column'\n",
      "Searching for \"Opera II\" by The Durutti Column...\n",
      "No results found for: 'Opera II The Durutti Column'\n",
      "Searching for \"Opera II\" by The Durutti Column...\n"
     ]
    },
    {
     "name": "stderr",
     "output_type": "stream",
     "text": [
      " 25%|████████████████▉                                                   | 329/1322 [13:50<35:11,  2.13s/it]"
     ]
    },
    {
     "name": "stdout",
     "output_type": "stream",
     "text": [
      "No results found for: 'Opera II The Durutti Column'\n",
      "Opera II The Durutti Column Not present in Genius\n",
      "Searching for \"Ma Lo\" by Tiwa Savage...\n"
     ]
    },
    {
     "name": "stderr",
     "output_type": "stream",
     "text": [
      " 25%|████████████████▉                                                   | 330/1322 [13:54<43:42,  2.64s/it]"
     ]
    },
    {
     "name": "stdout",
     "output_type": "stream",
     "text": [
      "Done.\n",
      "Searching for \"Donnie and Laurie\" by Laurie Spiegel...\n",
      "No results found for: 'Donnie and Laurie Laurie Spiegel'\n",
      "Searching for \"Donnie and Laurie\" by Laurie Spiegel...\n",
      "No results found for: 'Donnie and Laurie Laurie Spiegel'\n",
      "Searching for \"Donnie and Laurie\" by Laurie Spiegel...\n",
      "No results found for: 'Donnie and Laurie Laurie Spiegel'\n",
      "Searching for \"Donnie and Laurie\" by Laurie Spiegel...\n",
      "No results found for: 'Donnie and Laurie Laurie Spiegel'\n",
      "Searching for \"Donnie and Laurie\" by Laurie Spiegel...\n"
     ]
    },
    {
     "name": "stderr",
     "output_type": "stream",
     "text": [
      " 25%|█████████████████                                                   | 331/1322 [13:56<39:23,  2.39s/it]"
     ]
    },
    {
     "name": "stdout",
     "output_type": "stream",
     "text": [
      "No results found for: 'Donnie and Laurie Laurie Spiegel'\n",
      "Donnie and Laurie Laurie Spiegel Not present in Genius\n",
      "Searching for \"1 Thing\" by Amerie...\n"
     ]
    },
    {
     "name": "stderr",
     "output_type": "stream",
     "text": [
      " 25%|█████████████████                                                   | 332/1322 [13:58<38:33,  2.34s/it]"
     ]
    },
    {
     "name": "stdout",
     "output_type": "stream",
     "text": [
      "Done.\n",
      "Searching for \"Bowls - Holden Remix\" by Caribou...\n",
      "No results found for: 'Bowls - Holden Remix Caribou'\n",
      "Searching for \"Bowls - Holden Remix\" by Caribou...\n",
      "No results found for: 'Bowls - Holden Remix Caribou'\n",
      "Searching for \"Bowls - Holden Remix\" by Caribou...\n",
      "No results found for: 'Bowls - Holden Remix Caribou'\n",
      "Searching for \"Bowls - Holden Remix\" by Caribou...\n",
      "No results found for: 'Bowls - Holden Remix Caribou'\n",
      "Searching for \"Bowls - Holden Remix\" by Caribou...\n"
     ]
    },
    {
     "name": "stderr",
     "output_type": "stream",
     "text": [
      " 25%|█████████████████▏                                                  | 333/1322 [14:00<35:49,  2.17s/it]"
     ]
    },
    {
     "name": "stdout",
     "output_type": "stream",
     "text": [
      "No results found for: 'Bowls - Holden Remix Caribou'\n",
      "Bowls - Holden Remix Caribou Not present in Genius\n",
      "Searching for \"#1\" by Aphex Twin...\n"
     ]
    },
    {
     "name": "stderr",
     "output_type": "stream",
     "text": [
      " 25%|█████████████████▏                                                  | 334/1322 [14:03<40:20,  2.45s/it]"
     ]
    },
    {
     "name": "stdout",
     "output_type": "stream",
     "text": [
      "Done.\n",
      "Searching for \"2 Towers\" by Lightning Bolt...\n",
      "Specified song does not contain lyrics. Rejecting.\n",
      "Searching for \"2 Towers\" by Lightning Bolt...\n",
      "Specified song does not contain lyrics. Rejecting.\n",
      "Searching for \"2 Towers\" by Lightning Bolt...\n",
      "Specified song does not contain lyrics. Rejecting.\n",
      "Searching for \"2 Towers\" by Lightning Bolt...\n",
      "Specified song does not contain lyrics. Rejecting.\n",
      "Searching for \"2 Towers\" by Lightning Bolt...\n"
     ]
    },
    {
     "name": "stderr",
     "output_type": "stream",
     "text": [
      " 25%|█████████████████▏                                                  | 335/1322 [14:05<39:59,  2.43s/it]"
     ]
    },
    {
     "name": "stdout",
     "output_type": "stream",
     "text": [
      "Specified song does not contain lyrics. Rejecting.\n",
      "2 Towers Lightning Bolt Not present in Genius\n",
      "Searching for \"6.4 = Make Out\" by Gary Wilson...\n"
     ]
    },
    {
     "name": "stderr",
     "output_type": "stream",
     "text": [
      " 25%|█████████████████▎                                                  | 336/1322 [14:09<47:06,  2.87s/it]"
     ]
    },
    {
     "name": "stdout",
     "output_type": "stream",
     "text": [
      "Done.\n",
      "Searching for \"22nd Century\" by Nina Simone...\n"
     ]
    },
    {
     "name": "stderr",
     "output_type": "stream",
     "text": [
      " 25%|█████████████████▎                                                  | 337/1322 [14:14<55:19,  3.37s/it]"
     ]
    },
    {
     "name": "stdout",
     "output_type": "stream",
     "text": [
      "Done.\n",
      "Searching for \"Your Love Will Set You Free\" by Caribou...\n"
     ]
    },
    {
     "name": "stderr",
     "output_type": "stream",
     "text": [
      " 26%|█████████████████▍                                                  | 338/1322 [14:16<49:53,  3.04s/it]"
     ]
    },
    {
     "name": "stdout",
     "output_type": "stream",
     "text": [
      "Done.\n",
      "Searching for \"93 'Til Infinity\" by Souls Of Mischief...\n"
     ]
    },
    {
     "name": "stderr",
     "output_type": "stream",
     "text": [
      " 26%|████████████████▉                                                 | 339/1322 [14:21<1:00:25,  3.69s/it]"
     ]
    },
    {
     "name": "stdout",
     "output_type": "stream",
     "text": [
      "Done.\n",
      "Searching for \"A Face In The Crowd - Original Mix\" by DJ Assassin...\n"
     ]
    },
    {
     "name": "stderr",
     "output_type": "stream",
     "text": [
      " 26%|█████████████████▍                                                  | 340/1322 [14:23<52:07,  3.19s/it]"
     ]
    },
    {
     "name": "stdout",
     "output_type": "stream",
     "text": [
      "Done.\n",
      "Searching for \"A Rainbow in the Curved Air - Instrumental\" by Terry Riley...\n"
     ]
    },
    {
     "name": "stderr",
     "output_type": "stream",
     "text": [
      " 26%|█████████████████▌                                                  | 341/1322 [14:25<46:11,  2.82s/it]"
     ]
    },
    {
     "name": "stdout",
     "output_type": "stream",
     "text": [
      "Done.\n",
      "Searching for \"A Tender Places\" by Bakey Ustl...\n"
     ]
    },
    {
     "name": "stderr",
     "output_type": "stream",
     "text": [
      " 26%|█████████████████▌                                                  | 342/1322 [14:28<46:58,  2.88s/it]"
     ]
    },
    {
     "name": "stdout",
     "output_type": "stream",
     "text": [
      "Done.\n",
      "Searching for \"A Time For Us\" by Joe Pass...\n"
     ]
    },
    {
     "name": "stderr",
     "output_type": "stream",
     "text": [
      " 26%|█████████████████▋                                                  | 343/1322 [14:30<42:25,  2.60s/it]"
     ]
    },
    {
     "name": "stdout",
     "output_type": "stream",
     "text": [
      "Done.\n",
      "Searching for \"Acid Tracks\" by Phuture...\n",
      "Specified song does not contain lyrics. Rejecting.\n",
      "Searching for \"Acid Tracks\" by Phuture...\n",
      "Specified song does not contain lyrics. Rejecting.\n",
      "Searching for \"Acid Tracks\" by Phuture...\n",
      "Specified song does not contain lyrics. Rejecting.\n",
      "Searching for \"Acid Tracks\" by Phuture...\n",
      "Specified song does not contain lyrics. Rejecting.\n",
      "Searching for \"Acid Tracks\" by Phuture...\n"
     ]
    },
    {
     "name": "stderr",
     "output_type": "stream",
     "text": [
      " 26%|█████████████████▋                                                  | 344/1322 [14:32<38:35,  2.37s/it]"
     ]
    },
    {
     "name": "stdout",
     "output_type": "stream",
     "text": [
      "Specified song does not contain lyrics. Rejecting.\n",
      "Acid Tracks Phuture Not present in Genius\n",
      "Searching for \"Niobe\" by Caribou...\n"
     ]
    },
    {
     "name": "stderr",
     "output_type": "stream",
     "text": [
      " 26%|█████████████████▋                                                  | 345/1322 [14:34<36:47,  2.26s/it]"
     ]
    },
    {
     "name": "stdout",
     "output_type": "stream",
     "text": [
      "Done.\n",
      "Searching for \"Ad Gloriam\" by Le Orme...\n"
     ]
    },
    {
     "name": "stderr",
     "output_type": "stream",
     "text": [
      " 26%|█████████████████▊                                                  | 346/1322 [14:37<37:28,  2.30s/it]"
     ]
    },
    {
     "name": "stdout",
     "output_type": "stream",
     "text": [
      "Done.\n",
      "Searching for \"Adormeceu\" by O Terco...\n"
     ]
    },
    {
     "name": "stderr",
     "output_type": "stream",
     "text": [
      " 26%|█████████████████▊                                                  | 347/1322 [14:38<33:36,  2.07s/it]"
     ]
    },
    {
     "name": "stdout",
     "output_type": "stream",
     "text": [
      "Done.\n",
      "Searching for \"Affenstunde\" by Popol Vuh...\n",
      "No results found for: 'Affenstunde Popol Vuh'\n",
      "Searching for \"Affenstunde\" by Popol Vuh...\n",
      "No results found for: 'Affenstunde Popol Vuh'\n",
      "Searching for \"Affenstunde\" by Popol Vuh...\n",
      "No results found for: 'Affenstunde Popol Vuh'\n",
      "Searching for \"Affenstunde\" by Popol Vuh...\n",
      "No results found for: 'Affenstunde Popol Vuh'\n",
      "Searching for \"Affenstunde\" by Popol Vuh...\n"
     ]
    },
    {
     "name": "stderr",
     "output_type": "stream",
     "text": [
      " 26%|█████████████████▉                                                  | 348/1322 [14:40<31:46,  1.96s/it]"
     ]
    },
    {
     "name": "stdout",
     "output_type": "stream",
     "text": [
      "No results found for: 'Affenstunde Popol Vuh'\n",
      "Affenstunde Popol Vuh Not present in Genius\n",
      "Searching for \"Africa\" by Sathima Bea Benjamin...\n",
      "No results found for: 'Africa Sathima Bea Benjamin'\n",
      "Searching for \"Africa\" by Sathima Bea Benjamin...\n",
      "No results found for: 'Africa Sathima Bea Benjamin'\n",
      "Searching for \"Africa\" by Sathima Bea Benjamin...\n",
      "No results found for: 'Africa Sathima Bea Benjamin'\n",
      "Searching for \"Africa\" by Sathima Bea Benjamin...\n",
      "No results found for: 'Africa Sathima Bea Benjamin'\n",
      "Searching for \"Africa\" by Sathima Bea Benjamin...\n"
     ]
    },
    {
     "name": "stderr",
     "output_type": "stream",
     "text": [
      " 26%|█████████████████▉                                                  | 349/1322 [14:42<30:50,  1.90s/it]"
     ]
    },
    {
     "name": "stdout",
     "output_type": "stream",
     "text": [
      "No results found for: 'Africa Sathima Bea Benjamin'\n",
      "Africa Sathima Bea Benjamin Not present in Genius\n",
      "Searching for \"Afro Funky\" by Manteca...\n"
     ]
    },
    {
     "name": "stderr",
     "output_type": "stream",
     "text": [
      " 26%|██████████████████                                                  | 350/1322 [14:44<32:57,  2.03s/it]"
     ]
    },
    {
     "name": "stdout",
     "output_type": "stream",
     "text": [
      "Done.\n",
      "Searching for \"Aht Uh Mi Hed\" by Shuggie Otis...\n"
     ]
    },
    {
     "name": "stderr",
     "output_type": "stream",
     "text": [
      " 27%|██████████████████                                                  | 351/1322 [14:46<35:40,  2.20s/it]"
     ]
    },
    {
     "name": "stdout",
     "output_type": "stream",
     "text": [
      "Done.\n",
      "Searching for \"Ain't It Time (Instrumental)\" by Queen Yahna...\n"
     ]
    },
    {
     "name": "stderr",
     "output_type": "stream",
     "text": [
      " 27%|██████████████████                                                  | 352/1322 [14:49<36:44,  2.27s/it]"
     ]
    },
    {
     "name": "stdout",
     "output_type": "stream",
     "text": [
      "Done.\n",
      "Searching for \"Ain't No Half-Steppin'\" by Big Daddy Kane...\n"
     ]
    },
    {
     "name": "stderr",
     "output_type": "stream",
     "text": [
      " 27%|██████████████████▏                                                 | 353/1322 [14:55<54:38,  3.38s/it]"
     ]
    },
    {
     "name": "stdout",
     "output_type": "stream",
     "text": [
      "Done.\n",
      "Searching for \"Aldeia De Ogum\" by Joyce...\n",
      "Specified song does not contain lyrics. Rejecting.\n",
      "Searching for \"Aldeia De Ogum\" by Joyce...\n",
      "Specified song does not contain lyrics. Rejecting.\n",
      "Searching for \"Aldeia De Ogum\" by Joyce...\n",
      "Specified song does not contain lyrics. Rejecting.\n",
      "Searching for \"Aldeia De Ogum\" by Joyce...\n",
      "Specified song does not contain lyrics. Rejecting.\n",
      "Searching for \"Aldeia De Ogum\" by Joyce...\n"
     ]
    },
    {
     "name": "stderr",
     "output_type": "stream",
     "text": [
      " 27%|██████████████████▏                                                 | 354/1322 [14:57<47:11,  2.93s/it]"
     ]
    },
    {
     "name": "stdout",
     "output_type": "stream",
     "text": [
      "Specified song does not contain lyrics. Rejecting.\n",
      "Aldeia De Ogum Joyce Not present in Genius\n",
      "Searching for \"All About Money\" by Spontaneous Overthrow...\n"
     ]
    },
    {
     "name": "stderr",
     "output_type": "stream",
     "text": [
      " 27%|██████████████████▎                                                 | 355/1322 [15:02<57:53,  3.59s/it]"
     ]
    },
    {
     "name": "stdout",
     "output_type": "stream",
     "text": [
      "Done.\n",
      "Searching for \"All I Do\" by Stevie Wonder...\n"
     ]
    },
    {
     "name": "stderr",
     "output_type": "stream",
     "text": [
      " 27%|██████████████████▎                                                 | 356/1322 [15:04<51:09,  3.18s/it]"
     ]
    },
    {
     "name": "stdout",
     "output_type": "stream",
     "text": [
      "Done.\n",
      "Searching for \"All N My Grill (feat. Big Boi of Outkast & Nicole)\" by Missy Elliott...\n",
      "No results found for: 'All N My Grill (feat. Big Boi of Outkast & Nicole) Missy Elliott'\n",
      "Searching for \"All N My Grill (feat. Big Boi of Outkast & Nicole)\" by Missy Elliott...\n",
      "No results found for: 'All N My Grill (feat. Big Boi of Outkast & Nicole) Missy Elliott'\n",
      "Searching for \"All N My Grill (feat. Big Boi of Outkast & Nicole)\" by Missy Elliott...\n",
      "No results found for: 'All N My Grill (feat. Big Boi of Outkast & Nicole) Missy Elliott'\n",
      "Searching for \"All N My Grill (feat. Big Boi of Outkast & Nicole)\" by Missy Elliott...\n",
      "No results found for: 'All N My Grill (feat. Big Boi of Outkast & Nicole) Missy Elliott'\n",
      "Searching for \"All N My Grill (feat. Big Boi of Outkast & Nicole)\" by Missy Elliott...\n"
     ]
    },
    {
     "name": "stderr",
     "output_type": "stream",
     "text": [
      " 27%|██████████████████▎                                                 | 357/1322 [15:06<44:16,  2.75s/it]"
     ]
    },
    {
     "name": "stdout",
     "output_type": "stream",
     "text": [
      "No results found for: 'All N My Grill (feat. Big Boi of Outkast & Nicole) Missy Elliott'\n",
      "All N My Grill (feat. Big Boi of Outkast & Nicole) Missy Elliott Not present in Genius\n",
      "Searching for \"All Night Long\" by Mary Jane Girls...\n"
     ]
    },
    {
     "name": "stderr",
     "output_type": "stream",
     "text": [
      " 27%|█████████████████▊                                                | 358/1322 [15:13<1:04:10,  3.99s/it]"
     ]
    },
    {
     "name": "stdout",
     "output_type": "stream",
     "text": [
      "Done.\n",
      "Searching for \"All The Time\" by DJ Koze...\n"
     ]
    },
    {
     "name": "stderr",
     "output_type": "stream",
     "text": [
      " 27%|█████████████████▉                                                | 359/1322 [15:17<1:05:14,  4.06s/it]"
     ]
    },
    {
     "name": "stdout",
     "output_type": "stream",
     "text": [
      "Done.\n",
      "Searching for \"All Tomorrow's Parties\" by The Velvet Underground...\n"
     ]
    },
    {
     "name": "stderr",
     "output_type": "stream",
     "text": [
      " 27%|█████████████████▉                                                | 360/1322 [15:21<1:05:20,  4.08s/it]"
     ]
    },
    {
     "name": "stdout",
     "output_type": "stream",
     "text": [
      "Done.\n",
      "Searching for \"Alone Again Or\" by Love...\n"
     ]
    },
    {
     "name": "stderr",
     "output_type": "stream",
     "text": [
      " 27%|██████████████████▌                                                 | 361/1322 [15:23<55:31,  3.47s/it]"
     ]
    },
    {
     "name": "stdout",
     "output_type": "stream",
     "text": [
      "Done.\n",
      "Searching for \"Ambasel\" by Hailu Mergia...\n",
      "No results found for: 'Ambasel Hailu Mergia'\n",
      "Searching for \"Ambasel\" by Hailu Mergia...\n",
      "No results found for: 'Ambasel Hailu Mergia'\n",
      "Searching for \"Ambasel\" by Hailu Mergia...\n",
      "No results found for: 'Ambasel Hailu Mergia'\n",
      "Searching for \"Ambasel\" by Hailu Mergia...\n",
      "No results found for: 'Ambasel Hailu Mergia'\n",
      "Searching for \"Ambasel\" by Hailu Mergia...\n"
     ]
    },
    {
     "name": "stderr",
     "output_type": "stream",
     "text": [
      " 27%|██████████████████▌                                                 | 362/1322 [15:25<47:04,  2.94s/it]"
     ]
    },
    {
     "name": "stdout",
     "output_type": "stream",
     "text": [
      "No results found for: 'Ambasel Hailu Mergia'\n",
      "Ambasel Hailu Mergia Not present in Genius\n",
      "Searching for \"Analogue Bubblebath\" by AFX...\n",
      "Specified song does not contain lyrics. Rejecting.\n",
      "Searching for \"Analogue Bubblebath\" by AFX...\n",
      "Specified song does not contain lyrics. Rejecting.\n",
      "Searching for \"Analogue Bubblebath\" by AFX...\n",
      "Specified song does not contain lyrics. Rejecting.\n",
      "Searching for \"Analogue Bubblebath\" by AFX...\n",
      "Specified song does not contain lyrics. Rejecting.\n",
      "Searching for \"Analogue Bubblebath\" by AFX...\n"
     ]
    },
    {
     "name": "stderr",
     "output_type": "stream",
     "text": [
      " 27%|██████████████████▋                                                 | 363/1322 [15:27<42:25,  2.65s/it]"
     ]
    },
    {
     "name": "stdout",
     "output_type": "stream",
     "text": [
      "Specified song does not contain lyrics. Rejecting.\n",
      "Analogue Bubblebath AFX Not present in Genius\n",
      "Searching for \"Answers (Instrumental)\" by Lootpack...\n",
      "No results found for: 'Answers (Instrumental) Lootpack'\n",
      "Searching for \"Answers (Instrumental)\" by Lootpack...\n",
      "No results found for: 'Answers (Instrumental) Lootpack'\n",
      "Searching for \"Answers (Instrumental)\" by Lootpack...\n",
      "No results found for: 'Answers (Instrumental) Lootpack'\n",
      "Searching for \"Answers (Instrumental)\" by Lootpack...\n",
      "No results found for: 'Answers (Instrumental) Lootpack'\n",
      "Searching for \"Answers (Instrumental)\" by Lootpack...\n"
     ]
    },
    {
     "name": "stderr",
     "output_type": "stream",
     "text": [
      " 28%|██████████████████▋                                                 | 364/1322 [15:29<39:23,  2.47s/it]"
     ]
    },
    {
     "name": "stdout",
     "output_type": "stream",
     "text": [
      "No results found for: 'Answers (Instrumental) Lootpack'\n",
      "Answers (Instrumental) Lootpack Not present in Genius\n",
      "Searching for \"Apt 2a\" by N.Y. House'n Authority...\n",
      "No results found for: 'Apt 2a N.Y. House'n Authority'\n",
      "Searching for \"Apt 2a\" by N.Y. House'n Authority...\n",
      "No results found for: 'Apt 2a N.Y. House'n Authority'\n",
      "Searching for \"Apt 2a\" by N.Y. House'n Authority...\n",
      "No results found for: 'Apt 2a N.Y. House'n Authority'\n",
      "Searching for \"Apt 2a\" by N.Y. House'n Authority...\n",
      "No results found for: 'Apt 2a N.Y. House'n Authority'\n",
      "Searching for \"Apt 2a\" by N.Y. House'n Authority...\n"
     ]
    },
    {
     "name": "stderr",
     "output_type": "stream",
     "text": [
      " 28%|██████████████████▊                                                 | 365/1322 [15:31<37:31,  2.35s/it]"
     ]
    },
    {
     "name": "stdout",
     "output_type": "stream",
     "text": [
      "No results found for: 'Apt 2a N.Y. House'n Authority'\n",
      "Apt 2a N.Y. House'n Authority Not present in Genius\n",
      "Searching for \"Archangel\" by Burial...\n"
     ]
    },
    {
     "name": "stderr",
     "output_type": "stream",
     "text": [
      " 28%|██████████████████▊                                                 | 366/1322 [15:33<36:54,  2.32s/it]"
     ]
    },
    {
     "name": "stdout",
     "output_type": "stream",
     "text": [
      "Done.\n",
      "Searching for \"Are You Experienced?\" by Jimi Hendrix...\n"
     ]
    },
    {
     "name": "stderr",
     "output_type": "stream",
     "text": [
      " 28%|██████████████████▉                                                 | 367/1322 [15:37<42:53,  2.69s/it]"
     ]
    },
    {
     "name": "stdout",
     "output_type": "stream",
     "text": [
      "Done.\n",
      "Searching for \"Are You That Somebody\" by Aaliyah...\n"
     ]
    },
    {
     "name": "stderr",
     "output_type": "stream",
     "text": [
      " 28%|██████████████████▉                                                 | 368/1322 [15:39<39:17,  2.47s/it]"
     ]
    },
    {
     "name": "stdout",
     "output_type": "stream",
     "text": [
      "Done.\n",
      "Searching for \"Areknames\" by Franco Battiato...\n"
     ]
    },
    {
     "name": "stderr",
     "output_type": "stream",
     "text": [
      " 28%|██████████████████▉                                                 | 369/1322 [15:41<36:13,  2.28s/it]"
     ]
    },
    {
     "name": "stdout",
     "output_type": "stream",
     "text": [
      "Done.\n",
      "Searching for \"Hendrix With Ko\" by Caribou...\n"
     ]
    },
    {
     "name": "stderr",
     "output_type": "stream",
     "text": [
      " 28%|███████████████████                                                 | 370/1322 [15:42<34:26,  2.17s/it]"
     ]
    },
    {
     "name": "stdout",
     "output_type": "stream",
     "text": [
      "Done.\n",
      "Searching for \"ARP3\" by Floating Points...\n",
      "Specified song does not contain lyrics. Rejecting.\n",
      "Searching for \"ARP3\" by Floating Points...\n",
      "Specified song does not contain lyrics. Rejecting.\n",
      "Searching for \"ARP3\" by Floating Points...\n",
      "Specified song does not contain lyrics. Rejecting.\n",
      "Searching for \"ARP3\" by Floating Points...\n",
      "Specified song does not contain lyrics. Rejecting.\n",
      "Searching for \"ARP3\" by Floating Points...\n"
     ]
    },
    {
     "name": "stderr",
     "output_type": "stream",
     "text": [
      " 28%|███████████████████                                                 | 371/1322 [15:45<35:11,  2.22s/it]"
     ]
    },
    {
     "name": "stdout",
     "output_type": "stream",
     "text": [
      "Specified song does not contain lyrics. Rejecting.\n",
      "ARP3 Floating Points Not present in Genius\n",
      "Searching for \"As\" by Stevie Wonder...\n"
     ]
    },
    {
     "name": "stderr",
     "output_type": "stream",
     "text": [
      " 28%|███████████████████▏                                                | 372/1322 [15:48<41:37,  2.63s/it]"
     ]
    },
    {
     "name": "stdout",
     "output_type": "stream",
     "text": [
      "Done.\n",
      "Searching for \"Asafo Beesuon / Obaa Yaa / Aye Me Bone / Kolomashi / Dofo Bi Akyerew Me / Ankwasema Dede / Okwan Tsentsen Awar / Abowa Akonkon\" by C. K. Mann...\n",
      "No results found for: 'Asafo Beesuon / Obaa Yaa / Aye Me Bone / Kolomashi / Dofo Bi Akyerew Me / Ankwasema Dede / Okwan Tsentsen Awar / Abowa Akonkon C. K. Mann'\n",
      "Searching for \"Asafo Beesuon / Obaa Yaa / Aye Me Bone / Kolomashi / Dofo Bi Akyerew Me / Ankwasema Dede / Okwan Tsentsen Awar / Abowa Akonkon\" by C. K. Mann...\n",
      "No results found for: 'Asafo Beesuon / Obaa Yaa / Aye Me Bone / Kolomashi / Dofo Bi Akyerew Me / Ankwasema Dede / Okwan Tsentsen Awar / Abowa Akonkon C. K. Mann'\n",
      "Searching for \"Asafo Beesuon / Obaa Yaa / Aye Me Bone / Kolomashi / Dofo Bi Akyerew Me / Ankwasema Dede / Okwan Tsentsen Awar / Abowa Akonkon\" by C. K. Mann...\n",
      "No results found for: 'Asafo Beesuon / Obaa Yaa / Aye Me Bone / Kolomashi / Dofo Bi Akyerew Me / Ankwasema Dede / Okwan Tsentsen Awar / Abowa Akonkon C. K. Mann'\n",
      "Searching for \"Asafo Beesuon / Obaa Yaa / Aye Me Bone / Kolomashi / Dofo Bi Akyerew Me / Ankwasema Dede / Okwan Tsentsen Awar / Abowa Akonkon\" by C. K. Mann...\n",
      "No results found for: 'Asafo Beesuon / Obaa Yaa / Aye Me Bone / Kolomashi / Dofo Bi Akyerew Me / Ankwasema Dede / Okwan Tsentsen Awar / Abowa Akonkon C. K. Mann'\n",
      "Searching for \"Asafo Beesuon / Obaa Yaa / Aye Me Bone / Kolomashi / Dofo Bi Akyerew Me / Ankwasema Dede / Okwan Tsentsen Awar / Abowa Akonkon\" by C. K. Mann...\n"
     ]
    },
    {
     "name": "stderr",
     "output_type": "stream",
     "text": [
      " 28%|███████████████████▏                                                | 373/1322 [15:50<37:21,  2.36s/it]"
     ]
    },
    {
     "name": "stdout",
     "output_type": "stream",
     "text": [
      "No results found for: 'Asafo Beesuon / Obaa Yaa / Aye Me Bone / Kolomashi / Dofo Bi Akyerew Me / Ankwasema Dede / Okwan Tsentsen Awar / Abowa Akonkon C. K. Mann'\n",
      "Asafo Beesuon / Obaa Yaa / Aye Me Bone / Kolomashi / Dofo Bi Akyerew Me / Ankwasema Dede / Okwan Tsentsen Awar / Abowa Akonkon C. K. Mann Not present in Genius\n",
      "Searching for \"Asante Kwa Wazazi\" by George Mukabi...\n",
      "No results found for: 'Asante Kwa Wazazi George Mukabi'\n",
      "Searching for \"Asante Kwa Wazazi\" by George Mukabi...\n",
      "No results found for: 'Asante Kwa Wazazi George Mukabi'\n",
      "Searching for \"Asante Kwa Wazazi\" by George Mukabi...\n",
      "No results found for: 'Asante Kwa Wazazi George Mukabi'\n",
      "Searching for \"Asante Kwa Wazazi\" by George Mukabi...\n",
      "No results found for: 'Asante Kwa Wazazi George Mukabi'\n",
      "Searching for \"Asante Kwa Wazazi\" by George Mukabi...\n"
     ]
    },
    {
     "name": "stderr",
     "output_type": "stream",
     "text": [
      " 28%|███████████████████▏                                                | 374/1322 [15:52<34:19,  2.17s/it]"
     ]
    },
    {
     "name": "stdout",
     "output_type": "stream",
     "text": [
      "No results found for: 'Asante Kwa Wazazi George Mukabi'\n",
      "Asante Kwa Wazazi George Mukabi Not present in Genius\n",
      "Searching for \"Atmosphere Strut\" by Cloud One...\n"
     ]
    },
    {
     "name": "stderr",
     "output_type": "stream",
     "text": [
      " 28%|███████████████████▎                                                | 375/1322 [15:55<37:18,  2.36s/it]"
     ]
    },
    {
     "name": "stdout",
     "output_type": "stream",
     "text": [
      "Done.\n",
      "Searching for \"Atoni Yarabi Lema\" by 22 Band...\n",
      "No results found for: 'Atoni Yarabi Lema 22 Band'\n",
      "Searching for \"Atoni Yarabi Lema\" by 22 Band...\n",
      "No results found for: 'Atoni Yarabi Lema 22 Band'\n",
      "Searching for \"Atoni Yarabi Lema\" by 22 Band...\n",
      "No results found for: 'Atoni Yarabi Lema 22 Band'\n",
      "Searching for \"Atoni Yarabi Lema\" by 22 Band...\n",
      "No results found for: 'Atoni Yarabi Lema 22 Band'\n",
      "Searching for \"Atoni Yarabi Lema\" by 22 Band...\n"
     ]
    },
    {
     "name": "stderr",
     "output_type": "stream",
     "text": [
      " 28%|███████████████████▎                                                | 376/1322 [15:56<34:18,  2.18s/it]"
     ]
    },
    {
     "name": "stdout",
     "output_type": "stream",
     "text": [
      "No results found for: 'Atoni Yarabi Lema 22 Band'\n",
      "Atoni Yarabi Lema 22 Band Not present in Genius\n",
      "Searching for \"Auto Man\" by Newcleus...\n"
     ]
    },
    {
     "name": "stderr",
     "output_type": "stream",
     "text": [
      " 29%|███████████████████▍                                                | 377/1322 [16:00<39:03,  2.48s/it]"
     ]
    },
    {
     "name": "stdout",
     "output_type": "stream",
     "text": [
      "Done.\n",
      "Searching for \"Autobahn - 2009 Remaster\" by Kraftwerk...\n",
      "No results found for: 'Autobahn - 2009 Remaster Kraftwerk'\n",
      "Searching for \"Autobahn - 2009 Remaster\" by Kraftwerk...\n",
      "No results found for: 'Autobahn - 2009 Remaster Kraftwerk'\n",
      "Searching for \"Autobahn - 2009 Remaster\" by Kraftwerk...\n",
      "No results found for: 'Autobahn - 2009 Remaster Kraftwerk'\n",
      "Searching for \"Autobahn - 2009 Remaster\" by Kraftwerk...\n",
      "No results found for: 'Autobahn - 2009 Remaster Kraftwerk'\n",
      "Searching for \"Autobahn - 2009 Remaster\" by Kraftwerk...\n"
     ]
    },
    {
     "name": "stderr",
     "output_type": "stream",
     "text": [
      " 29%|███████████████████▍                                                | 378/1322 [16:02<36:23,  2.31s/it]"
     ]
    },
    {
     "name": "stdout",
     "output_type": "stream",
     "text": [
      "No results found for: 'Autobahn - 2009 Remaster Kraftwerk'\n",
      "Autobahn - 2009 Remaster Kraftwerk Not present in Genius\n",
      "Searching for \"Aykedashem Lebe\" by Tlahoun Gessesse...\n",
      "No results found for: 'Aykedashem Lebe Tlahoun Gessesse'\n",
      "Searching for \"Aykedashem Lebe\" by Tlahoun Gessesse...\n",
      "No results found for: 'Aykedashem Lebe Tlahoun Gessesse'\n",
      "Searching for \"Aykedashem Lebe\" by Tlahoun Gessesse...\n",
      "No results found for: 'Aykedashem Lebe Tlahoun Gessesse'\n",
      "Searching for \"Aykedashem Lebe\" by Tlahoun Gessesse...\n",
      "No results found for: 'Aykedashem Lebe Tlahoun Gessesse'\n",
      "Searching for \"Aykedashem Lebe\" by Tlahoun Gessesse...\n"
     ]
    },
    {
     "name": "stderr",
     "output_type": "stream",
     "text": [
      " 29%|███████████████████▍                                                | 379/1322 [16:04<35:12,  2.24s/it]"
     ]
    },
    {
     "name": "stdout",
     "output_type": "stream",
     "text": [
      "No results found for: 'Aykedashem Lebe Tlahoun Gessesse'\n",
      "Aykedashem Lebe Tlahoun Gessesse Not present in Genius\n",
      "Searching for \"B1 Untitled\" by K-Hand...\n",
      "No results found for: 'B1 Untitled K-Hand'\n",
      "Searching for \"B1 Untitled\" by K-Hand...\n",
      "No results found for: 'B1 Untitled K-Hand'\n",
      "Searching for \"B1 Untitled\" by K-Hand...\n",
      "No results found for: 'B1 Untitled K-Hand'\n",
      "Searching for \"B1 Untitled\" by K-Hand...\n",
      "No results found for: 'B1 Untitled K-Hand'\n",
      "Searching for \"B1 Untitled\" by K-Hand...\n"
     ]
    },
    {
     "name": "stderr",
     "output_type": "stream",
     "text": [
      " 29%|███████████████████▌                                                | 380/1322 [16:05<33:03,  2.11s/it]"
     ]
    },
    {
     "name": "stdout",
     "output_type": "stream",
     "text": [
      "No results found for: 'B1 Untitled K-Hand'\n",
      "B1 Untitled K-Hand Not present in Genius\n",
      "Searching for \"Baby Let's Dance Together - Shalimar / Soundtrack Version\" by Kittu...\n",
      "No results found for: 'Baby Let's Dance Together - Shalimar / Soundtrack Version Kittu'\n",
      "Searching for \"Baby Let's Dance Together - Shalimar / Soundtrack Version\" by Kittu...\n",
      "No results found for: 'Baby Let's Dance Together - Shalimar / Soundtrack Version Kittu'\n",
      "Searching for \"Baby Let's Dance Together - Shalimar / Soundtrack Version\" by Kittu...\n",
      "No results found for: 'Baby Let's Dance Together - Shalimar / Soundtrack Version Kittu'\n",
      "Searching for \"Baby Let's Dance Together - Shalimar / Soundtrack Version\" by Kittu...\n",
      "No results found for: 'Baby Let's Dance Together - Shalimar / Soundtrack Version Kittu'\n",
      "Searching for \"Baby Let's Dance Together - Shalimar / Soundtrack Version\" by Kittu...\n"
     ]
    },
    {
     "name": "stderr",
     "output_type": "stream",
     "text": [
      " 29%|███████████████████▌                                                | 381/1322 [16:08<33:15,  2.12s/it]"
     ]
    },
    {
     "name": "stdout",
     "output_type": "stream",
     "text": [
      "No results found for: 'Baby Let's Dance Together - Shalimar / Soundtrack Version Kittu'\n",
      "Baby Let's Dance Together - Shalimar / Soundtrack Version Kittu Not present in Genius\n",
      "Searching for \"Babylon\" by Aphrodite's Child...\n"
     ]
    },
    {
     "name": "stderr",
     "output_type": "stream",
     "text": [
      " 29%|███████████████████▋                                                | 382/1322 [16:10<34:43,  2.22s/it]"
     ]
    },
    {
     "name": "stdout",
     "output_type": "stream",
     "text": [
      "Done.\n",
      "Searching for \"Back That Azz Up\" by JUVENILE...\n"
     ]
    },
    {
     "name": "stderr",
     "output_type": "stream",
     "text": [
      " 29%|███████████████████▋                                                | 383/1322 [16:12<34:29,  2.20s/it]"
     ]
    },
    {
     "name": "stdout",
     "output_type": "stream",
     "text": [
      "Done.\n",
      "Searching for \"Balek - 2006 Remastered Version\" by Marc Moulin...\n",
      "No results found for: 'Balek - 2006 Remastered Version Marc Moulin'\n",
      "Searching for \"Balek - 2006 Remastered Version\" by Marc Moulin...\n",
      "No results found for: 'Balek - 2006 Remastered Version Marc Moulin'\n",
      "Searching for \"Balek - 2006 Remastered Version\" by Marc Moulin...\n",
      "No results found for: 'Balek - 2006 Remastered Version Marc Moulin'\n",
      "Searching for \"Balek - 2006 Remastered Version\" by Marc Moulin...\n",
      "No results found for: 'Balek - 2006 Remastered Version Marc Moulin'\n",
      "Searching for \"Balek - 2006 Remastered Version\" by Marc Moulin...\n"
     ]
    },
    {
     "name": "stderr",
     "output_type": "stream",
     "text": [
      " 29%|███████████████████▊                                                | 384/1322 [16:14<33:02,  2.11s/it]"
     ]
    },
    {
     "name": "stdout",
     "output_type": "stream",
     "text": [
      "No results found for: 'Balek - 2006 Remastered Version Marc Moulin'\n",
      "Balek - 2006 Remastered Version Marc Moulin Not present in Genius\n",
      "Searching for \"Ballade de Melody Nelson\" by Serge Gainsbourg...\n"
     ]
    },
    {
     "name": "stderr",
     "output_type": "stream",
     "text": [
      " 29%|███████████████████▊                                                | 385/1322 [16:17<38:20,  2.45s/it]"
     ]
    },
    {
     "name": "stdout",
     "output_type": "stream",
     "text": [
      "Done.\n",
      "Searching for \"Ballet Statique\" by Conrad Schnitzler...\n",
      "No results found for: 'Ballet Statique Conrad Schnitzler'\n",
      "Searching for \"Ballet Statique\" by Conrad Schnitzler...\n",
      "No results found for: 'Ballet Statique Conrad Schnitzler'\n",
      "Searching for \"Ballet Statique\" by Conrad Schnitzler...\n",
      "No results found for: 'Ballet Statique Conrad Schnitzler'\n",
      "Searching for \"Ballet Statique\" by Conrad Schnitzler...\n",
      "No results found for: 'Ballet Statique Conrad Schnitzler'\n",
      "Searching for \"Ballet Statique\" by Conrad Schnitzler...\n"
     ]
    },
    {
     "name": "stderr",
     "output_type": "stream",
     "text": [
      " 29%|███████████████████▊                                                | 386/1322 [16:19<35:07,  2.25s/it]"
     ]
    },
    {
     "name": "stdout",
     "output_type": "stream",
     "text": [
      "No results found for: 'Ballet Statique Conrad Schnitzler'\n",
      "Ballet Statique Conrad Schnitzler Not present in Genius\n",
      "Searching for \"Bananaticoco\" by Brazil Selection...\n",
      "No results found for: 'Bananaticoco Brazil Selection'\n",
      "Searching for \"Bananaticoco\" by Brazil Selection...\n",
      "No results found for: 'Bananaticoco Brazil Selection'\n",
      "Searching for \"Bananaticoco\" by Brazil Selection...\n",
      "No results found for: 'Bananaticoco Brazil Selection'\n",
      "Searching for \"Bananaticoco\" by Brazil Selection...\n",
      "No results found for: 'Bananaticoco Brazil Selection'\n",
      "Searching for \"Bananaticoco\" by Brazil Selection...\n"
     ]
    },
    {
     "name": "stderr",
     "output_type": "stream",
     "text": [
      " 29%|███████████████████▉                                                | 387/1322 [16:21<34:19,  2.20s/it]"
     ]
    },
    {
     "name": "stdout",
     "output_type": "stream",
     "text": [
      "No results found for: 'Bananaticoco Brazil Selection'\n",
      "Bananaticoco Brazil Selection Not present in Genius\n",
      "Searching for \"Sandy\" by Caribou...\n"
     ]
    },
    {
     "name": "stderr",
     "output_type": "stream",
     "text": [
      " 29%|███████████████████▉                                                | 388/1322 [16:24<36:47,  2.36s/it]"
     ]
    },
    {
     "name": "stdout",
     "output_type": "stream",
     "text": [
      "Done.\n",
      "Searching for \"Bang a Gong (Get It On) - Re-Recorded\" by T. Rex...\n",
      "No results found for: 'Bang a Gong (Get It On) - Re-Recorded T. Rex'\n",
      "Searching for \"Bang a Gong (Get It On) - Re-Recorded\" by T. Rex...\n",
      "No results found for: 'Bang a Gong (Get It On) - Re-Recorded T. Rex'\n",
      "Searching for \"Bang a Gong (Get It On) - Re-Recorded\" by T. Rex...\n",
      "No results found for: 'Bang a Gong (Get It On) - Re-Recorded T. Rex'\n",
      "Searching for \"Bang a Gong (Get It On) - Re-Recorded\" by T. Rex...\n",
      "No results found for: 'Bang a Gong (Get It On) - Re-Recorded T. Rex'\n",
      "Searching for \"Bang a Gong (Get It On) - Re-Recorded\" by T. Rex...\n"
     ]
    },
    {
     "name": "stderr",
     "output_type": "stream",
     "text": [
      " 29%|████████████████████                                                | 389/1322 [16:26<34:26,  2.22s/it]"
     ]
    },
    {
     "name": "stdout",
     "output_type": "stream",
     "text": [
      "No results found for: 'Bang a Gong (Get It On) - Re-Recorded T. Rex'\n",
      "Bang a Gong (Get It On) - Re-Recorded T. Rex Not present in Genius\n",
      "Searching for \"Battle Rhymes For Battle Times\" by Koushik...\n",
      "No results found for: 'Battle Rhymes For Battle Times Koushik'\n",
      "Searching for \"Battle Rhymes For Battle Times\" by Koushik...\n",
      "No results found for: 'Battle Rhymes For Battle Times Koushik'\n",
      "Searching for \"Battle Rhymes For Battle Times\" by Koushik...\n",
      "No results found for: 'Battle Rhymes For Battle Times Koushik'\n",
      "Searching for \"Battle Rhymes For Battle Times\" by Koushik...\n",
      "No results found for: 'Battle Rhymes For Battle Times Koushik'\n",
      "Searching for \"Battle Rhymes For Battle Times\" by Koushik...\n"
     ]
    },
    {
     "name": "stderr",
     "output_type": "stream",
     "text": [
      " 30%|████████████████████                                                | 390/1322 [16:28<32:26,  2.09s/it]"
     ]
    },
    {
     "name": "stdout",
     "output_type": "stream",
     "text": [
      "No results found for: 'Battle Rhymes For Battle Times Koushik'\n",
      "Battle Rhymes For Battle Times Koushik Not present in Genius\n",
      "Searching for \"Beau Mot Plage\" by Isolée...\n"
     ]
    },
    {
     "name": "stderr",
     "output_type": "stream",
     "text": [
      " 30%|████████████████████                                                | 391/1322 [16:32<43:41,  2.82s/it]"
     ]
    },
    {
     "name": "stdout",
     "output_type": "stream",
     "text": [
      "Done.\n",
      "Searching for \"Been To Canaan\" by Alice Babs...\n"
     ]
    },
    {
     "name": "stderr",
     "output_type": "stream",
     "text": [
      " 30%|████████████████████▏                                               | 392/1322 [16:35<44:04,  2.84s/it]"
     ]
    },
    {
     "name": "stdout",
     "output_type": "stream",
     "text": [
      "Done.\n",
      "Searching for \"Beginning To See The Light\" by The Velvet Underground...\n"
     ]
    },
    {
     "name": "stderr",
     "output_type": "stream",
     "text": [
      " 30%|████████████████████▏                                               | 393/1322 [16:38<43:03,  2.78s/it]"
     ]
    },
    {
     "name": "stdout",
     "output_type": "stream",
     "text": [
      "Done.\n",
      "Searching for \"Berceuse\" by Ilous & Decuyper...\n",
      "No results found for: 'Berceuse Ilous & Decuyper'\n",
      "Searching for \"Berceuse\" by Ilous & Decuyper...\n",
      "No results found for: 'Berceuse Ilous & Decuyper'\n",
      "Searching for \"Berceuse\" by Ilous & Decuyper...\n",
      "No results found for: 'Berceuse Ilous & Decuyper'\n",
      "Searching for \"Berceuse\" by Ilous & Decuyper...\n",
      "No results found for: 'Berceuse Ilous & Decuyper'\n",
      "Searching for \"Berceuse\" by Ilous & Decuyper...\n"
     ]
    },
    {
     "name": "stderr",
     "output_type": "stream",
     "text": [
      " 30%|████████████████████▎                                               | 394/1322 [16:39<38:07,  2.47s/it]"
     ]
    },
    {
     "name": "stdout",
     "output_type": "stream",
     "text": [
      "No results found for: 'Berceuse Ilous & Decuyper'\n",
      "Berceuse Ilous & Decuyper Not present in Genius\n",
      "Searching for \"Big Brother\" by Stevie Wonder...\n"
     ]
    },
    {
     "name": "stderr",
     "output_type": "stream",
     "text": [
      " 30%|████████████████████▎                                               | 395/1322 [16:42<37:33,  2.43s/it]"
     ]
    },
    {
     "name": "stdout",
     "output_type": "stream",
     "text": [
      "Done.\n",
      "Searching for \"Big Pimpin'\" by JAY-Z...\n"
     ]
    },
    {
     "name": "stderr",
     "output_type": "stream",
     "text": [
      " 30%|████████████████████▎                                               | 396/1322 [16:44<35:12,  2.28s/it]"
     ]
    },
    {
     "name": "stdout",
     "output_type": "stream",
     "text": [
      "Done.\n",
      "Searching for \"Black\" by DJ Ss...\n"
     ]
    },
    {
     "name": "stderr",
     "output_type": "stream",
     "text": [
      " 30%|████████████████████▍                                               | 397/1322 [16:46<36:42,  2.38s/it]"
     ]
    },
    {
     "name": "stdout",
     "output_type": "stream",
     "text": [
      "Done.\n",
      "Searching for \"Black Cat\" by Broadcast...\n"
     ]
    },
    {
     "name": "stderr",
     "output_type": "stream",
     "text": [
      " 30%|████████████████████▍                                               | 398/1322 [16:50<41:33,  2.70s/it]"
     ]
    },
    {
     "name": "stdout",
     "output_type": "stream",
     "text": [
      "Done.\n",
      "Searching for \"Black Mahogani\" by Moodymann...\n",
      "Specified song does not contain lyrics. Rejecting.\n",
      "Searching for \"Black Mahogani\" by Moodymann...\n",
      "Specified song does not contain lyrics. Rejecting.\n",
      "Searching for \"Black Mahogani\" by Moodymann...\n",
      "Specified song does not contain lyrics. Rejecting.\n",
      "Searching for \"Black Mahogani\" by Moodymann...\n",
      "Specified song does not contain lyrics. Rejecting.\n",
      "Searching for \"Black Mahogani\" by Moodymann...\n"
     ]
    },
    {
     "name": "stderr",
     "output_type": "stream",
     "text": [
      " 30%|████████████████████▌                                               | 399/1322 [16:52<38:27,  2.50s/it]"
     ]
    },
    {
     "name": "stdout",
     "output_type": "stream",
     "text": [
      "Specified song does not contain lyrics. Rejecting.\n",
      "Black Mahogani Moodymann Not present in Genius\n",
      "Searching for \"Black Mountain Side - 1993 Remaster\" by Led Zeppelin...\n"
     ]
    },
    {
     "name": "stderr",
     "output_type": "stream",
     "text": [
      " 30%|████████████████████▌                                               | 400/1322 [16:54<36:28,  2.37s/it]"
     ]
    },
    {
     "name": "stdout",
     "output_type": "stream",
     "text": [
      "Done.\n",
      "Searching for \"Black Rhythm Happening - Remastered\" by Eddie Gale...\n"
     ]
    },
    {
     "name": "stderr",
     "output_type": "stream",
     "text": [
      " 30%|████████████████████▋                                               | 401/1322 [16:57<41:49,  2.73s/it]"
     ]
    },
    {
     "name": "stdout",
     "output_type": "stream",
     "text": [
      "Done.\n",
      "Searching for \"Blind Dumb Deaf\" by Cocteau Twins...\n",
      "No results found for: 'Blind Dumb Deaf Cocteau Twins'\n",
      "Searching for \"Blind Dumb Deaf\" by Cocteau Twins...\n",
      "No results found for: 'Blind Dumb Deaf Cocteau Twins'\n",
      "Searching for \"Blind Dumb Deaf\" by Cocteau Twins...\n",
      "No results found for: 'Blind Dumb Deaf Cocteau Twins'\n",
      "Searching for \"Blind Dumb Deaf\" by Cocteau Twins...\n",
      "No results found for: 'Blind Dumb Deaf Cocteau Twins'\n",
      "Searching for \"Blind Dumb Deaf\" by Cocteau Twins...\n"
     ]
    },
    {
     "name": "stderr",
     "output_type": "stream",
     "text": [
      " 30%|████████████████████▋                                               | 402/1322 [16:59<37:27,  2.44s/it]"
     ]
    },
    {
     "name": "stdout",
     "output_type": "stream",
     "text": [
      "No results found for: 'Blind Dumb Deaf Cocteau Twins'\n",
      "Blind Dumb Deaf Cocteau Twins Not present in Genius\n",
      "Searching for \"Blind Willie\" by Sonny Sharrock...\n",
      "Specified song does not contain lyrics. Rejecting.\n",
      "Searching for \"Blind Willie\" by Sonny Sharrock...\n",
      "Specified song does not contain lyrics. Rejecting.\n",
      "Searching for \"Blind Willie\" by Sonny Sharrock...\n",
      "Specified song does not contain lyrics. Rejecting.\n",
      "Searching for \"Blind Willie\" by Sonny Sharrock...\n",
      "Specified song does not contain lyrics. Rejecting.\n",
      "Searching for \"Blind Willie\" by Sonny Sharrock...\n"
     ]
    },
    {
     "name": "stderr",
     "output_type": "stream",
     "text": [
      " 30%|████████████████████▋                                               | 403/1322 [17:02<39:18,  2.57s/it]"
     ]
    },
    {
     "name": "stdout",
     "output_type": "stream",
     "text": [
      "Specified song does not contain lyrics. Rejecting.\n",
      "Blind Willie Sonny Sharrock Not present in Genius\n",
      "Searching for \"Blow Your Head\" by Fred Wesley & The J.B.'s...\n",
      "Specified song does not contain lyrics. Rejecting.\n",
      "Searching for \"Blow Your Head\" by Fred Wesley & The J.B.'s...\n",
      "Specified song does not contain lyrics. Rejecting.\n",
      "Searching for \"Blow Your Head\" by Fred Wesley & The J.B.'s...\n",
      "Specified song does not contain lyrics. Rejecting.\n",
      "Searching for \"Blow Your Head\" by Fred Wesley & The J.B.'s...\n",
      "Specified song does not contain lyrics. Rejecting.\n",
      "Searching for \"Blow Your Head\" by Fred Wesley & The J.B.'s...\n"
     ]
    },
    {
     "name": "stderr",
     "output_type": "stream",
     "text": [
      " 31%|████████████████████▊                                               | 404/1322 [17:04<38:49,  2.54s/it]"
     ]
    },
    {
     "name": "stdout",
     "output_type": "stream",
     "text": [
      "Specified song does not contain lyrics. Rejecting.\n",
      "Blow Your Head Fred Wesley & The J.B.'s Not present in Genius\n",
      "Searching for \"Blues for Your Mama\" by Robin Kenyatta...\n",
      "No results found for: 'Blues for Your Mama Robin Kenyatta'\n",
      "Searching for \"Blues for Your Mama\" by Robin Kenyatta...\n",
      "No results found for: 'Blues for Your Mama Robin Kenyatta'\n",
      "Searching for \"Blues for Your Mama\" by Robin Kenyatta...\n",
      "No results found for: 'Blues for Your Mama Robin Kenyatta'\n",
      "Searching for \"Blues for Your Mama\" by Robin Kenyatta...\n",
      "No results found for: 'Blues for Your Mama Robin Kenyatta'\n",
      "Searching for \"Blues for Your Mama\" by Robin Kenyatta...\n"
     ]
    },
    {
     "name": "stderr",
     "output_type": "stream",
     "text": [
      " 31%|████████████████████▊                                               | 405/1322 [17:06<35:25,  2.32s/it]"
     ]
    },
    {
     "name": "stdout",
     "output_type": "stream",
     "text": [
      "No results found for: 'Blues for Your Mama Robin Kenyatta'\n",
      "Blues for Your Mama Robin Kenyatta Not present in Genius\n",
      "Searching for \"Bold as Love\" by Jimi Hendrix...\n"
     ]
    },
    {
     "name": "stderr",
     "output_type": "stream",
     "text": [
      " 31%|████████████████████▉                                               | 406/1322 [17:12<49:57,  3.27s/it]"
     ]
    },
    {
     "name": "stdout",
     "output_type": "stream",
     "text": [
      "Done.\n",
      "Searching for \"Bonita Applebum - includes 'Can I Kick It' Intro\" by A Tribe Called Quest...\n",
      "No results found for: 'Bonita Applebum - includes 'Can I Kick It' Intro A Tribe Called Quest'\n",
      "Searching for \"Bonita Applebum - includes 'Can I Kick It' Intro\" by A Tribe Called Quest...\n",
      "No results found for: 'Bonita Applebum - includes 'Can I Kick It' Intro A Tribe Called Quest'\n",
      "Searching for \"Bonita Applebum - includes 'Can I Kick It' Intro\" by A Tribe Called Quest...\n",
      "No results found for: 'Bonita Applebum - includes 'Can I Kick It' Intro A Tribe Called Quest'\n",
      "Searching for \"Bonita Applebum - includes 'Can I Kick It' Intro\" by A Tribe Called Quest...\n",
      "No results found for: 'Bonita Applebum - includes 'Can I Kick It' Intro A Tribe Called Quest'\n",
      "Searching for \"Bonita Applebum - includes 'Can I Kick It' Intro\" by A Tribe Called Quest...\n"
     ]
    },
    {
     "name": "stderr",
     "output_type": "stream",
     "text": [
      " 31%|████████████████████▉                                               | 407/1322 [17:14<43:19,  2.84s/it]"
     ]
    },
    {
     "name": "stdout",
     "output_type": "stream",
     "text": [
      "No results found for: 'Bonita Applebum - includes 'Can I Kick It' Intro A Tribe Called Quest'\n",
      "Bonita Applebum - includes 'Can I Kick It' Intro A Tribe Called Quest Not present in Genius\n",
      "Searching for \"Bonny\" by Prefab Sprout...\n"
     ]
    },
    {
     "name": "stderr",
     "output_type": "stream",
     "text": [
      " 31%|████████████████████▉                                               | 408/1322 [17:16<43:02,  2.83s/it]"
     ]
    },
    {
     "name": "stdout",
     "output_type": "stream",
     "text": [
      "Done.\n",
      "Searching for \"Bounce Ta This\" by Showbiz & A.G....\n"
     ]
    },
    {
     "name": "stderr",
     "output_type": "stream",
     "text": [
      " 31%|█████████████████████                                               | 409/1322 [17:18<38:02,  2.50s/it]"
     ]
    },
    {
     "name": "stdout",
     "output_type": "stream",
     "text": [
      "Done.\n",
      "Searching for \"Bra\" by Cymande...\n"
     ]
    },
    {
     "name": "stderr",
     "output_type": "stream",
     "text": [
      " 31%|█████████████████████                                               | 410/1322 [17:20<34:24,  2.26s/it]"
     ]
    },
    {
     "name": "stdout",
     "output_type": "stream",
     "text": [
      "Done.\n",
      "Searching for \"Bra Joe from Kilimanjaro\" by Don Cherry...\n"
     ]
    },
    {
     "name": "stderr",
     "output_type": "stream",
     "text": [
      " 31%|█████████████████████▏                                              | 411/1322 [17:22<33:14,  2.19s/it]"
     ]
    },
    {
     "name": "stdout",
     "output_type": "stream",
     "text": [
      "Done.\n",
      "Searching for \"Brazil - Slow Version\" by Luke Abbott...\n"
     ]
    },
    {
     "name": "stderr",
     "output_type": "stream",
     "text": [
      " 31%|█████████████████████▏                                              | 412/1322 [17:26<42:42,  2.82s/it]"
     ]
    },
    {
     "name": "stdout",
     "output_type": "stream",
     "text": [
      "Done.\n",
      "Searching for \"Brazilian Rhyme\" by Earth, Wind & Fire...\n"
     ]
    },
    {
     "name": "stderr",
     "output_type": "stream",
     "text": [
      " 31%|█████████████████████▏                                              | 413/1322 [17:30<48:35,  3.21s/it]"
     ]
    },
    {
     "name": "stdout",
     "output_type": "stream",
     "text": [
      "Done.\n",
      "Searching for \"Break\" by Aphrodite's Child...\n"
     ]
    },
    {
     "name": "stderr",
     "output_type": "stream",
     "text": [
      " 31%|█████████████████████▎                                              | 414/1322 [17:32<44:01,  2.91s/it]"
     ]
    },
    {
     "name": "stdout",
     "output_type": "stream",
     "text": [
      "Done.\n",
      "Searching for \"Break Fool\" by Rah Digga...\n"
     ]
    },
    {
     "name": "stderr",
     "output_type": "stream",
     "text": [
      " 31%|█████████████████████▎                                              | 415/1322 [17:36<45:05,  2.98s/it]"
     ]
    },
    {
     "name": "stdout",
     "output_type": "stream",
     "text": [
      "Done.\n",
      "Searching for \"Bring Da Ruckus (feat. RZA, Ghostface Killah, Raekwon & Inspectah Deck)\" by Wu-Tang Clan...\n"
     ]
    },
    {
     "name": "stderr",
     "output_type": "stream",
     "text": [
      " 31%|█████████████████████▍                                              | 416/1322 [17:38<40:44,  2.70s/it]"
     ]
    },
    {
     "name": "stdout",
     "output_type": "stream",
     "text": [
      "Done.\n",
      "Searching for \"Brown Rice\" by Don Cherry...\n",
      "Specified song does not contain lyrics. Rejecting.\n",
      "Searching for \"Brown Rice\" by Don Cherry...\n",
      "Specified song does not contain lyrics. Rejecting.\n",
      "Searching for \"Brown Rice\" by Don Cherry...\n",
      "Specified song does not contain lyrics. Rejecting.\n",
      "Searching for \"Brown Rice\" by Don Cherry...\n",
      "Specified song does not contain lyrics. Rejecting.\n",
      "Searching for \"Brown Rice\" by Don Cherry...\n"
     ]
    },
    {
     "name": "stderr",
     "output_type": "stream",
     "text": [
      " 32%|█████████████████████▍                                              | 417/1322 [17:40<39:35,  2.62s/it]"
     ]
    },
    {
     "name": "stdout",
     "output_type": "stream",
     "text": [
      "Specified song does not contain lyrics. Rejecting.\n",
      "Brown Rice Don Cherry Not present in Genius\n",
      "Searching for \"Bu-bu\" by Arp Life...\n",
      "No results found for: 'Bu-bu Arp Life'\n",
      "Searching for \"Bu-bu\" by Arp Life...\n",
      "No results found for: 'Bu-bu Arp Life'\n",
      "Searching for \"Bu-bu\" by Arp Life...\n",
      "No results found for: 'Bu-bu Arp Life'\n",
      "Searching for \"Bu-bu\" by Arp Life...\n",
      "No results found for: 'Bu-bu Arp Life'\n",
      "Searching for \"Bu-bu\" by Arp Life...\n"
     ]
    },
    {
     "name": "stderr",
     "output_type": "stream",
     "text": [
      " 32%|█████████████████████▌                                              | 418/1322 [17:42<36:10,  2.40s/it]"
     ]
    },
    {
     "name": "stdout",
     "output_type": "stream",
     "text": [
      "No results found for: 'Bu-bu Arp Life'\n",
      "Bu-bu Arp Life Not present in Genius\n",
      "Searching for \"Burundi Black - 2E Partie\" by Burundi Steiphenson Black...\n",
      "No results found for: 'Burundi Black - 2E Partie Burundi Steiphenson Black'\n",
      "Searching for \"Burundi Black - 2E Partie\" by Burundi Steiphenson Black...\n",
      "No results found for: 'Burundi Black - 2E Partie Burundi Steiphenson Black'\n",
      "Searching for \"Burundi Black - 2E Partie\" by Burundi Steiphenson Black...\n",
      "No results found for: 'Burundi Black - 2E Partie Burundi Steiphenson Black'\n",
      "Searching for \"Burundi Black - 2E Partie\" by Burundi Steiphenson Black...\n",
      "No results found for: 'Burundi Black - 2E Partie Burundi Steiphenson Black'\n",
      "Searching for \"Burundi Black - 2E Partie\" by Burundi Steiphenson Black...\n"
     ]
    },
    {
     "name": "stderr",
     "output_type": "stream",
     "text": [
      " 32%|█████████████████████▌                                              | 419/1322 [17:44<34:32,  2.30s/it]"
     ]
    },
    {
     "name": "stdout",
     "output_type": "stream",
     "text": [
      "No results found for: 'Burundi Black - 2E Partie Burundi Steiphenson Black'\n",
      "Burundi Black - 2E Partie Burundi Steiphenson Black Not present in Genius\n",
      "Searching for \"Carry On\" by Daphni...\n"
     ]
    },
    {
     "name": "stderr",
     "output_type": "stream",
     "text": [
      " 32%|█████████████████████▌                                              | 420/1322 [17:48<43:25,  2.89s/it]"
     ]
    },
    {
     "name": "stdout",
     "output_type": "stream",
     "text": [
      "Done.\n",
      "Searching for \"California Soul\" by Marlena Shaw...\n"
     ]
    },
    {
     "name": "stderr",
     "output_type": "stream",
     "text": [
      " 32%|█████████████████████▋                                              | 421/1322 [17:51<42:49,  2.85s/it]"
     ]
    },
    {
     "name": "stdout",
     "output_type": "stream",
     "text": [
      "Done.\n",
      "Searching for \"Camino del Sol\" by Antena...\n"
     ]
    },
    {
     "name": "stderr",
     "output_type": "stream",
     "text": [
      " 32%|█████████████████████▋                                              | 422/1322 [17:54<42:27,  2.83s/it]"
     ]
    },
    {
     "name": "stdout",
     "output_type": "stream",
     "text": [
      "Done.\n",
      "Searching for \"Can I Kick It?\" by A Tribe Called Quest...\n",
      "Searching for \"Can I Kick It?\" by A Tribe Called Quest...\n"
     ]
    },
    {
     "name": "stderr",
     "output_type": "stream",
     "text": [
      " 32%|█████████████████████                                             | 423/1322 [18:03<1:11:25,  4.77s/it]"
     ]
    },
    {
     "name": "stdout",
     "output_type": "stream",
     "text": [
      "Done.\n",
      "Searching for \"Can It Be All So Simple / Intermission (feat. RZA, Raekwon & Ghostface Killah)\" by Wu-Tang Clan...\n",
      "No results found for: 'Can It Be All So Simple / Intermission (feat. RZA, Raekwon & Ghostface Killah) Wu-Tang Clan'\n",
      "Searching for \"Can It Be All So Simple / Intermission (feat. RZA, Raekwon & Ghostface Killah)\" by Wu-Tang Clan...\n",
      "No results found for: 'Can It Be All So Simple / Intermission (feat. RZA, Raekwon & Ghostface Killah) Wu-Tang Clan'\n",
      "Searching for \"Can It Be All So Simple / Intermission (feat. RZA, Raekwon & Ghostface Killah)\" by Wu-Tang Clan...\n",
      "No results found for: 'Can It Be All So Simple / Intermission (feat. RZA, Raekwon & Ghostface Killah) Wu-Tang Clan'\n",
      "Searching for \"Can It Be All So Simple / Intermission (feat. RZA, Raekwon & Ghostface Killah)\" by Wu-Tang Clan...\n",
      "No results found for: 'Can It Be All So Simple / Intermission (feat. RZA, Raekwon & Ghostface Killah) Wu-Tang Clan'\n",
      "Searching for \"Can It Be All So Simple / Intermission (feat. RZA, Raekwon & Ghostface Killah)\" by Wu-Tang Clan...\n"
     ]
    },
    {
     "name": "stderr",
     "output_type": "stream",
     "text": [
      " 32%|█████████████████████▊                                              | 424/1322 [18:05<58:09,  3.89s/it]"
     ]
    },
    {
     "name": "stdout",
     "output_type": "stream",
     "text": [
      "No results found for: 'Can It Be All So Simple / Intermission (feat. RZA, Raekwon & Ghostface Killah) Wu-Tang Clan'\n",
      "Can It Be All So Simple / Intermission (feat. RZA, Raekwon & Ghostface Killah) Wu-Tang Clan Not present in Genius\n",
      "Searching for \"Can You Feel It\" by Mr. Fingers...\n",
      "Specified song does not contain lyrics. Rejecting.\n",
      "Searching for \"Can You Feel It\" by Mr. Fingers...\n",
      "Specified song does not contain lyrics. Rejecting.\n",
      "Searching for \"Can You Feel It\" by Mr. Fingers...\n",
      "Specified song does not contain lyrics. Rejecting.\n",
      "Searching for \"Can You Feel It\" by Mr. Fingers...\n",
      "Specified song does not contain lyrics. Rejecting.\n",
      "Searching for \"Can You Feel It\" by Mr. Fingers...\n"
     ]
    },
    {
     "name": "stderr",
     "output_type": "stream",
     "text": [
      " 32%|█████████████████████▊                                              | 425/1322 [18:07<50:12,  3.36s/it]"
     ]
    },
    {
     "name": "stdout",
     "output_type": "stream",
     "text": [
      "Specified song does not contain lyrics. Rejecting.\n",
      "Can You Feel It Mr. Fingers Not present in Genius\n",
      "Searching for \"Candy Shoppe\" by Emeralds...\n",
      "Specified song does not contain lyrics. Rejecting.\n",
      "Searching for \"Candy Shoppe\" by Emeralds...\n",
      "Specified song does not contain lyrics. Rejecting.\n",
      "Searching for \"Candy Shoppe\" by Emeralds...\n",
      "Specified song does not contain lyrics. Rejecting.\n",
      "Searching for \"Candy Shoppe\" by Emeralds...\n",
      "Specified song does not contain lyrics. Rejecting.\n",
      "Searching for \"Candy Shoppe\" by Emeralds...\n"
     ]
    },
    {
     "name": "stderr",
     "output_type": "stream",
     "text": [
      " 32%|█████████████████████▉                                              | 426/1322 [18:09<43:41,  2.93s/it]"
     ]
    },
    {
     "name": "stdout",
     "output_type": "stream",
     "text": [
      "Specified song does not contain lyrics. Rejecting.\n",
      "Candy Shoppe Emeralds Not present in Genius\n",
      "Searching for \"Car Wash Hair - Full Pull\" by Mercury Rev...\n"
     ]
    },
    {
     "name": "stderr",
     "output_type": "stream",
     "text": [
      " 32%|█████████████████████▉                                              | 427/1322 [18:11<41:35,  2.79s/it]"
     ]
    },
    {
     "name": "stdout",
     "output_type": "stream",
     "text": [
      "Done.\n",
      "Searching for \"Carey\" by Joni Mitchell...\n"
     ]
    },
    {
     "name": "stderr",
     "output_type": "stream",
     "text": [
      " 32%|██████████████████████                                              | 428/1322 [18:13<37:49,  2.54s/it]"
     ]
    },
    {
     "name": "stdout",
     "output_type": "stream",
     "text": [
      "Done.\n",
      "Searching for \"Caroline Goodbye\" by Colin Blunstone...\n"
     ]
    },
    {
     "name": "stderr",
     "output_type": "stream",
     "text": [
      " 32%|██████████████████████                                              | 429/1322 [18:17<41:37,  2.80s/it]"
     ]
    },
    {
     "name": "stdout",
     "output_type": "stream",
     "text": [
      "Done.\n",
      "Searching for \"Carry On\" by Crosby, Stills, Nash & Young...\n"
     ]
    },
    {
     "name": "stderr",
     "output_type": "stream",
     "text": [
      " 33%|██████████████████████                                              | 430/1322 [18:19<39:02,  2.63s/it]"
     ]
    },
    {
     "name": "stdout",
     "output_type": "stream",
     "text": [
      "Done.\n",
      "Searching for \"Cat Woman\" by Abaco Dream...\n"
     ]
    },
    {
     "name": "stderr",
     "output_type": "stream",
     "text": [
      " 33%|██████████████████████▏                                             | 431/1322 [18:23<46:56,  3.16s/it]"
     ]
    },
    {
     "name": "stdout",
     "output_type": "stream",
     "text": [
      "Done.\n",
      "Searching for \"Catch Me On the Rebound\" by Loleatta Holloway...\n"
     ]
    },
    {
     "name": "stderr",
     "output_type": "stream",
     "text": [
      " 33%|██████████████████████▏                                             | 432/1322 [18:25<41:38,  2.81s/it]"
     ]
    },
    {
     "name": "stdout",
     "output_type": "stream",
     "text": [
      "Done.\n",
      "Searching for \"Cecen Kizi\" by Nathan Davis...\n",
      "No results found for: 'Cecen Kizi Nathan Davis'\n",
      "Searching for \"Cecen Kizi\" by Nathan Davis...\n",
      "No results found for: 'Cecen Kizi Nathan Davis'\n",
      "Searching for \"Cecen Kizi\" by Nathan Davis...\n",
      "No results found for: 'Cecen Kizi Nathan Davis'\n",
      "Searching for \"Cecen Kizi\" by Nathan Davis...\n",
      "No results found for: 'Cecen Kizi Nathan Davis'\n",
      "Searching for \"Cecen Kizi\" by Nathan Davis...\n"
     ]
    },
    {
     "name": "stderr",
     "output_type": "stream",
     "text": [
      " 33%|██████████████████████▎                                             | 433/1322 [18:28<38:57,  2.63s/it]"
     ]
    },
    {
     "name": "stdout",
     "output_type": "stream",
     "text": [
      "No results found for: 'Cecen Kizi Nathan Davis'\n",
      "Cecen Kizi Nathan Davis Not present in Genius\n",
      "Searching for \"Changin'\" by Ms. (Sharon) Ridley...\n"
     ]
    },
    {
     "name": "stderr",
     "output_type": "stream",
     "text": [
      " 33%|██████████████████████▎                                             | 434/1322 [18:30<36:18,  2.45s/it]"
     ]
    },
    {
     "name": "stdout",
     "output_type": "stream",
     "text": [
      "Done.\n",
      "Searching for \"Check the Rhime\" by A Tribe Called Quest...\n"
     ]
    },
    {
     "name": "stderr",
     "output_type": "stream",
     "text": [
      " 33%|██████████████████████▍                                             | 435/1322 [18:35<49:58,  3.38s/it]"
     ]
    },
    {
     "name": "stdout",
     "output_type": "stream",
     "text": [
      "Done.\n",
      "Searching for \"Child's Christmas In Wales\" by John Cale...\n"
     ]
    },
    {
     "name": "stderr",
     "output_type": "stream",
     "text": [
      " 33%|██████████████████████▍                                             | 436/1322 [18:38<45:35,  3.09s/it]"
     ]
    },
    {
     "name": "stdout",
     "output_type": "stream",
     "text": [
      "Done.\n",
      "Searching for \"Children\" by We All Together...\n"
     ]
    },
    {
     "name": "stderr",
     "output_type": "stream",
     "text": [
      " 33%|██████████████████████▍                                             | 437/1322 [18:40<43:27,  2.95s/it]"
     ]
    },
    {
     "name": "stdout",
     "output_type": "stream",
     "text": [
      "Done.\n",
      "Searching for \"Chimacum Rain\" by Linda Perhacs...\n"
     ]
    },
    {
     "name": "stderr",
     "output_type": "stream",
     "text": [
      " 33%|██████████████████████▌                                             | 438/1322 [18:43<42:50,  2.91s/it]"
     ]
    },
    {
     "name": "stdout",
     "output_type": "stream",
     "text": [
      "Done.\n",
      "Searching for \"Hello Hammerheads\" by Caribou...\n"
     ]
    },
    {
     "name": "stderr",
     "output_type": "stream",
     "text": [
      " 33%|██████████████████████▌                                             | 439/1322 [18:46<41:07,  2.79s/it]"
     ]
    },
    {
     "name": "stdout",
     "output_type": "stream",
     "text": [
      "Done.\n",
      "Searching for \"Cinnamon Girl - 2009 Remaster\" by Neil Young...\n",
      "No results found for: 'Cinnamon Girl - 2009 Remaster Neil Young'\n",
      "Searching for \"Cinnamon Girl - 2009 Remaster\" by Neil Young...\n",
      "No results found for: 'Cinnamon Girl - 2009 Remaster Neil Young'\n",
      "Searching for \"Cinnamon Girl - 2009 Remaster\" by Neil Young...\n",
      "No results found for: 'Cinnamon Girl - 2009 Remaster Neil Young'\n",
      "Searching for \"Cinnamon Girl - 2009 Remaster\" by Neil Young...\n",
      "No results found for: 'Cinnamon Girl - 2009 Remaster Neil Young'\n",
      "Searching for \"Cinnamon Girl - 2009 Remaster\" by Neil Young...\n"
     ]
    },
    {
     "name": "stderr",
     "output_type": "stream",
     "text": [
      " 33%|██████████████████████▋                                             | 440/1322 [18:47<36:46,  2.50s/it]"
     ]
    },
    {
     "name": "stdout",
     "output_type": "stream",
     "text": [
      "No results found for: 'Cinnamon Girl - 2009 Remaster Neil Young'\n",
      "Cinnamon Girl - 2009 Remaster Neil Young Not present in Genius\n",
      "Searching for \"(circle)\" by Boredoms...\n"
     ]
    },
    {
     "name": "stderr",
     "output_type": "stream",
     "text": [
      " 33%|██████████████████████▋                                             | 441/1322 [18:50<35:34,  2.42s/it]"
     ]
    },
    {
     "name": "stdout",
     "output_type": "stream",
     "text": [
      "Done.\n",
      "Searching for \"Climax\" by Usher...\n"
     ]
    },
    {
     "name": "stderr",
     "output_type": "stream",
     "text": [
      " 33%|██████████████████████▋                                             | 442/1322 [18:51<31:44,  2.16s/it]"
     ]
    },
    {
     "name": "stdout",
     "output_type": "stream",
     "text": [
      "Done.\n",
      "Searching for \"Code Of The Streets\" by Gang Starr...\n"
     ]
    },
    {
     "name": "stderr",
     "output_type": "stream",
     "text": [
      " 34%|██████████████████████▊                                             | 443/1322 [18:55<38:34,  2.63s/it]"
     ]
    },
    {
     "name": "stdout",
     "output_type": "stream",
     "text": [
      "Done.\n",
      "Searching for \"Cola Bottle Baby\" by Edwin Birdsong...\n"
     ]
    },
    {
     "name": "stderr",
     "output_type": "stream",
     "text": [
      " 34%|██████████████████████▊                                             | 444/1322 [18:59<44:08,  3.02s/it]"
     ]
    },
    {
     "name": "stdout",
     "output_type": "stream",
     "text": [
      "Done.\n",
      "Searching for \"Come Clean - E New Y Radio\" by Jeru The Damaja...\n"
     ]
    },
    {
     "name": "stderr",
     "output_type": "stream",
     "text": [
      " 34%|██████████████████████▉                                             | 445/1322 [19:03<47:59,  3.28s/it]"
     ]
    },
    {
     "name": "stdout",
     "output_type": "stream",
     "text": [
      "Done.\n",
      "Searching for \"Come Closer\" by Salma Agha...\n"
     ]
    },
    {
     "name": "stderr",
     "output_type": "stream",
     "text": [
      " 34%|██████████████████████▉                                             | 446/1322 [19:05<43:24,  2.97s/it]"
     ]
    },
    {
     "name": "stdout",
     "output_type": "stream",
     "text": [
      "Done.\n",
      "Searching for \"Computer Incantations for World Peace\" by Jean-Luc Ponty...\n",
      "No results found for: 'Computer Incantations for World Peace Jean-Luc Ponty'\n",
      "Searching for \"Computer Incantations for World Peace\" by Jean-Luc Ponty...\n",
      "No results found for: 'Computer Incantations for World Peace Jean-Luc Ponty'\n",
      "Searching for \"Computer Incantations for World Peace\" by Jean-Luc Ponty...\n",
      "No results found for: 'Computer Incantations for World Peace Jean-Luc Ponty'\n",
      "Searching for \"Computer Incantations for World Peace\" by Jean-Luc Ponty...\n",
      "No results found for: 'Computer Incantations for World Peace Jean-Luc Ponty'\n",
      "Searching for \"Computer Incantations for World Peace\" by Jean-Luc Ponty...\n"
     ]
    },
    {
     "name": "stderr",
     "output_type": "stream",
     "text": [
      " 34%|██████████████████████▉                                             | 447/1322 [19:07<38:20,  2.63s/it]"
     ]
    },
    {
     "name": "stdout",
     "output_type": "stream",
     "text": [
      "No results found for: 'Computer Incantations for World Peace Jean-Luc Ponty'\n",
      "Computer Incantations for World Peace Jean-Luc Ponty Not present in Genius\n",
      "Searching for \"Coup - 12\" 45 Version\" by 23 Skidoo...\n",
      "No results found for: 'Coup - 12\" 45 Version 23 Skidoo'\n",
      "Searching for \"Coup - 12\" 45 Version\" by 23 Skidoo...\n",
      "No results found for: 'Coup - 12\" 45 Version 23 Skidoo'\n",
      "Searching for \"Coup - 12\" 45 Version\" by 23 Skidoo...\n",
      "No results found for: 'Coup - 12\" 45 Version 23 Skidoo'\n",
      "Searching for \"Coup - 12\" 45 Version\" by 23 Skidoo...\n",
      "No results found for: 'Coup - 12\" 45 Version 23 Skidoo'\n",
      "Searching for \"Coup - 12\" 45 Version\" by 23 Skidoo...\n"
     ]
    },
    {
     "name": "stderr",
     "output_type": "stream",
     "text": [
      " 34%|███████████████████████                                             | 448/1322 [19:09<34:35,  2.37s/it]"
     ]
    },
    {
     "name": "stdout",
     "output_type": "stream",
     "text": [
      "No results found for: 'Coup - 12\" 45 Version 23 Skidoo'\n",
      "Coup - 12\" 45 Version 23 Skidoo Not present in Genius\n",
      "Searching for \"Credit Is Due\" by Gang Starr...\n"
     ]
    },
    {
     "name": "stderr",
     "output_type": "stream",
     "text": [
      " 34%|███████████████████████                                             | 449/1322 [19:11<32:18,  2.22s/it]"
     ]
    },
    {
     "name": "stdout",
     "output_type": "stream",
     "text": [
      "Done.\n",
      "Searching for \"Crew Love\" by Drake...\n"
     ]
    },
    {
     "name": "stderr",
     "output_type": "stream",
     "text": [
      " 34%|███████████████████████▏                                            | 450/1322 [19:16<46:33,  3.20s/it]"
     ]
    },
    {
     "name": "stdout",
     "output_type": "stream",
     "text": [
      "Done.\n",
      "Searching for \"Cry Me a River\" by Justin Timberlake...\n",
      "Searching for \"Cry Me a River\" by Justin Timberlake...\n"
     ]
    },
    {
     "name": "stderr",
     "output_type": "stream",
     "text": [
      " 34%|██████████████████████▌                                           | 451/1322 [19:24<1:07:36,  4.66s/it]"
     ]
    },
    {
     "name": "stdout",
     "output_type": "stream",
     "text": [
      "Done.\n",
      "Searching for \"CT 6\" by Dedalus...\n",
      "Specified song does not contain lyrics. Rejecting.\n",
      "Searching for \"CT 6\" by Dedalus...\n",
      "Specified song does not contain lyrics. Rejecting.\n",
      "Searching for \"CT 6\" by Dedalus...\n",
      "Specified song does not contain lyrics. Rejecting.\n",
      "Searching for \"CT 6\" by Dedalus...\n",
      "Specified song does not contain lyrics. Rejecting.\n",
      "Searching for \"CT 6\" by Dedalus...\n"
     ]
    },
    {
     "name": "stderr",
     "output_type": "stream",
     "text": [
      " 34%|███████████████████████▏                                            | 452/1322 [19:26<55:11,  3.81s/it]"
     ]
    },
    {
     "name": "stdout",
     "output_type": "stream",
     "text": [
      "Specified song does not contain lyrics. Rejecting.\n",
      "CT 6 Dedalus Not present in Genius\n",
      "Searching for \"Cut Up Piano and Xylophone\" by Fridge...\n",
      "No results found for: 'Cut Up Piano and Xylophone Fridge'\n",
      "Searching for \"Cut Up Piano and Xylophone\" by Fridge...\n",
      "No results found for: 'Cut Up Piano and Xylophone Fridge'\n",
      "Searching for \"Cut Up Piano and Xylophone\" by Fridge...\n",
      "No results found for: 'Cut Up Piano and Xylophone Fridge'\n",
      "Searching for \"Cut Up Piano and Xylophone\" by Fridge...\n",
      "No results found for: 'Cut Up Piano and Xylophone Fridge'\n",
      "Searching for \"Cut Up Piano and Xylophone\" by Fridge...\n"
     ]
    },
    {
     "name": "stderr",
     "output_type": "stream",
     "text": [
      " 34%|███████████████████████▎                                            | 453/1322 [19:28<47:10,  3.26s/it]"
     ]
    },
    {
     "name": "stdout",
     "output_type": "stream",
     "text": [
      "No results found for: 'Cut Up Piano and Xylophone Fridge'\n",
      "Cut Up Piano and Xylophone Fridge Not present in Genius\n",
      "Searching for \"Dagon\" by Eskaton...\n",
      "No results found for: 'Dagon Eskaton'\n",
      "Searching for \"Dagon\" by Eskaton...\n",
      "No results found for: 'Dagon Eskaton'\n",
      "Searching for \"Dagon\" by Eskaton...\n",
      "No results found for: 'Dagon Eskaton'\n",
      "Searching for \"Dagon\" by Eskaton...\n",
      "No results found for: 'Dagon Eskaton'\n",
      "Searching for \"Dagon\" by Eskaton...\n"
     ]
    },
    {
     "name": "stderr",
     "output_type": "stream",
     "text": [
      " 34%|███████████████████████▎                                            | 454/1322 [19:30<40:32,  2.80s/it]"
     ]
    },
    {
     "name": "stdout",
     "output_type": "stream",
     "text": [
      "No results found for: 'Dagon Eskaton'\n",
      "Dagon Eskaton Not present in Genius\n",
      "Searching for \"Dan tè dinyé la\" by Nahawa Doumbia...\n",
      "No results found for: 'Dan tè dinyé la Nahawa Doumbia'\n",
      "Searching for \"Dan tè dinyé la\" by Nahawa Doumbia...\n",
      "No results found for: 'Dan tè dinyé la Nahawa Doumbia'\n",
      "Searching for \"Dan tè dinyé la\" by Nahawa Doumbia...\n",
      "No results found for: 'Dan tè dinyé la Nahawa Doumbia'\n",
      "Searching for \"Dan tè dinyé la\" by Nahawa Doumbia...\n",
      "No results found for: 'Dan tè dinyé la Nahawa Doumbia'\n",
      "Searching for \"Dan tè dinyé la\" by Nahawa Doumbia...\n"
     ]
    },
    {
     "name": "stderr",
     "output_type": "stream",
     "text": [
      " 34%|███████████████████████▍                                            | 455/1322 [19:31<35:51,  2.48s/it]"
     ]
    },
    {
     "name": "stdout",
     "output_type": "stream",
     "text": [
      "No results found for: 'Dan tè dinyé la Nahawa Doumbia'\n",
      "Dan tè dinyé la Nahawa Doumbia Not present in Genius\n",
      "Searching for \"Dance with the Devil\" by Cozy Powell...\n",
      "Specified song does not contain lyrics. Rejecting.\n",
      "Searching for \"Dance with the Devil\" by Cozy Powell...\n",
      "Specified song does not contain lyrics. Rejecting.\n",
      "Searching for \"Dance with the Devil\" by Cozy Powell...\n",
      "Specified song does not contain lyrics. Rejecting.\n",
      "Searching for \"Dance with the Devil\" by Cozy Powell...\n",
      "Specified song does not contain lyrics. Rejecting.\n",
      "Searching for \"Dance with the Devil\" by Cozy Powell...\n"
     ]
    },
    {
     "name": "stderr",
     "output_type": "stream",
     "text": [
      " 34%|███████████████████████▍                                            | 456/1322 [19:34<36:19,  2.52s/it]"
     ]
    },
    {
     "name": "stdout",
     "output_type": "stream",
     "text": [
      "Specified song does not contain lyrics. Rejecting.\n",
      "Dance with the Devil Cozy Powell Not present in Genius\n",
      "Searching for \"Dance, Dance, Dance\" by Marta Acuna...\n"
     ]
    },
    {
     "name": "stderr",
     "output_type": "stream",
     "text": [
      " 35%|███████████████████████▌                                            | 457/1322 [19:38<41:43,  2.89s/it]"
     ]
    },
    {
     "name": "stdout",
     "output_type": "stream",
     "text": [
      "Done.\n",
      "Searching for \"Dance-Club Mix\" by Earth People...\n",
      "Specified song does not contain lyrics. Rejecting.\n",
      "Searching for \"Dance-Club Mix\" by Earth People...\n",
      "Specified song does not contain lyrics. Rejecting.\n",
      "Searching for \"Dance-Club Mix\" by Earth People...\n",
      "Specified song does not contain lyrics. Rejecting.\n",
      "Searching for \"Dance-Club Mix\" by Earth People...\n",
      "Specified song does not contain lyrics. Rejecting.\n",
      "Searching for \"Dance-Club Mix\" by Earth People...\n"
     ]
    },
    {
     "name": "stderr",
     "output_type": "stream",
     "text": [
      " 35%|███████████████████████▌                                            | 458/1322 [19:40<37:30,  2.60s/it]"
     ]
    },
    {
     "name": "stdout",
     "output_type": "stream",
     "text": [
      "Specified song does not contain lyrics. Rejecting.\n",
      "Dance-Club Mix Earth People Not present in Genius\n",
      "Searching for \"Date With The Rain\" by Eddie Kendricks...\n"
     ]
    },
    {
     "name": "stderr",
     "output_type": "stream",
     "text": [
      " 35%|███████████████████████▌                                            | 459/1322 [19:42<37:55,  2.64s/it]"
     ]
    },
    {
     "name": "stdout",
     "output_type": "stream",
     "text": [
      "Done.\n",
      "Searching for \"Daytona 500 (feat. Raekwon & Cappadonna)\" by Ghostface Killah...\n"
     ]
    },
    {
     "name": "stderr",
     "output_type": "stream",
     "text": [
      " 35%|███████████████████████▋                                            | 460/1322 [19:45<36:55,  2.57s/it]"
     ]
    },
    {
     "name": "stdout",
     "output_type": "stream",
     "text": [
      "Done.\n",
      "Searching for \"De i comahlee ah\" by Jackie McLean...\n",
      "No results found for: 'De i comahlee ah Jackie McLean'\n",
      "Searching for \"De i comahlee ah\" by Jackie McLean...\n",
      "No results found for: 'De i comahlee ah Jackie McLean'\n",
      "Searching for \"De i comahlee ah\" by Jackie McLean...\n",
      "No results found for: 'De i comahlee ah Jackie McLean'\n",
      "Searching for \"De i comahlee ah\" by Jackie McLean...\n",
      "No results found for: 'De i comahlee ah Jackie McLean'\n",
      "Searching for \"De i comahlee ah\" by Jackie McLean...\n"
     ]
    },
    {
     "name": "stderr",
     "output_type": "stream",
     "text": [
      " 35%|███████████████████████▋                                            | 461/1322 [19:47<33:28,  2.33s/it]"
     ]
    },
    {
     "name": "stdout",
     "output_type": "stream",
     "text": [
      "No results found for: 'De i comahlee ah Jackie McLean'\n",
      "De i comahlee ah Jackie McLean Not present in Genius\n",
      "Searching for \"Destiny\" by Dem 2...\n"
     ]
    },
    {
     "name": "stderr",
     "output_type": "stream",
     "text": [
      " 35%|███████████████████████▊                                            | 462/1322 [19:50<39:19,  2.74s/it]"
     ]
    },
    {
     "name": "stdout",
     "output_type": "stream",
     "text": [
      "Done.\n",
      "Searching for \"Dharmatma - Theme Music 2\" by Kalyanji-Anandji...\n",
      "No results found for: 'Dharmatma - Theme Music 2 Kalyanji-Anandji'\n",
      "Searching for \"Dharmatma - Theme Music 2\" by Kalyanji-Anandji...\n",
      "No results found for: 'Dharmatma - Theme Music 2 Kalyanji-Anandji'\n",
      "Searching for \"Dharmatma - Theme Music 2\" by Kalyanji-Anandji...\n",
      "No results found for: 'Dharmatma - Theme Music 2 Kalyanji-Anandji'\n",
      "Searching for \"Dharmatma - Theme Music 2\" by Kalyanji-Anandji...\n",
      "No results found for: 'Dharmatma - Theme Music 2 Kalyanji-Anandji'\n",
      "Searching for \"Dharmatma - Theme Music 2\" by Kalyanji-Anandji...\n"
     ]
    },
    {
     "name": "stderr",
     "output_type": "stream",
     "text": [
      " 35%|███████████████████████▊                                            | 463/1322 [19:52<35:27,  2.48s/it]"
     ]
    },
    {
     "name": "stdout",
     "output_type": "stream",
     "text": [
      "No results found for: 'Dharmatma - Theme Music 2 Kalyanji-Anandji'\n",
      "Dharmatma - Theme Music 2 Kalyanji-Anandji Not present in Genius\n",
      "Searching for \"Dialogue Of Wind And Lover\" by Paul Parrish...\n"
     ]
    },
    {
     "name": "stderr",
     "output_type": "stream",
     "text": [
      " 35%|███████████████████████▊                                            | 464/1322 [19:55<39:02,  2.73s/it]"
     ]
    },
    {
     "name": "stdout",
     "output_type": "stream",
     "text": [
      "Done.\n",
      "Searching for \"Didunia Yang Lain\" by Ariesta Birawa Group...\n",
      "No results found for: 'Didunia Yang Lain Ariesta Birawa Group'\n",
      "Searching for \"Didunia Yang Lain\" by Ariesta Birawa Group...\n",
      "No results found for: 'Didunia Yang Lain Ariesta Birawa Group'\n",
      "Searching for \"Didunia Yang Lain\" by Ariesta Birawa Group...\n",
      "No results found for: 'Didunia Yang Lain Ariesta Birawa Group'\n",
      "Searching for \"Didunia Yang Lain\" by Ariesta Birawa Group...\n",
      "No results found for: 'Didunia Yang Lain Ariesta Birawa Group'\n",
      "Searching for \"Didunia Yang Lain\" by Ariesta Birawa Group...\n"
     ]
    },
    {
     "name": "stderr",
     "output_type": "stream",
     "text": [
      " 35%|███████████████████████▉                                            | 465/1322 [19:57<35:01,  2.45s/it]"
     ]
    },
    {
     "name": "stdout",
     "output_type": "stream",
     "text": [
      "No results found for: 'Didunia Yang Lain Ariesta Birawa Group'\n",
      "Didunia Yang Lain Ariesta Birawa Group Not present in Genius\n",
      "Searching for \"Dil Lena Khel Hai Dildar Ka / Dialogue & Music : Laila , Majnu , Sheri , Farah (Zamaane Ko Dikhana Hai) - Zamaane Ko Dikhana Hai / Soundtrack Version\" by Various Artists...\n",
      "No results found for: 'Dil Lena Khel Hai Dildar Ka / Dialogue & Music : Laila , Majnu , Sheri , Farah (Zamaane Ko Dikhana Hai) - Zamaane Ko Dikhana Hai / Soundtrack Version Various Artists'\n",
      "Searching for \"Dil Lena Khel Hai Dildar Ka / Dialogue & Music : Laila , Majnu , Sheri , Farah (Zamaane Ko Dikhana Hai) - Zamaane Ko Dikhana Hai / Soundtrack Version\" by Various Artists...\n",
      "No results found for: 'Dil Lena Khel Hai Dildar Ka / Dialogue & Music : Laila , Majnu , Sheri , Farah (Zamaane Ko Dikhana Hai) - Zamaane Ko Dikhana Hai / Soundtrack Version Various Artists'\n",
      "Searching for \"Dil Lena Khel Hai Dildar Ka / Dialogue & Music : Laila , Majnu , Sheri , Farah (Zamaane Ko Dikhana Hai) - Zamaane Ko Dikhana Hai / Soundtrack Version\" by Various Artists...\n",
      "No results found for: 'Dil Lena Khel Hai Dildar Ka / Dialogue & Music : Laila , Majnu , Sheri , Farah (Zamaane Ko Dikhana Hai) - Zamaane Ko Dikhana Hai / Soundtrack Version Various Artists'\n",
      "Searching for \"Dil Lena Khel Hai Dildar Ka / Dialogue & Music : Laila , Majnu , Sheri , Farah (Zamaane Ko Dikhana Hai) - Zamaane Ko Dikhana Hai / Soundtrack Version\" by Various Artists...\n",
      "No results found for: 'Dil Lena Khel Hai Dildar Ka / Dialogue & Music : Laila , Majnu , Sheri , Farah (Zamaane Ko Dikhana Hai) - Zamaane Ko Dikhana Hai / Soundtrack Version Various Artists'\n",
      "Searching for \"Dil Lena Khel Hai Dildar Ka / Dialogue & Music : Laila , Majnu , Sheri , Farah (Zamaane Ko Dikhana Hai) - Zamaane Ko Dikhana Hai / Soundtrack Version\" by Various Artists...\n"
     ]
    },
    {
     "name": "stderr",
     "output_type": "stream",
     "text": [
      " 35%|███████████████████████▉                                            | 466/1322 [19:59<33:01,  2.31s/it]"
     ]
    },
    {
     "name": "stdout",
     "output_type": "stream",
     "text": [
      "No results found for: 'Dil Lena Khel Hai Dildar Ka / Dialogue & Music : Laila , Majnu , Sheri , Farah (Zamaane Ko Dikhana Hai) - Zamaane Ko Dikhana Hai / Soundtrack Version Various Artists'\n",
      "Dil Lena Khel Hai Dildar Ka / Dialogue & Music : Laila , Majnu , Sheri , Farah (Zamaane Ko Dikhana Hai) - Zamaane Ko Dikhana Hai / Soundtrack Version Various Artists Not present in Genius\n",
      "Searching for \"Dina Waliji\" by Le Mystere Jazz de Tombouctou...\n",
      "No results found for: 'Dina Waliji Le Mystere Jazz de Tombouctou'\n",
      "Searching for \"Dina Waliji\" by Le Mystere Jazz de Tombouctou...\n",
      "No results found for: 'Dina Waliji Le Mystere Jazz de Tombouctou'\n",
      "Searching for \"Dina Waliji\" by Le Mystere Jazz de Tombouctou...\n",
      "No results found for: 'Dina Waliji Le Mystere Jazz de Tombouctou'\n",
      "Searching for \"Dina Waliji\" by Le Mystere Jazz de Tombouctou...\n",
      "No results found for: 'Dina Waliji Le Mystere Jazz de Tombouctou'\n",
      "Searching for \"Dina Waliji\" by Le Mystere Jazz de Tombouctou...\n"
     ]
    },
    {
     "name": "stderr",
     "output_type": "stream",
     "text": [
      " 35%|████████████████████████                                            | 467/1322 [20:01<32:36,  2.29s/it]"
     ]
    },
    {
     "name": "stdout",
     "output_type": "stream",
     "text": [
      "No results found for: 'Dina Waliji Le Mystere Jazz de Tombouctou'\n",
      "Dina Waliji Le Mystere Jazz de Tombouctou Not present in Genius\n",
      "Searching for \"Dinamo\" by Nathan Fake...\n",
      "No results found for: 'Dinamo Nathan Fake'\n",
      "Searching for \"Dinamo\" by Nathan Fake...\n",
      "No results found for: 'Dinamo Nathan Fake'\n",
      "Searching for \"Dinamo\" by Nathan Fake...\n",
      "No results found for: 'Dinamo Nathan Fake'\n",
      "Searching for \"Dinamo\" by Nathan Fake...\n",
      "No results found for: 'Dinamo Nathan Fake'\n",
      "Searching for \"Dinamo\" by Nathan Fake...\n"
     ]
    },
    {
     "name": "stderr",
     "output_type": "stream",
     "text": [
      " 35%|████████████████████████                                            | 468/1322 [20:03<30:18,  2.13s/it]"
     ]
    },
    {
     "name": "stdout",
     "output_type": "stream",
     "text": [
      "No results found for: 'Dinamo Nathan Fake'\n",
      "Dinamo Nathan Fake Not present in Genius\n",
      "Searching for \"Disco Computer\" by Trans Volta...\n"
     ]
    },
    {
     "name": "stderr",
     "output_type": "stream",
     "text": [
      " 35%|████████████████████████                                            | 469/1322 [20:08<40:47,  2.87s/it]"
     ]
    },
    {
     "name": "stdout",
     "output_type": "stream",
     "text": [
      "Done.\n",
      "Searching for \"Disco Juice\" by Cloud One...\n"
     ]
    },
    {
     "name": "stderr",
     "output_type": "stream",
     "text": [
      " 36%|████████████████████████▏                                           | 470/1322 [20:11<44:09,  3.11s/it]"
     ]
    },
    {
     "name": "stdout",
     "output_type": "stream",
     "text": [
      "Done.\n",
      "Searching for \"Divina\" by Toro y Moi...\n",
      "Specified song does not contain lyrics. Rejecting.\n",
      "Searching for \"Divina\" by Toro y Moi...\n",
      "Specified song does not contain lyrics. Rejecting.\n",
      "Searching for \"Divina\" by Toro y Moi...\n",
      "Specified song does not contain lyrics. Rejecting.\n",
      "Searching for \"Divina\" by Toro y Moi...\n",
      "Specified song does not contain lyrics. Rejecting.\n",
      "Searching for \"Divina\" by Toro y Moi...\n"
     ]
    },
    {
     "name": "stderr",
     "output_type": "stream",
     "text": [
      " 36%|████████████████████████▏                                           | 471/1322 [20:14<40:52,  2.88s/it]"
     ]
    },
    {
     "name": "stdout",
     "output_type": "stream",
     "text": [
      "Specified song does not contain lyrics. Rejecting.\n",
      "Divina Toro y Moi Not present in Genius\n",
      "Searching for \"Do It Baby\" by Susan Cadogan...\n"
     ]
    },
    {
     "name": "stderr",
     "output_type": "stream",
     "text": [
      " 36%|████████████████████████▎                                           | 472/1322 [20:16<37:57,  2.68s/it]"
     ]
    },
    {
     "name": "stdout",
     "output_type": "stream",
     "text": [
      "Done.\n",
      "Searching for \"Don't Dis The Beat\" by Gherkin Jerks...\n",
      "No results found for: 'Don't Dis The Beat Gherkin Jerks'\n",
      "Searching for \"Don't Dis The Beat\" by Gherkin Jerks...\n",
      "No results found for: 'Don't Dis The Beat Gherkin Jerks'\n",
      "Searching for \"Don't Dis The Beat\" by Gherkin Jerks...\n",
      "No results found for: 'Don't Dis The Beat Gherkin Jerks'\n",
      "Searching for \"Don't Dis The Beat\" by Gherkin Jerks...\n",
      "No results found for: 'Don't Dis The Beat Gherkin Jerks'\n",
      "Searching for \"Don't Dis The Beat\" by Gherkin Jerks...\n"
     ]
    },
    {
     "name": "stderr",
     "output_type": "stream",
     "text": [
      " 36%|████████████████████████▎                                           | 473/1322 [20:18<35:04,  2.48s/it]"
     ]
    },
    {
     "name": "stdout",
     "output_type": "stream",
     "text": [
      "No results found for: 'Don't Dis The Beat Gherkin Jerks'\n",
      "Don't Dis The Beat Gherkin Jerks Not present in Genius\n",
      "Searching for \"Don't Let My Rainbow Pass Me By\" by Cloud One...\n"
     ]
    },
    {
     "name": "stderr",
     "output_type": "stream",
     "text": [
      " 36%|████████████████████████▍                                           | 474/1322 [20:20<33:58,  2.40s/it]"
     ]
    },
    {
     "name": "stdout",
     "output_type": "stream",
     "text": [
      "Done.\n",
      "Searching for \"Ye Ye\" by Daphni...\n"
     ]
    },
    {
     "name": "stderr",
     "output_type": "stream",
     "text": [
      " 36%|████████████████████████▍                                           | 475/1322 [20:23<33:38,  2.38s/it]"
     ]
    },
    {
     "name": "stdout",
     "output_type": "stream",
     "text": [
      "Done.\n",
      "Searching for \"Don't Sweat The Technique\" by Eric B. & Rakim...\n"
     ]
    },
    {
     "name": "stderr",
     "output_type": "stream",
     "text": [
      " 36%|████████████████████████▍                                           | 476/1322 [20:26<39:15,  2.78s/it]"
     ]
    },
    {
     "name": "stdout",
     "output_type": "stream",
     "text": [
      "Done.\n",
      "Searching for \"Don't Waste My Time\" by Jerry Washington...\n"
     ]
    },
    {
     "name": "stderr",
     "output_type": "stream",
     "text": [
      " 36%|████████████████████████▌                                           | 477/1322 [20:29<38:26,  2.73s/it]"
     ]
    },
    {
     "name": "stdout",
     "output_type": "stream",
     "text": [
      "Done.\n",
      "Searching for \"Doomsday\" by MF DOOM...\n"
     ]
    },
    {
     "name": "stderr",
     "output_type": "stream",
     "text": [
      " 36%|████████████████████████▌                                           | 478/1322 [20:32<41:47,  2.97s/it]"
     ]
    },
    {
     "name": "stdout",
     "output_type": "stream",
     "text": [
      "Done.\n",
      "Searching for \"Down And Out\" by Cam’ron...\n"
     ]
    },
    {
     "name": "stderr",
     "output_type": "stream",
     "text": [
      " 36%|████████████████████████▋                                           | 479/1322 [20:35<38:15,  2.72s/it]"
     ]
    },
    {
     "name": "stdout",
     "output_type": "stream",
     "text": [
      "Done.\n",
      "Searching for \"Downfall\" by Armando...\n"
     ]
    },
    {
     "name": "stderr",
     "output_type": "stream",
     "text": [
      " 36%|████████████████████████▋                                           | 480/1322 [20:38<40:02,  2.85s/it]"
     ]
    },
    {
     "name": "stdout",
     "output_type": "stream",
     "text": [
      "Done.\n",
      "Searching for \"Draft Morning\" by The Byrds...\n"
     ]
    },
    {
     "name": "stderr",
     "output_type": "stream",
     "text": [
      " 36%|████████████████████████▋                                           | 481/1322 [20:40<36:34,  2.61s/it]"
     ]
    },
    {
     "name": "stdout",
     "output_type": "stream",
     "text": [
      "Done.\n",
      "Searching for \"Dreamworld\" by The End...\n"
     ]
    },
    {
     "name": "stderr",
     "output_type": "stream",
     "text": [
      " 36%|████████████████████████▊                                           | 482/1322 [20:42<34:37,  2.47s/it]"
     ]
    },
    {
     "name": "stdout",
     "output_type": "stream",
     "text": [
      "Done.\n",
      "Searching for \"Dum Maro Dum\" by Asha Bhosle...\n",
      "No results found for: 'Dum Maro Dum Asha Bhosle'\n",
      "Searching for \"Dum Maro Dum\" by Asha Bhosle...\n",
      "No results found for: 'Dum Maro Dum Asha Bhosle'\n",
      "Searching for \"Dum Maro Dum\" by Asha Bhosle...\n",
      "No results found for: 'Dum Maro Dum Asha Bhosle'\n",
      "Searching for \"Dum Maro Dum\" by Asha Bhosle...\n",
      "No results found for: 'Dum Maro Dum Asha Bhosle'\n",
      "Searching for \"Dum Maro Dum\" by Asha Bhosle...\n"
     ]
    },
    {
     "name": "stderr",
     "output_type": "stream",
     "text": [
      " 37%|████████████████████████▊                                           | 483/1322 [20:44<31:22,  2.24s/it]"
     ]
    },
    {
     "name": "stdout",
     "output_type": "stream",
     "text": [
      "No results found for: 'Dum Maro Dum Asha Bhosle'\n",
      "Dum Maro Dum Asha Bhosle Not present in Genius\n",
      "Searching for \"DWYCK\" by Gang Starr...\n"
     ]
    },
    {
     "name": "stderr",
     "output_type": "stream",
     "text": [
      " 37%|████████████████████████▉                                           | 484/1322 [20:47<35:20,  2.53s/it]"
     ]
    },
    {
     "name": "stdout",
     "output_type": "stream",
     "text": [
      "Done.\n",
      "Searching for \"E.V.A.\" by Jean-Jacques Perrey...\n"
     ]
    },
    {
     "name": "stderr",
     "output_type": "stream",
     "text": [
      " 37%|████████████████████████▉                                           | 485/1322 [20:50<39:44,  2.85s/it]"
     ]
    },
    {
     "name": "stdout",
     "output_type": "stream",
     "text": [
      "Done.\n",
      "Searching for \"Early Party\" by Madlib...\n"
     ]
    },
    {
     "name": "stderr",
     "output_type": "stream",
     "text": [
      " 37%|████████████████████████▉                                           | 486/1322 [20:53<40:10,  2.88s/it]"
     ]
    },
    {
     "name": "stdout",
     "output_type": "stream",
     "text": [
      "Done.\n",
      "Searching for \"Earth\" by Joe Henderson...\n"
     ]
    },
    {
     "name": "stderr",
     "output_type": "stream",
     "text": [
      " 37%|█████████████████████████                                           | 487/1322 [20:56<38:14,  2.75s/it]"
     ]
    },
    {
     "name": "stdout",
     "output_type": "stream",
     "text": [
      "Done.\n",
      "Searching for \"Ease Yourself And Glide\" by Parsley Sound...\n"
     ]
    },
    {
     "name": "stderr",
     "output_type": "stream",
     "text": [
      " 37%|█████████████████████████                                           | 488/1322 [20:58<35:12,  2.53s/it]"
     ]
    },
    {
     "name": "stdout",
     "output_type": "stream",
     "text": [
      "Done.\n",
      "Searching for \"Easy Ride\" by Relatively Clean Rivers...\n"
     ]
    },
    {
     "name": "stderr",
     "output_type": "stream",
     "text": [
      " 37%|█████████████████████████▏                                          | 489/1322 [21:03<46:17,  3.33s/it]"
     ]
    },
    {
     "name": "stdout",
     "output_type": "stream",
     "text": [
      "Done.\n",
      "Searching for \"Eclipse of the Moon\" by Tony Caro and John...\n"
     ]
    },
    {
     "name": "stderr",
     "output_type": "stream",
     "text": [
      " 37%|█████████████████████████▏                                          | 490/1322 [21:06<44:36,  3.22s/it]"
     ]
    },
    {
     "name": "stdout",
     "output_type": "stream",
     "text": [
      "Done.\n",
      "Searching for \"Eight Miles High - 2006 Remaster\" by Rufus Harley...\n"
     ]
    },
    {
     "name": "stderr",
     "output_type": "stream",
     "text": [
      " 37%|█████████████████████████▎                                          | 491/1322 [21:08<41:05,  2.97s/it]"
     ]
    },
    {
     "name": "stdout",
     "output_type": "stream",
     "text": [
      "Done.\n",
      "Searching for \"Ekim (Special Edition)\" by Michal Urbaniak...\n",
      "No results found for: 'Ekim (Special Edition) Michal Urbaniak'\n",
      "Searching for \"Ekim (Special Edition)\" by Michal Urbaniak...\n",
      "No results found for: 'Ekim (Special Edition) Michal Urbaniak'\n",
      "Searching for \"Ekim (Special Edition)\" by Michal Urbaniak...\n",
      "No results found for: 'Ekim (Special Edition) Michal Urbaniak'\n",
      "Searching for \"Ekim (Special Edition)\" by Michal Urbaniak...\n",
      "No results found for: 'Ekim (Special Edition) Michal Urbaniak'\n",
      "Searching for \"Ekim (Special Edition)\" by Michal Urbaniak...\n"
     ]
    },
    {
     "name": "stderr",
     "output_type": "stream",
     "text": [
      " 37%|█████████████████████████▎                                          | 492/1322 [21:10<36:01,  2.60s/it]"
     ]
    },
    {
     "name": "stdout",
     "output_type": "stream",
     "text": [
      "No results found for: 'Ekim (Special Edition) Michal Urbaniak'\n",
      "Ekim (Special Edition) Michal Urbaniak Not present in Genius\n",
      "Searching for \"Electric Relaxation\" by A Tribe Called Quest...\n"
     ]
    },
    {
     "name": "stderr",
     "output_type": "stream",
     "text": [
      " 37%|█████████████████████████▎                                          | 493/1322 [21:16<50:45,  3.67s/it]"
     ]
    },
    {
     "name": "stdout",
     "output_type": "stream",
     "text": [
      "Done.\n",
      "Searching for \"Electricity\" by Captain Beefheart & His Magic Band...\n"
     ]
    },
    {
     "name": "stderr",
     "output_type": "stream",
     "text": [
      " 37%|█████████████████████████▍                                          | 494/1322 [21:20<48:54,  3.54s/it]"
     ]
    },
    {
     "name": "stdout",
     "output_type": "stream",
     "text": [
      "Done.\n",
      "Searching for \"Elle Et Moi\" by Max Berlin...\n"
     ]
    },
    {
     "name": "stderr",
     "output_type": "stream",
     "text": [
      " 37%|█████████████████████████▍                                          | 495/1322 [21:21<41:04,  2.98s/it]"
     ]
    },
    {
     "name": "stdout",
     "output_type": "stream",
     "text": [
      "Done.\n",
      "Searching for \"Emnete\" by Mulatu Astatke...\n",
      "No results found for: 'Emnete Mulatu Astatke'\n",
      "Searching for \"Emnete\" by Mulatu Astatke...\n",
      "No results found for: 'Emnete Mulatu Astatke'\n",
      "Searching for \"Emnete\" by Mulatu Astatke...\n",
      "No results found for: 'Emnete Mulatu Astatke'\n",
      "Searching for \"Emnete\" by Mulatu Astatke...\n",
      "No results found for: 'Emnete Mulatu Astatke'\n",
      "Searching for \"Emnete\" by Mulatu Astatke...\n"
     ]
    },
    {
     "name": "stderr",
     "output_type": "stream",
     "text": [
      " 38%|█████████████████████████▌                                          | 496/1322 [21:24<38:17,  2.78s/it]"
     ]
    },
    {
     "name": "stdout",
     "output_type": "stream",
     "text": [
      "No results found for: 'Emnete Mulatu Astatke'\n",
      "Emnete Mulatu Astatke Not present in Genius\n",
      "Searching for \"Energy Control Center\" by The Lightmen Plus One...\n"
     ]
    },
    {
     "name": "stderr",
     "output_type": "stream",
     "text": [
      " 38%|█████████████████████████▌                                          | 497/1322 [21:26<37:52,  2.75s/it]"
     ]
    },
    {
     "name": "stdout",
     "output_type": "stream",
     "text": [
      "Done.\n",
      "Searching for \"Entropical Paradise I\" by Douglas Leedy...\n",
      "No results found for: 'Entropical Paradise I Douglas Leedy'\n",
      "Searching for \"Entropical Paradise I\" by Douglas Leedy...\n",
      "No results found for: 'Entropical Paradise I Douglas Leedy'\n",
      "Searching for \"Entropical Paradise I\" by Douglas Leedy...\n",
      "No results found for: 'Entropical Paradise I Douglas Leedy'\n",
      "Searching for \"Entropical Paradise I\" by Douglas Leedy...\n",
      "No results found for: 'Entropical Paradise I Douglas Leedy'\n",
      "Searching for \"Entropical Paradise I\" by Douglas Leedy...\n"
     ]
    },
    {
     "name": "stderr",
     "output_type": "stream",
     "text": [
      " 38%|█████████████████████████▌                                          | 498/1322 [21:29<36:57,  2.69s/it]"
     ]
    },
    {
     "name": "stdout",
     "output_type": "stream",
     "text": [
      "No results found for: 'Entropical Paradise I Douglas Leedy'\n",
      "Entropical Paradise I Douglas Leedy Not present in Genius\n",
      "Searching for \"Essence Of Sapphire\" by Dorothy Ashby...\n",
      "No results found for: 'Essence Of Sapphire Dorothy Ashby'\n",
      "Searching for \"Essence Of Sapphire\" by Dorothy Ashby...\n",
      "No results found for: 'Essence Of Sapphire Dorothy Ashby'\n",
      "Searching for \"Essence Of Sapphire\" by Dorothy Ashby...\n",
      "No results found for: 'Essence Of Sapphire Dorothy Ashby'\n",
      "Searching for \"Essence Of Sapphire\" by Dorothy Ashby...\n",
      "No results found for: 'Essence Of Sapphire Dorothy Ashby'\n",
      "Searching for \"Essence Of Sapphire\" by Dorothy Ashby...\n"
     ]
    },
    {
     "name": "stderr",
     "output_type": "stream",
     "text": [
      " 38%|█████████████████████████▋                                          | 499/1322 [21:31<35:28,  2.59s/it]"
     ]
    },
    {
     "name": "stdout",
     "output_type": "stream",
     "text": [
      "No results found for: 'Essence Of Sapphire Dorothy Ashby'\n",
      "Essence Of Sapphire Dorothy Ashby Not present in Genius\n",
      "Searching for \"Estarabim\" by Erkin Koray...\n"
     ]
    },
    {
     "name": "stderr",
     "output_type": "stream",
     "text": [
      " 38%|█████████████████████████▋                                          | 500/1322 [21:34<35:08,  2.57s/it]"
     ]
    },
    {
     "name": "stdout",
     "output_type": "stream",
     "text": [
      "Done.\n",
      "Searching for \"Skunks\" by Caribou...\n",
      "Specified song does not contain lyrics. Rejecting.\n",
      "Searching for \"Skunks\" by Caribou...\n",
      "Specified song does not contain lyrics. Rejecting.\n",
      "Searching for \"Skunks\" by Caribou...\n",
      "Specified song does not contain lyrics. Rejecting.\n",
      "Searching for \"Skunks\" by Caribou...\n",
      "Specified song does not contain lyrics. Rejecting.\n",
      "Searching for \"Skunks\" by Caribou...\n"
     ]
    },
    {
     "name": "stderr",
     "output_type": "stream",
     "text": [
      " 38%|█████████████████████████▊                                          | 501/1322 [21:36<33:34,  2.45s/it]"
     ]
    },
    {
     "name": "stdout",
     "output_type": "stream",
     "text": [
      "Specified song does not contain lyrics. Rejecting.\n",
      "Skunks Caribou Not present in Genius\n",
      "Searching for \"Estrelar\" by Marcos Valle...\n"
     ]
    },
    {
     "name": "stderr",
     "output_type": "stream",
     "text": [
      " 38%|█████████████████████████▊                                          | 502/1322 [21:39<34:34,  2.53s/it]"
     ]
    },
    {
     "name": "stdout",
     "output_type": "stream",
     "text": [
      "Done.\n",
      "Searching for \"Everybody Loves the Sunshine\" by RAMP...\n"
     ]
    },
    {
     "name": "stderr",
     "output_type": "stream",
     "text": [
      " 38%|█████████████████████████▊                                          | 503/1322 [21:42<37:17,  2.73s/it]"
     ]
    },
    {
     "name": "stdout",
     "output_type": "stream",
     "text": [
      "Done.\n",
      "Searching for \"Everybody Party (Get Down) - Re-edit\" by The Firebolts...\n",
      "No results found for: 'Everybody Party (Get Down) - Re-edit The Firebolts'\n",
      "Searching for \"Everybody Party (Get Down) - Re-edit\" by The Firebolts...\n",
      "No results found for: 'Everybody Party (Get Down) - Re-edit The Firebolts'\n",
      "Searching for \"Everybody Party (Get Down) - Re-edit\" by The Firebolts...\n",
      "No results found for: 'Everybody Party (Get Down) - Re-edit The Firebolts'\n",
      "Searching for \"Everybody Party (Get Down) - Re-edit\" by The Firebolts...\n",
      "No results found for: 'Everybody Party (Get Down) - Re-edit The Firebolts'\n",
      "Searching for \"Everybody Party (Get Down) - Re-edit\" by The Firebolts...\n"
     ]
    },
    {
     "name": "stderr",
     "output_type": "stream",
     "text": [
      " 38%|█████████████████████████▉                                          | 504/1322 [21:44<33:31,  2.46s/it]"
     ]
    },
    {
     "name": "stdout",
     "output_type": "stream",
     "text": [
      "No results found for: 'Everybody Party (Get Down) - Re-edit The Firebolts'\n",
      "Everybody Party (Get Down) - Re-edit The Firebolts Not present in Genius\n",
      "Searching for \"Everyday - Master At Work Everyday Dub\" by Incognito...\n"
     ]
    },
    {
     "name": "stderr",
     "output_type": "stream",
     "text": [
      " 38%|█████████████████████████▉                                          | 505/1322 [21:46<31:26,  2.31s/it]"
     ]
    },
    {
     "name": "stdout",
     "output_type": "stream",
     "text": [
      "Done.\n",
      "Searching for \"Everyday People\" by Sly & The Family Stone...\n"
     ]
    },
    {
     "name": "stderr",
     "output_type": "stream",
     "text": [
      " 38%|██████████████████████████                                          | 506/1322 [21:50<42:05,  3.10s/it]"
     ]
    },
    {
     "name": "stdout",
     "output_type": "stream",
     "text": [
      "Done.\n",
      "Searching for \"Excerpts from Autumn\" by Jeff Phelps...\n",
      "No results found for: 'Excerpts from Autumn Jeff Phelps'\n",
      "Searching for \"Excerpts from Autumn\" by Jeff Phelps...\n",
      "No results found for: 'Excerpts from Autumn Jeff Phelps'\n",
      "Searching for \"Excerpts from Autumn\" by Jeff Phelps...\n",
      "No results found for: 'Excerpts from Autumn Jeff Phelps'\n",
      "Searching for \"Excerpts from Autumn\" by Jeff Phelps...\n",
      "No results found for: 'Excerpts from Autumn Jeff Phelps'\n",
      "Searching for \"Excerpts from Autumn\" by Jeff Phelps...\n"
     ]
    },
    {
     "name": "stderr",
     "output_type": "stream",
     "text": [
      " 38%|██████████████████████████                                          | 507/1322 [21:52<36:31,  2.69s/it]"
     ]
    },
    {
     "name": "stdout",
     "output_type": "stream",
     "text": [
      "No results found for: 'Excerpts from Autumn Jeff Phelps'\n",
      "Excerpts from Autumn Jeff Phelps Not present in Genius\n",
      "Searching for \"Exchange Part 1\" by Rashied Ali...\n"
     ]
    },
    {
     "name": "stderr",
     "output_type": "stream",
     "text": [
      " 38%|██████████████████████████▏                                         | 508/1322 [21:56<39:02,  2.88s/it]"
     ]
    },
    {
     "name": "stdout",
     "output_type": "stream",
     "text": [
      "Done.\n",
      "Searching for \"F**k The Police (Street)\" by J Dilla...\n"
     ]
    },
    {
     "name": "stderr",
     "output_type": "stream",
     "text": [
      " 39%|██████████████████████████▏                                         | 509/1322 [21:58<36:39,  2.71s/it]"
     ]
    },
    {
     "name": "stdout",
     "output_type": "stream",
     "text": [
      "Done.\n",
      "Searching for \"Fall in Love\" by Slum Village...\n"
     ]
    },
    {
     "name": "stderr",
     "output_type": "stream",
     "text": [
      " 39%|██████████████████████████▏                                         | 510/1322 [22:03<45:12,  3.34s/it]"
     ]
    },
    {
     "name": "stdout",
     "output_type": "stream",
     "text": [
      "Done.\n",
      "Searching for \"Falling In Love With A Dream\" by Magnetic Touch...\n",
      "Specified song does not contain lyrics. Rejecting.\n",
      "Searching for \"Falling In Love With A Dream\" by Magnetic Touch...\n",
      "Specified song does not contain lyrics. Rejecting.\n",
      "Searching for \"Falling In Love With A Dream\" by Magnetic Touch...\n",
      "Specified song does not contain lyrics. Rejecting.\n",
      "Searching for \"Falling In Love With A Dream\" by Magnetic Touch...\n",
      "Specified song does not contain lyrics. Rejecting.\n",
      "Searching for \"Falling In Love With A Dream\" by Magnetic Touch...\n"
     ]
    },
    {
     "name": "stderr",
     "output_type": "stream",
     "text": [
      " 39%|██████████████████████████▎                                         | 511/1322 [22:05<41:43,  3.09s/it]"
     ]
    },
    {
     "name": "stdout",
     "output_type": "stream",
     "text": [
      "Specified song does not contain lyrics. Rejecting.\n",
      "Falling In Love With A Dream Magnetic Touch Not present in Genius\n",
      "Searching for \"Falling Up (Carl Craig remix)\" by Theo Parrish...\n"
     ]
    },
    {
     "name": "stderr",
     "output_type": "stream",
     "text": [
      " 39%|██████████████████████████▎                                         | 512/1322 [22:11<53:37,  3.97s/it]"
     ]
    },
    {
     "name": "stdout",
     "output_type": "stream",
     "text": [
      "Done.\n",
      "Searching for \"Family Affair\" by Sly & The Family Stone...\n"
     ]
    },
    {
     "name": "stderr",
     "output_type": "stream",
     "text": [
      " 39%|█████████████████████████▌                                        | 513/1322 [22:17<1:01:00,  4.52s/it]"
     ]
    },
    {
     "name": "stdout",
     "output_type": "stream",
     "text": [
      "Done.\n",
      "Searching for \"Fauve Moderne\" by 4D...\n"
     ]
    },
    {
     "name": "stderr",
     "output_type": "stream",
     "text": [
      " 39%|██████████████████████████▍                                         | 514/1322 [22:20<53:12,  3.95s/it]"
     ]
    },
    {
     "name": "stdout",
     "output_type": "stream",
     "text": [
      "Done.\n",
      "Searching for \"Feel Flows - Remastered 2009\" by The Beach Boys...\n"
     ]
    },
    {
     "name": "stderr",
     "output_type": "stream",
     "text": [
      " 39%|██████████████████████████▍                                         | 515/1322 [22:23<50:46,  3.78s/it]"
     ]
    },
    {
     "name": "stdout",
     "output_type": "stream",
     "text": [
      "Done.\n",
      "Searching for \"Fiddler a Dram (Moog Experiment)\" by The Byrds...\n"
     ]
    },
    {
     "name": "stderr",
     "output_type": "stream",
     "text": [
      " 39%|██████████████████████████▌                                         | 516/1322 [22:26<48:44,  3.63s/it]"
     ]
    },
    {
     "name": "stdout",
     "output_type": "stream",
     "text": [
      "Done.\n",
      "Searching for \"Figaro\" by Madvillain...\n"
     ]
    },
    {
     "name": "stderr",
     "output_type": "stream",
     "text": [
      " 39%|██████████████████████████▌                                         | 517/1322 [22:30<50:18,  3.75s/it]"
     ]
    },
    {
     "name": "stdout",
     "output_type": "stream",
     "text": [
      "Done.\n",
      "Searching for \"Film 2\" by Grauzone...\n"
     ]
    },
    {
     "name": "stderr",
     "output_type": "stream",
     "text": [
      " 39%|██████████████████████████▋                                         | 518/1322 [22:34<50:12,  3.75s/it]"
     ]
    },
    {
     "name": "stdout",
     "output_type": "stream",
     "text": [
      "Done.\n",
      "Searching for \"Fisherman\" by The Congos...\n"
     ]
    },
    {
     "name": "stderr",
     "output_type": "stream",
     "text": [
      " 39%|██████████████████████████▋                                         | 519/1322 [22:37<47:38,  3.56s/it]"
     ]
    },
    {
     "name": "stdout",
     "output_type": "stream",
     "text": [
      "Done.\n",
      "Searching for \"Flag Dub\" by King Tubby...\n"
     ]
    },
    {
     "name": "stderr",
     "output_type": "stream",
     "text": [
      " 39%|██████████████████████████▋                                         | 520/1322 [22:40<44:54,  3.36s/it]"
     ]
    },
    {
     "name": "stdout",
     "output_type": "stream",
     "text": [
      "Done.\n",
      "Searching for \"Flammende Herzen\" by Michael Rother...\n",
      "Specified song does not contain lyrics. Rejecting.\n",
      "Searching for \"Flammende Herzen\" by Michael Rother...\n",
      "Specified song does not contain lyrics. Rejecting.\n",
      "Searching for \"Flammende Herzen\" by Michael Rother...\n",
      "Specified song does not contain lyrics. Rejecting.\n",
      "Searching for \"Flammende Herzen\" by Michael Rother...\n",
      "Specified song does not contain lyrics. Rejecting.\n",
      "Searching for \"Flammende Herzen\" by Michael Rother...\n"
     ]
    },
    {
     "name": "stderr",
     "output_type": "stream",
     "text": [
      " 39%|██████████████████████████▊                                         | 521/1322 [22:42<40:13,  3.01s/it]"
     ]
    },
    {
     "name": "stdout",
     "output_type": "stream",
     "text": [
      "Specified song does not contain lyrics. Rejecting.\n",
      "Flammende Herzen Michael Rother Not present in Genius\n",
      "Searching for \"Flava in Ya Ear\" by Craig Mack...\n"
     ]
    },
    {
     "name": "stderr",
     "output_type": "stream",
     "text": [
      " 39%|██████████████████████████▊                                         | 522/1322 [22:49<53:51,  4.04s/it]"
     ]
    },
    {
     "name": "stdout",
     "output_type": "stream",
     "text": [
      "Done.\n",
      "Searching for \"Flim\" by Aphex Twin...\n",
      "Specified song does not contain lyrics. Rejecting.\n",
      "Searching for \"Flim\" by Aphex Twin...\n",
      "Specified song does not contain lyrics. Rejecting.\n",
      "Searching for \"Flim\" by Aphex Twin...\n",
      "Specified song does not contain lyrics. Rejecting.\n",
      "Searching for \"Flim\" by Aphex Twin...\n",
      "Specified song does not contain lyrics. Rejecting.\n",
      "Searching for \"Flim\" by Aphex Twin...\n"
     ]
    },
    {
     "name": "stderr",
     "output_type": "stream",
     "text": [
      " 40%|██████████████████████████▉                                         | 523/1322 [22:50<44:23,  3.33s/it]"
     ]
    },
    {
     "name": "stdout",
     "output_type": "stream",
     "text": [
      "Specified song does not contain lyrics. Rejecting.\n",
      "Flim Aphex Twin Not present in Genius\n",
      "Searching for \"Floe\" by Philip Glass...\n"
     ]
    },
    {
     "name": "stderr",
     "output_type": "stream",
     "text": [
      " 40%|██████████████████████████▉                                         | 524/1322 [22:54<43:52,  3.30s/it]"
     ]
    },
    {
     "name": "stdout",
     "output_type": "stream",
     "text": [
      "Done.\n",
      "Searching for \"Fly Like An Eagle\" by Steve Miller Band...\n"
     ]
    },
    {
     "name": "stderr",
     "output_type": "stream",
     "text": [
      " 40%|███████████████████████████                                         | 525/1322 [22:57<42:31,  3.20s/it]"
     ]
    },
    {
     "name": "stdout",
     "output_type": "stream",
     "text": [
      "Done.\n",
      "Searching for \"Flying Turns\" by Crash Course In Science...\n"
     ]
    },
    {
     "name": "stderr",
     "output_type": "stream",
     "text": [
      " 40%|███████████████████████████                                         | 526/1322 [23:00<43:34,  3.29s/it]"
     ]
    },
    {
     "name": "stdout",
     "output_type": "stream",
     "text": [
      "Done.\n",
      "Searching for \"Follow Me Ghetto (Acid)\" by Parris Mitchell...\n"
     ]
    },
    {
     "name": "stderr",
     "output_type": "stream",
     "text": [
      " 40%|███████████████████████████                                         | 527/1322 [23:03<40:31,  3.06s/it]"
     ]
    },
    {
     "name": "stdout",
     "output_type": "stream",
     "text": [
      "Done.\n",
      "Searching for \"For Love (I Come Your Friend)\" by George Duke...\n"
     ]
    },
    {
     "name": "stderr",
     "output_type": "stream",
     "text": [
      " 40%|███████████████████████████▏                                        | 528/1322 [23:05<39:38,  3.00s/it]"
     ]
    },
    {
     "name": "stdout",
     "output_type": "stream",
     "text": [
      "Done.\n",
      "Searching for \"For You\" by Barbara & Ernie...\n"
     ]
    },
    {
     "name": "stderr",
     "output_type": "stream",
     "text": [
      " 40%|███████████████████████████▏                                        | 529/1322 [23:08<37:04,  2.80s/it]"
     ]
    },
    {
     "name": "stdout",
     "output_type": "stream",
     "text": [
      "Done.\n",
      "Searching for \"Forest Loop\" by Koushik...\n",
      "No results found for: 'Forest Loop Koushik'\n",
      "Searching for \"Forest Loop\" by Koushik...\n",
      "No results found for: 'Forest Loop Koushik'\n",
      "Searching for \"Forest Loop\" by Koushik...\n",
      "No results found for: 'Forest Loop Koushik'\n",
      "Searching for \"Forest Loop\" by Koushik...\n",
      "No results found for: 'Forest Loop Koushik'\n",
      "Searching for \"Forest Loop\" by Koushik...\n"
     ]
    },
    {
     "name": "stderr",
     "output_type": "stream",
     "text": [
      " 40%|███████████████████████████▎                                        | 530/1322 [23:10<32:45,  2.48s/it]"
     ]
    },
    {
     "name": "stdout",
     "output_type": "stream",
     "text": [
      "No results found for: 'Forest Loop Koushik'\n",
      "Forest Loop Koushik Not present in Genius\n",
      "Searching for \"Poly\" by Daphni...\n"
     ]
    },
    {
     "name": "stderr",
     "output_type": "stream",
     "text": [
      " 40%|███████████████████████████▎                                        | 531/1322 [23:13<35:40,  2.71s/it]"
     ]
    },
    {
     "name": "stdout",
     "output_type": "stream",
     "text": [
      "Done.\n",
      "Searching for \"Forever Monna\" by Chez Damier & Stacey Pullen...\n",
      "No results found for: 'Forever Monna Chez Damier & Stacey Pullen'\n",
      "Searching for \"Forever Monna\" by Chez Damier & Stacey Pullen...\n",
      "No results found for: 'Forever Monna Chez Damier & Stacey Pullen'\n",
      "Searching for \"Forever Monna\" by Chez Damier & Stacey Pullen...\n",
      "No results found for: 'Forever Monna Chez Damier & Stacey Pullen'\n",
      "Searching for \"Forever Monna\" by Chez Damier & Stacey Pullen...\n",
      "No results found for: 'Forever Monna Chez Damier & Stacey Pullen'\n",
      "Searching for \"Forever Monna\" by Chez Damier & Stacey Pullen...\n"
     ]
    },
    {
     "name": "stderr",
     "output_type": "stream",
     "text": [
      " 40%|███████████████████████████▎                                        | 532/1322 [23:14<31:49,  2.42s/it]"
     ]
    },
    {
     "name": "stdout",
     "output_type": "stream",
     "text": [
      "No results found for: 'Forever Monna Chez Damier & Stacey Pullen'\n",
      "Forever Monna Chez Damier & Stacey Pullen Not present in Genius\n",
      "Searching for \"French Boy\" by Garçons...\n"
     ]
    },
    {
     "name": "stderr",
     "output_type": "stream",
     "text": [
      " 40%|███████████████████████████▍                                        | 533/1322 [23:16<28:18,  2.15s/it]"
     ]
    },
    {
     "name": "stdout",
     "output_type": "stream",
     "text": [
      "Done.\n",
      "Searching for \"From Tunis To India in Fullmoon (On Testosterone)\" by Pärson Sound...\n",
      "No results found for: 'From Tunis To India in Fullmoon (On Testosterone) Pärson Sound'\n",
      "Searching for \"From Tunis To India in Fullmoon (On Testosterone)\" by Pärson Sound...\n",
      "No results found for: 'From Tunis To India in Fullmoon (On Testosterone) Pärson Sound'\n",
      "Searching for \"From Tunis To India in Fullmoon (On Testosterone)\" by Pärson Sound...\n",
      "No results found for: 'From Tunis To India in Fullmoon (On Testosterone) Pärson Sound'\n",
      "Searching for \"From Tunis To India in Fullmoon (On Testosterone)\" by Pärson Sound...\n",
      "No results found for: 'From Tunis To India in Fullmoon (On Testosterone) Pärson Sound'\n",
      "Searching for \"From Tunis To India in Fullmoon (On Testosterone)\" by Pärson Sound...\n"
     ]
    },
    {
     "name": "stderr",
     "output_type": "stream",
     "text": [
      " 40%|███████████████████████████▍                                        | 534/1322 [23:18<27:49,  2.12s/it]"
     ]
    },
    {
     "name": "stdout",
     "output_type": "stream",
     "text": [
      "No results found for: 'From Tunis To India in Fullmoon (On Testosterone) Pärson Sound'\n",
      "From Tunis To India in Fullmoon (On Testosterone) Pärson Sound Not present in Genius\n",
      "Searching for \"Fugue in D Minor\" by Egg...\n",
      "Searching for \"Fugue in D Minor\" by Egg...\n",
      "Specified song does not contain lyrics. Rejecting.\n",
      "Searching for \"Fugue in D Minor\" by Egg...\n",
      "Specified song does not contain lyrics. Rejecting.\n",
      "Searching for \"Fugue in D Minor\" by Egg...\n",
      "Specified song does not contain lyrics. Rejecting.\n",
      "Searching for \"Fugue in D Minor\" by Egg...\n"
     ]
    },
    {
     "name": "stderr",
     "output_type": "stream",
     "text": [
      " 40%|███████████████████████████▌                                        | 535/1322 [23:25<45:26,  3.46s/it]"
     ]
    },
    {
     "name": "stdout",
     "output_type": "stream",
     "text": [
      "Specified song does not contain lyrics. Rejecting.\n",
      "Fugue in D Minor Egg Not present in Genius\n",
      "Searching for \"Funk By The Pound\" by George Smallwood...\n"
     ]
    },
    {
     "name": "stderr",
     "output_type": "stream",
     "text": [
      " 41%|███████████████████████████▌                                        | 536/1322 [23:28<44:29,  3.40s/it]"
     ]
    },
    {
     "name": "stdout",
     "output_type": "stream",
     "text": [
      "Done.\n",
      "Searching for \"Funkier Than a Mosquito's Tweeter\" by Nina Simone...\n"
     ]
    },
    {
     "name": "stderr",
     "output_type": "stream",
     "text": [
      " 41%|███████████████████████████▌                                        | 537/1322 [23:30<39:57,  3.05s/it]"
     ]
    },
    {
     "name": "stdout",
     "output_type": "stream",
     "text": [
      "Done.\n",
      "Searching for \"Funky Thing\" by Sons of Darkness...\n"
     ]
    },
    {
     "name": "stderr",
     "output_type": "stream",
     "text": [
      " 41%|███████████████████████████▋                                        | 538/1322 [23:35<48:40,  3.73s/it]"
     ]
    },
    {
     "name": "stdout",
     "output_type": "stream",
     "text": [
      "Done.\n",
      "Searching for \"Future Days\" by CAN...\n"
     ]
    },
    {
     "name": "stderr",
     "output_type": "stream",
     "text": [
      " 41%|███████████████████████████▋                                        | 539/1322 [23:37<40:51,  3.13s/it]"
     ]
    },
    {
     "name": "stdout",
     "output_type": "stream",
     "text": [
      "Done.\n",
      "Searching for \"Gabryelle (Refix)\" by D-Malice...\n",
      "Specified song does not contain lyrics. Rejecting.\n",
      "Searching for \"Gabryelle (Refix)\" by D-Malice...\n",
      "Specified song does not contain lyrics. Rejecting.\n",
      "Searching for \"Gabryelle (Refix)\" by D-Malice...\n",
      "Specified song does not contain lyrics. Rejecting.\n",
      "Searching for \"Gabryelle (Refix)\" by D-Malice...\n",
      "Specified song does not contain lyrics. Rejecting.\n",
      "Searching for \"Gabryelle (Refix)\" by D-Malice...\n"
     ]
    },
    {
     "name": "stderr",
     "output_type": "stream",
     "text": [
      " 41%|███████████████████████████▊                                        | 540/1322 [23:39<35:41,  2.74s/it]"
     ]
    },
    {
     "name": "stdout",
     "output_type": "stream",
     "text": [
      "Specified song does not contain lyrics. Rejecting.\n",
      "Gabryelle (Refix) D-Malice Not present in Genius\n",
      "Searching for \"Garvey's Ghost\" by Abbey Lincoln...\n",
      "No results found for: 'Garvey's Ghost Abbey Lincoln'\n",
      "Searching for \"Garvey's Ghost\" by Abbey Lincoln...\n",
      "No results found for: 'Garvey's Ghost Abbey Lincoln'\n",
      "Searching for \"Garvey's Ghost\" by Abbey Lincoln...\n",
      "No results found for: 'Garvey's Ghost Abbey Lincoln'\n",
      "Searching for \"Garvey's Ghost\" by Abbey Lincoln...\n",
      "No results found for: 'Garvey's Ghost Abbey Lincoln'\n",
      "Searching for \"Garvey's Ghost\" by Abbey Lincoln...\n"
     ]
    },
    {
     "name": "stderr",
     "output_type": "stream",
     "text": [
      " 41%|███████████████████████████▊                                        | 541/1322 [23:41<32:03,  2.46s/it]"
     ]
    },
    {
     "name": "stdout",
     "output_type": "stream",
     "text": [
      "No results found for: 'Garvey's Ghost Abbey Lincoln'\n",
      "Garvey's Ghost Abbey Lincoln Not present in Genius\n",
      "Searching for \"Genetic\" by Emeralds...\n"
     ]
    },
    {
     "name": "stderr",
     "output_type": "stream",
     "text": [
      " 41%|███████████████████████████▉                                        | 542/1322 [23:43<30:38,  2.36s/it]"
     ]
    },
    {
     "name": "stdout",
     "output_type": "stream",
     "text": [
      "Done.\n",
      "Searching for \"Gentle Man\" by The Defaulters...\n"
     ]
    },
    {
     "name": "stderr",
     "output_type": "stream",
     "text": [
      " 41%|███████████████████████████▉                                        | 543/1322 [23:48<40:43,  3.14s/it]"
     ]
    },
    {
     "name": "stdout",
     "output_type": "stream",
     "text": [
      "Done.\n",
      "Searching for \"Get It Off the Ground\" by Joe Coleman...\n"
     ]
    },
    {
     "name": "stderr",
     "output_type": "stream",
     "text": [
      " 41%|███████████████████████████▉                                        | 544/1322 [23:50<38:08,  2.94s/it]"
     ]
    },
    {
     "name": "stdout",
     "output_type": "stream",
     "text": [
      "Done.\n",
      "Searching for \"Tin\" by Daphni...\n"
     ]
    },
    {
     "name": "stderr",
     "output_type": "stream",
     "text": [
      " 41%|████████████████████████████                                        | 545/1322 [23:53<36:41,  2.83s/it]"
     ]
    },
    {
     "name": "stdout",
     "output_type": "stream",
     "text": [
      "Done.\n",
      "Searching for \"Get It On (Bang A Gong) - Alternate Version\" by T. Rex...\n",
      "No results found for: 'Get It On (Bang A Gong) - Alternate Version T. Rex'\n",
      "Searching for \"Get It On (Bang A Gong) - Alternate Version\" by T. Rex...\n",
      "No results found for: 'Get It On (Bang A Gong) - Alternate Version T. Rex'\n",
      "Searching for \"Get It On (Bang A Gong) - Alternate Version\" by T. Rex...\n",
      "No results found for: 'Get It On (Bang A Gong) - Alternate Version T. Rex'\n",
      "Searching for \"Get It On (Bang A Gong) - Alternate Version\" by T. Rex...\n",
      "No results found for: 'Get It On (Bang A Gong) - Alternate Version T. Rex'\n",
      "Searching for \"Get It On (Bang A Gong) - Alternate Version\" by T. Rex...\n"
     ]
    },
    {
     "name": "stderr",
     "output_type": "stream",
     "text": [
      " 41%|████████████████████████████                                        | 546/1322 [23:55<32:44,  2.53s/it]"
     ]
    },
    {
     "name": "stdout",
     "output_type": "stream",
     "text": [
      "No results found for: 'Get It On (Bang A Gong) - Alternate Version T. Rex'\n",
      "Get It On (Bang A Gong) - Alternate Version T. Rex Not present in Genius\n",
      "Searching for \"Get Money (feat. Junior M.A.F.I.A.) - 2007 Remaster\" by The Notorious B.I.G....\n"
     ]
    },
    {
     "name": "stderr",
     "output_type": "stream",
     "text": [
      " 41%|████████████████████████████▏                                       | 547/1322 [23:57<30:04,  2.33s/it]"
     ]
    },
    {
     "name": "stdout",
     "output_type": "stream",
     "text": [
      "Done.\n",
      "Searching for \"Get On The Bus (feat. Timbaland)\" by Destiny's Child...\n"
     ]
    },
    {
     "name": "stderr",
     "output_type": "stream",
     "text": [
      " 41%|████████████████████████████▏                                       | 548/1322 [24:00<34:08,  2.65s/it]"
     ]
    },
    {
     "name": "stdout",
     "output_type": "stream",
     "text": [
      "Done.\n",
      "Searching for \"Ghost\" by Neutral Milk Hotel...\n"
     ]
    },
    {
     "name": "stderr",
     "output_type": "stream",
     "text": [
      " 42%|████████████████████████████▏                                       | 549/1322 [24:03<34:17,  2.66s/it]"
     ]
    },
    {
     "name": "stdout",
     "output_type": "stream",
     "text": [
      "Done.\n",
      "Searching for \"Ghost Rider\" by Suicide...\n"
     ]
    },
    {
     "name": "stderr",
     "output_type": "stream",
     "text": [
      " 42%|████████████████████████████▎                                       | 550/1322 [24:07<40:50,  3.17s/it]"
     ]
    },
    {
     "name": "stdout",
     "output_type": "stream",
     "text": [
      "Done.\n",
      "Searching for \"Ghosts: Ghosts: Variation 1\" by Albert Ayler...\n"
     ]
    },
    {
     "name": "stderr",
     "output_type": "stream",
     "text": [
      " 42%|████████████████████████████▎                                       | 551/1322 [24:09<36:12,  2.82s/it]"
     ]
    },
    {
     "name": "stdout",
     "output_type": "stream",
     "text": [
      "Done.\n",
      "Searching for \"Gimme Shelter\" by The Rolling Stones...\n"
     ]
    },
    {
     "name": "stderr",
     "output_type": "stream",
     "text": [
      " 42%|████████████████████████████▍                                       | 552/1322 [24:14<44:57,  3.50s/it]"
     ]
    },
    {
     "name": "stdout",
     "output_type": "stream",
     "text": [
      "Done.\n",
      "Searching for \"Gimme Some More\" by Busta Rhymes...\n"
     ]
    },
    {
     "name": "stderr",
     "output_type": "stream",
     "text": [
      " 42%|████████████████████████████▍                                       | 553/1322 [24:16<36:52,  2.88s/it]"
     ]
    },
    {
     "name": "stdout",
     "output_type": "stream",
     "text": [
      "Done.\n",
      "Searching for \"Glasshead\" by Four Tet...\n"
     ]
    },
    {
     "name": "stderr",
     "output_type": "stream",
     "text": [
      " 42%|████████████████████████████▍                                       | 554/1322 [24:18<34:54,  2.73s/it]"
     ]
    },
    {
     "name": "stdout",
     "output_type": "stream",
     "text": [
      "Done.\n",
      "Searching for \"Glut\" by Ramadanman...\n",
      "No results found for: 'Glut Ramadanman'\n",
      "Searching for \"Glut\" by Ramadanman...\n",
      "No results found for: 'Glut Ramadanman'\n",
      "Searching for \"Glut\" by Ramadanman...\n",
      "No results found for: 'Glut Ramadanman'\n",
      "Searching for \"Glut\" by Ramadanman...\n",
      "No results found for: 'Glut Ramadanman'\n",
      "Searching for \"Glut\" by Ramadanman...\n"
     ]
    },
    {
     "name": "stderr",
     "output_type": "stream",
     "text": [
      " 42%|████████████████████████████▌                                       | 555/1322 [24:20<30:58,  2.42s/it]"
     ]
    },
    {
     "name": "stdout",
     "output_type": "stream",
     "text": [
      "No results found for: 'Glut Ramadanman'\n",
      "Glut Ramadanman Not present in Genius\n",
      "Searching for \"God Only Knows\" by The Beach Boys...\n"
     ]
    },
    {
     "name": "stderr",
     "output_type": "stream",
     "text": [
      " 42%|████████████████████████████▌                                       | 556/1322 [24:23<32:59,  2.58s/it]"
     ]
    },
    {
     "name": "stdout",
     "output_type": "stream",
     "text": [
      "Done.\n",
      "Searching for \"Going Up The Country\" by Canned Heat...\n"
     ]
    },
    {
     "name": "stderr",
     "output_type": "stream",
     "text": [
      " 42%|████████████████████████████▋                                       | 557/1322 [24:26<34:46,  2.73s/it]"
     ]
    },
    {
     "name": "stdout",
     "output_type": "stream",
     "text": [
      "Done.\n",
      "Searching for \"Gol-e Gandom\" by Lloyd Clifton Miller...\n",
      "No results found for: 'Gol-e Gandom Lloyd Clifton Miller'\n",
      "Searching for \"Gol-e Gandom\" by Lloyd Clifton Miller...\n",
      "No results found for: 'Gol-e Gandom Lloyd Clifton Miller'\n",
      "Searching for \"Gol-e Gandom\" by Lloyd Clifton Miller...\n",
      "No results found for: 'Gol-e Gandom Lloyd Clifton Miller'\n",
      "Searching for \"Gol-e Gandom\" by Lloyd Clifton Miller...\n",
      "No results found for: 'Gol-e Gandom Lloyd Clifton Miller'\n",
      "Searching for \"Gol-e Gandom\" by Lloyd Clifton Miller...\n"
     ]
    },
    {
     "name": "stderr",
     "output_type": "stream",
     "text": [
      " 42%|████████████████████████████▋                                       | 558/1322 [24:28<32:13,  2.53s/it]"
     ]
    },
    {
     "name": "stdout",
     "output_type": "stream",
     "text": [
      "No results found for: 'Gol-e Gandom Lloyd Clifton Miller'\n",
      "Gol-e Gandom Lloyd Clifton Miller Not present in Genius\n",
      "Searching for \"Goldie\" by A$AP Rocky...\n"
     ]
    },
    {
     "name": "stderr",
     "output_type": "stream",
     "text": [
      " 42%|████████████████████████████▊                                       | 559/1322 [24:36<53:02,  4.17s/it]"
     ]
    },
    {
     "name": "stdout",
     "output_type": "stream",
     "text": [
      "Done.\n",
      "Searching for \"Good Name\" by William Onyeabor...\n",
      "Searching for \"Good Name\" by William Onyeabor...\n"
     ]
    },
    {
     "name": "stderr",
     "output_type": "stream",
     "text": [
      " 42%|███████████████████████████▉                                      | 560/1322 [24:46<1:17:39,  6.11s/it]"
     ]
    },
    {
     "name": "stdout",
     "output_type": "stream",
     "text": [
      "Done.\n",
      "Searching for \"Good Vibrations\" by The Langley Schools Music Project...\n"
     ]
    },
    {
     "name": "stderr",
     "output_type": "stream",
     "text": [
      " 42%|████████████████████████████                                      | 561/1322 [24:49<1:04:10,  5.06s/it]"
     ]
    },
    {
     "name": "stdout",
     "output_type": "stream",
     "text": [
      "Done.\n",
      "Searching for \"Good Vibrations - Remastered 2001\" by The Beach Boys...\n"
     ]
    },
    {
     "name": "stderr",
     "output_type": "stream",
     "text": [
      " 43%|████████████████████████████                                      | 562/1322 [24:53<1:00:00,  4.74s/it]"
     ]
    },
    {
     "name": "stdout",
     "output_type": "stream",
     "text": [
      "Done.\n",
      "Searching for \"Got To Get Your Love\" by Clyde Alexander & Sanction...\n"
     ]
    },
    {
     "name": "stderr",
     "output_type": "stream",
     "text": [
      " 43%|████████████████████████████▉                                       | 563/1322 [24:55<49:29,  3.91s/it]"
     ]
    },
    {
     "name": "stdout",
     "output_type": "stream",
     "text": [
      "Done.\n",
      "Searching for \"Got to Have Loving\" by Cerrone...\n"
     ]
    },
    {
     "name": "stderr",
     "output_type": "stream",
     "text": [
      " 43%|█████████████████████████████                                       | 564/1322 [24:57<41:19,  3.27s/it]"
     ]
    },
    {
     "name": "stdout",
     "output_type": "stream",
     "text": [
      "Done.\n",
      "Searching for \"Grind\" by Les Sins...\n"
     ]
    },
    {
     "name": "stderr",
     "output_type": "stream",
     "text": [
      " 43%|█████████████████████████████                                       | 565/1322 [24:59<37:28,  2.97s/it]"
     ]
    },
    {
     "name": "stdout",
     "output_type": "stream",
     "text": [
      "Done.\n",
      "Searching for \"Grindin'\" by Clipse...\n"
     ]
    },
    {
     "name": "stderr",
     "output_type": "stream",
     "text": [
      " 43%|█████████████████████████████                                       | 566/1322 [25:04<43:22,  3.44s/it]"
     ]
    },
    {
     "name": "stdout",
     "output_type": "stream",
     "text": [
      "Done.\n",
      "Searching for \"Gypsy Queen\" by Larry Coryell...\n",
      "No results found for: 'Gypsy Queen Larry Coryell'\n",
      "Searching for \"Gypsy Queen\" by Larry Coryell...\n",
      "No results found for: 'Gypsy Queen Larry Coryell'\n",
      "Searching for \"Gypsy Queen\" by Larry Coryell...\n",
      "No results found for: 'Gypsy Queen Larry Coryell'\n",
      "Searching for \"Gypsy Queen\" by Larry Coryell...\n",
      "No results found for: 'Gypsy Queen Larry Coryell'\n",
      "Searching for \"Gypsy Queen\" by Larry Coryell...\n"
     ]
    },
    {
     "name": "stderr",
     "output_type": "stream",
     "text": [
      " 43%|█████████████████████████████▏                                      | 567/1322 [25:05<36:53,  2.93s/it]"
     ]
    },
    {
     "name": "stdout",
     "output_type": "stream",
     "text": [
      "No results found for: 'Gypsy Queen Larry Coryell'\n",
      "Gypsy Queen Larry Coryell Not present in Genius\n",
      "Searching for \"Hache 06\" by Philippe Besombes...\n",
      "No results found for: 'Hache 06 Philippe Besombes'\n",
      "Searching for \"Hache 06\" by Philippe Besombes...\n",
      "No results found for: 'Hache 06 Philippe Besombes'\n",
      "Searching for \"Hache 06\" by Philippe Besombes...\n",
      "No results found for: 'Hache 06 Philippe Besombes'\n",
      "Searching for \"Hache 06\" by Philippe Besombes...\n",
      "No results found for: 'Hache 06 Philippe Besombes'\n",
      "Searching for \"Hache 06\" by Philippe Besombes...\n"
     ]
    },
    {
     "name": "stderr",
     "output_type": "stream",
     "text": [
      " 43%|█████████████████████████████▏                                      | 568/1322 [25:07<32:22,  2.58s/it]"
     ]
    },
    {
     "name": "stdout",
     "output_type": "stream",
     "text": [
      "No results found for: 'Hache 06 Philippe Besombes'\n",
      "Hache 06 Philippe Besombes Not present in Genius\n",
      "Searching for \"Haidara\" by Djeli Moussa Diawara...\n",
      "No results found for: 'Haidara Djeli Moussa Diawara'\n",
      "Searching for \"Haidara\" by Djeli Moussa Diawara...\n",
      "No results found for: 'Haidara Djeli Moussa Diawara'\n",
      "Searching for \"Haidara\" by Djeli Moussa Diawara...\n",
      "No results found for: 'Haidara Djeli Moussa Diawara'\n",
      "Searching for \"Haidara\" by Djeli Moussa Diawara...\n",
      "No results found for: 'Haidara Djeli Moussa Diawara'\n",
      "Searching for \"Haidara\" by Djeli Moussa Diawara...\n"
     ]
    },
    {
     "name": "stderr",
     "output_type": "stream",
     "text": [
      " 43%|█████████████████████████████▎                                      | 569/1322 [25:09<29:24,  2.34s/it]"
     ]
    },
    {
     "name": "stdout",
     "output_type": "stream",
     "text": [
      "No results found for: 'Haidara Djeli Moussa Diawara'\n",
      "Haidara Djeli Moussa Diawara Not present in Genius\n",
      "Searching for \"Hallogallo\" by NEU!...\n",
      "Specified song does not contain lyrics. Rejecting.\n",
      "Searching for \"Hallogallo\" by NEU!...\n",
      "Specified song does not contain lyrics. Rejecting.\n",
      "Searching for \"Hallogallo\" by NEU!...\n",
      "Specified song does not contain lyrics. Rejecting.\n",
      "Searching for \"Hallogallo\" by NEU!...\n",
      "Specified song does not contain lyrics. Rejecting.\n",
      "Searching for \"Hallogallo\" by NEU!...\n"
     ]
    },
    {
     "name": "stderr",
     "output_type": "stream",
     "text": [
      " 43%|█████████████████████████████▎                                      | 570/1322 [25:11<29:47,  2.38s/it]"
     ]
    },
    {
     "name": "stdout",
     "output_type": "stream",
     "text": [
      "Specified song does not contain lyrics. Rejecting.\n",
      "Hallogallo NEU! Not present in Genius\n",
      "Searching for \"Hallucinations (April)\" by Hal Blaine...\n",
      "No results found for: 'Hallucinations (April) Hal Blaine'\n",
      "Searching for \"Hallucinations (April)\" by Hal Blaine...\n",
      "No results found for: 'Hallucinations (April) Hal Blaine'\n",
      "Searching for \"Hallucinations (April)\" by Hal Blaine...\n",
      "No results found for: 'Hallucinations (April) Hal Blaine'\n",
      "Searching for \"Hallucinations (April)\" by Hal Blaine...\n",
      "No results found for: 'Hallucinations (April) Hal Blaine'\n",
      "Searching for \"Hallucinations (April)\" by Hal Blaine...\n"
     ]
    },
    {
     "name": "stderr",
     "output_type": "stream",
     "text": [
      " 43%|█████████████████████████████▎                                      | 571/1322 [25:13<27:37,  2.21s/it]"
     ]
    },
    {
     "name": "stdout",
     "output_type": "stream",
     "text": [
      "No results found for: 'Hallucinations (April) Hal Blaine'\n",
      "Hallucinations (April) Hal Blaine Not present in Genius\n",
      "Searching for \"Hana\" by Asa-Chang & Junray...\n",
      "No results found for: 'Hana Asa-Chang & Junray'\n",
      "Searching for \"Hana\" by Asa-Chang & Junray...\n",
      "No results found for: 'Hana Asa-Chang & Junray'\n",
      "Searching for \"Hana\" by Asa-Chang & Junray...\n",
      "No results found for: 'Hana Asa-Chang & Junray'\n",
      "Searching for \"Hana\" by Asa-Chang & Junray...\n",
      "No results found for: 'Hana Asa-Chang & Junray'\n",
      "Searching for \"Hana\" by Asa-Chang & Junray...\n"
     ]
    },
    {
     "name": "stderr",
     "output_type": "stream",
     "text": [
      " 43%|█████████████████████████████▍                                      | 572/1322 [25:15<25:46,  2.06s/it]"
     ]
    },
    {
     "name": "stdout",
     "output_type": "stream",
     "text": [
      "No results found for: 'Hana Asa-Chang & Junray'\n",
      "Hana Asa-Chang & Junray Not present in Genius\n",
      "Searching for \"Happy Sunday (Maurice Fulton Mix)\" by DJ Nori...\n",
      "No results found for: 'Happy Sunday (Maurice Fulton Mix) DJ Nori'\n",
      "Searching for \"Happy Sunday (Maurice Fulton Mix)\" by DJ Nori...\n",
      "No results found for: 'Happy Sunday (Maurice Fulton Mix) DJ Nori'\n",
      "Searching for \"Happy Sunday (Maurice Fulton Mix)\" by DJ Nori...\n",
      "No results found for: 'Happy Sunday (Maurice Fulton Mix) DJ Nori'\n",
      "Searching for \"Happy Sunday (Maurice Fulton Mix)\" by DJ Nori...\n",
      "No results found for: 'Happy Sunday (Maurice Fulton Mix) DJ Nori'\n",
      "Searching for \"Happy Sunday (Maurice Fulton Mix)\" by DJ Nori...\n"
     ]
    },
    {
     "name": "stderr",
     "output_type": "stream",
     "text": [
      " 43%|█████████████████████████████▍                                      | 573/1322 [25:17<24:41,  1.98s/it]"
     ]
    },
    {
     "name": "stdout",
     "output_type": "stream",
     "text": [
      "No results found for: 'Happy Sunday (Maurice Fulton Mix) DJ Nori'\n",
      "Happy Sunday (Maurice Fulton Mix) DJ Nori Not present in Genius\n",
      "Searching for \"Hard Times\" by Baby Huey...\n"
     ]
    },
    {
     "name": "stderr",
     "output_type": "stream",
     "text": [
      " 43%|█████████████████████████████▌                                      | 574/1322 [25:22<37:27,  3.00s/it]"
     ]
    },
    {
     "name": "stdout",
     "output_type": "stream",
     "text": [
      "Done.\n",
      "Searching for \"Harlem River Drive\" by Bobbi Humphrey...\n"
     ]
    },
    {
     "name": "stderr",
     "output_type": "stream",
     "text": [
      " 43%|█████████████████████████████▌                                      | 575/1322 [25:26<42:26,  3.41s/it]"
     ]
    },
    {
     "name": "stdout",
     "output_type": "stream",
     "text": [
      "Done.\n",
      "Searching for \"Harlem River Drive (Theme Song) - 2006 Remaster\" by Harlem River Drive...\n"
     ]
    },
    {
     "name": "stderr",
     "output_type": "stream",
     "text": [
      " 44%|█████████████████████████████▋                                      | 576/1322 [25:29<41:05,  3.30s/it]"
     ]
    },
    {
     "name": "stdout",
     "output_type": "stream",
     "text": [
      "Done.\n",
      "Searching for \"Haute pression\" by Philippe Besombes...\n"
     ]
    },
    {
     "name": "stderr",
     "output_type": "stream",
     "text": [
      " 44%|█████████████████████████████▋                                      | 577/1322 [25:32<36:58,  2.98s/it]"
     ]
    },
    {
     "name": "stdout",
     "output_type": "stream",
     "text": [
      "Done.\n",
      "Searching for \"Heart Love\" by Albert Ayler...\n"
     ]
    },
    {
     "name": "stderr",
     "output_type": "stream",
     "text": [
      " 44%|█████████████████████████████▋                                      | 578/1322 [25:34<35:48,  2.89s/it]"
     ]
    },
    {
     "name": "stdout",
     "output_type": "stream",
     "text": [
      "Done.\n",
      "Searching for \"Hello Sunshine\" by Relatively Clean Rivers...\n"
     ]
    },
    {
     "name": "stderr",
     "output_type": "stream",
     "text": [
      " 44%|█████████████████████████████▊                                      | 579/1322 [25:41<48:47,  3.94s/it]"
     ]
    },
    {
     "name": "stdout",
     "output_type": "stream",
     "text": [
      "Done.\n",
      "Searching for \"Here Come The Warm Jets - 2004 Digital Remaster\" by Brian Eno...\n",
      "No results found for: 'Here Come The Warm Jets - 2004 Digital Remaster Brian Eno'\n",
      "Searching for \"Here Come The Warm Jets - 2004 Digital Remaster\" by Brian Eno...\n",
      "No results found for: 'Here Come The Warm Jets - 2004 Digital Remaster Brian Eno'\n",
      "Searching for \"Here Come The Warm Jets - 2004 Digital Remaster\" by Brian Eno...\n",
      "No results found for: 'Here Come The Warm Jets - 2004 Digital Remaster Brian Eno'\n",
      "Searching for \"Here Come The Warm Jets - 2004 Digital Remaster\" by Brian Eno...\n",
      "No results found for: 'Here Come The Warm Jets - 2004 Digital Remaster Brian Eno'\n",
      "Searching for \"Here Come The Warm Jets - 2004 Digital Remaster\" by Brian Eno...\n"
     ]
    },
    {
     "name": "stderr",
     "output_type": "stream",
     "text": [
      " 44%|█████████████████████████████▊                                      | 580/1322 [25:43<41:01,  3.32s/it]"
     ]
    },
    {
     "name": "stdout",
     "output_type": "stream",
     "text": [
      "No results found for: 'Here Come The Warm Jets - 2004 Digital Remaster Brian Eno'\n",
      "Here Come The Warm Jets - 2004 Digital Remaster Brian Eno Not present in Genius\n",
      "Searching for \"Here She Comes Now\" by The Velvet Underground...\n"
     ]
    },
    {
     "name": "stderr",
     "output_type": "stream",
     "text": [
      " 44%|█████████████████████████████▉                                      | 581/1322 [25:45<38:42,  3.13s/it]"
     ]
    },
    {
     "name": "stdout",
     "output_type": "stream",
     "text": [
      "Done.\n",
      "Searching for \"Heroin\" by The Velvet Underground...\n"
     ]
    },
    {
     "name": "stderr",
     "output_type": "stream",
     "text": [
      " 44%|█████████████████████████████▉                                      | 582/1322 [25:48<35:18,  2.86s/it]"
     ]
    },
    {
     "name": "stdout",
     "output_type": "stream",
     "text": [
      "Done.\n",
      "Searching for \"Hey Hey - 1993 Remastered Version\" by Andrew Hill...\n"
     ]
    },
    {
     "name": "stderr",
     "output_type": "stream",
     "text": [
      " 44%|█████████████████████████████▉                                      | 583/1322 [25:50<33:17,  2.70s/it]"
     ]
    },
    {
     "name": "stdout",
     "output_type": "stream",
     "text": [
      "Done.\n",
      "Searching for \"Hey Papi\" by Nutty Professor The Klumps Soundtrack...\n",
      "No results found for: 'Hey Papi Nutty Professor The Klumps Soundtrack'\n",
      "Searching for \"Hey Papi\" by Nutty Professor The Klumps Soundtrack...\n",
      "No results found for: 'Hey Papi Nutty Professor The Klumps Soundtrack'\n",
      "Searching for \"Hey Papi\" by Nutty Professor The Klumps Soundtrack...\n",
      "No results found for: 'Hey Papi Nutty Professor The Klumps Soundtrack'\n",
      "Searching for \"Hey Papi\" by Nutty Professor The Klumps Soundtrack...\n",
      "No results found for: 'Hey Papi Nutty Professor The Klumps Soundtrack'\n",
      "Searching for \"Hey Papi\" by Nutty Professor The Klumps Soundtrack...\n"
     ]
    },
    {
     "name": "stderr",
     "output_type": "stream",
     "text": [
      " 44%|██████████████████████████████                                      | 584/1322 [25:52<30:13,  2.46s/it]"
     ]
    },
    {
     "name": "stdout",
     "output_type": "stream",
     "text": [
      "No results found for: 'Hey Papi Nutty Professor The Klumps Soundtrack'\n",
      "Hey Papi Nutty Professor The Klumps Soundtrack Not present in Genius\n",
      "Searching for \"Hit 'Em wit da Hee (feat. Lil' Kim)\" by Missy Elliott...\n"
     ]
    },
    {
     "name": "stderr",
     "output_type": "stream",
     "text": [
      " 44%|██████████████████████████████                                      | 585/1322 [25:55<32:58,  2.68s/it]"
     ]
    },
    {
     "name": "stdout",
     "output_type": "stream",
     "text": [
      "Done.\n",
      "Searching for \"Hollywood\" by Cluster...\n",
      "Specified song does not contain lyrics. Rejecting.\n",
      "Searching for \"Hollywood\" by Cluster...\n",
      "Specified song does not contain lyrics. Rejecting.\n",
      "Searching for \"Hollywood\" by Cluster...\n",
      "Specified song does not contain lyrics. Rejecting.\n",
      "Searching for \"Hollywood\" by Cluster...\n",
      "Specified song does not contain lyrics. Rejecting.\n",
      "Searching for \"Hollywood\" by Cluster...\n"
     ]
    },
    {
     "name": "stderr",
     "output_type": "stream",
     "text": [
      " 44%|██████████████████████████████▏                                     | 586/1322 [25:58<33:39,  2.74s/it]"
     ]
    },
    {
     "name": "stdout",
     "output_type": "stream",
     "text": [
      "Specified song does not contain lyrics. Rejecting.\n",
      "Hollywood Cluster Not present in Genius\n",
      "Searching for \"Holy Thursday\" by David Axelrod...\n"
     ]
    },
    {
     "name": "stderr",
     "output_type": "stream",
     "text": [
      " 44%|██████████████████████████████▏                                     | 587/1322 [26:00<29:38,  2.42s/it]"
     ]
    },
    {
     "name": "stdout",
     "output_type": "stream",
     "text": [
      "Done.\n",
      "Searching for \"Home Is Where the Hatred Is\" by Esther Phillips...\n"
     ]
    },
    {
     "name": "stderr",
     "output_type": "stream",
     "text": [
      " 44%|██████████████████████████████▏                                     | 588/1322 [26:02<31:09,  2.55s/it]"
     ]
    },
    {
     "name": "stdout",
     "output_type": "stream",
     "text": [
      "Done.\n",
      "Searching for \"Hot Music\" by Soho...\n"
     ]
    },
    {
     "name": "stderr",
     "output_type": "stream",
     "text": [
      " 45%|██████████████████████████████▎                                     | 589/1322 [26:05<29:48,  2.44s/it]"
     ]
    },
    {
     "name": "stdout",
     "output_type": "stream",
     "text": [
      "Done.\n",
      "Searching for \"Humpty Dumpty - 2006 Remastered Version\" by Marc Moulin...\n",
      "No results found for: 'Humpty Dumpty - 2006 Remastered Version Marc Moulin'\n",
      "Searching for \"Humpty Dumpty - 2006 Remastered Version\" by Marc Moulin...\n",
      "No results found for: 'Humpty Dumpty - 2006 Remastered Version Marc Moulin'\n",
      "Searching for \"Humpty Dumpty - 2006 Remastered Version\" by Marc Moulin...\n",
      "No results found for: 'Humpty Dumpty - 2006 Remastered Version Marc Moulin'\n",
      "Searching for \"Humpty Dumpty - 2006 Remastered Version\" by Marc Moulin...\n",
      "No results found for: 'Humpty Dumpty - 2006 Remastered Version Marc Moulin'\n",
      "Searching for \"Humpty Dumpty - 2006 Remastered Version\" by Marc Moulin...\n"
     ]
    },
    {
     "name": "stderr",
     "output_type": "stream",
     "text": [
      " 45%|██████████████████████████████▎                                     | 590/1322 [26:06<27:11,  2.23s/it]"
     ]
    },
    {
     "name": "stdout",
     "output_type": "stream",
     "text": [
      "No results found for: 'Humpty Dumpty - 2006 Remastered Version Marc Moulin'\n",
      "Humpty Dumpty - 2006 Remastered Version Marc Moulin Not present in Genius\n",
      "Searching for \"Huntington Ashram Monastery\" by Alice Coltrane...\n",
      "Specified song does not contain lyrics. Rejecting.\n",
      "Searching for \"Huntington Ashram Monastery\" by Alice Coltrane...\n",
      "Specified song does not contain lyrics. Rejecting.\n",
      "Searching for \"Huntington Ashram Monastery\" by Alice Coltrane...\n",
      "Specified song does not contain lyrics. Rejecting.\n",
      "Searching for \"Huntington Ashram Monastery\" by Alice Coltrane...\n",
      "Specified song does not contain lyrics. Rejecting.\n",
      "Searching for \"Huntington Ashram Monastery\" by Alice Coltrane...\n"
     ]
    },
    {
     "name": "stderr",
     "output_type": "stream",
     "text": [
      " 45%|██████████████████████████████▍                                     | 591/1322 [26:08<25:51,  2.12s/it]"
     ]
    },
    {
     "name": "stdout",
     "output_type": "stream",
     "text": [
      "Specified song does not contain lyrics. Rejecting.\n",
      "Huntington Ashram Monastery Alice Coltrane Not present in Genius\n",
      "Searching for \"Hyph Mngo\" by Joy Orbison...\n",
      "Specified song does not contain lyrics. Rejecting.\n",
      "Searching for \"Hyph Mngo\" by Joy Orbison...\n",
      "Specified song does not contain lyrics. Rejecting.\n",
      "Searching for \"Hyph Mngo\" by Joy Orbison...\n",
      "Specified song does not contain lyrics. Rejecting.\n",
      "Searching for \"Hyph Mngo\" by Joy Orbison...\n",
      "Specified song does not contain lyrics. Rejecting.\n",
      "Searching for \"Hyph Mngo\" by Joy Orbison...\n"
     ]
    },
    {
     "name": "stderr",
     "output_type": "stream",
     "text": [
      " 45%|██████████████████████████████▍                                     | 592/1322 [26:10<25:01,  2.06s/it]"
     ]
    },
    {
     "name": "stdout",
     "output_type": "stream",
     "text": [
      "Specified song does not contain lyrics. Rejecting.\n",
      "Hyph Mngo Joy Orbison Not present in Genius\n",
      "Searching for \"Hypnotize - 2007 Remaster\" by The Notorious B.I.G....\n"
     ]
    },
    {
     "name": "stderr",
     "output_type": "stream",
     "text": [
      " 45%|██████████████████████████████▌                                     | 593/1322 [26:12<23:32,  1.94s/it]"
     ]
    },
    {
     "name": "stdout",
     "output_type": "stream",
     "text": [
      "Done.\n",
      "Searching for \"I Believe (When I Fall In Love It Will Be Forever)\" by Stevie Wonder...\n"
     ]
    },
    {
     "name": "stderr",
     "output_type": "stream",
     "text": [
      " 45%|██████████████████████████████▌                                     | 594/1322 [26:16<31:17,  2.58s/it]"
     ]
    },
    {
     "name": "stdout",
     "output_type": "stream",
     "text": [
      "Done.\n",
      "Searching for \"I Believe In Miracles\" by Jackson Sisters...\n"
     ]
    },
    {
     "name": "stderr",
     "output_type": "stream",
     "text": [
      " 45%|██████████████████████████████▌                                     | 595/1322 [26:18<28:06,  2.32s/it]"
     ]
    },
    {
     "name": "stdout",
     "output_type": "stream",
     "text": [
      "Done.\n",
      "Searching for \"I Can't Do It Alone\" by TC Crew...\n"
     ]
    },
    {
     "name": "stderr",
     "output_type": "stream",
     "text": [
      " 45%|██████████████████████████████▋                                     | 596/1322 [26:20<30:01,  2.48s/it]"
     ]
    },
    {
     "name": "stdout",
     "output_type": "stream",
     "text": [
      "Done.\n",
      "Searching for \"I Can't Go for That (No Can Do)\" by Daryl Hall & John Oates...\n"
     ]
    },
    {
     "name": "stderr",
     "output_type": "stream",
     "text": [
      " 45%|██████████████████████████████▋                                     | 597/1322 [26:28<48:08,  3.98s/it]"
     ]
    },
    {
     "name": "stdout",
     "output_type": "stream",
     "text": [
      "Done.\n",
      "Searching for \"I Can't Sing ...\" by Bernard Bonnier...\n"
     ]
    },
    {
     "name": "stderr",
     "output_type": "stream",
     "text": [
      " 45%|██████████████████████████████▊                                     | 598/1322 [26:30<39:53,  3.31s/it]"
     ]
    },
    {
     "name": "stdout",
     "output_type": "stream",
     "text": [
      "Done.\n",
      "Searching for \"I Finally Found the Love I Need\" by Jerry Green...\n"
     ]
    },
    {
     "name": "stderr",
     "output_type": "stream",
     "text": [
      " 45%|██████████████████████████████▊                                     | 599/1322 [26:32<38:07,  3.16s/it]"
     ]
    },
    {
     "name": "stdout",
     "output_type": "stream",
     "text": [
      "Done.\n",
      "Searching for \"I Like It (I Wanna Be Where You Are)\" by Grand Puba...\n"
     ]
    },
    {
     "name": "stderr",
     "output_type": "stream",
     "text": [
      " 45%|██████████████████████████████▊                                     | 600/1322 [26:34<31:46,  2.64s/it]"
     ]
    },
    {
     "name": "stdout",
     "output_type": "stream",
     "text": [
      "Done.\n",
      "Searching for \"I Love Every Little Thing About You\" by Syreeta...\n"
     ]
    },
    {
     "name": "stderr",
     "output_type": "stream",
     "text": [
      " 45%|██████████████████████████████▉                                     | 601/1322 [26:38<35:19,  2.94s/it]"
     ]
    },
    {
     "name": "stdout",
     "output_type": "stream",
     "text": [
      "Done.\n",
      "Searching for \"I Love How You Love Me\" by The Paris Sisters...\n"
     ]
    },
    {
     "name": "stderr",
     "output_type": "stream",
     "text": [
      " 46%|██████████████████████████████▉                                     | 602/1322 [26:39<29:24,  2.45s/it]"
     ]
    },
    {
     "name": "stdout",
     "output_type": "stream",
     "text": [
      "Done.\n",
      "Searching for \"I Luv U\" by Dizzee Rascal...\n"
     ]
    },
    {
     "name": "stderr",
     "output_type": "stream",
     "text": [
      " 46%|███████████████████████████████                                     | 603/1322 [26:45<41:52,  3.49s/it]"
     ]
    },
    {
     "name": "stdout",
     "output_type": "stream",
     "text": [
      "Done.\n",
      "Searching for \"I Need Somebody To Love Tonight\" by Sylvester...\n"
     ]
    },
    {
     "name": "stderr",
     "output_type": "stream",
     "text": [
      " 46%|███████████████████████████████                                     | 604/1322 [26:47<37:45,  3.15s/it]"
     ]
    },
    {
     "name": "stdout",
     "output_type": "stream",
     "text": [
      "Done.\n",
      "Searching for \"I Need Someone\" by Kris Okotie...\n",
      "No results found for: 'I Need Someone Kris Okotie'\n",
      "Searching for \"I Need Someone\" by Kris Okotie...\n",
      "No results found for: 'I Need Someone Kris Okotie'\n",
      "Searching for \"I Need Someone\" by Kris Okotie...\n",
      "No results found for: 'I Need Someone Kris Okotie'\n",
      "Searching for \"I Need Someone\" by Kris Okotie...\n",
      "No results found for: 'I Need Someone Kris Okotie'\n",
      "Searching for \"I Need Someone\" by Kris Okotie...\n"
     ]
    },
    {
     "name": "stderr",
     "output_type": "stream",
     "text": [
      " 46%|███████████████████████████████                                     | 605/1322 [26:49<32:43,  2.74s/it]"
     ]
    },
    {
     "name": "stdout",
     "output_type": "stream",
     "text": [
      "No results found for: 'I Need Someone Kris Okotie'\n",
      "I Need Someone Kris Okotie Not present in Genius\n",
      "Searching for \"I Shall Be Free\" by The Doves...\n"
     ]
    },
    {
     "name": "stderr",
     "output_type": "stream",
     "text": [
      " 46%|███████████████████████████████▏                                    | 606/1322 [26:52<33:44,  2.83s/it]"
     ]
    },
    {
     "name": "stdout",
     "output_type": "stream",
     "text": [
      "Done.\n",
      "Searching for \"I Walk Alone\" by Marijata...\n",
      "Specified song does not contain lyrics. Rejecting.\n",
      "Searching for \"I Walk Alone\" by Marijata...\n",
      "Specified song does not contain lyrics. Rejecting.\n",
      "Searching for \"I Walk Alone\" by Marijata...\n",
      "Specified song does not contain lyrics. Rejecting.\n",
      "Searching for \"I Walk Alone\" by Marijata...\n",
      "Specified song does not contain lyrics. Rejecting.\n",
      "Searching for \"I Walk Alone\" by Marijata...\n"
     ]
    },
    {
     "name": "stderr",
     "output_type": "stream",
     "text": [
      " 46%|███████████████████████████████▏                                    | 607/1322 [26:54<31:19,  2.63s/it]"
     ]
    },
    {
     "name": "stdout",
     "output_type": "stream",
     "text": [
      "Specified song does not contain lyrics. Rejecting.\n",
      "I Walk Alone Marijata Not present in Genius\n",
      "Searching for \"I Wanna Be Your Dog\" by The Stooges...\n"
     ]
    },
    {
     "name": "stderr",
     "output_type": "stream",
     "text": [
      " 46%|███████████████████████████████▎                                    | 608/1322 [26:57<33:47,  2.84s/it]"
     ]
    },
    {
     "name": "stdout",
     "output_type": "stream",
     "text": [
      "Done.\n",
      "Searching for \"I Was Born To Love You\" by Timeless Legend...\n"
     ]
    },
    {
     "name": "stderr",
     "output_type": "stream",
     "text": [
      " 46%|███████████████████████████████▎                                    | 609/1322 [27:00<34:08,  2.87s/it]"
     ]
    },
    {
     "name": "stdout",
     "output_type": "stream",
     "text": [
      "Done.\n",
      "Searching for \"I'm Kurious\" by Kurious...\n"
     ]
    },
    {
     "name": "stderr",
     "output_type": "stream",
     "text": [
      " 46%|███████████████████████████████▍                                    | 610/1322 [27:05<38:59,  3.29s/it]"
     ]
    },
    {
     "name": "stdout",
     "output_type": "stream",
     "text": [
      "Done.\n",
      "Searching for \"I'm Not In Love\" by 10cc...\n"
     ]
    },
    {
     "name": "stderr",
     "output_type": "stream",
     "text": [
      " 46%|███████████████████████████████▍                                    | 611/1322 [27:06<32:37,  2.75s/it]"
     ]
    },
    {
     "name": "stdout",
     "output_type": "stream",
     "text": [
      "Done.\n",
      "Searching for \"I'm Satisfied\" by James Brown...\n"
     ]
    },
    {
     "name": "stderr",
     "output_type": "stream",
     "text": [
      " 46%|███████████████████████████████▍                                    | 612/1322 [27:08<30:50,  2.61s/it]"
     ]
    },
    {
     "name": "stdout",
     "output_type": "stream",
     "text": [
      "Done.\n",
      "Searching for \"I'm Single\" by Lil Wayne...\n"
     ]
    },
    {
     "name": "stderr",
     "output_type": "stream",
     "text": [
      " 46%|███████████████████████████████▌                                    | 613/1322 [27:12<33:44,  2.86s/it]"
     ]
    },
    {
     "name": "stdout",
     "output_type": "stream",
     "text": [
      "Done.\n",
      "Searching for \"Ice Cream Man\" by Rome Fortune...\n"
     ]
    },
    {
     "name": "stderr",
     "output_type": "stream",
     "text": [
      " 46%|███████████████████████████████▌                                    | 614/1322 [27:15<35:37,  3.02s/it]"
     ]
    },
    {
     "name": "stdout",
     "output_type": "stream",
     "text": [
      "Done.\n",
      "Searching for \"If You Want Me to Stay\" by Sly & The Family Stone...\n"
     ]
    },
    {
     "name": "stderr",
     "output_type": "stream",
     "text": [
      " 47%|███████████████████████████████▋                                    | 615/1322 [27:19<39:21,  3.34s/it]"
     ]
    },
    {
     "name": "stdout",
     "output_type": "stream",
     "text": [
      "Done.\n",
      "Searching for \"Ifetayo\" by Black Truth Rhythm Band...\n",
      "No results found for: 'Ifetayo Black Truth Rhythm Band'\n",
      "Searching for \"Ifetayo\" by Black Truth Rhythm Band...\n",
      "No results found for: 'Ifetayo Black Truth Rhythm Band'\n",
      "Searching for \"Ifetayo\" by Black Truth Rhythm Band...\n",
      "No results found for: 'Ifetayo Black Truth Rhythm Band'\n",
      "Searching for \"Ifetayo\" by Black Truth Rhythm Band...\n",
      "No results found for: 'Ifetayo Black Truth Rhythm Band'\n",
      "Searching for \"Ifetayo\" by Black Truth Rhythm Band...\n"
     ]
    },
    {
     "name": "stderr",
     "output_type": "stream",
     "text": [
      " 47%|███████████████████████████████▋                                    | 616/1322 [27:21<34:05,  2.90s/it]"
     ]
    },
    {
     "name": "stdout",
     "output_type": "stream",
     "text": [
      "No results found for: 'Ifetayo Black Truth Rhythm Band'\n",
      "Ifetayo Black Truth Rhythm Band Not present in Genius\n",
      "Searching for \"Images\" by Henri Roger...\n"
     ]
    },
    {
     "name": "stderr",
     "output_type": "stream",
     "text": [
      " 47%|███████████████████████████████▋                                    | 617/1322 [27:24<34:40,  2.95s/it]"
     ]
    },
    {
     "name": "stdout",
     "output_type": "stream",
     "text": [
      "Done.\n",
      "Searching for \"In Da Club\" by 50 Cent...\n",
      "Searching for \"In Da Club\" by 50 Cent...\n",
      "Searching for \"In Da Club\" by 50 Cent...\n",
      "Searching for \"In Da Club\" by 50 Cent...\n",
      "Searching for \"In Da Club\" by 50 Cent...\n"
     ]
    },
    {
     "name": "stderr",
     "output_type": "stream",
     "text": [
      " 47%|██████████████████████████████▊                                   | 618/1322 [27:50<1:54:39,  9.77s/it]"
     ]
    },
    {
     "name": "stdout",
     "output_type": "stream",
     "text": [
      "In Da Club 50 Cent Not present in Genius\n",
      "Searching for \"India\" by John Coltrane...\n",
      "Specified song does not contain lyrics. Rejecting.\n",
      "Searching for \"India\" by John Coltrane...\n",
      "Specified song does not contain lyrics. Rejecting.\n",
      "Searching for \"India\" by John Coltrane...\n",
      "Specified song does not contain lyrics. Rejecting.\n",
      "Searching for \"India\" by John Coltrane...\n",
      "Specified song does not contain lyrics. Rejecting.\n",
      "Searching for \"India\" by John Coltrane...\n"
     ]
    },
    {
     "name": "stderr",
     "output_type": "stream",
     "text": [
      " 47%|██████████████████████████████▉                                   | 619/1322 [27:52<1:27:43,  7.49s/it]"
     ]
    },
    {
     "name": "stdout",
     "output_type": "stream",
     "text": [
      "Specified song does not contain lyrics. Rejecting.\n",
      "India John Coltrane Not present in Genius\n",
      "Searching for \"Inna City Life\" by Group Home...\n"
     ]
    },
    {
     "name": "stderr",
     "output_type": "stream",
     "text": [
      " 47%|██████████████████████████████▉                                   | 620/1322 [27:56<1:15:29,  6.45s/it]"
     ]
    },
    {
     "name": "stdout",
     "output_type": "stream",
     "text": [
      "Done.\n",
      "Searching for \"Inner City Blues (Make Me Wanna Holler)\" by Marvin Gaye...\n"
     ]
    },
    {
     "name": "stderr",
     "output_type": "stream",
     "text": [
      " 47%|███████████████████████████████                                   | 621/1322 [28:01<1:09:13,  5.92s/it]"
     ]
    },
    {
     "name": "stdout",
     "output_type": "stream",
     "text": [
      "Done.\n",
      "Searching for \"Inspiration Information\" by Shuggie Otis...\n"
     ]
    },
    {
     "name": "stderr",
     "output_type": "stream",
     "text": [
      " 47%|███████████████████████████████▉                                    | 622/1322 [28:03<54:35,  4.68s/it]"
     ]
    },
    {
     "name": "stdout",
     "output_type": "stream",
     "text": [
      "Done.\n",
      "Searching for \"Introduction\" by MJ Cole...\n"
     ]
    },
    {
     "name": "stderr",
     "output_type": "stream",
     "text": [
      " 47%|████████████████████████████████                                    | 623/1322 [28:04<42:57,  3.69s/it]"
     ]
    },
    {
     "name": "stdout",
     "output_type": "stream",
     "text": [
      "Done.\n",
      "Searching for \"Irene\" by Caetano Veloso...\n",
      "Searching for \"Irene\" by Caetano Veloso...\n"
     ]
    },
    {
     "name": "stderr",
     "output_type": "stream",
     "text": [
      " 47%|███████████████████████████████▏                                  | 624/1322 [28:13<1:02:12,  5.35s/it]"
     ]
    },
    {
     "name": "stdout",
     "output_type": "stream",
     "text": [
      "Done.\n",
      "Searching for \"Is There Any Love?\" by Trevor Dandy...\n"
     ]
    },
    {
     "name": "stderr",
     "output_type": "stream",
     "text": [
      " 47%|████████████████████████████████▏                                   | 625/1322 [28:16<51:53,  4.47s/it]"
     ]
    },
    {
     "name": "stdout",
     "output_type": "stream",
     "text": [
      "Done.\n",
      "Searching for \"It’s a Love Thing (Piano Invasion)\" by Head High...\n"
     ]
    },
    {
     "name": "stderr",
     "output_type": "stream",
     "text": [
      " 47%|████████████████████████████████▏                                   | 626/1322 [28:19<47:40,  4.11s/it]"
     ]
    },
    {
     "name": "stdout",
     "output_type": "stream",
     "text": [
      "Done.\n",
      "Searching for \"It’s Broken!\" by Bob Chance...\n"
     ]
    },
    {
     "name": "stderr",
     "output_type": "stream",
     "text": [
      " 47%|████████████████████████████████▎                                   | 627/1322 [28:22<43:22,  3.74s/it]"
     ]
    },
    {
     "name": "stdout",
     "output_type": "stream",
     "text": [
      "Done.\n",
      "Searching for \"It Was A Good Day - Remix;Edited\" by Ice Cube...\n",
      "No results found for: 'It Was A Good Day - Remix;Edited Ice Cube'\n",
      "Searching for \"It Was A Good Day - Remix;Edited\" by Ice Cube...\n",
      "No results found for: 'It Was A Good Day - Remix;Edited Ice Cube'\n",
      "Searching for \"It Was A Good Day - Remix;Edited\" by Ice Cube...\n",
      "No results found for: 'It Was A Good Day - Remix;Edited Ice Cube'\n",
      "Searching for \"It Was A Good Day - Remix;Edited\" by Ice Cube...\n",
      "No results found for: 'It Was A Good Day - Remix;Edited Ice Cube'\n",
      "Searching for \"It Was A Good Day - Remix;Edited\" by Ice Cube...\n"
     ]
    },
    {
     "name": "stderr",
     "output_type": "stream",
     "text": [
      " 48%|████████████████████████████████▎                                   | 628/1322 [28:24<38:09,  3.30s/it]"
     ]
    },
    {
     "name": "stdout",
     "output_type": "stream",
     "text": [
      "No results found for: 'It Was A Good Day - Remix;Edited Ice Cube'\n",
      "It Was A Good Day - Remix;Edited Ice Cube Not present in Genius\n",
      "Searching for \"It's Just Begun\" by The Jimmy Castor Bunch...\n"
     ]
    },
    {
     "name": "stderr",
     "output_type": "stream",
     "text": [
      " 48%|████████████████████████████████▎                                   | 629/1322 [28:30<47:53,  4.15s/it]"
     ]
    },
    {
     "name": "stdout",
     "output_type": "stream",
     "text": [
      "Done.\n",
      "Searching for \"It's My Thang\" by EPMD...\n"
     ]
    },
    {
     "name": "stderr",
     "output_type": "stream",
     "text": [
      " 48%|████████████████████████████████▍                                   | 630/1322 [28:37<55:27,  4.81s/it]"
     ]
    },
    {
     "name": "stdout",
     "output_type": "stream",
     "text": [
      "Done.\n",
      "Searching for \"It's Not Easy\" by Ofege...\n"
     ]
    },
    {
     "name": "stderr",
     "output_type": "stream",
     "text": [
      " 48%|████████████████████████████████▍                                   | 631/1322 [28:39<47:35,  4.13s/it]"
     ]
    },
    {
     "name": "stdout",
     "output_type": "stream",
     "text": [
      "Done.\n",
      "Searching for \"It's You\" by E.S.P....\n"
     ]
    },
    {
     "name": "stderr",
     "output_type": "stream",
     "text": [
      " 48%|████████████████████████████████▌                                   | 632/1322 [28:42<44:19,  3.85s/it]"
     ]
    },
    {
     "name": "stdout",
     "output_type": "stream",
     "text": [
      "Done.\n",
      "Searching for \"Jade's A Champ\" by Ms. Jade...\n"
     ]
    },
    {
     "name": "stderr",
     "output_type": "stream",
     "text": [
      " 48%|████████████████████████████████▌                                   | 633/1322 [28:45<39:45,  3.46s/it]"
     ]
    },
    {
     "name": "stdout",
     "output_type": "stream",
     "text": [
      "Done.\n",
      "Searching for \"Jam On Revenge (The Wikki Wikki Song)\" by Newcleus...\n"
     ]
    },
    {
     "name": "stderr",
     "output_type": "stream",
     "text": [
      " 48%|████████████████████████████████▌                                   | 634/1322 [28:49<42:47,  3.73s/it]"
     ]
    },
    {
     "name": "stdout",
     "output_type": "stream",
     "text": [
      "Done.\n",
      "Searching for \"jasmine - Demo\" by Jai Paul...\n"
     ]
    },
    {
     "name": "stderr",
     "output_type": "stream",
     "text": [
      " 48%|████████████████████████████████▋                                   | 635/1322 [28:51<36:47,  3.21s/it]"
     ]
    },
    {
     "name": "stdout",
     "output_type": "stream",
     "text": [
      "Done.\n",
      "Searching for \"JB's Edit\" by Theo Parrish...\n",
      "No results found for: 'JB's Edit Theo Parrish'\n",
      "Searching for \"JB's Edit\" by Theo Parrish...\n",
      "No results found for: 'JB's Edit Theo Parrish'\n",
      "Searching for \"JB's Edit\" by Theo Parrish...\n",
      "No results found for: 'JB's Edit Theo Parrish'\n",
      "Searching for \"JB's Edit\" by Theo Parrish...\n",
      "No results found for: 'JB's Edit Theo Parrish'\n",
      "Searching for \"JB's Edit\" by Theo Parrish...\n"
     ]
    },
    {
     "name": "stderr",
     "output_type": "stream",
     "text": [
      " 48%|████████████████████████████████▋                                   | 636/1322 [28:53<32:24,  2.83s/it]"
     ]
    },
    {
     "name": "stdout",
     "output_type": "stream",
     "text": [
      "No results found for: 'JB's Edit Theo Parrish'\n",
      "JB's Edit Theo Parrish Not present in Genius\n",
      "Searching for \"Jennifer - 2006 Digital Remaster\" by Faust...\n"
     ]
    },
    {
     "name": "stderr",
     "output_type": "stream",
     "text": [
      " 48%|████████████████████████████████▊                                   | 637/1322 [28:55<29:44,  2.60s/it]"
     ]
    },
    {
     "name": "stdout",
     "output_type": "stream",
     "text": [
      "Done.\n",
      "Searching for \"Jenny Ondioline\" by Stereolab...\n"
     ]
    },
    {
     "name": "stderr",
     "output_type": "stream",
     "text": [
      " 48%|████████████████████████████████▊                                   | 638/1322 [28:58<29:41,  2.60s/it]"
     ]
    },
    {
     "name": "stdout",
     "output_type": "stream",
     "text": [
      "Done.\n",
      "Searching for \"Jive Baby On A Saturday Night\" by The Jellies...\n"
     ]
    },
    {
     "name": "stderr",
     "output_type": "stream",
     "text": [
      " 48%|████████████████████████████████▊                                   | 639/1322 [29:02<34:07,  3.00s/it]"
     ]
    },
    {
     "name": "stdout",
     "output_type": "stream",
     "text": [
      "Done.\n",
      "Searching for \"Journey In Satchidananda\" by Alice Coltrane...\n",
      "Specified song does not contain lyrics. Rejecting.\n",
      "Searching for \"Journey In Satchidananda\" by Alice Coltrane...\n",
      "Specified song does not contain lyrics. Rejecting.\n",
      "Searching for \"Journey In Satchidananda\" by Alice Coltrane...\n",
      "Specified song does not contain lyrics. Rejecting.\n",
      "Searching for \"Journey In Satchidananda\" by Alice Coltrane...\n",
      "Specified song does not contain lyrics. Rejecting.\n",
      "Searching for \"Journey In Satchidananda\" by Alice Coltrane...\n"
     ]
    },
    {
     "name": "stderr",
     "output_type": "stream",
     "text": [
      " 48%|████████████████████████████████▉                                   | 640/1322 [29:04<31:26,  2.77s/it]"
     ]
    },
    {
     "name": "stdout",
     "output_type": "stream",
     "text": [
      "Specified song does not contain lyrics. Rejecting.\n",
      "Journey In Satchidananda Alice Coltrane Not present in Genius\n",
      "Searching for \"Juicy - 2005 Remaster\" by The Notorious B.I.G....\n"
     ]
    },
    {
     "name": "stderr",
     "output_type": "stream",
     "text": [
      " 48%|████████████████████████████████▉                                   | 641/1322 [29:06<28:37,  2.52s/it]"
     ]
    },
    {
     "name": "stdout",
     "output_type": "stream",
     "text": [
      "Done.\n",
      "Searching for \"Jump Over Barrels\" by Crash Course In Science...\n"
     ]
    },
    {
     "name": "stderr",
     "output_type": "stream",
     "text": [
      " 49%|█████████████████████████████████                                   | 642/1322 [29:08<28:35,  2.52s/it]"
     ]
    },
    {
     "name": "stdout",
     "output_type": "stream",
     "text": [
      "Done.\n",
      "Searching for \"Just Blaze, Bleek & Free\" by Memphis Bleek...\n"
     ]
    },
    {
     "name": "stderr",
     "output_type": "stream",
     "text": [
      " 49%|█████████████████████████████████                                   | 643/1322 [29:10<25:20,  2.24s/it]"
     ]
    },
    {
     "name": "stdout",
     "output_type": "stream",
     "text": [
      "Done.\n",
      "Searching for \"Karlı Dağlar\" by Erkin Koray...\n"
     ]
    },
    {
     "name": "stderr",
     "output_type": "stream",
     "text": [
      " 49%|█████████████████████████████████▏                                  | 644/1322 [29:13<27:02,  2.39s/it]"
     ]
    },
    {
     "name": "stdout",
     "output_type": "stream",
     "text": [
      "Done.\n",
      "Searching for \"Keleya - Alternate LP Version\" by Moussa Doumbia...\n",
      "No results found for: 'Keleya - Alternate LP Version Moussa Doumbia'\n",
      "Searching for \"Keleya - Alternate LP Version\" by Moussa Doumbia...\n",
      "No results found for: 'Keleya - Alternate LP Version Moussa Doumbia'\n",
      "Searching for \"Keleya - Alternate LP Version\" by Moussa Doumbia...\n",
      "No results found for: 'Keleya - Alternate LP Version Moussa Doumbia'\n",
      "Searching for \"Keleya - Alternate LP Version\" by Moussa Doumbia...\n",
      "No results found for: 'Keleya - Alternate LP Version Moussa Doumbia'\n",
      "Searching for \"Keleya - Alternate LP Version\" by Moussa Doumbia...\n"
     ]
    },
    {
     "name": "stderr",
     "output_type": "stream",
     "text": [
      " 49%|█████████████████████████████████▏                                  | 645/1322 [29:15<24:50,  2.20s/it]"
     ]
    },
    {
     "name": "stdout",
     "output_type": "stream",
     "text": [
      "No results found for: 'Keleya - Alternate LP Version Moussa Doumbia'\n",
      "Keleya - Alternate LP Version Moussa Doumbia Not present in Genius\n",
      "Searching for \"Key West\" by Kasso...\n",
      "Specified song does not contain lyrics. Rejecting.\n",
      "Searching for \"Key West\" by Kasso...\n",
      "Specified song does not contain lyrics. Rejecting.\n",
      "Searching for \"Key West\" by Kasso...\n",
      "Specified song does not contain lyrics. Rejecting.\n",
      "Searching for \"Key West\" by Kasso...\n",
      "Specified song does not contain lyrics. Rejecting.\n",
      "Searching for \"Key West\" by Kasso...\n"
     ]
    },
    {
     "name": "stderr",
     "output_type": "stream",
     "text": [
      " 49%|█████████████████████████████████▏                                  | 646/1322 [29:17<24:17,  2.16s/it]"
     ]
    },
    {
     "name": "stdout",
     "output_type": "stream",
     "text": [
      "Specified song does not contain lyrics. Rejecting.\n",
      "Key West Kasso Not present in Genius\n",
      "Searching for \"Kick In The Door\" by The Notorious B.I.G....\n"
     ]
    },
    {
     "name": "stderr",
     "output_type": "stream",
     "text": [
      " 49%|█████████████████████████████████▎                                  | 647/1322 [29:19<23:58,  2.13s/it]"
     ]
    },
    {
     "name": "stdout",
     "output_type": "stream",
     "text": [
      "Done.\n",
      "Searching for \"Kick Out The Jams (Original Uncensored Version)\" by MC5...\n"
     ]
    },
    {
     "name": "stderr",
     "output_type": "stream",
     "text": [
      " 49%|█████████████████████████████████▎                                  | 648/1322 [29:21<23:44,  2.11s/it]"
     ]
    },
    {
     "name": "stdout",
     "output_type": "stream",
     "text": [
      "Done.\n",
      "Searching for \"King in My Empire (with Cornel Campbell)\" by Rhythm & Sound...\n"
     ]
    },
    {
     "name": "stderr",
     "output_type": "stream",
     "text": [
      " 49%|█████████████████████████████████▍                                  | 649/1322 [29:24<27:12,  2.43s/it]"
     ]
    },
    {
     "name": "stdout",
     "output_type": "stream",
     "text": [
      "Done.\n",
      "Searching for \"King Tubby Meets The Rockers Uptown\" by Augustus Pablo...\n",
      "No results found for: 'King Tubby Meets The Rockers Uptown Augustus Pablo'\n",
      "Searching for \"King Tubby Meets The Rockers Uptown\" by Augustus Pablo...\n",
      "No results found for: 'King Tubby Meets The Rockers Uptown Augustus Pablo'\n",
      "Searching for \"King Tubby Meets The Rockers Uptown\" by Augustus Pablo...\n",
      "No results found for: 'King Tubby Meets The Rockers Uptown Augustus Pablo'\n",
      "Searching for \"King Tubby Meets The Rockers Uptown\" by Augustus Pablo...\n",
      "No results found for: 'King Tubby Meets The Rockers Uptown Augustus Pablo'\n",
      "Searching for \"King Tubby Meets The Rockers Uptown\" by Augustus Pablo...\n"
     ]
    },
    {
     "name": "stderr",
     "output_type": "stream",
     "text": [
      " 49%|█████████████████████████████████▍                                  | 650/1322 [29:26<25:09,  2.25s/it]"
     ]
    },
    {
     "name": "stdout",
     "output_type": "stream",
     "text": [
      "No results found for: 'King Tubby Meets The Rockers Uptown Augustus Pablo'\n",
      "King Tubby Meets The Rockers Uptown Augustus Pablo Not present in Genius\n",
      "Searching for \"King Tubby's Badness - Dub\" by King Tubby...\n",
      "No results found for: 'King Tubby's Badness - Dub King Tubby'\n",
      "Searching for \"King Tubby's Badness - Dub\" by King Tubby...\n",
      "No results found for: 'King Tubby's Badness - Dub King Tubby'\n",
      "Searching for \"King Tubby's Badness - Dub\" by King Tubby...\n",
      "No results found for: 'King Tubby's Badness - Dub King Tubby'\n",
      "Searching for \"King Tubby's Badness - Dub\" by King Tubby...\n",
      "No results found for: 'King Tubby's Badness - Dub King Tubby'\n",
      "Searching for \"King Tubby's Badness - Dub\" by King Tubby...\n"
     ]
    },
    {
     "name": "stderr",
     "output_type": "stream",
     "text": [
      " 49%|█████████████████████████████████▍                                  | 651/1322 [29:28<24:56,  2.23s/it]"
     ]
    },
    {
     "name": "stdout",
     "output_type": "stream",
     "text": [
      "No results found for: 'King Tubby's Badness - Dub King Tubby'\n",
      "King Tubby's Badness - Dub King Tubby Not present in Genius\n",
      "Searching for \"Kites Are Fun\" by The Free Design...\n"
     ]
    },
    {
     "name": "stderr",
     "output_type": "stream",
     "text": [
      " 49%|█████████████████████████████████▌                                  | 652/1322 [29:33<35:14,  3.16s/it]"
     ]
    },
    {
     "name": "stdout",
     "output_type": "stream",
     "text": [
      "Done.\n",
      "Searching for \"Kong\" by Kerri Chandler...\n"
     ]
    },
    {
     "name": "stderr",
     "output_type": "stream",
     "text": [
      " 49%|█████████████████████████████████▌                                  | 653/1322 [29:36<33:57,  3.05s/it]"
     ]
    },
    {
     "name": "stdout",
     "output_type": "stream",
     "text": [
      "Done.\n",
      "Searching for \"Kono Samourai\" by Yamasuki Singers...\n",
      "No results found for: 'Kono Samourai Yamasuki Singers'\n",
      "Searching for \"Kono Samourai\" by Yamasuki Singers...\n",
      "No results found for: 'Kono Samourai Yamasuki Singers'\n",
      "Searching for \"Kono Samourai\" by Yamasuki Singers...\n",
      "No results found for: 'Kono Samourai Yamasuki Singers'\n",
      "Searching for \"Kono Samourai\" by Yamasuki Singers...\n",
      "No results found for: 'Kono Samourai Yamasuki Singers'\n",
      "Searching for \"Kono Samourai\" by Yamasuki Singers...\n"
     ]
    },
    {
     "name": "stderr",
     "output_type": "stream",
     "text": [
      " 49%|█████████████████████████████████▋                                  | 654/1322 [29:38<29:35,  2.66s/it]"
     ]
    },
    {
     "name": "stdout",
     "output_type": "stream",
     "text": [
      "No results found for: 'Kono Samourai Yamasuki Singers'\n",
      "Kono Samourai Yamasuki Singers Not present in Genius\n",
      "Searching for \"Korô Dia (à Mamaye Dramé L'inoubliable)\" by Nahawa Doumbia...\n",
      "No results found for: 'Korô Dia (à Mamaye Dramé L'inoubliable) Nahawa Doumbia'\n",
      "Searching for \"Korô Dia (à Mamaye Dramé L'inoubliable)\" by Nahawa Doumbia...\n",
      "No results found for: 'Korô Dia (à Mamaye Dramé L'inoubliable) Nahawa Doumbia'\n",
      "Searching for \"Korô Dia (à Mamaye Dramé L'inoubliable)\" by Nahawa Doumbia...\n",
      "No results found for: 'Korô Dia (à Mamaye Dramé L'inoubliable) Nahawa Doumbia'\n",
      "Searching for \"Korô Dia (à Mamaye Dramé L'inoubliable)\" by Nahawa Doumbia...\n",
      "No results found for: 'Korô Dia (à Mamaye Dramé L'inoubliable) Nahawa Doumbia'\n",
      "Searching for \"Korô Dia (à Mamaye Dramé L'inoubliable)\" by Nahawa Doumbia...\n"
     ]
    },
    {
     "name": "stderr",
     "output_type": "stream",
     "text": [
      " 50%|█████████████████████████████████▋                                  | 655/1322 [29:39<26:29,  2.38s/it]"
     ]
    },
    {
     "name": "stdout",
     "output_type": "stream",
     "text": [
      "No results found for: 'Korô Dia (à Mamaye Dramé L'inoubliable) Nahawa Doumbia'\n",
      "Korô Dia (à Mamaye Dramé L'inoubliable) Nahawa Doumbia Not present in Genius\n",
      "Searching for \"Krautrock\" by Faust...\n",
      "Specified song does not contain lyrics. Rejecting.\n",
      "Searching for \"Krautrock\" by Faust...\n",
      "Specified song does not contain lyrics. Rejecting.\n",
      "Searching for \"Krautrock\" by Faust...\n",
      "Specified song does not contain lyrics. Rejecting.\n",
      "Searching for \"Krautrock\" by Faust...\n",
      "Specified song does not contain lyrics. Rejecting.\n",
      "Searching for \"Krautrock\" by Faust...\n"
     ]
    },
    {
     "name": "stderr",
     "output_type": "stream",
     "text": [
      " 50%|█████████████████████████████████▋                                  | 656/1322 [29:42<26:23,  2.38s/it]"
     ]
    },
    {
     "name": "stdout",
     "output_type": "stream",
     "text": [
      "Specified song does not contain lyrics. Rejecting.\n",
      "Krautrock Faust Not present in Genius\n",
      "Searching for \"Kulu Sé Mama (Juno Sé Mama)\" by John Coltrane...\n",
      "No results found for: 'Kulu Sé Mama (Juno Sé Mama) John Coltrane'\n",
      "Searching for \"Kulu Sé Mama (Juno Sé Mama)\" by John Coltrane...\n",
      "No results found for: 'Kulu Sé Mama (Juno Sé Mama) John Coltrane'\n",
      "Searching for \"Kulu Sé Mama (Juno Sé Mama)\" by John Coltrane...\n",
      "No results found for: 'Kulu Sé Mama (Juno Sé Mama) John Coltrane'\n",
      "Searching for \"Kulu Sé Mama (Juno Sé Mama)\" by John Coltrane...\n",
      "No results found for: 'Kulu Sé Mama (Juno Sé Mama) John Coltrane'\n",
      "Searching for \"Kulu Sé Mama (Juno Sé Mama)\" by John Coltrane...\n"
     ]
    },
    {
     "name": "stderr",
     "output_type": "stream",
     "text": [
      " 50%|█████████████████████████████████▊                                  | 657/1322 [29:44<25:02,  2.26s/it]"
     ]
    },
    {
     "name": "stdout",
     "output_type": "stream",
     "text": [
      "No results found for: 'Kulu Sé Mama (Juno Sé Mama) John Coltrane'\n",
      "Kulu Sé Mama (Juno Sé Mama) John Coltrane Not present in Genius\n",
      "Searching for \"La voix psychédélique\" by Emmanuel Brun...\n",
      "No results found for: 'La voix psychédélique Emmanuel Brun'\n",
      "Searching for \"La voix psychédélique\" by Emmanuel Brun...\n",
      "No results found for: 'La voix psychédélique Emmanuel Brun'\n",
      "Searching for \"La voix psychédélique\" by Emmanuel Brun...\n",
      "No results found for: 'La voix psychédélique Emmanuel Brun'\n",
      "Searching for \"La voix psychédélique\" by Emmanuel Brun...\n",
      "No results found for: 'La voix psychédélique Emmanuel Brun'\n",
      "Searching for \"La voix psychédélique\" by Emmanuel Brun...\n"
     ]
    },
    {
     "name": "stderr",
     "output_type": "stream",
     "text": [
      " 50%|█████████████████████████████████▊                                  | 658/1322 [29:46<23:17,  2.10s/it]"
     ]
    },
    {
     "name": "stdout",
     "output_type": "stream",
     "text": [
      "No results found for: 'La voix psychédélique Emmanuel Brun'\n",
      "La voix psychédélique Emmanuel Brun Not present in Genius\n",
      "Searching for \"Lalune Blanche\" by Steve Davis...\n"
     ]
    },
    {
     "name": "stderr",
     "output_type": "stream",
     "text": [
      " 50%|█████████████████████████████████▉                                  | 659/1322 [29:49<28:42,  2.60s/it]"
     ]
    },
    {
     "name": "stdout",
     "output_type": "stream",
     "text": [
      "Done.\n",
      "Searching for \"Lansana's Priestess\" by Donald Byrd...\n"
     ]
    },
    {
     "name": "stderr",
     "output_type": "stream",
     "text": [
      " 50%|█████████████████████████████████▉                                  | 660/1322 [29:51<26:37,  2.41s/it]"
     ]
    },
    {
     "name": "stdout",
     "output_type": "stream",
     "text": [
      "Done.\n",
      "Searching for \"Last Ride Of The Boogie Child\" by Tim Blake - Crystal Machine...\n",
      "No results found for: 'Last Ride Of The Boogie Child Tim Blake - Crystal Machine'\n",
      "Searching for \"Last Ride Of The Boogie Child\" by Tim Blake - Crystal Machine...\n",
      "No results found for: 'Last Ride Of The Boogie Child Tim Blake - Crystal Machine'\n",
      "Searching for \"Last Ride Of The Boogie Child\" by Tim Blake - Crystal Machine...\n",
      "No results found for: 'Last Ride Of The Boogie Child Tim Blake - Crystal Machine'\n",
      "Searching for \"Last Ride Of The Boogie Child\" by Tim Blake - Crystal Machine...\n",
      "No results found for: 'Last Ride Of The Boogie Child Tim Blake - Crystal Machine'\n",
      "Searching for \"Last Ride Of The Boogie Child\" by Tim Blake - Crystal Machine...\n"
     ]
    },
    {
     "name": "stderr",
     "output_type": "stream",
     "text": [
      " 50%|██████████████████████████████████                                  | 661/1322 [29:53<24:25,  2.22s/it]"
     ]
    },
    {
     "name": "stdout",
     "output_type": "stream",
     "text": [
      "No results found for: 'Last Ride Of The Boogie Child Tim Blake - Crystal Machine'\n",
      "Last Ride Of The Boogie Child Tim Blake - Crystal Machine Not present in Genius\n",
      "Searching for \"Lateral Pass: IV. Song IV (quintet)\" by Peter Zummo...\n",
      "No results found for: 'Lateral Pass: IV. Song IV (quintet) Peter Zummo'\n",
      "Searching for \"Lateral Pass: IV. Song IV (quintet)\" by Peter Zummo...\n",
      "No results found for: 'Lateral Pass: IV. Song IV (quintet) Peter Zummo'\n",
      "Searching for \"Lateral Pass: IV. Song IV (quintet)\" by Peter Zummo...\n",
      "No results found for: 'Lateral Pass: IV. Song IV (quintet) Peter Zummo'\n",
      "Searching for \"Lateral Pass: IV. Song IV (quintet)\" by Peter Zummo...\n",
      "No results found for: 'Lateral Pass: IV. Song IV (quintet) Peter Zummo'\n",
      "Searching for \"Lateral Pass: IV. Song IV (quintet)\" by Peter Zummo...\n"
     ]
    },
    {
     "name": "stderr",
     "output_type": "stream",
     "text": [
      " 50%|██████████████████████████████████                                  | 662/1322 [29:55<23:45,  2.16s/it]"
     ]
    },
    {
     "name": "stdout",
     "output_type": "stream",
     "text": [
      "No results found for: 'Lateral Pass: IV. Song IV (quintet) Peter Zummo'\n",
      "Lateral Pass: IV. Song IV (quintet) Peter Zummo Not present in Genius\n",
      "Searching for \"Lay Lady Lay\" by David T. Walker...\n"
     ]
    },
    {
     "name": "stderr",
     "output_type": "stream",
     "text": [
      " 50%|██████████████████████████████████                                  | 663/1322 [29:58<27:21,  2.49s/it]"
     ]
    },
    {
     "name": "stdout",
     "output_type": "stream",
     "text": [
      "Done.\n",
      "Searching for \"Let It Happen\" by Vangelis...\n"
     ]
    },
    {
     "name": "stderr",
     "output_type": "stream",
     "text": [
      " 50%|██████████████████████████████████▏                                 | 664/1322 [30:01<27:56,  2.55s/it]"
     ]
    },
    {
     "name": "stdout",
     "output_type": "stream",
     "text": [
      "Done.\n",
      "Searching for \"Let Me Be Me\" by The Other People Place...\n"
     ]
    },
    {
     "name": "stderr",
     "output_type": "stream",
     "text": [
      " 50%|██████████████████████████████████▏                                 | 665/1322 [30:04<30:01,  2.74s/it]"
     ]
    },
    {
     "name": "stdout",
     "output_type": "stream",
     "text": [
      "Done.\n",
      "Searching for \"Let Me Love You [Andy Daniell Edit]\" by Bunny Mack...\n"
     ]
    },
    {
     "name": "stderr",
     "output_type": "stream",
     "text": [
      " 50%|██████████████████████████████████▎                                 | 666/1322 [30:06<28:17,  2.59s/it]"
     ]
    },
    {
     "name": "stdout",
     "output_type": "stream",
     "text": [
      "Done.\n",
      "Searching for \"Let the Sun Shine In\" by Sons And Daughters Of Lite...\n"
     ]
    },
    {
     "name": "stderr",
     "output_type": "stream",
     "text": [
      " 50%|██████████████████████████████████▎                                 | 667/1322 [30:10<30:13,  2.77s/it]"
     ]
    },
    {
     "name": "stdout",
     "output_type": "stream",
     "text": [
      "Done.\n",
      "Searching for \"Let's Fall in Love\" by William Onyeabor...\n"
     ]
    },
    {
     "name": "stderr",
     "output_type": "stream",
     "text": [
      " 51%|██████████████████████████████████▎                                 | 668/1322 [30:13<30:39,  2.81s/it]"
     ]
    },
    {
     "name": "stdout",
     "output_type": "stream",
     "text": [
      "Done.\n",
      "Searching for \"Lightworks\" by J Dilla...\n"
     ]
    },
    {
     "name": "stderr",
     "output_type": "stream",
     "text": [
      " 51%|██████████████████████████████████▍                                 | 669/1322 [30:14<26:55,  2.47s/it]"
     ]
    },
    {
     "name": "stdout",
     "output_type": "stream",
     "text": [
      "Done.\n",
      "Searching for \"Lishonile\" by Batsumi...\n"
     ]
    },
    {
     "name": "stderr",
     "output_type": "stream",
     "text": [
      " 51%|██████████████████████████████████▍                                 | 670/1322 [30:16<25:23,  2.34s/it]"
     ]
    },
    {
     "name": "stdout",
     "output_type": "stream",
     "text": [
      "Done.\n",
      "Searching for \"Little Wing\" by Jimi Hendrix...\n"
     ]
    },
    {
     "name": "stderr",
     "output_type": "stream",
     "text": [
      " 51%|██████████████████████████████████▌                                 | 671/1322 [30:18<23:37,  2.18s/it]"
     ]
    },
    {
     "name": "stdout",
     "output_type": "stream",
     "text": [
      "Done.\n",
      "Searching for \"Livin' Proof\" by Group Home...\n"
     ]
    },
    {
     "name": "stderr",
     "output_type": "stream",
     "text": [
      " 51%|██████████████████████████████████▌                                 | 672/1322 [30:20<24:22,  2.25s/it]"
     ]
    },
    {
     "name": "stdout",
     "output_type": "stream",
     "text": [
      "Done.\n",
      "Searching for \"Lonely Woman\" by Ornette Coleman...\n",
      "Specified song does not contain lyrics. Rejecting.\n",
      "Searching for \"Lonely Woman\" by Ornette Coleman...\n",
      "Specified song does not contain lyrics. Rejecting.\n",
      "Searching for \"Lonely Woman\" by Ornette Coleman...\n",
      "Specified song does not contain lyrics. Rejecting.\n",
      "Searching for \"Lonely Woman\" by Ornette Coleman...\n",
      "Specified song does not contain lyrics. Rejecting.\n",
      "Searching for \"Lonely Woman\" by Ornette Coleman...\n"
     ]
    },
    {
     "name": "stderr",
     "output_type": "stream",
     "text": [
      " 51%|██████████████████████████████████▌                                 | 673/1322 [30:23<23:59,  2.22s/it]"
     ]
    },
    {
     "name": "stdout",
     "output_type": "stream",
     "text": [
      "Specified song does not contain lyrics. Rejecting.\n",
      "Lonely Woman Ornette Coleman Not present in Genius\n",
      "Searching for \"Lose My Breath\" by my bloody valentine...\n"
     ]
    },
    {
     "name": "stderr",
     "output_type": "stream",
     "text": [
      " 51%|██████████████████████████████████▋                                 | 674/1322 [30:25<26:02,  2.41s/it]"
     ]
    },
    {
     "name": "stdout",
     "output_type": "stream",
     "text": [
      "Done.\n",
      "Searching for \"Lost in the Crowd\" by Billy Byrd...\n"
     ]
    },
    {
     "name": "stderr",
     "output_type": "stream",
     "text": [
      " 51%|██████████████████████████████████▋                                 | 675/1322 [30:30<31:52,  2.96s/it]"
     ]
    },
    {
     "name": "stdout",
     "output_type": "stream",
     "text": [
      "Done.\n",
      "Searching for \"Lost In The Paradise\" by Caetano Veloso...\n"
     ]
    },
    {
     "name": "stderr",
     "output_type": "stream",
     "text": [
      " 51%|██████████████████████████████████▊                                 | 676/1322 [30:32<29:41,  2.76s/it]"
     ]
    },
    {
     "name": "stdout",
     "output_type": "stream",
     "text": [
      "Done.\n",
      "Searching for \"Loud, Loud, Loud\" by Aphrodite's Child...\n"
     ]
    },
    {
     "name": "stderr",
     "output_type": "stream",
     "text": [
      " 51%|██████████████████████████████████▊                                 | 677/1322 [30:34<27:51,  2.59s/it]"
     ]
    },
    {
     "name": "stdout",
     "output_type": "stream",
     "text": [
      "Done.\n",
      "Searching for \"Love, Love, Love\" by Pugh Rogefeldt...\n"
     ]
    },
    {
     "name": "stderr",
     "output_type": "stream",
     "text": [
      " 51%|██████████████████████████████████▊                                 | 678/1322 [30:37<27:07,  2.53s/it]"
     ]
    },
    {
     "name": "stdout",
     "output_type": "stream",
     "text": [
      "Done.\n",
      "Searching for \"Low Class Conspiracy\" by Quasimoto...\n"
     ]
    },
    {
     "name": "stderr",
     "output_type": "stream",
     "text": [
      " 51%|██████████████████████████████████▉                                 | 679/1322 [30:40<29:28,  2.75s/it]"
     ]
    },
    {
     "name": "stdout",
     "output_type": "stream",
     "text": [
      "Done.\n",
      "Searching for \"Lowdown\" by Boz Scaggs...\n"
     ]
    },
    {
     "name": "stderr",
     "output_type": "stream",
     "text": [
      " 51%|██████████████████████████████████▉                                 | 680/1322 [30:43<32:16,  3.02s/it]"
     ]
    },
    {
     "name": "stdout",
     "output_type": "stream",
     "text": [
      "Done.\n",
      "Searching for \"Luchini Aka This Is It\" by Camp Lo...\n"
     ]
    },
    {
     "name": "stderr",
     "output_type": "stream",
     "text": [
      " 52%|███████████████████████████████████                                 | 681/1322 [30:49<40:30,  3.79s/it]"
     ]
    },
    {
     "name": "stdout",
     "output_type": "stream",
     "text": [
      "Done.\n",
      "Searching for \"Lucinda\" by A Certain Ratio...\n"
     ]
    },
    {
     "name": "stderr",
     "output_type": "stream",
     "text": [
      " 52%|███████████████████████████████████                                 | 682/1322 [30:51<34:11,  3.21s/it]"
     ]
    },
    {
     "name": "stdout",
     "output_type": "stream",
     "text": [
      "Done.\n",
      "Searching for \"Luck of Lucien\" by A Tribe Called Quest...\n"
     ]
    },
    {
     "name": "stderr",
     "output_type": "stream",
     "text": [
      " 52%|███████████████████████████████████▏                                | 683/1322 [30:53<31:25,  2.95s/it]"
     ]
    },
    {
     "name": "stdout",
     "output_type": "stream",
     "text": [
      "Done.\n",
      "Searching for \"Lundi matin\" by Philippe Besombes...\n"
     ]
    },
    {
     "name": "stderr",
     "output_type": "stream",
     "text": [
      " 52%|███████████████████████████████████▏                                | 684/1322 [30:57<35:08,  3.30s/it]"
     ]
    },
    {
     "name": "stdout",
     "output_type": "stream",
     "text": [
      "Done.\n",
      "Searching for \"Lung Tung Wai\" by Chaweewan Dumnern...\n",
      "No results found for: 'Lung Tung Wai Chaweewan Dumnern'\n",
      "Searching for \"Lung Tung Wai\" by Chaweewan Dumnern...\n",
      "No results found for: 'Lung Tung Wai Chaweewan Dumnern'\n",
      "Searching for \"Lung Tung Wai\" by Chaweewan Dumnern...\n",
      "No results found for: 'Lung Tung Wai Chaweewan Dumnern'\n",
      "Searching for \"Lung Tung Wai\" by Chaweewan Dumnern...\n",
      "No results found for: 'Lung Tung Wai Chaweewan Dumnern'\n",
      "Searching for \"Lung Tung Wai\" by Chaweewan Dumnern...\n"
     ]
    },
    {
     "name": "stderr",
     "output_type": "stream",
     "text": [
      " 52%|███████████████████████████████████▏                                | 685/1322 [30:59<30:41,  2.89s/it]"
     ]
    },
    {
     "name": "stdout",
     "output_type": "stream",
     "text": [
      "No results found for: 'Lung Tung Wai Chaweewan Dumnern'\n",
      "Lung Tung Wai Chaweewan Dumnern Not present in Genius\n",
      "Searching for \"Lupita\" by Nico Gomez And His Afro Percussion Inc....\n",
      "No results found for: 'Lupita Nico Gomez And His Afro Percussion Inc.'\n",
      "Searching for \"Lupita\" by Nico Gomez And His Afro Percussion Inc....\n",
      "No results found for: 'Lupita Nico Gomez And His Afro Percussion Inc.'\n",
      "Searching for \"Lupita\" by Nico Gomez And His Afro Percussion Inc....\n",
      "No results found for: 'Lupita Nico Gomez And His Afro Percussion Inc.'\n",
      "Searching for \"Lupita\" by Nico Gomez And His Afro Percussion Inc....\n",
      "No results found for: 'Lupita Nico Gomez And His Afro Percussion Inc.'\n",
      "Searching for \"Lupita\" by Nico Gomez And His Afro Percussion Inc....\n"
     ]
    },
    {
     "name": "stderr",
     "output_type": "stream",
     "text": [
      " 52%|███████████████████████████████████▎                                | 686/1322 [31:01<27:00,  2.55s/it]"
     ]
    },
    {
     "name": "stdout",
     "output_type": "stream",
     "text": [
      "No results found for: 'Lupita Nico Gomez And His Afro Percussion Inc.'\n",
      "Lupita Nico Gomez And His Afro Percussion Inc. Not present in Genius\n",
      "Searching for \"Mad Disrespect\" by Anthony Naples...\n"
     ]
    },
    {
     "name": "stderr",
     "output_type": "stream",
     "text": [
      " 52%|███████████████████████████████████▎                                | 687/1322 [31:05<31:29,  2.98s/it]"
     ]
    },
    {
     "name": "stdout",
     "output_type": "stream",
     "text": [
      "Done.\n",
      "Searching for \"Made You Look\" by Nas...\n"
     ]
    },
    {
     "name": "stderr",
     "output_type": "stream",
     "text": [
      " 52%|███████████████████████████████████▍                                | 688/1322 [31:07<28:33,  2.70s/it]"
     ]
    },
    {
     "name": "stdout",
     "output_type": "stream",
     "text": [
      "Done.\n",
      "Searching for \"Make Love\" by Daft Punk...\n"
     ]
    },
    {
     "name": "stderr",
     "output_type": "stream",
     "text": [
      " 52%|███████████████████████████████████▍                                | 689/1322 [31:09<26:29,  2.51s/it]"
     ]
    },
    {
     "name": "stdout",
     "output_type": "stream",
     "text": [
      "Done.\n",
      "Searching for \"Mali Cèbalenw\" by Rail Band...\n",
      "No results found for: 'Mali Cèbalenw Rail Band'\n",
      "Searching for \"Mali Cèbalenw\" by Rail Band...\n",
      "No results found for: 'Mali Cèbalenw Rail Band'\n",
      "Searching for \"Mali Cèbalenw\" by Rail Band...\n",
      "No results found for: 'Mali Cèbalenw Rail Band'\n",
      "Searching for \"Mali Cèbalenw\" by Rail Band...\n",
      "No results found for: 'Mali Cèbalenw Rail Band'\n",
      "Searching for \"Mali Cèbalenw\" by Rail Band...\n"
     ]
    },
    {
     "name": "stderr",
     "output_type": "stream",
     "text": [
      " 52%|███████████████████████████████████▍                                | 690/1322 [31:11<25:36,  2.43s/it]"
     ]
    },
    {
     "name": "stdout",
     "output_type": "stream",
     "text": [
      "No results found for: 'Mali Cèbalenw Rail Band'\n",
      "Mali Cèbalenw Rail Band Not present in Genius\n",
      "Searching for \"Mansou Djouwi\" by Houn Pierre...\n",
      "No results found for: 'Mansou Djouwi Houn Pierre'\n",
      "Searching for \"Mansou Djouwi\" by Houn Pierre...\n",
      "No results found for: 'Mansou Djouwi Houn Pierre'\n",
      "Searching for \"Mansou Djouwi\" by Houn Pierre...\n",
      "No results found for: 'Mansou Djouwi Houn Pierre'\n",
      "Searching for \"Mansou Djouwi\" by Houn Pierre...\n",
      "No results found for: 'Mansou Djouwi Houn Pierre'\n",
      "Searching for \"Mansou Djouwi\" by Houn Pierre...\n"
     ]
    },
    {
     "name": "stderr",
     "output_type": "stream",
     "text": [
      " 52%|███████████████████████████████████▌                                | 691/1322 [31:13<23:27,  2.23s/it]"
     ]
    },
    {
     "name": "stdout",
     "output_type": "stream",
     "text": [
      "No results found for: 'Mansou Djouwi Houn Pierre'\n",
      "Mansou Djouwi Houn Pierre Not present in Genius\n",
      "Searching for \"Manzara\" by Soseme Makonde...\n",
      "No results found for: 'Manzara Soseme Makonde'\n",
      "Searching for \"Manzara\" by Soseme Makonde...\n",
      "No results found for: 'Manzara Soseme Makonde'\n",
      "Searching for \"Manzara\" by Soseme Makonde...\n",
      "No results found for: 'Manzara Soseme Makonde'\n",
      "Searching for \"Manzara\" by Soseme Makonde...\n",
      "No results found for: 'Manzara Soseme Makonde'\n",
      "Searching for \"Manzara\" by Soseme Makonde...\n"
     ]
    },
    {
     "name": "stderr",
     "output_type": "stream",
     "text": [
      " 52%|███████████████████████████████████▌                                | 692/1322 [31:15<22:20,  2.13s/it]"
     ]
    },
    {
     "name": "stdout",
     "output_type": "stream",
     "text": [
      "No results found for: 'Manzara Soseme Makonde'\n",
      "Manzara Soseme Makonde Not present in Genius\n",
      "Searching for \"Masikulu Dub\" by Mark Ernestus...\n"
     ]
    },
    {
     "name": "stderr",
     "output_type": "stream",
     "text": [
      " 52%|███████████████████████████████████▋                                | 693/1322 [31:19<26:30,  2.53s/it]"
     ]
    },
    {
     "name": "stdout",
     "output_type": "stream",
     "text": [
      "Done.\n",
      "Searching for \"Mass Appeal\" by Gang Starr...\n"
     ]
    },
    {
     "name": "stderr",
     "output_type": "stream",
     "text": [
      " 52%|███████████████████████████████████▋                                | 694/1322 [31:24<35:54,  3.43s/it]"
     ]
    },
    {
     "name": "stdout",
     "output_type": "stream",
     "text": [
      "Done.\n",
      "Searching for \"Materialize\" by Scientist...\n"
     ]
    },
    {
     "name": "stderr",
     "output_type": "stream",
     "text": [
      " 53%|███████████████████████████████████▋                                | 695/1322 [31:26<32:16,  3.09s/it]"
     ]
    },
    {
     "name": "stdout",
     "output_type": "stream",
     "text": [
      "Done.\n",
      "Searching for \"Mawethu\" by Amampondo...\n",
      "No results found for: 'Mawethu Amampondo'\n",
      "Searching for \"Mawethu\" by Amampondo...\n",
      "No results found for: 'Mawethu Amampondo'\n",
      "Searching for \"Mawethu\" by Amampondo...\n",
      "No results found for: 'Mawethu Amampondo'\n",
      "Searching for \"Mawethu\" by Amampondo...\n",
      "No results found for: 'Mawethu Amampondo'\n",
      "Searching for \"Mawethu\" by Amampondo...\n"
     ]
    },
    {
     "name": "stderr",
     "output_type": "stream",
     "text": [
      " 53%|███████████████████████████████████▊                                | 696/1322 [31:28<28:35,  2.74s/it]"
     ]
    },
    {
     "name": "stdout",
     "output_type": "stream",
     "text": [
      "No results found for: 'Mawethu Amampondo'\n",
      "Mawethu Amampondo Not present in Genius\n",
      "Searching for \"Mbeuguel Dafa Nekh (with Mbene Diatta Seck)\" by Jeri-Jeri...\n",
      "No results found for: 'Mbeuguel Dafa Nekh (with Mbene Diatta Seck) Jeri-Jeri'\n",
      "Searching for \"Mbeuguel Dafa Nekh (with Mbene Diatta Seck)\" by Jeri-Jeri...\n",
      "No results found for: 'Mbeuguel Dafa Nekh (with Mbene Diatta Seck) Jeri-Jeri'\n",
      "Searching for \"Mbeuguel Dafa Nekh (with Mbene Diatta Seck)\" by Jeri-Jeri...\n",
      "No results found for: 'Mbeuguel Dafa Nekh (with Mbene Diatta Seck) Jeri-Jeri'\n",
      "Searching for \"Mbeuguel Dafa Nekh (with Mbene Diatta Seck)\" by Jeri-Jeri...\n",
      "No results found for: 'Mbeuguel Dafa Nekh (with Mbene Diatta Seck) Jeri-Jeri'\n",
      "Searching for \"Mbeuguel Dafa Nekh (with Mbene Diatta Seck)\" by Jeri-Jeri...\n"
     ]
    },
    {
     "name": "stderr",
     "output_type": "stream",
     "text": [
      " 53%|███████████████████████████████████▊                                | 697/1322 [31:30<25:17,  2.43s/it]"
     ]
    },
    {
     "name": "stdout",
     "output_type": "stream",
     "text": [
      "No results found for: 'Mbeuguel Dafa Nekh (with Mbene Diatta Seck) Jeri-Jeri'\n",
      "Mbeuguel Dafa Nekh (with Mbene Diatta Seck) Jeri-Jeri Not present in Genius\n",
      "Searching for \"Mbira\" by Kevin Volans...\n"
     ]
    },
    {
     "name": "stderr",
     "output_type": "stream",
     "text": [
      " 53%|███████████████████████████████████▉                                | 698/1322 [31:33<28:27,  2.74s/it]"
     ]
    },
    {
     "name": "stdout",
     "output_type": "stream",
     "text": [
      "Done.\n",
      "Searching for \"Meant For You - Remastered 2001\" by The Beach Boys...\n"
     ]
    },
    {
     "name": "stderr",
     "output_type": "stream",
     "text": [
      " 53%|███████████████████████████████████▉                                | 699/1322 [31:37<32:17,  3.11s/it]"
     ]
    },
    {
     "name": "stdout",
     "output_type": "stream",
     "text": [
      "Done.\n",
      "Searching for \"Meat Grinder\" by Madvillain...\n"
     ]
    },
    {
     "name": "stderr",
     "output_type": "stream",
     "text": [
      " 53%|████████████████████████████████████                                | 700/1322 [31:42<35:25,  3.42s/it]"
     ]
    },
    {
     "name": "stdout",
     "output_type": "stream",
     "text": [
      "Done.\n",
      "Searching for \"Megatrap (Mix Mix)\" by Head High...\n"
     ]
    },
    {
     "name": "stderr",
     "output_type": "stream",
     "text": [
      " 53%|████████████████████████████████████                                | 701/1322 [31:49<46:41,  4.51s/it]"
     ]
    },
    {
     "name": "stdout",
     "output_type": "stream",
     "text": [
      "Done.\n",
      "Searching for \"Mellow - From The Deep Mix\" by Wayne Gardiner Pres Classic Man...\n",
      "No results found for: 'Mellow - From The Deep Mix Wayne Gardiner Pres Classic Man'\n",
      "Searching for \"Mellow - From The Deep Mix\" by Wayne Gardiner Pres Classic Man...\n",
      "No results found for: 'Mellow - From The Deep Mix Wayne Gardiner Pres Classic Man'\n",
      "Searching for \"Mellow - From The Deep Mix\" by Wayne Gardiner Pres Classic Man...\n",
      "No results found for: 'Mellow - From The Deep Mix Wayne Gardiner Pres Classic Man'\n",
      "Searching for \"Mellow - From The Deep Mix\" by Wayne Gardiner Pres Classic Man...\n",
      "No results found for: 'Mellow - From The Deep Mix Wayne Gardiner Pres Classic Man'\n",
      "Searching for \"Mellow - From The Deep Mix\" by Wayne Gardiner Pres Classic Man...\n"
     ]
    },
    {
     "name": "stderr",
     "output_type": "stream",
     "text": [
      " 53%|████████████████████████████████████                                | 702/1322 [31:51<39:12,  3.79s/it]"
     ]
    },
    {
     "name": "stdout",
     "output_type": "stream",
     "text": [
      "No results found for: 'Mellow - From The Deep Mix Wayne Gardiner Pres Classic Man'\n",
      "Mellow - From The Deep Mix Wayne Gardiner Pres Classic Man Not present in Genius\n",
      "Searching for \"Melô Dos Dois Bicudos\" by Azymuth...\n",
      "No results found for: 'Melô Dos Dois Bicudos Azymuth'\n",
      "Searching for \"Melô Dos Dois Bicudos\" by Azymuth...\n",
      "No results found for: 'Melô Dos Dois Bicudos Azymuth'\n",
      "Searching for \"Melô Dos Dois Bicudos\" by Azymuth...\n",
      "No results found for: 'Melô Dos Dois Bicudos Azymuth'\n",
      "Searching for \"Melô Dos Dois Bicudos\" by Azymuth...\n",
      "No results found for: 'Melô Dos Dois Bicudos Azymuth'\n",
      "Searching for \"Melô Dos Dois Bicudos\" by Azymuth...\n"
     ]
    },
    {
     "name": "stderr",
     "output_type": "stream",
     "text": [
      " 53%|████████████████████████████████████▏                               | 703/1322 [31:53<33:42,  3.27s/it]"
     ]
    },
    {
     "name": "stdout",
     "output_type": "stream",
     "text": [
      "No results found for: 'Melô Dos Dois Bicudos Azymuth'\n",
      "Melô Dos Dois Bicudos Azymuth Not present in Genius\n",
      "Searching for \"Melted Soul\" by Cha Cha Shaw...\n"
     ]
    },
    {
     "name": "stderr",
     "output_type": "stream",
     "text": [
      " 53%|████████████████████████████████████▏                               | 704/1322 [31:57<36:26,  3.54s/it]"
     ]
    },
    {
     "name": "stdout",
     "output_type": "stream",
     "text": [
      "Done.\n",
      "Searching for \"Message 18.10.77\" by Ariel Kalma...\n",
      "No results found for: 'Message 18.10.77 Ariel Kalma'\n",
      "Searching for \"Message 18.10.77\" by Ariel Kalma...\n",
      "No results found for: 'Message 18.10.77 Ariel Kalma'\n",
      "Searching for \"Message 18.10.77\" by Ariel Kalma...\n",
      "No results found for: 'Message 18.10.77 Ariel Kalma'\n",
      "Searching for \"Message 18.10.77\" by Ariel Kalma...\n",
      "No results found for: 'Message 18.10.77 Ariel Kalma'\n",
      "Searching for \"Message 18.10.77\" by Ariel Kalma...\n"
     ]
    },
    {
     "name": "stderr",
     "output_type": "stream",
     "text": [
      " 53%|████████████████████████████████████▎                               | 705/1322 [31:59<31:34,  3.07s/it]"
     ]
    },
    {
     "name": "stdout",
     "output_type": "stream",
     "text": [
      "No results found for: 'Message 18.10.77 Ariel Kalma'\n",
      "Message 18.10.77 Ariel Kalma Not present in Genius\n",
      "Searching for \"Midnight Bustling - Francois Kevorkian Dub\" by 3 Generations Walking...\n",
      "No results found for: 'Midnight Bustling - Francois Kevorkian Dub 3 Generations Walking'\n",
      "Searching for \"Midnight Bustling - Francois Kevorkian Dub\" by 3 Generations Walking...\n",
      "No results found for: 'Midnight Bustling - Francois Kevorkian Dub 3 Generations Walking'\n",
      "Searching for \"Midnight Bustling - Francois Kevorkian Dub\" by 3 Generations Walking...\n",
      "No results found for: 'Midnight Bustling - Francois Kevorkian Dub 3 Generations Walking'\n",
      "Searching for \"Midnight Bustling - Francois Kevorkian Dub\" by 3 Generations Walking...\n",
      "No results found for: 'Midnight Bustling - Francois Kevorkian Dub 3 Generations Walking'\n",
      "Searching for \"Midnight Bustling - Francois Kevorkian Dub\" by 3 Generations Walking...\n"
     ]
    },
    {
     "name": "stderr",
     "output_type": "stream",
     "text": [
      " 53%|████████████████████████████████████▎                               | 706/1322 [32:01<28:24,  2.77s/it]"
     ]
    },
    {
     "name": "stdout",
     "output_type": "stream",
     "text": [
      "No results found for: 'Midnight Bustling - Francois Kevorkian Dub 3 Generations Walking'\n",
      "Midnight Bustling - Francois Kevorkian Dub 3 Generations Walking Not present in Genius\n",
      "Searching for \"Mighty Mighty\" by Jesse Anderson...\n"
     ]
    },
    {
     "name": "stderr",
     "output_type": "stream",
     "text": [
      " 53%|████████████████████████████████████▎                               | 707/1322 [32:06<34:54,  3.41s/it]"
     ]
    },
    {
     "name": "stdout",
     "output_type": "stream",
     "text": [
      "Done.\n",
      "Searching for \"Misery Train\" by Suicide...\n"
     ]
    },
    {
     "name": "stderr",
     "output_type": "stream",
     "text": [
      " 54%|████████████████████████████████████▍                               | 708/1322 [32:10<36:09,  3.53s/it]"
     ]
    },
    {
     "name": "stdout",
     "output_type": "stream",
     "text": [
      "Done.\n",
      "Searching for \"Miss Broadway\" by Belle Epoque...\n"
     ]
    },
    {
     "name": "stderr",
     "output_type": "stream",
     "text": [
      " 54%|████████████████████████████████████▍                               | 709/1322 [32:12<31:32,  3.09s/it]"
     ]
    },
    {
     "name": "stdout",
     "output_type": "stream",
     "text": [
      "Done.\n",
      "Searching for \"Misty Roses\" by Colin Blunstone...\n"
     ]
    },
    {
     "name": "stderr",
     "output_type": "stream",
     "text": [
      " 54%|████████████████████████████████████▌                               | 710/1322 [32:16<34:37,  3.39s/it]"
     ]
    },
    {
     "name": "stdout",
     "output_type": "stream",
     "text": [
      "Done.\n",
      "Searching for \"Moog Raga - instrumental\" by The Byrds...\n"
     ]
    },
    {
     "name": "stderr",
     "output_type": "stream",
     "text": [
      " 54%|████████████████████████████████████▌                               | 711/1322 [32:22<42:29,  4.17s/it]"
     ]
    },
    {
     "name": "stdout",
     "output_type": "stream",
     "text": [
      "Done.\n",
      "Searching for \"Moskow Diskow\" by Telex...\n"
     ]
    },
    {
     "name": "stderr",
     "output_type": "stream",
     "text": [
      " 54%|████████████████████████████████████▌                               | 712/1322 [32:24<36:21,  3.58s/it]"
     ]
    },
    {
     "name": "stdout",
     "output_type": "stream",
     "text": [
      "Done.\n",
      "Searching for \"Mother Sky\" by CAN...\n"
     ]
    },
    {
     "name": "stderr",
     "output_type": "stream",
     "text": [
      " 54%|████████████████████████████████████▋                               | 713/1322 [32:27<33:22,  3.29s/it]"
     ]
    },
    {
     "name": "stdout",
     "output_type": "stream",
     "text": [
      "Done.\n",
      "Searching for \"Move On Up\" by Curtis Mayfield...\n"
     ]
    },
    {
     "name": "stderr",
     "output_type": "stream",
     "text": [
      " 54%|████████████████████████████████████▋                               | 714/1322 [32:29<30:32,  3.01s/it]"
     ]
    },
    {
     "name": "stdout",
     "output_type": "stream",
     "text": [
      "Done.\n",
      "Searching for \"Mra\" by Chris McGregor...\n",
      "No results found for: 'Mra Chris McGregor'\n",
      "Searching for \"Mra\" by Chris McGregor...\n",
      "No results found for: 'Mra Chris McGregor'\n",
      "Searching for \"Mra\" by Chris McGregor...\n",
      "No results found for: 'Mra Chris McGregor'\n",
      "Searching for \"Mra\" by Chris McGregor...\n",
      "No results found for: 'Mra Chris McGregor'\n",
      "Searching for \"Mra\" by Chris McGregor...\n"
     ]
    },
    {
     "name": "stderr",
     "output_type": "stream",
     "text": [
      " 54%|████████████████████████████████████▊                               | 715/1322 [32:31<26:35,  2.63s/it]"
     ]
    },
    {
     "name": "stdout",
     "output_type": "stream",
     "text": [
      "No results found for: 'Mra Chris McGregor'\n",
      "Mra Chris McGregor Not present in Genius\n",
      "Searching for \"Music Is Love\" by David Crosby...\n"
     ]
    },
    {
     "name": "stderr",
     "output_type": "stream",
     "text": [
      " 54%|████████████████████████████████████▊                               | 716/1322 [32:33<24:27,  2.42s/it]"
     ]
    },
    {
     "name": "stdout",
     "output_type": "stream",
     "text": [
      "Done.\n",
      "Searching for \"Music Is The Healing Force Of The Universe\" by Albert Ayler...\n"
     ]
    },
    {
     "name": "stderr",
     "output_type": "stream",
     "text": [
      " 54%|████████████████████████████████████▉                               | 717/1322 [32:35<25:18,  2.51s/it]"
     ]
    },
    {
     "name": "stdout",
     "output_type": "stream",
     "text": [
      "Done.\n",
      "Searching for \"My Christina\" by Sabu Martinez...\n"
     ]
    },
    {
     "name": "stderr",
     "output_type": "stream",
     "text": [
      " 54%|████████████████████████████████████▉                               | 718/1322 [32:38<24:28,  2.43s/it]"
     ]
    },
    {
     "name": "stdout",
     "output_type": "stream",
     "text": [
      "Done.\n",
      "Searching for \"My My, Hey Hey (Out Of The Blue)\" by Neil Young...\n"
     ]
    },
    {
     "name": "stderr",
     "output_type": "stream",
     "text": [
      " 54%|████████████████████████████████████▉                               | 719/1322 [32:41<26:48,  2.67s/it]"
     ]
    },
    {
     "name": "stdout",
     "output_type": "stream",
     "text": [
      "Done.\n",
      "Searching for \"My People...Hold On\" by Eddie Kendricks...\n"
     ]
    },
    {
     "name": "stderr",
     "output_type": "stream",
     "text": [
      " 54%|█████████████████████████████████████                               | 720/1322 [32:43<25:25,  2.53s/it]"
     ]
    },
    {
     "name": "stdout",
     "output_type": "stream",
     "text": [
      "Done.\n",
      "Searching for \"N'do N'do\" by L'Orchestre Kanaga de Mopti...\n",
      "No results found for: 'N'do N'do L'Orchestre Kanaga de Mopti'\n",
      "Searching for \"N'do N'do\" by L'Orchestre Kanaga de Mopti...\n",
      "No results found for: 'N'do N'do L'Orchestre Kanaga de Mopti'\n",
      "Searching for \"N'do N'do\" by L'Orchestre Kanaga de Mopti...\n",
      "No results found for: 'N'do N'do L'Orchestre Kanaga de Mopti'\n",
      "Searching for \"N'do N'do\" by L'Orchestre Kanaga de Mopti...\n",
      "No results found for: 'N'do N'do L'Orchestre Kanaga de Mopti'\n",
      "Searching for \"N'do N'do\" by L'Orchestre Kanaga de Mopti...\n"
     ]
    },
    {
     "name": "stderr",
     "output_type": "stream",
     "text": [
      " 55%|█████████████████████████████████████                               | 721/1322 [32:45<22:55,  2.29s/it]"
     ]
    },
    {
     "name": "stdout",
     "output_type": "stream",
     "text": [
      "No results found for: 'N'do N'do L'Orchestre Kanaga de Mopti'\n",
      "N'do N'do L'Orchestre Kanaga de Mopti Not present in Genius\n",
      "Searching for \"N.Y. State of Mind\" by Nas...\n",
      "Searching for \"N.Y. State of Mind\" by Nas...\n"
     ]
    },
    {
     "name": "stderr",
     "output_type": "stream",
     "text": [
      " 55%|█████████████████████████████████████▏                              | 722/1322 [32:58<55:07,  5.51s/it]"
     ]
    },
    {
     "name": "stdout",
     "output_type": "stream",
     "text": [
      "Done.\n",
      "Searching for \"Na boca do sol\" by Celia...\n"
     ]
    },
    {
     "name": "stderr",
     "output_type": "stream",
     "text": [
      " 55%|█████████████████████████████████████▏                              | 723/1322 [33:00<46:16,  4.64s/it]"
     ]
    },
    {
     "name": "stdout",
     "output_type": "stream",
     "text": [
      "Done.\n",
      "Searching for \"Ndola-ngo\" by Tim and Foty...\n",
      "No results found for: 'Ndola-ngo Tim and Foty'\n",
      "Searching for \"Ndola-ngo\" by Tim and Foty...\n",
      "No results found for: 'Ndola-ngo Tim and Foty'\n",
      "Searching for \"Ndola-ngo\" by Tim and Foty...\n",
      "No results found for: 'Ndola-ngo Tim and Foty'\n",
      "Searching for \"Ndola-ngo\" by Tim and Foty...\n",
      "No results found for: 'Ndola-ngo Tim and Foty'\n",
      "Searching for \"Ndola-ngo\" by Tim and Foty...\n"
     ]
    },
    {
     "name": "stderr",
     "output_type": "stream",
     "text": [
      " 55%|█████████████████████████████████████▏                              | 724/1322 [33:02<37:39,  3.78s/it]"
     ]
    },
    {
     "name": "stdout",
     "output_type": "stream",
     "text": [
      "No results found for: 'Ndola-ngo Tim and Foty'\n",
      "Ndola-ngo Tim and Foty Not present in Genius\n",
      "Searching for \"Ne Noya\" by Cos-Ber-Zam...\n",
      "No results found for: 'Ne Noya Cos-Ber-Zam'\n",
      "Searching for \"Ne Noya\" by Cos-Ber-Zam...\n",
      "No results found for: 'Ne Noya Cos-Ber-Zam'\n",
      "Searching for \"Ne Noya\" by Cos-Ber-Zam...\n",
      "No results found for: 'Ne Noya Cos-Ber-Zam'\n",
      "Searching for \"Ne Noya\" by Cos-Ber-Zam...\n",
      "No results found for: 'Ne Noya Cos-Ber-Zam'\n",
      "Searching for \"Ne Noya\" by Cos-Ber-Zam...\n"
     ]
    },
    {
     "name": "stderr",
     "output_type": "stream",
     "text": [
      " 55%|█████████████████████████████████████▎                              | 725/1322 [33:04<32:05,  3.22s/it]"
     ]
    },
    {
     "name": "stdout",
     "output_type": "stream",
     "text": [
      "No results found for: 'Ne Noya Cos-Ber-Zam'\n",
      "Ne Noya Cos-Ber-Zam Not present in Genius\n",
      "Searching for \"Needles In The Camel's Eye - 2004 Digital Remaster\" by Brian Eno...\n",
      "No results found for: 'Needles In The Camel's Eye - 2004 Digital Remaster Brian Eno'\n",
      "Searching for \"Needles In The Camel's Eye - 2004 Digital Remaster\" by Brian Eno...\n",
      "No results found for: 'Needles In The Camel's Eye - 2004 Digital Remaster Brian Eno'\n",
      "Searching for \"Needles In The Camel's Eye - 2004 Digital Remaster\" by Brian Eno...\n",
      "No results found for: 'Needles In The Camel's Eye - 2004 Digital Remaster Brian Eno'\n",
      "Searching for \"Needles In The Camel's Eye - 2004 Digital Remaster\" by Brian Eno...\n",
      "No results found for: 'Needles In The Camel's Eye - 2004 Digital Remaster Brian Eno'\n",
      "Searching for \"Needles In The Camel's Eye - 2004 Digital Remaster\" by Brian Eno...\n"
     ]
    },
    {
     "name": "stderr",
     "output_type": "stream",
     "text": [
      " 55%|█████████████████████████████████████▎                              | 726/1322 [33:06<28:35,  2.88s/it]"
     ]
    },
    {
     "name": "stdout",
     "output_type": "stream",
     "text": [
      "No results found for: 'Needles In The Camel's Eye - 2004 Digital Remaster Brian Eno'\n",
      "Needles In The Camel's Eye - 2004 Digital Remaster Brian Eno Not present in Genius\n",
      "Searching for \"New Track\" by Francis Bebey...\n"
     ]
    },
    {
     "name": "stderr",
     "output_type": "stream",
     "text": [
      " 55%|█████████████████████████████████████▍                              | 727/1322 [33:09<29:25,  2.97s/it]"
     ]
    },
    {
     "name": "stdout",
     "output_type": "stream",
     "text": [
      "Done.\n",
      "Searching for \"No I Won't\" by Evans Pyramid...\n"
     ]
    },
    {
     "name": "stderr",
     "output_type": "stream",
     "text": [
      " 55%|█████████████████████████████████████▍                              | 728/1322 [33:11<26:39,  2.69s/it]"
     ]
    },
    {
     "name": "stdout",
     "output_type": "stream",
     "text": [
      "Done.\n",
      "Searching for \"Non-Stop Home\" by Weather Report...\n"
     ]
    },
    {
     "name": "stderr",
     "output_type": "stream",
     "text": [
      " 55%|█████████████████████████████████████▍                              | 729/1322 [33:15<28:27,  2.88s/it]"
     ]
    },
    {
     "name": "stdout",
     "output_type": "stream",
     "text": [
      "Done.\n",
      "Searching for \"Nothing Like This\" by J Dilla...\n"
     ]
    },
    {
     "name": "stderr",
     "output_type": "stream",
     "text": [
      " 55%|█████████████████████████████████████▌                              | 730/1322 [33:17<26:07,  2.65s/it]"
     ]
    },
    {
     "name": "stdout",
     "output_type": "stream",
     "text": [
      "Done.\n",
      "Searching for \"Nuclear War\" by Sun Ra Arkestra...\n"
     ]
    },
    {
     "name": "stderr",
     "output_type": "stream",
     "text": [
      " 55%|█████████████████████████████████████▌                              | 731/1322 [33:20<26:29,  2.69s/it]"
     ]
    },
    {
     "name": "stdout",
     "output_type": "stream",
     "text": [
      "Done.\n",
      "Searching for \"Numbers On The Boards\" by Pusha T...\n"
     ]
    },
    {
     "name": "stderr",
     "output_type": "stream",
     "text": [
      " 55%|█████████████████████████████████████▋                              | 732/1322 [33:25<34:17,  3.49s/it]"
     ]
    },
    {
     "name": "stdout",
     "output_type": "stream",
     "text": [
      "Done.\n",
      "Searching for \"Nwampfundla\" by Tshetsha Boys...\n",
      "No results found for: 'Nwampfundla Tshetsha Boys'\n",
      "Searching for \"Nwampfundla\" by Tshetsha Boys...\n",
      "No results found for: 'Nwampfundla Tshetsha Boys'\n",
      "Searching for \"Nwampfundla\" by Tshetsha Boys...\n",
      "No results found for: 'Nwampfundla Tshetsha Boys'\n",
      "Searching for \"Nwampfundla\" by Tshetsha Boys...\n",
      "No results found for: 'Nwampfundla Tshetsha Boys'\n",
      "Searching for \"Nwampfundla\" by Tshetsha Boys...\n"
     ]
    },
    {
     "name": "stderr",
     "output_type": "stream",
     "text": [
      " 55%|█████████████████████████████████████▋                              | 733/1322 [33:27<29:06,  2.96s/it]"
     ]
    },
    {
     "name": "stdout",
     "output_type": "stream",
     "text": [
      "No results found for: 'Nwampfundla Tshetsha Boys'\n",
      "Nwampfundla Tshetsha Boys Not present in Genius\n",
      "Searching for \"Obsession '77 (Fast)\" by Atomic Forest...\n",
      "Specified song does not contain lyrics. Rejecting.\n",
      "Searching for \"Obsession '77 (Fast)\" by Atomic Forest...\n",
      "Specified song does not contain lyrics. Rejecting.\n",
      "Searching for \"Obsession '77 (Fast)\" by Atomic Forest...\n",
      "Specified song does not contain lyrics. Rejecting.\n",
      "Searching for \"Obsession '77 (Fast)\" by Atomic Forest...\n",
      "Specified song does not contain lyrics. Rejecting.\n",
      "Searching for \"Obsession '77 (Fast)\" by Atomic Forest...\n"
     ]
    },
    {
     "name": "stderr",
     "output_type": "stream",
     "text": [
      " 56%|█████████████████████████████████████▊                              | 734/1322 [33:29<25:49,  2.63s/it]"
     ]
    },
    {
     "name": "stdout",
     "output_type": "stream",
     "text": [
      "Specified song does not contain lyrics. Rejecting.\n",
      "Obsession '77 (Fast) Atomic Forest Not present in Genius\n",
      "Searching for \"Oh Boy\" by Cam’ron...\n"
     ]
    },
    {
     "name": "stderr",
     "output_type": "stream",
     "text": [
      " 56%|█████████████████████████████████████▊                              | 735/1322 [33:32<27:47,  2.84s/it]"
     ]
    },
    {
     "name": "stdout",
     "output_type": "stream",
     "text": [
      "Done.\n",
      "Searching for \"Oh Yeh Soweto\" by Teaspoon & The Waves...\n",
      "No results found for: 'Oh Yeh Soweto Teaspoon & The Waves'\n",
      "Searching for \"Oh Yeh Soweto\" by Teaspoon & The Waves...\n",
      "No results found for: 'Oh Yeh Soweto Teaspoon & The Waves'\n",
      "Searching for \"Oh Yeh Soweto\" by Teaspoon & The Waves...\n",
      "No results found for: 'Oh Yeh Soweto Teaspoon & The Waves'\n",
      "Searching for \"Oh Yeh Soweto\" by Teaspoon & The Waves...\n",
      "No results found for: 'Oh Yeh Soweto Teaspoon & The Waves'\n",
      "Searching for \"Oh Yeh Soweto\" by Teaspoon & The Waves...\n"
     ]
    },
    {
     "name": "stderr",
     "output_type": "stream",
     "text": [
      " 56%|█████████████████████████████████████▊                              | 736/1322 [33:34<24:26,  2.50s/it]"
     ]
    },
    {
     "name": "stdout",
     "output_type": "stream",
     "text": [
      "No results found for: 'Oh Yeh Soweto Teaspoon & The Waves'\n",
      "Oh Yeh Soweto Teaspoon & The Waves Not present in Genius\n",
      "Searching for \"Old Man\" by Neil Young...\n"
     ]
    },
    {
     "name": "stderr",
     "output_type": "stream",
     "text": [
      " 56%|█████████████████████████████████████▉                              | 737/1322 [33:38<31:00,  3.18s/it]"
     ]
    },
    {
     "name": "stdout",
     "output_type": "stream",
     "text": [
      "Done.\n",
      "Searching for \"Olmalı mı Olmamalı mı\" by Bülent Ortaçgil...\n"
     ]
    },
    {
     "name": "stderr",
     "output_type": "stream",
     "text": [
      " 56%|█████████████████████████████████████▉                              | 738/1322 [33:40<26:52,  2.76s/it]"
     ]
    },
    {
     "name": "stdout",
     "output_type": "stream",
     "text": [
      "Done.\n",
      "Searching for \"Olympians\" by Fuck Buttons...\n",
      "Specified song does not contain lyrics. Rejecting.\n",
      "Searching for \"Olympians\" by Fuck Buttons...\n",
      "Specified song does not contain lyrics. Rejecting.\n",
      "Searching for \"Olympians\" by Fuck Buttons...\n",
      "Specified song does not contain lyrics. Rejecting.\n",
      "Searching for \"Olympians\" by Fuck Buttons...\n",
      "Specified song does not contain lyrics. Rejecting.\n",
      "Searching for \"Olympians\" by Fuck Buttons...\n"
     ]
    },
    {
     "name": "stderr",
     "output_type": "stream",
     "text": [
      " 56%|██████████████████████████████████████                              | 739/1322 [33:42<25:21,  2.61s/it]"
     ]
    },
    {
     "name": "stdout",
     "output_type": "stream",
     "text": [
      "Specified song does not contain lyrics. Rejecting.\n",
      "Olympians Fuck Buttons Not present in Genius\n",
      "Searching for \"On and On\" by Harvey Mason...\n"
     ]
    },
    {
     "name": "stderr",
     "output_type": "stream",
     "text": [
      " 56%|██████████████████████████████████████                              | 740/1322 [33:46<28:29,  2.94s/it]"
     ]
    },
    {
     "name": "stdout",
     "output_type": "stream",
     "text": [
      "Done.\n",
      "Searching for \"On The Road Again\" by Canned Heat...\n"
     ]
    },
    {
     "name": "stderr",
     "output_type": "stream",
     "text": [
      " 56%|██████████████████████████████████████                              | 741/1322 [33:49<27:17,  2.82s/it]"
     ]
    },
    {
     "name": "stdout",
     "output_type": "stream",
     "text": [
      "Done.\n",
      "Searching for \"One and One\" by Miles Davis...\n",
      "Specified song does not contain lyrics. Rejecting.\n",
      "Searching for \"One and One\" by Miles Davis...\n",
      "Specified song does not contain lyrics. Rejecting.\n",
      "Searching for \"One and One\" by Miles Davis...\n",
      "Specified song does not contain lyrics. Rejecting.\n",
      "Searching for \"One and One\" by Miles Davis...\n",
      "Specified song does not contain lyrics. Rejecting.\n",
      "Searching for \"One and One\" by Miles Davis...\n"
     ]
    },
    {
     "name": "stderr",
     "output_type": "stream",
     "text": [
      " 56%|██████████████████████████████████████▏                             | 742/1322 [33:51<26:15,  2.72s/it]"
     ]
    },
    {
     "name": "stdout",
     "output_type": "stream",
     "text": [
      "Specified song does not contain lyrics. Rejecting.\n",
      "One and One Miles Davis Not present in Genius\n",
      "Searching for \"One Fine Morning\" by lighthouse...\n"
     ]
    },
    {
     "name": "stderr",
     "output_type": "stream",
     "text": [
      " 56%|██████████████████████████████████████▏                             | 743/1322 [33:55<28:19,  2.93s/it]"
     ]
    },
    {
     "name": "stdout",
     "output_type": "stream",
     "text": [
      "Done.\n",
      "Searching for \"One Life\" by The Albert...\n"
     ]
    },
    {
     "name": "stderr",
     "output_type": "stream",
     "text": [
      " 56%|██████████████████████████████████████▎                             | 744/1322 [33:58<28:22,  2.94s/it]"
     ]
    },
    {
     "name": "stdout",
     "output_type": "stream",
     "text": [
      "Done.\n",
      "Searching for \"One Love (feat. Q-Tip)\" by Nas...\n"
     ]
    },
    {
     "name": "stderr",
     "output_type": "stream",
     "text": [
      " 56%|██████████████████████████████████████▎                             | 745/1322 [34:00<25:42,  2.67s/it]"
     ]
    },
    {
     "name": "stdout",
     "output_type": "stream",
     "text": [
      "Done.\n",
      "Searching for \"One Way Glass\" by Manfred Mann Chapter Three...\n"
     ]
    },
    {
     "name": "stderr",
     "output_type": "stream",
     "text": [
      " 56%|██████████████████████████████████████▎                             | 746/1322 [34:02<24:31,  2.56s/it]"
     ]
    },
    {
     "name": "stdout",
     "output_type": "stream",
     "text": [
      "Done.\n",
      "Searching for \"Only Love Can Break Your Heart\" by Neil Young...\n"
     ]
    },
    {
     "name": "stderr",
     "output_type": "stream",
     "text": [
      " 57%|██████████████████████████████████████▍                             | 747/1322 [34:04<21:46,  2.27s/it]"
     ]
    },
    {
     "name": "stdout",
     "output_type": "stream",
     "text": [
      "Done.\n",
      "Searching for \"Only With You - Remastered 2000\" by The Beach Boys...\n"
     ]
    },
    {
     "name": "stderr",
     "output_type": "stream",
     "text": [
      " 57%|██████████████████████████████████████▍                             | 748/1322 [34:06<22:37,  2.36s/it]"
     ]
    },
    {
     "name": "stdout",
     "output_type": "stream",
     "text": [
      "Done.\n",
      "Searching for \"Oooh Baby\" by Pamoja...\n"
     ]
    },
    {
     "name": "stderr",
     "output_type": "stream",
     "text": [
      " 57%|██████████████████████████████████████▌                             | 749/1322 [34:09<23:11,  2.43s/it]"
     ]
    },
    {
     "name": "stdout",
     "output_type": "stream",
     "text": [
      "Done.\n",
      "Searching for \"Oops (Oh My) [feat. Missy Elliott]\" by Tweet...\n"
     ]
    },
    {
     "name": "stderr",
     "output_type": "stream",
     "text": [
      " 57%|██████████████████████████████████████▌                             | 750/1322 [34:14<30:57,  3.25s/it]"
     ]
    },
    {
     "name": "stdout",
     "output_type": "stream",
     "text": [
      "Done.\n",
      "Searching for \"Opanigê\" by Eduardo Araujo...\n",
      "No results found for: 'Opanigê Eduardo Araujo'\n",
      "Searching for \"Opanigê\" by Eduardo Araujo...\n",
      "No results found for: 'Opanigê Eduardo Araujo'\n",
      "Searching for \"Opanigê\" by Eduardo Araujo...\n",
      "No results found for: 'Opanigê Eduardo Araujo'\n",
      "Searching for \"Opanigê\" by Eduardo Araujo...\n",
      "No results found for: 'Opanigê Eduardo Araujo'\n",
      "Searching for \"Opanigê\" by Eduardo Araujo...\n"
     ]
    },
    {
     "name": "stderr",
     "output_type": "stream",
     "text": [
      " 57%|██████████████████████████████████████▋                             | 751/1322 [34:16<27:46,  2.92s/it]"
     ]
    },
    {
     "name": "stdout",
     "output_type": "stream",
     "text": [
      "No results found for: 'Opanigê Eduardo Araujo'\n",
      "Opanigê Eduardo Araujo Not present in Genius\n",
      "Searching for \"Optimo\" by Liquid Liquid...\n"
     ]
    },
    {
     "name": "stderr",
     "output_type": "stream",
     "text": [
      " 57%|██████████████████████████████████████▋                             | 752/1322 [34:19<27:41,  2.91s/it]"
     ]
    },
    {
     "name": "stdout",
     "output_type": "stream",
     "text": [
      "Done.\n",
      "Searching for \"Oscillations\" by Silver Apples...\n"
     ]
    },
    {
     "name": "stderr",
     "output_type": "stream",
     "text": [
      " 57%|██████████████████████████████████████▋                             | 753/1322 [34:21<24:38,  2.60s/it]"
     ]
    },
    {
     "name": "stdout",
     "output_type": "stream",
     "text": [
      "Done.\n",
      "Searching for \"Our House\" by Crosby, Stills, Nash & Young...\n"
     ]
    },
    {
     "name": "stderr",
     "output_type": "stream",
     "text": [
      " 57%|██████████████████████████████████████▊                             | 754/1322 [34:22<22:03,  2.33s/it]"
     ]
    },
    {
     "name": "stdout",
     "output_type": "stream",
     "text": [
      "Done.\n",
      "Searching for \"Our Love Is so True\" by Round Robin...\n"
     ]
    },
    {
     "name": "stderr",
     "output_type": "stream",
     "text": [
      " 57%|██████████████████████████████████████▊                             | 755/1322 [34:25<22:49,  2.42s/it]"
     ]
    },
    {
     "name": "stdout",
     "output_type": "stream",
     "text": [
      "Done.\n",
      "Searching for \"Our Prayer - 2011 Smile Version\" by The Beach Boys...\n"
     ]
    },
    {
     "name": "stderr",
     "output_type": "stream",
     "text": [
      " 57%|██████████████████████████████████████▉                             | 756/1322 [34:29<26:29,  2.81s/it]"
     ]
    },
    {
     "name": "stdout",
     "output_type": "stream",
     "text": [
      "Done.\n",
      "Searching for \"Our Sweet Love - Remastered 2009\" by The Beach Boys...\n"
     ]
    },
    {
     "name": "stderr",
     "output_type": "stream",
     "text": [
      " 57%|██████████████████████████████████████▉                             | 757/1322 [34:33<31:40,  3.36s/it]"
     ]
    },
    {
     "name": "stdout",
     "output_type": "stream",
     "text": [
      "Done.\n",
      "Searching for \"Out Of Work\" by Jesse Gould...\n"
     ]
    },
    {
     "name": "stderr",
     "output_type": "stream",
     "text": [
      " 57%|██████████████████████████████████████▉                             | 758/1322 [34:36<30:14,  3.22s/it]"
     ]
    },
    {
     "name": "stdout",
     "output_type": "stream",
     "text": [
      "Done.\n",
      "Searching for \"Over the Hills and Far Away - 1990 Remaster\" by Led Zeppelin...\n"
     ]
    },
    {
     "name": "stderr",
     "output_type": "stream",
     "text": [
      " 57%|███████████████████████████████████████                             | 759/1322 [34:40<29:59,  3.20s/it]"
     ]
    },
    {
     "name": "stdout",
     "output_type": "stream",
     "text": [
      "Done.\n",
      "Searching for \"Pagan Rhythms\" by Patrick Cowley...\n"
     ]
    },
    {
     "name": "stderr",
     "output_type": "stream",
     "text": [
      " 57%|███████████████████████████████████████                             | 760/1322 [34:42<27:31,  2.94s/it]"
     ]
    },
    {
     "name": "stdout",
     "output_type": "stream",
     "text": [
      "Done.\n",
      "Searching for \"Para Lennon E McCartney\" by Milton Nascimento...\n"
     ]
    },
    {
     "name": "stderr",
     "output_type": "stream",
     "text": [
      " 58%|███████████████████████████████████████▏                            | 761/1322 [34:45<27:40,  2.96s/it]"
     ]
    },
    {
     "name": "stdout",
     "output_type": "stream",
     "text": [
      "Done.\n",
      "Searching for \"Paradiso\" by Konono N°1...\n",
      "No results found for: 'Paradiso Konono N°1'\n",
      "Searching for \"Paradiso\" by Konono N°1...\n",
      "No results found for: 'Paradiso Konono N°1'\n",
      "Searching for \"Paradiso\" by Konono N°1...\n",
      "No results found for: 'Paradiso Konono N°1'\n",
      "Searching for \"Paradiso\" by Konono N°1...\n",
      "No results found for: 'Paradiso Konono N°1'\n",
      "Searching for \"Paradiso\" by Konono N°1...\n"
     ]
    },
    {
     "name": "stderr",
     "output_type": "stream",
     "text": [
      " 58%|███████████████████████████████████████▏                            | 762/1322 [34:47<25:27,  2.73s/it]"
     ]
    },
    {
     "name": "stdout",
     "output_type": "stream",
     "text": [
      "No results found for: 'Paradiso Konono N°1'\n",
      "Paradiso Konono N°1 Not present in Genius\n",
      "Searching for \"Paramahansa Lake\" by Alice Coltrane...\n",
      "Specified song does not contain lyrics. Rejecting.\n",
      "Searching for \"Paramahansa Lake\" by Alice Coltrane...\n",
      "Specified song does not contain lyrics. Rejecting.\n",
      "Searching for \"Paramahansa Lake\" by Alice Coltrane...\n",
      "Specified song does not contain lyrics. Rejecting.\n",
      "Searching for \"Paramahansa Lake\" by Alice Coltrane...\n",
      "Specified song does not contain lyrics. Rejecting.\n",
      "Searching for \"Paramahansa Lake\" by Alice Coltrane...\n"
     ]
    },
    {
     "name": "stderr",
     "output_type": "stream",
     "text": [
      " 58%|███████████████████████████████████████▏                            | 763/1322 [34:49<22:50,  2.45s/it]"
     ]
    },
    {
     "name": "stdout",
     "output_type": "stream",
     "text": [
      "Specified song does not contain lyrics. Rejecting.\n",
      "Paramahansa Lake Alice Coltrane Not present in Genius\n",
      "Searching for \"Part 1 in E-Flat Minor\" by Gilbert Artman...\n",
      "No results found for: 'Part 1 in E-Flat Minor Gilbert Artman'\n",
      "Searching for \"Part 1 in E-Flat Minor\" by Gilbert Artman...\n",
      "No results found for: 'Part 1 in E-Flat Minor Gilbert Artman'\n",
      "Searching for \"Part 1 in E-Flat Minor\" by Gilbert Artman...\n",
      "No results found for: 'Part 1 in E-Flat Minor Gilbert Artman'\n",
      "Searching for \"Part 1 in E-Flat Minor\" by Gilbert Artman...\n",
      "No results found for: 'Part 1 in E-Flat Minor Gilbert Artman'\n",
      "Searching for \"Part 1 in E-Flat Minor\" by Gilbert Artman...\n"
     ]
    },
    {
     "name": "stderr",
     "output_type": "stream",
     "text": [
      " 58%|███████████████████████████████████████▎                            | 764/1322 [34:51<20:48,  2.24s/it]"
     ]
    },
    {
     "name": "stdout",
     "output_type": "stream",
     "text": [
      "No results found for: 'Part 1 in E-Flat Minor Gilbert Artman'\n",
      "Part 1 in E-Flat Minor Gilbert Artman Not present in Genius\n",
      "Searching for \"Patchwork\" by Laurie Spiegel...\n",
      "Specified song does not contain lyrics. Rejecting.\n",
      "Searching for \"Patchwork\" by Laurie Spiegel...\n",
      "Specified song does not contain lyrics. Rejecting.\n",
      "Searching for \"Patchwork\" by Laurie Spiegel...\n",
      "Specified song does not contain lyrics. Rejecting.\n",
      "Searching for \"Patchwork\" by Laurie Spiegel...\n",
      "Specified song does not contain lyrics. Rejecting.\n",
      "Searching for \"Patchwork\" by Laurie Spiegel...\n"
     ]
    },
    {
     "name": "stderr",
     "output_type": "stream",
     "text": [
      " 58%|███████████████████████████████████████▎                            | 765/1322 [34:53<19:52,  2.14s/it]"
     ]
    },
    {
     "name": "stdout",
     "output_type": "stream",
     "text": [
      "Specified song does not contain lyrics. Rejecting.\n",
      "Patchwork Laurie Spiegel Not present in Genius\n",
      "Searching for \"People Like Myself\" by Timbaland & Magoo...\n"
     ]
    },
    {
     "name": "stderr",
     "output_type": "stream",
     "text": [
      " 58%|███████████████████████████████████████▍                            | 766/1322 [34:56<24:58,  2.70s/it]"
     ]
    },
    {
     "name": "stdout",
     "output_type": "stream",
     "text": [
      "Done.\n",
      "Searching for \"Peut Être ... Pas\" by Liaisons Dangereuses...\n"
     ]
    },
    {
     "name": "stderr",
     "output_type": "stream",
     "text": [
      " 58%|███████████████████████████████████████▍                            | 767/1322 [34:59<24:01,  2.60s/it]"
     ]
    },
    {
     "name": "stdout",
     "output_type": "stream",
     "text": [
      "Done.\n",
      "Searching for \"Players\" by Slum Village...\n"
     ]
    },
    {
     "name": "stderr",
     "output_type": "stream",
     "text": [
      " 58%|███████████████████████████████████████▌                            | 768/1322 [35:02<26:16,  2.85s/it]"
     ]
    },
    {
     "name": "stdout",
     "output_type": "stream",
     "text": [
      "Done.\n",
      "Searching for \"Playtime\" by Junior Boys...\n"
     ]
    },
    {
     "name": "stderr",
     "output_type": "stream",
     "text": [
      " 58%|███████████████████████████████████████▌                            | 769/1322 [35:07<30:55,  3.36s/it]"
     ]
    },
    {
     "name": "stdout",
     "output_type": "stream",
     "text": [
      "Done.\n",
      "Searching for \"Pony\" by Ginuwine...\n",
      "Searching for \"Pony\" by Ginuwine...\n"
     ]
    },
    {
     "name": "stderr",
     "output_type": "stream",
     "text": [
      " 58%|███████████████████████████████████████▌                            | 770/1322 [35:15<42:46,  4.65s/it]"
     ]
    },
    {
     "name": "stdout",
     "output_type": "stream",
     "text": [
      "Done.\n",
      "Searching for \"Poor Moon\" by Canned Heat...\n"
     ]
    },
    {
     "name": "stderr",
     "output_type": "stream",
     "text": [
      " 58%|███████████████████████████████████████▋                            | 771/1322 [35:18<39:29,  4.30s/it]"
     ]
    },
    {
     "name": "stdout",
     "output_type": "stream",
     "text": [
      "Done.\n",
      "Searching for \"Pop\" by Gas...\n"
     ]
    },
    {
     "name": "stderr",
     "output_type": "stream",
     "text": [
      " 58%|███████████████████████████████████████▋                            | 772/1322 [35:21<35:48,  3.91s/it]"
     ]
    },
    {
     "name": "stdout",
     "output_type": "stream",
     "text": [
      "Done.\n",
      "Searching for \"Prelude\" by The Millennium...\n",
      "Specified song does not contain lyrics. Rejecting.\n",
      "Searching for \"Prelude\" by The Millennium...\n",
      "Specified song does not contain lyrics. Rejecting.\n",
      "Searching for \"Prelude\" by The Millennium...\n",
      "Specified song does not contain lyrics. Rejecting.\n",
      "Searching for \"Prelude\" by The Millennium...\n",
      "Specified song does not contain lyrics. Rejecting.\n",
      "Searching for \"Prelude\" by The Millennium...\n"
     ]
    },
    {
     "name": "stderr",
     "output_type": "stream",
     "text": [
      " 58%|███████████████████████████████████████▊                            | 773/1322 [35:23<30:33,  3.34s/it]"
     ]
    },
    {
     "name": "stdout",
     "output_type": "stream",
     "text": [
      "Specified song does not contain lyrics. Rejecting.\n",
      "Prelude The Millennium Not present in Genius\n",
      "Searching for \"Propellers in Love\" by Arnold Dreyblatt & The Orchestra of Excited Strings...\n",
      "No results found for: 'Propellers in Love Arnold Dreyblatt & The Orchestra of Excited Strings'\n",
      "Searching for \"Propellers in Love\" by Arnold Dreyblatt & The Orchestra of Excited Strings...\n",
      "No results found for: 'Propellers in Love Arnold Dreyblatt & The Orchestra of Excited Strings'\n",
      "Searching for \"Propellers in Love\" by Arnold Dreyblatt & The Orchestra of Excited Strings...\n",
      "No results found for: 'Propellers in Love Arnold Dreyblatt & The Orchestra of Excited Strings'\n",
      "Searching for \"Propellers in Love\" by Arnold Dreyblatt & The Orchestra of Excited Strings...\n",
      "No results found for: 'Propellers in Love Arnold Dreyblatt & The Orchestra of Excited Strings'\n",
      "Searching for \"Propellers in Love\" by Arnold Dreyblatt & The Orchestra of Excited Strings...\n"
     ]
    },
    {
     "name": "stderr",
     "output_type": "stream",
     "text": [
      " 59%|███████████████████████████████████████▊                            | 774/1322 [35:25<26:32,  2.91s/it]"
     ]
    },
    {
     "name": "stdout",
     "output_type": "stream",
     "text": [
      "No results found for: 'Propellers in Love Arnold Dreyblatt & The Orchestra of Excited Strings'\n",
      "Propellers in Love Arnold Dreyblatt & The Orchestra of Excited Strings Not present in Genius\n",
      "Searching for \"Pulp Fiction\" by Alex Reece...\n"
     ]
    },
    {
     "name": "stderr",
     "output_type": "stream",
     "text": [
      " 59%|███████████████████████████████████████▊                            | 775/1322 [35:27<22:57,  2.52s/it]"
     ]
    },
    {
     "name": "stdout",
     "output_type": "stream",
     "text": [
      "Done.\n",
      "Searching for \"Pursuit Mix 3\" by Da Sampla...\n",
      "No results found for: 'Pursuit Mix 3 Da Sampla'\n",
      "Searching for \"Pursuit Mix 3\" by Da Sampla...\n",
      "No results found for: 'Pursuit Mix 3 Da Sampla'\n",
      "Searching for \"Pursuit Mix 3\" by Da Sampla...\n",
      "No results found for: 'Pursuit Mix 3 Da Sampla'\n",
      "Searching for \"Pursuit Mix 3\" by Da Sampla...\n",
      "No results found for: 'Pursuit Mix 3 Da Sampla'\n",
      "Searching for \"Pursuit Mix 3\" by Da Sampla...\n"
     ]
    },
    {
     "name": "stderr",
     "output_type": "stream",
     "text": [
      " 59%|███████████████████████████████████████▉                            | 776/1322 [35:28<21:23,  2.35s/it]"
     ]
    },
    {
     "name": "stdout",
     "output_type": "stream",
     "text": [
      "No results found for: 'Pursuit Mix 3 Da Sampla'\n",
      "Pursuit Mix 3 Da Sampla Not present in Genius\n",
      "Searching for \"Put It On\" by Big L...\n"
     ]
    },
    {
     "name": "stderr",
     "output_type": "stream",
     "text": [
      " 59%|███████████████████████████████████████▉                            | 777/1322 [35:31<21:19,  2.35s/it]"
     ]
    },
    {
     "name": "stdout",
     "output_type": "stream",
     "text": [
      "Done.\n",
      "Searching for \"Pyramid Song\" by Radiohead...\n"
     ]
    },
    {
     "name": "stderr",
     "output_type": "stream",
     "text": [
      " 59%|████████████████████████████████████████                            | 778/1322 [35:33<20:56,  2.31s/it]"
     ]
    },
    {
     "name": "stdout",
     "output_type": "stream",
     "text": [
      "Done.\n",
      "Searching for \"Queen St. Gang\" by Arzachel...\n",
      "Specified song does not contain lyrics. Rejecting.\n",
      "Searching for \"Queen St. Gang\" by Arzachel...\n",
      "Specified song does not contain lyrics. Rejecting.\n",
      "Searching for \"Queen St. Gang\" by Arzachel...\n",
      "Specified song does not contain lyrics. Rejecting.\n",
      "Searching for \"Queen St. Gang\" by Arzachel...\n",
      "Specified song does not contain lyrics. Rejecting.\n",
      "Searching for \"Queen St. Gang\" by Arzachel...\n"
     ]
    },
    {
     "name": "stderr",
     "output_type": "stream",
     "text": [
      " 59%|████████████████████████████████████████                            | 779/1322 [35:36<21:36,  2.39s/it]"
     ]
    },
    {
     "name": "stdout",
     "output_type": "stream",
     "text": [
      "Specified song does not contain lyrics. Rejecting.\n",
      "Queen St. Gang Arzachel Not present in Genius\n",
      "Searching for \"Quitter’s Raga\" by Gold Panda...\n"
     ]
    },
    {
     "name": "stderr",
     "output_type": "stream",
     "text": [
      " 59%|████████████████████████████████████████                            | 780/1322 [35:38<21:39,  2.40s/it]"
     ]
    },
    {
     "name": "stdout",
     "output_type": "stream",
     "text": [
      "Done.\n",
      "Searching for \"Raga Malkauns - Instrumental\" by Charanjit Singh...\n",
      "Specified song does not contain lyrics. Rejecting.\n",
      "Searching for \"Raga Malkauns - Instrumental\" by Charanjit Singh...\n",
      "Specified song does not contain lyrics. Rejecting.\n",
      "Searching for \"Raga Malkauns - Instrumental\" by Charanjit Singh...\n",
      "Specified song does not contain lyrics. Rejecting.\n",
      "Searching for \"Raga Malkauns - Instrumental\" by Charanjit Singh...\n",
      "Specified song does not contain lyrics. Rejecting.\n",
      "Searching for \"Raga Malkauns - Instrumental\" by Charanjit Singh...\n"
     ]
    },
    {
     "name": "stderr",
     "output_type": "stream",
     "text": [
      " 59%|████████████████████████████████████████▏                           | 781/1322 [35:40<20:15,  2.25s/it]"
     ]
    },
    {
     "name": "stdout",
     "output_type": "stream",
     "text": [
      "Specified song does not contain lyrics. Rejecting.\n",
      "Raga Malkauns - Instrumental Charanjit Singh Not present in Genius\n",
      "Searching for \"Raghupati\" by Ananda Shankar...\n"
     ]
    },
    {
     "name": "stderr",
     "output_type": "stream",
     "text": [
      " 59%|████████████████████████████████████████▏                           | 782/1322 [35:41<17:57,  2.00s/it]"
     ]
    },
    {
     "name": "stdout",
     "output_type": "stream",
     "text": [
      "Done.\n",
      "Searching for \"Rainbows\" by Dennis Wilson...\n"
     ]
    },
    {
     "name": "stderr",
     "output_type": "stream",
     "text": [
      " 59%|████████████████████████████████████████▎                           | 783/1322 [35:45<22:15,  2.48s/it]"
     ]
    },
    {
     "name": "stdout",
     "output_type": "stream",
     "text": [
      "Done.\n",
      "Searching for \"Raise Up\" by Petey Pablo...\n"
     ]
    },
    {
     "name": "stderr",
     "output_type": "stream",
     "text": [
      " 59%|████████████████████████████████████████▎                           | 784/1322 [35:47<21:38,  2.41s/it]"
     ]
    },
    {
     "name": "stdout",
     "output_type": "stream",
     "text": [
      "Done.\n",
      "Searching for \"Ram On - 2012 Remaster\" by Paul McCartney...\n",
      "No results found for: 'Ram On - 2012 Remaster Paul McCartney'\n",
      "Searching for \"Ram On - 2012 Remaster\" by Paul McCartney...\n",
      "No results found for: 'Ram On - 2012 Remaster Paul McCartney'\n",
      "Searching for \"Ram On - 2012 Remaster\" by Paul McCartney...\n",
      "No results found for: 'Ram On - 2012 Remaster Paul McCartney'\n",
      "Searching for \"Ram On - 2012 Remaster\" by Paul McCartney...\n",
      "No results found for: 'Ram On - 2012 Remaster Paul McCartney'\n",
      "Searching for \"Ram On - 2012 Remaster\" by Paul McCartney...\n"
     ]
    },
    {
     "name": "stderr",
     "output_type": "stream",
     "text": [
      " 59%|████████████████████████████████████████▍                           | 785/1322 [35:49<20:45,  2.32s/it]"
     ]
    },
    {
     "name": "stdout",
     "output_type": "stream",
     "text": [
      "No results found for: 'Ram On - 2012 Remaster Paul McCartney'\n",
      "Ram On - 2012 Remaster Paul McCartney Not present in Genius\n",
      "Searching for \"Reach My Destiny\" by Noel Ellis...\n"
     ]
    },
    {
     "name": "stderr",
     "output_type": "stream",
     "text": [
      " 59%|████████████████████████████████████████▍                           | 786/1322 [35:51<19:59,  2.24s/it]"
     ]
    },
    {
     "name": "stdout",
     "output_type": "stream",
     "text": [
      "Done.\n",
      "Searching for \"Regulate\" by Warren G...\n"
     ]
    },
    {
     "name": "stderr",
     "output_type": "stream",
     "text": [
      " 60%|████████████████████████████████████████▍                           | 787/1322 [35:58<32:47,  3.68s/it]"
     ]
    },
    {
     "name": "stdout",
     "output_type": "stream",
     "text": [
      "Done.\n",
      "Searching for \"Relance\" by Gal Costa...\n"
     ]
    },
    {
     "name": "stderr",
     "output_type": "stream",
     "text": [
      " 60%|████████████████████████████████████████▌                           | 788/1322 [36:01<29:50,  3.35s/it]"
     ]
    },
    {
     "name": "stdout",
     "output_type": "stream",
     "text": [
      "Done.\n",
      "Searching for \"Represent\" by Nas...\n",
      "Searching for \"Represent\" by Nas...\n"
     ]
    },
    {
     "name": "stderr",
     "output_type": "stream",
     "text": [
      " 60%|████████████████████████████████████████▌                           | 789/1322 [36:12<51:14,  5.77s/it]"
     ]
    },
    {
     "name": "stdout",
     "output_type": "stream",
     "text": [
      "Done.\n",
      "Searching for \"Requiem pour un c... - BOF \"Le pacha\"\" by Serge Gainsbourg...\n",
      "No results found for: 'Requiem pour un c... - BOF \"Le pacha\" Serge Gainsbourg'\n",
      "Searching for \"Requiem pour un c... - BOF \"Le pacha\"\" by Serge Gainsbourg...\n",
      "No results found for: 'Requiem pour un c... - BOF \"Le pacha\" Serge Gainsbourg'\n",
      "Searching for \"Requiem pour un c... - BOF \"Le pacha\"\" by Serge Gainsbourg...\n",
      "No results found for: 'Requiem pour un c... - BOF \"Le pacha\" Serge Gainsbourg'\n",
      "Searching for \"Requiem pour un c... - BOF \"Le pacha\"\" by Serge Gainsbourg...\n",
      "No results found for: 'Requiem pour un c... - BOF \"Le pacha\" Serge Gainsbourg'\n",
      "Searching for \"Requiem pour un c... - BOF \"Le pacha\"\" by Serge Gainsbourg...\n"
     ]
    },
    {
     "name": "stderr",
     "output_type": "stream",
     "text": [
      " 60%|████████████████████████████████████████▋                           | 790/1322 [36:15<41:39,  4.70s/it]"
     ]
    },
    {
     "name": "stdout",
     "output_type": "stream",
     "text": [
      "No results found for: 'Requiem pour un c... - BOF \"Le pacha\" Serge Gainsbourg'\n",
      "Requiem pour un c... - BOF \"Le pacha\" Serge Gainsbourg Not present in Genius\n",
      "Searching for \"Return 2 Acid\" by Kerri Chandler...\n"
     ]
    },
    {
     "name": "stderr",
     "output_type": "stream",
     "text": [
      " 60%|████████████████████████████████████████▋                           | 791/1322 [36:17<36:03,  4.07s/it]"
     ]
    },
    {
     "name": "stdout",
     "output_type": "stream",
     "text": [
      "Done.\n",
      "Searching for \"Ripgroove\" by Double 99...\n"
     ]
    },
    {
     "name": "stderr",
     "output_type": "stream",
     "text": [
      " 60%|████████████████████████████████████████▋                           | 792/1322 [36:19<29:03,  3.29s/it]"
     ]
    },
    {
     "name": "stdout",
     "output_type": "stream",
     "text": [
      "Done.\n",
      "Searching for \"River Come Down\" by Andre Tanker...\n"
     ]
    },
    {
     "name": "stderr",
     "output_type": "stream",
     "text": [
      " 60%|████████████████████████████████████████▊                           | 793/1322 [36:21<26:03,  2.96s/it]"
     ]
    },
    {
     "name": "stdout",
     "output_type": "stream",
     "text": [
      "Done.\n",
      "Searching for \"Rocket Ship\" by Stark Reality...\n"
     ]
    },
    {
     "name": "stderr",
     "output_type": "stream",
     "text": [
      " 60%|████████████████████████████████████████▊                           | 794/1322 [36:24<25:29,  2.90s/it]"
     ]
    },
    {
     "name": "stdout",
     "output_type": "stream",
     "text": [
      "Done.\n",
      "Searching for \"Rose Quartz\" by Toro y Moi...\n"
     ]
    },
    {
     "name": "stderr",
     "output_type": "stream",
     "text": [
      " 60%|████████████████████████████████████████▉                           | 795/1322 [36:27<27:39,  3.15s/it]"
     ]
    },
    {
     "name": "stdout",
     "output_type": "stream",
     "text": [
      "Done.\n",
      "Searching for \"Row Fisherman\" by The Congos & The Heptones...\n",
      "No results found for: 'Row Fisherman The Congos & The Heptones'\n",
      "Searching for \"Row Fisherman\" by The Congos & The Heptones...\n",
      "No results found for: 'Row Fisherman The Congos & The Heptones'\n",
      "Searching for \"Row Fisherman\" by The Congos & The Heptones...\n",
      "No results found for: 'Row Fisherman The Congos & The Heptones'\n",
      "Searching for \"Row Fisherman\" by The Congos & The Heptones...\n",
      "No results found for: 'Row Fisherman The Congos & The Heptones'\n",
      "Searching for \"Row Fisherman\" by The Congos & The Heptones...\n"
     ]
    },
    {
     "name": "stderr",
     "output_type": "stream",
     "text": [
      " 60%|████████████████████████████████████████▉                           | 796/1322 [36:29<24:56,  2.84s/it]"
     ]
    },
    {
     "name": "stdout",
     "output_type": "stream",
     "text": [
      "No results found for: 'Row Fisherman The Congos & The Heptones'\n",
      "Row Fisherman The Congos & The Heptones Not present in Genius\n",
      "Searching for \"Runnin'\" by The Pharcyde...\n"
     ]
    },
    {
     "name": "stderr",
     "output_type": "stream",
     "text": [
      " 60%|████████████████████████████████████████▉                           | 797/1322 [36:31<21:36,  2.47s/it]"
     ]
    },
    {
     "name": "stdout",
     "output_type": "stream",
     "text": [
      "Done.\n",
      "Searching for \"Runnin' Away - single master\" by Sly & The Family Stone...\n"
     ]
    },
    {
     "name": "stderr",
     "output_type": "stream",
     "text": [
      " 60%|█████████████████████████████████████████                           | 798/1322 [36:34<23:08,  2.65s/it]"
     ]
    },
    {
     "name": "stdout",
     "output_type": "stream",
     "text": [
      "Done.\n",
      "Searching for \"Running Away\" by Roy Ayers...\n"
     ]
    },
    {
     "name": "stderr",
     "output_type": "stream",
     "text": [
      " 60%|█████████████████████████████████████████                           | 799/1322 [36:36<20:55,  2.40s/it]"
     ]
    },
    {
     "name": "stdout",
     "output_type": "stream",
     "text": [
      "Done.\n",
      "Searching for \"Saldubsa 2 - Original Mix\" by Rick Wilhite...\n",
      "No results found for: 'Saldubsa 2 - Original Mix Rick Wilhite'\n",
      "Searching for \"Saldubsa 2 - Original Mix\" by Rick Wilhite...\n",
      "No results found for: 'Saldubsa 2 - Original Mix Rick Wilhite'\n",
      "Searching for \"Saldubsa 2 - Original Mix\" by Rick Wilhite...\n",
      "No results found for: 'Saldubsa 2 - Original Mix Rick Wilhite'\n",
      "Searching for \"Saldubsa 2 - Original Mix\" by Rick Wilhite...\n",
      "No results found for: 'Saldubsa 2 - Original Mix Rick Wilhite'\n",
      "Searching for \"Saldubsa 2 - Original Mix\" by Rick Wilhite...\n"
     ]
    },
    {
     "name": "stderr",
     "output_type": "stream",
     "text": [
      " 61%|█████████████████████████████████████████▏                          | 800/1322 [36:38<19:12,  2.21s/it]"
     ]
    },
    {
     "name": "stdout",
     "output_type": "stream",
     "text": [
      "No results found for: 'Saldubsa 2 - Original Mix Rick Wilhite'\n",
      "Saldubsa 2 - Original Mix Rick Wilhite Not present in Genius\n",
      "Searching for \"Samba\" by Pivi et ses Balladins...\n",
      "No results found for: 'Samba Pivi et ses Balladins'\n",
      "Searching for \"Samba\" by Pivi et ses Balladins...\n",
      "No results found for: 'Samba Pivi et ses Balladins'\n",
      "Searching for \"Samba\" by Pivi et ses Balladins...\n",
      "No results found for: 'Samba Pivi et ses Balladins'\n",
      "Searching for \"Samba\" by Pivi et ses Balladins...\n",
      "No results found for: 'Samba Pivi et ses Balladins'\n",
      "Searching for \"Samba\" by Pivi et ses Balladins...\n"
     ]
    },
    {
     "name": "stderr",
     "output_type": "stream",
     "text": [
      " 61%|█████████████████████████████████████████▏                          | 801/1322 [36:40<18:19,  2.11s/it]"
     ]
    },
    {
     "name": "stdout",
     "output_type": "stream",
     "text": [
      "No results found for: 'Samba Pivi et ses Balladins'\n",
      "Samba Pivi et ses Balladins Not present in Genius\n",
      "Searching for \"Sanctified Lady\" by Marvin Gaye...\n"
     ]
    },
    {
     "name": "stderr",
     "output_type": "stream",
     "text": [
      " 61%|█████████████████████████████████████████▎                          | 802/1322 [36:42<18:43,  2.16s/it]"
     ]
    },
    {
     "name": "stdout",
     "output_type": "stream",
     "text": [
      "Done.\n",
      "Searching for \"Sanjina\" by Orchestre Régional De Kayes...\n",
      "No results found for: 'Sanjina Orchestre Régional De Kayes'\n",
      "Searching for \"Sanjina\" by Orchestre Régional De Kayes...\n",
      "No results found for: 'Sanjina Orchestre Régional De Kayes'\n",
      "Searching for \"Sanjina\" by Orchestre Régional De Kayes...\n",
      "No results found for: 'Sanjina Orchestre Régional De Kayes'\n",
      "Searching for \"Sanjina\" by Orchestre Régional De Kayes...\n",
      "No results found for: 'Sanjina Orchestre Régional De Kayes'\n",
      "Searching for \"Sanjina\" by Orchestre Régional De Kayes...\n"
     ]
    },
    {
     "name": "stderr",
     "output_type": "stream",
     "text": [
      " 61%|█████████████████████████████████████████▎                          | 803/1322 [36:44<17:39,  2.04s/it]"
     ]
    },
    {
     "name": "stdout",
     "output_type": "stream",
     "text": [
      "No results found for: 'Sanjina Orchestre Régional De Kayes'\n",
      "Sanjina Orchestre Régional De Kayes Not present in Genius\n",
      "Searching for \"Scenario - LP Mix\" by A Tribe Called Quest...\n",
      "No results found for: 'Scenario - LP Mix A Tribe Called Quest'\n",
      "Searching for \"Scenario - LP Mix\" by A Tribe Called Quest...\n",
      "No results found for: 'Scenario - LP Mix A Tribe Called Quest'\n",
      "Searching for \"Scenario - LP Mix\" by A Tribe Called Quest...\n",
      "No results found for: 'Scenario - LP Mix A Tribe Called Quest'\n",
      "Searching for \"Scenario - LP Mix\" by A Tribe Called Quest...\n",
      "No results found for: 'Scenario - LP Mix A Tribe Called Quest'\n",
      "Searching for \"Scenario - LP Mix\" by A Tribe Called Quest...\n"
     ]
    },
    {
     "name": "stderr",
     "output_type": "stream",
     "text": [
      " 61%|█████████████████████████████████████████▎                          | 804/1322 [36:46<17:31,  2.03s/it]"
     ]
    },
    {
     "name": "stdout",
     "output_type": "stream",
     "text": [
      "No results found for: 'Scenario - LP Mix A Tribe Called Quest'\n",
      "Scenario - LP Mix A Tribe Called Quest Not present in Genius\n",
      "Searching for \"Scrappy\" by Wookie...\n"
     ]
    },
    {
     "name": "stderr",
     "output_type": "stream",
     "text": [
      " 61%|█████████████████████████████████████████▍                          | 805/1322 [36:48<18:20,  2.13s/it]"
     ]
    },
    {
     "name": "stdout",
     "output_type": "stream",
     "text": [
      "Done.\n",
      "Searching for \"Sea Bed Meditation\" by Jürgen Müller...\n"
     ]
    },
    {
     "name": "stderr",
     "output_type": "stream",
     "text": [
      " 61%|█████████████████████████████████████████▍                          | 806/1322 [36:51<20:35,  2.39s/it]"
     ]
    },
    {
     "name": "stdout",
     "output_type": "stream",
     "text": [
      "Done.\n",
      "Searching for \"Seagreen Serenades\" by Silver Apples...\n"
     ]
    },
    {
     "name": "stderr",
     "output_type": "stream",
     "text": [
      " 61%|█████████████████████████████████████████▌                          | 807/1322 [36:53<20:32,  2.39s/it]"
     ]
    },
    {
     "name": "stdout",
     "output_type": "stream",
     "text": [
      "Done.\n",
      "Searching for \"Serenade\" by Steve Miller Band...\n"
     ]
    },
    {
     "name": "stderr",
     "output_type": "stream",
     "text": [
      " 61%|█████████████████████████████████████████▌                          | 808/1322 [36:56<20:57,  2.45s/it]"
     ]
    },
    {
     "name": "stdout",
     "output_type": "stream",
     "text": [
      "Done.\n",
      "Searching for \"Serial Killa (feat. The D.O.C., Tha Dogg Pound & RBX)\" by Snoop Dogg...\n"
     ]
    },
    {
     "name": "stderr",
     "output_type": "stream",
     "text": [
      " 61%|█████████████████████████████████████████▌                          | 809/1322 [36:57<18:32,  2.17s/it]"
     ]
    },
    {
     "name": "stdout",
     "output_type": "stream",
     "text": [
      "Done.\n",
      "Searching for \"Shades Of Jae\" by Moodymann...\n",
      "No results found for: 'Shades Of Jae Moodymann'\n",
      "Searching for \"Shades Of Jae\" by Moodymann...\n",
      "No results found for: 'Shades Of Jae Moodymann'\n",
      "Searching for \"Shades Of Jae\" by Moodymann...\n",
      "No results found for: 'Shades Of Jae Moodymann'\n",
      "Searching for \"Shades Of Jae\" by Moodymann...\n",
      "No results found for: 'Shades Of Jae Moodymann'\n",
      "Searching for \"Shades Of Jae\" by Moodymann...\n"
     ]
    },
    {
     "name": "stderr",
     "output_type": "stream",
     "text": [
      " 61%|█████████████████████████████████████████▋                          | 810/1322 [36:59<17:35,  2.06s/it]"
     ]
    },
    {
     "name": "stdout",
     "output_type": "stream",
     "text": [
      "No results found for: 'Shades Of Jae Moodymann'\n",
      "Shades Of Jae Moodymann Not present in Genius\n",
      "Searching for \"Shakey Jake\" by Joe Mcphee...\n",
      "No results found for: 'Shakey Jake Joe Mcphee'\n",
      "Searching for \"Shakey Jake\" by Joe Mcphee...\n",
      "No results found for: 'Shakey Jake Joe Mcphee'\n",
      "Searching for \"Shakey Jake\" by Joe Mcphee...\n",
      "No results found for: 'Shakey Jake Joe Mcphee'\n",
      "Searching for \"Shakey Jake\" by Joe Mcphee...\n",
      "No results found for: 'Shakey Jake Joe Mcphee'\n",
      "Searching for \"Shakey Jake\" by Joe Mcphee...\n"
     ]
    },
    {
     "name": "stderr",
     "output_type": "stream",
     "text": [
      " 61%|█████████████████████████████████████████▋                          | 811/1322 [37:01<17:09,  2.01s/it]"
     ]
    },
    {
     "name": "stdout",
     "output_type": "stream",
     "text": [
      "No results found for: 'Shakey Jake Joe Mcphee'\n",
      "Shakey Jake Joe Mcphee Not present in Genius\n",
      "Searching for \"Shari Vari - Original Mix\" by A Number Of Names...\n"
     ]
    },
    {
     "name": "stderr",
     "output_type": "stream",
     "text": [
      " 61%|█████████████████████████████████████████▊                          | 812/1322 [37:04<18:25,  2.17s/it]"
     ]
    },
    {
     "name": "stdout",
     "output_type": "stream",
     "text": [
      "Done.\n",
      "Searching for \"She wears a hemispherical skullcap: She wears a hemispherical skullcap\" by Craig Leon...\n",
      "No results found for: 'She wears a hemispherical skullcap: She wears a hemispherical skullcap Craig Leon'\n",
      "Searching for \"She wears a hemispherical skullcap: She wears a hemispherical skullcap\" by Craig Leon...\n",
      "No results found for: 'She wears a hemispherical skullcap: She wears a hemispherical skullcap Craig Leon'\n",
      "Searching for \"She wears a hemispherical skullcap: She wears a hemispherical skullcap\" by Craig Leon...\n",
      "No results found for: 'She wears a hemispherical skullcap: She wears a hemispherical skullcap Craig Leon'\n",
      "Searching for \"She wears a hemispherical skullcap: She wears a hemispherical skullcap\" by Craig Leon...\n",
      "No results found for: 'She wears a hemispherical skullcap: She wears a hemispherical skullcap Craig Leon'\n",
      "Searching for \"She wears a hemispherical skullcap: She wears a hemispherical skullcap\" by Craig Leon...\n"
     ]
    },
    {
     "name": "stderr",
     "output_type": "stream",
     "text": [
      " 61%|█████████████████████████████████████████▊                          | 813/1322 [37:05<17:23,  2.05s/it]"
     ]
    },
    {
     "name": "stdout",
     "output_type": "stream",
     "text": [
      "No results found for: 'She wears a hemispherical skullcap: She wears a hemispherical skullcap Craig Leon'\n",
      "She wears a hemispherical skullcap: She wears a hemispherical skullcap Craig Leon Not present in Genius\n",
      "Searching for \"She's A Rainbow\" by The Rolling Stones...\n"
     ]
    },
    {
     "name": "stderr",
     "output_type": "stream",
     "text": [
      " 62%|█████████████████████████████████████████▊                          | 814/1322 [37:08<17:34,  2.08s/it]"
     ]
    },
    {
     "name": "stdout",
     "output_type": "stream",
     "text": [
      "Done.\n",
      "Searching for \"Shhh / Peaceful\" by Miles Davis...\n",
      "Specified song does not contain lyrics. Rejecting.\n",
      "Searching for \"Shhh / Peaceful\" by Miles Davis...\n",
      "Specified song does not contain lyrics. Rejecting.\n",
      "Searching for \"Shhh / Peaceful\" by Miles Davis...\n",
      "Specified song does not contain lyrics. Rejecting.\n",
      "Searching for \"Shhh / Peaceful\" by Miles Davis...\n",
      "Specified song does not contain lyrics. Rejecting.\n",
      "Searching for \"Shhh / Peaceful\" by Miles Davis...\n"
     ]
    },
    {
     "name": "stderr",
     "output_type": "stream",
     "text": [
      " 62%|█████████████████████████████████████████▉                          | 815/1322 [37:10<18:01,  2.13s/it]"
     ]
    },
    {
     "name": "stdout",
     "output_type": "stream",
     "text": [
      "Specified song does not contain lyrics. Rejecting.\n",
      "Shhh / Peaceful Miles Davis Not present in Genius\n",
      "Searching for \"Shimmy Shimmy Ya\" by Ol' Dirty Bastard...\n"
     ]
    },
    {
     "name": "stderr",
     "output_type": "stream",
     "text": [
      " 62%|█████████████████████████████████████████▉                          | 816/1322 [37:12<18:01,  2.14s/it]"
     ]
    },
    {
     "name": "stdout",
     "output_type": "stream",
     "text": [
      "Done.\n",
      "Searching for \"Shooting Stars\" by Stark Reality...\n"
     ]
    },
    {
     "name": "stderr",
     "output_type": "stream",
     "text": [
      " 62%|██████████████████████████████████████████                          | 817/1322 [37:15<19:47,  2.35s/it]"
     ]
    },
    {
     "name": "stdout",
     "output_type": "stream",
     "text": [
      "Done.\n",
      "Searching for \"Sine Of The Dub\" by Kode9...\n",
      "No results found for: 'Sine Of The Dub Kode9'\n",
      "Searching for \"Sine Of The Dub\" by Kode9...\n",
      "No results found for: 'Sine Of The Dub Kode9'\n",
      "Searching for \"Sine Of The Dub\" by Kode9...\n",
      "No results found for: 'Sine Of The Dub Kode9'\n",
      "Searching for \"Sine Of The Dub\" by Kode9...\n",
      "No results found for: 'Sine Of The Dub Kode9'\n",
      "Searching for \"Sine Of The Dub\" by Kode9...\n"
     ]
    },
    {
     "name": "stderr",
     "output_type": "stream",
     "text": [
      " 62%|██████████████████████████████████████████                          | 818/1322 [37:17<18:25,  2.19s/it]"
     ]
    },
    {
     "name": "stdout",
     "output_type": "stream",
     "text": [
      "No results found for: 'Sine Of The Dub Kode9'\n",
      "Sine Of The Dub Kode9 Not present in Genius\n",
      "Searching for \"Sing Swan Song\" by CAN...\n"
     ]
    },
    {
     "name": "stderr",
     "output_type": "stream",
     "text": [
      " 62%|██████████████████████████████████████████▏                         | 819/1322 [37:20<20:23,  2.43s/it]"
     ]
    },
    {
     "name": "stdout",
     "output_type": "stream",
     "text": [
      "Done.\n",
      "Searching for \"Sippin On Some Syrup (feat. UGK (Underground Kingz) & Project Pat)\" by Three 6 Mafia...\n"
     ]
    },
    {
     "name": "stderr",
     "output_type": "stream",
     "text": [
      " 62%|██████████████████████████████████████████▏                         | 820/1322 [37:23<21:56,  2.62s/it]"
     ]
    },
    {
     "name": "stdout",
     "output_type": "stream",
     "text": [
      "Done.\n",
      "Searching for \"Sirens\" by Hard House Bantons...\n"
     ]
    },
    {
     "name": "stderr",
     "output_type": "stream",
     "text": [
      " 62%|██████████████████████████████████████████▏                         | 821/1322 [37:26<22:27,  2.69s/it]"
     ]
    },
    {
     "name": "stdout",
     "output_type": "stream",
     "text": [
      "Done.\n",
      "Searching for \"Sleepy Eyes\" by Morning...\n"
     ]
    },
    {
     "name": "stderr",
     "output_type": "stream",
     "text": [
      " 62%|██████████████████████████████████████████▎                         | 822/1322 [37:28<20:49,  2.50s/it]"
     ]
    },
    {
     "name": "stdout",
     "output_type": "stream",
     "text": [
      "Done.\n",
      "Searching for \"Soon\" by my bloody valentine...\n"
     ]
    },
    {
     "name": "stderr",
     "output_type": "stream",
     "text": [
      " 62%|██████████████████████████████████████████▎                         | 823/1322 [37:31<22:57,  2.76s/it]"
     ]
    },
    {
     "name": "stdout",
     "output_type": "stream",
     "text": [
      "Done.\n",
      "Searching for \"Soon I'll Be Loving You Again\" by Marvin Gaye...\n"
     ]
    },
    {
     "name": "stderr",
     "output_type": "stream",
     "text": [
      " 62%|██████████████████████████████████████████▍                         | 824/1322 [37:34<22:23,  2.70s/it]"
     ]
    },
    {
     "name": "stdout",
     "output_type": "stream",
     "text": [
      "Done.\n",
      "Searching for \"Soul Drums\" by Bernard \"Pretty\" Purdie...\n"
     ]
    },
    {
     "name": "stderr",
     "output_type": "stream",
     "text": [
      " 62%|██████████████████████████████████████████▍                         | 825/1322 [37:37<23:28,  2.83s/it]"
     ]
    },
    {
     "name": "stdout",
     "output_type": "stream",
     "text": [
      "Done.\n",
      "Searching for \"Space\" by Galt MacDermot...\n",
      "Specified song does not contain lyrics. Rejecting.\n",
      "Searching for \"Space\" by Galt MacDermot...\n",
      "Specified song does not contain lyrics. Rejecting.\n",
      "Searching for \"Space\" by Galt MacDermot...\n",
      "Specified song does not contain lyrics. Rejecting.\n",
      "Searching for \"Space\" by Galt MacDermot...\n",
      "Specified song does not contain lyrics. Rejecting.\n",
      "Searching for \"Space\" by Galt MacDermot...\n"
     ]
    },
    {
     "name": "stderr",
     "output_type": "stream",
     "text": [
      " 62%|██████████████████████████████████████████▍                         | 826/1322 [37:39<22:30,  2.72s/it]"
     ]
    },
    {
     "name": "stdout",
     "output_type": "stream",
     "text": [
      "Specified song does not contain lyrics. Rejecting.\n",
      "Space Galt MacDermot Not present in Genius\n",
      "Searching for \"Space Intro\" by Steve Miller Band...\n",
      "Specified song does not contain lyrics. Rejecting.\n",
      "Searching for \"Space Intro\" by Steve Miller Band...\n",
      "Specified song does not contain lyrics. Rejecting.\n",
      "Searching for \"Space Intro\" by Steve Miller Band...\n",
      "Specified song does not contain lyrics. Rejecting.\n",
      "Searching for \"Space Intro\" by Steve Miller Band...\n",
      "Specified song does not contain lyrics. Rejecting.\n",
      "Searching for \"Space Intro\" by Steve Miller Band...\n"
     ]
    },
    {
     "name": "stderr",
     "output_type": "stream",
     "text": [
      " 63%|██████████████████████████████████████████▌                         | 827/1322 [37:41<21:19,  2.58s/it]"
     ]
    },
    {
     "name": "stdout",
     "output_type": "stream",
     "text": [
      "Specified song does not contain lyrics. Rejecting.\n",
      "Space Intro Steve Miller Band Not present in Genius\n",
      "Searching for \"Space Odyssey\" by Marcus Belgrave...\n",
      "No results found for: 'Space Odyssey Marcus Belgrave'\n",
      "Searching for \"Space Odyssey\" by Marcus Belgrave...\n",
      "No results found for: 'Space Odyssey Marcus Belgrave'\n",
      "Searching for \"Space Odyssey\" by Marcus Belgrave...\n",
      "No results found for: 'Space Odyssey Marcus Belgrave'\n",
      "Searching for \"Space Odyssey\" by Marcus Belgrave...\n",
      "No results found for: 'Space Odyssey Marcus Belgrave'\n",
      "Searching for \"Space Odyssey\" by Marcus Belgrave...\n"
     ]
    },
    {
     "name": "stderr",
     "output_type": "stream",
     "text": [
      " 63%|██████████████████████████████████████████▌                         | 828/1322 [37:44<20:00,  2.43s/it]"
     ]
    },
    {
     "name": "stdout",
     "output_type": "stream",
     "text": [
      "No results found for: 'Space Odyssey Marcus Belgrave'\n",
      "Space Odyssey Marcus Belgrave Not present in Genius\n",
      "Searching for \"Spanish Joint\" by D'Angelo...\n"
     ]
    },
    {
     "name": "stderr",
     "output_type": "stream",
     "text": [
      " 63%|██████████████████████████████████████████▋                         | 829/1322 [37:48<24:51,  3.02s/it]"
     ]
    },
    {
     "name": "stdout",
     "output_type": "stream",
     "text": [
      "Done.\n",
      "Searching for \"Spastik\" by Plastikman...\n",
      "Specified song does not contain lyrics. Rejecting.\n",
      "Searching for \"Spastik\" by Plastikman...\n",
      "Specified song does not contain lyrics. Rejecting.\n",
      "Searching for \"Spastik\" by Plastikman...\n",
      "Specified song does not contain lyrics. Rejecting.\n",
      "Searching for \"Spastik\" by Plastikman...\n",
      "Specified song does not contain lyrics. Rejecting.\n",
      "Searching for \"Spastik\" by Plastikman...\n"
     ]
    },
    {
     "name": "stderr",
     "output_type": "stream",
     "text": [
      " 63%|██████████████████████████████████████████▋                         | 830/1322 [37:50<22:53,  2.79s/it]"
     ]
    },
    {
     "name": "stdout",
     "output_type": "stream",
     "text": [
      "Specified song does not contain lyrics. Rejecting.\n",
      "Spastik Plastikman Not present in Genius\n",
      "Searching for \"Spin It\" by Sunbelt...\n",
      "No results found for: 'Spin It Sunbelt'\n",
      "Searching for \"Spin It\" by Sunbelt...\n",
      "No results found for: 'Spin It Sunbelt'\n",
      "Searching for \"Spin It\" by Sunbelt...\n",
      "No results found for: 'Spin It Sunbelt'\n",
      "Searching for \"Spin It\" by Sunbelt...\n",
      "No results found for: 'Spin It Sunbelt'\n",
      "Searching for \"Spin It\" by Sunbelt...\n"
     ]
    },
    {
     "name": "stderr",
     "output_type": "stream",
     "text": [
      " 63%|██████████████████████████████████████████▋                         | 831/1322 [37:52<21:01,  2.57s/it]"
     ]
    },
    {
     "name": "stdout",
     "output_type": "stream",
     "text": [
      "No results found for: 'Spin It Sunbelt'\n",
      "Spin It Sunbelt Not present in Genius\n",
      "Searching for \"Step In The Arena\" by Gang Starr...\n"
     ]
    },
    {
     "name": "stderr",
     "output_type": "stream",
     "text": [
      " 63%|██████████████████████████████████████████▊                         | 832/1322 [37:59<30:49,  3.77s/it]"
     ]
    },
    {
     "name": "stdout",
     "output_type": "stream",
     "text": [
      "Done.\n",
      "Searching for \"Still Thinking Of You\" by Steve Parks...\n"
     ]
    },
    {
     "name": "stderr",
     "output_type": "stream",
     "text": [
      " 63%|██████████████████████████████████████████▊                         | 833/1322 [38:03<30:38,  3.76s/it]"
     ]
    },
    {
     "name": "stdout",
     "output_type": "stream",
     "text": [
      "Done.\n",
      "Searching for \"Stone Fox Chase (From \"The Old Grey Whistle Test\") - Remastered\" by Area Code 615...\n",
      "No results found for: 'Stone Fox Chase (From \"The Old Grey Whistle Test\") - Remastered Area Code 615'\n",
      "Searching for \"Stone Fox Chase (From \"The Old Grey Whistle Test\") - Remastered\" by Area Code 615...\n",
      "No results found for: 'Stone Fox Chase (From \"The Old Grey Whistle Test\") - Remastered Area Code 615'\n",
      "Searching for \"Stone Fox Chase (From \"The Old Grey Whistle Test\") - Remastered\" by Area Code 615...\n",
      "No results found for: 'Stone Fox Chase (From \"The Old Grey Whistle Test\") - Remastered Area Code 615'\n",
      "Searching for \"Stone Fox Chase (From \"The Old Grey Whistle Test\") - Remastered\" by Area Code 615...\n",
      "No results found for: 'Stone Fox Chase (From \"The Old Grey Whistle Test\") - Remastered Area Code 615'\n",
      "Searching for \"Stone Fox Chase (From \"The Old Grey Whistle Test\") - Remastered\" by Area Code 615...\n"
     ]
    },
    {
     "name": "stderr",
     "output_type": "stream",
     "text": [
      " 63%|██████████████████████████████████████████▉                         | 834/1322 [38:05<27:22,  3.37s/it]"
     ]
    },
    {
     "name": "stdout",
     "output_type": "stream",
     "text": [
      "No results found for: 'Stone Fox Chase (From \"The Old Grey Whistle Test\") - Remastered Area Code 615'\n",
      "Stone Fox Chase (From \"The Old Grey Whistle Test\") - Remastered Area Code 615 Not present in Genius\n",
      "Searching for \"Stop\" by J Dilla...\n"
     ]
    },
    {
     "name": "stderr",
     "output_type": "stream",
     "text": [
      " 63%|██████████████████████████████████████████▉                         | 835/1322 [38:09<27:51,  3.43s/it]"
     ]
    },
    {
     "name": "stdout",
     "output_type": "stream",
     "text": [
      "Done.\n",
      "Searching for \"Straight Outta Compton\" by N.W.A....\n",
      "Searching for \"Straight Outta Compton\" by N.W.A....\n"
     ]
    },
    {
     "name": "stderr",
     "output_type": "stream",
     "text": [
      " 63%|███████████████████████████████████████████                         | 836/1322 [38:17<39:03,  4.82s/it]"
     ]
    },
    {
     "name": "stdout",
     "output_type": "stream",
     "text": [
      "Done.\n",
      "Searching for \"Strange Powers\" by The Magnetic Fields...\n"
     ]
    },
    {
     "name": "stderr",
     "output_type": "stream",
     "text": [
      " 63%|███████████████████████████████████████████                         | 837/1322 [38:19<32:32,  4.03s/it]"
     ]
    },
    {
     "name": "stdout",
     "output_type": "stream",
     "text": [
      "Done.\n",
      "Searching for \"Strawberry Letter 23\" by Shuggie Otis...\n"
     ]
    },
    {
     "name": "stderr",
     "output_type": "stream",
     "text": [
      " 63%|███████████████████████████████████████████                         | 838/1322 [38:21<28:48,  3.57s/it]"
     ]
    },
    {
     "name": "stdout",
     "output_type": "stream",
     "text": [
      "Done.\n",
      "Searching for \"Strawberry Letter 23\" by The Brothers Johnson...\n"
     ]
    },
    {
     "name": "stderr",
     "output_type": "stream",
     "text": [
      " 63%|███████████████████████████████████████████▏                        | 839/1322 [38:25<29:17,  3.64s/it]"
     ]
    },
    {
     "name": "stdout",
     "output_type": "stream",
     "text": [
      "Done.\n",
      "Searching for \"Strings of Life\" by Derrick May...\n"
     ]
    },
    {
     "name": "stderr",
     "output_type": "stream",
     "text": [
      " 64%|███████████████████████████████████████████▏                        | 840/1322 [38:30<31:06,  3.87s/it]"
     ]
    },
    {
     "name": "stdout",
     "output_type": "stream",
     "text": [
      "Done.\n",
      "Searching for \"Sucka Nigga\" by A Tribe Called Quest...\n"
     ]
    },
    {
     "name": "stderr",
     "output_type": "stream",
     "text": [
      " 64%|███████████████████████████████████████████▎                        | 841/1322 [38:31<26:21,  3.29s/it]"
     ]
    },
    {
     "name": "stdout",
     "output_type": "stream",
     "text": [
      "Done.\n",
      "Searching for \"Sun Goddess (feat. Ramsey Lewis)\" by Earth, Wind & Fire...\n"
     ]
    },
    {
     "name": "stderr",
     "output_type": "stream",
     "text": [
      " 64%|███████████████████████████████████████████▎                        | 842/1322 [38:35<27:13,  3.40s/it]"
     ]
    },
    {
     "name": "stdout",
     "output_type": "stream",
     "text": [
      "Done.\n",
      "Searching for \"Sunday Morning\" by The Velvet Underground...\n"
     ]
    },
    {
     "name": "stderr",
     "output_type": "stream",
     "text": [
      " 64%|███████████████████████████████████████████▎                        | 843/1322 [38:37<23:09,  2.90s/it]"
     ]
    },
    {
     "name": "stdout",
     "output_type": "stream",
     "text": [
      "Done.\n",
      "Searching for \"Super Electric\" by Stereolab...\n"
     ]
    },
    {
     "name": "stderr",
     "output_type": "stream",
     "text": [
      " 64%|███████████████████████████████████████████▍                        | 844/1322 [38:40<23:13,  2.91s/it]"
     ]
    },
    {
     "name": "stdout",
     "output_type": "stream",
     "text": [
      "Done.\n",
      "Searching for \"SuperThug\" by N.O.R.E....\n"
     ]
    },
    {
     "name": "stderr",
     "output_type": "stream",
     "text": [
      " 64%|███████████████████████████████████████████▍                        | 845/1322 [38:43<24:45,  3.11s/it]"
     ]
    },
    {
     "name": "stdout",
     "output_type": "stream",
     "text": [
      "Done.\n",
      "Searching for \"Supervillain Theme\" by Madvillain...\n"
     ]
    },
    {
     "name": "stderr",
     "output_type": "stream",
     "text": [
      " 64%|███████████████████████████████████████████▌                        | 846/1322 [38:48<28:15,  3.56s/it]"
     ]
    },
    {
     "name": "stdout",
     "output_type": "stream",
     "text": [
      "Done.\n",
      "Searching for \"Survival of the Fittest\" by Mobb Deep...\n",
      "Searching for \"Survival of the Fittest\" by Mobb Deep...\n",
      "Searching for \"Survival of the Fittest\" by Mobb Deep...\n"
     ]
    },
    {
     "name": "stderr",
     "output_type": "stream",
     "text": [
      " 64%|███████████████████████████████████████████▌                        | 847/1322 [39:02<52:19,  6.61s/it]"
     ]
    },
    {
     "name": "stdout",
     "output_type": "stream",
     "text": [
      "Done.\n",
      "Searching for \"Suspiria - Movie Theme\" by Goblin...\n",
      "No results found for: 'Suspiria - Movie Theme Goblin'\n",
      "Searching for \"Suspiria - Movie Theme\" by Goblin...\n",
      "No results found for: 'Suspiria - Movie Theme Goblin'\n",
      "Searching for \"Suspiria - Movie Theme\" by Goblin...\n",
      "No results found for: 'Suspiria - Movie Theme Goblin'\n",
      "Searching for \"Suspiria - Movie Theme\" by Goblin...\n",
      "No results found for: 'Suspiria - Movie Theme Goblin'\n",
      "Searching for \"Suspiria - Movie Theme\" by Goblin...\n"
     ]
    },
    {
     "name": "stderr",
     "output_type": "stream",
     "text": [
      " 64%|███████████████████████████████████████████▌                        | 848/1322 [39:04<40:51,  5.17s/it]"
     ]
    },
    {
     "name": "stdout",
     "output_type": "stream",
     "text": [
      "No results found for: 'Suspiria - Movie Theme Goblin'\n",
      "Suspiria - Movie Theme Goblin Not present in Genius\n",
      "Searching for \"Swallow (EP Version)\" by my bloody valentine...\n"
     ]
    },
    {
     "name": "stderr",
     "output_type": "stream",
     "text": [
      " 64%|███████████████████████████████████████████▋                        | 849/1322 [39:06<34:25,  4.37s/it]"
     ]
    },
    {
     "name": "stdout",
     "output_type": "stream",
     "text": [
      "Done.\n",
      "Searching for \"Sympathy For The Devil\" by The Rolling Stones...\n",
      "Searching for \"Sympathy For The Devil\" by The Rolling Stones...\n",
      "Searching for \"Sympathy For The Devil\" by The Rolling Stones...\n"
     ]
    },
    {
     "name": "stderr",
     "output_type": "stream",
     "text": [
      " 64%|███████████████████████████████████████████▋                        | 850/1322 [39:20<55:47,  7.09s/it]"
     ]
    },
    {
     "name": "stdout",
     "output_type": "stream",
     "text": [
      "Done.\n",
      "Searching for \"Take 'Em To War\" by Kool G Rap...\n"
     ]
    },
    {
     "name": "stderr",
     "output_type": "stream",
     "text": [
      " 64%|███████████████████████████████████████████▊                        | 851/1322 [39:21<42:47,  5.45s/it]"
     ]
    },
    {
     "name": "stdout",
     "output_type": "stream",
     "text": [
      "Done.\n",
      "Searching for \"Take It Personal\" by Gang Starr...\n"
     ]
    },
    {
     "name": "stderr",
     "output_type": "stream",
     "text": [
      " 64%|███████████████████████████████████████████▊                        | 852/1322 [39:25<39:51,  5.09s/it]"
     ]
    },
    {
     "name": "stdout",
     "output_type": "stream",
     "text": [
      "Done.\n",
      "Searching for \"Takeover\" by JAY-Z...\n"
     ]
    },
    {
     "name": "stderr",
     "output_type": "stream",
     "text": [
      " 65%|███████████████████████████████████████████▉                        | 853/1322 [39:28<33:14,  4.25s/it]"
     ]
    },
    {
     "name": "stdout",
     "output_type": "stream",
     "text": [
      "Done.\n",
      "Searching for \"Tale In Hard Time\" by Fairport Convention...\n"
     ]
    },
    {
     "name": "stderr",
     "output_type": "stream",
     "text": [
      " 65%|███████████████████████████████████████████▉                        | 854/1322 [39:31<31:12,  4.00s/it]"
     ]
    },
    {
     "name": "stdout",
     "output_type": "stream",
     "text": [
      "Done.\n",
      "Searching for \"Teach Me How To Fight\" by Junior Boys...\n"
     ]
    },
    {
     "name": "stderr",
     "output_type": "stream",
     "text": [
      " 65%|███████████████████████████████████████████▉                        | 855/1322 [39:33<25:34,  3.29s/it]"
     ]
    },
    {
     "name": "stdout",
     "output_type": "stream",
     "text": [
      "Done.\n",
      "Searching for \"Tears - Remastered\" by Giorgio Moroder...\n",
      "Specified song does not contain lyrics. Rejecting.\n",
      "Searching for \"Tears - Remastered\" by Giorgio Moroder...\n",
      "Specified song does not contain lyrics. Rejecting.\n",
      "Searching for \"Tears - Remastered\" by Giorgio Moroder...\n",
      "Specified song does not contain lyrics. Rejecting.\n",
      "Searching for \"Tears - Remastered\" by Giorgio Moroder...\n",
      "Specified song does not contain lyrics. Rejecting.\n",
      "Searching for \"Tears - Remastered\" by Giorgio Moroder...\n"
     ]
    },
    {
     "name": "stderr",
     "output_type": "stream",
     "text": [
      " 65%|████████████████████████████████████████████                        | 856/1322 [39:36<25:43,  3.31s/it]"
     ]
    },
    {
     "name": "stdout",
     "output_type": "stream",
     "text": [
      "Specified song does not contain lyrics. Rejecting.\n",
      "Tears - Remastered Giorgio Moroder Not present in Genius\n",
      "Searching for \"Tearz (feat. RZA, Ghostface Killah, Raekwon & Inspectah Deck)\" by Wu-Tang Clan...\n"
     ]
    },
    {
     "name": "stderr",
     "output_type": "stream",
     "text": [
      " 65%|████████████████████████████████████████████                        | 857/1322 [39:38<22:54,  2.96s/it]"
     ]
    },
    {
     "name": "stdout",
     "output_type": "stream",
     "text": [
      "Done.\n",
      "Searching for \"Tell Her\" by Fred Williams...\n"
     ]
    },
    {
     "name": "stderr",
     "output_type": "stream",
     "text": [
      " 65%|████████████████████████████████████████████▏                       | 858/1322 [39:41<22:17,  2.88s/it]"
     ]
    },
    {
     "name": "stdout",
     "output_type": "stream",
     "text": [
      "Done.\n",
      "Searching for \"Tell Her She's Lovely\" by El Chicano...\n"
     ]
    },
    {
     "name": "stderr",
     "output_type": "stream",
     "text": [
      " 65%|████████████████████████████████████████████▏                       | 859/1322 [39:45<24:47,  3.21s/it]"
     ]
    },
    {
     "name": "stdout",
     "output_type": "stream",
     "text": [
      "Done.\n",
      "Searching for \"Ten Et Tiwa\" by Alain Goraguer...\n",
      "Specified song does not contain lyrics. Rejecting.\n",
      "Searching for \"Ten Et Tiwa\" by Alain Goraguer...\n",
      "Specified song does not contain lyrics. Rejecting.\n",
      "Searching for \"Ten Et Tiwa\" by Alain Goraguer...\n",
      "Specified song does not contain lyrics. Rejecting.\n",
      "Searching for \"Ten Et Tiwa\" by Alain Goraguer...\n",
      "Specified song does not contain lyrics. Rejecting.\n",
      "Searching for \"Ten Et Tiwa\" by Alain Goraguer...\n"
     ]
    },
    {
     "name": "stderr",
     "output_type": "stream",
     "text": [
      " 65%|████████████████████████████████████████████▏                       | 860/1322 [39:47<21:42,  2.82s/it]"
     ]
    },
    {
     "name": "stdout",
     "output_type": "stream",
     "text": [
      "Specified song does not contain lyrics. Rejecting.\n",
      "Ten Et Tiwa Alain Goraguer Not present in Genius\n",
      "Searching for \"Thank You for the Smile\" by Keith Tippett...\n",
      "No results found for: 'Thank You for the Smile Keith Tippett'\n",
      "Searching for \"Thank You for the Smile\" by Keith Tippett...\n",
      "No results found for: 'Thank You for the Smile Keith Tippett'\n",
      "Searching for \"Thank You for the Smile\" by Keith Tippett...\n",
      "No results found for: 'Thank You for the Smile Keith Tippett'\n",
      "Searching for \"Thank You for the Smile\" by Keith Tippett...\n",
      "No results found for: 'Thank You for the Smile Keith Tippett'\n",
      "Searching for \"Thank You for the Smile\" by Keith Tippett...\n"
     ]
    },
    {
     "name": "stderr",
     "output_type": "stream",
     "text": [
      " 65%|████████████████████████████████████████████▎                       | 861/1322 [39:49<19:24,  2.53s/it]"
     ]
    },
    {
     "name": "stdout",
     "output_type": "stream",
     "text": [
      "No results found for: 'Thank You for the Smile Keith Tippett'\n",
      "Thank You for the Smile Keith Tippett Not present in Genius\n",
      "Searching for \"That's the Way - 1993 Remaster\" by Led Zeppelin...\n"
     ]
    },
    {
     "name": "stderr",
     "output_type": "stream",
     "text": [
      " 65%|████████████████████████████████████████████▎                       | 862/1322 [39:52<20:12,  2.64s/it]"
     ]
    },
    {
     "name": "stdout",
     "output_type": "stream",
     "text": [
      "Done.\n",
      "Searching for \"That's Us / Wild Combination\" by Arthur Russell...\n"
     ]
    },
    {
     "name": "stderr",
     "output_type": "stream",
     "text": [
      " 65%|████████████████████████████████████████████▍                       | 863/1322 [39:55<21:20,  2.79s/it]"
     ]
    },
    {
     "name": "stdout",
     "output_type": "stream",
     "text": [
      "Done.\n",
      "Searching for \"The 15th - 2006 Remastered Version\" by Wire...\n"
     ]
    },
    {
     "name": "stderr",
     "output_type": "stream",
     "text": [
      " 65%|████████████████████████████████████████████▍                       | 864/1322 [39:57<19:59,  2.62s/it]"
     ]
    },
    {
     "name": "stdout",
     "output_type": "stream",
     "text": [
      "Done.\n",
      "Searching for \"The Big Ship - 2004 Digital Remaster\" by Brian Eno...\n"
     ]
    },
    {
     "name": "stderr",
     "output_type": "stream",
     "text": [
      " 65%|████████████████████████████████████████████▍                       | 865/1322 [39:59<19:00,  2.50s/it]"
     ]
    },
    {
     "name": "stdout",
     "output_type": "stream",
     "text": [
      "Done.\n",
      "Searching for \"The Bottle\" by Gil Scott-Heron...\n"
     ]
    },
    {
     "name": "stderr",
     "output_type": "stream",
     "text": [
      " 66%|████████████████████████████████████████████▌                       | 866/1322 [40:01<18:40,  2.46s/it]"
     ]
    },
    {
     "name": "stdout",
     "output_type": "stream",
     "text": [
      "Done.\n",
      "Searching for \"The Boy Is Mine - Radio Edit with Intro\" by Brandy...\n"
     ]
    },
    {
     "name": "stderr",
     "output_type": "stream",
     "text": [
      " 66%|████████████████████████████████████████████▌                       | 867/1322 [40:04<19:22,  2.55s/it]"
     ]
    },
    {
     "name": "stdout",
     "output_type": "stream",
     "text": [
      "Done.\n",
      "Searching for \"The Burning Train\" by R. D. Burman...\n"
     ]
    },
    {
     "name": "stderr",
     "output_type": "stream",
     "text": [
      " 66%|████████████████████████████████████████████▋                       | 868/1322 [40:07<19:10,  2.53s/it]"
     ]
    },
    {
     "name": "stdout",
     "output_type": "stream",
     "text": [
      "Done.\n",
      "Searching for \"The Caterpillar's Intervention\" by James Holden...\n"
     ]
    },
    {
     "name": "stderr",
     "output_type": "stream",
     "text": [
      " 66%|████████████████████████████████████████████▋                       | 869/1322 [40:10<21:52,  2.90s/it]"
     ]
    },
    {
     "name": "stdout",
     "output_type": "stream",
     "text": [
      "Done.\n",
      "Searching for \"The Creator Has a Master Plan\" by Pharoah Sanders...\n"
     ]
    },
    {
     "name": "stderr",
     "output_type": "stream",
     "text": [
      " 66%|████████████████████████████████████████████▊                       | 870/1322 [40:13<20:29,  2.72s/it]"
     ]
    },
    {
     "name": "stdout",
     "output_type": "stream",
     "text": [
      "Done.\n",
      "Searching for \"The Devil's Dancers\" by Oppenheimer Analysis...\n"
     ]
    },
    {
     "name": "stderr",
     "output_type": "stream",
     "text": [
      " 66%|████████████████████████████████████████████▊                       | 871/1322 [40:15<19:29,  2.59s/it]"
     ]
    },
    {
     "name": "stdout",
     "output_type": "stream",
     "text": [
      "Done.\n",
      "Searching for \"The Fairest Of The Seasons\" by Nico...\n"
     ]
    },
    {
     "name": "stderr",
     "output_type": "stream",
     "text": [
      " 66%|████████████████████████████████████████████▊                       | 872/1322 [40:18<20:18,  2.71s/it]"
     ]
    },
    {
     "name": "stdout",
     "output_type": "stream",
     "text": [
      "Done.\n",
      "Searching for \"The Feed-back\" by Group...\n"
     ]
    },
    {
     "name": "stderr",
     "output_type": "stream",
     "text": [
      " 66%|████████████████████████████████████████████▉                       | 873/1322 [40:21<20:14,  2.70s/it]"
     ]
    },
    {
     "name": "stdout",
     "output_type": "stream",
     "text": [
      "Done.\n",
      "Searching for \"The Fifth Wave - Water Lullaby\" by Suzanne Ciani...\n",
      "No results found for: 'The Fifth Wave - Water Lullaby Suzanne Ciani'\n",
      "Searching for \"The Fifth Wave - Water Lullaby\" by Suzanne Ciani...\n",
      "No results found for: 'The Fifth Wave - Water Lullaby Suzanne Ciani'\n",
      "Searching for \"The Fifth Wave - Water Lullaby\" by Suzanne Ciani...\n",
      "No results found for: 'The Fifth Wave - Water Lullaby Suzanne Ciani'\n",
      "Searching for \"The Fifth Wave - Water Lullaby\" by Suzanne Ciani...\n",
      "No results found for: 'The Fifth Wave - Water Lullaby Suzanne Ciani'\n",
      "Searching for \"The Fifth Wave - Water Lullaby\" by Suzanne Ciani...\n"
     ]
    },
    {
     "name": "stderr",
     "output_type": "stream",
     "text": [
      " 66%|████████████████████████████████████████████▉                       | 874/1322 [40:22<17:59,  2.41s/it]"
     ]
    },
    {
     "name": "stdout",
     "output_type": "stream",
     "text": [
      "No results found for: 'The Fifth Wave - Water Lullaby Suzanne Ciani'\n",
      "The Fifth Wave - Water Lullaby Suzanne Ciani Not present in Genius\n",
      "Searching for \"The Fly\" by David Axelrod...\n"
     ]
    },
    {
     "name": "stderr",
     "output_type": "stream",
     "text": [
      " 66%|█████████████████████████████████████████████                       | 875/1322 [40:25<18:10,  2.44s/it]"
     ]
    },
    {
     "name": "stdout",
     "output_type": "stream",
     "text": [
      "Done.\n",
      "Searching for \"The Four Horsemen\" by Aphrodite's Child...\n"
     ]
    },
    {
     "name": "stderr",
     "output_type": "stream",
     "text": [
      " 66%|█████████████████████████████████████████████                       | 876/1322 [40:28<18:40,  2.51s/it]"
     ]
    },
    {
     "name": "stdout",
     "output_type": "stream",
     "text": [
      "Done.\n",
      "Searching for \"The Gospel Comes To New Guinea\" by 23 Skidoo...\n",
      "No results found for: 'The Gospel Comes To New Guinea 23 Skidoo'\n",
      "Searching for \"The Gospel Comes To New Guinea\" by 23 Skidoo...\n",
      "No results found for: 'The Gospel Comes To New Guinea 23 Skidoo'\n",
      "Searching for \"The Gospel Comes To New Guinea\" by 23 Skidoo...\n",
      "No results found for: 'The Gospel Comes To New Guinea 23 Skidoo'\n",
      "Searching for \"The Gospel Comes To New Guinea\" by 23 Skidoo...\n",
      "No results found for: 'The Gospel Comes To New Guinea 23 Skidoo'\n",
      "Searching for \"The Gospel Comes To New Guinea\" by 23 Skidoo...\n"
     ]
    },
    {
     "name": "stderr",
     "output_type": "stream",
     "text": [
      " 66%|█████████████████████████████████████████████                       | 877/1322 [40:29<17:04,  2.30s/it]"
     ]
    },
    {
     "name": "stdout",
     "output_type": "stream",
     "text": [
      "No results found for: 'The Gospel Comes To New Guinea 23 Skidoo'\n",
      "The Gospel Comes To New Guinea 23 Skidoo Not present in Genius\n",
      "Searching for \"The Greatest Dancer\" by Robert Hood...\n"
     ]
    },
    {
     "name": "stderr",
     "output_type": "stream",
     "text": [
      " 66%|█████████████████████████████████████████████▏                      | 878/1322 [40:33<20:31,  2.77s/it]"
     ]
    },
    {
     "name": "stdout",
     "output_type": "stream",
     "text": [
      "Done.\n",
      "Searching for \"The Homeless Wanderer\" by Tsegue-Maryam Guebrou...\n",
      "Specified song does not contain lyrics. Rejecting.\n",
      "Searching for \"The Homeless Wanderer\" by Tsegue-Maryam Guebrou...\n",
      "Specified song does not contain lyrics. Rejecting.\n",
      "Searching for \"The Homeless Wanderer\" by Tsegue-Maryam Guebrou...\n",
      "Specified song does not contain lyrics. Rejecting.\n",
      "Searching for \"The Homeless Wanderer\" by Tsegue-Maryam Guebrou...\n",
      "Specified song does not contain lyrics. Rejecting.\n",
      "Searching for \"The Homeless Wanderer\" by Tsegue-Maryam Guebrou...\n"
     ]
    },
    {
     "name": "stderr",
     "output_type": "stream",
     "text": [
      " 66%|█████████████████████████████████████████████▏                      | 879/1322 [40:36<19:33,  2.65s/it]"
     ]
    },
    {
     "name": "stdout",
     "output_type": "stream",
     "text": [
      "Specified song does not contain lyrics. Rejecting.\n",
      "The Homeless Wanderer Tsegue-Maryam Guebrou Not present in Genius\n",
      "Searching for \"The Human Abstract\" by David Axelrod...\n"
     ]
    },
    {
     "name": "stderr",
     "output_type": "stream",
     "text": [
      " 67%|█████████████████████████████████████████████▎                      | 880/1322 [40:38<18:25,  2.50s/it]"
     ]
    },
    {
     "name": "stdout",
     "output_type": "stream",
     "text": [
      "Done.\n",
      "Searching for \"The Last Tears of a Deceased\" by Tsegue-Maryam Guebrou...\n",
      "Specified song does not contain lyrics. Rejecting.\n",
      "Searching for \"The Last Tears of a Deceased\" by Tsegue-Maryam Guebrou...\n",
      "Specified song does not contain lyrics. Rejecting.\n",
      "Searching for \"The Last Tears of a Deceased\" by Tsegue-Maryam Guebrou...\n",
      "Specified song does not contain lyrics. Rejecting.\n",
      "Searching for \"The Last Tears of a Deceased\" by Tsegue-Maryam Guebrou...\n",
      "Specified song does not contain lyrics. Rejecting.\n",
      "Searching for \"The Last Tears of a Deceased\" by Tsegue-Maryam Guebrou...\n"
     ]
    },
    {
     "name": "stderr",
     "output_type": "stream",
     "text": [
      " 67%|█████████████████████████████████████████████▎                      | 881/1322 [40:40<16:56,  2.30s/it]"
     ]
    },
    {
     "name": "stdout",
     "output_type": "stream",
     "text": [
      "Specified song does not contain lyrics. Rejecting.\n",
      "The Last Tears of a Deceased Tsegue-Maryam Guebrou Not present in Genius\n",
      "Searching for \"The Magic Yard\" by Luboš Fišer...\n"
     ]
    },
    {
     "name": "stderr",
     "output_type": "stream",
     "text": [
      " 67%|█████████████████████████████████████████████▎                      | 882/1322 [40:43<19:58,  2.72s/it]"
     ]
    },
    {
     "name": "stdout",
     "output_type": "stream",
     "text": [
      "Done.\n",
      "Searching for \"Thème de Yoyo\" by Art Ensemble Of Chicago...\n"
     ]
    },
    {
     "name": "stderr",
     "output_type": "stream",
     "text": [
      " 67%|█████████████████████████████████████████████▍                      | 883/1322 [40:46<19:32,  2.67s/it]"
     ]
    },
    {
     "name": "stdout",
     "output_type": "stream",
     "text": [
      "Done.\n",
      "Searching for \"The Mexican\" by Babe Ruth...\n"
     ]
    },
    {
     "name": "stderr",
     "output_type": "stream",
     "text": [
      " 67%|█████████████████████████████████████████████▍                      | 884/1322 [40:49<20:52,  2.86s/it]"
     ]
    },
    {
     "name": "stdout",
     "output_type": "stream",
     "text": [
      "Done.\n",
      "Searching for \"The Old Man's Back Again (Dedicated To The Neo-Stalinist Regime)\" by Scott Walker...\n"
     ]
    },
    {
     "name": "stderr",
     "output_type": "stream",
     "text": [
      " 67%|█████████████████████████████████████████████▌                      | 885/1322 [40:51<18:34,  2.55s/it]"
     ]
    },
    {
     "name": "stdout",
     "output_type": "stream",
     "text": [
      "Done.\n",
      "Searching for \"The Other Song\" by Spirit...\n"
     ]
    },
    {
     "name": "stderr",
     "output_type": "stream",
     "text": [
      " 67%|█████████████████████████████████████████████▌                      | 886/1322 [40:54<18:26,  2.54s/it]"
     ]
    },
    {
     "name": "stdout",
     "output_type": "stream",
     "text": [
      "Done.\n",
      "Searching for \"The Professor (Is) Space Walking\" by Gary Davis...\n"
     ]
    },
    {
     "name": "stderr",
     "output_type": "stream",
     "text": [
      " 67%|█████████████████████████████████████████████▌                      | 887/1322 [40:57<21:09,  2.92s/it]"
     ]
    },
    {
     "name": "stdout",
     "output_type": "stream",
     "text": [
      "Done.\n",
      "Searching for \"The Rain\" by Eddie Gale...\n"
     ]
    },
    {
     "name": "stderr",
     "output_type": "stream",
     "text": [
      " 67%|█████████████████████████████████████████████▋                      | 888/1322 [41:00<19:58,  2.76s/it]"
     ]
    },
    {
     "name": "stdout",
     "output_type": "stream",
     "text": [
      "Done.\n",
      "Searching for \"The Rhythm\" by Kwame...\n"
     ]
    },
    {
     "name": "stderr",
     "output_type": "stream",
     "text": [
      " 67%|█████████████████████████████████████████████▋                      | 889/1322 [41:06<27:59,  3.88s/it]"
     ]
    },
    {
     "name": "stdout",
     "output_type": "stream",
     "text": [
      "Done.\n",
      "Searching for \"The Signs Part II\" by David Axelrod...\n"
     ]
    },
    {
     "name": "stderr",
     "output_type": "stream",
     "text": [
      " 67%|█████████████████████████████████████████████▊                      | 890/1322 [41:09<25:30,  3.54s/it]"
     ]
    },
    {
     "name": "stdout",
     "output_type": "stream",
     "text": [
      "Done.\n",
      "Searching for \"The Visit (She Was Here)\" by The Cyrkle...\n"
     ]
    },
    {
     "name": "stderr",
     "output_type": "stream",
     "text": [
      " 67%|█████████████████████████████████████████████▊                      | 891/1322 [41:13<26:19,  3.66s/it]"
     ]
    },
    {
     "name": "stdout",
     "output_type": "stream",
     "text": [
      "Done.\n",
      "Searching for \"The Warnings Part II\" by David Axelrod...\n"
     ]
    },
    {
     "name": "stderr",
     "output_type": "stream",
     "text": [
      " 67%|█████████████████████████████████████████████▉                      | 892/1322 [41:15<23:32,  3.28s/it]"
     ]
    },
    {
     "name": "stdout",
     "output_type": "stream",
     "text": [
      "Done.\n",
      "Searching for \"The Way I Feel Inside\" by The Zombies...\n"
     ]
    },
    {
     "name": "stderr",
     "output_type": "stream",
     "text": [
      " 68%|█████████████████████████████████████████████▉                      | 893/1322 [41:19<23:06,  3.23s/it]"
     ]
    },
    {
     "name": "stdout",
     "output_type": "stream",
     "text": [
      "Done.\n",
      "Searching for \"The Wonders Of Wishing (For You)\" by Urban Culture...\n"
     ]
    },
    {
     "name": "stderr",
     "output_type": "stream",
     "text": [
      " 68%|█████████████████████████████████████████████▉                      | 894/1322 [41:21<20:51,  2.92s/it]"
     ]
    },
    {
     "name": "stdout",
     "output_type": "stream",
     "text": [
      "Done.\n",
      "Searching for \"The World Is Yours\" by Nas...\n"
     ]
    },
    {
     "name": "stderr",
     "output_type": "stream",
     "text": [
      " 68%|██████████████████████████████████████████████                      | 895/1322 [41:23<19:43,  2.77s/it]"
     ]
    },
    {
     "name": "stdout",
     "output_type": "stream",
     "text": [
      "Done.\n",
      "Searching for \"The Worst Band In The World\" by 10cc...\n"
     ]
    },
    {
     "name": "stderr",
     "output_type": "stream",
     "text": [
      " 68%|██████████████████████████████████████████████                      | 896/1322 [41:26<20:09,  2.84s/it]"
     ]
    },
    {
     "name": "stdout",
     "output_type": "stream",
     "text": [
      "Done.\n",
      "Searching for \"Theme from The Planets\" by Dexter Wansel...\n",
      "Specified song does not contain lyrics. Rejecting.\n",
      "Searching for \"Theme from The Planets\" by Dexter Wansel...\n",
      "Specified song does not contain lyrics. Rejecting.\n",
      "Searching for \"Theme from The Planets\" by Dexter Wansel...\n",
      "Specified song does not contain lyrics. Rejecting.\n",
      "Searching for \"Theme from The Planets\" by Dexter Wansel...\n",
      "Specified song does not contain lyrics. Rejecting.\n",
      "Searching for \"Theme from The Planets\" by Dexter Wansel...\n"
     ]
    },
    {
     "name": "stderr",
     "output_type": "stream",
     "text": [
      " 68%|██████████████████████████████████████████████▏                     | 897/1322 [41:28<18:11,  2.57s/it]"
     ]
    },
    {
     "name": "stdout",
     "output_type": "stream",
     "text": [
      "Specified song does not contain lyrics. Rejecting.\n",
      "Theme from The Planets Dexter Wansel Not present in Genius\n",
      "Searching for \"They Reminisce over You\" by Pete Rock & C.L. Smooth...\n"
     ]
    },
    {
     "name": "stderr",
     "output_type": "stream",
     "text": [
      " 68%|██████████████████████████████████████████████▏                     | 898/1322 [41:30<16:26,  2.33s/it]"
     ]
    },
    {
     "name": "stdout",
     "output_type": "stream",
     "text": [
      "Done.\n",
      "Searching for \"Things Cannot Stop Forever (Poon Tang Tally-Wacky)\" by Stanton Davis' Ghetto/Mysticism...\n",
      "No results found for: 'Things Cannot Stop Forever (Poon Tang Tally-Wacky) Stanton Davis' Ghetto/Mysticism'\n",
      "Searching for \"Things Cannot Stop Forever (Poon Tang Tally-Wacky)\" by Stanton Davis' Ghetto/Mysticism...\n",
      "No results found for: 'Things Cannot Stop Forever (Poon Tang Tally-Wacky) Stanton Davis' Ghetto/Mysticism'\n",
      "Searching for \"Things Cannot Stop Forever (Poon Tang Tally-Wacky)\" by Stanton Davis' Ghetto/Mysticism...\n",
      "No results found for: 'Things Cannot Stop Forever (Poon Tang Tally-Wacky) Stanton Davis' Ghetto/Mysticism'\n",
      "Searching for \"Things Cannot Stop Forever (Poon Tang Tally-Wacky)\" by Stanton Davis' Ghetto/Mysticism...\n",
      "No results found for: 'Things Cannot Stop Forever (Poon Tang Tally-Wacky) Stanton Davis' Ghetto/Mysticism'\n",
      "Searching for \"Things Cannot Stop Forever (Poon Tang Tally-Wacky)\" by Stanton Davis' Ghetto/Mysticism...\n"
     ]
    },
    {
     "name": "stderr",
     "output_type": "stream",
     "text": [
      " 68%|██████████████████████████████████████████████▏                     | 899/1322 [41:32<15:15,  2.16s/it]"
     ]
    },
    {
     "name": "stdout",
     "output_type": "stream",
     "text": [
      "No results found for: 'Things Cannot Stop Forever (Poon Tang Tally-Wacky) Stanton Davis' Ghetto/Mysticism'\n",
      "Things Cannot Stop Forever (Poon Tang Tally-Wacky) Stanton Davis' Ghetto/Mysticism Not present in Genius\n",
      "Searching for \"Thirteen\" by Big Star...\n"
     ]
    },
    {
     "name": "stderr",
     "output_type": "stream",
     "text": [
      " 68%|██████████████████████████████████████████████▎                     | 900/1322 [41:33<14:29,  2.06s/it]"
     ]
    },
    {
     "name": "stdout",
     "output_type": "stream",
     "text": [
      "Done.\n",
      "Searching for \"This Will Be Our Year\" by The Zombies...\n"
     ]
    },
    {
     "name": "stderr",
     "output_type": "stream",
     "text": [
      " 68%|██████████████████████████████████████████████▎                     | 901/1322 [41:37<17:45,  2.53s/it]"
     ]
    },
    {
     "name": "stdout",
     "output_type": "stream",
     "text": [
      "Done.\n",
      "Searching for \"Three Way Situation\" by Nadie La Fonde...\n"
     ]
    },
    {
     "name": "stderr",
     "output_type": "stream",
     "text": [
      " 68%|██████████████████████████████████████████████▍                     | 902/1322 [41:40<18:41,  2.67s/it]"
     ]
    },
    {
     "name": "stdout",
     "output_type": "stream",
     "text": [
      "Done.\n",
      "Searching for \"Through The Wire\" by Kanye West...\n"
     ]
    },
    {
     "name": "stderr",
     "output_type": "stream",
     "text": [
      " 68%|██████████████████████████████████████████████▍                     | 903/1322 [41:46<25:24,  3.64s/it]"
     ]
    },
    {
     "name": "stdout",
     "output_type": "stream",
     "text": [
      "Done.\n",
      "Searching for \"'Til I Die - Remastered 2009\" by The Beach Boys...\n"
     ]
    },
    {
     "name": "stderr",
     "output_type": "stream",
     "text": [
      " 68%|██████████████████████████████████████████████▍                     | 904/1322 [41:49<23:24,  3.36s/it]"
     ]
    },
    {
     "name": "stdout",
     "output_type": "stream",
     "text": [
      "Done.\n",
      "Searching for \"Tim Toum\" by Kodek...\n"
     ]
    },
    {
     "name": "stderr",
     "output_type": "stream",
     "text": [
      " 68%|██████████████████████████████████████████████▌                     | 905/1322 [41:51<20:54,  3.01s/it]"
     ]
    },
    {
     "name": "stdout",
     "output_type": "stream",
     "text": [
      "Done.\n",
      "Searching for \"Time To Find Me (AFX Fast Mix)\" by Seefeel...\n"
     ]
    },
    {
     "name": "stderr",
     "output_type": "stream",
     "text": [
      " 69%|██████████████████████████████████████████████▌                     | 906/1322 [41:52<17:40,  2.55s/it]"
     ]
    },
    {
     "name": "stdout",
     "output_type": "stream",
     "text": [
      "Done.\n",
      "Searching for \"Time's Up\" by O.C....\n"
     ]
    },
    {
     "name": "stderr",
     "output_type": "stream",
     "text": [
      " 69%|██████████████████████████████████████████████▋                     | 907/1322 [41:58<24:24,  3.53s/it]"
     ]
    },
    {
     "name": "stdout",
     "output_type": "stream",
     "text": [
      "Done.\n",
      "Searching for \"Today\" by Tom Scott...\n"
     ]
    },
    {
     "name": "stderr",
     "output_type": "stream",
     "text": [
      " 69%|██████████████████████████████████████████████▋                     | 908/1322 [42:00<21:02,  3.05s/it]"
     ]
    },
    {
     "name": "stdout",
     "output_type": "stream",
     "text": [
      "Done.\n",
      "Searching for \"Tomorrow's People\" by McDonald & Giles...\n"
     ]
    },
    {
     "name": "stderr",
     "output_type": "stream",
     "text": [
      " 69%|██████████████████████████████████████████████▊                     | 909/1322 [42:02<18:24,  2.68s/it]"
     ]
    },
    {
     "name": "stdout",
     "output_type": "stream",
     "text": [
      "Done.\n",
      "Searching for \"Tone Bone Kone\" by Arthur Russell...\n"
     ]
    },
    {
     "name": "stderr",
     "output_type": "stream",
     "text": [
      " 69%|██████████████████████████████████████████████▊                     | 910/1322 [42:04<17:46,  2.59s/it]"
     ]
    },
    {
     "name": "stdout",
     "output_type": "stream",
     "text": [
      "Done.\n",
      "Searching for \"Tonight (Love Will Make It Right) [Dub]\" by Hanson & Davis...\n"
     ]
    },
    {
     "name": "stderr",
     "output_type": "stream",
     "text": [
      " 69%|██████████████████████████████████████████████▊                     | 911/1322 [42:07<17:06,  2.50s/it]"
     ]
    },
    {
     "name": "stdout",
     "output_type": "stream",
     "text": [
      "Done.\n",
      "Searching for \"Track A - Solo Dancer (Stop! Look! And Listen, Sinner Jim Whitney!)\" by Charles Mingus...\n",
      "No results found for: 'Track A - Solo Dancer (Stop! Look! And Listen, Sinner Jim Whitney!) Charles Mingus'\n",
      "Searching for \"Track A - Solo Dancer (Stop! Look! And Listen, Sinner Jim Whitney!)\" by Charles Mingus...\n",
      "No results found for: 'Track A - Solo Dancer (Stop! Look! And Listen, Sinner Jim Whitney!) Charles Mingus'\n",
      "Searching for \"Track A - Solo Dancer (Stop! Look! And Listen, Sinner Jim Whitney!)\" by Charles Mingus...\n",
      "No results found for: 'Track A - Solo Dancer (Stop! Look! And Listen, Sinner Jim Whitney!) Charles Mingus'\n",
      "Searching for \"Track A - Solo Dancer (Stop! Look! And Listen, Sinner Jim Whitney!)\" by Charles Mingus...\n",
      "No results found for: 'Track A - Solo Dancer (Stop! Look! And Listen, Sinner Jim Whitney!) Charles Mingus'\n",
      "Searching for \"Track A - Solo Dancer (Stop! Look! And Listen, Sinner Jim Whitney!)\" by Charles Mingus...\n"
     ]
    },
    {
     "name": "stderr",
     "output_type": "stream",
     "text": [
      " 69%|██████████████████████████████████████████████▉                     | 912/1322 [42:08<15:45,  2.31s/it]"
     ]
    },
    {
     "name": "stdout",
     "output_type": "stream",
     "text": [
      "No results found for: 'Track A - Solo Dancer (Stop! Look! And Listen, Sinner Jim Whitney!) Charles Mingus'\n",
      "Track A - Solo Dancer (Stop! Look! And Listen, Sinner Jim Whitney!) Charles Mingus Not present in Genius\n",
      "Searching for \"Transition\" by Galaxy 2 Galaxy...\n"
     ]
    },
    {
     "name": "stderr",
     "output_type": "stream",
     "text": [
      " 69%|██████████████████████████████████████████████▉                     | 913/1322 [42:13<19:23,  2.84s/it]"
     ]
    },
    {
     "name": "stdout",
     "output_type": "stream",
     "text": [
      "Done.\n",
      "Searching for \"Tropical\" by Rome Fortune...\n"
     ]
    },
    {
     "name": "stderr",
     "output_type": "stream",
     "text": [
      " 69%|███████████████████████████████████████████████                     | 914/1322 [42:16<21:02,  3.09s/it]"
     ]
    },
    {
     "name": "stdout",
     "output_type": "stream",
     "text": [
      "Done.\n",
      "Searching for \"Try Again\" by Aaliyah...\n"
     ]
    },
    {
     "name": "stderr",
     "output_type": "stream",
     "text": [
      " 69%|███████████████████████████████████████████████                     | 915/1322 [42:20<21:31,  3.17s/it]"
     ]
    },
    {
     "name": "stdout",
     "output_type": "stream",
     "text": [
      "Done.\n",
      "Searching for \"Tudo O Que Você Podia Ser\" by Milton Nascimento...\n"
     ]
    },
    {
     "name": "stderr",
     "output_type": "stream",
     "text": [
      " 69%|███████████████████████████████████████████████                     | 916/1322 [42:22<19:11,  2.84s/it]"
     ]
    },
    {
     "name": "stdout",
     "output_type": "stream",
     "text": [
      "Done.\n",
      "Searching for \"Two Can Win\" by J Dilla...\n"
     ]
    },
    {
     "name": "stderr",
     "output_type": "stream",
     "text": [
      " 69%|███████████████████████████████████████████████▏                    | 917/1322 [42:23<17:01,  2.52s/it]"
     ]
    },
    {
     "name": "stdout",
     "output_type": "stream",
     "text": [
      "Done.\n",
      "Searching for \"Two Of Us - Extended Version\" by Supermayer...\n"
     ]
    },
    {
     "name": "stderr",
     "output_type": "stream",
     "text": [
      " 69%|███████████████████████████████████████████████▏                    | 918/1322 [42:26<16:57,  2.52s/it]"
     ]
    },
    {
     "name": "stdout",
     "output_type": "stream",
     "text": [
      "Done.\n",
      "Searching for \"Two Weeks\" by FKA twigs...\n"
     ]
    },
    {
     "name": "stderr",
     "output_type": "stream",
     "text": [
      " 70%|███████████████████████████████████████████████▎                    | 919/1322 [42:30<20:02,  2.98s/it]"
     ]
    },
    {
     "name": "stdout",
     "output_type": "stream",
     "text": [
      "Done.\n",
      "Searching for \"Ufo\" by Sun Ra...\n"
     ]
    },
    {
     "name": "stderr",
     "output_type": "stream",
     "text": [
      " 70%|███████████████████████████████████████████████▎                    | 920/1322 [42:32<18:51,  2.81s/it]"
     ]
    },
    {
     "name": "stdout",
     "output_type": "stream",
     "text": [
      "Done.\n",
      "Searching for \"Um Gosto De Fruta\" by Nelson Angelo...\n",
      "No results found for: 'Um Gosto De Fruta Nelson Angelo'\n",
      "Searching for \"Um Gosto De Fruta\" by Nelson Angelo...\n",
      "No results found for: 'Um Gosto De Fruta Nelson Angelo'\n",
      "Searching for \"Um Gosto De Fruta\" by Nelson Angelo...\n",
      "No results found for: 'Um Gosto De Fruta Nelson Angelo'\n",
      "Searching for \"Um Gosto De Fruta\" by Nelson Angelo...\n",
      "No results found for: 'Um Gosto De Fruta Nelson Angelo'\n",
      "Searching for \"Um Gosto De Fruta\" by Nelson Angelo...\n"
     ]
    },
    {
     "name": "stderr",
     "output_type": "stream",
     "text": [
      " 70%|███████████████████████████████████████████████▎                    | 921/1322 [42:35<18:05,  2.71s/it]"
     ]
    },
    {
     "name": "stdout",
     "output_type": "stream",
     "text": [
      "No results found for: 'Um Gosto De Fruta Nelson Angelo'\n",
      "Um Gosto De Fruta Nelson Angelo Not present in Genius\n",
      "Searching for \"Under Ground Kings\" by Drake...\n"
     ]
    },
    {
     "name": "stderr",
     "output_type": "stream",
     "text": [
      " 70%|███████████████████████████████████████████████▍                    | 922/1322 [42:39<20:58,  3.15s/it]"
     ]
    },
    {
     "name": "stdout",
     "output_type": "stream",
     "text": [
      "Done.\n",
      "Searching for \"Untitled [SAW2 CD1 Track1] (Four Tet Mix)\" by Aphex Twin...\n",
      "No results found for: 'Untitled [SAW2 CD1 Track1] (Four Tet Mix) Aphex Twin'\n",
      "Searching for \"Untitled [SAW2 CD1 Track1] (Four Tet Mix)\" by Aphex Twin...\n",
      "No results found for: 'Untitled [SAW2 CD1 Track1] (Four Tet Mix) Aphex Twin'\n",
      "Searching for \"Untitled [SAW2 CD1 Track1] (Four Tet Mix)\" by Aphex Twin...\n",
      "No results found for: 'Untitled [SAW2 CD1 Track1] (Four Tet Mix) Aphex Twin'\n",
      "Searching for \"Untitled [SAW2 CD1 Track1] (Four Tet Mix)\" by Aphex Twin...\n",
      "No results found for: 'Untitled [SAW2 CD1 Track1] (Four Tet Mix) Aphex Twin'\n",
      "Searching for \"Untitled [SAW2 CD1 Track1] (Four Tet Mix)\" by Aphex Twin...\n"
     ]
    },
    {
     "name": "stderr",
     "output_type": "stream",
     "text": [
      " 70%|███████████████████████████████████████████████▍                    | 923/1322 [42:41<18:35,  2.79s/it]"
     ]
    },
    {
     "name": "stdout",
     "output_type": "stream",
     "text": [
      "No results found for: 'Untitled [SAW2 CD1 Track1] (Four Tet Mix) Aphex Twin'\n",
      "Untitled [SAW2 CD1 Track1] (Four Tet Mix) Aphex Twin Not present in Genius\n",
      "Searching for \"Up to the Light\" by Jef Gilson...\n",
      "No results found for: 'Up to the Light Jef Gilson'\n",
      "Searching for \"Up to the Light\" by Jef Gilson...\n",
      "No results found for: 'Up to the Light Jef Gilson'\n",
      "Searching for \"Up to the Light\" by Jef Gilson...\n",
      "No results found for: 'Up to the Light Jef Gilson'\n",
      "Searching for \"Up to the Light\" by Jef Gilson...\n",
      "No results found for: 'Up to the Light Jef Gilson'\n",
      "Searching for \"Up to the Light\" by Jef Gilson...\n"
     ]
    },
    {
     "name": "stderr",
     "output_type": "stream",
     "text": [
      " 70%|███████████████████████████████████████████████▌                    | 924/1322 [42:43<16:27,  2.48s/it]"
     ]
    },
    {
     "name": "stdout",
     "output_type": "stream",
     "text": [
      "No results found for: 'Up to the Light Jef Gilson'\n",
      "Up to the Light Jef Gilson Not present in Genius\n",
      "Searching for \"Utopia and Visions\" by Don Cherry...\n"
     ]
    },
    {
     "name": "stderr",
     "output_type": "stream",
     "text": [
      " 70%|███████████████████████████████████████████████▌                    | 925/1322 [42:47<20:11,  3.05s/it]"
     ]
    },
    {
     "name": "stdout",
     "output_type": "stream",
     "text": [
      "Done.\n",
      "Searching for \"Utsu\" by Kenny Graham And His Satellites...\n",
      "No results found for: 'Utsu Kenny Graham And His Satellites'\n",
      "Searching for \"Utsu\" by Kenny Graham And His Satellites...\n",
      "No results found for: 'Utsu Kenny Graham And His Satellites'\n",
      "Searching for \"Utsu\" by Kenny Graham And His Satellites...\n",
      "No results found for: 'Utsu Kenny Graham And His Satellites'\n",
      "Searching for \"Utsu\" by Kenny Graham And His Satellites...\n",
      "No results found for: 'Utsu Kenny Graham And His Satellites'\n",
      "Searching for \"Utsu\" by Kenny Graham And His Satellites...\n"
     ]
    },
    {
     "name": "stderr",
     "output_type": "stream",
     "text": [
      " 70%|███████████████████████████████████████████████▋                    | 926/1322 [42:49<18:13,  2.76s/it]"
     ]
    },
    {
     "name": "stdout",
     "output_type": "stream",
     "text": [
      "No results found for: 'Utsu Kenny Graham And His Satellites'\n",
      "Utsu Kenny Graham And His Satellites Not present in Genius\n",
      "Searching for \"Vacuum Boogie\" by Floating Points...\n"
     ]
    },
    {
     "name": "stderr",
     "output_type": "stream",
     "text": [
      " 70%|███████████████████████████████████████████████▋                    | 927/1322 [42:54<21:35,  3.28s/it]"
     ]
    },
    {
     "name": "stdout",
     "output_type": "stream",
     "text": [
      "Done.\n",
      "Searching for \"Valiha Del\" by Jef Gilson...\n",
      "No results found for: 'Valiha Del Jef Gilson'\n",
      "Searching for \"Valiha Del\" by Jef Gilson...\n",
      "No results found for: 'Valiha Del Jef Gilson'\n",
      "Searching for \"Valiha Del\" by Jef Gilson...\n",
      "No results found for: 'Valiha Del Jef Gilson'\n",
      "Searching for \"Valiha Del\" by Jef Gilson...\n",
      "No results found for: 'Valiha Del Jef Gilson'\n",
      "Searching for \"Valiha Del\" by Jef Gilson...\n"
     ]
    },
    {
     "name": "stderr",
     "output_type": "stream",
     "text": [
      " 70%|███████████████████████████████████████████████▋                    | 928/1322 [42:56<19:08,  2.92s/it]"
     ]
    },
    {
     "name": "stdout",
     "output_type": "stream",
     "text": [
      "No results found for: 'Valiha Del Jef Gilson'\n",
      "Valiha Del Jef Gilson Not present in Genius\n",
      "Searching for \"Vapour Trail\" by Ride...\n"
     ]
    },
    {
     "name": "stderr",
     "output_type": "stream",
     "text": [
      " 70%|███████████████████████████████████████████████▊                    | 929/1322 [43:00<20:50,  3.18s/it]"
     ]
    },
    {
     "name": "stdout",
     "output_type": "stream",
     "text": [
      "Done.\n",
      "Searching for \"Vero-Ia-Toto\" by Bernard Bonnier...\n",
      "No results found for: 'Vero-Ia-Toto Bernard Bonnier'\n",
      "Searching for \"Vero-Ia-Toto\" by Bernard Bonnier...\n",
      "No results found for: 'Vero-Ia-Toto Bernard Bonnier'\n",
      "Searching for \"Vero-Ia-Toto\" by Bernard Bonnier...\n",
      "No results found for: 'Vero-Ia-Toto Bernard Bonnier'\n",
      "Searching for \"Vero-Ia-Toto\" by Bernard Bonnier...\n",
      "No results found for: 'Vero-Ia-Toto Bernard Bonnier'\n",
      "Searching for \"Vero-Ia-Toto\" by Bernard Bonnier...\n"
     ]
    },
    {
     "name": "stderr",
     "output_type": "stream",
     "text": [
      " 70%|███████████████████████████████████████████████▊                    | 930/1322 [43:01<18:04,  2.77s/it]"
     ]
    },
    {
     "name": "stdout",
     "output_type": "stream",
     "text": [
      "No results found for: 'Vero-Ia-Toto Bernard Bonnier'\n",
      "Vero-Ia-Toto Bernard Bonnier Not present in Genius\n",
      "Searching for \"Vert\" by Harmonium...\n"
     ]
    },
    {
     "name": "stderr",
     "output_type": "stream",
     "text": [
      " 70%|███████████████████████████████████████████████▉                    | 931/1322 [43:04<18:15,  2.80s/it]"
     ]
    },
    {
     "name": "stdout",
     "output_type": "stream",
     "text": [
      "Done.\n",
      "Searching for \"Vertigo\" by K-Alexi...\n",
      "No results found for: 'Vertigo K-Alexi'\n",
      "Searching for \"Vertigo\" by K-Alexi...\n",
      "No results found for: 'Vertigo K-Alexi'\n",
      "Searching for \"Vertigo\" by K-Alexi...\n",
      "No results found for: 'Vertigo K-Alexi'\n",
      "Searching for \"Vertigo\" by K-Alexi...\n",
      "No results found for: 'Vertigo K-Alexi'\n",
      "Searching for \"Vertigo\" by K-Alexi...\n"
     ]
    },
    {
     "name": "stderr",
     "output_type": "stream",
     "text": [
      " 70%|███████████████████████████████████████████████▉                    | 932/1322 [43:06<16:50,  2.59s/it]"
     ]
    },
    {
     "name": "stdout",
     "output_type": "stream",
     "text": [
      "No results found for: 'Vertigo K-Alexi'\n",
      "Vertigo K-Alexi Not present in Genius\n",
      "Searching for \"Video Crash\" by Tyree...\n"
     ]
    },
    {
     "name": "stderr",
     "output_type": "stream",
     "text": [
      " 71%|███████████████████████████████████████████████▉                    | 933/1322 [43:10<19:33,  3.02s/it]"
     ]
    },
    {
     "name": "stdout",
     "output_type": "stream",
     "text": [
      "Done.\n",
      "Searching for \"Vitamin C\" by CAN...\n"
     ]
    },
    {
     "name": "stderr",
     "output_type": "stream",
     "text": [
      " 71%|████████████████████████████████████████████████                    | 934/1322 [43:13<18:39,  2.89s/it]"
     ]
    },
    {
     "name": "stdout",
     "output_type": "stream",
     "text": [
      "Done.\n",
      "Searching for \"Wali Bena\" by Muyei Power...\n",
      "No results found for: 'Wali Bena Muyei Power'\n",
      "Searching for \"Wali Bena\" by Muyei Power...\n",
      "No results found for: 'Wali Bena Muyei Power'\n",
      "Searching for \"Wali Bena\" by Muyei Power...\n",
      "No results found for: 'Wali Bena Muyei Power'\n",
      "Searching for \"Wali Bena\" by Muyei Power...\n",
      "No results found for: 'Wali Bena Muyei Power'\n",
      "Searching for \"Wali Bena\" by Muyei Power...\n"
     ]
    },
    {
     "name": "stderr",
     "output_type": "stream",
     "text": [
      " 71%|████████████████████████████████████████████████                    | 935/1322 [43:15<16:29,  2.56s/it]"
     ]
    },
    {
     "name": "stdout",
     "output_type": "stream",
     "text": [
      "No results found for: 'Wali Bena Muyei Power'\n",
      "Wali Bena Muyei Power Not present in Genius\n",
      "Searching for \"Walk 4 Me\" by Tronco Traxx...\n",
      "No results found for: 'Walk 4 Me Tronco Traxx'\n",
      "Searching for \"Walk 4 Me\" by Tronco Traxx...\n",
      "No results found for: 'Walk 4 Me Tronco Traxx'\n",
      "Searching for \"Walk 4 Me\" by Tronco Traxx...\n",
      "No results found for: 'Walk 4 Me Tronco Traxx'\n",
      "Searching for \"Walk 4 Me\" by Tronco Traxx...\n",
      "No results found for: 'Walk 4 Me Tronco Traxx'\n",
      "Searching for \"Walk 4 Me\" by Tronco Traxx...\n"
     ]
    },
    {
     "name": "stderr",
     "output_type": "stream",
     "text": [
      " 71%|████████████████████████████████████████████████▏                   | 936/1322 [43:17<15:32,  2.42s/it]"
     ]
    },
    {
     "name": "stdout",
     "output_type": "stream",
     "text": [
      "No results found for: 'Walk 4 Me Tronco Traxx'\n",
      "Walk 4 Me Tronco Traxx Not present in Genius\n",
      "Searching for \"Want You To Know\" by Rotary Connection...\n"
     ]
    },
    {
     "name": "stderr",
     "output_type": "stream",
     "text": [
      " 71%|████████████████████████████████████████████████▏                   | 937/1322 [43:19<15:28,  2.41s/it]"
     ]
    },
    {
     "name": "stdout",
     "output_type": "stream",
     "text": [
      "Done.\n",
      "Searching for \"We Are Making Music (Part 1)\" by Michael Campbell & High Volt...\n"
     ]
    },
    {
     "name": "stderr",
     "output_type": "stream",
     "text": [
      " 71%|████████████████████████████████████████████████▏                   | 938/1322 [43:26<23:20,  3.65s/it]"
     ]
    },
    {
     "name": "stdout",
     "output_type": "stream",
     "text": [
      "Done.\n",
      "Searching for \"We Got to Have Peace\" by Curtis Mayfield...\n"
     ]
    },
    {
     "name": "stderr",
     "output_type": "stream",
     "text": [
      " 71%|████████████████████████████████████████████████▎                   | 939/1322 [43:28<19:57,  3.13s/it]"
     ]
    },
    {
     "name": "stdout",
     "output_type": "stream",
     "text": [
      "Done.\n",
      "Searching for \"We're Laughing\" by The Psychedelic Aliens...\n"
     ]
    },
    {
     "name": "stderr",
     "output_type": "stream",
     "text": [
      " 71%|████████████████████████████████████████████████▎                   | 940/1322 [43:31<19:51,  3.12s/it]"
     ]
    },
    {
     "name": "stdout",
     "output_type": "stream",
     "text": [
      "Done.\n",
      "Searching for \"What About Us?\" by Brandy...\n"
     ]
    },
    {
     "name": "stderr",
     "output_type": "stream",
     "text": [
      " 71%|████████████████████████████████████████████████▍                   | 941/1322 [43:33<17:36,  2.77s/it]"
     ]
    },
    {
     "name": "stdout",
     "output_type": "stream",
     "text": [
      "Done.\n",
      "Searching for \"What We Do\" by Freeway...\n"
     ]
    },
    {
     "name": "stderr",
     "output_type": "stream",
     "text": [
      " 71%|████████████████████████████████████████████████▍                   | 942/1322 [43:36<18:43,  2.96s/it]"
     ]
    },
    {
     "name": "stdout",
     "output_type": "stream",
     "text": [
      "Done.\n",
      "Searching for \"What's Going On\" by Marvin Gaye...\n",
      "Searching for \"What's Going On\" by Marvin Gaye...\n",
      "Searching for \"What's Going On\" by Marvin Gaye...\n"
     ]
    },
    {
     "name": "stderr",
     "output_type": "stream",
     "text": [
      " 71%|████████████████████████████████████████████████▌                   | 943/1322 [43:49<36:38,  5.80s/it]"
     ]
    },
    {
     "name": "stdout",
     "output_type": "stream",
     "text": [
      "Done.\n",
      "Searching for \"What's In My Mind's Eye\" by Aorta...\n"
     ]
    },
    {
     "name": "stderr",
     "output_type": "stream",
     "text": [
      " 71%|████████████████████████████████████████████████▌                   | 944/1322 [43:52<33:02,  5.24s/it]"
     ]
    },
    {
     "name": "stdout",
     "output_type": "stream",
     "text": [
      "Done.\n",
      "Searching for \"Whea Yo Ghost At, Whea Yo Dead Man\" by DJ Elmoe...\n"
     ]
    },
    {
     "name": "stderr",
     "output_type": "stream",
     "text": [
      " 71%|████████████████████████████████████████████████▌                   | 945/1322 [43:55<27:09,  4.32s/it]"
     ]
    },
    {
     "name": "stdout",
     "output_type": "stream",
     "text": [
      "Done.\n",
      "Searching for \"When the Going is Smooth & Good\" by William Onyeabor...\n"
     ]
    },
    {
     "name": "stderr",
     "output_type": "stream",
     "text": [
      " 72%|████████████████████████████████████████████████▋                   | 946/1322 [43:56<21:36,  3.45s/it]"
     ]
    },
    {
     "name": "stdout",
     "output_type": "stream",
     "text": [
      "Done.\n",
      "Searching for \"(Who?) Keeps Changing Your Mind - The Night Mix\" by South Street Player...\n"
     ]
    },
    {
     "name": "stderr",
     "output_type": "stream",
     "text": [
      " 72%|████████████████████████████████████████████████▋                   | 947/1322 [43:58<18:48,  3.01s/it]"
     ]
    },
    {
     "name": "stdout",
     "output_type": "stream",
     "text": [
      "Done.\n",
      "Searching for \"Willow's Song\" by Paul Giovanni...\n"
     ]
    },
    {
     "name": "stderr",
     "output_type": "stream",
     "text": [
      " 72%|████████████████████████████████████████████████▊                   | 948/1322 [44:01<18:11,  2.92s/it]"
     ]
    },
    {
     "name": "stdout",
     "output_type": "stream",
     "text": [
      "Done.\n",
      "Searching for \"Windows In Dreams / Colors In Crystal\" by Joe McPhee / John Snyder...\n",
      "No results found for: 'Windows In Dreams / Colors In Crystal Joe McPhee / John Snyder'\n",
      "Searching for \"Windows In Dreams / Colors In Crystal\" by Joe McPhee / John Snyder...\n",
      "No results found for: 'Windows In Dreams / Colors In Crystal Joe McPhee / John Snyder'\n",
      "Searching for \"Windows In Dreams / Colors In Crystal\" by Joe McPhee / John Snyder...\n",
      "No results found for: 'Windows In Dreams / Colors In Crystal Joe McPhee / John Snyder'\n",
      "Searching for \"Windows In Dreams / Colors In Crystal\" by Joe McPhee / John Snyder...\n",
      "No results found for: 'Windows In Dreams / Colors In Crystal Joe McPhee / John Snyder'\n",
      "Searching for \"Windows In Dreams / Colors In Crystal\" by Joe McPhee / John Snyder...\n"
     ]
    },
    {
     "name": "stderr",
     "output_type": "stream",
     "text": [
      " 72%|████████████████████████████████████████████████▊                   | 949/1322 [44:03<16:21,  2.63s/it]"
     ]
    },
    {
     "name": "stdout",
     "output_type": "stream",
     "text": [
      "No results found for: 'Windows In Dreams / Colors In Crystal Joe McPhee / John Snyder'\n",
      "Windows In Dreams / Colors In Crystal Joe McPhee / John Snyder Not present in Genius\n",
      "Searching for \"Work That Motherfucker - Original Mix\" by Steve Poindexter...\n",
      "No results found for: 'Work That Motherfucker - Original Mix Steve Poindexter'\n",
      "Searching for \"Work That Motherfucker - Original Mix\" by Steve Poindexter...\n",
      "No results found for: 'Work That Motherfucker - Original Mix Steve Poindexter'\n",
      "Searching for \"Work That Motherfucker - Original Mix\" by Steve Poindexter...\n",
      "No results found for: 'Work That Motherfucker - Original Mix Steve Poindexter'\n",
      "Searching for \"Work That Motherfucker - Original Mix\" by Steve Poindexter...\n",
      "No results found for: 'Work That Motherfucker - Original Mix Steve Poindexter'\n",
      "Searching for \"Work That Motherfucker - Original Mix\" by Steve Poindexter...\n"
     ]
    },
    {
     "name": "stderr",
     "output_type": "stream",
     "text": [
      " 72%|████████████████████████████████████████████████▊                   | 950/1322 [44:04<14:42,  2.37s/it]"
     ]
    },
    {
     "name": "stdout",
     "output_type": "stream",
     "text": [
      "No results found for: 'Work That Motherfucker - Original Mix Steve Poindexter'\n",
      "Work That Motherfucker - Original Mix Steve Poindexter Not present in Genius\n",
      "Searching for \"Workinonit\" by J Dilla...\n"
     ]
    },
    {
     "name": "stderr",
     "output_type": "stream",
     "text": [
      " 72%|████████████████████████████████████████████████▉                   | 951/1322 [44:08<16:07,  2.61s/it]"
     ]
    },
    {
     "name": "stdout",
     "output_type": "stream",
     "text": [
      "Done.\n",
      "Searching for \"Xtal\" by Aphex Twin...\n",
      "Specified song does not contain lyrics. Rejecting.\n",
      "Searching for \"Xtal\" by Aphex Twin...\n",
      "Specified song does not contain lyrics. Rejecting.\n",
      "Searching for \"Xtal\" by Aphex Twin...\n",
      "Specified song does not contain lyrics. Rejecting.\n",
      "Searching for \"Xtal\" by Aphex Twin...\n",
      "Specified song does not contain lyrics. Rejecting.\n",
      "Searching for \"Xtal\" by Aphex Twin...\n"
     ]
    },
    {
     "name": "stderr",
     "output_type": "stream",
     "text": [
      " 72%|████████████████████████████████████████████████▉                   | 952/1322 [44:10<14:49,  2.40s/it]"
     ]
    },
    {
     "name": "stdout",
     "output_type": "stream",
     "text": [
      "Specified song does not contain lyrics. Rejecting.\n",
      "Xtal Aphex Twin Not present in Genius\n",
      "Searching for \"Ya Playin' Yaself\" by Jeru The Damaja...\n"
     ]
    },
    {
     "name": "stderr",
     "output_type": "stream",
     "text": [
      " 72%|█████████████████████████████████████████████████                   | 953/1322 [44:13<15:56,  2.59s/it]"
     ]
    },
    {
     "name": "stdout",
     "output_type": "stream",
     "text": [
      "Done.\n",
      "Searching for \"Yatchiminou\" by Jimmy Hyacinthe...\n",
      "No results found for: 'Yatchiminou Jimmy Hyacinthe'\n",
      "Searching for \"Yatchiminou\" by Jimmy Hyacinthe...\n",
      "No results found for: 'Yatchiminou Jimmy Hyacinthe'\n",
      "Searching for \"Yatchiminou\" by Jimmy Hyacinthe...\n",
      "No results found for: 'Yatchiminou Jimmy Hyacinthe'\n",
      "Searching for \"Yatchiminou\" by Jimmy Hyacinthe...\n",
      "No results found for: 'Yatchiminou Jimmy Hyacinthe'\n",
      "Searching for \"Yatchiminou\" by Jimmy Hyacinthe...\n"
     ]
    },
    {
     "name": "stderr",
     "output_type": "stream",
     "text": [
      " 72%|█████████████████████████████████████████████████                   | 954/1322 [44:14<14:35,  2.38s/it]"
     ]
    },
    {
     "name": "stdout",
     "output_type": "stream",
     "text": [
      "No results found for: 'Yatchiminou Jimmy Hyacinthe'\n",
      "Yatchiminou Jimmy Hyacinthe Not present in Genius\n",
      "Searching for \"Yo Tink It Sorf\" by Lancelot Layne...\n",
      "No results found for: 'Yo Tink It Sorf Lancelot Layne'\n",
      "Searching for \"Yo Tink It Sorf\" by Lancelot Layne...\n",
      "No results found for: 'Yo Tink It Sorf Lancelot Layne'\n",
      "Searching for \"Yo Tink It Sorf\" by Lancelot Layne...\n",
      "No results found for: 'Yo Tink It Sorf Lancelot Layne'\n",
      "Searching for \"Yo Tink It Sorf\" by Lancelot Layne...\n",
      "No results found for: 'Yo Tink It Sorf Lancelot Layne'\n",
      "Searching for \"Yo Tink It Sorf\" by Lancelot Layne...\n"
     ]
    },
    {
     "name": "stderr",
     "output_type": "stream",
     "text": [
      " 72%|█████████████████████████████████████████████████                   | 955/1322 [44:16<13:23,  2.19s/it]"
     ]
    },
    {
     "name": "stdout",
     "output_type": "stream",
     "text": [
      "No results found for: 'Yo Tink It Sorf Lancelot Layne'\n",
      "Yo Tink It Sorf Lancelot Layne Not present in Genius\n",
      "Searching for \"You Never Come Closer\" by Doris...\n"
     ]
    },
    {
     "name": "stderr",
     "output_type": "stream",
     "text": [
      " 72%|█████████████████████████████████████████████████▏                  | 956/1322 [44:19<14:53,  2.44s/it]"
     ]
    },
    {
     "name": "stdout",
     "output_type": "stream",
     "text": [
      "Done.\n",
      "Searching for \"You're Gonna Need Me\" by Dionne Warwick...\n"
     ]
    },
    {
     "name": "stderr",
     "output_type": "stream",
     "text": [
      " 72%|█████████████████████████████████████████████████▏                  | 957/1322 [44:21<13:56,  2.29s/it]"
     ]
    },
    {
     "name": "stdout",
     "output_type": "stream",
     "text": [
      "Done.\n",
      "Searching for \"Your Time Is Gonna Come - 1990 Remaster\" by Led Zeppelin...\n"
     ]
    },
    {
     "name": "stderr",
     "output_type": "stream",
     "text": [
      " 72%|█████████████████████████████████████████████████▎                  | 958/1322 [44:23<13:28,  2.22s/it]"
     ]
    },
    {
     "name": "stdout",
     "output_type": "stream",
     "text": [
      "Done.\n",
      "Searching for \"Youvalou Rada - La nature en personne\" by Toubabou...\n",
      "No results found for: 'Youvalou Rada - La nature en personne Toubabou'\n",
      "Searching for \"Youvalou Rada - La nature en personne\" by Toubabou...\n",
      "No results found for: 'Youvalou Rada - La nature en personne Toubabou'\n",
      "Searching for \"Youvalou Rada - La nature en personne\" by Toubabou...\n",
      "No results found for: 'Youvalou Rada - La nature en personne Toubabou'\n",
      "Searching for \"Youvalou Rada - La nature en personne\" by Toubabou...\n",
      "No results found for: 'Youvalou Rada - La nature en personne Toubabou'\n",
      "Searching for \"Youvalou Rada - La nature en personne\" by Toubabou...\n"
     ]
    },
    {
     "name": "stderr",
     "output_type": "stream",
     "text": [
      " 73%|█████████████████████████████████████████████████▎                  | 959/1322 [44:25<12:49,  2.12s/it]"
     ]
    },
    {
     "name": "stdout",
     "output_type": "stream",
     "text": [
      "No results found for: 'Youvalou Rada - La nature en personne Toubabou'\n",
      "Youvalou Rada - La nature en personne Toubabou Not present in Genius\n",
      "Searching for \"Zahab\" by Dariush Dolat-Shahi...\n",
      "No results found for: 'Zahab Dariush Dolat-Shahi'\n",
      "Searching for \"Zahab\" by Dariush Dolat-Shahi...\n",
      "No results found for: 'Zahab Dariush Dolat-Shahi'\n",
      "Searching for \"Zahab\" by Dariush Dolat-Shahi...\n",
      "No results found for: 'Zahab Dariush Dolat-Shahi'\n",
      "Searching for \"Zahab\" by Dariush Dolat-Shahi...\n",
      "No results found for: 'Zahab Dariush Dolat-Shahi'\n",
      "Searching for \"Zahab\" by Dariush Dolat-Shahi...\n"
     ]
    },
    {
     "name": "stderr",
     "output_type": "stream",
     "text": [
      " 73%|█████████████████████████████████████████████████▍                  | 960/1322 [44:27<12:33,  2.08s/it]"
     ]
    },
    {
     "name": "stdout",
     "output_type": "stream",
     "text": [
      "No results found for: 'Zahab Dariush Dolat-Shahi'\n",
      "Zahab Dariush Dolat-Shahi Not present in Genius\n",
      "Searching for \"Zoetrope\" by Boards of Canada...\n",
      "Specified song does not contain lyrics. Rejecting.\n",
      "Searching for \"Zoetrope\" by Boards of Canada...\n",
      "Specified song does not contain lyrics. Rejecting.\n",
      "Searching for \"Zoetrope\" by Boards of Canada...\n",
      "Specified song does not contain lyrics. Rejecting.\n",
      "Searching for \"Zoetrope\" by Boards of Canada...\n",
      "Specified song does not contain lyrics. Rejecting.\n",
      "Searching for \"Zoetrope\" by Boards of Canada...\n"
     ]
    },
    {
     "name": "stderr",
     "output_type": "stream",
     "text": [
      " 73%|█████████████████████████████████████████████████▍                  | 961/1322 [44:29<12:29,  2.08s/it]"
     ]
    },
    {
     "name": "stdout",
     "output_type": "stream",
     "text": [
      "Specified song does not contain lyrics. Rejecting.\n",
      "Zoetrope Boards of Canada Not present in Genius\n",
      "Searching for \"Zombizar\" by Barney Wilen...\n",
      "No results found for: 'Zombizar Barney Wilen'\n",
      "Searching for \"Zombizar\" by Barney Wilen...\n",
      "No results found for: 'Zombizar Barney Wilen'\n",
      "Searching for \"Zombizar\" by Barney Wilen...\n",
      "No results found for: 'Zombizar Barney Wilen'\n",
      "Searching for \"Zombizar\" by Barney Wilen...\n",
      "No results found for: 'Zombizar Barney Wilen'\n",
      "Searching for \"Zombizar\" by Barney Wilen...\n"
     ]
    },
    {
     "name": "stderr",
     "output_type": "stream",
     "text": [
      " 73%|█████████████████████████████████████████████████▍                  | 962/1322 [44:32<13:15,  2.21s/it]"
     ]
    },
    {
     "name": "stdout",
     "output_type": "stream",
     "text": [
      "No results found for: 'Zombizar Barney Wilen'\n",
      "Zombizar Barney Wilen Not present in Genius\n",
      "Searching for \"Battle - mixed\" by Wookie...\n"
     ]
    },
    {
     "name": "stderr",
     "output_type": "stream",
     "text": [
      " 73%|█████████████████████████████████████████████████▌                  | 963/1322 [44:35<15:26,  2.58s/it]"
     ]
    },
    {
     "name": "stdout",
     "output_type": "stream",
     "text": [
      "Done.\n",
      "Searching for \"Deixa a Tristeza\" by Neno Exporta Som...\n",
      "No results found for: 'Deixa a Tristeza Neno Exporta Som'\n",
      "Searching for \"Deixa a Tristeza\" by Neno Exporta Som...\n",
      "No results found for: 'Deixa a Tristeza Neno Exporta Som'\n",
      "Searching for \"Deixa a Tristeza\" by Neno Exporta Som...\n",
      "No results found for: 'Deixa a Tristeza Neno Exporta Som'\n",
      "Searching for \"Deixa a Tristeza\" by Neno Exporta Som...\n",
      "No results found for: 'Deixa a Tristeza Neno Exporta Som'\n",
      "Searching for \"Deixa a Tristeza\" by Neno Exporta Som...\n"
     ]
    },
    {
     "name": "stderr",
     "output_type": "stream",
     "text": [
      " 73%|█████████████████████████████████████████████████▌                  | 964/1322 [44:37<14:01,  2.35s/it]"
     ]
    },
    {
     "name": "stdout",
     "output_type": "stream",
     "text": [
      "No results found for: 'Deixa a Tristeza Neno Exporta Som'\n",
      "Deixa a Tristeza Neno Exporta Som Not present in Genius\n",
      "Searching for \"Use My Body\" by Mavis John...\n"
     ]
    },
    {
     "name": "stderr",
     "output_type": "stream",
     "text": [
      " 73%|█████████████████████████████████████████████████▋                  | 965/1322 [44:40<15:11,  2.55s/it]"
     ]
    },
    {
     "name": "stdout",
     "output_type": "stream",
     "text": [
      "Done.\n",
      "Searching for \"Can't Live Without You\" by Connie Laverne...\n"
     ]
    },
    {
     "name": "stderr",
     "output_type": "stream",
     "text": [
      " 73%|█████████████████████████████████████████████████▋                  | 966/1322 [44:43<15:16,  2.58s/it]"
     ]
    },
    {
     "name": "stdout",
     "output_type": "stream",
     "text": [
      "Done.\n",
      "Searching for \"Com Mais De 30\" by Claudia...\n"
     ]
    },
    {
     "name": "stderr",
     "output_type": "stream",
     "text": [
      " 73%|█████████████████████████████████████████████████▋                  | 967/1322 [44:45<14:37,  2.47s/it]"
     ]
    },
    {
     "name": "stdout",
     "output_type": "stream",
     "text": [
      "Done.\n",
      "Searching for \"Watussi\" by Harmonia...\n",
      "Specified song does not contain lyrics. Rejecting.\n",
      "Searching for \"Watussi\" by Harmonia...\n",
      "Specified song does not contain lyrics. Rejecting.\n",
      "Searching for \"Watussi\" by Harmonia...\n",
      "Specified song does not contain lyrics. Rejecting.\n",
      "Searching for \"Watussi\" by Harmonia...\n",
      "Specified song does not contain lyrics. Rejecting.\n",
      "Searching for \"Watussi\" by Harmonia...\n"
     ]
    },
    {
     "name": "stderr",
     "output_type": "stream",
     "text": [
      " 73%|█████████████████████████████████████████████████▊                  | 968/1322 [44:47<14:07,  2.39s/it]"
     ]
    },
    {
     "name": "stdout",
     "output_type": "stream",
     "text": [
      "Specified song does not contain lyrics. Rejecting.\n",
      "Watussi Harmonia Not present in Genius\n",
      "Searching for \"Yègellé Tezeta\" by Mulatu Astatke...\n",
      "Specified song does not contain lyrics. Rejecting.\n",
      "Searching for \"Yègellé Tezeta\" by Mulatu Astatke...\n",
      "Specified song does not contain lyrics. Rejecting.\n",
      "Searching for \"Yègellé Tezeta\" by Mulatu Astatke...\n",
      "Specified song does not contain lyrics. Rejecting.\n",
      "Searching for \"Yègellé Tezeta\" by Mulatu Astatke...\n",
      "Specified song does not contain lyrics. Rejecting.\n",
      "Searching for \"Yègellé Tezeta\" by Mulatu Astatke...\n"
     ]
    },
    {
     "name": "stderr",
     "output_type": "stream",
     "text": [
      " 73%|█████████████████████████████████████████████████▊                  | 969/1322 [44:49<13:10,  2.24s/it]"
     ]
    },
    {
     "name": "stdout",
     "output_type": "stream",
     "text": [
      "Specified song does not contain lyrics. Rejecting.\n",
      "Yègellé Tezeta Mulatu Astatke Not present in Genius\n",
      "Searching for \"Outdoor Miner - 2006 Remastered Version\" by Wire...\n"
     ]
    },
    {
     "name": "stderr",
     "output_type": "stream",
     "text": [
      " 73%|█████████████████████████████████████████████████▉                  | 970/1322 [44:53<16:24,  2.80s/it]"
     ]
    },
    {
     "name": "stdout",
     "output_type": "stream",
     "text": [
      "Done.\n",
      "Searching for \"The Highest Pleasure\" by Rudolph Johnson...\n"
     ]
    },
    {
     "name": "stderr",
     "output_type": "stream",
     "text": [
      " 73%|█████████████████████████████████████████████████▉                  | 971/1322 [44:55<15:39,  2.68s/it]"
     ]
    },
    {
     "name": "stdout",
     "output_type": "stream",
     "text": [
      "Done.\n",
      "Searching for \"Nobu\" by Herbie Hancock...\n",
      "Specified song does not contain lyrics. Rejecting.\n",
      "Searching for \"Nobu\" by Herbie Hancock...\n",
      "Specified song does not contain lyrics. Rejecting.\n",
      "Searching for \"Nobu\" by Herbie Hancock...\n",
      "Specified song does not contain lyrics. Rejecting.\n",
      "Searching for \"Nobu\" by Herbie Hancock...\n",
      "Specified song does not contain lyrics. Rejecting.\n",
      "Searching for \"Nobu\" by Herbie Hancock...\n"
     ]
    },
    {
     "name": "stderr",
     "output_type": "stream",
     "text": [
      " 74%|█████████████████████████████████████████████████▉                  | 972/1322 [44:57<14:11,  2.43s/it]"
     ]
    },
    {
     "name": "stdout",
     "output_type": "stream",
     "text": [
      "Specified song does not contain lyrics. Rejecting.\n",
      "Nobu Herbie Hancock Not present in Genius\n",
      "Searching for \"Tied Up (Spiritualized Electric Mainline Remix)\" by LFO...\n",
      "No results found for: 'Tied Up (Spiritualized Electric Mainline Remix) LFO'\n",
      "Searching for \"Tied Up (Spiritualized Electric Mainline Remix)\" by LFO...\n",
      "No results found for: 'Tied Up (Spiritualized Electric Mainline Remix) LFO'\n",
      "Searching for \"Tied Up (Spiritualized Electric Mainline Remix)\" by LFO...\n",
      "No results found for: 'Tied Up (Spiritualized Electric Mainline Remix) LFO'\n",
      "Searching for \"Tied Up (Spiritualized Electric Mainline Remix)\" by LFO...\n",
      "No results found for: 'Tied Up (Spiritualized Electric Mainline Remix) LFO'\n",
      "Searching for \"Tied Up (Spiritualized Electric Mainline Remix)\" by LFO...\n"
     ]
    },
    {
     "name": "stderr",
     "output_type": "stream",
     "text": [
      " 74%|██████████████████████████████████████████████████                  | 973/1322 [44:59<12:55,  2.22s/it]"
     ]
    },
    {
     "name": "stdout",
     "output_type": "stream",
     "text": [
      "No results found for: 'Tied Up (Spiritualized Electric Mainline Remix) LFO'\n",
      "Tied Up (Spiritualized Electric Mainline Remix) LFO Not present in Genius\n",
      "Searching for \"Untitled B1\" by Willow...\n",
      "No results found for: 'Untitled B1 Willow'\n",
      "Searching for \"Untitled B1\" by Willow...\n",
      "No results found for: 'Untitled B1 Willow'\n",
      "Searching for \"Untitled B1\" by Willow...\n",
      "No results found for: 'Untitled B1 Willow'\n",
      "Searching for \"Untitled B1\" by Willow...\n",
      "No results found for: 'Untitled B1 Willow'\n",
      "Searching for \"Untitled B1\" by Willow...\n"
     ]
    },
    {
     "name": "stderr",
     "output_type": "stream",
     "text": [
      " 74%|██████████████████████████████████████████████████                  | 974/1322 [45:01<12:06,  2.09s/it]"
     ]
    },
    {
     "name": "stdout",
     "output_type": "stream",
     "text": [
      "No results found for: 'Untitled B1 Willow'\n",
      "Untitled B1 Willow Not present in Genius\n",
      "Searching for \"Sure Know How to Love Me\" by Darondo...\n"
     ]
    },
    {
     "name": "stderr",
     "output_type": "stream",
     "text": [
      " 74%|██████████████████████████████████████████████████▏                 | 975/1322 [45:03<12:28,  2.16s/it]"
     ]
    },
    {
     "name": "stdout",
     "output_type": "stream",
     "text": [
      "Done.\n",
      "Searching for \"Let's Get It Together\" by Shadow...\n"
     ]
    },
    {
     "name": "stderr",
     "output_type": "stream",
     "text": [
      " 74%|██████████████████████████████████████████████████▏                 | 976/1322 [45:07<15:17,  2.65s/it]"
     ]
    },
    {
     "name": "stdout",
     "output_type": "stream",
     "text": [
      "Done.\n",
      "Searching for \"Ever New\" by Beverly Glenn-Copeland...\n"
     ]
    },
    {
     "name": "stderr",
     "output_type": "stream",
     "text": [
      " 74%|██████████████████████████████████████████████████▎                 | 977/1322 [45:09<13:45,  2.39s/it]"
     ]
    },
    {
     "name": "stdout",
     "output_type": "stream",
     "text": [
      "Done.\n",
      "Searching for \"Cantec Fulger\" by Rodion G.A....\n",
      "No results found for: 'Cantec Fulger Rodion G.A.'\n",
      "Searching for \"Cantec Fulger\" by Rodion G.A....\n",
      "No results found for: 'Cantec Fulger Rodion G.A.'\n",
      "Searching for \"Cantec Fulger\" by Rodion G.A....\n",
      "No results found for: 'Cantec Fulger Rodion G.A.'\n",
      "Searching for \"Cantec Fulger\" by Rodion G.A....\n",
      "No results found for: 'Cantec Fulger Rodion G.A.'\n",
      "Searching for \"Cantec Fulger\" by Rodion G.A....\n"
     ]
    },
    {
     "name": "stderr",
     "output_type": "stream",
     "text": [
      " 74%|██████████████████████████████████████████████████▎                 | 978/1322 [45:10<12:38,  2.20s/it]"
     ]
    },
    {
     "name": "stdout",
     "output_type": "stream",
     "text": [
      "No results found for: 'Cantec Fulger Rodion G.A.'\n",
      "Cantec Fulger Rodion G.A. Not present in Genius\n",
      "Searching for \"Wubit with Muluken Melesse\" by Mulatu Astatke...\n",
      "No results found for: 'Wubit with Muluken Melesse Mulatu Astatke'\n",
      "Searching for \"Wubit with Muluken Melesse\" by Mulatu Astatke...\n",
      "No results found for: 'Wubit with Muluken Melesse Mulatu Astatke'\n",
      "Searching for \"Wubit with Muluken Melesse\" by Mulatu Astatke...\n",
      "No results found for: 'Wubit with Muluken Melesse Mulatu Astatke'\n",
      "Searching for \"Wubit with Muluken Melesse\" by Mulatu Astatke...\n",
      "No results found for: 'Wubit with Muluken Melesse Mulatu Astatke'\n",
      "Searching for \"Wubit with Muluken Melesse\" by Mulatu Astatke...\n"
     ]
    },
    {
     "name": "stderr",
     "output_type": "stream",
     "text": [
      " 74%|██████████████████████████████████████████████████▎                 | 979/1322 [45:12<12:00,  2.10s/it]"
     ]
    },
    {
     "name": "stdout",
     "output_type": "stream",
     "text": [
      "No results found for: 'Wubit with Muluken Melesse Mulatu Astatke'\n",
      "Wubit with Muluken Melesse Mulatu Astatke Not present in Genius\n",
      "Searching for \"Right on for the Darkness - 2014 Japan Remaster\" by Curtis Mayfield...\n"
     ]
    },
    {
     "name": "stderr",
     "output_type": "stream",
     "text": [
      " 74%|██████████████████████████████████████████████████▍                 | 980/1322 [45:15<12:44,  2.24s/it]"
     ]
    },
    {
     "name": "stdout",
     "output_type": "stream",
     "text": [
      "Done.\n",
      "Searching for \"Flash a Flashlight\" by Benjamin Ball...\n"
     ]
    },
    {
     "name": "stderr",
     "output_type": "stream",
     "text": [
      " 74%|██████████████████████████████████████████████████▍                 | 981/1322 [45:18<13:38,  2.40s/it]"
     ]
    },
    {
     "name": "stdout",
     "output_type": "stream",
     "text": [
      "Done.\n",
      "Searching for \"O Nketsang\" by Rex Rabanye...\n",
      "No results found for: 'O Nketsang Rex Rabanye'\n",
      "Searching for \"O Nketsang\" by Rex Rabanye...\n",
      "No results found for: 'O Nketsang Rex Rabanye'\n",
      "Searching for \"O Nketsang\" by Rex Rabanye...\n",
      "No results found for: 'O Nketsang Rex Rabanye'\n",
      "Searching for \"O Nketsang\" by Rex Rabanye...\n",
      "No results found for: 'O Nketsang Rex Rabanye'\n",
      "Searching for \"O Nketsang\" by Rex Rabanye...\n"
     ]
    },
    {
     "name": "stderr",
     "output_type": "stream",
     "text": [
      " 74%|██████████████████████████████████████████████████▌                 | 982/1322 [45:19<12:31,  2.21s/it]"
     ]
    },
    {
     "name": "stdout",
     "output_type": "stream",
     "text": [
      "No results found for: 'O Nketsang Rex Rabanye'\n",
      "O Nketsang Rex Rabanye Not present in Genius\n",
      "Searching for \"Midnight Dancin' - Dancin' Mixx\" by Joe Lewis...\n"
     ]
    },
    {
     "name": "stderr",
     "output_type": "stream",
     "text": [
      " 74%|██████████████████████████████████████████████████▌                 | 983/1322 [45:22<13:03,  2.31s/it]"
     ]
    },
    {
     "name": "stdout",
     "output_type": "stream",
     "text": [
      "Done.\n",
      "Searching for \"Time To Move\" by Carmen...\n"
     ]
    },
    {
     "name": "stderr",
     "output_type": "stream",
     "text": [
      " 74%|██████████████████████████████████████████████████▌                 | 984/1322 [45:24<12:29,  2.22s/it]"
     ]
    },
    {
     "name": "stdout",
     "output_type": "stream",
     "text": [
      "Done.\n",
      "Searching for \"All Pervading\" by Laraaji...\n",
      "No results found for: 'All Pervading Laraaji'\n",
      "Searching for \"All Pervading\" by Laraaji...\n",
      "No results found for: 'All Pervading Laraaji'\n",
      "Searching for \"All Pervading\" by Laraaji...\n",
      "No results found for: 'All Pervading Laraaji'\n",
      "Searching for \"All Pervading\" by Laraaji...\n",
      "No results found for: 'All Pervading Laraaji'\n",
      "Searching for \"All Pervading\" by Laraaji...\n"
     ]
    },
    {
     "name": "stderr",
     "output_type": "stream",
     "text": [
      " 75%|██████████████████████████████████████████████████▋                 | 985/1322 [45:26<12:03,  2.15s/it]"
     ]
    },
    {
     "name": "stdout",
     "output_type": "stream",
     "text": [
      "No results found for: 'All Pervading Laraaji'\n",
      "All Pervading Laraaji Not present in Genius\n",
      "Searching for \"Que Bandeira\" by Evinha...\n"
     ]
    },
    {
     "name": "stderr",
     "output_type": "stream",
     "text": [
      " 75%|██████████████████████████████████████████████████▋                 | 986/1322 [45:28<12:34,  2.24s/it]"
     ]
    },
    {
     "name": "stdout",
     "output_type": "stream",
     "text": [
      "Done.\n",
      "Searching for \"C'mon - Original Mix\" by Johnick...\n",
      "No results found for: 'C'mon - Original Mix Johnick'\n",
      "Searching for \"C'mon - Original Mix\" by Johnick...\n",
      "No results found for: 'C'mon - Original Mix Johnick'\n",
      "Searching for \"C'mon - Original Mix\" by Johnick...\n",
      "No results found for: 'C'mon - Original Mix Johnick'\n",
      "Searching for \"C'mon - Original Mix\" by Johnick...\n",
      "No results found for: 'C'mon - Original Mix Johnick'\n",
      "Searching for \"C'mon - Original Mix\" by Johnick...\n"
     ]
    },
    {
     "name": "stderr",
     "output_type": "stream",
     "text": [
      " 75%|██████████████████████████████████████████████████▊                 | 987/1322 [45:31<12:14,  2.19s/it]"
     ]
    },
    {
     "name": "stdout",
     "output_type": "stream",
     "text": [
      "No results found for: 'C'mon - Original Mix Johnick'\n",
      "C'mon - Original Mix Johnick Not present in Genius\n",
      "Searching for \"Dead Eyes Opened\" by Severed Heads...\n"
     ]
    },
    {
     "name": "stderr",
     "output_type": "stream",
     "text": [
      " 75%|██████████████████████████████████████████████████▊                 | 988/1322 [45:32<11:39,  2.10s/it]"
     ]
    },
    {
     "name": "stdout",
     "output_type": "stream",
     "text": [
      "Done.\n",
      "Searching for \"Shinzo No Tobira\" by Mariah...\n",
      "No results found for: 'Shinzo No Tobira Mariah'\n",
      "Searching for \"Shinzo No Tobira\" by Mariah...\n",
      "No results found for: 'Shinzo No Tobira Mariah'\n",
      "Searching for \"Shinzo No Tobira\" by Mariah...\n",
      "No results found for: 'Shinzo No Tobira Mariah'\n",
      "Searching for \"Shinzo No Tobira\" by Mariah...\n",
      "No results found for: 'Shinzo No Tobira Mariah'\n",
      "Searching for \"Shinzo No Tobira\" by Mariah...\n"
     ]
    },
    {
     "name": "stderr",
     "output_type": "stream",
     "text": [
      " 75%|██████████████████████████████████████████████████▊                 | 989/1322 [45:34<11:07,  2.01s/it]"
     ]
    },
    {
     "name": "stdout",
     "output_type": "stream",
     "text": [
      "No results found for: 'Shinzo No Tobira Mariah'\n",
      "Shinzo No Tobira Mariah Not present in Genius\n",
      "Searching for \"Next Level\" by Showbiz...\n"
     ]
    },
    {
     "name": "stderr",
     "output_type": "stream",
     "text": [
      " 75%|██████████████████████████████████████████████████▉                 | 990/1322 [45:37<12:29,  2.26s/it]"
     ]
    },
    {
     "name": "stdout",
     "output_type": "stream",
     "text": [
      "Done.\n",
      "Searching for \"Fuck Compton\" by Tim Dog...\n"
     ]
    },
    {
     "name": "stderr",
     "output_type": "stream",
     "text": [
      " 75%|██████████████████████████████████████████████████▉                 | 991/1322 [45:40<14:08,  2.56s/it]"
     ]
    },
    {
     "name": "stdout",
     "output_type": "stream",
     "text": [
      "Done.\n",
      "Searching for \"Didn't I\" by Darondo...\n"
     ]
    },
    {
     "name": "stderr",
     "output_type": "stream",
     "text": [
      " 75%|███████████████████████████████████████████████████                 | 992/1322 [45:42<13:15,  2.41s/it]"
     ]
    },
    {
     "name": "stdout",
     "output_type": "stream",
     "text": [
      "Done.\n",
      "Searching for \"Dream Baby Dream - Long Version\" by Suicide...\n"
     ]
    },
    {
     "name": "stderr",
     "output_type": "stream",
     "text": [
      " 75%|███████████████████████████████████████████████████                 | 993/1322 [45:45<13:30,  2.46s/it]"
     ]
    },
    {
     "name": "stdout",
     "output_type": "stream",
     "text": [
      "Done.\n",
      "Searching for \"She Can't Love You\" by Chemise...\n"
     ]
    },
    {
     "name": "stderr",
     "output_type": "stream",
     "text": [
      " 75%|███████████████████████████████████████████████████▏                | 994/1322 [45:48<14:32,  2.66s/it]"
     ]
    },
    {
     "name": "stdout",
     "output_type": "stream",
     "text": [
      "Done.\n",
      "Searching for \"Show Me What You Got\" by Busta Rhymes...\n"
     ]
    },
    {
     "name": "stderr",
     "output_type": "stream",
     "text": [
      " 75%|███████████████████████████████████████████████████▏                | 995/1322 [45:52<16:08,  2.96s/it]"
     ]
    },
    {
     "name": "stdout",
     "output_type": "stream",
     "text": [
      "Done.\n",
      "Searching for \"Friends And Neighbors\" by Ornette Coleman...\n",
      "No results found for: 'Friends And Neighbors Ornette Coleman'\n",
      "Searching for \"Friends And Neighbors\" by Ornette Coleman...\n",
      "No results found for: 'Friends And Neighbors Ornette Coleman'\n",
      "Searching for \"Friends And Neighbors\" by Ornette Coleman...\n",
      "No results found for: 'Friends And Neighbors Ornette Coleman'\n",
      "Searching for \"Friends And Neighbors\" by Ornette Coleman...\n",
      "No results found for: 'Friends And Neighbors Ornette Coleman'\n",
      "Searching for \"Friends And Neighbors\" by Ornette Coleman...\n"
     ]
    },
    {
     "name": "stderr",
     "output_type": "stream",
     "text": [
      " 75%|███████████████████████████████████████████████████▏                | 996/1322 [45:53<14:04,  2.59s/it]"
     ]
    },
    {
     "name": "stdout",
     "output_type": "stream",
     "text": [
      "No results found for: 'Friends And Neighbors Ornette Coleman'\n",
      "Friends And Neighbors Ornette Coleman Not present in Genius\n",
      "Searching for \"Viola Fora De Moda\" by Edu Lobo...\n"
     ]
    },
    {
     "name": "stderr",
     "output_type": "stream",
     "text": [
      " 75%|███████████████████████████████████████████████████▎                | 997/1322 [45:57<14:58,  2.77s/it]"
     ]
    },
    {
     "name": "stdout",
     "output_type": "stream",
     "text": [
      "Done.\n",
      "Searching for \"Disco Fantasy\" by Rahaan...\n",
      "No results found for: 'Disco Fantasy Rahaan'\n",
      "Searching for \"Disco Fantasy\" by Rahaan...\n",
      "No results found for: 'Disco Fantasy Rahaan'\n",
      "Searching for \"Disco Fantasy\" by Rahaan...\n",
      "No results found for: 'Disco Fantasy Rahaan'\n",
      "Searching for \"Disco Fantasy\" by Rahaan...\n",
      "No results found for: 'Disco Fantasy Rahaan'\n",
      "Searching for \"Disco Fantasy\" by Rahaan...\n"
     ]
    },
    {
     "name": "stderr",
     "output_type": "stream",
     "text": [
      " 75%|███████████████████████████████████████████████████▎                | 998/1322 [45:58<13:12,  2.44s/it]"
     ]
    },
    {
     "name": "stdout",
     "output_type": "stream",
     "text": [
      "No results found for: 'Disco Fantasy Rahaan'\n",
      "Disco Fantasy Rahaan Not present in Genius\n",
      "Searching for \"You Can't Run From Love\" by Together Band...\n"
     ]
    },
    {
     "name": "stderr",
     "output_type": "stream",
     "text": [
      " 76%|███████████████████████████████████████████████████▍                | 999/1322 [46:01<13:29,  2.51s/it]"
     ]
    },
    {
     "name": "stdout",
     "output_type": "stream",
     "text": [
      "Done.\n",
      "Searching for \"Fancy Clown\" by Madvillain...\n"
     ]
    },
    {
     "name": "stderr",
     "output_type": "stream",
     "text": [
      " 76%|██████████████████████████████████████████████████▋                | 1000/1322 [46:03<13:02,  2.43s/it]"
     ]
    },
    {
     "name": "stdout",
     "output_type": "stream",
     "text": [
      "Done.\n",
      "Searching for \"Music Madness (Extended Charles Maurice Version)\" by Beckie Bell...\n",
      "No results found for: 'Music Madness (Extended Charles Maurice Version) Beckie Bell'\n",
      "Searching for \"Music Madness (Extended Charles Maurice Version)\" by Beckie Bell...\n",
      "No results found for: 'Music Madness (Extended Charles Maurice Version) Beckie Bell'\n",
      "Searching for \"Music Madness (Extended Charles Maurice Version)\" by Beckie Bell...\n",
      "No results found for: 'Music Madness (Extended Charles Maurice Version) Beckie Bell'\n",
      "Searching for \"Music Madness (Extended Charles Maurice Version)\" by Beckie Bell...\n",
      "No results found for: 'Music Madness (Extended Charles Maurice Version) Beckie Bell'\n",
      "Searching for \"Music Madness (Extended Charles Maurice Version)\" by Beckie Bell...\n"
     ]
    },
    {
     "name": "stderr",
     "output_type": "stream",
     "text": [
      " 76%|██████████████████████████████████████████████████▋                | 1001/1322 [46:05<11:59,  2.24s/it]"
     ]
    },
    {
     "name": "stdout",
     "output_type": "stream",
     "text": [
      "No results found for: 'Music Madness (Extended Charles Maurice Version) Beckie Bell'\n",
      "Music Madness (Extended Charles Maurice Version) Beckie Bell Not present in Genius\n",
      "Searching for \"A Rã\" by João Donato...\n"
     ]
    },
    {
     "name": "stderr",
     "output_type": "stream",
     "text": [
      " 76%|██████████████████████████████████████████████████▊                | 1002/1322 [46:07<11:44,  2.20s/it]"
     ]
    },
    {
     "name": "stdout",
     "output_type": "stream",
     "text": [
      "Done.\n",
      "Searching for \"Dam Üstüne Çul Serer\" by Selda Bağcan...\n"
     ]
    },
    {
     "name": "stderr",
     "output_type": "stream",
     "text": [
      " 76%|██████████████████████████████████████████████████▊                | 1003/1322 [46:09<11:02,  2.08s/it]"
     ]
    },
    {
     "name": "stdout",
     "output_type": "stream",
     "text": [
      "Done.\n",
      "Searching for \"Via Beato Angelico\" by Perigeo...\n"
     ]
    },
    {
     "name": "stderr",
     "output_type": "stream",
     "text": [
      " 76%|██████████████████████████████████████████████████▉                | 1004/1322 [46:12<12:33,  2.37s/it]"
     ]
    },
    {
     "name": "stdout",
     "output_type": "stream",
     "text": [
      "Done.\n",
      "Searching for \"Love Call\" by Ramsey & Company...\n"
     ]
    },
    {
     "name": "stderr",
     "output_type": "stream",
     "text": [
      " 76%|██████████████████████████████████████████████████▉                | 1005/1322 [46:14<12:03,  2.28s/it]"
     ]
    },
    {
     "name": "stdout",
     "output_type": "stream",
     "text": [
      "Done.\n",
      "Searching for \"The Continuing Story of Counterpoint, Pt. 9\" by David Borden...\n"
     ]
    },
    {
     "name": "stderr",
     "output_type": "stream",
     "text": [
      " 76%|██████████████████████████████████████████████████▉                | 1006/1322 [46:18<13:56,  2.65s/it]"
     ]
    },
    {
     "name": "stdout",
     "output_type": "stream",
     "text": [
      "Done.\n",
      "Searching for \"Neveen\" by Salah Ragab...\n",
      "No results found for: 'Neveen Salah Ragab'\n",
      "Searching for \"Neveen\" by Salah Ragab...\n",
      "No results found for: 'Neveen Salah Ragab'\n",
      "Searching for \"Neveen\" by Salah Ragab...\n",
      "No results found for: 'Neveen Salah Ragab'\n",
      "Searching for \"Neveen\" by Salah Ragab...\n",
      "No results found for: 'Neveen Salah Ragab'\n",
      "Searching for \"Neveen\" by Salah Ragab...\n"
     ]
    },
    {
     "name": "stderr",
     "output_type": "stream",
     "text": [
      " 76%|███████████████████████████████████████████████████                | 1007/1322 [46:20<12:54,  2.46s/it]"
     ]
    },
    {
     "name": "stdout",
     "output_type": "stream",
     "text": [
      "No results found for: 'Neveen Salah Ragab'\n",
      "Neveen Salah Ragab Not present in Genius\n",
      "Searching for \"Set It Off (Instrumental)\" by Strafe...\n"
     ]
    },
    {
     "name": "stderr",
     "output_type": "stream",
     "text": [
      " 76%|███████████████████████████████████████████████████                | 1008/1322 [46:22<13:32,  2.59s/it]"
     ]
    },
    {
     "name": "stdout",
     "output_type": "stream",
     "text": [
      "Done.\n",
      "Searching for \"Open Soul\" by Tomorrow's People...\n"
     ]
    },
    {
     "name": "stderr",
     "output_type": "stream",
     "text": [
      " 76%|███████████████████████████████████████████████████▏               | 1009/1322 [46:27<16:25,  3.15s/it]"
     ]
    },
    {
     "name": "stdout",
     "output_type": "stream",
     "text": [
      "Done.\n",
      "Searching for \"Na boca do sol\" by Arthur Verocai...\n"
     ]
    },
    {
     "name": "stderr",
     "output_type": "stream",
     "text": [
      " 76%|███████████████████████████████████████████████████▏               | 1010/1322 [46:31<17:08,  3.29s/it]"
     ]
    },
    {
     "name": "stdout",
     "output_type": "stream",
     "text": [
      "Done.\n",
      "Searching for \"Supermarket\" by Pete Dunaway...\n",
      "No results found for: 'Supermarket Pete Dunaway'\n",
      "Searching for \"Supermarket\" by Pete Dunaway...\n",
      "No results found for: 'Supermarket Pete Dunaway'\n",
      "Searching for \"Supermarket\" by Pete Dunaway...\n",
      "No results found for: 'Supermarket Pete Dunaway'\n",
      "Searching for \"Supermarket\" by Pete Dunaway...\n",
      "No results found for: 'Supermarket Pete Dunaway'\n",
      "Searching for \"Supermarket\" by Pete Dunaway...\n"
     ]
    },
    {
     "name": "stderr",
     "output_type": "stream",
     "text": [
      " 76%|███████████████████████████████████████████████████▏               | 1011/1322 [46:33<15:04,  2.91s/it]"
     ]
    },
    {
     "name": "stdout",
     "output_type": "stream",
     "text": [
      "No results found for: 'Supermarket Pete Dunaway'\n",
      "Supermarket Pete Dunaway Not present in Genius\n",
      "Searching for \"Free Soul\" by John Klemmer...\n",
      "Specified song does not contain lyrics. Rejecting.\n",
      "Searching for \"Free Soul\" by John Klemmer...\n",
      "Specified song does not contain lyrics. Rejecting.\n",
      "Searching for \"Free Soul\" by John Klemmer...\n",
      "Specified song does not contain lyrics. Rejecting.\n",
      "Searching for \"Free Soul\" by John Klemmer...\n",
      "Specified song does not contain lyrics. Rejecting.\n",
      "Searching for \"Free Soul\" by John Klemmer...\n"
     ]
    },
    {
     "name": "stderr",
     "output_type": "stream",
     "text": [
      " 77%|███████████████████████████████████████████████████▎               | 1012/1322 [46:35<13:35,  2.63s/it]"
     ]
    },
    {
     "name": "stdout",
     "output_type": "stream",
     "text": [
      "Specified song does not contain lyrics. Rejecting.\n",
      "Free Soul John Klemmer Not present in Genius\n",
      "Searching for \"All My Life\" by Fluorescent Smogg...\n"
     ]
    },
    {
     "name": "stderr",
     "output_type": "stream",
     "text": [
      " 77%|███████████████████████████████████████████████████▎               | 1013/1322 [46:36<12:01,  2.34s/it]"
     ]
    },
    {
     "name": "stdout",
     "output_type": "stream",
     "text": [
      "Done.\n",
      "Searching for \"Raagank (Classical Melody Moods) - Instrumental (Live)\" by Ravi Shankar...\n",
      "No results found for: 'Raagank (Classical Melody Moods) - Instrumental (Live) Ravi Shankar'\n",
      "Searching for \"Raagank (Classical Melody Moods) - Instrumental (Live)\" by Ravi Shankar...\n",
      "No results found for: 'Raagank (Classical Melody Moods) - Instrumental (Live) Ravi Shankar'\n",
      "Searching for \"Raagank (Classical Melody Moods) - Instrumental (Live)\" by Ravi Shankar...\n",
      "No results found for: 'Raagank (Classical Melody Moods) - Instrumental (Live) Ravi Shankar'\n",
      "Searching for \"Raagank (Classical Melody Moods) - Instrumental (Live)\" by Ravi Shankar...\n",
      "No results found for: 'Raagank (Classical Melody Moods) - Instrumental (Live) Ravi Shankar'\n",
      "Searching for \"Raagank (Classical Melody Moods) - Instrumental (Live)\" by Ravi Shankar...\n"
     ]
    },
    {
     "name": "stderr",
     "output_type": "stream",
     "text": [
      " 77%|███████████████████████████████████████████████████▍               | 1014/1322 [46:38<11:06,  2.16s/it]"
     ]
    },
    {
     "name": "stdout",
     "output_type": "stream",
     "text": [
      "No results found for: 'Raagank (Classical Melody Moods) - Instrumental (Live) Ravi Shankar'\n",
      "Raagank (Classical Melody Moods) - Instrumental (Live) Ravi Shankar Not present in Genius\n",
      "Searching for \"I Am Ocean\" by Laraaji...\n",
      "No results found for: 'I Am Ocean Laraaji'\n",
      "Searching for \"I Am Ocean\" by Laraaji...\n",
      "No results found for: 'I Am Ocean Laraaji'\n",
      "Searching for \"I Am Ocean\" by Laraaji...\n",
      "No results found for: 'I Am Ocean Laraaji'\n",
      "Searching for \"I Am Ocean\" by Laraaji...\n",
      "No results found for: 'I Am Ocean Laraaji'\n",
      "Searching for \"I Am Ocean\" by Laraaji...\n"
     ]
    },
    {
     "name": "stderr",
     "output_type": "stream",
     "text": [
      " 77%|███████████████████████████████████████████████████▍               | 1015/1322 [46:40<10:26,  2.04s/it]"
     ]
    },
    {
     "name": "stdout",
     "output_type": "stream",
     "text": [
      "No results found for: 'I Am Ocean Laraaji'\n",
      "I Am Ocean Laraaji Not present in Genius\n",
      "Searching for \"Nebulosa\" by Tenorio Jr....\n",
      "No results found for: 'Nebulosa Tenorio Jr.'\n",
      "Searching for \"Nebulosa\" by Tenorio Jr....\n",
      "No results found for: 'Nebulosa Tenorio Jr.'\n",
      "Searching for \"Nebulosa\" by Tenorio Jr....\n",
      "No results found for: 'Nebulosa Tenorio Jr.'\n",
      "Searching for \"Nebulosa\" by Tenorio Jr....\n",
      "No results found for: 'Nebulosa Tenorio Jr.'\n",
      "Searching for \"Nebulosa\" by Tenorio Jr....\n"
     ]
    },
    {
     "name": "stderr",
     "output_type": "stream",
     "text": [
      " 77%|███████████████████████████████████████████████████▍               | 1016/1322 [46:41<09:59,  1.96s/it]"
     ]
    },
    {
     "name": "stdout",
     "output_type": "stream",
     "text": [
      "No results found for: 'Nebulosa Tenorio Jr.'\n",
      "Nebulosa Tenorio Jr. Not present in Genius\n",
      "Searching for \"Strings of Life\" by Rhythim Is Rhythim...\n"
     ]
    },
    {
     "name": "stderr",
     "output_type": "stream",
     "text": [
      " 77%|███████████████████████████████████████████████████▌               | 1017/1322 [46:46<13:18,  2.62s/it]"
     ]
    },
    {
     "name": "stdout",
     "output_type": "stream",
     "text": [
      "Done.\n",
      "Searching for \"Crosstown Traffic\" by Jimi Hendrix...\n"
     ]
    },
    {
     "name": "stderr",
     "output_type": "stream",
     "text": [
      " 77%|███████████████████████████████████████████████████▌               | 1018/1322 [46:50<15:53,  3.14s/it]"
     ]
    },
    {
     "name": "stdout",
     "output_type": "stream",
     "text": [
      "Done.\n",
      "Searching for \"Old Danube\" by Paternoster...\n",
      "No results found for: 'Old Danube Paternoster'\n",
      "Searching for \"Old Danube\" by Paternoster...\n",
      "No results found for: 'Old Danube Paternoster'\n",
      "Searching for \"Old Danube\" by Paternoster...\n",
      "No results found for: 'Old Danube Paternoster'\n",
      "Searching for \"Old Danube\" by Paternoster...\n",
      "No results found for: 'Old Danube Paternoster'\n",
      "Searching for \"Old Danube\" by Paternoster...\n"
     ]
    },
    {
     "name": "stderr",
     "output_type": "stream",
     "text": [
      " 77%|███████████████████████████████████████████████████▋               | 1019/1322 [46:52<13:46,  2.73s/it]"
     ]
    },
    {
     "name": "stdout",
     "output_type": "stream",
     "text": [
      "No results found for: 'Old Danube Paternoster'\n",
      "Old Danube Paternoster Not present in Genius\n",
      "Searching for \"Nomusa\" by Ndikho Xaba...\n",
      "No results found for: 'Nomusa Ndikho Xaba'\n",
      "Searching for \"Nomusa\" by Ndikho Xaba...\n",
      "No results found for: 'Nomusa Ndikho Xaba'\n",
      "Searching for \"Nomusa\" by Ndikho Xaba...\n",
      "No results found for: 'Nomusa Ndikho Xaba'\n",
      "Searching for \"Nomusa\" by Ndikho Xaba...\n",
      "No results found for: 'Nomusa Ndikho Xaba'\n",
      "Searching for \"Nomusa\" by Ndikho Xaba...\n"
     ]
    },
    {
     "name": "stderr",
     "output_type": "stream",
     "text": [
      " 77%|███████████████████████████████████████████████████▋               | 1020/1322 [46:53<12:11,  2.42s/it]"
     ]
    },
    {
     "name": "stdout",
     "output_type": "stream",
     "text": [
      "No results found for: 'Nomusa Ndikho Xaba'\n",
      "Nomusa Ndikho Xaba Not present in Genius\n",
      "Searching for \"Lost in Space (edit)\" by Shake...\n"
     ]
    },
    {
     "name": "stderr",
     "output_type": "stream",
     "text": [
      " 77%|███████████████████████████████████████████████████▋               | 1021/1322 [46:56<12:03,  2.40s/it]"
     ]
    },
    {
     "name": "stdout",
     "output_type": "stream",
     "text": [
      "Done.\n",
      "Searching for \"Nen Lambo\" by Bill Loko...\n"
     ]
    },
    {
     "name": "stderr",
     "output_type": "stream",
     "text": [
      " 77%|███████████████████████████████████████████████████▊               | 1022/1322 [46:59<13:14,  2.65s/it]"
     ]
    },
    {
     "name": "stdout",
     "output_type": "stream",
     "text": [
      "Done.\n",
      "Searching for \"The Bottle\" by Gil Scott-Heron & Brian Jackson...\n"
     ]
    },
    {
     "name": "stderr",
     "output_type": "stream",
     "text": [
      " 77%|███████████████████████████████████████████████████▊               | 1023/1322 [47:01<12:08,  2.44s/it]"
     ]
    },
    {
     "name": "stdout",
     "output_type": "stream",
     "text": [
      "Done.\n",
      "Searching for \"Tomorrow Never Knows - Remastered\" by The Beatles...\n"
     ]
    },
    {
     "name": "stderr",
     "output_type": "stream",
     "text": [
      " 77%|███████████████████████████████████████████████████▉               | 1024/1322 [47:03<10:59,  2.21s/it]"
     ]
    },
    {
     "name": "stdout",
     "output_type": "stream",
     "text": [
      "Done.\n",
      "Searching for \"Separate Ways\" by Joe R Lewis...\n"
     ]
    },
    {
     "name": "stderr",
     "output_type": "stream",
     "text": [
      " 78%|███████████████████████████████████████████████████▉               | 1025/1322 [47:07<14:42,  2.97s/it]"
     ]
    },
    {
     "name": "stdout",
     "output_type": "stream",
     "text": [
      "Done.\n",
      "Searching for \"Nude\" by Radiohead...\n"
     ]
    },
    {
     "name": "stderr",
     "output_type": "stream",
     "text": [
      " 78%|███████████████████████████████████████████████████▉               | 1026/1322 [47:13<18:14,  3.70s/it]"
     ]
    },
    {
     "name": "stdout",
     "output_type": "stream",
     "text": [
      "Done.\n",
      "Searching for \"Reckoner\" by Radiohead...\n",
      "Searching for \"Reckoner\" by Radiohead...\n"
     ]
    },
    {
     "name": "stderr",
     "output_type": "stream",
     "text": [
      " 78%|████████████████████████████████████████████████████               | 1027/1322 [47:20<24:03,  4.89s/it]"
     ]
    },
    {
     "name": "stdout",
     "output_type": "stream",
     "text": [
      "Done.\n",
      "Searching for \"What Is Life?\" by Ebo Taylor...\n"
     ]
    },
    {
     "name": "stderr",
     "output_type": "stream",
     "text": [
      " 78%|████████████████████████████████████████████████████               | 1028/1322 [47:22<19:30,  3.98s/it]"
     ]
    },
    {
     "name": "stdout",
     "output_type": "stream",
     "text": [
      "Done.\n",
      "Searching for \"Abdul Malek\" by Embryo...\n"
     ]
    },
    {
     "name": "stderr",
     "output_type": "stream",
     "text": [
      " 78%|████████████████████████████████████████████████████▏              | 1029/1322 [47:28<21:55,  4.49s/it]"
     ]
    },
    {
     "name": "stdout",
     "output_type": "stream",
     "text": [
      "Done.\n",
      "Searching for \"The Professor Here\" by Gary Davis...\n"
     ]
    },
    {
     "name": "stderr",
     "output_type": "stream",
     "text": [
      " 78%|████████████████████████████████████████████████████▏              | 1030/1322 [47:34<23:57,  4.92s/it]"
     ]
    },
    {
     "name": "stdout",
     "output_type": "stream",
     "text": [
      "Done.\n",
      "Searching for \"Got To Get Your Love\" by Gary Davis...\n"
     ]
    },
    {
     "name": "stderr",
     "output_type": "stream",
     "text": [
      " 78%|████████████████████████████████████████████████████▎              | 1031/1322 [47:36<19:53,  4.10s/it]"
     ]
    },
    {
     "name": "stdout",
     "output_type": "stream",
     "text": [
      "Done.\n",
      "Searching for \"Tonight (Love Will Make It Right) [Dub]\" by Hanson & Davis...\n"
     ]
    },
    {
     "name": "stderr",
     "output_type": "stream",
     "text": [
      " 78%|████████████████████████████████████████████████████▎              | 1032/1322 [47:38<16:46,  3.47s/it]"
     ]
    },
    {
     "name": "stdout",
     "output_type": "stream",
     "text": [
      "Done.\n",
      "Searching for \"Tell Me\" by Bobby V....\n"
     ]
    },
    {
     "name": "stderr",
     "output_type": "stream",
     "text": [
      " 78%|████████████████████████████████████████████████████▎              | 1033/1322 [47:40<14:22,  2.98s/it]"
     ]
    },
    {
     "name": "stdout",
     "output_type": "stream",
     "text": [
      "Done.\n",
      "Searching for \"Pulsez\" by G Flame...\n"
     ]
    },
    {
     "name": "stderr",
     "output_type": "stream",
     "text": [
      " 78%|████████████████████████████████████████████████████▍              | 1034/1322 [47:42<13:30,  2.81s/it]"
     ]
    },
    {
     "name": "stdout",
     "output_type": "stream",
     "text": [
      "Done.\n",
      "Searching for \"Express Yourself - David Todd Remix\" by The New York Community Choir...\n"
     ]
    },
    {
     "name": "stderr",
     "output_type": "stream",
     "text": [
      " 78%|████████████████████████████████████████████████████▍              | 1035/1322 [47:45<12:34,  2.63s/it]"
     ]
    },
    {
     "name": "stdout",
     "output_type": "stream",
     "text": [
      "Done.\n",
      "Searching for \"Yaz Gazeteci Yaz\" by Selda Bağcan...\n"
     ]
    },
    {
     "name": "stderr",
     "output_type": "stream",
     "text": [
      " 78%|████████████████████████████████████████████████████▌              | 1036/1322 [47:47<12:12,  2.56s/it]"
     ]
    },
    {
     "name": "stdout",
     "output_type": "stream",
     "text": [
      "Done.\n",
      "Searching for \"Just Blaze, Bleek & Free\" by Memphis Bleek...\n"
     ]
    },
    {
     "name": "stderr",
     "output_type": "stream",
     "text": [
      " 78%|████████████████████████████████████████████████████▌              | 1037/1322 [47:50<12:06,  2.55s/it]"
     ]
    },
    {
     "name": "stdout",
     "output_type": "stream",
     "text": [
      "Done.\n",
      "Searching for \"Take Ecstasy with Me\" by The Magnetic Fields...\n"
     ]
    },
    {
     "name": "stderr",
     "output_type": "stream",
     "text": [
      " 79%|████████████████████████████████████████████████████▌              | 1038/1322 [47:53<13:42,  2.90s/it]"
     ]
    },
    {
     "name": "stdout",
     "output_type": "stream",
     "text": [
      "Done.\n",
      "Searching for \"I Wish You Were Here\" by Al Green...\n"
     ]
    },
    {
     "name": "stderr",
     "output_type": "stream",
     "text": [
      " 79%|████████████████████████████████████████████████████▋              | 1039/1322 [47:57<15:28,  3.28s/it]"
     ]
    },
    {
     "name": "stdout",
     "output_type": "stream",
     "text": [
      "Done.\n",
      "Searching for \"Nothing's The Same\" by Koushik...\n"
     ]
    },
    {
     "name": "stderr",
     "output_type": "stream",
     "text": [
      " 79%|████████████████████████████████████████████████████▋              | 1040/1322 [48:02<16:35,  3.53s/it]"
     ]
    },
    {
     "name": "stdout",
     "output_type": "stream",
     "text": [
      "Done.\n",
      "Searching for \"Nadan al Kazawnin\" by Group Inerane...\n",
      "No results found for: 'Nadan al Kazawnin Group Inerane'\n",
      "Searching for \"Nadan al Kazawnin\" by Group Inerane...\n",
      "No results found for: 'Nadan al Kazawnin Group Inerane'\n",
      "Searching for \"Nadan al Kazawnin\" by Group Inerane...\n",
      "No results found for: 'Nadan al Kazawnin Group Inerane'\n",
      "Searching for \"Nadan al Kazawnin\" by Group Inerane...\n",
      "No results found for: 'Nadan al Kazawnin Group Inerane'\n",
      "Searching for \"Nadan al Kazawnin\" by Group Inerane...\n"
     ]
    },
    {
     "name": "stderr",
     "output_type": "stream",
     "text": [
      " 79%|████████████████████████████████████████████████████▊              | 1041/1322 [48:04<15:25,  3.29s/it]"
     ]
    },
    {
     "name": "stdout",
     "output_type": "stream",
     "text": [
      "No results found for: 'Nadan al Kazawnin Group Inerane'\n",
      "Nadan al Kazawnin Group Inerane Not present in Genius\n",
      "Searching for \"Timeless\" by Goldie...\n"
     ]
    },
    {
     "name": "stderr",
     "output_type": "stream",
     "text": [
      " 79%|████████████████████████████████████████████████████▊              | 1042/1322 [48:07<14:27,  3.10s/it]"
     ]
    },
    {
     "name": "stdout",
     "output_type": "stream",
     "text": [
      "Done.\n",
      "Searching for \"The Shit is Real - DJ Premier Remix\" by Fat Joe...\n"
     ]
    },
    {
     "name": "stderr",
     "output_type": "stream",
     "text": [
      " 79%|████████████████████████████████████████████████████▊              | 1043/1322 [48:12<17:31,  3.77s/it]"
     ]
    },
    {
     "name": "stdout",
     "output_type": "stream",
     "text": [
      "Done.\n",
      "Searching for \"Devil's Son from Lifestylez\" by Big L...\n"
     ]
    },
    {
     "name": "stderr",
     "output_type": "stream",
     "text": [
      " 79%|████████████████████████████████████████████████████▉              | 1044/1322 [48:15<16:14,  3.51s/it]"
     ]
    },
    {
     "name": "stdout",
     "output_type": "stream",
     "text": [
      "Done.\n",
      "Searching for \"Straight Outta Compton - Extended Mix / Edit\" by N.W.A....\n",
      "No results found for: 'Straight Outta Compton - Extended Mix / Edit N.W.A.'\n",
      "Searching for \"Straight Outta Compton - Extended Mix / Edit\" by N.W.A....\n",
      "No results found for: 'Straight Outta Compton - Extended Mix / Edit N.W.A.'\n",
      "Searching for \"Straight Outta Compton - Extended Mix / Edit\" by N.W.A....\n",
      "No results found for: 'Straight Outta Compton - Extended Mix / Edit N.W.A.'\n",
      "Searching for \"Straight Outta Compton - Extended Mix / Edit\" by N.W.A....\n",
      "No results found for: 'Straight Outta Compton - Extended Mix / Edit N.W.A.'\n",
      "Searching for \"Straight Outta Compton - Extended Mix / Edit\" by N.W.A....\n"
     ]
    },
    {
     "name": "stderr",
     "output_type": "stream",
     "text": [
      " 79%|████████████████████████████████████████████████████▉              | 1045/1322 [48:17<13:45,  2.98s/it]"
     ]
    },
    {
     "name": "stdout",
     "output_type": "stream",
     "text": [
      "No results found for: 'Straight Outta Compton - Extended Mix / Edit N.W.A.'\n",
      "Straight Outta Compton - Extended Mix / Edit N.W.A. Not present in Genius\n",
      "Searching for \"Chez A. Untitled - Extended Mix\" by Chez Damier...\n",
      "No results found for: 'Chez A. Untitled - Extended Mix Chez Damier'\n",
      "Searching for \"Chez A. Untitled - Extended Mix\" by Chez Damier...\n",
      "No results found for: 'Chez A. Untitled - Extended Mix Chez Damier'\n",
      "Searching for \"Chez A. Untitled - Extended Mix\" by Chez Damier...\n",
      "No results found for: 'Chez A. Untitled - Extended Mix Chez Damier'\n",
      "Searching for \"Chez A. Untitled - Extended Mix\" by Chez Damier...\n",
      "No results found for: 'Chez A. Untitled - Extended Mix Chez Damier'\n",
      "Searching for \"Chez A. Untitled - Extended Mix\" by Chez Damier...\n"
     ]
    },
    {
     "name": "stderr",
     "output_type": "stream",
     "text": [
      " 79%|█████████████████████████████████████████████████████              | 1046/1322 [48:19<11:59,  2.61s/it]"
     ]
    },
    {
     "name": "stdout",
     "output_type": "stream",
     "text": [
      "No results found for: 'Chez A. Untitled - Extended Mix Chez Damier'\n",
      "Chez A. Untitled - Extended Mix Chez Damier Not present in Genius\n",
      "Searching for \"Rewmi\" by Papa Ndiaye...\n",
      "No results found for: 'Rewmi Papa Ndiaye'\n",
      "Searching for \"Rewmi\" by Papa Ndiaye...\n",
      "No results found for: 'Rewmi Papa Ndiaye'\n",
      "Searching for \"Rewmi\" by Papa Ndiaye...\n",
      "No results found for: 'Rewmi Papa Ndiaye'\n",
      "Searching for \"Rewmi\" by Papa Ndiaye...\n",
      "No results found for: 'Rewmi Papa Ndiaye'\n",
      "Searching for \"Rewmi\" by Papa Ndiaye...\n"
     ]
    },
    {
     "name": "stderr",
     "output_type": "stream",
     "text": [
      " 79%|█████████████████████████████████████████████████████              | 1047/1322 [48:20<10:46,  2.35s/it]"
     ]
    },
    {
     "name": "stdout",
     "output_type": "stream",
     "text": [
      "No results found for: 'Rewmi Papa Ndiaye'\n",
      "Rewmi Papa Ndiaye Not present in Genius\n",
      "Searching for \"Huit octobre 1971\" by Cortex...\n"
     ]
    },
    {
     "name": "stderr",
     "output_type": "stream",
     "text": [
      " 79%|█████████████████████████████████████████████████████              | 1048/1322 [48:24<12:04,  2.64s/it]"
     ]
    },
    {
     "name": "stdout",
     "output_type": "stream",
     "text": [
      "Done.\n",
      "Searching for \"Chanson d'un jour d'hiver\" by Cortex...\n",
      "Specified song does not contain lyrics. Rejecting.\n",
      "Searching for \"Chanson d'un jour d'hiver\" by Cortex...\n",
      "Specified song does not contain lyrics. Rejecting.\n",
      "Searching for \"Chanson d'un jour d'hiver\" by Cortex...\n",
      "Specified song does not contain lyrics. Rejecting.\n",
      "Searching for \"Chanson d'un jour d'hiver\" by Cortex...\n",
      "Specified song does not contain lyrics. Rejecting.\n",
      "Searching for \"Chanson d'un jour d'hiver\" by Cortex...\n"
     ]
    },
    {
     "name": "stderr",
     "output_type": "stream",
     "text": [
      " 79%|█████████████████████████████████████████████████████▏             | 1049/1322 [48:26<11:28,  2.52s/it]"
     ]
    },
    {
     "name": "stdout",
     "output_type": "stream",
     "text": [
      "Specified song does not contain lyrics. Rejecting.\n",
      "Chanson d'un jour d'hiver Cortex Not present in Genius\n",
      "Searching for \"Mary et Jeff\" by Cortex...\n",
      "Specified song does not contain lyrics. Rejecting.\n",
      "Searching for \"Mary et Jeff\" by Cortex...\n",
      "Specified song does not contain lyrics. Rejecting.\n",
      "Searching for \"Mary et Jeff\" by Cortex...\n",
      "Specified song does not contain lyrics. Rejecting.\n",
      "Searching for \"Mary et Jeff\" by Cortex...\n",
      "Specified song does not contain lyrics. Rejecting.\n",
      "Searching for \"Mary et Jeff\" by Cortex...\n"
     ]
    },
    {
     "name": "stderr",
     "output_type": "stream",
     "text": [
      " 79%|█████████████████████████████████████████████████████▏             | 1050/1322 [48:29<12:18,  2.71s/it]"
     ]
    },
    {
     "name": "stdout",
     "output_type": "stream",
     "text": [
      "Specified song does not contain lyrics. Rejecting.\n",
      "Mary et Jeff Cortex Not present in Genius\n",
      "Searching for \"Dematerialize\" by Scientist...\n"
     ]
    },
    {
     "name": "stderr",
     "output_type": "stream",
     "text": [
      " 80%|█████████████████████████████████████████████████████▎             | 1051/1322 [48:36<17:34,  3.89s/it]"
     ]
    },
    {
     "name": "stdout",
     "output_type": "stream",
     "text": [
      "Done.\n",
      "Searching for \"Lump Sum\" by Linval Thompson...\n",
      "No results found for: 'Lump Sum Linval Thompson'\n",
      "Searching for \"Lump Sum\" by Linval Thompson...\n",
      "No results found for: 'Lump Sum Linval Thompson'\n",
      "Searching for \"Lump Sum\" by Linval Thompson...\n",
      "No results found for: 'Lump Sum Linval Thompson'\n",
      "Searching for \"Lump Sum\" by Linval Thompson...\n",
      "No results found for: 'Lump Sum Linval Thompson'\n",
      "Searching for \"Lump Sum\" by Linval Thompson...\n"
     ]
    },
    {
     "name": "stderr",
     "output_type": "stream",
     "text": [
      " 80%|█████████████████████████████████████████████████████▎             | 1052/1322 [48:37<14:35,  3.24s/it]"
     ]
    },
    {
     "name": "stdout",
     "output_type": "stream",
     "text": [
      "No results found for: 'Lump Sum Linval Thompson'\n",
      "Lump Sum Linval Thompson Not present in Genius\n",
      "Searching for \"The Meaning of Love (feat. Steve Kuhn)\" by Karin Krog...\n",
      "No results found for: 'The Meaning of Love (feat. Steve Kuhn) Karin Krog'\n",
      "Searching for \"The Meaning of Love (feat. Steve Kuhn)\" by Karin Krog...\n",
      "No results found for: 'The Meaning of Love (feat. Steve Kuhn) Karin Krog'\n",
      "Searching for \"The Meaning of Love (feat. Steve Kuhn)\" by Karin Krog...\n",
      "No results found for: 'The Meaning of Love (feat. Steve Kuhn) Karin Krog'\n",
      "Searching for \"The Meaning of Love (feat. Steve Kuhn)\" by Karin Krog...\n",
      "No results found for: 'The Meaning of Love (feat. Steve Kuhn) Karin Krog'\n",
      "Searching for \"The Meaning of Love (feat. Steve Kuhn)\" by Karin Krog...\n"
     ]
    },
    {
     "name": "stderr",
     "output_type": "stream",
     "text": [
      " 80%|█████████████████████████████████████████████████████▎             | 1053/1322 [48:39<12:33,  2.80s/it]"
     ]
    },
    {
     "name": "stdout",
     "output_type": "stream",
     "text": [
      "No results found for: 'The Meaning of Love (feat. Steve Kuhn) Karin Krog'\n",
      "The Meaning of Love (feat. Steve Kuhn) Karin Krog Not present in Genius\n",
      "Searching for \"Green Apple\" by Amanaz...\n",
      "Specified song does not contain lyrics. Rejecting.\n",
      "Searching for \"Green Apple\" by Amanaz...\n",
      "Specified song does not contain lyrics. Rejecting.\n",
      "Searching for \"Green Apple\" by Amanaz...\n",
      "Specified song does not contain lyrics. Rejecting.\n",
      "Searching for \"Green Apple\" by Amanaz...\n",
      "Specified song does not contain lyrics. Rejecting.\n",
      "Searching for \"Green Apple\" by Amanaz...\n"
     ]
    },
    {
     "name": "stderr",
     "output_type": "stream",
     "text": [
      " 80%|█████████████████████████████████████████████████████▍             | 1054/1322 [48:42<12:25,  2.78s/it]"
     ]
    },
    {
     "name": "stdout",
     "output_type": "stream",
     "text": [
      "Specified song does not contain lyrics. Rejecting.\n",
      "Green Apple Amanaz Not present in Genius\n",
      "Searching for \"Dina Waliji - Saints De L'islam\" by Le Mystere Jazz de Tombouctou...\n",
      "No results found for: 'Dina Waliji - Saints De L'islam Le Mystere Jazz de Tombouctou'\n",
      "Searching for \"Dina Waliji - Saints De L'islam\" by Le Mystere Jazz de Tombouctou...\n",
      "No results found for: 'Dina Waliji - Saints De L'islam Le Mystere Jazz de Tombouctou'\n",
      "Searching for \"Dina Waliji - Saints De L'islam\" by Le Mystere Jazz de Tombouctou...\n",
      "No results found for: 'Dina Waliji - Saints De L'islam Le Mystere Jazz de Tombouctou'\n",
      "Searching for \"Dina Waliji - Saints De L'islam\" by Le Mystere Jazz de Tombouctou...\n",
      "No results found for: 'Dina Waliji - Saints De L'islam Le Mystere Jazz de Tombouctou'\n",
      "Searching for \"Dina Waliji - Saints De L'islam\" by Le Mystere Jazz de Tombouctou...\n"
     ]
    },
    {
     "name": "stderr",
     "output_type": "stream",
     "text": [
      " 80%|█████████████████████████████████████████████████████▍             | 1055/1322 [48:44<11:21,  2.55s/it]"
     ]
    },
    {
     "name": "stdout",
     "output_type": "stream",
     "text": [
      "No results found for: 'Dina Waliji - Saints De L'islam Le Mystere Jazz de Tombouctou'\n",
      "Dina Waliji - Saints De L'islam Le Mystere Jazz de Tombouctou Not present in Genius\n",
      "Searching for \"Taliat\" by Intriya Ag Babo...\n",
      "No results found for: 'Taliat Intriya Ag Babo'\n",
      "Searching for \"Taliat\" by Intriya Ag Babo...\n",
      "No results found for: 'Taliat Intriya Ag Babo'\n",
      "Searching for \"Taliat\" by Intriya Ag Babo...\n",
      "No results found for: 'Taliat Intriya Ag Babo'\n",
      "Searching for \"Taliat\" by Intriya Ag Babo...\n",
      "No results found for: 'Taliat Intriya Ag Babo'\n",
      "Searching for \"Taliat\" by Intriya Ag Babo...\n"
     ]
    },
    {
     "name": "stderr",
     "output_type": "stream",
     "text": [
      " 80%|█████████████████████████████████████████████████████▌             | 1056/1322 [48:46<10:54,  2.46s/it]"
     ]
    },
    {
     "name": "stdout",
     "output_type": "stream",
     "text": [
      "No results found for: 'Taliat Intriya Ag Babo'\n",
      "Taliat Intriya Ag Babo Not present in Genius\n",
      "Searching for \"Tinariwen\" by Group Anmataff...\n",
      "No results found for: 'Tinariwen Group Anmataff'\n",
      "Searching for \"Tinariwen\" by Group Anmataff...\n",
      "No results found for: 'Tinariwen Group Anmataff'\n",
      "Searching for \"Tinariwen\" by Group Anmataff...\n",
      "No results found for: 'Tinariwen Group Anmataff'\n",
      "Searching for \"Tinariwen\" by Group Anmataff...\n",
      "No results found for: 'Tinariwen Group Anmataff'\n",
      "Searching for \"Tinariwen\" by Group Anmataff...\n"
     ]
    },
    {
     "name": "stderr",
     "output_type": "stream",
     "text": [
      " 80%|█████████████████████████████████████████████████████▌             | 1057/1322 [48:48<09:52,  2.23s/it]"
     ]
    },
    {
     "name": "stdout",
     "output_type": "stream",
     "text": [
      "No results found for: 'Tinariwen Group Anmataff'\n",
      "Tinariwen Group Anmataff Not present in Genius\n",
      "Searching for \"Mama Soukous\" by Volta Jazz...\n",
      "No results found for: 'Mama Soukous Volta Jazz'\n",
      "Searching for \"Mama Soukous\" by Volta Jazz...\n",
      "No results found for: 'Mama Soukous Volta Jazz'\n",
      "Searching for \"Mama Soukous\" by Volta Jazz...\n",
      "No results found for: 'Mama Soukous Volta Jazz'\n",
      "Searching for \"Mama Soukous\" by Volta Jazz...\n",
      "No results found for: 'Mama Soukous Volta Jazz'\n",
      "Searching for \"Mama Soukous\" by Volta Jazz...\n"
     ]
    },
    {
     "name": "stderr",
     "output_type": "stream",
     "text": [
      " 80%|█████████████████████████████████████████████████████▌             | 1058/1322 [48:50<09:17,  2.11s/it]"
     ]
    },
    {
     "name": "stdout",
     "output_type": "stream",
     "text": [
      "No results found for: 'Mama Soukous Volta Jazz'\n",
      "Mama Soukous Volta Jazz Not present in Genius\n",
      "Searching for \"Wazan Samat\" by Group Doueh...\n",
      "No results found for: 'Wazan Samat Group Doueh'\n",
      "Searching for \"Wazan Samat\" by Group Doueh...\n",
      "No results found for: 'Wazan Samat Group Doueh'\n",
      "Searching for \"Wazan Samat\" by Group Doueh...\n",
      "No results found for: 'Wazan Samat Group Doueh'\n",
      "Searching for \"Wazan Samat\" by Group Doueh...\n",
      "No results found for: 'Wazan Samat Group Doueh'\n",
      "Searching for \"Wazan Samat\" by Group Doueh...\n"
     ]
    },
    {
     "name": "stderr",
     "output_type": "stream",
     "text": [
      " 80%|█████████████████████████████████████████████████████▋             | 1059/1322 [48:52<08:46,  2.00s/it]"
     ]
    },
    {
     "name": "stdout",
     "output_type": "stream",
     "text": [
      "No results found for: 'Wazan Samat Group Doueh'\n",
      "Wazan Samat Group Doueh Not present in Genius\n",
      "Searching for \"Kar Labyad Doueh\" by Group Doueh...\n",
      "No results found for: 'Kar Labyad Doueh Group Doueh'\n",
      "Searching for \"Kar Labyad Doueh\" by Group Doueh...\n",
      "No results found for: 'Kar Labyad Doueh Group Doueh'\n",
      "Searching for \"Kar Labyad Doueh\" by Group Doueh...\n",
      "No results found for: 'Kar Labyad Doueh Group Doueh'\n",
      "Searching for \"Kar Labyad Doueh\" by Group Doueh...\n",
      "No results found for: 'Kar Labyad Doueh Group Doueh'\n",
      "Searching for \"Kar Labyad Doueh\" by Group Doueh...\n"
     ]
    },
    {
     "name": "stderr",
     "output_type": "stream",
     "text": [
      " 80%|█████████████████████████████████████████████████████▋             | 1060/1322 [48:54<08:52,  2.03s/it]"
     ]
    },
    {
     "name": "stdout",
     "output_type": "stream",
     "text": [
      "No results found for: 'Kar Labyad Doueh Group Doueh'\n",
      "Kar Labyad Doueh Group Doueh Not present in Genius\n",
      "Searching for \"Daa Nyinaa\" by Ata Kak...\n",
      "No results found for: 'Daa Nyinaa Ata Kak'\n",
      "Searching for \"Daa Nyinaa\" by Ata Kak...\n",
      "No results found for: 'Daa Nyinaa Ata Kak'\n",
      "Searching for \"Daa Nyinaa\" by Ata Kak...\n",
      "No results found for: 'Daa Nyinaa Ata Kak'\n",
      "Searching for \"Daa Nyinaa\" by Ata Kak...\n",
      "No results found for: 'Daa Nyinaa Ata Kak'\n",
      "Searching for \"Daa Nyinaa\" by Ata Kak...\n"
     ]
    },
    {
     "name": "stderr",
     "output_type": "stream",
     "text": [
      " 80%|█████████████████████████████████████████████████████▊             | 1061/1322 [48:55<08:27,  1.94s/it]"
     ]
    },
    {
     "name": "stdout",
     "output_type": "stream",
     "text": [
      "No results found for: 'Daa Nyinaa Ata Kak'\n",
      "Daa Nyinaa Ata Kak Not present in Genius\n",
      "Searching for \"Leh Jani\" by Omar Souleyman...\n"
     ]
    },
    {
     "name": "stderr",
     "output_type": "stream",
     "text": [
      " 80%|█████████████████████████████████████████████████████▊             | 1062/1322 [48:58<09:13,  2.13s/it]"
     ]
    },
    {
     "name": "stdout",
     "output_type": "stream",
     "text": [
      "Done.\n",
      "Searching for \"Kuni Majagani\" by Group Inerane...\n",
      "No results found for: 'Kuni Majagani Group Inerane'\n",
      "Searching for \"Kuni Majagani\" by Group Inerane...\n",
      "No results found for: 'Kuni Majagani Group Inerane'\n",
      "Searching for \"Kuni Majagani\" by Group Inerane...\n",
      "No results found for: 'Kuni Majagani Group Inerane'\n",
      "Searching for \"Kuni Majagani\" by Group Inerane...\n",
      "No results found for: 'Kuni Majagani Group Inerane'\n",
      "Searching for \"Kuni Majagani\" by Group Inerane...\n"
     ]
    },
    {
     "name": "stderr",
     "output_type": "stream",
     "text": [
      " 80%|█████████████████████████████████████████████████████▊             | 1063/1322 [49:00<08:57,  2.07s/it]"
     ]
    },
    {
     "name": "stdout",
     "output_type": "stream",
     "text": [
      "No results found for: 'Kuni Majagani Group Inerane'\n",
      "Kuni Majagani Group Inerane Not present in Genius\n",
      "Searching for \"Some Lovin' - Deep Dub\" by Liberty City...\n"
     ]
    },
    {
     "name": "stderr",
     "output_type": "stream",
     "text": [
      " 80%|█████████████████████████████████████████████████████▉             | 1064/1322 [49:04<12:01,  2.80s/it]"
     ]
    },
    {
     "name": "stdout",
     "output_type": "stream",
     "text": [
      "Done.\n",
      "Searching for \"Forgive Us All\" by Rob...\n"
     ]
    },
    {
     "name": "stderr",
     "output_type": "stream",
     "text": [
      " 81%|█████████████████████████████████████████████████████▉             | 1065/1322 [49:08<12:45,  2.98s/it]"
     ]
    },
    {
     "name": "stdout",
     "output_type": "stream",
     "text": [
      "Done.\n",
      "Searching for \"Enough About Human Rights\" by Moondog...\n"
     ]
    },
    {
     "name": "stderr",
     "output_type": "stream",
     "text": [
      " 81%|██████████████████████████████████████████████████████             | 1066/1322 [49:09<10:56,  2.56s/it]"
     ]
    },
    {
     "name": "stdout",
     "output_type": "stream",
     "text": [
      "Done.\n",
      "Searching for \"Avenue of the Americas 51st Street\" by Moondog...\n",
      "No results found for: 'Avenue of the Americas 51st Street Moondog'\n",
      "Searching for \"Avenue of the Americas 51st Street\" by Moondog...\n",
      "No results found for: 'Avenue of the Americas 51st Street Moondog'\n",
      "Searching for \"Avenue of the Americas 51st Street\" by Moondog...\n",
      "No results found for: 'Avenue of the Americas 51st Street Moondog'\n",
      "Searching for \"Avenue of the Americas 51st Street\" by Moondog...\n",
      "No results found for: 'Avenue of the Americas 51st Street Moondog'\n",
      "Searching for \"Avenue of the Americas 51st Street\" by Moondog...\n"
     ]
    },
    {
     "name": "stderr",
     "output_type": "stream",
     "text": [
      " 81%|██████████████████████████████████████████████████████             | 1067/1322 [49:11<09:56,  2.34s/it]"
     ]
    },
    {
     "name": "stdout",
     "output_type": "stream",
     "text": [
      "No results found for: 'Avenue of the Americas 51st Street Moondog'\n",
      "Avenue of the Americas 51st Street Moondog Not present in Genius\n",
      "Searching for \"Laser\" by H. Tical...\n"
     ]
    },
    {
     "name": "stderr",
     "output_type": "stream",
     "text": [
      " 81%|██████████████████████████████████████████████████████▏            | 1068/1322 [49:14<11:08,  2.63s/it]"
     ]
    },
    {
     "name": "stdout",
     "output_type": "stream",
     "text": [
      "Done.\n",
      "Searching for \"Truth Is Marching In\" by Albert Ayler...\n"
     ]
    },
    {
     "name": "stderr",
     "output_type": "stream",
     "text": [
      " 81%|██████████████████████████████████████████████████████▏            | 1069/1322 [49:19<12:54,  3.06s/it]"
     ]
    },
    {
     "name": "stdout",
     "output_type": "stream",
     "text": [
      "Done.\n",
      "Searching for \"You Don't Know\" by Drexciya...\n"
     ]
    },
    {
     "name": "stderr",
     "output_type": "stream",
     "text": [
      " 81%|██████████████████████████████████████████████████████▏            | 1070/1322 [49:22<13:51,  3.30s/it]"
     ]
    },
    {
     "name": "stdout",
     "output_type": "stream",
     "text": [
      "Done.\n",
      "Searching for \"Rock Don't Stop\" by Taxie...\n"
     ]
    },
    {
     "name": "stderr",
     "output_type": "stream",
     "text": [
      " 81%|██████████████████████████████████████████████████████▎            | 1071/1322 [49:26<14:36,  3.49s/it]"
     ]
    },
    {
     "name": "stdout",
     "output_type": "stream",
     "text": [
      "Done.\n",
      "Searching for \"Aur Paas Aa China\" by Vandana Bajpai...\n",
      "No results found for: 'Aur Paas Aa China Vandana Bajpai'\n",
      "Searching for \"Aur Paas Aa China\" by Vandana Bajpai...\n",
      "No results found for: 'Aur Paas Aa China Vandana Bajpai'\n",
      "Searching for \"Aur Paas Aa China\" by Vandana Bajpai...\n",
      "No results found for: 'Aur Paas Aa China Vandana Bajpai'\n",
      "Searching for \"Aur Paas Aa China\" by Vandana Bajpai...\n",
      "No results found for: 'Aur Paas Aa China Vandana Bajpai'\n",
      "Searching for \"Aur Paas Aa China\" by Vandana Bajpai...\n"
     ]
    },
    {
     "name": "stderr",
     "output_type": "stream",
     "text": [
      " 81%|██████████████████████████████████████████████████████▎            | 1072/1322 [49:29<13:23,  3.21s/it]"
     ]
    },
    {
     "name": "stdout",
     "output_type": "stream",
     "text": [
      "No results found for: 'Aur Paas Aa China Vandana Bajpai'\n",
      "Aur Paas Aa China Vandana Bajpai Not present in Genius\n",
      "Searching for \"Dambéfoli\" by Luka Productions...\n",
      "No results found for: 'Dambéfoli Luka Productions'\n",
      "Searching for \"Dambéfoli\" by Luka Productions...\n",
      "No results found for: 'Dambéfoli Luka Productions'\n",
      "Searching for \"Dambéfoli\" by Luka Productions...\n",
      "No results found for: 'Dambéfoli Luka Productions'\n",
      "Searching for \"Dambéfoli\" by Luka Productions...\n",
      "No results found for: 'Dambéfoli Luka Productions'\n",
      "Searching for \"Dambéfoli\" by Luka Productions...\n"
     ]
    },
    {
     "name": "stderr",
     "output_type": "stream",
     "text": [
      " 81%|██████████████████████████████████████████████████████▍            | 1073/1322 [49:31<12:15,  2.95s/it]"
     ]
    },
    {
     "name": "stdout",
     "output_type": "stream",
     "text": [
      "No results found for: 'Dambéfoli Luka Productions'\n",
      "Dambéfoli Luka Productions Not present in Genius\n",
      "Searching for \"Dooyo\" by Dur-Dur Band...\n"
     ]
    },
    {
     "name": "stderr",
     "output_type": "stream",
     "text": [
      " 81%|██████████████████████████████████████████████████████▍            | 1074/1322 [49:35<13:33,  3.28s/it]"
     ]
    },
    {
     "name": "stdout",
     "output_type": "stream",
     "text": [
      "Done.\n",
      "Searching for \"Love Is a Hurtin' Thing - 12\" Version\" by Gloria Ann Taylor...\n",
      "No results found for: 'Love Is a Hurtin' Thing - 12\" Version Gloria Ann Taylor'\n",
      "Searching for \"Love Is a Hurtin' Thing - 12\" Version\" by Gloria Ann Taylor...\n",
      "No results found for: 'Love Is a Hurtin' Thing - 12\" Version Gloria Ann Taylor'\n",
      "Searching for \"Love Is a Hurtin' Thing - 12\" Version\" by Gloria Ann Taylor...\n",
      "No results found for: 'Love Is a Hurtin' Thing - 12\" Version Gloria Ann Taylor'\n",
      "Searching for \"Love Is a Hurtin' Thing - 12\" Version\" by Gloria Ann Taylor...\n",
      "No results found for: 'Love Is a Hurtin' Thing - 12\" Version Gloria Ann Taylor'\n",
      "Searching for \"Love Is a Hurtin' Thing - 12\" Version\" by Gloria Ann Taylor...\n"
     ]
    },
    {
     "name": "stderr",
     "output_type": "stream",
     "text": [
      " 81%|██████████████████████████████████████████████████████▍            | 1075/1322 [49:37<11:39,  2.83s/it]"
     ]
    },
    {
     "name": "stdout",
     "output_type": "stream",
     "text": [
      "No results found for: 'Love Is a Hurtin' Thing - 12\" Version Gloria Ann Taylor'\n",
      "Love Is a Hurtin' Thing - 12\" Version Gloria Ann Taylor Not present in Genius\n",
      "Searching for \"Hey Hey - Remastered\" by Andrew Hill...\n"
     ]
    },
    {
     "name": "stderr",
     "output_type": "stream",
     "text": [
      " 81%|██████████████████████████████████████████████████████▌            | 1076/1322 [49:40<12:09,  2.97s/it]"
     ]
    },
    {
     "name": "stdout",
     "output_type": "stream",
     "text": [
      "Done.\n",
      "Searching for \"Gönül Dağı\" by Barış Manço...\n"
     ]
    },
    {
     "name": "stderr",
     "output_type": "stream",
     "text": [
      " 81%|██████████████████████████████████████████████████████▌            | 1077/1322 [49:43<12:03,  2.95s/it]"
     ]
    },
    {
     "name": "stdout",
     "output_type": "stream",
     "text": [
      "Done.\n",
      "Searching for \"Lambaya Püf De\" by Barış Manço...\n"
     ]
    },
    {
     "name": "stderr",
     "output_type": "stream",
     "text": [
      " 82%|██████████████████████████████████████████████████████▋            | 1078/1322 [49:46<11:17,  2.78s/it]"
     ]
    },
    {
     "name": "stdout",
     "output_type": "stream",
     "text": [
      "Done.\n",
      "Searching for \"Spirale Malax\" by Lard Free...\n"
     ]
    },
    {
     "name": "stderr",
     "output_type": "stream",
     "text": [
      " 82%|██████████████████████████████████████████████████████▋            | 1079/1322 [49:49<12:05,  2.99s/it]"
     ]
    },
    {
     "name": "stdout",
     "output_type": "stream",
     "text": [
      "Done.\n",
      "Searching for \"Love Me For Real\" by Rim Kwaku Obeng...\n"
     ]
    },
    {
     "name": "stderr",
     "output_type": "stream",
     "text": [
      " 82%|██████████████████████████████████████████████████████▋            | 1080/1322 [49:53<12:41,  3.15s/it]"
     ]
    },
    {
     "name": "stdout",
     "output_type": "stream",
     "text": [
      "Done.\n",
      "Searching for \"Radiotricity\" by Lilys...\n"
     ]
    },
    {
     "name": "stderr",
     "output_type": "stream",
     "text": [
      " 82%|██████████████████████████████████████████████████████▊            | 1081/1322 [49:55<11:39,  2.90s/it]"
     ]
    },
    {
     "name": "stdout",
     "output_type": "stream",
     "text": [
      "Done.\n",
      "Searching for \"Girl from New York\" by Billy Nicholls...\n"
     ]
    },
    {
     "name": "stderr",
     "output_type": "stream",
     "text": [
      " 82%|██████████████████████████████████████████████████████▊            | 1082/1322 [49:58<11:14,  2.81s/it]"
     ]
    },
    {
     "name": "stdout",
     "output_type": "stream",
     "text": [
      "Done.\n",
      "Searching for \"Make The Madness Stop\" by The Free Design...\n"
     ]
    },
    {
     "name": "stderr",
     "output_type": "stream",
     "text": [
      " 82%|██████████████████████████████████████████████████████▉            | 1083/1322 [50:00<10:57,  2.75s/it]"
     ]
    },
    {
     "name": "stdout",
     "output_type": "stream",
     "text": [
      "Done.\n",
      "Searching for \"Second Line March\" by David Lee Jr....\n"
     ]
    },
    {
     "name": "stderr",
     "output_type": "stream",
     "text": [
      " 82%|██████████████████████████████████████████████████████▉            | 1084/1322 [50:05<13:32,  3.42s/it]"
     ]
    },
    {
     "name": "stdout",
     "output_type": "stream",
     "text": [
      "Done.\n",
      "Searching for \"Er Ra\" by Alice Coltrane...\n",
      "No results found for: 'Er Ra Alice Coltrane'\n",
      "Searching for \"Er Ra\" by Alice Coltrane...\n",
      "No results found for: 'Er Ra Alice Coltrane'\n",
      "Searching for \"Er Ra\" by Alice Coltrane...\n",
      "No results found for: 'Er Ra Alice Coltrane'\n",
      "Searching for \"Er Ra\" by Alice Coltrane...\n",
      "No results found for: 'Er Ra Alice Coltrane'\n",
      "Searching for \"Er Ra\" by Alice Coltrane...\n"
     ]
    },
    {
     "name": "stderr",
     "output_type": "stream",
     "text": [
      " 82%|██████████████████████████████████████████████████████▉            | 1085/1322 [50:07<11:51,  3.00s/it]"
     ]
    },
    {
     "name": "stdout",
     "output_type": "stream",
     "text": [
      "No results found for: 'Er Ra Alice Coltrane'\n",
      "Er Ra Alice Coltrane Not present in Genius\n",
      "Searching for \"Cross Country\" by Archie Whitewater...\n",
      "No results found for: 'Cross Country Archie Whitewater'\n",
      "Searching for \"Cross Country\" by Archie Whitewater...\n",
      "No results found for: 'Cross Country Archie Whitewater'\n",
      "Searching for \"Cross Country\" by Archie Whitewater...\n",
      "No results found for: 'Cross Country Archie Whitewater'\n",
      "Searching for \"Cross Country\" by Archie Whitewater...\n",
      "No results found for: 'Cross Country Archie Whitewater'\n",
      "Searching for \"Cross Country\" by Archie Whitewater...\n"
     ]
    },
    {
     "name": "stderr",
     "output_type": "stream",
     "text": [
      " 82%|███████████████████████████████████████████████████████            | 1086/1322 [50:09<10:36,  2.70s/it]"
     ]
    },
    {
     "name": "stdout",
     "output_type": "stream",
     "text": [
      "No results found for: 'Cross Country Archie Whitewater'\n",
      "Cross Country Archie Whitewater Not present in Genius\n",
      "Searching for \"Ódio Sem Valor\" by Pedrinho...\n"
     ]
    },
    {
     "name": "stderr",
     "output_type": "stream",
     "text": [
      " 82%|███████████████████████████████████████████████████████            | 1087/1322 [50:11<09:59,  2.55s/it]"
     ]
    },
    {
     "name": "stdout",
     "output_type": "stream",
     "text": [
      "Done.\n",
      "Searching for \"It's Choade My Dear\" by Connan Mockasin...\n"
     ]
    },
    {
     "name": "stderr",
     "output_type": "stream",
     "text": [
      " 82%|███████████████████████████████████████████████████████▏           | 1088/1322 [50:13<09:06,  2.34s/it]"
     ]
    },
    {
     "name": "stdout",
     "output_type": "stream",
     "text": [
      "Done.\n",
      "Searching for \"For Kate I Wait\" by Ariel Pink...\n"
     ]
    },
    {
     "name": "stderr",
     "output_type": "stream",
     "text": [
      " 82%|███████████████████████████████████████████████████████▏           | 1089/1322 [50:16<09:55,  2.56s/it]"
     ]
    },
    {
     "name": "stdout",
     "output_type": "stream",
     "text": [
      "Done.\n",
      "Searching for \"Electric to Me Turn\" by Bruce Haack...\n"
     ]
    },
    {
     "name": "stderr",
     "output_type": "stream",
     "text": [
      " 82%|███████████████████████████████████████████████████████▏           | 1090/1322 [50:19<10:14,  2.65s/it]"
     ]
    },
    {
     "name": "stdout",
     "output_type": "stream",
     "text": [
      "Done.\n",
      "Searching for \"Fazon\" by Sopwith Camel...\n"
     ]
    },
    {
     "name": "stderr",
     "output_type": "stream",
     "text": [
      " 83%|███████████████████████████████████████████████████████▎           | 1091/1322 [50:21<09:18,  2.42s/it]"
     ]
    },
    {
     "name": "stdout",
     "output_type": "stream",
     "text": [
      "Done.\n",
      "Searching for \"Girl\" by Stratus...\n"
     ]
    },
    {
     "name": "stderr",
     "output_type": "stream",
     "text": [
      " 83%|███████████████████████████████████████████████████████▎           | 1092/1322 [50:24<09:30,  2.48s/it]"
     ]
    },
    {
     "name": "stdout",
     "output_type": "stream",
     "text": [
      "Done.\n",
      "Searching for \"Keep on Striving - 2013 Remaster\" by Moses Smith...\n"
     ]
    },
    {
     "name": "stderr",
     "output_type": "stream",
     "text": [
      " 83%|███████████████████████████████████████████████████████▍           | 1093/1322 [50:28<11:06,  2.91s/it]"
     ]
    },
    {
     "name": "stdout",
     "output_type": "stream",
     "text": [
      "Done.\n",
      "Searching for \"Rise Up - Discomix\" by Tyrone Evans...\n",
      "No results found for: 'Rise Up - Discomix Tyrone Evans'\n",
      "Searching for \"Rise Up - Discomix\" by Tyrone Evans...\n",
      "No results found for: 'Rise Up - Discomix Tyrone Evans'\n",
      "Searching for \"Rise Up - Discomix\" by Tyrone Evans...\n",
      "No results found for: 'Rise Up - Discomix Tyrone Evans'\n",
      "Searching for \"Rise Up - Discomix\" by Tyrone Evans...\n",
      "No results found for: 'Rise Up - Discomix Tyrone Evans'\n",
      "Searching for \"Rise Up - Discomix\" by Tyrone Evans...\n"
     ]
    },
    {
     "name": "stderr",
     "output_type": "stream",
     "text": [
      " 83%|███████████████████████████████████████████████████████▍           | 1094/1322 [50:29<09:49,  2.59s/it]"
     ]
    },
    {
     "name": "stdout",
     "output_type": "stream",
     "text": [
      "No results found for: 'Rise Up - Discomix Tyrone Evans'\n",
      "Rise Up - Discomix Tyrone Evans Not present in Genius\n",
      "Searching for \"Prema, Shanti, Dharma, Satya\" by Sheila Chandra...\n",
      "No results found for: 'Prema, Shanti, Dharma, Satya Sheila Chandra'\n",
      "Searching for \"Prema, Shanti, Dharma, Satya\" by Sheila Chandra...\n",
      "No results found for: 'Prema, Shanti, Dharma, Satya Sheila Chandra'\n",
      "Searching for \"Prema, Shanti, Dharma, Satya\" by Sheila Chandra...\n",
      "No results found for: 'Prema, Shanti, Dharma, Satya Sheila Chandra'\n",
      "Searching for \"Prema, Shanti, Dharma, Satya\" by Sheila Chandra...\n",
      "No results found for: 'Prema, Shanti, Dharma, Satya Sheila Chandra'\n",
      "Searching for \"Prema, Shanti, Dharma, Satya\" by Sheila Chandra...\n"
     ]
    },
    {
     "name": "stderr",
     "output_type": "stream",
     "text": [
      " 83%|███████████████████████████████████████████████████████▍           | 1095/1322 [50:31<08:55,  2.36s/it]"
     ]
    },
    {
     "name": "stdout",
     "output_type": "stream",
     "text": [
      "No results found for: 'Prema, Shanti, Dharma, Satya Sheila Chandra'\n",
      "Prema, Shanti, Dharma, Satya Sheila Chandra Not present in Genius\n",
      "Searching for \"Love Song\" by Joe Cruz & The Cruzettes...\n",
      "No results found for: 'Love Song Joe Cruz & The Cruzettes'\n",
      "Searching for \"Love Song\" by Joe Cruz & The Cruzettes...\n",
      "No results found for: 'Love Song Joe Cruz & The Cruzettes'\n",
      "Searching for \"Love Song\" by Joe Cruz & The Cruzettes...\n",
      "No results found for: 'Love Song Joe Cruz & The Cruzettes'\n",
      "Searching for \"Love Song\" by Joe Cruz & The Cruzettes...\n",
      "No results found for: 'Love Song Joe Cruz & The Cruzettes'\n",
      "Searching for \"Love Song\" by Joe Cruz & The Cruzettes...\n"
     ]
    },
    {
     "name": "stderr",
     "output_type": "stream",
     "text": [
      " 83%|███████████████████████████████████████████████████████▌           | 1096/1322 [50:33<08:11,  2.17s/it]"
     ]
    },
    {
     "name": "stdout",
     "output_type": "stream",
     "text": [
      "No results found for: 'Love Song Joe Cruz & The Cruzettes'\n",
      "Love Song Joe Cruz & The Cruzettes Not present in Genius\n",
      "Searching for \"What You Won't Do for Love\" by Michael Boothman...\n"
     ]
    },
    {
     "name": "stderr",
     "output_type": "stream",
     "text": [
      " 83%|███████████████████████████████████████████████████████▌           | 1097/1322 [50:38<11:15,  3.00s/it]"
     ]
    },
    {
     "name": "stdout",
     "output_type": "stream",
     "text": [
      "Done.\n",
      "Searching for \"Never Gonna Leave You\" by Evans Pyramid...\n"
     ]
    },
    {
     "name": "stderr",
     "output_type": "stream",
     "text": [
      " 83%|███████████████████████████████████████████████████████▋           | 1098/1322 [50:41<10:58,  2.94s/it]"
     ]
    },
    {
     "name": "stdout",
     "output_type": "stream",
     "text": [
      "Done.\n",
      "Searching for \"Don't You Know\" by Jan Hammer Group...\n"
     ]
    },
    {
     "name": "stderr",
     "output_type": "stream",
     "text": [
      " 83%|███████████████████████████████████████████████████████▋           | 1099/1322 [50:43<09:52,  2.66s/it]"
     ]
    },
    {
     "name": "stdout",
     "output_type": "stream",
     "text": [
      "Done.\n",
      "Searching for \"We Had Enough\" by Arnie Love & The Lovelettes...\n",
      "Specified song does not contain lyrics. Rejecting.\n",
      "Searching for \"We Had Enough\" by Arnie Love & The Lovelettes...\n",
      "Specified song does not contain lyrics. Rejecting.\n",
      "Searching for \"We Had Enough\" by Arnie Love & The Lovelettes...\n",
      "Specified song does not contain lyrics. Rejecting.\n",
      "Searching for \"We Had Enough\" by Arnie Love & The Lovelettes...\n",
      "Specified song does not contain lyrics. Rejecting.\n",
      "Searching for \"We Had Enough\" by Arnie Love & The Lovelettes...\n"
     ]
    },
    {
     "name": "stderr",
     "output_type": "stream",
     "text": [
      " 83%|███████████████████████████████████████████████████████▋           | 1100/1322 [50:45<08:59,  2.43s/it]"
     ]
    },
    {
     "name": "stdout",
     "output_type": "stream",
     "text": [
      "Specified song does not contain lyrics. Rejecting.\n",
      "We Had Enough Arnie Love & The Lovelettes Not present in Genius\n",
      "Searching for \"Asante Kwa Wazazi\" by Marehemu George Mukabi...\n",
      "No results found for: 'Asante Kwa Wazazi Marehemu George Mukabi'\n",
      "Searching for \"Asante Kwa Wazazi\" by Marehemu George Mukabi...\n",
      "No results found for: 'Asante Kwa Wazazi Marehemu George Mukabi'\n",
      "Searching for \"Asante Kwa Wazazi\" by Marehemu George Mukabi...\n",
      "No results found for: 'Asante Kwa Wazazi Marehemu George Mukabi'\n",
      "Searching for \"Asante Kwa Wazazi\" by Marehemu George Mukabi...\n",
      "No results found for: 'Asante Kwa Wazazi Marehemu George Mukabi'\n",
      "Searching for \"Asante Kwa Wazazi\" by Marehemu George Mukabi...\n"
     ]
    },
    {
     "name": "stderr",
     "output_type": "stream",
     "text": [
      " 83%|███████████████████████████████████████████████████████▊           | 1101/1322 [50:46<08:10,  2.22s/it]"
     ]
    },
    {
     "name": "stdout",
     "output_type": "stream",
     "text": [
      "No results found for: 'Asante Kwa Wazazi Marehemu George Mukabi'\n",
      "Asante Kwa Wazazi Marehemu George Mukabi Not present in Genius\n",
      "Searching for \"Dogs Of War\" by Ghostface Killah...\n"
     ]
    },
    {
     "name": "stderr",
     "output_type": "stream",
     "text": [
      " 83%|███████████████████████████████████████████████████████▊           | 1102/1322 [50:49<08:07,  2.21s/it]"
     ]
    },
    {
     "name": "stdout",
     "output_type": "stream",
     "text": [
      "Done.\n",
      "Searching for \"Sanningens silverflod - Djungelns Lag\" by Träd Gräs Och Stenar...\n",
      "No results found for: 'Sanningens silverflod - Djungelns Lag Träd Gräs Och Stenar'\n",
      "Searching for \"Sanningens silverflod - Djungelns Lag\" by Träd Gräs Och Stenar...\n",
      "No results found for: 'Sanningens silverflod - Djungelns Lag Träd Gräs Och Stenar'\n",
      "Searching for \"Sanningens silverflod - Djungelns Lag\" by Träd Gräs Och Stenar...\n",
      "No results found for: 'Sanningens silverflod - Djungelns Lag Träd Gräs Och Stenar'\n",
      "Searching for \"Sanningens silverflod - Djungelns Lag\" by Träd Gräs Och Stenar...\n",
      "No results found for: 'Sanningens silverflod - Djungelns Lag Träd Gräs Och Stenar'\n",
      "Searching for \"Sanningens silverflod - Djungelns Lag\" by Träd Gräs Och Stenar...\n"
     ]
    },
    {
     "name": "stderr",
     "output_type": "stream",
     "text": [
      " 83%|███████████████████████████████████████████████████████▉           | 1103/1322 [50:50<07:39,  2.10s/it]"
     ]
    },
    {
     "name": "stdout",
     "output_type": "stream",
     "text": [
      "No results found for: 'Sanningens silverflod - Djungelns Lag Träd Gräs Och Stenar'\n",
      "Sanningens silverflod - Djungelns Lag Träd Gräs Och Stenar Not present in Genius\n",
      "Searching for \"Awake O Zion\" by Twinkie Clark...\n"
     ]
    },
    {
     "name": "stderr",
     "output_type": "stream",
     "text": [
      " 84%|███████████████████████████████████████████████████████▉           | 1104/1322 [50:54<09:28,  2.61s/it]"
     ]
    },
    {
     "name": "stdout",
     "output_type": "stream",
     "text": [
      "Done.\n",
      "Searching for \"A Love Supreme\" by Alice Coltrane...\n"
     ]
    },
    {
     "name": "stderr",
     "output_type": "stream",
     "text": [
      " 84%|████████████████████████████████████████████████████████           | 1105/1322 [50:56<09:07,  2.52s/it]"
     ]
    },
    {
     "name": "stdout",
     "output_type": "stream",
     "text": [
      "Done.\n",
      "Searching for \"Focus\" by Mystic Bill...\n"
     ]
    },
    {
     "name": "stderr",
     "output_type": "stream",
     "text": [
      " 84%|████████████████████████████████████████████████████████           | 1106/1322 [51:00<09:48,  2.72s/it]"
     ]
    },
    {
     "name": "stdout",
     "output_type": "stream",
     "text": [
      "Done.\n",
      "Searching for \"Jigeen\" by Mark Ernestus’ Ndagga Rhythm Force...\n",
      "No results found for: 'Jigeen Mark Ernestus’ Ndagga Rhythm Force'\n",
      "Searching for \"Jigeen\" by Mark Ernestus’ Ndagga Rhythm Force...\n",
      "No results found for: 'Jigeen Mark Ernestus’ Ndagga Rhythm Force'\n",
      "Searching for \"Jigeen\" by Mark Ernestus’ Ndagga Rhythm Force...\n",
      "No results found for: 'Jigeen Mark Ernestus’ Ndagga Rhythm Force'\n",
      "Searching for \"Jigeen\" by Mark Ernestus’ Ndagga Rhythm Force...\n",
      "No results found for: 'Jigeen Mark Ernestus’ Ndagga Rhythm Force'\n",
      "Searching for \"Jigeen\" by Mark Ernestus’ Ndagga Rhythm Force...\n"
     ]
    },
    {
     "name": "stderr",
     "output_type": "stream",
     "text": [
      " 84%|████████████████████████████████████████████████████████           | 1107/1322 [51:02<08:50,  2.47s/it]"
     ]
    },
    {
     "name": "stdout",
     "output_type": "stream",
     "text": [
      "No results found for: 'Jigeen Mark Ernestus’ Ndagga Rhythm Force'\n",
      "Jigeen Mark Ernestus’ Ndagga Rhythm Force Not present in Genius\n",
      "Searching for \"Memory of Our Love\" by Donny Hathaway...\n"
     ]
    },
    {
     "name": "stderr",
     "output_type": "stream",
     "text": [
      " 84%|████████████████████████████████████████████████████████▏          | 1108/1322 [51:07<12:10,  3.41s/it]"
     ]
    },
    {
     "name": "stdout",
     "output_type": "stream",
     "text": [
      "Done.\n",
      "Searching for \"Km 110\" by Hareton Salvanini...\n",
      "No results found for: 'Km 110 Hareton Salvanini'\n",
      "Searching for \"Km 110\" by Hareton Salvanini...\n",
      "No results found for: 'Km 110 Hareton Salvanini'\n",
      "Searching for \"Km 110\" by Hareton Salvanini...\n",
      "No results found for: 'Km 110 Hareton Salvanini'\n",
      "Searching for \"Km 110\" by Hareton Salvanini...\n",
      "No results found for: 'Km 110 Hareton Salvanini'\n",
      "Searching for \"Km 110\" by Hareton Salvanini...\n"
     ]
    },
    {
     "name": "stderr",
     "output_type": "stream",
     "text": [
      " 84%|████████████████████████████████████████████████████████▏          | 1109/1322 [51:09<10:34,  2.98s/it]"
     ]
    },
    {
     "name": "stdout",
     "output_type": "stream",
     "text": [
      "No results found for: 'Km 110 Hareton Salvanini'\n",
      "Km 110 Hareton Salvanini Not present in Genius\n",
      "Searching for \"Making New Friends\" by Jeanie Tracy...\n"
     ]
    },
    {
     "name": "stderr",
     "output_type": "stream",
     "text": [
      " 84%|████████████████████████████████████████████████████████▎          | 1110/1322 [51:13<11:38,  3.29s/it]"
     ]
    },
    {
     "name": "stdout",
     "output_type": "stream",
     "text": [
      "Done.\n",
      "Searching for \"Panda\" by Dungen...\n"
     ]
    },
    {
     "name": "stderr",
     "output_type": "stream",
     "text": [
      " 84%|████████████████████████████████████████████████████████▎          | 1111/1322 [51:16<11:11,  3.18s/it]"
     ]
    },
    {
     "name": "stdout",
     "output_type": "stream",
     "text": [
      "Done.\n",
      "Searching for \"Man Is Not A Bird\" by Broadcast...\n"
     ]
    },
    {
     "name": "stderr",
     "output_type": "stream",
     "text": [
      " 84%|████████████████████████████████████████████████████████▎          | 1112/1322 [51:19<10:56,  3.13s/it]"
     ]
    },
    {
     "name": "stdout",
     "output_type": "stream",
     "text": [
      "Done.\n",
      "Searching for \"Come On Let's Go\" by Broadcast...\n"
     ]
    },
    {
     "name": "stderr",
     "output_type": "stream",
     "text": [
      " 84%|████████████████████████████████████████████████████████▍          | 1113/1322 [51:22<10:26,  3.00s/it]"
     ]
    },
    {
     "name": "stdout",
     "output_type": "stream",
     "text": [
      "Done.\n",
      "Searching for \"Come And Play In The Milky Night\" by Stereolab...\n"
     ]
    },
    {
     "name": "stderr",
     "output_type": "stream",
     "text": [
      " 84%|████████████████████████████████████████████████████████▍          | 1114/1322 [51:25<10:40,  3.08s/it]"
     ]
    },
    {
     "name": "stdout",
     "output_type": "stream",
     "text": [
      "Done.\n",
      "Searching for \"Express\" by Steve Poindexter...\n",
      "No results found for: 'Express Steve Poindexter'\n",
      "Searching for \"Express\" by Steve Poindexter...\n",
      "No results found for: 'Express Steve Poindexter'\n",
      "Searching for \"Express\" by Steve Poindexter...\n",
      "No results found for: 'Express Steve Poindexter'\n",
      "Searching for \"Express\" by Steve Poindexter...\n",
      "No results found for: 'Express Steve Poindexter'\n",
      "Searching for \"Express\" by Steve Poindexter...\n"
     ]
    },
    {
     "name": "stderr",
     "output_type": "stream",
     "text": [
      " 84%|████████████████████████████████████████████████████████▌          | 1115/1322 [51:27<09:22,  2.72s/it]"
     ]
    },
    {
     "name": "stdout",
     "output_type": "stream",
     "text": [
      "No results found for: 'Express Steve Poindexter'\n",
      "Express Steve Poindexter Not present in Genius\n",
      "Searching for \"Computer Madness\" by Steve Poindexter...\n",
      "No results found for: 'Computer Madness Steve Poindexter'\n",
      "Searching for \"Computer Madness\" by Steve Poindexter...\n",
      "No results found for: 'Computer Madness Steve Poindexter'\n",
      "Searching for \"Computer Madness\" by Steve Poindexter...\n",
      "No results found for: 'Computer Madness Steve Poindexter'\n",
      "Searching for \"Computer Madness\" by Steve Poindexter...\n",
      "No results found for: 'Computer Madness Steve Poindexter'\n",
      "Searching for \"Computer Madness\" by Steve Poindexter...\n"
     ]
    },
    {
     "name": "stderr",
     "output_type": "stream",
     "text": [
      " 84%|████████████████████████████████████████████████████████▌          | 1116/1322 [51:29<08:37,  2.51s/it]"
     ]
    },
    {
     "name": "stdout",
     "output_type": "stream",
     "text": [
      "No results found for: 'Computer Madness Steve Poindexter'\n",
      "Computer Madness Steve Poindexter Not present in Genius\n",
      "Searching for \"God Made Me Phunky (Extended Mix)\" by MD X-Spress...\n",
      "No results found for: 'God Made Me Phunky (Extended Mix) MD X-Spress'\n",
      "Searching for \"God Made Me Phunky (Extended Mix)\" by MD X-Spress...\n",
      "No results found for: 'God Made Me Phunky (Extended Mix) MD X-Spress'\n",
      "Searching for \"God Made Me Phunky (Extended Mix)\" by MD X-Spress...\n",
      "No results found for: 'God Made Me Phunky (Extended Mix) MD X-Spress'\n",
      "Searching for \"God Made Me Phunky (Extended Mix)\" by MD X-Spress...\n",
      "No results found for: 'God Made Me Phunky (Extended Mix) MD X-Spress'\n",
      "Searching for \"God Made Me Phunky (Extended Mix)\" by MD X-Spress...\n"
     ]
    },
    {
     "name": "stderr",
     "output_type": "stream",
     "text": [
      " 84%|████████████████████████████████████████████████████████▌          | 1117/1322 [51:32<08:50,  2.59s/it]"
     ]
    },
    {
     "name": "stdout",
     "output_type": "stream",
     "text": [
      "No results found for: 'God Made Me Phunky (Extended Mix) MD X-Spress'\n",
      "God Made Me Phunky (Extended Mix) MD X-Spress Not present in Genius\n",
      "Searching for \"Er Ra\" by Alice Coltrane...\n",
      "No results found for: 'Er Ra Alice Coltrane'\n",
      "Searching for \"Er Ra\" by Alice Coltrane...\n",
      "No results found for: 'Er Ra Alice Coltrane'\n",
      "Searching for \"Er Ra\" by Alice Coltrane...\n",
      "No results found for: 'Er Ra Alice Coltrane'\n",
      "Searching for \"Er Ra\" by Alice Coltrane...\n",
      "No results found for: 'Er Ra Alice Coltrane'\n",
      "Searching for \"Er Ra\" by Alice Coltrane...\n"
     ]
    },
    {
     "name": "stderr",
     "output_type": "stream",
     "text": [
      " 85%|████████████████████████████████████████████████████████▋          | 1118/1322 [51:33<07:55,  2.33s/it]"
     ]
    },
    {
     "name": "stdout",
     "output_type": "stream",
     "text": [
      "No results found for: 'Er Ra Alice Coltrane'\n",
      "Er Ra Alice Coltrane Not present in Genius\n",
      "Searching for \"Huntington Ashram Monastery\" by Alice Coltrane...\n",
      "Specified song does not contain lyrics. Rejecting.\n",
      "Searching for \"Huntington Ashram Monastery\" by Alice Coltrane...\n",
      "Specified song does not contain lyrics. Rejecting.\n",
      "Searching for \"Huntington Ashram Monastery\" by Alice Coltrane...\n",
      "Specified song does not contain lyrics. Rejecting.\n",
      "Searching for \"Huntington Ashram Monastery\" by Alice Coltrane...\n",
      "Specified song does not contain lyrics. Rejecting.\n",
      "Searching for \"Huntington Ashram Monastery\" by Alice Coltrane...\n"
     ]
    },
    {
     "name": "stderr",
     "output_type": "stream",
     "text": [
      " 85%|████████████████████████████████████████████████████████▋          | 1119/1322 [51:36<07:40,  2.27s/it]"
     ]
    },
    {
     "name": "stdout",
     "output_type": "stream",
     "text": [
      "Specified song does not contain lyrics. Rejecting.\n",
      "Huntington Ashram Monastery Alice Coltrane Not present in Genius\n",
      "Searching for \"I Am The Black Gold Of The Sun\" by Rotary Connection...\n"
     ]
    },
    {
     "name": "stderr",
     "output_type": "stream",
     "text": [
      " 85%|████████████████████████████████████████████████████████▊          | 1120/1322 [51:40<09:45,  2.90s/it]"
     ]
    },
    {
     "name": "stdout",
     "output_type": "stream",
     "text": [
      "Done.\n",
      "Searching for \"For Marmish Part II\" by Floating Points...\n"
     ]
    },
    {
     "name": "stderr",
     "output_type": "stream",
     "text": [
      " 85%|████████████████████████████████████████████████████████▊          | 1121/1322 [51:44<10:41,  3.19s/it]"
     ]
    },
    {
     "name": "stdout",
     "output_type": "stream",
     "text": [
      "Done.\n",
      "Searching for \"Over And Over - 12\" Version\" by Sylvester...\n"
     ]
    },
    {
     "name": "stderr",
     "output_type": "stream",
     "text": [
      " 85%|████████████████████████████████████████████████████████▊          | 1122/1322 [51:47<10:39,  3.20s/it]"
     ]
    },
    {
     "name": "stdout",
     "output_type": "stream",
     "text": [
      "Done.\n",
      "Searching for \"Mrembo Pesa\" by Eagles Lupopo ’77...\n",
      "No results found for: 'Mrembo Pesa Eagles Lupopo ’77'\n",
      "Searching for \"Mrembo Pesa\" by Eagles Lupopo ’77...\n",
      "No results found for: 'Mrembo Pesa Eagles Lupopo ’77'\n",
      "Searching for \"Mrembo Pesa\" by Eagles Lupopo ’77...\n",
      "No results found for: 'Mrembo Pesa Eagles Lupopo ’77'\n",
      "Searching for \"Mrembo Pesa\" by Eagles Lupopo ’77...\n",
      "No results found for: 'Mrembo Pesa Eagles Lupopo ’77'\n",
      "Searching for \"Mrembo Pesa\" by Eagles Lupopo ’77...\n"
     ]
    },
    {
     "name": "stderr",
     "output_type": "stream",
     "text": [
      " 85%|████████████████████████████████████████████████████████▉          | 1123/1322 [51:49<09:09,  2.76s/it]"
     ]
    },
    {
     "name": "stdout",
     "output_type": "stream",
     "text": [
      "No results found for: 'Mrembo Pesa Eagles Lupopo ’77'\n",
      "Mrembo Pesa Eagles Lupopo ’77 Not present in Genius\n",
      "Searching for \"Five Hundred Miles\" by Mammane Sanni Abdoulaye...\n",
      "No results found for: 'Five Hundred Miles Mammane Sanni Abdoulaye'\n",
      "Searching for \"Five Hundred Miles\" by Mammane Sanni Abdoulaye...\n",
      "No results found for: 'Five Hundred Miles Mammane Sanni Abdoulaye'\n",
      "Searching for \"Five Hundred Miles\" by Mammane Sanni Abdoulaye...\n",
      "No results found for: 'Five Hundred Miles Mammane Sanni Abdoulaye'\n",
      "Searching for \"Five Hundred Miles\" by Mammane Sanni Abdoulaye...\n",
      "No results found for: 'Five Hundred Miles Mammane Sanni Abdoulaye'\n",
      "Searching for \"Five Hundred Miles\" by Mammane Sanni Abdoulaye...\n"
     ]
    },
    {
     "name": "stderr",
     "output_type": "stream",
     "text": [
      " 85%|████████████████████████████████████████████████████████▉          | 1124/1322 [51:51<08:09,  2.47s/it]"
     ]
    },
    {
     "name": "stdout",
     "output_type": "stream",
     "text": [
      "No results found for: 'Five Hundred Miles Mammane Sanni Abdoulaye'\n",
      "Five Hundred Miles Mammane Sanni Abdoulaye Not present in Genius\n",
      "Searching for \"Groove La Chord\" by Aril Brikha...\n",
      "Specified song does not contain lyrics. Rejecting.\n",
      "Searching for \"Groove La Chord\" by Aril Brikha...\n",
      "Specified song does not contain lyrics. Rejecting.\n",
      "Searching for \"Groove La Chord\" by Aril Brikha...\n",
      "Specified song does not contain lyrics. Rejecting.\n",
      "Searching for \"Groove La Chord\" by Aril Brikha...\n",
      "Specified song does not contain lyrics. Rejecting.\n",
      "Searching for \"Groove La Chord\" by Aril Brikha...\n"
     ]
    },
    {
     "name": "stderr",
     "output_type": "stream",
     "text": [
      " 85%|█████████████████████████████████████████████████████████          | 1125/1322 [51:53<07:43,  2.35s/it]"
     ]
    },
    {
     "name": "stdout",
     "output_type": "stream",
     "text": [
      "Specified song does not contain lyrics. Rejecting.\n",
      "Groove La Chord Aril Brikha Not present in Genius\n",
      "Searching for \"Spend the Night - H Man Dub\" by Danny J Lewis...\n",
      "No results found for: 'Spend the Night - H Man Dub Danny J Lewis'\n",
      "Searching for \"Spend the Night - H Man Dub\" by Danny J Lewis...\n",
      "No results found for: 'Spend the Night - H Man Dub Danny J Lewis'\n",
      "Searching for \"Spend the Night - H Man Dub\" by Danny J Lewis...\n",
      "No results found for: 'Spend the Night - H Man Dub Danny J Lewis'\n",
      "Searching for \"Spend the Night - H Man Dub\" by Danny J Lewis...\n",
      "No results found for: 'Spend the Night - H Man Dub Danny J Lewis'\n",
      "Searching for \"Spend the Night - H Man Dub\" by Danny J Lewis...\n"
     ]
    },
    {
     "name": "stderr",
     "output_type": "stream",
     "text": [
      " 85%|█████████████████████████████████████████████████████████          | 1126/1322 [51:54<07:11,  2.20s/it]"
     ]
    },
    {
     "name": "stdout",
     "output_type": "stream",
     "text": [
      "No results found for: 'Spend the Night - H Man Dub Danny J Lewis'\n",
      "Spend the Night - H Man Dub Danny J Lewis Not present in Genius\n",
      "Searching for \"There's Never Been No One Like You (feat. Bobby Youngblood) - Medlar Edit\" by Kenix...\n",
      "No results found for: 'There's Never Been No One Like You (feat. Bobby Youngblood) - Medlar Edit Kenix'\n",
      "Searching for \"There's Never Been No One Like You (feat. Bobby Youngblood) - Medlar Edit\" by Kenix...\n",
      "No results found for: 'There's Never Been No One Like You (feat. Bobby Youngblood) - Medlar Edit Kenix'\n",
      "Searching for \"There's Never Been No One Like You (feat. Bobby Youngblood) - Medlar Edit\" by Kenix...\n",
      "No results found for: 'There's Never Been No One Like You (feat. Bobby Youngblood) - Medlar Edit Kenix'\n",
      "Searching for \"There's Never Been No One Like You (feat. Bobby Youngblood) - Medlar Edit\" by Kenix...\n",
      "No results found for: 'There's Never Been No One Like You (feat. Bobby Youngblood) - Medlar Edit Kenix'\n",
      "Searching for \"There's Never Been No One Like You (feat. Bobby Youngblood) - Medlar Edit\" by Kenix...\n"
     ]
    },
    {
     "name": "stderr",
     "output_type": "stream",
     "text": [
      " 85%|█████████████████████████████████████████████████████████          | 1127/1322 [51:56<06:47,  2.09s/it]"
     ]
    },
    {
     "name": "stdout",
     "output_type": "stream",
     "text": [
      "No results found for: 'There's Never Been No One Like You (feat. Bobby Youngblood) - Medlar Edit Kenix'\n",
      "There's Never Been No One Like You (feat. Bobby Youngblood) - Medlar Edit Kenix Not present in Genius\n",
      "Searching for \"How Can I Tell Her - Re-edit\" by Curtis...\n",
      "No results found for: 'How Can I Tell Her - Re-edit Curtis'\n",
      "Searching for \"How Can I Tell Her - Re-edit\" by Curtis...\n",
      "No results found for: 'How Can I Tell Her - Re-edit Curtis'\n",
      "Searching for \"How Can I Tell Her - Re-edit\" by Curtis...\n",
      "No results found for: 'How Can I Tell Her - Re-edit Curtis'\n",
      "Searching for \"How Can I Tell Her - Re-edit\" by Curtis...\n",
      "No results found for: 'How Can I Tell Her - Re-edit Curtis'\n",
      "Searching for \"How Can I Tell Her - Re-edit\" by Curtis...\n"
     ]
    },
    {
     "name": "stderr",
     "output_type": "stream",
     "text": [
      " 85%|█████████████████████████████████████████████████████████▏         | 1128/1322 [51:58<06:31,  2.02s/it]"
     ]
    },
    {
     "name": "stdout",
     "output_type": "stream",
     "text": [
      "No results found for: 'How Can I Tell Her - Re-edit Curtis'\n",
      "How Can I Tell Her - Re-edit Curtis Not present in Genius\n",
      "Searching for \"Always (Edit)\" by Delroy Edwards...\n"
     ]
    },
    {
     "name": "stderr",
     "output_type": "stream",
     "text": [
      " 85%|█████████████████████████████████████████████████████████▏         | 1129/1322 [52:03<09:26,  2.94s/it]"
     ]
    },
    {
     "name": "stdout",
     "output_type": "stream",
     "text": [
      "Done.\n",
      "Searching for \"If You Believe Your God Is Dead, Try Mine\" by The Swan Silvertones...\n",
      "No results found for: 'If You Believe Your God Is Dead, Try Mine The Swan Silvertones'\n",
      "Searching for \"If You Believe Your God Is Dead, Try Mine\" by The Swan Silvertones...\n",
      "No results found for: 'If You Believe Your God Is Dead, Try Mine The Swan Silvertones'\n",
      "Searching for \"If You Believe Your God Is Dead, Try Mine\" by The Swan Silvertones...\n",
      "No results found for: 'If You Believe Your God Is Dead, Try Mine The Swan Silvertones'\n",
      "Searching for \"If You Believe Your God Is Dead, Try Mine\" by The Swan Silvertones...\n",
      "No results found for: 'If You Believe Your God Is Dead, Try Mine The Swan Silvertones'\n",
      "Searching for \"If You Believe Your God Is Dead, Try Mine\" by The Swan Silvertones...\n"
     ]
    },
    {
     "name": "stderr",
     "output_type": "stream",
     "text": [
      " 85%|█████████████████████████████████████████████████████████▎         | 1130/1322 [52:05<08:17,  2.59s/it]"
     ]
    },
    {
     "name": "stdout",
     "output_type": "stream",
     "text": [
      "No results found for: 'If You Believe Your God Is Dead, Try Mine The Swan Silvertones'\n",
      "If You Believe Your God Is Dead, Try Mine The Swan Silvertones Not present in Genius\n",
      "Searching for \"Hydraulic Pump\" by P-Funk All Stars...\n"
     ]
    },
    {
     "name": "stderr",
     "output_type": "stream",
     "text": [
      " 86%|█████████████████████████████████████████████████████████▎         | 1131/1322 [52:07<07:35,  2.39s/it]"
     ]
    },
    {
     "name": "stdout",
     "output_type": "stream",
     "text": [
      "Done.\n",
      "Searching for \"Teresia\" by Huruma Boys Band...\n",
      "No results found for: 'Teresia Huruma Boys Band'\n",
      "Searching for \"Teresia\" by Huruma Boys Band...\n",
      "No results found for: 'Teresia Huruma Boys Band'\n",
      "Searching for \"Teresia\" by Huruma Boys Band...\n",
      "No results found for: 'Teresia Huruma Boys Band'\n",
      "Searching for \"Teresia\" by Huruma Boys Band...\n",
      "No results found for: 'Teresia Huruma Boys Band'\n",
      "Searching for \"Teresia\" by Huruma Boys Band...\n"
     ]
    },
    {
     "name": "stderr",
     "output_type": "stream",
     "text": [
      " 86%|█████████████████████████████████████████████████████████▎         | 1132/1322 [52:09<06:55,  2.19s/it]"
     ]
    },
    {
     "name": "stdout",
     "output_type": "stream",
     "text": [
      "No results found for: 'Teresia Huruma Boys Band'\n",
      "Teresia Huruma Boys Band Not present in Genius\n",
      "Searching for \"April\" by Mark Ernestus...\n"
     ]
    },
    {
     "name": "stderr",
     "output_type": "stream",
     "text": [
      " 86%|█████████████████████████████████████████████████████████▍         | 1133/1322 [52:14<09:56,  3.16s/it]"
     ]
    },
    {
     "name": "stdout",
     "output_type": "stream",
     "text": [
      "Done.\n",
      "Searching for \"It's Only Real\" by Denis Sulta...\n"
     ]
    },
    {
     "name": "stderr",
     "output_type": "stream",
     "text": [
      " 86%|█████████████████████████████████████████████████████████▍         | 1134/1322 [52:18<10:55,  3.49s/it]"
     ]
    },
    {
     "name": "stdout",
     "output_type": "stream",
     "text": [
      "Done.\n",
      "Searching for \"With Louise\" by The Arms of Someone New...\n",
      "Specified song does not contain lyrics. Rejecting.\n",
      "Searching for \"With Louise\" by The Arms of Someone New...\n",
      "Specified song does not contain lyrics. Rejecting.\n",
      "Searching for \"With Louise\" by The Arms of Someone New...\n",
      "Specified song does not contain lyrics. Rejecting.\n",
      "Searching for \"With Louise\" by The Arms of Someone New...\n",
      "Specified song does not contain lyrics. Rejecting.\n",
      "Searching for \"With Louise\" by The Arms of Someone New...\n"
     ]
    },
    {
     "name": "stderr",
     "output_type": "stream",
     "text": [
      " 86%|█████████████████████████████████████████████████████████▌         | 1135/1322 [52:21<09:43,  3.12s/it]"
     ]
    },
    {
     "name": "stdout",
     "output_type": "stream",
     "text": [
      "Specified song does not contain lyrics. Rejecting.\n",
      "With Louise The Arms of Someone New Not present in Genius\n",
      "Searching for \"Tumblers to the Vault\" by Syrinx...\n"
     ]
    },
    {
     "name": "stderr",
     "output_type": "stream",
     "text": [
      " 86%|█████████████████████████████████████████████████████████▌         | 1136/1322 [52:23<09:00,  2.91s/it]"
     ]
    },
    {
     "name": "stdout",
     "output_type": "stream",
     "text": [
      "Done.\n",
      "Searching for \"Pain Is Many a Splendoured Thing - From \"Dard Ka Rishta\"\" by Usha Uthup...\n",
      "No results found for: 'Pain Is Many a Splendoured Thing - From \"Dard Ka Rishta\" Usha Uthup'\n",
      "Searching for \"Pain Is Many a Splendoured Thing - From \"Dard Ka Rishta\"\" by Usha Uthup...\n",
      "No results found for: 'Pain Is Many a Splendoured Thing - From \"Dard Ka Rishta\" Usha Uthup'\n",
      "Searching for \"Pain Is Many a Splendoured Thing - From \"Dard Ka Rishta\"\" by Usha Uthup...\n",
      "No results found for: 'Pain Is Many a Splendoured Thing - From \"Dard Ka Rishta\" Usha Uthup'\n",
      "Searching for \"Pain Is Many a Splendoured Thing - From \"Dard Ka Rishta\"\" by Usha Uthup...\n",
      "No results found for: 'Pain Is Many a Splendoured Thing - From \"Dard Ka Rishta\" Usha Uthup'\n",
      "Searching for \"Pain Is Many a Splendoured Thing - From \"Dard Ka Rishta\"\" by Usha Uthup...\n"
     ]
    },
    {
     "name": "stderr",
     "output_type": "stream",
     "text": [
      " 86%|█████████████████████████████████████████████████████████▌         | 1137/1322 [52:25<07:57,  2.58s/it]"
     ]
    },
    {
     "name": "stdout",
     "output_type": "stream",
     "text": [
      "No results found for: 'Pain Is Many a Splendoured Thing - From \"Dard Ka Rishta\" Usha Uthup'\n",
      "Pain Is Many a Splendoured Thing - From \"Dard Ka Rishta\" Usha Uthup Not present in Genius\n",
      "Searching for \"Hey Boy\" by Via Afrika...\n",
      "Searching for \"Hey Boy\" by Via Afrika...\n"
     ]
    },
    {
     "name": "stderr",
     "output_type": "stream",
     "text": [
      " 86%|█████████████████████████████████████████████████████████▋         | 1138/1322 [52:31<11:23,  3.71s/it]"
     ]
    },
    {
     "name": "stdout",
     "output_type": "stream",
     "text": [
      "Done.\n",
      "Searching for \"In Love With You\" by The Paradise...\n"
     ]
    },
    {
     "name": "stderr",
     "output_type": "stream",
     "text": [
      " 86%|█████████████████████████████████████████████████████████▋         | 1139/1322 [52:34<10:40,  3.50s/it]"
     ]
    },
    {
     "name": "stdout",
     "output_type": "stream",
     "text": [
      "Done.\n",
      "Searching for \"Move Me\" by Mood II Swing...\n"
     ]
    },
    {
     "name": "stderr",
     "output_type": "stream",
     "text": [
      " 86%|█████████████████████████████████████████████████████████▊         | 1140/1322 [52:38<11:08,  3.67s/it]"
     ]
    },
    {
     "name": "stdout",
     "output_type": "stream",
     "text": [
      "Done.\n",
      "Searching for \"Afrika\" by Osborne...\n"
     ]
    },
    {
     "name": "stderr",
     "output_type": "stream",
     "text": [
      " 86%|█████████████████████████████████████████████████████████▊         | 1141/1322 [52:41<10:15,  3.40s/it]"
     ]
    },
    {
     "name": "stdout",
     "output_type": "stream",
     "text": [
      "Done.\n",
      "Searching for \"Don't Be Surprised\" by Lynn Williams...\n"
     ]
    },
    {
     "name": "stderr",
     "output_type": "stream",
     "text": [
      " 86%|█████████████████████████████████████████████████████████▉         | 1142/1322 [52:46<11:42,  3.90s/it]"
     ]
    },
    {
     "name": "stdout",
     "output_type": "stream",
     "text": [
      "Done.\n",
      "Searching for \"Celestial Blues\" by Gary Bartz Ntu Troop...\n"
     ]
    },
    {
     "name": "stderr",
     "output_type": "stream",
     "text": [
      " 86%|█████████████████████████████████████████████████████████▉         | 1143/1322 [52:48<09:54,  3.32s/it]"
     ]
    },
    {
     "name": "stdout",
     "output_type": "stream",
     "text": [
      "Done.\n",
      "Searching for \"Higher - Original Mix\" by DJ Bone...\n"
     ]
    },
    {
     "name": "stderr",
     "output_type": "stream",
     "text": [
      " 87%|█████████████████████████████████████████████████████████▉         | 1144/1322 [52:51<09:52,  3.33s/it]"
     ]
    },
    {
     "name": "stdout",
     "output_type": "stream",
     "text": [
      "Done.\n",
      "Searching for \"You Better Stop It\" by Barbara Mason...\n"
     ]
    },
    {
     "name": "stderr",
     "output_type": "stream",
     "text": [
      " 87%|██████████████████████████████████████████████████████████         | 1145/1322 [52:54<09:22,  3.18s/it]"
     ]
    },
    {
     "name": "stdout",
     "output_type": "stream",
     "text": [
      "Done.\n",
      "Searching for \"Harambe\" by Mac & Party...\n"
     ]
    },
    {
     "name": "stderr",
     "output_type": "stream",
     "text": [
      " 87%|██████████████████████████████████████████████████████████         | 1146/1322 [52:57<09:04,  3.09s/it]"
     ]
    },
    {
     "name": "stdout",
     "output_type": "stream",
     "text": [
      "Done.\n",
      "Searching for \"The Blessing Song\" by Michael White...\n"
     ]
    },
    {
     "name": "stderr",
     "output_type": "stream",
     "text": [
      " 87%|██████████████████████████████████████████████████████████▏        | 1147/1322 [52:59<08:16,  2.84s/it]"
     ]
    },
    {
     "name": "stdout",
     "output_type": "stream",
     "text": [
      "Done.\n",
      "Searching for \"The Sun Can't Compare - Long Version\" by Larry Heard Presents Mr. White...\n"
     ]
    },
    {
     "name": "stderr",
     "output_type": "stream",
     "text": [
      " 87%|██████████████████████████████████████████████████████████▏        | 1148/1322 [53:03<09:13,  3.18s/it]"
     ]
    },
    {
     "name": "stdout",
     "output_type": "stream",
     "text": [
      "Done.\n",
      "Searching for \"You're a Melody\" by Aged In Harmony...\n"
     ]
    },
    {
     "name": "stderr",
     "output_type": "stream",
     "text": [
      " 87%|██████████████████████████████████████████████████████████▏        | 1149/1322 [53:06<08:47,  3.05s/it]"
     ]
    },
    {
     "name": "stdout",
     "output_type": "stream",
     "text": [
      "Done.\n",
      "Searching for \"KHLHI\" by Percussions...\n",
      "No results found for: 'KHLHI Percussions'\n",
      "Searching for \"KHLHI\" by Percussions...\n",
      "No results found for: 'KHLHI Percussions'\n",
      "Searching for \"KHLHI\" by Percussions...\n",
      "No results found for: 'KHLHI Percussions'\n",
      "Searching for \"KHLHI\" by Percussions...\n",
      "No results found for: 'KHLHI Percussions'\n",
      "Searching for \"KHLHI\" by Percussions...\n"
     ]
    },
    {
     "name": "stderr",
     "output_type": "stream",
     "text": [
      " 87%|██████████████████████████████████████████████████████████▎        | 1150/1322 [53:08<07:47,  2.72s/it]"
     ]
    },
    {
     "name": "stdout",
     "output_type": "stream",
     "text": [
      "No results found for: 'KHLHI Percussions'\n",
      "KHLHI Percussions Not present in Genius\n",
      "Searching for \"Morning Side\" by Four Tet...\n",
      "Specified song does not contain lyrics. Rejecting.\n",
      "Searching for \"Morning Side\" by Four Tet...\n",
      "Specified song does not contain lyrics. Rejecting.\n",
      "Searching for \"Morning Side\" by Four Tet...\n",
      "Specified song does not contain lyrics. Rejecting.\n",
      "Searching for \"Morning Side\" by Four Tet...\n",
      "Specified song does not contain lyrics. Rejecting.\n",
      "Searching for \"Morning Side\" by Four Tet...\n"
     ]
    },
    {
     "name": "stderr",
     "output_type": "stream",
     "text": [
      " 87%|██████████████████████████████████████████████████████████▎        | 1151/1322 [53:11<07:42,  2.71s/it]"
     ]
    },
    {
     "name": "stdout",
     "output_type": "stream",
     "text": [
      "Specified song does not contain lyrics. Rejecting.\n",
      "Morning Side Four Tet Not present in Genius\n",
      "Searching for \"Pinnacles\" by Four Tet...\n"
     ]
    },
    {
     "name": "stderr",
     "output_type": "stream",
     "text": [
      " 87%|██████████████████████████████████████████████████████████▍        | 1152/1322 [53:15<08:45,  3.09s/it]"
     ]
    },
    {
     "name": "stdout",
     "output_type": "stream",
     "text": [
      "Done.\n",
      "Searching for \"Lion\" by Four Tet...\n",
      "Specified song does not contain lyrics. Rejecting.\n",
      "Searching for \"Lion\" by Four Tet...\n",
      "Specified song does not contain lyrics. Rejecting.\n",
      "Searching for \"Lion\" by Four Tet...\n",
      "Specified song does not contain lyrics. Rejecting.\n",
      "Searching for \"Lion\" by Four Tet...\n",
      "Specified song does not contain lyrics. Rejecting.\n",
      "Searching for \"Lion\" by Four Tet...\n"
     ]
    },
    {
     "name": "stderr",
     "output_type": "stream",
     "text": [
      " 87%|██████████████████████████████████████████████████████████▍        | 1153/1322 [53:17<08:08,  2.89s/it]"
     ]
    },
    {
     "name": "stdout",
     "output_type": "stream",
     "text": [
      "Specified song does not contain lyrics. Rejecting.\n",
      "Lion Four Tet Not present in Genius\n",
      "Searching for \"Love Cry\" by Four Tet...\n"
     ]
    },
    {
     "name": "stderr",
     "output_type": "stream",
     "text": [
      " 87%|██████████████████████████████████████████████████████████▍        | 1154/1322 [53:19<07:22,  2.63s/it]"
     ]
    },
    {
     "name": "stdout",
     "output_type": "stream",
     "text": [
      "Done.\n",
      "Searching for \"Twenty Three\" by Four Tet...\n",
      "Specified song does not contain lyrics. Rejecting.\n",
      "Searching for \"Twenty Three\" by Four Tet...\n",
      "Specified song does not contain lyrics. Rejecting.\n",
      "Searching for \"Twenty Three\" by Four Tet...\n",
      "Specified song does not contain lyrics. Rejecting.\n",
      "Searching for \"Twenty Three\" by Four Tet...\n",
      "Specified song does not contain lyrics. Rejecting.\n",
      "Searching for \"Twenty Three\" by Four Tet...\n"
     ]
    },
    {
     "name": "stderr",
     "output_type": "stream",
     "text": [
      " 87%|██████████████████████████████████████████████████████████▌        | 1155/1322 [53:22<07:09,  2.57s/it]"
     ]
    },
    {
     "name": "stdout",
     "output_type": "stream",
     "text": [
      "Specified song does not contain lyrics. Rejecting.\n",
      "Twenty Three Four Tet Not present in Genius\n",
      "Searching for \"Heim - Four Tet Remix\" by Pole...\n"
     ]
    },
    {
     "name": "stderr",
     "output_type": "stream",
     "text": [
      " 87%|██████████████████████████████████████████████████████████▌        | 1156/1322 [53:24<07:19,  2.65s/it]"
     ]
    },
    {
     "name": "stdout",
     "output_type": "stream",
     "text": [
      "Done.\n",
      "Searching for \"Matthew & Toby - Four Tet Remix\" by Rocketnumbernine...\n",
      "Specified song does not contain lyrics. Rejecting.\n",
      "Searching for \"Matthew & Toby - Four Tet Remix\" by Rocketnumbernine...\n",
      "Specified song does not contain lyrics. Rejecting.\n",
      "Searching for \"Matthew & Toby - Four Tet Remix\" by Rocketnumbernine...\n",
      "Specified song does not contain lyrics. Rejecting.\n",
      "Searching for \"Matthew & Toby - Four Tet Remix\" by Rocketnumbernine...\n",
      "Specified song does not contain lyrics. Rejecting.\n",
      "Searching for \"Matthew & Toby - Four Tet Remix\" by Rocketnumbernine...\n"
     ]
    },
    {
     "name": "stderr",
     "output_type": "stream",
     "text": [
      " 88%|██████████████████████████████████████████████████████████▋        | 1157/1322 [53:27<07:00,  2.55s/it]"
     ]
    },
    {
     "name": "stdout",
     "output_type": "stream",
     "text": [
      "Specified song does not contain lyrics. Rejecting.\n",
      "Matthew & Toby - Four Tet Remix Rocketnumbernine Not present in Genius\n",
      "Searching for \"Sealing Dub\" by The Skatalites...\n",
      "No results found for: 'Sealing Dub The Skatalites'\n",
      "Searching for \"Sealing Dub\" by The Skatalites...\n",
      "No results found for: 'Sealing Dub The Skatalites'\n",
      "Searching for \"Sealing Dub\" by The Skatalites...\n",
      "No results found for: 'Sealing Dub The Skatalites'\n",
      "Searching for \"Sealing Dub\" by The Skatalites...\n",
      "No results found for: 'Sealing Dub The Skatalites'\n",
      "Searching for \"Sealing Dub\" by The Skatalites...\n"
     ]
    },
    {
     "name": "stderr",
     "output_type": "stream",
     "text": [
      " 88%|██████████████████████████████████████████████████████████▋        | 1158/1322 [53:29<07:01,  2.57s/it]"
     ]
    },
    {
     "name": "stdout",
     "output_type": "stream",
     "text": [
      "No results found for: 'Sealing Dub The Skatalites'\n",
      "Sealing Dub The Skatalites Not present in Genius\n",
      "Searching for \"Flowers (Sunship Edit)\" by Sweet Female Attitude...\n",
      "No results found for: 'Flowers (Sunship Edit) Sweet Female Attitude'\n",
      "Searching for \"Flowers (Sunship Edit)\" by Sweet Female Attitude...\n",
      "No results found for: 'Flowers (Sunship Edit) Sweet Female Attitude'\n",
      "Searching for \"Flowers (Sunship Edit)\" by Sweet Female Attitude...\n",
      "No results found for: 'Flowers (Sunship Edit) Sweet Female Attitude'\n",
      "Searching for \"Flowers (Sunship Edit)\" by Sweet Female Attitude...\n",
      "No results found for: 'Flowers (Sunship Edit) Sweet Female Attitude'\n",
      "Searching for \"Flowers (Sunship Edit)\" by Sweet Female Attitude...\n"
     ]
    },
    {
     "name": "stderr",
     "output_type": "stream",
     "text": [
      " 88%|██████████████████████████████████████████████████████████▋        | 1159/1322 [53:31<06:26,  2.37s/it]"
     ]
    },
    {
     "name": "stdout",
     "output_type": "stream",
     "text": [
      "No results found for: 'Flowers (Sunship Edit) Sweet Female Attitude'\n",
      "Flowers (Sunship Edit) Sweet Female Attitude Not present in Genius\n",
      "Searching for \"90% of Me Is You\" by Gwen McCrae...\n"
     ]
    },
    {
     "name": "stderr",
     "output_type": "stream",
     "text": [
      " 88%|██████████████████████████████████████████████████████████▊        | 1160/1322 [53:37<09:24,  3.48s/it]"
     ]
    },
    {
     "name": "stdout",
     "output_type": "stream",
     "text": [
      "Done.\n",
      "Searching for \"Talking About My Baby\" by John Heartsman...\n"
     ]
    },
    {
     "name": "stderr",
     "output_type": "stream",
     "text": [
      " 88%|██████████████████████████████████████████████████████████▊        | 1161/1322 [53:40<08:57,  3.34s/it]"
     ]
    },
    {
     "name": "stdout",
     "output_type": "stream",
     "text": [
      "Done.\n",
      "Searching for \"Love Addict\" by Honey and the Bees...\n"
     ]
    },
    {
     "name": "stderr",
     "output_type": "stream",
     "text": [
      " 88%|██████████████████████████████████████████████████████████▉        | 1162/1322 [53:43<08:15,  3.10s/it]"
     ]
    },
    {
     "name": "stdout",
     "output_type": "stream",
     "text": [
      "Done.\n",
      "Searching for \"I Love Everything About You\" by Darwin Jones...\n"
     ]
    },
    {
     "name": "stderr",
     "output_type": "stream",
     "text": [
      " 88%|██████████████████████████████████████████████████████████▉        | 1163/1322 [53:45<07:28,  2.82s/it]"
     ]
    },
    {
     "name": "stdout",
     "output_type": "stream",
     "text": [
      "Done.\n",
      "Searching for \"Kelen ati leen\" by Orchestra Baobab...\n",
      "No results found for: 'Kelen ati leen Orchestra Baobab'\n",
      "Searching for \"Kelen ati leen\" by Orchestra Baobab...\n",
      "No results found for: 'Kelen ati leen Orchestra Baobab'\n",
      "Searching for \"Kelen ati leen\" by Orchestra Baobab...\n",
      "No results found for: 'Kelen ati leen Orchestra Baobab'\n",
      "Searching for \"Kelen ati leen\" by Orchestra Baobab...\n",
      "No results found for: 'Kelen ati leen Orchestra Baobab'\n",
      "Searching for \"Kelen ati leen\" by Orchestra Baobab...\n"
     ]
    },
    {
     "name": "stderr",
     "output_type": "stream",
     "text": [
      " 88%|██████████████████████████████████████████████████████████▉        | 1164/1322 [53:47<06:37,  2.52s/it]"
     ]
    },
    {
     "name": "stdout",
     "output_type": "stream",
     "text": [
      "No results found for: 'Kelen ati leen Orchestra Baobab'\n",
      "Kelen ati leen Orchestra Baobab Not present in Genius\n",
      "Searching for \"Get Off\" by Diddy...\n"
     ]
    },
    {
     "name": "stderr",
     "output_type": "stream",
     "text": [
      " 88%|███████████████████████████████████████████████████████████        | 1165/1322 [53:53<09:25,  3.60s/it]"
     ]
    },
    {
     "name": "stdout",
     "output_type": "stream",
     "text": [
      "Done.\n",
      "Searching for \"The Stranger\" by C. Henry Woods Troupe...\n"
     ]
    },
    {
     "name": "stderr",
     "output_type": "stream",
     "text": [
      " 88%|███████████████████████████████████████████████████████████        | 1166/1322 [53:56<08:54,  3.42s/it]"
     ]
    },
    {
     "name": "stdout",
     "output_type": "stream",
     "text": [
      "Done.\n",
      "Searching for \"Mantra\" by CW/A...\n"
     ]
    },
    {
     "name": "stderr",
     "output_type": "stream",
     "text": [
      " 88%|███████████████████████████████████████████████████████████▏       | 1167/1322 [53:59<08:49,  3.41s/it]"
     ]
    },
    {
     "name": "stdout",
     "output_type": "stream",
     "text": [
      "Done.\n",
      "Searching for \"Electric Flower\" by Owen Marshall...\n"
     ]
    },
    {
     "name": "stderr",
     "output_type": "stream",
     "text": [
      " 88%|███████████████████████████████████████████████████████████▏       | 1168/1322 [54:02<08:20,  3.25s/it]"
     ]
    },
    {
     "name": "stdout",
     "output_type": "stream",
     "text": [
      "Done.\n",
      "Searching for \"For Some We Loved\" by Dorothy Ashby...\n"
     ]
    },
    {
     "name": "stderr",
     "output_type": "stream",
     "text": [
      " 88%|███████████████████████████████████████████████████████████▏       | 1169/1322 [54:06<08:20,  3.27s/it]"
     ]
    },
    {
     "name": "stdout",
     "output_type": "stream",
     "text": [
      "Done.\n",
      "Searching for \"Soul Vibrations\" by Dorothy Ashby...\n",
      "Specified song does not contain lyrics. Rejecting.\n",
      "Searching for \"Soul Vibrations\" by Dorothy Ashby...\n",
      "Specified song does not contain lyrics. Rejecting.\n",
      "Searching for \"Soul Vibrations\" by Dorothy Ashby...\n",
      "Specified song does not contain lyrics. Rejecting.\n",
      "Searching for \"Soul Vibrations\" by Dorothy Ashby...\n",
      "Specified song does not contain lyrics. Rejecting.\n",
      "Searching for \"Soul Vibrations\" by Dorothy Ashby...\n"
     ]
    },
    {
     "name": "stderr",
     "output_type": "stream",
     "text": [
      " 89%|███████████████████████████████████████████████████████████▎       | 1170/1322 [54:08<07:57,  3.14s/it]"
     ]
    },
    {
     "name": "stdout",
     "output_type": "stream",
     "text": [
      "Specified song does not contain lyrics. Rejecting.\n",
      "Soul Vibrations Dorothy Ashby Not present in Genius\n",
      "Searching for \"Indian Stomp\" by Cyrus...\n"
     ]
    },
    {
     "name": "stderr",
     "output_type": "stream",
     "text": [
      " 89%|███████████████████████████████████████████████████████████▎       | 1171/1322 [54:10<07:00,  2.79s/it]"
     ]
    },
    {
     "name": "stdout",
     "output_type": "stream",
     "text": [
      "Done.\n",
      "Searching for \"Adventures of Dama\" by Cybordelics...\n",
      "No results found for: 'Adventures of Dama Cybordelics'\n",
      "Searching for \"Adventures of Dama\" by Cybordelics...\n",
      "No results found for: 'Adventures of Dama Cybordelics'\n",
      "Searching for \"Adventures of Dama\" by Cybordelics...\n",
      "No results found for: 'Adventures of Dama Cybordelics'\n",
      "Searching for \"Adventures of Dama\" by Cybordelics...\n",
      "No results found for: 'Adventures of Dama Cybordelics'\n",
      "Searching for \"Adventures of Dama\" by Cybordelics...\n"
     ]
    },
    {
     "name": "stderr",
     "output_type": "stream",
     "text": [
      " 89%|███████████████████████████████████████████████████████████▍       | 1172/1322 [54:12<06:11,  2.48s/it]"
     ]
    },
    {
     "name": "stdout",
     "output_type": "stream",
     "text": [
      "No results found for: 'Adventures of Dama Cybordelics'\n",
      "Adventures of Dama Cybordelics Not present in Genius\n",
      "Searching for \"The Seventh Seal\" by Aphrodite's Child...\n"
     ]
    },
    {
     "name": "stderr",
     "output_type": "stream",
     "text": [
      " 89%|███████████████████████████████████████████████████████████▍       | 1173/1322 [54:14<05:47,  2.33s/it]"
     ]
    },
    {
     "name": "stdout",
     "output_type": "stream",
     "text": [
      "Done.\n",
      "Searching for \"Falling Acid\" by Tin Man...\n"
     ]
    },
    {
     "name": "stderr",
     "output_type": "stream",
     "text": [
      " 89%|███████████████████████████████████████████████████████████▍       | 1174/1322 [54:17<06:16,  2.54s/it]"
     ]
    },
    {
     "name": "stdout",
     "output_type": "stream",
     "text": [
      "Done.\n",
      "Searching for \"Sueno Latino - Illusion First Mix by Derrick May\" by Sueño Latino...\n",
      "No results found for: 'Sueno Latino - Illusion First Mix by Derrick May Sueño Latino'\n",
      "Searching for \"Sueno Latino - Illusion First Mix by Derrick May\" by Sueño Latino...\n",
      "No results found for: 'Sueno Latino - Illusion First Mix by Derrick May Sueño Latino'\n",
      "Searching for \"Sueno Latino - Illusion First Mix by Derrick May\" by Sueño Latino...\n",
      "No results found for: 'Sueno Latino - Illusion First Mix by Derrick May Sueño Latino'\n",
      "Searching for \"Sueno Latino - Illusion First Mix by Derrick May\" by Sueño Latino...\n",
      "No results found for: 'Sueno Latino - Illusion First Mix by Derrick May Sueño Latino'\n",
      "Searching for \"Sueno Latino - Illusion First Mix by Derrick May\" by Sueño Latino...\n"
     ]
    },
    {
     "name": "stderr",
     "output_type": "stream",
     "text": [
      " 89%|███████████████████████████████████████████████████████████▌       | 1175/1322 [54:19<05:38,  2.30s/it]"
     ]
    },
    {
     "name": "stdout",
     "output_type": "stream",
     "text": [
      "No results found for: 'Sueno Latino - Illusion First Mix by Derrick May Sueño Latino'\n",
      "Sueno Latino - Illusion First Mix by Derrick May Sueño Latino Not present in Genius\n",
      "Searching for \"Disco Illusion\" by Stephen Encinas...\n",
      "No results found for: 'Disco Illusion Stephen Encinas'\n",
      "Searching for \"Disco Illusion\" by Stephen Encinas...\n",
      "No results found for: 'Disco Illusion Stephen Encinas'\n",
      "Searching for \"Disco Illusion\" by Stephen Encinas...\n",
      "No results found for: 'Disco Illusion Stephen Encinas'\n",
      "Searching for \"Disco Illusion\" by Stephen Encinas...\n",
      "No results found for: 'Disco Illusion Stephen Encinas'\n",
      "Searching for \"Disco Illusion\" by Stephen Encinas...\n"
     ]
    },
    {
     "name": "stderr",
     "output_type": "stream",
     "text": [
      " 89%|███████████████████████████████████████████████████████████▌       | 1176/1322 [54:21<05:17,  2.17s/it]"
     ]
    },
    {
     "name": "stdout",
     "output_type": "stream",
     "text": [
      "No results found for: 'Disco Illusion Stephen Encinas'\n",
      "Disco Illusion Stephen Encinas Not present in Genius\n",
      "Searching for \"Lypso Illusion\" by Stephen Encinas...\n",
      "No results found for: 'Lypso Illusion Stephen Encinas'\n",
      "Searching for \"Lypso Illusion\" by Stephen Encinas...\n",
      "No results found for: 'Lypso Illusion Stephen Encinas'\n",
      "Searching for \"Lypso Illusion\" by Stephen Encinas...\n",
      "No results found for: 'Lypso Illusion Stephen Encinas'\n",
      "Searching for \"Lypso Illusion\" by Stephen Encinas...\n",
      "No results found for: 'Lypso Illusion Stephen Encinas'\n",
      "Searching for \"Lypso Illusion\" by Stephen Encinas...\n"
     ]
    },
    {
     "name": "stderr",
     "output_type": "stream",
     "text": [
      " 89%|███████████████████████████████████████████████████████████▋       | 1177/1322 [54:23<04:59,  2.06s/it]"
     ]
    },
    {
     "name": "stdout",
     "output_type": "stream",
     "text": [
      "No results found for: 'Lypso Illusion Stephen Encinas'\n",
      "Lypso Illusion Stephen Encinas Not present in Genius\n",
      "Searching for \"I Refuse (What You Want) - Industry Standard Club Mix\" by Somore...\n"
     ]
    },
    {
     "name": "stderr",
     "output_type": "stream",
     "text": [
      " 89%|███████████████████████████████████████████████████████████▋       | 1178/1322 [54:26<05:51,  2.44s/it]"
     ]
    },
    {
     "name": "stdout",
     "output_type": "stream",
     "text": [
      "Done.\n",
      "Searching for \"Enjoy Your Life\" by Oby Onyioha...\n"
     ]
    },
    {
     "name": "stderr",
     "output_type": "stream",
     "text": [
      " 89%|███████████████████████████████████████████████████████████▊       | 1179/1322 [54:28<05:18,  2.23s/it]"
     ]
    },
    {
     "name": "stdout",
     "output_type": "stream",
     "text": [
      "Done.\n",
      "Searching for \"Thinking of You\" by Lord Echo...\n"
     ]
    },
    {
     "name": "stderr",
     "output_type": "stream",
     "text": [
      " 89%|███████████████████████████████████████████████████████████▊       | 1180/1322 [54:30<05:06,  2.16s/it]"
     ]
    },
    {
     "name": "stdout",
     "output_type": "stream",
     "text": [
      "Done.\n",
      "Searching for \"Force\" by UMFANG...\n"
     ]
    },
    {
     "name": "stderr",
     "output_type": "stream",
     "text": [
      " 89%|███████████████████████████████████████████████████████████▊       | 1181/1322 [54:33<05:46,  2.46s/it]"
     ]
    },
    {
     "name": "stdout",
     "output_type": "stream",
     "text": [
      "Done.\n",
      "Searching for \"Make It Up\" by Tirzah...\n"
     ]
    },
    {
     "name": "stderr",
     "output_type": "stream",
     "text": [
      " 89%|███████████████████████████████████████████████████████████▉       | 1182/1322 [54:36<06:08,  2.63s/it]"
     ]
    },
    {
     "name": "stdout",
     "output_type": "stream",
     "text": [
      "Done.\n",
      "Searching for \"The Perfect Man\" by Sun Ra...\n"
     ]
    },
    {
     "name": "stderr",
     "output_type": "stream",
     "text": [
      " 89%|███████████████████████████████████████████████████████████▉       | 1183/1322 [54:39<06:28,  2.80s/it]"
     ]
    },
    {
     "name": "stdout",
     "output_type": "stream",
     "text": [
      "Done.\n",
      "Searching for \"The Boy a Sailor (Hoboing Seeking Truth)\" by Bobby Frank Brown...\n",
      "No results found for: 'The Boy a Sailor (Hoboing Seeking Truth) Bobby Frank Brown'\n",
      "Searching for \"The Boy a Sailor (Hoboing Seeking Truth)\" by Bobby Frank Brown...\n",
      "No results found for: 'The Boy a Sailor (Hoboing Seeking Truth) Bobby Frank Brown'\n",
      "Searching for \"The Boy a Sailor (Hoboing Seeking Truth)\" by Bobby Frank Brown...\n",
      "No results found for: 'The Boy a Sailor (Hoboing Seeking Truth) Bobby Frank Brown'\n",
      "Searching for \"The Boy a Sailor (Hoboing Seeking Truth)\" by Bobby Frank Brown...\n",
      "No results found for: 'The Boy a Sailor (Hoboing Seeking Truth) Bobby Frank Brown'\n",
      "Searching for \"The Boy a Sailor (Hoboing Seeking Truth)\" by Bobby Frank Brown...\n"
     ]
    },
    {
     "name": "stderr",
     "output_type": "stream",
     "text": [
      " 90%|████████████████████████████████████████████████████████████       | 1184/1322 [54:41<05:52,  2.55s/it]"
     ]
    },
    {
     "name": "stdout",
     "output_type": "stream",
     "text": [
      "No results found for: 'The Boy a Sailor (Hoboing Seeking Truth) Bobby Frank Brown'\n",
      "The Boy a Sailor (Hoboing Seeking Truth) Bobby Frank Brown Not present in Genius\n",
      "Searching for \"My Hawaiian Home (Kids Prophesies Revolutionizing Physics)\" by Bobby Frank Brown...\n",
      "No results found for: 'My Hawaiian Home (Kids Prophesies Revolutionizing Physics) Bobby Frank Brown'\n",
      "Searching for \"My Hawaiian Home (Kids Prophesies Revolutionizing Physics)\" by Bobby Frank Brown...\n",
      "No results found for: 'My Hawaiian Home (Kids Prophesies Revolutionizing Physics) Bobby Frank Brown'\n",
      "Searching for \"My Hawaiian Home (Kids Prophesies Revolutionizing Physics)\" by Bobby Frank Brown...\n",
      "No results found for: 'My Hawaiian Home (Kids Prophesies Revolutionizing Physics) Bobby Frank Brown'\n",
      "Searching for \"My Hawaiian Home (Kids Prophesies Revolutionizing Physics)\" by Bobby Frank Brown...\n",
      "No results found for: 'My Hawaiian Home (Kids Prophesies Revolutionizing Physics) Bobby Frank Brown'\n",
      "Searching for \"My Hawaiian Home (Kids Prophesies Revolutionizing Physics)\" by Bobby Frank Brown...\n"
     ]
    },
    {
     "name": "stderr",
     "output_type": "stream",
     "text": [
      " 90%|████████████████████████████████████████████████████████████       | 1185/1322 [54:43<05:17,  2.31s/it]"
     ]
    },
    {
     "name": "stdout",
     "output_type": "stream",
     "text": [
      "No results found for: 'My Hawaiian Home (Kids Prophesies Revolutionizing Physics) Bobby Frank Brown'\n",
      "My Hawaiian Home (Kids Prophesies Revolutionizing Physics) Bobby Frank Brown Not present in Genius\n",
      "Searching for \"Freeze Cycle\" by Pearson Sound...\n"
     ]
    },
    {
     "name": "stderr",
     "output_type": "stream",
     "text": [
      " 90%|████████████████████████████████████████████████████████████       | 1186/1322 [54:49<08:11,  3.62s/it]"
     ]
    },
    {
     "name": "stdout",
     "output_type": "stream",
     "text": [
      "Done.\n",
      "Searching for \"You and I\" by Toro y Moi...\n"
     ]
    },
    {
     "name": "stderr",
     "output_type": "stream",
     "text": [
      " 90%|████████████████████████████████████████████████████████████▏      | 1187/1322 [54:53<08:01,  3.57s/it]"
     ]
    },
    {
     "name": "stdout",
     "output_type": "stream",
     "text": [
      "Done.\n",
      "Searching for \"Information Needed to Create an Entire Body\" by Caterina Barbieri...\n"
     ]
    },
    {
     "name": "stderr",
     "output_type": "stream",
     "text": [
      " 90%|████████████████████████████████████████████████████████████▏      | 1188/1322 [54:57<08:18,  3.72s/it]"
     ]
    },
    {
     "name": "stdout",
     "output_type": "stream",
     "text": [
      "Done.\n",
      "Searching for \"Algodão\" by Quarteto Novo...\n",
      "Specified song does not contain lyrics. Rejecting.\n",
      "Searching for \"Algodão\" by Quarteto Novo...\n",
      "Specified song does not contain lyrics. Rejecting.\n",
      "Searching for \"Algodão\" by Quarteto Novo...\n",
      "Specified song does not contain lyrics. Rejecting.\n",
      "Searching for \"Algodão\" by Quarteto Novo...\n",
      "Specified song does not contain lyrics. Rejecting.\n",
      "Searching for \"Algodão\" by Quarteto Novo...\n"
     ]
    },
    {
     "name": "stderr",
     "output_type": "stream",
     "text": [
      " 90%|████████████████████████████████████████████████████████████▎      | 1189/1322 [55:00<07:30,  3.39s/it]"
     ]
    },
    {
     "name": "stdout",
     "output_type": "stream",
     "text": [
      "Specified song does not contain lyrics. Rejecting.\n",
      "Algodão Quarteto Novo Not present in Genius\n",
      "Searching for \"Jardins Aquatics\" by Pep Llopis...\n",
      "No results found for: 'Jardins Aquatics Pep Llopis'\n",
      "Searching for \"Jardins Aquatics\" by Pep Llopis...\n",
      "No results found for: 'Jardins Aquatics Pep Llopis'\n",
      "Searching for \"Jardins Aquatics\" by Pep Llopis...\n",
      "No results found for: 'Jardins Aquatics Pep Llopis'\n",
      "Searching for \"Jardins Aquatics\" by Pep Llopis...\n",
      "No results found for: 'Jardins Aquatics Pep Llopis'\n",
      "Searching for \"Jardins Aquatics\" by Pep Llopis...\n"
     ]
    },
    {
     "name": "stderr",
     "output_type": "stream",
     "text": [
      " 90%|████████████████████████████████████████████████████████████▎      | 1190/1322 [55:01<06:22,  2.90s/it]"
     ]
    },
    {
     "name": "stdout",
     "output_type": "stream",
     "text": [
      "No results found for: 'Jardins Aquatics Pep Llopis'\n",
      "Jardins Aquatics Pep Llopis Not present in Genius\n",
      "Searching for \"Hotcake\" by Marc Barreca...\n",
      "No results found for: 'Hotcake Marc Barreca'\n",
      "Searching for \"Hotcake\" by Marc Barreca...\n",
      "No results found for: 'Hotcake Marc Barreca'\n",
      "Searching for \"Hotcake\" by Marc Barreca...\n",
      "No results found for: 'Hotcake Marc Barreca'\n",
      "Searching for \"Hotcake\" by Marc Barreca...\n",
      "No results found for: 'Hotcake Marc Barreca'\n",
      "Searching for \"Hotcake\" by Marc Barreca...\n"
     ]
    },
    {
     "name": "stderr",
     "output_type": "stream",
     "text": [
      " 90%|████████████████████████████████████████████████████████████▎      | 1191/1322 [55:03<05:32,  2.54s/it]"
     ]
    },
    {
     "name": "stdout",
     "output_type": "stream",
     "text": [
      "No results found for: 'Hotcake Marc Barreca'\n",
      "Hotcake Marc Barreca Not present in Genius\n",
      "Searching for \"Bandundu\" by Jasper Van't Hof...\n",
      "No results found for: 'Bandundu Jasper Van't Hof'\n",
      "Searching for \"Bandundu\" by Jasper Van't Hof...\n",
      "No results found for: 'Bandundu Jasper Van't Hof'\n",
      "Searching for \"Bandundu\" by Jasper Van't Hof...\n",
      "No results found for: 'Bandundu Jasper Van't Hof'\n",
      "Searching for \"Bandundu\" by Jasper Van't Hof...\n",
      "No results found for: 'Bandundu Jasper Van't Hof'\n",
      "Searching for \"Bandundu\" by Jasper Van't Hof...\n"
     ]
    },
    {
     "name": "stderr",
     "output_type": "stream",
     "text": [
      " 90%|████████████████████████████████████████████████████████████▍      | 1192/1322 [55:05<04:58,  2.29s/it]"
     ]
    },
    {
     "name": "stdout",
     "output_type": "stream",
     "text": [
      "No results found for: 'Bandundu Jasper Van't Hof'\n",
      "Bandundu Jasper Van't Hof Not present in Genius\n",
      "Searching for \"Where Is She\" by UMFANG...\n"
     ]
    },
    {
     "name": "stderr",
     "output_type": "stream",
     "text": [
      " 90%|████████████████████████████████████████████████████████████▍      | 1193/1322 [55:07<05:10,  2.41s/it]"
     ]
    },
    {
     "name": "stdout",
     "output_type": "stream",
     "text": [
      "Done.\n",
      "Searching for \"Come to My World\" by Michael Wycoff...\n"
     ]
    },
    {
     "name": "stderr",
     "output_type": "stream",
     "text": [
      " 90%|████████████████████████████████████████████████████████████▌      | 1194/1322 [55:09<04:38,  2.18s/it]"
     ]
    },
    {
     "name": "stdout",
     "output_type": "stream",
     "text": [
      "Done.\n",
      "Searching for \"Hear The Music\" by Paul Johnson...\n"
     ]
    },
    {
     "name": "stderr",
     "output_type": "stream",
     "text": [
      " 90%|████████████████████████████████████████████████████████████▌      | 1195/1322 [55:13<05:28,  2.58s/it]"
     ]
    },
    {
     "name": "stdout",
     "output_type": "stream",
     "text": [
      "Done.\n",
      "Searching for \"Devil's Dance - Original Mix\" by Todd Terry...\n"
     ]
    },
    {
     "name": "stderr",
     "output_type": "stream",
     "text": [
      " 90%|████████████████████████████████████████████████████████████▌      | 1196/1322 [55:15<05:10,  2.47s/it]"
     ]
    },
    {
     "name": "stdout",
     "output_type": "stream",
     "text": [
      "Done.\n",
      "Searching for \"Africa\" by Clement Djimogne...\n",
      "No results found for: 'Africa Clement Djimogne'\n",
      "Searching for \"Africa\" by Clement Djimogne...\n",
      "No results found for: 'Africa Clement Djimogne'\n",
      "Searching for \"Africa\" by Clement Djimogne...\n",
      "No results found for: 'Africa Clement Djimogne'\n",
      "Searching for \"Africa\" by Clement Djimogne...\n",
      "No results found for: 'Africa Clement Djimogne'\n",
      "Searching for \"Africa\" by Clement Djimogne...\n"
     ]
    },
    {
     "name": "stderr",
     "output_type": "stream",
     "text": [
      " 91%|████████████████████████████████████████████████████████████▋      | 1197/1322 [55:17<04:44,  2.28s/it]"
     ]
    },
    {
     "name": "stdout",
     "output_type": "stream",
     "text": [
      "No results found for: 'Africa Clement Djimogne'\n",
      "Africa Clement Djimogne Not present in Genius\n",
      "Searching for \"Cosmic Vibration\" by A.R. & Machines...\n"
     ]
    },
    {
     "name": "stderr",
     "output_type": "stream",
     "text": [
      " 91%|████████████████████████████████████████████████████████████▋      | 1198/1322 [55:21<05:46,  2.80s/it]"
     ]
    },
    {
     "name": "stdout",
     "output_type": "stream",
     "text": [
      "Done.\n",
      "Searching for \"Fly Away\" by Abraham Battat...\n"
     ]
    },
    {
     "name": "stderr",
     "output_type": "stream",
     "text": [
      " 91%|████████████████████████████████████████████████████████████▊      | 1199/1322 [55:24<06:01,  2.94s/it]"
     ]
    },
    {
     "name": "stdout",
     "output_type": "stream",
     "text": [
      "Done.\n",
      "Searching for \"Your Love Made My Head Hurt\" by Abu Sultan...\n"
     ]
    },
    {
     "name": "stderr",
     "output_type": "stream",
     "text": [
      " 91%|████████████████████████████████████████████████████████████▊      | 1200/1322 [55:27<06:14,  3.07s/it]"
     ]
    },
    {
     "name": "stdout",
     "output_type": "stream",
     "text": [
      "Done.\n",
      "Searching for \"Disillusioned Man\" by Demon Fuzz...\n",
      "No results found for: 'Disillusioned Man Demon Fuzz'\n",
      "Searching for \"Disillusioned Man\" by Demon Fuzz...\n",
      "No results found for: 'Disillusioned Man Demon Fuzz'\n",
      "Searching for \"Disillusioned Man\" by Demon Fuzz...\n",
      "No results found for: 'Disillusioned Man Demon Fuzz'\n",
      "Searching for \"Disillusioned Man\" by Demon Fuzz...\n",
      "No results found for: 'Disillusioned Man Demon Fuzz'\n",
      "Searching for \"Disillusioned Man\" by Demon Fuzz...\n"
     ]
    },
    {
     "name": "stderr",
     "output_type": "stream",
     "text": [
      " 91%|████████████████████████████████████████████████████████████▊      | 1201/1322 [55:29<05:23,  2.67s/it]"
     ]
    },
    {
     "name": "stdout",
     "output_type": "stream",
     "text": [
      "No results found for: 'Disillusioned Man Demon Fuzz'\n",
      "Disillusioned Man Demon Fuzz Not present in Genius\n",
      "Searching for \"Hinde\" by African Vibration...\n"
     ]
    },
    {
     "name": "stderr",
     "output_type": "stream",
     "text": [
      " 91%|████████████████████████████████████████████████████████████▉      | 1202/1322 [55:32<05:29,  2.75s/it]"
     ]
    },
    {
     "name": "stdout",
     "output_type": "stream",
     "text": [
      "Done.\n",
      "Searching for \"It's A Disgrace Dub - unreleased dubplate mix\" by The Aggrovators...\n",
      "No results found for: 'It's A Disgrace Dub - unreleased dubplate mix The Aggrovators'\n",
      "Searching for \"It's A Disgrace Dub - unreleased dubplate mix\" by The Aggrovators...\n",
      "No results found for: 'It's A Disgrace Dub - unreleased dubplate mix The Aggrovators'\n",
      "Searching for \"It's A Disgrace Dub - unreleased dubplate mix\" by The Aggrovators...\n",
      "No results found for: 'It's A Disgrace Dub - unreleased dubplate mix The Aggrovators'\n",
      "Searching for \"It's A Disgrace Dub - unreleased dubplate mix\" by The Aggrovators...\n",
      "No results found for: 'It's A Disgrace Dub - unreleased dubplate mix The Aggrovators'\n",
      "Searching for \"It's A Disgrace Dub - unreleased dubplate mix\" by The Aggrovators...\n"
     ]
    },
    {
     "name": "stderr",
     "output_type": "stream",
     "text": [
      " 91%|████████████████████████████████████████████████████████████▉      | 1203/1322 [55:34<04:58,  2.51s/it]"
     ]
    },
    {
     "name": "stdout",
     "output_type": "stream",
     "text": [
      "No results found for: 'It's A Disgrace Dub - unreleased dubplate mix The Aggrovators'\n",
      "It's A Disgrace Dub - unreleased dubplate mix The Aggrovators Not present in Genius\n",
      "Searching for \"Ya Farhy Beeku\" by Ahmed Fakroun...\n",
      "No results found for: 'Ya Farhy Beeku Ahmed Fakroun'\n",
      "Searching for \"Ya Farhy Beeku\" by Ahmed Fakroun...\n",
      "No results found for: 'Ya Farhy Beeku Ahmed Fakroun'\n",
      "Searching for \"Ya Farhy Beeku\" by Ahmed Fakroun...\n",
      "No results found for: 'Ya Farhy Beeku Ahmed Fakroun'\n",
      "Searching for \"Ya Farhy Beeku\" by Ahmed Fakroun...\n",
      "No results found for: 'Ya Farhy Beeku Ahmed Fakroun'\n",
      "Searching for \"Ya Farhy Beeku\" by Ahmed Fakroun...\n"
     ]
    },
    {
     "name": "stderr",
     "output_type": "stream",
     "text": [
      " 91%|█████████████████████████████████████████████████████████████      | 1204/1322 [55:36<04:29,  2.28s/it]"
     ]
    },
    {
     "name": "stdout",
     "output_type": "stream",
     "text": [
      "No results found for: 'Ya Farhy Beeku Ahmed Fakroun'\n",
      "Ya Farhy Beeku Ahmed Fakroun Not present in Genius\n",
      "Searching for \"Mr. Man\" by Air...\n"
     ]
    },
    {
     "name": "stderr",
     "output_type": "stream",
     "text": [
      " 91%|█████████████████████████████████████████████████████████████      | 1205/1322 [55:39<05:01,  2.58s/it]"
     ]
    },
    {
     "name": "stdout",
     "output_type": "stream",
     "text": [
      "Done.\n",
      "Searching for \"(Mit I) Saure Gurke (Aus I Urwald Gelockt)\" by Aksak Maboul...\n",
      "No results found for: '(Mit I) Saure Gurke (Aus I Urwald Gelockt) Aksak Maboul'\n",
      "Searching for \"(Mit I) Saure Gurke (Aus I Urwald Gelockt)\" by Aksak Maboul...\n",
      "No results found for: '(Mit I) Saure Gurke (Aus I Urwald Gelockt) Aksak Maboul'\n",
      "Searching for \"(Mit I) Saure Gurke (Aus I Urwald Gelockt)\" by Aksak Maboul...\n",
      "No results found for: '(Mit I) Saure Gurke (Aus I Urwald Gelockt) Aksak Maboul'\n",
      "Searching for \"(Mit I) Saure Gurke (Aus I Urwald Gelockt)\" by Aksak Maboul...\n",
      "No results found for: '(Mit I) Saure Gurke (Aus I Urwald Gelockt) Aksak Maboul'\n",
      "Searching for \"(Mit I) Saure Gurke (Aus I Urwald Gelockt)\" by Aksak Maboul...\n"
     ]
    },
    {
     "name": "stderr",
     "output_type": "stream",
     "text": [
      " 91%|█████████████████████████████████████████████████████████████      | 1206/1322 [55:41<04:38,  2.40s/it]"
     ]
    },
    {
     "name": "stdout",
     "output_type": "stream",
     "text": [
      "No results found for: '(Mit I) Saure Gurke (Aus I Urwald Gelockt) Aksak Maboul'\n",
      "(Mit I) Saure Gurke (Aus I Urwald Gelockt) Aksak Maboul Not present in Genius\n",
      "Searching for \"Générique\" by Alain Goraguer...\n",
      "Specified song does not contain lyrics. Rejecting.\n",
      "Searching for \"Générique\" by Alain Goraguer...\n",
      "Specified song does not contain lyrics. Rejecting.\n",
      "Searching for \"Générique\" by Alain Goraguer...\n",
      "Specified song does not contain lyrics. Rejecting.\n",
      "Searching for \"Générique\" by Alain Goraguer...\n",
      "Specified song does not contain lyrics. Rejecting.\n",
      "Searching for \"Générique\" by Alain Goraguer...\n"
     ]
    },
    {
     "name": "stderr",
     "output_type": "stream",
     "text": [
      " 91%|█████████████████████████████████████████████████████████████▏     | 1207/1322 [55:43<04:23,  2.29s/it]"
     ]
    },
    {
     "name": "stdout",
     "output_type": "stream",
     "text": [
      "Specified song does not contain lyrics. Rejecting.\n",
      "Générique Alain Goraguer Not present in Genius\n",
      "Searching for \"Rush\" by Alden Tyrell...\n"
     ]
    },
    {
     "name": "stderr",
     "output_type": "stream",
     "text": [
      " 91%|█████████████████████████████████████████████████████████████▏     | 1208/1322 [55:50<06:55,  3.65s/it]"
     ]
    },
    {
     "name": "stdout",
     "output_type": "stream",
     "text": [
      "Done.\n",
      "Searching for \"Om Supreme\" by Alice Coltrane...\n"
     ]
    },
    {
     "name": "stderr",
     "output_type": "stream",
     "text": [
      " 91%|█████████████████████████████████████████████████████████████▎     | 1209/1322 [55:52<05:50,  3.10s/it]"
     ]
    },
    {
     "name": "stdout",
     "output_type": "stream",
     "text": [
      "Done.\n",
      "Searching for \"Vrindavana Sanchara\" by Alice Coltrane...\n",
      "Specified song does not contain lyrics. Rejecting.\n",
      "Searching for \"Vrindavana Sanchara\" by Alice Coltrane...\n",
      "Specified song does not contain lyrics. Rejecting.\n",
      "Searching for \"Vrindavana Sanchara\" by Alice Coltrane...\n",
      "Specified song does not contain lyrics. Rejecting.\n",
      "Searching for \"Vrindavana Sanchara\" by Alice Coltrane...\n",
      "Specified song does not contain lyrics. Rejecting.\n",
      "Searching for \"Vrindavana Sanchara\" by Alice Coltrane...\n"
     ]
    },
    {
     "name": "stderr",
     "output_type": "stream",
     "text": [
      " 92%|█████████████████████████████████████████████████████████████▎     | 1210/1322 [55:53<05:07,  2.75s/it]"
     ]
    },
    {
     "name": "stdout",
     "output_type": "stream",
     "text": [
      "Specified song does not contain lyrics. Rejecting.\n",
      "Vrindavana Sanchara Alice Coltrane Not present in Genius\n",
      "Searching for \"Sita Ram\" by Alice Coltrane...\n",
      "Specified song does not contain lyrics. Rejecting.\n",
      "Searching for \"Sita Ram\" by Alice Coltrane...\n",
      "Specified song does not contain lyrics. Rejecting.\n",
      "Searching for \"Sita Ram\" by Alice Coltrane...\n",
      "Specified song does not contain lyrics. Rejecting.\n",
      "Searching for \"Sita Ram\" by Alice Coltrane...\n",
      "Specified song does not contain lyrics. Rejecting.\n",
      "Searching for \"Sita Ram\" by Alice Coltrane...\n"
     ]
    },
    {
     "name": "stderr",
     "output_type": "stream",
     "text": [
      " 92%|█████████████████████████████████████████████████████████████▎     | 1211/1322 [55:55<04:39,  2.52s/it]"
     ]
    },
    {
     "name": "stdout",
     "output_type": "stream",
     "text": [
      "Specified song does not contain lyrics. Rejecting.\n",
      "Sita Ram Alice Coltrane Not present in Genius\n",
      "Searching for \"I Want To Thank You\" by Alicia Myers...\n"
     ]
    },
    {
     "name": "stderr",
     "output_type": "stream",
     "text": [
      " 92%|█████████████████████████████████████████████████████████████▍     | 1212/1322 [55:58<04:27,  2.43s/it]"
     ]
    },
    {
     "name": "stdout",
     "output_type": "stream",
     "text": [
      "Done.\n",
      "Searching for \"Every Word Was Once An Animal\" by Alog...\n"
     ]
    },
    {
     "name": "stderr",
     "output_type": "stream",
     "text": [
      " 92%|█████████████████████████████████████████████████████████████▍     | 1213/1322 [56:00<04:32,  2.50s/it]"
     ]
    },
    {
     "name": "stdout",
     "output_type": "stream",
     "text": [
      "Done.\n",
      "Searching for \"Songs and Views from the Magnetic Garden: Songs and Views from the Magnetic Garden: II.\" by Alvin Curran...\n",
      "No results found for: 'Songs and Views from the Magnetic Garden: Songs and Views from the Magnetic Garden: II. Alvin Curran'\n",
      "Searching for \"Songs and Views from the Magnetic Garden: Songs and Views from the Magnetic Garden: II.\" by Alvin Curran...\n",
      "No results found for: 'Songs and Views from the Magnetic Garden: Songs and Views from the Magnetic Garden: II. Alvin Curran'\n",
      "Searching for \"Songs and Views from the Magnetic Garden: Songs and Views from the Magnetic Garden: II.\" by Alvin Curran...\n",
      "No results found for: 'Songs and Views from the Magnetic Garden: Songs and Views from the Magnetic Garden: II. Alvin Curran'\n",
      "Searching for \"Songs and Views from the Magnetic Garden: Songs and Views from the Magnetic Garden: II.\" by Alvin Curran...\n",
      "No results found for: 'Songs and Views from the Magnetic Garden: Songs and Views from the Magnetic Garden: II. Alvin Curran'\n",
      "Searching for \"Songs and Views from the Magnetic Garden: Songs and Views from the Magnetic Garden: II.\" by Alvin Curran...\n"
     ]
    },
    {
     "name": "stderr",
     "output_type": "stream",
     "text": [
      " 92%|█████████████████████████████████████████████████████████████▌     | 1214/1322 [56:03<04:25,  2.46s/it]"
     ]
    },
    {
     "name": "stdout",
     "output_type": "stream",
     "text": [
      "No results found for: 'Songs and Views from the Magnetic Garden: Songs and Views from the Magnetic Garden: II. Alvin Curran'\n",
      "Songs and Views from the Magnetic Garden: Songs and Views from the Magnetic Garden: II. Alvin Curran Not present in Genius\n",
      "Searching for \"Ain't Got the Love (Of One Girl On My Mind)\" by Ambassadors...\n"
     ]
    },
    {
     "name": "stderr",
     "output_type": "stream",
     "text": [
      " 92%|█████████████████████████████████████████████████████████████▌     | 1215/1322 [56:06<04:52,  2.74s/it]"
     ]
    },
    {
     "name": "stdout",
     "output_type": "stream",
     "text": [
      "Done.\n",
      "Searching for \"Mandato\" by Anamaria e Maurício...\n"
     ]
    },
    {
     "name": "stderr",
     "output_type": "stream",
     "text": [
      " 92%|█████████████████████████████████████████████████████████████▋     | 1216/1322 [56:09<04:55,  2.79s/it]"
     ]
    },
    {
     "name": "stdout",
     "output_type": "stream",
     "text": [
      "Done.\n",
      "Searching for \"Kiuá\" by Andréa Daltro...\n"
     ]
    },
    {
     "name": "stderr",
     "output_type": "stream",
     "text": [
      " 92%|█████████████████████████████████████████████████████████████▋     | 1217/1322 [56:11<04:36,  2.63s/it]"
     ]
    },
    {
     "name": "stdout",
     "output_type": "stream",
     "text": [
      "Done.\n",
      "Searching for \"Basheeba\" by Angel Rada...\n"
     ]
    },
    {
     "name": "stderr",
     "output_type": "stream",
     "text": [
      " 92%|█████████████████████████████████████████████████████████████▋     | 1218/1322 [56:13<04:16,  2.47s/it]"
     ]
    },
    {
     "name": "stdout",
     "output_type": "stream",
     "text": [
      "Done.\n",
      "Searching for \"Panico A Las 5am\" by Angel Rada...\n",
      "Specified song does not contain lyrics. Rejecting.\n",
      "Searching for \"Panico A Las 5am\" by Angel Rada...\n",
      "Specified song does not contain lyrics. Rejecting.\n",
      "Searching for \"Panico A Las 5am\" by Angel Rada...\n",
      "Specified song does not contain lyrics. Rejecting.\n",
      "Searching for \"Panico A Las 5am\" by Angel Rada...\n",
      "Specified song does not contain lyrics. Rejecting.\n",
      "Searching for \"Panico A Las 5am\" by Angel Rada...\n"
     ]
    },
    {
     "name": "stderr",
     "output_type": "stream",
     "text": [
      " 92%|█████████████████████████████████████████████████████████████▊     | 1219/1322 [56:16<04:05,  2.38s/it]"
     ]
    },
    {
     "name": "stdout",
     "output_type": "stream",
     "text": [
      "Specified song does not contain lyrics. Rejecting.\n",
      "Panico A Las 5am Angel Rada Not present in Genius\n",
      "Searching for \"Lam Sarawan\" by Angkanang Kunchai...\n",
      "No results found for: 'Lam Sarawan Angkanang Kunchai'\n",
      "Searching for \"Lam Sarawan\" by Angkanang Kunchai...\n",
      "No results found for: 'Lam Sarawan Angkanang Kunchai'\n",
      "Searching for \"Lam Sarawan\" by Angkanang Kunchai...\n",
      "No results found for: 'Lam Sarawan Angkanang Kunchai'\n",
      "Searching for \"Lam Sarawan\" by Angkanang Kunchai...\n",
      "No results found for: 'Lam Sarawan Angkanang Kunchai'\n",
      "Searching for \"Lam Sarawan\" by Angkanang Kunchai...\n"
     ]
    },
    {
     "name": "stderr",
     "output_type": "stream",
     "text": [
      " 92%|█████████████████████████████████████████████████████████████▊     | 1220/1322 [56:17<03:44,  2.20s/it]"
     ]
    },
    {
     "name": "stdout",
     "output_type": "stream",
     "text": [
      "No results found for: 'Lam Sarawan Angkanang Kunchai'\n",
      "Lam Sarawan Angkanang Kunchai Not present in Genius\n",
      "Searching for \"Phoenix\" by Aquarian Dream...\n"
     ]
    },
    {
     "name": "stderr",
     "output_type": "stream",
     "text": [
      " 92%|█████████████████████████████████████████████████████████████▉     | 1221/1322 [56:21<04:17,  2.55s/it]"
     ]
    },
    {
     "name": "stdout",
     "output_type": "stream",
     "text": [
      "Done.\n",
      "Searching for \"Fantasy\" by Aquarian Dream...\n"
     ]
    },
    {
     "name": "stderr",
     "output_type": "stream",
     "text": [
      " 92%|█████████████████████████████████████████████████████████████▉     | 1222/1322 [56:24<04:34,  2.75s/it]"
     ]
    },
    {
     "name": "stdout",
     "output_type": "stream",
     "text": [
      "Done.\n",
      "Searching for \"Lucky Cloud\" by Arthur Russell...\n"
     ]
    },
    {
     "name": "stderr",
     "output_type": "stream",
     "text": [
      " 93%|█████████████████████████████████████████████████████████████▉     | 1223/1322 [56:27<04:34,  2.77s/it]"
     ]
    },
    {
     "name": "stdout",
     "output_type": "stream",
     "text": [
      "Done.\n",
      "Searching for \"Tizita\" by Aster Aweke...\n",
      "No results found for: 'Tizita Aster Aweke'\n",
      "Searching for \"Tizita\" by Aster Aweke...\n",
      "No results found for: 'Tizita Aster Aweke'\n",
      "Searching for \"Tizita\" by Aster Aweke...\n",
      "No results found for: 'Tizita Aster Aweke'\n",
      "Searching for \"Tizita\" by Aster Aweke...\n",
      "No results found for: 'Tizita Aster Aweke'\n",
      "Searching for \"Tizita\" by Aster Aweke...\n"
     ]
    },
    {
     "name": "stderr",
     "output_type": "stream",
     "text": [
      " 93%|██████████████████████████████████████████████████████████████     | 1224/1322 [56:28<04:02,  2.47s/it]"
     ]
    },
    {
     "name": "stdout",
     "output_type": "stream",
     "text": [
      "No results found for: 'Tizita Aster Aweke'\n",
      "Tizita Aster Aweke Not present in Genius\n",
      "Searching for \"Obaa Sima\" by Ata Kak...\n"
     ]
    },
    {
     "name": "stderr",
     "output_type": "stream",
     "text": [
      " 93%|██████████████████████████████████████████████████████████████     | 1225/1322 [56:31<03:47,  2.34s/it]"
     ]
    },
    {
     "name": "stdout",
     "output_type": "stream",
     "text": [
      "Done.\n",
      "Searching for \"Classical Illusion (Micron 7\")\" by Augustus Pablo...\n"
     ]
    },
    {
     "name": "stderr",
     "output_type": "stream",
     "text": [
      " 93%|██████████████████████████████████████████████████████████████▏    | 1226/1322 [56:33<03:42,  2.32s/it]"
     ]
    },
    {
     "name": "stdout",
     "output_type": "stream",
     "text": [
      "Done.\n",
      "Searching for \"2000 Species of Cacti\" by Avalon Emerson...\n",
      "No results found for: '2000 Species of Cacti Avalon Emerson'\n",
      "Searching for \"2000 Species of Cacti\" by Avalon Emerson...\n",
      "No results found for: '2000 Species of Cacti Avalon Emerson'\n",
      "Searching for \"2000 Species of Cacti\" by Avalon Emerson...\n",
      "No results found for: '2000 Species of Cacti Avalon Emerson'\n",
      "Searching for \"2000 Species of Cacti\" by Avalon Emerson...\n",
      "No results found for: '2000 Species of Cacti Avalon Emerson'\n",
      "Searching for \"2000 Species of Cacti\" by Avalon Emerson...\n"
     ]
    },
    {
     "name": "stderr",
     "output_type": "stream",
     "text": [
      " 93%|██████████████████████████████████████████████████████████████▏    | 1227/1322 [56:35<03:26,  2.17s/it]"
     ]
    },
    {
     "name": "stdout",
     "output_type": "stream",
     "text": [
      "No results found for: '2000 Species of Cacti Avalon Emerson'\n",
      "2000 Species of Cacti Avalon Emerson Not present in Genius\n",
      "Searching for \"Amazonia\" by Azymuth...\n"
     ]
    },
    {
     "name": "stderr",
     "output_type": "stream",
     "text": [
      " 93%|██████████████████████████████████████████████████████████████▏    | 1228/1322 [56:37<03:18,  2.12s/it]"
     ]
    },
    {
     "name": "stdout",
     "output_type": "stream",
     "text": [
      "Done.\n",
      "Searching for \"Jazz Carnival\" by Azymuth...\n"
     ]
    },
    {
     "name": "stderr",
     "output_type": "stream",
     "text": [
      " 93%|██████████████████████████████████████████████████████████████▎    | 1229/1322 [56:40<03:57,  2.56s/it]"
     ]
    },
    {
     "name": "stdout",
     "output_type": "stream",
     "text": [
      "Done.\n",
      "Searching for \"Teacherman\" by Barbara St Clair...\n"
     ]
    },
    {
     "name": "stderr",
     "output_type": "stream",
     "text": [
      " 93%|██████████████████████████████████████████████████████████████▎    | 1230/1322 [56:42<03:43,  2.43s/it]"
     ]
    },
    {
     "name": "stdout",
     "output_type": "stream",
     "text": [
      "Done.\n",
      "Searching for \"Gamzedeyim\" by Barış Manço...\n"
     ]
    },
    {
     "name": "stderr",
     "output_type": "stream",
     "text": [
      " 93%|██████████████████████████████████████████████████████████████▍    | 1231/1322 [56:45<03:50,  2.53s/it]"
     ]
    },
    {
     "name": "stdout",
     "output_type": "stream",
     "text": [
      "Done.\n",
      "Searching for \"Ölüm Allah'ın Emri\" by Barış Manço...\n"
     ]
    },
    {
     "name": "stderr",
     "output_type": "stream",
     "text": [
      " 93%|██████████████████████████████████████████████████████████████▍    | 1232/1322 [56:47<03:43,  2.48s/it]"
     ]
    },
    {
     "name": "stdout",
     "output_type": "stream",
     "text": [
      "Done.\n",
      "Searching for \"Sekou\" by Brother Ah...\n"
     ]
    },
    {
     "name": "stderr",
     "output_type": "stream",
     "text": [
      " 93%|██████████████████████████████████████████████████████████████▍    | 1233/1322 [56:50<03:52,  2.61s/it]"
     ]
    },
    {
     "name": "stdout",
     "output_type": "stream",
     "text": [
      "Done.\n",
      "Searching for \"Celestial Strings\" by Brother Ah...\n"
     ]
    },
    {
     "name": "stderr",
     "output_type": "stream",
     "text": [
      " 93%|██████████████████████████████████████████████████████████████▌    | 1234/1322 [56:53<03:52,  2.64s/it]"
     ]
    },
    {
     "name": "stdout",
     "output_type": "stream",
     "text": [
      "Done.\n",
      "Searching for \"L’Unita\" by Bruce Ditmas...\n",
      "No results found for: 'L’Unita Bruce Ditmas'\n",
      "Searching for \"L’Unita\" by Bruce Ditmas...\n",
      "No results found for: 'L’Unita Bruce Ditmas'\n",
      "Searching for \"L’Unita\" by Bruce Ditmas...\n",
      "No results found for: 'L’Unita Bruce Ditmas'\n",
      "Searching for \"L’Unita\" by Bruce Ditmas...\n",
      "No results found for: 'L’Unita Bruce Ditmas'\n",
      "Searching for \"L’Unita\" by Bruce Ditmas...\n"
     ]
    },
    {
     "name": "stderr",
     "output_type": "stream",
     "text": [
      " 93%|██████████████████████████████████████████████████████████████▌    | 1235/1322 [56:55<03:27,  2.38s/it]"
     ]
    },
    {
     "name": "stdout",
     "output_type": "stream",
     "text": [
      "No results found for: 'L’Unita Bruce Ditmas'\n",
      "L’Unita Bruce Ditmas Not present in Genius\n",
      "Searching for \"Side Looking Radar Image\" by Bruce Ditmas...\n",
      "No results found for: 'Side Looking Radar Image Bruce Ditmas'\n",
      "Searching for \"Side Looking Radar Image\" by Bruce Ditmas...\n",
      "No results found for: 'Side Looking Radar Image Bruce Ditmas'\n",
      "Searching for \"Side Looking Radar Image\" by Bruce Ditmas...\n",
      "No results found for: 'Side Looking Radar Image Bruce Ditmas'\n",
      "Searching for \"Side Looking Radar Image\" by Bruce Ditmas...\n",
      "No results found for: 'Side Looking Radar Image Bruce Ditmas'\n",
      "Searching for \"Side Looking Radar Image\" by Bruce Ditmas...\n"
     ]
    },
    {
     "name": "stderr",
     "output_type": "stream",
     "text": [
      " 93%|██████████████████████████████████████████████████████████████▋    | 1236/1322 [56:57<03:09,  2.20s/it]"
     ]
    },
    {
     "name": "stdout",
     "output_type": "stream",
     "text": [
      "No results found for: 'Side Looking Radar Image Bruce Ditmas'\n",
      "Side Looking Radar Image Bruce Ditmas Not present in Genius\n",
      "Searching for \"Peace Pipe\" by B.T. Express...\n"
     ]
    },
    {
     "name": "stderr",
     "output_type": "stream",
     "text": [
      " 94%|██████████████████████████████████████████████████████████████▋    | 1237/1322 [56:59<03:22,  2.38s/it]"
     ]
    },
    {
     "name": "stdout",
     "output_type": "stream",
     "text": [
      "Done.\n",
      "Searching for \"Get Up (Everybody) - Parade Mix\" by Byron Stingily...\n"
     ]
    },
    {
     "name": "stderr",
     "output_type": "stream",
     "text": [
      " 94%|██████████████████████████████████████████████████████████████▋    | 1238/1322 [57:03<03:48,  2.72s/it]"
     ]
    },
    {
     "name": "stdout",
     "output_type": "stream",
     "text": [
      "Done.\n",
      "Searching for \"I Was Born This Way - 12\" Instrumental\" by Carl Bean...\n"
     ]
    },
    {
     "name": "stderr",
     "output_type": "stream",
     "text": [
      " 94%|██████████████████████████████████████████████████████████████▊    | 1239/1322 [57:05<03:40,  2.66s/it]"
     ]
    },
    {
     "name": "stdout",
     "output_type": "stream",
     "text": [
      "Done.\n",
      "Searching for \"Nothing Is True, Everything Is Permitted\" by Carlos Perón...\n"
     ]
    },
    {
     "name": "stderr",
     "output_type": "stream",
     "text": [
      " 94%|██████████████████████████████████████████████████████████████▊    | 1240/1322 [57:11<04:36,  3.38s/it]"
     ]
    },
    {
     "name": "stdout",
     "output_type": "stream",
     "text": [
      "Done.\n",
      "Searching for \"Why - 12\" Version\" by Carly Simon...\n"
     ]
    },
    {
     "name": "stderr",
     "output_type": "stream",
     "text": [
      " 94%|██████████████████████████████████████████████████████████████▉    | 1241/1322 [57:14<04:29,  3.32s/it]"
     ]
    },
    {
     "name": "stdout",
     "output_type": "stream",
     "text": [
      "Done.\n",
      "Searching for \"Scratches on the Readable Surface\" by Caterina Barbieri...\n",
      "No results found for: 'Scratches on the Readable Surface Caterina Barbieri'\n",
      "Searching for \"Scratches on the Readable Surface\" by Caterina Barbieri...\n",
      "No results found for: 'Scratches on the Readable Surface Caterina Barbieri'\n",
      "Searching for \"Scratches on the Readable Surface\" by Caterina Barbieri...\n",
      "No results found for: 'Scratches on the Readable Surface Caterina Barbieri'\n",
      "Searching for \"Scratches on the Readable Surface\" by Caterina Barbieri...\n",
      "No results found for: 'Scratches on the Readable Surface Caterina Barbieri'\n",
      "Searching for \"Scratches on the Readable Surface\" by Caterina Barbieri...\n"
     ]
    },
    {
     "name": "stderr",
     "output_type": "stream",
     "text": [
      " 94%|██████████████████████████████████████████████████████████████▉    | 1242/1322 [57:16<03:59,  3.00s/it]"
     ]
    },
    {
     "name": "stdout",
     "output_type": "stream",
     "text": [
      "No results found for: 'Scratches on the Readable Surface Caterina Barbieri'\n",
      "Scratches on the Readable Surface Caterina Barbieri Not present in Genius\n",
      "Searching for \"La Secte de Marrakech\" by Cerrone...\n",
      "No results found for: 'La Secte de Marrakech Cerrone'\n",
      "Searching for \"La Secte de Marrakech\" by Cerrone...\n",
      "No results found for: 'La Secte de Marrakech Cerrone'\n",
      "Searching for \"La Secte de Marrakech\" by Cerrone...\n",
      "No results found for: 'La Secte de Marrakech Cerrone'\n",
      "Searching for \"La Secte de Marrakech\" by Cerrone...\n",
      "No results found for: 'La Secte de Marrakech Cerrone'\n",
      "Searching for \"La Secte de Marrakech\" by Cerrone...\n"
     ]
    },
    {
     "name": "stderr",
     "output_type": "stream",
     "text": [
      " 94%|██████████████████████████████████████████████████████████████▉    | 1243/1322 [57:18<03:27,  2.62s/it]"
     ]
    },
    {
     "name": "stdout",
     "output_type": "stream",
     "text": [
      "No results found for: 'La Secte de Marrakech Cerrone'\n",
      "La Secte de Marrakech Cerrone Not present in Genius\n",
      "Searching for \"La fin de la vie...\" by Cheval Fou...\n"
     ]
    },
    {
     "name": "stderr",
     "output_type": "stream",
     "text": [
      " 94%|███████████████████████████████████████████████████████████████    | 1244/1322 [57:20<03:25,  2.64s/it]"
     ]
    },
    {
     "name": "stdout",
     "output_type": "stream",
     "text": [
      "Done.\n",
      "Searching for \"Can You Feel It - New York Dub\" by Chez Damier...\n",
      "No results found for: 'Can You Feel It - New York Dub Chez Damier'\n",
      "Searching for \"Can You Feel It - New York Dub\" by Chez Damier...\n",
      "No results found for: 'Can You Feel It - New York Dub Chez Damier'\n",
      "Searching for \"Can You Feel It - New York Dub\" by Chez Damier...\n",
      "No results found for: 'Can You Feel It - New York Dub Chez Damier'\n",
      "Searching for \"Can You Feel It - New York Dub\" by Chez Damier...\n",
      "No results found for: 'Can You Feel It - New York Dub Chez Damier'\n",
      "Searching for \"Can You Feel It - New York Dub\" by Chez Damier...\n"
     ]
    },
    {
     "name": "stderr",
     "output_type": "stream",
     "text": [
      " 94%|███████████████████████████████████████████████████████████████    | 1245/1322 [57:22<03:03,  2.38s/it]"
     ]
    },
    {
     "name": "stdout",
     "output_type": "stream",
     "text": [
      "No results found for: 'Can You Feel It - New York Dub Chez Damier'\n",
      "Can You Feel It - New York Dub Chez Damier Not present in Genius\n",
      "Searching for \"Morning Factory\" by Chez Damier...\n"
     ]
    },
    {
     "name": "stderr",
     "output_type": "stream",
     "text": [
      " 94%|███████████████████████████████████████████████████████████████▏   | 1246/1322 [57:26<03:40,  2.90s/it]"
     ]
    },
    {
     "name": "stdout",
     "output_type": "stream",
     "text": [
      "Done.\n",
      "Searching for \"Africa Irie\" by Chief Checker...\n"
     ]
    },
    {
     "name": "stderr",
     "output_type": "stream",
     "text": [
      " 94%|███████████████████████████████████████████████████████████████▏   | 1247/1322 [57:29<03:33,  2.85s/it]"
     ]
    },
    {
     "name": "stdout",
     "output_type": "stream",
     "text": [
      "Done.\n",
      "Searching for \"Zvichapera\" by Chiwoniso...\n",
      "No results found for: 'Zvichapera Chiwoniso'\n",
      "Searching for \"Zvichapera\" by Chiwoniso...\n",
      "No results found for: 'Zvichapera Chiwoniso'\n",
      "Searching for \"Zvichapera\" by Chiwoniso...\n",
      "No results found for: 'Zvichapera Chiwoniso'\n",
      "Searching for \"Zvichapera\" by Chiwoniso...\n",
      "No results found for: 'Zvichapera Chiwoniso'\n",
      "Searching for \"Zvichapera\" by Chiwoniso...\n"
     ]
    },
    {
     "name": "stderr",
     "output_type": "stream",
     "text": [
      " 94%|███████████████████████████████████████████████████████████████▏   | 1248/1322 [57:31<03:06,  2.52s/it]"
     ]
    },
    {
     "name": "stdout",
     "output_type": "stream",
     "text": [
      "No results found for: 'Zvichapera Chiwoniso'\n",
      "Zvichapera Chiwoniso Not present in Genius\n",
      "Searching for \"I Changed My Mind\" by Chris Simmonds...\n"
     ]
    },
    {
     "name": "stderr",
     "output_type": "stream",
     "text": [
      " 94%|███████████████████████████████████████████████████████████████▎   | 1249/1322 [57:34<03:10,  2.61s/it]"
     ]
    },
    {
     "name": "stdout",
     "output_type": "stream",
     "text": [
      "Done.\n",
      "Searching for \"Data Transfer\" by Clarence G...\n"
     ]
    },
    {
     "name": "stderr",
     "output_type": "stream",
     "text": [
      " 95%|███████████████████████████████████████████████████████████████▎   | 1250/1322 [57:38<03:53,  3.25s/it]"
     ]
    },
    {
     "name": "stdout",
     "output_type": "stream",
     "text": [
      "Done.\n",
      "Searching for \"Disco Juice\" by Cloud One...\n"
     ]
    },
    {
     "name": "stderr",
     "output_type": "stream",
     "text": [
      " 95%|███████████████████████████████████████████████████████████████▍   | 1251/1322 [57:41<03:31,  2.98s/it]"
     ]
    },
    {
     "name": "stdout",
     "output_type": "stream",
     "text": [
      "Done.\n",
      "Searching for \"I Want Some More\" by Colin Blunstone...\n"
     ]
    },
    {
     "name": "stderr",
     "output_type": "stream",
     "text": [
      " 95%|███████████████████████████████████████████████████████████████▍   | 1252/1322 [57:43<03:20,  2.86s/it]"
     ]
    },
    {
     "name": "stdout",
     "output_type": "stream",
     "text": [
      "Done.\n",
      "Searching for \"Narst\" by Cooly G...\n"
     ]
    },
    {
     "name": "stderr",
     "output_type": "stream",
     "text": [
      " 95%|███████████████████████████████████████████████████████████████▌   | 1253/1322 [57:47<03:28,  3.02s/it]"
     ]
    },
    {
     "name": "stdout",
     "output_type": "stream",
     "text": [
      "Done.\n",
      "Searching for \"Crystals\" by Bob Ose...\n",
      "No results found for: 'Crystals Bob Ose'\n",
      "Searching for \"Crystals\" by Bob Ose...\n",
      "No results found for: 'Crystals Bob Ose'\n",
      "Searching for \"Crystals\" by Bob Ose...\n",
      "No results found for: 'Crystals Bob Ose'\n",
      "Searching for \"Crystals\" by Bob Ose...\n",
      "No results found for: 'Crystals Bob Ose'\n",
      "Searching for \"Crystals\" by Bob Ose...\n"
     ]
    },
    {
     "name": "stderr",
     "output_type": "stream",
     "text": [
      " 95%|███████████████████████████████████████████████████████████████▌   | 1254/1322 [57:48<02:58,  2.63s/it]"
     ]
    },
    {
     "name": "stdout",
     "output_type": "stream",
     "text": [
      "No results found for: 'Crystals Bob Ose'\n",
      "Crystals Bob Ose Not present in Genius\n",
      "Searching for \"Ring with three concentric dics\" by Craig Leon...\n",
      "No results found for: 'Ring with three concentric dics Craig Leon'\n",
      "Searching for \"Ring with three concentric dics\" by Craig Leon...\n",
      "No results found for: 'Ring with three concentric dics Craig Leon'\n",
      "Searching for \"Ring with three concentric dics\" by Craig Leon...\n",
      "No results found for: 'Ring with three concentric dics Craig Leon'\n",
      "Searching for \"Ring with three concentric dics\" by Craig Leon...\n",
      "No results found for: 'Ring with three concentric dics Craig Leon'\n",
      "Searching for \"Ring with three concentric dics\" by Craig Leon...\n"
     ]
    },
    {
     "name": "stderr",
     "output_type": "stream",
     "text": [
      " 95%|███████████████████████████████████████████████████████████████▌   | 1255/1322 [57:50<02:42,  2.42s/it]"
     ]
    },
    {
     "name": "stdout",
     "output_type": "stream",
     "text": [
      "No results found for: 'Ring with three concentric dics Craig Leon'\n",
      "Ring with three concentric dics Craig Leon Not present in Genius\n",
      "Searching for \"Moral Tem Hora\" by Cristina Camargo...\n"
     ]
    },
    {
     "name": "stderr",
     "output_type": "stream",
     "text": [
      " 95%|███████████████████████████████████████████████████████████████▋   | 1256/1322 [57:53<02:45,  2.51s/it]"
     ]
    },
    {
     "name": "stdout",
     "output_type": "stream",
     "text": [
      "Done.\n",
      "Searching for \"Indian Stomp\" by Cyrus...\n"
     ]
    },
    {
     "name": "stderr",
     "output_type": "stream",
     "text": [
      " 95%|███████████████████████████████████████████████████████████████▋   | 1257/1322 [57:54<02:13,  2.05s/it]"
     ]
    },
    {
     "name": "stdout",
     "output_type": "stream",
     "text": [
      "Done.\n",
      "Searching for \"Downtown World Pt. 3\" by Damon Wild...\n"
     ]
    },
    {
     "name": "stderr",
     "output_type": "stream",
     "text": [
      " 95%|███████████████████████████████████████████████████████████████▊   | 1258/1322 [57:59<03:10,  2.97s/it]"
     ]
    },
    {
     "name": "stdout",
     "output_type": "stream",
     "text": [
      "Done.\n",
      "Searching for \"Now Is The Time For Love Pt 1\" by Darrow Fletcher...\n",
      "No results found for: 'Now Is The Time For Love Pt 1 Darrow Fletcher'\n",
      "Searching for \"Now Is The Time For Love Pt 1\" by Darrow Fletcher...\n",
      "No results found for: 'Now Is The Time For Love Pt 1 Darrow Fletcher'\n",
      "Searching for \"Now Is The Time For Love Pt 1\" by Darrow Fletcher...\n",
      "No results found for: 'Now Is The Time For Love Pt 1 Darrow Fletcher'\n",
      "Searching for \"Now Is The Time For Love Pt 1\" by Darrow Fletcher...\n",
      "No results found for: 'Now Is The Time For Love Pt 1 Darrow Fletcher'\n",
      "Searching for \"Now Is The Time For Love Pt 1\" by Darrow Fletcher...\n"
     ]
    },
    {
     "name": "stderr",
     "output_type": "stream",
     "text": [
      " 95%|███████████████████████████████████████████████████████████████▊   | 1259/1322 [58:01<02:51,  2.72s/it]"
     ]
    },
    {
     "name": "stdout",
     "output_type": "stream",
     "text": [
      "No results found for: 'Now Is The Time For Love Pt 1 Darrow Fletcher'\n",
      "Now Is The Time For Love Pt 1 Darrow Fletcher Not present in Genius\n",
      "Searching for \"Ramtide\" by David Earle Johnson...\n",
      "No results found for: 'Ramtide David Earle Johnson'\n",
      "Searching for \"Ramtide\" by David Earle Johnson...\n",
      "No results found for: 'Ramtide David Earle Johnson'\n",
      "Searching for \"Ramtide\" by David Earle Johnson...\n",
      "No results found for: 'Ramtide David Earle Johnson'\n",
      "Searching for \"Ramtide\" by David Earle Johnson...\n",
      "No results found for: 'Ramtide David Earle Johnson'\n",
      "Searching for \"Ramtide\" by David Earle Johnson...\n"
     ]
    },
    {
     "name": "stderr",
     "output_type": "stream",
     "text": [
      " 95%|███████████████████████████████████████████████████████████████▊   | 1260/1322 [58:03<02:32,  2.46s/it]"
     ]
    },
    {
     "name": "stdout",
     "output_type": "stream",
     "text": [
      "No results found for: 'Ramtide David Earle Johnson'\n",
      "Ramtide David Earle Johnson Not present in Genius\n",
      "Searching for \"Sea, Sand and Sun\" by David Earle Johnson...\n"
     ]
    },
    {
     "name": "stderr",
     "output_type": "stream",
     "text": [
      " 95%|███████████████████████████████████████████████████████████████▉   | 1261/1322 [58:07<02:50,  2.79s/it]"
     ]
    },
    {
     "name": "stdout",
     "output_type": "stream",
     "text": [
      "Done.\n",
      "Searching for \"Houiou Djin Nan Zon Aklumon\" by Discafric Band...\n",
      "No results found for: 'Houiou Djin Nan Zon Aklumon Discafric Band'\n",
      "Searching for \"Houiou Djin Nan Zon Aklumon\" by Discafric Band...\n",
      "No results found for: 'Houiou Djin Nan Zon Aklumon Discafric Band'\n",
      "Searching for \"Houiou Djin Nan Zon Aklumon\" by Discafric Band...\n",
      "No results found for: 'Houiou Djin Nan Zon Aklumon Discafric Band'\n",
      "Searching for \"Houiou Djin Nan Zon Aklumon\" by Discafric Band...\n",
      "No results found for: 'Houiou Djin Nan Zon Aklumon Discafric Band'\n",
      "Searching for \"Houiou Djin Nan Zon Aklumon\" by Discafric Band...\n"
     ]
    },
    {
     "name": "stderr",
     "output_type": "stream",
     "text": [
      " 95%|███████████████████████████████████████████████████████████████▉   | 1262/1322 [58:09<02:36,  2.60s/it]"
     ]
    },
    {
     "name": "stdout",
     "output_type": "stream",
     "text": [
      "No results found for: 'Houiou Djin Nan Zon Aklumon Discafric Band'\n",
      "Houiou Djin Nan Zon Aklumon Discafric Band Not present in Genius\n",
      "Searching for \"2 B Free\" by DJ Deeon...\n"
     ]
    },
    {
     "name": "stderr",
     "output_type": "stream",
     "text": [
      " 96%|████████████████████████████████████████████████████████████████   | 1263/1322 [58:11<02:33,  2.60s/it]"
     ]
    },
    {
     "name": "stdout",
     "output_type": "stream",
     "text": [
      "Done.\n",
      "Searching for \"Watermark\" by DjRUM...\n"
     ]
    },
    {
     "name": "stderr",
     "output_type": "stream",
     "text": [
      " 96%|████████████████████████████████████████████████████████████████   | 1264/1322 [58:14<02:25,  2.51s/it]"
     ]
    },
    {
     "name": "stdout",
     "output_type": "stream",
     "text": [
      "Done.\n",
      "Searching for \"Barumba\" by Dom Salvador...\n",
      "No results found for: 'Barumba Dom Salvador'\n",
      "Searching for \"Barumba\" by Dom Salvador...\n",
      "No results found for: 'Barumba Dom Salvador'\n",
      "Searching for \"Barumba\" by Dom Salvador...\n",
      "No results found for: 'Barumba Dom Salvador'\n",
      "Searching for \"Barumba\" by Dom Salvador...\n",
      "No results found for: 'Barumba Dom Salvador'\n",
      "Searching for \"Barumba\" by Dom Salvador...\n"
     ]
    },
    {
     "name": "stderr",
     "output_type": "stream",
     "text": [
      " 96%|████████████████████████████████████████████████████████████████   | 1265/1322 [58:16<02:11,  2.30s/it]"
     ]
    },
    {
     "name": "stdout",
     "output_type": "stream",
     "text": [
      "No results found for: 'Barumba Dom Salvador'\n",
      "Barumba Dom Salvador Not present in Genius\n",
      "Searching for \"La Maison Des 5 Éléments\" by Dominique Lawalrée...\n",
      "No results found for: 'La Maison Des 5 Éléments Dominique Lawalrée'\n",
      "Searching for \"La Maison Des 5 Éléments\" by Dominique Lawalrée...\n",
      "No results found for: 'La Maison Des 5 Éléments Dominique Lawalrée'\n",
      "Searching for \"La Maison Des 5 Éléments\" by Dominique Lawalrée...\n",
      "No results found for: 'La Maison Des 5 Éléments Dominique Lawalrée'\n",
      "Searching for \"La Maison Des 5 Éléments\" by Dominique Lawalrée...\n",
      "No results found for: 'La Maison Des 5 Éléments Dominique Lawalrée'\n",
      "Searching for \"La Maison Des 5 Éléments\" by Dominique Lawalrée...\n"
     ]
    },
    {
     "name": "stderr",
     "output_type": "stream",
     "text": [
      " 96%|████████████████████████████████████████████████████████████████▏  | 1266/1322 [58:18<02:06,  2.25s/it]"
     ]
    },
    {
     "name": "stdout",
     "output_type": "stream",
     "text": [
      "No results found for: 'La Maison Des 5 Éléments Dominique Lawalrée'\n",
      "La Maison Des 5 Éléments Dominique Lawalrée Not present in Genius\n",
      "Searching for \"Play It Slow\" by Donald Eckert...\n",
      "Searching for \"Play It Slow\" by Donald Eckert...\n"
     ]
    },
    {
     "name": "stderr",
     "output_type": "stream",
     "text": [
      " 96%|████████████████████████████████████████████████████████████████▏  | 1267/1322 [58:25<03:30,  3.82s/it]"
     ]
    },
    {
     "name": "stdout",
     "output_type": "stream",
     "text": [
      "Done.\n",
      "Searching for \"Maita\" by Doris Monteiro...\n"
     ]
    },
    {
     "name": "stderr",
     "output_type": "stream",
     "text": [
      " 96%|████████████████████████████████████████████████████████████████▎  | 1268/1322 [58:28<03:11,  3.54s/it]"
     ]
    },
    {
     "name": "stdout",
     "output_type": "stream",
     "text": [
      "Done.\n",
      "Searching for \"Kangrima\" by Duo Ouro Negro...\n",
      "No results found for: 'Kangrima Duo Ouro Negro'\n",
      "Searching for \"Kangrima\" by Duo Ouro Negro...\n",
      "No results found for: 'Kangrima Duo Ouro Negro'\n",
      "Searching for \"Kangrima\" by Duo Ouro Negro...\n",
      "No results found for: 'Kangrima Duo Ouro Negro'\n",
      "Searching for \"Kangrima\" by Duo Ouro Negro...\n",
      "No results found for: 'Kangrima Duo Ouro Negro'\n",
      "Searching for \"Kangrima\" by Duo Ouro Negro...\n"
     ]
    },
    {
     "name": "stderr",
     "output_type": "stream",
     "text": [
      " 96%|████████████████████████████████████████████████████████████████▎  | 1269/1322 [58:30<02:39,  3.01s/it]"
     ]
    },
    {
     "name": "stdout",
     "output_type": "stream",
     "text": [
      "No results found for: 'Kangrima Duo Ouro Negro'\n",
      "Kangrima Duo Ouro Negro Not present in Genius\n",
      "Searching for \"Lullaby 4 Nina\" by The Durutti Column...\n",
      "No results found for: 'Lullaby 4 Nina The Durutti Column'\n",
      "Searching for \"Lullaby 4 Nina\" by The Durutti Column...\n",
      "No results found for: 'Lullaby 4 Nina The Durutti Column'\n",
      "Searching for \"Lullaby 4 Nina\" by The Durutti Column...\n",
      "No results found for: 'Lullaby 4 Nina The Durutti Column'\n",
      "Searching for \"Lullaby 4 Nina\" by The Durutti Column...\n",
      "No results found for: 'Lullaby 4 Nina The Durutti Column'\n",
      "Searching for \"Lullaby 4 Nina\" by The Durutti Column...\n"
     ]
    },
    {
     "name": "stderr",
     "output_type": "stream",
     "text": [
      " 96%|████████████████████████████████████████████████████████████████▎  | 1270/1322 [58:32<02:21,  2.71s/it]"
     ]
    },
    {
     "name": "stdout",
     "output_type": "stream",
     "text": [
      "No results found for: 'Lullaby 4 Nina The Durutti Column'\n",
      "Lullaby 4 Nina The Durutti Column Not present in Genius\n",
      "Searching for \"Chromatickles\" by Eddie Warner...\n",
      "No results found for: 'Chromatickles Eddie Warner'\n",
      "Searching for \"Chromatickles\" by Eddie Warner...\n",
      "No results found for: 'Chromatickles Eddie Warner'\n",
      "Searching for \"Chromatickles\" by Eddie Warner...\n",
      "No results found for: 'Chromatickles Eddie Warner'\n",
      "Searching for \"Chromatickles\" by Eddie Warner...\n",
      "No results found for: 'Chromatickles Eddie Warner'\n",
      "Searching for \"Chromatickles\" by Eddie Warner...\n"
     ]
    },
    {
     "name": "stderr",
     "output_type": "stream",
     "text": [
      " 96%|████████████████████████████████████████████████████████████████▍  | 1271/1322 [58:34<02:03,  2.42s/it]"
     ]
    },
    {
     "name": "stdout",
     "output_type": "stream",
     "text": [
      "No results found for: 'Chromatickles Eddie Warner'\n",
      "Chromatickles Eddie Warner Not present in Genius\n",
      "Searching for \"Your Destiny\" by The Edge Of Daybreak...\n"
     ]
    },
    {
     "name": "stderr",
     "output_type": "stream",
     "text": [
      " 96%|████████████████████████████████████████████████████████████████▍  | 1272/1322 [58:36<01:59,  2.40s/it]"
     ]
    },
    {
     "name": "stdout",
     "output_type": "stream",
     "text": [
      "Done.\n",
      "Searching for \"BELLS\" by Eero Koivistoinen Music Society...\n",
      "No results found for: 'BELLS Eero Koivistoinen Music Society'\n",
      "Searching for \"BELLS\" by Eero Koivistoinen Music Society...\n",
      "No results found for: 'BELLS Eero Koivistoinen Music Society'\n",
      "Searching for \"BELLS\" by Eero Koivistoinen Music Society...\n",
      "No results found for: 'BELLS Eero Koivistoinen Music Society'\n",
      "Searching for \"BELLS\" by Eero Koivistoinen Music Society...\n",
      "No results found for: 'BELLS Eero Koivistoinen Music Society'\n",
      "Searching for \"BELLS\" by Eero Koivistoinen Music Society...\n"
     ]
    },
    {
     "name": "stderr",
     "output_type": "stream",
     "text": [
      " 96%|████████████████████████████████████████████████████████████████▌  | 1273/1322 [58:38<01:48,  2.21s/it]"
     ]
    },
    {
     "name": "stdout",
     "output_type": "stream",
     "text": [
      "No results found for: 'BELLS Eero Koivistoinen Music Society'\n",
      "BELLS Eero Koivistoinen Music Society Not present in Genius\n",
      "Searching for \"Plays John Cassavetes 2\" by Ekkehard Ehlers...\n",
      "Specified song does not contain lyrics. Rejecting.\n",
      "Searching for \"Plays John Cassavetes 2\" by Ekkehard Ehlers...\n",
      "Specified song does not contain lyrics. Rejecting.\n",
      "Searching for \"Plays John Cassavetes 2\" by Ekkehard Ehlers...\n",
      "Specified song does not contain lyrics. Rejecting.\n",
      "Searching for \"Plays John Cassavetes 2\" by Ekkehard Ehlers...\n",
      "Specified song does not contain lyrics. Rejecting.\n",
      "Searching for \"Plays John Cassavetes 2\" by Ekkehard Ehlers...\n"
     ]
    },
    {
     "name": "stderr",
     "output_type": "stream",
     "text": [
      " 96%|████████████████████████████████████████████████████████████████▌  | 1274/1322 [58:40<01:41,  2.12s/it]"
     ]
    },
    {
     "name": "stdout",
     "output_type": "stream",
     "text": [
      "Specified song does not contain lyrics. Rejecting.\n",
      "Plays John Cassavetes 2 Ekkehard Ehlers Not present in Genius\n",
      "Searching for \"Makondi\" by Emanative...\n",
      "No results found for: 'Makondi Emanative'\n",
      "Searching for \"Makondi\" by Emanative...\n",
      "No results found for: 'Makondi Emanative'\n",
      "Searching for \"Makondi\" by Emanative...\n",
      "No results found for: 'Makondi Emanative'\n",
      "Searching for \"Makondi\" by Emanative...\n",
      "No results found for: 'Makondi Emanative'\n",
      "Searching for \"Makondi\" by Emanative...\n"
     ]
    },
    {
     "name": "stderr",
     "output_type": "stream",
     "text": [
      " 96%|████████████████████████████████████████████████████████████████▌  | 1275/1322 [58:41<01:34,  2.00s/it]"
     ]
    },
    {
     "name": "stdout",
     "output_type": "stream",
     "text": [
      "No results found for: 'Makondi Emanative'\n",
      "Makondi Emanative Not present in Genius\n",
      "Searching for \"Walls\" by Embryo Infinity Rebirth...\n"
     ]
    },
    {
     "name": "stderr",
     "output_type": "stream",
     "text": [
      " 97%|████████████████████████████████████████████████████████████████▋  | 1276/1322 [58:44<01:41,  2.21s/it]"
     ]
    },
    {
     "name": "stdout",
     "output_type": "stream",
     "text": [
      "Done.\n",
      "Searching for \"Flight Of The Raven\" by Emerald Web...\n"
     ]
    },
    {
     "name": "stderr",
     "output_type": "stream",
     "text": [
      " 97%|████████████████████████████████████████████████████████████████▋  | 1277/1322 [58:48<02:04,  2.78s/it]"
     ]
    },
    {
     "name": "stdout",
     "output_type": "stream",
     "text": [
      "Done.\n",
      "Searching for \"Euphoric Bells\" by Entourage Music and Theatre Ensemble...\n"
     ]
    },
    {
     "name": "stderr",
     "output_type": "stream",
     "text": [
      " 97%|████████████████████████████████████████████████████████████████▊  | 1278/1322 [58:52<02:22,  3.24s/it]"
     ]
    },
    {
     "name": "stdout",
     "output_type": "stream",
     "text": [
      "Done.\n",
      "Searching for \"Equalized #111 01\" by EQD...\n",
      "No results found for: 'Equalized #111 01 EQD'\n",
      "Searching for \"Equalized #111 01\" by EQD...\n",
      "No results found for: 'Equalized #111 01 EQD'\n",
      "Searching for \"Equalized #111 01\" by EQD...\n",
      "No results found for: 'Equalized #111 01 EQD'\n",
      "Searching for \"Equalized #111 01\" by EQD...\n",
      "No results found for: 'Equalized #111 01 EQD'\n",
      "Searching for \"Equalized #111 01\" by EQD...\n"
     ]
    },
    {
     "name": "stderr",
     "output_type": "stream",
     "text": [
      " 97%|████████████████████████████████████████████████████████████████▊  | 1279/1322 [58:54<01:59,  2.79s/it]"
     ]
    },
    {
     "name": "stdout",
     "output_type": "stream",
     "text": [
      "No results found for: 'Equalized #111 01 EQD'\n",
      "Equalized #111 01 EQD Not present in Genius\n",
      "Searching for \"Ain't No Sunshine\" by The Equatics...\n"
     ]
    },
    {
     "name": "stderr",
     "output_type": "stream",
     "text": [
      " 97%|████████████████████████████████████████████████████████████████▊  | 1280/1322 [58:57<01:52,  2.68s/it]"
     ]
    },
    {
     "name": "stdout",
     "output_type": "stream",
     "text": [
      "Done.\n",
      "Searching for \"Love Come Down - 12\" Version\" by Evelyn \"Champagne\" King...\n"
     ]
    },
    {
     "name": "stderr",
     "output_type": "stream",
     "text": [
      " 97%|████████████████████████████████████████████████████████████████▉  | 1281/1322 [59:00<01:53,  2.77s/it]"
     ]
    },
    {
     "name": "stdout",
     "output_type": "stream",
     "text": [
      "Done.\n",
      "Searching for \"Esperar pra Ver\" by Evinha...\n"
     ]
    },
    {
     "name": "stderr",
     "output_type": "stream",
     "text": [
      " 97%|████████████████████████████████████████████████████████████████▉  | 1282/1322 [59:02<01:41,  2.54s/it]"
     ]
    },
    {
     "name": "stdout",
     "output_type": "stream",
     "text": [
      "Done.\n",
      "Searching for \"Rooms Between Us\" by Express Rising...\n"
     ]
    },
    {
     "name": "stderr",
     "output_type": "stream",
     "text": [
      " 97%|█████████████████████████████████████████████████████████████████  | 1283/1322 [59:06<01:58,  3.03s/it]"
     ]
    },
    {
     "name": "stdout",
     "output_type": "stream",
     "text": [
      "Done.\n",
      "Searching for \"Sister Brother\" by F. J. McMahon...\n"
     ]
    },
    {
     "name": "stderr",
     "output_type": "stream",
     "text": [
      " 97%|█████████████████████████████████████████████████████████████████  | 1284/1322 [59:11<02:18,  3.66s/it]"
     ]
    },
    {
     "name": "stdout",
     "output_type": "stream",
     "text": [
      "Done.\n",
      "Searching for \"Wicky Wacky\" by Fatback Band...\n",
      "No results found for: 'Wicky Wacky Fatback Band'\n",
      "Searching for \"Wicky Wacky\" by Fatback Band...\n",
      "No results found for: 'Wicky Wacky Fatback Band'\n",
      "Searching for \"Wicky Wacky\" by Fatback Band...\n",
      "No results found for: 'Wicky Wacky Fatback Band'\n",
      "Searching for \"Wicky Wacky\" by Fatback Band...\n",
      "No results found for: 'Wicky Wacky Fatback Band'\n",
      "Searching for \"Wicky Wacky\" by Fatback Band...\n"
     ]
    },
    {
     "name": "stderr",
     "output_type": "stream",
     "text": [
      " 97%|█████████████████████████████████████████████████████████████████  | 1285/1322 [59:13<01:54,  3.09s/it]"
     ]
    },
    {
     "name": "stdout",
     "output_type": "stream",
     "text": [
      "No results found for: 'Wicky Wacky Fatback Band'\n",
      "Wicky Wacky Fatback Band Not present in Genius\n",
      "Searching for \"Il n'y a pas de crocodiles a Cocody\" by Francis Bebey...\n",
      "No results found for: 'Il n'y a pas de crocodiles a Cocody Francis Bebey'\n",
      "Searching for \"Il n'y a pas de crocodiles a Cocody\" by Francis Bebey...\n",
      "No results found for: 'Il n'y a pas de crocodiles a Cocody Francis Bebey'\n",
      "Searching for \"Il n'y a pas de crocodiles a Cocody\" by Francis Bebey...\n",
      "No results found for: 'Il n'y a pas de crocodiles a Cocody Francis Bebey'\n",
      "Searching for \"Il n'y a pas de crocodiles a Cocody\" by Francis Bebey...\n",
      "No results found for: 'Il n'y a pas de crocodiles a Cocody Francis Bebey'\n",
      "Searching for \"Il n'y a pas de crocodiles a Cocody\" by Francis Bebey...\n"
     ]
    },
    {
     "name": "stderr",
     "output_type": "stream",
     "text": [
      " 97%|█████████████████████████████████████████████████████████████████▏ | 1286/1322 [59:14<01:37,  2.70s/it]"
     ]
    },
    {
     "name": "stdout",
     "output_type": "stream",
     "text": [
      "No results found for: 'Il n'y a pas de crocodiles a Cocody Francis Bebey'\n",
      "Il n'y a pas de crocodiles a Cocody Francis Bebey Not present in Genius\n",
      "Searching for \"Nikes\" by Frank Ocean...\n"
     ]
    },
    {
     "name": "stderr",
     "output_type": "stream",
     "text": [
      " 97%|█████████████████████████████████████████████████████████████████▏ | 1287/1322 [59:17<01:34,  2.69s/it]"
     ]
    },
    {
     "name": "stdout",
     "output_type": "stream",
     "text": [
      "Done.\n",
      "Searching for \"Pink + White\" by Frank Ocean...\n"
     ]
    },
    {
     "name": "stderr",
     "output_type": "stream",
     "text": [
      " 97%|█████████████████████████████████████████████████████████████████▎ | 1288/1322 [59:19<01:22,  2.42s/it]"
     ]
    },
    {
     "name": "stdout",
     "output_type": "stream",
     "text": [
      "Done.\n",
      "Searching for \"We’ve Gotta Find A Way Back to Love\" by Freda Payne...\n"
     ]
    },
    {
     "name": "stderr",
     "output_type": "stream",
     "text": [
      " 98%|█████████████████████████████████████████████████████████████████▎ | 1289/1322 [59:23<01:35,  2.91s/it]"
     ]
    },
    {
     "name": "stdout",
     "output_type": "stream",
     "text": [
      "Done.\n",
      "Searching for \"Open Up\" by Frédéric Castel...\n"
     ]
    },
    {
     "name": "stderr",
     "output_type": "stream",
     "text": [
      " 98%|█████████████████████████████████████████████████████████████████▍ | 1290/1322 [59:25<01:29,  2.79s/it]"
     ]
    },
    {
     "name": "stdout",
     "output_type": "stream",
     "text": [
      "Done.\n",
      "Searching for \"Mask Off\" by Future...\n",
      "Searching for \"Mask Off\" by Future...\n"
     ]
    },
    {
     "name": "stderr",
     "output_type": "stream",
     "text": [
      " 98%|█████████████████████████████████████████████████████████████████▍ | 1291/1322 [59:33<02:07,  4.12s/it]"
     ]
    },
    {
     "name": "stdout",
     "output_type": "stream",
     "text": [
      "Done.\n",
      "Searching for \"You're What's Missing In My Life\" by G.C. Cameron...\n",
      "No results found for: 'You're What's Missing In My Life G.C. Cameron'\n",
      "Searching for \"You're What's Missing In My Life\" by G.C. Cameron...\n",
      "No results found for: 'You're What's Missing In My Life G.C. Cameron'\n",
      "Searching for \"You're What's Missing In My Life\" by G.C. Cameron...\n",
      "No results found for: 'You're What's Missing In My Life G.C. Cameron'\n",
      "Searching for \"You're What's Missing In My Life\" by G.C. Cameron...\n",
      "No results found for: 'You're What's Missing In My Life G.C. Cameron'\n",
      "Searching for \"You're What's Missing In My Life\" by G.C. Cameron...\n"
     ]
    },
    {
     "name": "stderr",
     "output_type": "stream",
     "text": [
      " 98%|█████████████████████████████████████████████████████████████████▍ | 1292/1322 [59:34<01:42,  3.41s/it]"
     ]
    },
    {
     "name": "stdout",
     "output_type": "stream",
     "text": [
      "No results found for: 'You're What's Missing In My Life G.C. Cameron'\n",
      "You're What's Missing In My Life G.C. Cameron Not present in Genius\n",
      "Searching for \"Loser\" by George Smallwood...\n"
     ]
    },
    {
     "name": "stderr",
     "output_type": "stream",
     "text": [
      " 98%|█████████████████████████████████████████████████████████████████▌ | 1293/1322 [59:37<01:34,  3.27s/it]"
     ]
    },
    {
     "name": "stdout",
     "output_type": "stream",
     "text": [
      "Done.\n",
      "Searching for \"Hey Mama\" by George Smallwood...\n"
     ]
    },
    {
     "name": "stderr",
     "output_type": "stream",
     "text": [
      " 98%|█████████████████████████████████████████████████████████████████▌ | 1294/1322 [59:39<01:17,  2.77s/it]"
     ]
    },
    {
     "name": "stdout",
     "output_type": "stream",
     "text": [
      "Done.\n",
      "Searching for \"Love Is How You Make It - 2015 Remaster\" by Gong...\n"
     ]
    },
    {
     "name": "stderr",
     "output_type": "stream",
     "text": [
      " 98%|█████████████████████████████████████████████████████████████████▋ | 1295/1322 [59:43<01:24,  3.14s/it]"
     ]
    },
    {
     "name": "stdout",
     "output_type": "stream",
     "text": [
      "Done.\n",
      "Searching for \"It's Like That\" by G.Q....\n"
     ]
    },
    {
     "name": "stderr",
     "output_type": "stream",
     "text": [
      " 98%|█████████████████████████████████████████████████████████████████▋ | 1296/1322 [59:44<01:09,  2.66s/it]"
     ]
    },
    {
     "name": "stdout",
     "output_type": "stream",
     "text": [
      "Done.\n",
      "Searching for \"Lies\" by G.Q....\n"
     ]
    },
    {
     "name": "stderr",
     "output_type": "stream",
     "text": [
      " 98%|█████████████████████████████████████████████████████████████████▋ | 1297/1322 [59:48<01:13,  2.96s/it]"
     ]
    },
    {
     "name": "stdout",
     "output_type": "stream",
     "text": [
      "Done.\n",
      "Searching for \"Ali New Biye\" by Hanna Mekonnen...\n",
      "No results found for: 'Ali New Biye Hanna Mekonnen'\n",
      "Searching for \"Ali New Biye\" by Hanna Mekonnen...\n",
      "No results found for: 'Ali New Biye Hanna Mekonnen'\n",
      "Searching for \"Ali New Biye\" by Hanna Mekonnen...\n",
      "No results found for: 'Ali New Biye Hanna Mekonnen'\n",
      "Searching for \"Ali New Biye\" by Hanna Mekonnen...\n",
      "No results found for: 'Ali New Biye Hanna Mekonnen'\n",
      "Searching for \"Ali New Biye\" by Hanna Mekonnen...\n"
     ]
    },
    {
     "name": "stderr",
     "output_type": "stream",
     "text": [
      " 98%|█████████████████████████████████████████████████████████████████▊ | 1298/1322 [59:50<01:01,  2.58s/it]"
     ]
    },
    {
     "name": "stdout",
     "output_type": "stream",
     "text": [
      "No results found for: 'Ali New Biye Hanna Mekonnen'\n",
      "Ali New Biye Hanna Mekonnen Not present in Genius\n",
      "Searching for \"Moved (Ricardo Villalobos Remix)\" by Heiko Laux...\n",
      "No results found for: 'Moved (Ricardo Villalobos Remix) Heiko Laux'\n",
      "Searching for \"Moved (Ricardo Villalobos Remix)\" by Heiko Laux...\n",
      "No results found for: 'Moved (Ricardo Villalobos Remix) Heiko Laux'\n",
      "Searching for \"Moved (Ricardo Villalobos Remix)\" by Heiko Laux...\n",
      "No results found for: 'Moved (Ricardo Villalobos Remix) Heiko Laux'\n",
      "Searching for \"Moved (Ricardo Villalobos Remix)\" by Heiko Laux...\n",
      "No results found for: 'Moved (Ricardo Villalobos Remix) Heiko Laux'\n",
      "Searching for \"Moved (Ricardo Villalobos Remix)\" by Heiko Laux...\n"
     ]
    },
    {
     "name": "stderr",
     "output_type": "stream",
     "text": [
      " 98%|█████████████████████████████████████████████████████████████████▊ | 1299/1322 [59:52<00:53,  2.32s/it]"
     ]
    },
    {
     "name": "stdout",
     "output_type": "stream",
     "text": [
      "No results found for: 'Moved (Ricardo Villalobos Remix) Heiko Laux'\n",
      "Moved (Ricardo Villalobos Remix) Heiko Laux Not present in Genius\n",
      "Searching for \"Rock, Spank, Freak - Club 12\" Mix\" by High Voltage...\n",
      "No results found for: 'Rock, Spank, Freak - Club 12\" Mix High Voltage'\n",
      "Searching for \"Rock, Spank, Freak - Club 12\" Mix\" by High Voltage...\n",
      "No results found for: 'Rock, Spank, Freak - Club 12\" Mix High Voltage'\n",
      "Searching for \"Rock, Spank, Freak - Club 12\" Mix\" by High Voltage...\n",
      "No results found for: 'Rock, Spank, Freak - Club 12\" Mix High Voltage'\n",
      "Searching for \"Rock, Spank, Freak - Club 12\" Mix\" by High Voltage...\n",
      "No results found for: 'Rock, Spank, Freak - Club 12\" Mix High Voltage'\n",
      "Searching for \"Rock, Spank, Freak - Club 12\" Mix\" by High Voltage...\n"
     ]
    },
    {
     "name": "stderr",
     "output_type": "stream",
     "text": [
      " 98%|█████████████████████████████████████████████████████████████████▉ | 1300/1322 [59:53<00:46,  2.13s/it]"
     ]
    },
    {
     "name": "stdout",
     "output_type": "stream",
     "text": [
      "No results found for: 'Rock, Spank, Freak - Club 12\" Mix High Voltage'\n",
      "Rock, Spank, Freak - Club 12\" Mix High Voltage Not present in Genius\n",
      "Searching for \"Heavy Train\" by James Asher...\n"
     ]
    },
    {
     "name": "stderr",
     "output_type": "stream",
     "text": [
      " 98%|█████████████████████████████████████████████████████████████████▉ | 1301/1322 [59:57<00:54,  2.60s/it]"
     ]
    },
    {
     "name": "stdout",
     "output_type": "stream",
     "text": [
      "Done.\n",
      "Searching for \"Oedipus Orca - Theme From \"Oedipus Orca\"\" by James Dashow...\n",
      "No results found for: 'Oedipus Orca - Theme From \"Oedipus Orca\" James Dashow'\n",
      "Searching for \"Oedipus Orca - Theme From \"Oedipus Orca\"\" by James Dashow...\n",
      "No results found for: 'Oedipus Orca - Theme From \"Oedipus Orca\" James Dashow'\n",
      "Searching for \"Oedipus Orca - Theme From \"Oedipus Orca\"\" by James Dashow...\n",
      "No results found for: 'Oedipus Orca - Theme From \"Oedipus Orca\" James Dashow'\n",
      "Searching for \"Oedipus Orca - Theme From \"Oedipus Orca\"\" by James Dashow...\n",
      "No results found for: 'Oedipus Orca - Theme From \"Oedipus Orca\" James Dashow'\n",
      "Searching for \"Oedipus Orca - Theme From \"Oedipus Orca\"\" by James Dashow...\n"
     ]
    },
    {
     "name": "stderr",
     "output_type": "stream",
     "text": [
      " 98%|█████████████████████████████████████████████████████████████████▉ | 1302/1322 [59:59<00:46,  2.34s/it]"
     ]
    },
    {
     "name": "stdout",
     "output_type": "stream",
     "text": [
      "No results found for: 'Oedipus Orca - Theme From \"Oedipus Orca\" James Dashow'\n",
      "Oedipus Orca - Theme From \"Oedipus Orca\" James Dashow Not present in Genius\n",
      "Searching for \"Voodoo Tronics\" by James Harpham...\n",
      "No results found for: 'Voodoo Tronics James Harpham'\n",
      "Searching for \"Voodoo Tronics\" by James Harpham...\n",
      "No results found for: 'Voodoo Tronics James Harpham'\n",
      "Searching for \"Voodoo Tronics\" by James Harpham...\n",
      "No results found for: 'Voodoo Tronics James Harpham'\n",
      "Searching for \"Voodoo Tronics\" by James Harpham...\n",
      "No results found for: 'Voodoo Tronics James Harpham'\n",
      "Searching for \"Voodoo Tronics\" by James Harpham...\n"
     ]
    },
    {
     "name": "stderr",
     "output_type": "stream",
     "text": [
      " 99%|████████████████████████████████████████████████████████████████ | 1303/1322 [1:00:01<00:42,  2.22s/it]"
     ]
    },
    {
     "name": "stdout",
     "output_type": "stream",
     "text": [
      "No results found for: 'Voodoo Tronics James Harpham'\n",
      "Voodoo Tronics James Harpham Not present in Genius\n",
      "Searching for \"Alleluia\" by James Tatum...\n"
     ]
    },
    {
     "name": "stderr",
     "output_type": "stream",
     "text": [
      " 99%|████████████████████████████████████████████████████████████████ | 1304/1322 [1:00:03<00:39,  2.20s/it]"
     ]
    },
    {
     "name": "stdout",
     "output_type": "stream",
     "text": [
      "Done.\n",
      "Searching for \"Lord Have Mercy\" by James Tatum...\n"
     ]
    },
    {
     "name": "stderr",
     "output_type": "stream",
     "text": [
      " 99%|████████████████████████████████████████████████████████████████▏| 1305/1322 [1:00:05<00:37,  2.21s/it]"
     ]
    },
    {
     "name": "stdout",
     "output_type": "stream",
     "text": [
      "Done.\n",
      "Searching for \"Xale (with Mbene Diatta Seck)\" by Jeri-Jeri...\n",
      "No results found for: 'Xale (with Mbene Diatta Seck) Jeri-Jeri'\n",
      "Searching for \"Xale (with Mbene Diatta Seck)\" by Jeri-Jeri...\n",
      "No results found for: 'Xale (with Mbene Diatta Seck) Jeri-Jeri'\n",
      "Searching for \"Xale (with Mbene Diatta Seck)\" by Jeri-Jeri...\n",
      "No results found for: 'Xale (with Mbene Diatta Seck) Jeri-Jeri'\n",
      "Searching for \"Xale (with Mbene Diatta Seck)\" by Jeri-Jeri...\n",
      "No results found for: 'Xale (with Mbene Diatta Seck) Jeri-Jeri'\n",
      "Searching for \"Xale (with Mbene Diatta Seck)\" by Jeri-Jeri...\n"
     ]
    },
    {
     "name": "stderr",
     "output_type": "stream",
     "text": [
      " 99%|████████████████████████████████████████████████████████████████▏| 1306/1322 [1:00:08<00:40,  2.55s/it]"
     ]
    },
    {
     "name": "stdout",
     "output_type": "stream",
     "text": [
      "No results found for: 'Xale (with Mbene Diatta Seck) Jeri-Jeri'\n",
      "Xale (with Mbene Diatta Seck) Jeri-Jeri Not present in Genius\n",
      "Searching for \"It Means I Love You\" by Jessy Lanza...\n"
     ]
    },
    {
     "name": "stderr",
     "output_type": "stream",
     "text": [
      " 99%|████████████████████████████████████████████████████████████████▎| 1307/1322 [1:00:11<00:38,  2.59s/it]"
     ]
    },
    {
     "name": "stdout",
     "output_type": "stream",
     "text": [
      "Done.\n",
      "Searching for \"The Harvest\" by Joe Zawinul...\n",
      "No results found for: 'The Harvest Joe Zawinul'\n",
      "Searching for \"The Harvest\" by Joe Zawinul...\n",
      "No results found for: 'The Harvest Joe Zawinul'\n",
      "Searching for \"The Harvest\" by Joe Zawinul...\n",
      "No results found for: 'The Harvest Joe Zawinul'\n",
      "Searching for \"The Harvest\" by Joe Zawinul...\n",
      "No results found for: 'The Harvest Joe Zawinul'\n",
      "Searching for \"The Harvest\" by Joe Zawinul...\n"
     ]
    },
    {
     "name": "stderr",
     "output_type": "stream",
     "text": [
      " 99%|████████████████████████████████████████████████████████████████▎| 1308/1322 [1:00:13<00:32,  2.34s/it]"
     ]
    },
    {
     "name": "stdout",
     "output_type": "stream",
     "text": [
      "No results found for: 'The Harvest Joe Zawinul'\n",
      "The Harvest Joe Zawinul Not present in Genius\n",
      "Searching for \"Nilotic Sounds\" by Joel Vandroogenbroeck...\n",
      "No results found for: 'Nilotic Sounds Joel Vandroogenbroeck'\n",
      "Searching for \"Nilotic Sounds\" by Joel Vandroogenbroeck...\n",
      "No results found for: 'Nilotic Sounds Joel Vandroogenbroeck'\n",
      "Searching for \"Nilotic Sounds\" by Joel Vandroogenbroeck...\n",
      "No results found for: 'Nilotic Sounds Joel Vandroogenbroeck'\n",
      "Searching for \"Nilotic Sounds\" by Joel Vandroogenbroeck...\n",
      "No results found for: 'Nilotic Sounds Joel Vandroogenbroeck'\n",
      "Searching for \"Nilotic Sounds\" by Joel Vandroogenbroeck...\n"
     ]
    },
    {
     "name": "stderr",
     "output_type": "stream",
     "text": [
      " 99%|████████████████████████████████████████████████████████████████▎| 1309/1322 [1:00:14<00:27,  2.15s/it]"
     ]
    },
    {
     "name": "stdout",
     "output_type": "stream",
     "text": [
      "No results found for: 'Nilotic Sounds Joel Vandroogenbroeck'\n",
      "Nilotic Sounds Joel Vandroogenbroeck Not present in Genius\n",
      "Searching for \"Alone Again\" by Jorge Darden...\n"
     ]
    },
    {
     "name": "stderr",
     "output_type": "stream",
     "text": [
      " 99%|████████████████████████████████████████████████████████████████▍| 1310/1322 [1:00:16<00:24,  2.01s/it]"
     ]
    },
    {
     "name": "stdout",
     "output_type": "stream",
     "text": [
      "Done.\n",
      "Searching for \"Aytche\" by Joseph Shabason...\n",
      "Specified song does not contain lyrics. Rejecting.\n",
      "Searching for \"Aytche\" by Joseph Shabason...\n",
      "Specified song does not contain lyrics. Rejecting.\n",
      "Searching for \"Aytche\" by Joseph Shabason...\n",
      "Specified song does not contain lyrics. Rejecting.\n",
      "Searching for \"Aytche\" by Joseph Shabason...\n",
      "Specified song does not contain lyrics. Rejecting.\n",
      "Searching for \"Aytche\" by Joseph Shabason...\n"
     ]
    },
    {
     "name": "stderr",
     "output_type": "stream",
     "text": [
      " 99%|████████████████████████████████████████████████████████████████▍| 1311/1322 [1:00:19<00:23,  2.17s/it]"
     ]
    },
    {
     "name": "stdout",
     "output_type": "stream",
     "text": [
      "Specified song does not contain lyrics. Rejecting.\n",
      "Aytche Joseph Shabason Not present in Genius\n",
      "Searching for \"Remember When - Original Mix\" by K-Hand...\n"
     ]
    },
    {
     "name": "stderr",
     "output_type": "stream",
     "text": [
      " 99%|████████████████████████████████████████████████████████████████▌| 1312/1322 [1:00:22<00:24,  2.43s/it]"
     ]
    },
    {
     "name": "stdout",
     "output_type": "stream",
     "text": [
      "Done.\n",
      "Searching for \"Indaba Kabani\" by Kamazu...\n"
     ]
    },
    {
     "name": "stderr",
     "output_type": "stream",
     "text": [
      " 99%|████████████████████████████████████████████████████████████████▌| 1313/1322 [1:00:24<00:22,  2.52s/it]"
     ]
    },
    {
     "name": "stdout",
     "output_type": "stream",
     "text": [
      "Done.\n",
      "Searching for \"Mobereya\" by Kante Manfila...\n",
      "No results found for: 'Mobereya Kante Manfila'\n",
      "Searching for \"Mobereya\" by Kante Manfila...\n",
      "No results found for: 'Mobereya Kante Manfila'\n",
      "Searching for \"Mobereya\" by Kante Manfila...\n",
      "No results found for: 'Mobereya Kante Manfila'\n",
      "Searching for \"Mobereya\" by Kante Manfila...\n",
      "No results found for: 'Mobereya Kante Manfila'\n",
      "Searching for \"Mobereya\" by Kante Manfila...\n"
     ]
    },
    {
     "name": "stderr",
     "output_type": "stream",
     "text": [
      " 99%|████████████████████████████████████████████████████████████████▌| 1314/1322 [1:00:26<00:18,  2.28s/it]"
     ]
    },
    {
     "name": "stdout",
     "output_type": "stream",
     "text": [
      "No results found for: 'Mobereya Kante Manfila'\n",
      "Mobereya Kante Manfila Not present in Genius\n",
      "Searching for \"Flickering Debris\" by Lanark Artefax...\n",
      "No results found for: 'Flickering Debris Lanark Artefax'\n",
      "Searching for \"Flickering Debris\" by Lanark Artefax...\n",
      "No results found for: 'Flickering Debris Lanark Artefax'\n",
      "Searching for \"Flickering Debris\" by Lanark Artefax...\n",
      "No results found for: 'Flickering Debris Lanark Artefax'\n",
      "Searching for \"Flickering Debris\" by Lanark Artefax...\n",
      "No results found for: 'Flickering Debris Lanark Artefax'\n",
      "Searching for \"Flickering Debris\" by Lanark Artefax...\n"
     ]
    },
    {
     "name": "stderr",
     "output_type": "stream",
     "text": [
      " 99%|████████████████████████████████████████████████████████████████▋| 1315/1322 [1:00:28<00:15,  2.15s/it]"
     ]
    },
    {
     "name": "stdout",
     "output_type": "stream",
     "text": [
      "No results found for: 'Flickering Debris Lanark Artefax'\n",
      "Flickering Debris Lanark Artefax Not present in Genius\n",
      "Searching for \"This Is LA\" by Lemon D...\n"
     ]
    },
    {
     "name": "stderr",
     "output_type": "stream",
     "text": [
      "100%|████████████████████████████████████████████████████████████████▋| 1316/1322 [1:00:31<00:15,  2.54s/it]"
     ]
    },
    {
     "name": "stdout",
     "output_type": "stream",
     "text": [
      "Done.\n",
      "Searching for \"I Think I'm Falling In Love\" by Leroy Hutson...\n"
     ]
    },
    {
     "name": "stderr",
     "output_type": "stream",
     "text": [
      "100%|████████████████████████████████████████████████████████████████▊| 1317/1322 [1:00:34<00:11,  2.40s/it]"
     ]
    },
    {
     "name": "stdout",
     "output_type": "stream",
     "text": [
      "Done.\n",
      "Searching for \"The More I Get, the More I Want\" by Teddy Pendergrass...\n"
     ]
    },
    {
     "name": "stderr",
     "output_type": "stream",
     "text": [
      "100%|████████████████████████████████████████████████████████████████▊| 1318/1322 [1:00:36<00:09,  2.30s/it]"
     ]
    },
    {
     "name": "stdout",
     "output_type": "stream",
     "text": [
      "Done.\n",
      "Searching for \"Saved My Life\" by Todd Edwards...\n"
     ]
    },
    {
     "name": "stderr",
     "output_type": "stream",
     "text": [
      "100%|████████████████████████████████████████████████████████████████▊| 1319/1322 [1:00:38<00:07,  2.35s/it]"
     ]
    },
    {
     "name": "stdout",
     "output_type": "stream",
     "text": [
      "Done.\n",
      "Searching for \"Never Far From You\" by Todd Edwards...\n"
     ]
    },
    {
     "name": "stderr",
     "output_type": "stream",
     "text": [
      "100%|████████████████████████████████████████████████████████████████▉| 1320/1322 [1:00:42<00:05,  2.66s/it]"
     ]
    },
    {
     "name": "stdout",
     "output_type": "stream",
     "text": [
      "Done.\n",
      "Searching for \"Dancing For Heaven\" by Todd Edwards...\n"
     ]
    },
    {
     "name": "stderr",
     "output_type": "stream",
     "text": [
      "100%|████████████████████████████████████████████████████████████████▉| 1321/1322 [1:00:47<00:03,  3.56s/it]"
     ]
    },
    {
     "name": "stdout",
     "output_type": "stream",
     "text": [
      "Done.\n",
      "Searching for \"You're The One\" by Todd Edwards...\n"
     ]
    },
    {
     "name": "stderr",
     "output_type": "stream",
     "text": [
      "100%|█████████████████████████████████████████████████████████████████| 1322/1322 [1:00:50<00:00,  2.76s/it]"
     ]
    },
    {
     "name": "stdout",
     "output_type": "stream",
     "text": [
      "Done.\n"
     ]
    },
    {
     "name": "stderr",
     "output_type": "stream",
     "text": [
      "\n"
     ]
    }
   ],
   "source": [
    "track_lyrics = []\n",
    "for track in tqdm(track_meta_data):\n",
    "    track_name  = track[\"name\"]\n",
    "    artist_name = track[\"artists\"][0][\"name\"]\n",
    "    \n",
    "    track_lyrics.append(scrape(track_name, artist_name))"
   ]
  },
  {
   "cell_type": "code",
   "execution_count": 22,
   "id": "3b868de6-69f4-476f-b322-08d5b4efda88",
   "metadata": {},
   "outputs": [
    {
     "data": {
      "text/plain": [
       "1322"
      ]
     },
     "execution_count": 22,
     "metadata": {},
     "output_type": "execute_result"
    }
   ],
   "source": [
    "len(track_lyrics)"
   ]
  },
  {
   "cell_type": "markdown",
   "id": "fbba53ea-93f6-483d-8279-cafd21aede6b",
   "metadata": {},
   "source": [
    "# Control"
   ]
  },
  {
   "cell_type": "code",
   "execution_count": 23,
   "id": "046bbc1e-9f50-4ee1-b110-115174f3d5d3",
   "metadata": {},
   "outputs": [],
   "source": [
    "with open(f\"playlist_data/{PLAYLIST_ID}-lyrics.json\", 'w') as f:\n",
    "    json.dump(track_lyrics, f, indent=4)"
   ]
  },
  {
   "cell_type": "markdown",
   "id": "9df7fc8e-9bfd-4237-881a-10545e7881ea",
   "metadata": {},
   "source": [
    "# Normal"
   ]
  },
  {
   "cell_type": "code",
   "execution_count": 34,
   "id": "75838694-13fd-4627-9af1-bc7158dc114c",
   "metadata": {},
   "outputs": [],
   "source": [
    "with open(\"track-lyrics.json\", 'w') as f:\n",
    "    json.dump(track_lyrics, f, indent=4)"
   ]
  },
  {
   "cell_type": "code",
   "execution_count": null,
   "id": "bd483a51-300d-425d-b25c-d3fdbd6ebb83",
   "metadata": {},
   "outputs": [
    {
     "data": {
      "text/plain": [
       "239"
      ]
     },
     "execution_count": 29,
     "metadata": {},
     "output_type": "execute_result"
    }
   ],
   "source": [
    "sum([len(x) == 0 for x in track_lyrics] )"
   ]
  },
  {
   "cell_type": "code",
   "execution_count": null,
   "id": "96182be2-8988-47f2-a0bf-49283f1d7d47",
   "metadata": {},
   "outputs": [],
   "source": [
    "track_lyrics = list(map(lambda x: x.split(\"\\n\")[1:], track_lyrics))"
   ]
  }
 ],
 "metadata": {
  "kernelspec": {
   "display_name": "Python 3 (ipykernel)",
   "language": "python",
   "name": "python3"
  },
  "language_info": {
   "codemirror_mode": {
    "name": "ipython",
    "version": 3
   },
   "file_extension": ".py",
   "mimetype": "text/x-python",
   "name": "python",
   "nbconvert_exporter": "python",
   "pygments_lexer": "ipython3",
   "version": "3.8.10"
  }
 },
 "nbformat": 4,
 "nbformat_minor": 5
}
