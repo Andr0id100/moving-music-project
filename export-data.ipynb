{
 "cells": [
  {
   "cell_type": "code",
   "execution_count": 67,
   "id": "c4513401-ee82-46ee-9252-8461ffb38af4",
   "metadata": {},
   "outputs": [],
   "source": [
    "from pymongo import MongoClient\n",
    "import pygsheets\n",
    "import os\n",
    "from tqdm import tqdm\n",
    "import pandas as pd"
   ]
  },
  {
   "cell_type": "code",
   "execution_count": 21,
   "id": "5bcb8996-6906-4dcf-8cdb-8bec63903634",
   "metadata": {},
   "outputs": [],
   "source": [
    "gs_client = pygsheets.authorize(service_file=os.environ[\"GS_CRED_PATH\"])"
   ]
  },
  {
   "cell_type": "code",
   "execution_count": 22,
   "id": "480c2031-52dd-4ae7-b76c-7c91ff0108ff",
   "metadata": {},
   "outputs": [],
   "source": [
    "sh = gs_client.open('moving_data')\n",
    "worksheet = sh.sheet1 "
   ]
  },
  {
   "cell_type": "code",
   "execution_count": 24,
   "id": "656fb8fd-6f28-4c72-9a11-6ed893dfce9a",
   "metadata": {},
   "outputs": [],
   "source": [
    "df = worksheet.get_as_df()"
   ]
  },
  {
   "cell_type": "code",
   "execution_count": 25,
   "id": "817d437e-de1b-461a-9058-baaf811ddfa6",
   "metadata": {},
   "outputs": [
    {
     "data": {
      "text/html": [
       "<div>\n",
       "<style scoped>\n",
       "    .dataframe tbody tr th:only-of-type {\n",
       "        vertical-align: middle;\n",
       "    }\n",
       "\n",
       "    .dataframe tbody tr th {\n",
       "        vertical-align: top;\n",
       "    }\n",
       "\n",
       "    .dataframe thead th {\n",
       "        text-align: right;\n",
       "    }\n",
       "</style>\n",
       "<table border=\"1\" class=\"dataframe\">\n",
       "  <thead>\n",
       "    <tr style=\"text-align: right;\">\n",
       "      <th></th>\n",
       "      <th>url</th>\n",
       "      <th>author</th>\n",
       "      <th>comment_id</th>\n",
       "      <th>upvotes</th>\n",
       "      <th>spotify_id</th>\n",
       "      <th>song_match</th>\n",
       "      <th>artist_match</th>\n",
       "      <th>post_id</th>\n",
       "    </tr>\n",
       "  </thead>\n",
       "  <tbody>\n",
       "    <tr>\n",
       "      <th>0</th>\n",
       "      <td>NaN</td>\n",
       "      <td>thunderstorm-nigg</td>\n",
       "      <td>fi72l72</td>\n",
       "      <td>326</td>\n",
       "      <td>561F1zqRwGPCTMRsLsXVtL</td>\n",
       "      <td>Time in bottle</td>\n",
       "      <td>Jim Croce</td>\n",
       "      <td>f6qlck</td>\n",
       "    </tr>\n",
       "    <tr>\n",
       "      <th>1</th>\n",
       "      <td>NaN</td>\n",
       "      <td>hockeyxfight</td>\n",
       "      <td>fi78pa1</td>\n",
       "      <td>2976</td>\n",
       "      <td>6mFkJmJqdDVQ1REhVfGgd1</td>\n",
       "      <td>Wish You Were Here</td>\n",
       "      <td>Pink Floyd</td>\n",
       "      <td>f6qlck</td>\n",
       "    </tr>\n",
       "    <tr>\n",
       "      <th>2</th>\n",
       "      <td>NaN</td>\n",
       "      <td>Zyffrin</td>\n",
       "      <td>fi6laxj</td>\n",
       "      <td>8598</td>\n",
       "      <td>0QZ5yyl6B6utIWkxeBDxQN</td>\n",
       "      <td>The Night We Met</td>\n",
       "      <td>Lord Huron</td>\n",
       "      <td>f6qlck</td>\n",
       "    </tr>\n",
       "    <tr>\n",
       "      <th>3</th>\n",
       "      <td>NaN</td>\n",
       "      <td>Talstone</td>\n",
       "      <td>fi6hjh2</td>\n",
       "      <td>2043</td>\n",
       "      <td>0MNNKSUU9OOQ8DSGWduw79</td>\n",
       "      <td>Mystery of Love</td>\n",
       "      <td>Sufjan Stevens</td>\n",
       "      <td>f6qlck</td>\n",
       "    </tr>\n",
       "    <tr>\n",
       "      <th>4</th>\n",
       "      <td>NaN</td>\n",
       "      <td>_THATSALOTADAMAGE_</td>\n",
       "      <td>fi78ygl</td>\n",
       "      <td>1201</td>\n",
       "      <td>0GgN4MhR5GKn5IcKN0e0rG</td>\n",
       "      <td>Cancer</td>\n",
       "      <td>My Chemical Romance</td>\n",
       "      <td>f6qlck</td>\n",
       "    </tr>\n",
       "  </tbody>\n",
       "</table>\n",
       "</div>"
      ],
      "text/plain": [
       "   url              author comment_id  upvotes              spotify_id  \\\n",
       "0  NaN   thunderstorm-nigg    fi72l72      326  561F1zqRwGPCTMRsLsXVtL   \n",
       "1  NaN        hockeyxfight    fi78pa1     2976  6mFkJmJqdDVQ1REhVfGgd1   \n",
       "2  NaN             Zyffrin    fi6laxj     8598  0QZ5yyl6B6utIWkxeBDxQN   \n",
       "3  NaN            Talstone    fi6hjh2     2043  0MNNKSUU9OOQ8DSGWduw79   \n",
       "4  NaN  _THATSALOTADAMAGE_    fi78ygl     1201  0GgN4MhR5GKn5IcKN0e0rG   \n",
       "\n",
       "           song_match         artist_match post_id  \n",
       "0      Time in bottle            Jim Croce  f6qlck  \n",
       "1  Wish You Were Here           Pink Floyd  f6qlck  \n",
       "2    The Night We Met           Lord Huron  f6qlck  \n",
       "3     Mystery of Love       Sufjan Stevens  f6qlck  \n",
       "4              Cancer  My Chemical Romance  f6qlck  "
      ]
     },
     "execution_count": 25,
     "metadata": {},
     "output_type": "execute_result"
    }
   ],
   "source": [
    "df.head()"
   ]
  },
  {
   "cell_type": "code",
   "execution_count": 36,
   "id": "0b9dc1b1-df22-40f8-8a45-bdb52c8e0206",
   "metadata": {},
   "outputs": [],
   "source": [
    "client = MongoClient('localhost', 27017)"
   ]
  },
  {
   "cell_type": "code",
   "execution_count": 37,
   "id": "b16ca5ba-2058-4dd4-ae8d-94eef9bd9245",
   "metadata": {},
   "outputs": [],
   "source": [
    "db = client.mmt_project"
   ]
  },
  {
   "cell_type": "code",
   "execution_count": 46,
   "id": "1d7a0ad9-1493-4a69-a64d-9c213779b816",
   "metadata": {},
   "outputs": [],
   "source": [
    "post_ids = df[\"post_id\"]\n",
    "comment_ids = df[\"comment_id\"]"
   ]
  },
  {
   "cell_type": "code",
   "execution_count": 65,
   "id": "e61014ef-e1bf-4dc6-97a8-11f98a532ea4",
   "metadata": {},
   "outputs": [
    {
     "name": "stderr",
     "output_type": "stream",
     "text": [
      "100%|██████████████████████████████████████████████████████████████████| 8552/8552 [00:37<00:00, 230.34it/s]\n"
     ]
    }
   ],
   "source": [
    "comment_texts = []\n",
    "for i in tqdm(range(len(comment_ids))):\n",
    "    document = db[post_ids[i]].find_one({\"comment_id\": comment_ids[i]})\n",
    "    body = document[\"body\"]\n",
    "    comment_texts.append(body)"
   ]
  },
  {
   "cell_type": "code",
   "execution_count": 70,
   "id": "b80c2b49-b4a7-4cd8-a75c-85cc0f0f42c7",
   "metadata": {},
   "outputs": [],
   "source": [
    "df_comments = pd.DataFrame({\n",
    "    \"comment_id\": comment_ids,\n",
    "    \"body\": comment_texts\n",
    "})"
   ]
  },
  {
   "cell_type": "code",
   "execution_count": 71,
   "id": "f1bf645e-874f-4bf1-b39b-a0f7e1f67da3",
   "metadata": {},
   "outputs": [],
   "source": [
    "df_comments.to_json(\"comments_text.json\")"
   ]
  },
  {
   "cell_type": "code",
   "execution_count": 72,
   "id": "501af58e-78d7-46e2-a3fa-41c30fcc6199",
   "metadata": {},
   "outputs": [
    {
     "data": {
      "text/html": [
       "<div>\n",
       "<style scoped>\n",
       "    .dataframe tbody tr th:only-of-type {\n",
       "        vertical-align: middle;\n",
       "    }\n",
       "\n",
       "    .dataframe tbody tr th {\n",
       "        vertical-align: top;\n",
       "    }\n",
       "\n",
       "    .dataframe thead th {\n",
       "        text-align: right;\n",
       "    }\n",
       "</style>\n",
       "<table border=\"1\" class=\"dataframe\">\n",
       "  <thead>\n",
       "    <tr style=\"text-align: right;\">\n",
       "      <th></th>\n",
       "      <th>comment_id</th>\n",
       "      <th>body</th>\n",
       "    </tr>\n",
       "  </thead>\n",
       "  <tbody>\n",
       "    <tr>\n",
       "      <th>0</th>\n",
       "      <td>fi72l72</td>\n",
       "      <td>Time in bottle by Jim Croce</td>\n",
       "    </tr>\n",
       "    <tr>\n",
       "      <th>1</th>\n",
       "      <td>fi78pa1</td>\n",
       "      <td>Wish You Were Here by Pink Floyd. I don’t real...</td>\n",
       "    </tr>\n",
       "    <tr>\n",
       "      <th>2</th>\n",
       "      <td>fi6laxj</td>\n",
       "      <td>The Night We Met - Lord Huron</td>\n",
       "    </tr>\n",
       "    <tr>\n",
       "      <th>3</th>\n",
       "      <td>fi6hjh2</td>\n",
       "      <td>Mystery of Love by Sufjan Stevens. I can’t eve...</td>\n",
       "    </tr>\n",
       "    <tr>\n",
       "      <th>4</th>\n",
       "      <td>fi78ygl</td>\n",
       "      <td>Cancer by My Chemical Romance, my Aunt died of...</td>\n",
       "    </tr>\n",
       "    <tr>\n",
       "      <th>...</th>\n",
       "      <td>...</td>\n",
       "      <td>...</td>\n",
       "    </tr>\n",
       "    <tr>\n",
       "      <th>8547</th>\n",
       "      <td>co4xr00</td>\n",
       "      <td>in case you haven't heard it yet, here's Danny...</td>\n",
       "    </tr>\n",
       "    <tr>\n",
       "      <th>8548</th>\n",
       "      <td>co4xr00</td>\n",
       "      <td>in case you haven't heard it yet, here's Danny...</td>\n",
       "    </tr>\n",
       "    <tr>\n",
       "      <th>8549</th>\n",
       "      <td>co5bxsn</td>\n",
       "      <td>[Deftones](https://www.youtube.com/watch?v=59c...</td>\n",
       "    </tr>\n",
       "    <tr>\n",
       "      <th>8550</th>\n",
       "      <td>co5ekkd</td>\n",
       "      <td>[This](https://www.youtube.com/watch?v=vmd1qMN...</td>\n",
       "    </tr>\n",
       "    <tr>\n",
       "      <th>8551</th>\n",
       "      <td>co5ekkd</td>\n",
       "      <td>[This](https://www.youtube.com/watch?v=vmd1qMN...</td>\n",
       "    </tr>\n",
       "  </tbody>\n",
       "</table>\n",
       "<p>8552 rows × 2 columns</p>\n",
       "</div>"
      ],
      "text/plain": [
       "     comment_id                                               body\n",
       "0       fi72l72                        Time in bottle by Jim Croce\n",
       "1       fi78pa1  Wish You Were Here by Pink Floyd. I don’t real...\n",
       "2       fi6laxj                      The Night We Met - Lord Huron\n",
       "3       fi6hjh2  Mystery of Love by Sufjan Stevens. I can’t eve...\n",
       "4       fi78ygl  Cancer by My Chemical Romance, my Aunt died of...\n",
       "...         ...                                                ...\n",
       "8547    co4xr00  in case you haven't heard it yet, here's Danny...\n",
       "8548    co4xr00  in case you haven't heard it yet, here's Danny...\n",
       "8549    co5bxsn  [Deftones](https://www.youtube.com/watch?v=59c...\n",
       "8550    co5ekkd  [This](https://www.youtube.com/watch?v=vmd1qMN...\n",
       "8551    co5ekkd  [This](https://www.youtube.com/watch?v=vmd1qMN...\n",
       "\n",
       "[8552 rows x 2 columns]"
      ]
     },
     "execution_count": 72,
     "metadata": {},
     "output_type": "execute_result"
    }
   ],
   "source": [
    "pd.read_json(\"comments_text.json\")"
   ]
  }
 ],
 "metadata": {
  "kernelspec": {
   "display_name": "Python 3 (ipykernel)",
   "language": "python",
   "name": "python3"
  },
  "language_info": {
   "codemirror_mode": {
    "name": "ipython",
    "version": 3
   },
   "file_extension": ".py",
   "mimetype": "text/x-python",
   "name": "python",
   "nbconvert_exporter": "python",
   "pygments_lexer": "ipython3",
   "version": "3.8.10"
  }
 },
 "nbformat": 4,
 "nbformat_minor": 5
}
