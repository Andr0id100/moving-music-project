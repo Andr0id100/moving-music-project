{
 "cells": [
  {
   "cell_type": "code",
   "execution_count": 1,
   "id": "a688569e-b0b8-4ef2-bb00-72154f8db687",
   "metadata": {},
   "outputs": [],
   "source": [
    "import json\n",
    "import matplotlib.pyplot as plt\n",
    "import seaborn as sns\n",
    "from scipy.stats import ttest_ind, mannwhitneyu, normaltest\n",
    "import numpy as np"
   ]
  },
  {
   "cell_type": "code",
   "execution_count": 2,
   "id": "7c9e711a-e8cb-4339-bc16-03063348f477",
   "metadata": {},
   "outputs": [],
   "source": [
    "MOVING_META_DATA_PATH = \"track-meta-data.json\"\n",
    "MOVING_AUDIO_FEATURES_PATH = \"track-audio-features.json\""
   ]
  },
  {
   "cell_type": "code",
   "execution_count": 45,
   "id": "83c66238-edb4-4391-8da9-d592b21b054f",
   "metadata": {},
   "outputs": [],
   "source": [
    "CONTROL_META_DATA_PATH = \"control-track-meta-data.json\"\n",
    "CONTROL_AUDIO_FEATURES_PATH = \"control-track-audio-features.json\""
   ]
  },
  {
   "cell_type": "markdown",
   "id": "574af4a2-dada-469b-9a33-66f4197b2249",
   "metadata": {},
   "source": [
    "Different Control Group"
   ]
  },
  {
   "cell_type": "code",
   "execution_count": 14,
   "id": "e15e2e62-7701-4837-a8dc-0113fecccc1a",
   "metadata": {},
   "outputs": [],
   "source": [
    "CONTROL_META_DATA_PATH = \"playlist_data/6qZnImkqxbRtL9FiwqHkGK-meta-data.json\"\n",
    "CONTROL_AUDIO_FEATURES_PATH = \"playlist_data/6qZnImkqxbRtL9FiwqHkGK-audio-features.json\""
   ]
  },
  {
   "cell_type": "code",
   "execution_count": 3,
   "id": "cac1bb92-0cc7-496f-bdfb-bc7bf23260a0",
   "metadata": {},
   "outputs": [],
   "source": [
    "CONTROL_META_DATA_PATH = \"control-meta-data-v2.json\"\n",
    "CONTROL_AUDIO_FEATURES_PATH = \"control-audio-features-v2.json\""
   ]
  },
  {
   "cell_type": "code",
   "execution_count": 4,
   "id": "13e579db-c178-4c2a-b7da-2bec70914a56",
   "metadata": {},
   "outputs": [],
   "source": [
    "with open(MOVING_META_DATA_PATH) as f:\n",
    "    moving_meta_data = json.load(f)"
   ]
  },
  {
   "cell_type": "code",
   "execution_count": 5,
   "id": "573dd5ac-1b60-41c2-a17d-a818e9c10648",
   "metadata": {},
   "outputs": [],
   "source": [
    "with open(MOVING_AUDIO_FEATURES_PATH) as f:\n",
    "    moving_audio_features = json.load(f)"
   ]
  },
  {
   "cell_type": "code",
   "execution_count": 6,
   "id": "a6c2d78a-40a8-4bf6-b089-a1809657e6b8",
   "metadata": {},
   "outputs": [],
   "source": [
    "with open(CONTROL_META_DATA_PATH) as f:\n",
    "    control_meta_data = json.load(f)"
   ]
  },
  {
   "cell_type": "code",
   "execution_count": 7,
   "id": "08d9fbc4-9373-4125-a835-d953513800b8",
   "metadata": {},
   "outputs": [],
   "source": [
    "with open(CONTROL_AUDIO_FEATURES_PATH) as f:\n",
    "    control_audio_features = json.load(f)"
   ]
  },
  {
   "cell_type": "code",
   "execution_count": 8,
   "id": "4a8c1afd-3987-42bf-adbe-3c0f6cc934f6",
   "metadata": {},
   "outputs": [
    {
     "data": {
      "text/plain": [
       "(3652, 777)"
      ]
     },
     "execution_count": 8,
     "metadata": {},
     "output_type": "execute_result"
    }
   ],
   "source": [
    "len(moving_meta_data), len(control_meta_data)"
   ]
  },
  {
   "cell_type": "code",
   "execution_count": 9,
   "id": "dea3c170-5255-4662-95cc-38961ce847d7",
   "metadata": {},
   "outputs": [],
   "source": [
    "def get_feature(feature_name, all_features):\n",
    "    return list(map(lambda x: x[feature_name], all_features))"
   ]
  },
  {
   "cell_type": "code",
   "execution_count": 10,
   "id": "195c4e87-867d-47d3-b276-686229b4b0dc",
   "metadata": {},
   "outputs": [],
   "source": [
    "def get_meta_data(feature_name, meta_data):\n",
    "    return list(map(lambda x: x[feature_name], meta_data))"
   ]
  },
  {
   "cell_type": "code",
   "execution_count": 11,
   "id": "cd77e76c-6818-41e3-9b89-bf1188835c8b",
   "metadata": {
    "tags": []
   },
   "outputs": [],
   "source": [
    "moving_feature = {}\n",
    "for feature in moving_audio_features[0].keys():\n",
    "    moving_feature[feature] = get_feature(feature, moving_audio_features)"
   ]
  },
  {
   "cell_type": "code",
   "execution_count": 12,
   "id": "0084a552-ef41-404d-9f2d-a9662cc0a6a1",
   "metadata": {
    "tags": []
   },
   "outputs": [],
   "source": [
    "control_feature = {}\n",
    "for feature in control_audio_features[0].keys():\n",
    "    control_feature[feature] = get_feature(feature, control_audio_features)"
   ]
  },
  {
   "cell_type": "code",
   "execution_count": 13,
   "id": "6a8b537f-6b35-4f9a-a8c0-6c2ac551c8a9",
   "metadata": {},
   "outputs": [],
   "source": [
    "moving_meta = {}\n",
    "for feature in moving_meta_data[0].keys():\n",
    "    moving_meta[feature] = get_meta_data(feature, moving_meta_data)"
   ]
  },
  {
   "cell_type": "code",
   "execution_count": 14,
   "id": "55ccd356-9772-42ca-9791-a1f1771f1974",
   "metadata": {},
   "outputs": [],
   "source": [
    "control_meta = {}\n",
    "for feature in control_meta_data[0].keys():\n",
    "    control_meta[feature] = get_meta_data(feature, control_meta_data)"
   ]
  },
  {
   "cell_type": "code",
   "execution_count": 15,
   "id": "bbeebcae-48d6-444e-8a0a-b3d3dbfbf937",
   "metadata": {},
   "outputs": [],
   "source": [
    "def create_comparison_histograms(name, data_source=\"features\"):\n",
    "    fig, axs = plt.subplots(2, 1)\n",
    "    if data_source == \"features\":\n",
    "        feature1 = moving_feature[name]\n",
    "        feature2 = control_feature[name]\n",
    "    elif data_source == \"meta\":\n",
    "        feature1 = moving_meta[name]\n",
    "        feature2 = control_meta[name]\n",
    "    \n",
    "    x1_min, x1_max = min(feature1), max(feature1)\n",
    "    x2_min, x2_max = min(feature2), max(feature2)\n",
    "    x_min = min(x1_min, x2_min)\n",
    "    x_max = max(x1_max, x2_max)\n",
    "    diff = x_max - x_min\n",
    "    xlim = (x_min - (diff * 0.05), x_max + (diff * 0.05))\n",
    "    h1 = sns.histplot(feature1, ax=axs[0])\n",
    "    h2 = sns.histplot(feature2, ax=axs[1], color='r')\n",
    "    h1.set_xlim(xlim)\n",
    "    h2.set_xlim(xlim)\n",
    "    \n",
    "    h1.set_title(name)\n",
    "    print(\"P-Values\")\n",
    "    print(\"Normal-Test:\", normaltest(feature1).pvalue, sep=\"\\t\")\n",
    "    print(\"T-Test:\", ttest_ind(feature1, feature2, equal_var=False).pvalue, sep=\"\\t\\t\")\n",
    "    print(\"Mann-Whitney:\", mannwhitneyu(feature1, feature2).pvalue, sep=\"\\t\")"
   ]
  },
  {
   "cell_type": "code",
   "execution_count": 16,
   "id": "9c50804b-7931-4525-90d8-218dc17452ea",
   "metadata": {},
   "outputs": [
    {
     "name": "stdout",
     "output_type": "stream",
     "text": [
      "P-Values\n",
      "Normal-Test:\t6.115171869209411e-74\n",
      "T-Test:\t\t6.526403733908215e-48\n",
      "Mann-Whitney:\t2.2329639704105423e-51\n"
     ]
    },
    {
     "data": {
      "image/png": "[encoded data removed]",
      "text/plain": [
       "<Figure size 432x288 with 2 Axes>"
      ]
     },
     "metadata": {
      "needs_background": "light"
     },
     "output_type": "display_data"
    }
   ],
   "source": [
    "create_comparison_histograms(\"valence\")"
   ]
  },
  {
   "cell_type": "code",
   "execution_count": 17,
   "id": "24c83b42-a8a0-4ef9-866f-f9a7661d86fc",
   "metadata": {},
   "outputs": [
    {
     "name": "stdout",
     "output_type": "stream",
     "text": [
      "P-Values\n",
      "Normal-Test:\t1.8189372486766934e-121\n",
      "T-Test:\t\t3.1179329768765975e-43\n",
      "Mann-Whitney:\t6.074952312876034e-42\n"
     ]
    },
    {
     "data": {
      "image/png": "[encoded data removed]",
      "text/plain": [
       "<Figure size 432x288 with 2 Axes>"
      ]
     },
     "metadata": {
      "needs_background": "light"
     },
     "output_type": "display_data"
    }
   ],
   "source": [
    "create_comparison_histograms(\"energy\")"
   ]
  },
  {
   "cell_type": "code",
   "execution_count": 18,
   "id": "3de091cf-5372-4444-ba89-df11b311e923",
   "metadata": {},
   "outputs": [
    {
     "name": "stdout",
     "output_type": "stream",
     "text": [
      "P-Values\n",
      "Normal-Test:\t0.006191027217558171\n",
      "T-Test:\t\t1.2912523017521502e-16\n",
      "Mann-Whitney:\t5.491124391644293e-18\n"
     ]
    },
    {
     "data": {
      "image/png": "[encoded data removed]",
      "text/plain": [
       "<Figure size 432x288 with 2 Axes>"
      ]
     },
     "metadata": {
      "needs_background": "light"
     },
     "output_type": "display_data"
    }
   ],
   "source": [
    "create_comparison_histograms(\"danceability\")"
   ]
  },
  {
   "cell_type": "code",
   "execution_count": 19,
   "id": "2d08035e-db8a-427b-88d8-e1cab4f404fb",
   "metadata": {},
   "outputs": [
    {
     "name": "stdout",
     "output_type": "stream",
     "text": [
      "P-Values\n",
      "Normal-Test:\t1.4328097301667345e-16\n",
      "T-Test:\t\t1.5684760852249243e-13\n",
      "Mann-Whitney:\t4.3347066763754574e-10\n"
     ]
    },
    {
     "data": {
      "image/png": "[encoded data removed]",
      "text/plain": [
       "<Figure size 432x288 with 2 Axes>"
      ]
     },
     "metadata": {
      "needs_background": "light"
     },
     "output_type": "display_data"
    }
   ],
   "source": [
    "create_comparison_histograms(\"popularity\", data_source=\"meta\")"
   ]
  },
  {
   "cell_type": "code",
   "execution_count": 20,
   "id": "5b91b2b4-820c-46e1-b506-a7780269af75",
   "metadata": {},
   "outputs": [
    {
     "name": "stdout",
     "output_type": "stream",
     "text": [
      "P-Values\n",
      "Normal-Test:\t0.0\n",
      "T-Test:\t\t6.3948780964629455e-09\n",
      "Mann-Whitney:\t2.0659392252109244e-21\n"
     ]
    },
    {
     "data": {
      "image/png": "[encoded data removed]",
      "text/plain": [
       "<Figure size 432x288 with 2 Axes>"
      ]
     },
     "metadata": {
      "needs_background": "light"
     },
     "output_type": "display_data"
    }
   ],
   "source": [
    "create_comparison_histograms(\"duration_ms\", data_source=\"meta\")"
   ]
  },
  {
   "cell_type": "code",
   "execution_count": 21,
   "id": "0f50d2e6-634b-4c0e-82f5-ceb3fd03f901",
   "metadata": {},
   "outputs": [
    {
     "name": "stdout",
     "output_type": "stream",
     "text": [
      "P-Values\n",
      "Normal-Test:\t9.458063911158476e-21\n",
      "T-Test:\t\t0.0005565814994116401\n",
      "Mann-Whitney:\t0.0010012330839632717\n"
     ]
    },
    {
     "data": {
      "image/png": "[encoded data removed]",
      "text/plain": [
       "<Figure size 432x288 with 2 Axes>"
      ]
     },
     "metadata": {
      "needs_background": "light"
     },
     "output_type": "display_data"
    }
   ],
   "source": [
    "create_comparison_histograms(\"tempo\")"
   ]
  },
  {
   "cell_type": "code",
   "execution_count": null,
   "id": "735a18df-9a2a-4a16-8869-992faa68aed2",
   "metadata": {},
   "outputs": [],
   "source": []
  }
 ],
 "metadata": {
  "kernelspec": {
   "display_name": "Python 3",
   "language": "python",
   "name": "python3"
  },
  "language_info": {
   "codemirror_mode": {
    "name": "ipython",
    "version": 3
   },
   "file_extension": ".py",
   "mimetype": "text/x-python",
   "name": "python",
   "nbconvert_exporter": "python",
   "pygments_lexer": "ipython3",
   "version": "3.9.7"
  }
 },
 "nbformat": 4,
 "nbformat_minor": 5
}
