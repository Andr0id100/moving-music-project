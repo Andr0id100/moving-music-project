{
 "cells": [
  {
   "cell_type": "code",
   "execution_count": 24,
   "id": "a688569e-b0b8-4ef2-bb00-72154f8db687",
   "metadata": {},
   "outputs": [],
   "source": [
    "import json\n",
    "import matplotlib.pyplot as plt\n",
    "import seaborn as sns\n",
    "from scipy.stats import ttest_ind, mannwhitneyu"
   ]
  },
  {
   "cell_type": "code",
   "execution_count": 25,
   "id": "7c9e711a-e8cb-4339-bc16-03063348f477",
   "metadata": {},
   "outputs": [],
   "source": [
    "MOVING_META_DATA_PATH = \"track-meta-data.json\"\n",
    "MOVING_AUDIO_FEATURES_PATH = \"track-audio-features.json\""
   ]
  },
  {
   "cell_type": "code",
   "execution_count": 26,
   "id": "83c66238-edb4-4391-8da9-d592b21b054f",
   "metadata": {},
   "outputs": [],
   "source": [
    "CONTROL_META_DATA_PATH = \"control-track-meta-data.json\"\n",
    "CONTROL_AUDIO_FEATURES_PATH = \"control-track-audio-features.json\""
   ]
  },
  {
   "cell_type": "markdown",
   "id": "574af4a2-dada-469b-9a33-66f4197b2249",
   "metadata": {},
   "source": [
    "Different Control Group"
   ]
  },
  {
   "cell_type": "code",
   "execution_count": 51,
   "id": "e15e2e62-7701-4837-a8dc-0113fecccc1a",
   "metadata": {},
   "outputs": [],
   "source": [
    "CONTROL_META_DATA_PATH = \"playlist_data/0KLSjRLWqlYcgAc4vuL34C-meta-data.json\"\n",
    "CONTROL_AUDIO_FEATURES_PATH = \"playlist_data/0KLSjRLWqlYcgAc4vuL34C-audio-features.json\""
   ]
  },
  {
   "cell_type": "code",
   "execution_count": 52,
   "id": "13e579db-c178-4c2a-b7da-2bec70914a56",
   "metadata": {},
   "outputs": [],
   "source": [
    "with open(MOVING_META_DATA_PATH) as f:\n",
    "    moving_meta_data = json.load(f)"
   ]
  },
  {
   "cell_type": "code",
   "execution_count": 53,
   "id": "573dd5ac-1b60-41c2-a17d-a818e9c10648",
   "metadata": {},
   "outputs": [],
   "source": [
    "with open(MOVING_AUDIO_FEATURES_PATH) as f:\n",
    "    moving_audio_features = json.load(f)"
   ]
  },
  {
   "cell_type": "code",
   "execution_count": 54,
   "id": "a6c2d78a-40a8-4bf6-b089-a1809657e6b8",
   "metadata": {},
   "outputs": [],
   "source": [
    "with open(CONTROL_META_DATA_PATH) as f:\n",
    "    control_meta_data = json.load(f)"
   ]
  },
  {
   "cell_type": "code",
   "execution_count": 55,
   "id": "08d9fbc4-9373-4125-a835-d953513800b8",
   "metadata": {},
   "outputs": [],
   "source": [
    "with open(CONTROL_AUDIO_FEATURES_PATH) as f:\n",
    "    control_audio_features = json.load(f)"
   ]
  },
  {
   "cell_type": "code",
   "execution_count": 56,
   "id": "dea3c170-5255-4662-95cc-38961ce847d7",
   "metadata": {},
   "outputs": [],
   "source": [
    "def get_feature(feature_name, all_features):\n",
    "    return list(map(lambda x: x[feature_name], all_features))"
   ]
  },
  {
   "cell_type": "code",
   "execution_count": 57,
   "id": "195c4e87-867d-47d3-b276-686229b4b0dc",
   "metadata": {},
   "outputs": [],
   "source": [
    "def get_meta_data(feature_name, meta_data):\n",
    "    return list(map(lambda x: x[feature_name], meta_data))"
   ]
  },
  {
   "cell_type": "code",
   "execution_count": 58,
   "id": "cd77e76c-6818-41e3-9b89-bf1188835c8b",
   "metadata": {},
   "outputs": [],
   "source": [
    "moving_feature = {}\n",
    "for feature in moving_audio_features[0].keys():\n",
    "    moving_feature[feature] = get_feature(feature, moving_audio_features)"
   ]
  },
  {
   "cell_type": "code",
   "execution_count": 59,
   "id": "0084a552-ef41-404d-9f2d-a9662cc0a6a1",
   "metadata": {},
   "outputs": [],
   "source": [
    "control_feature = {}\n",
    "for feature in control_audio_features[0].keys():\n",
    "    control_feature[feature] = get_feature(feature, control_audio_features)"
   ]
  },
  {
   "cell_type": "code",
   "execution_count": 60,
   "id": "6a8b537f-6b35-4f9a-a8c0-6c2ac551c8a9",
   "metadata": {},
   "outputs": [],
   "source": [
    "moving_meta = {}\n",
    "for feature in moving_meta_data[0].keys():\n",
    "    moving_meta[feature] = get_meta_data(feature, moving_meta_data)"
   ]
  },
  {
   "cell_type": "code",
   "execution_count": 61,
   "id": "55ccd356-9772-42ca-9791-a1f1771f1974",
   "metadata": {},
   "outputs": [],
   "source": [
    "control_meta = {}\n",
    "for feature in control_meta_data[0].keys():\n",
    "    control_meta[feature] = get_meta_data(feature, control_meta_data)"
   ]
  },
  {
   "cell_type": "code",
   "execution_count": 62,
   "id": "bbeebcae-48d6-444e-8a0a-b3d3dbfbf937",
   "metadata": {},
   "outputs": [],
   "source": [
    "def create_comparison_histograms(name, data_source=\"features\"):\n",
    "    fig, axs = plt.subplots(2, 1)\n",
    "    if data_source == \"features\":\n",
    "        feature1 = moving_feature[name]\n",
    "        feature2 = control_feature[name]\n",
    "    elif data_source == \"meta\":\n",
    "        feature1 = moving_meta[name]\n",
    "        feature2 = control_meta[name]\n",
    "    \n",
    "    x1_min, x1_max = min(feature1), max(feature1)\n",
    "    x2_min, x2_max = min(feature2), max(feature2)\n",
    "    x_min = min(x1_min, x2_min)\n",
    "    x_max = max(x1_max, x2_max)\n",
    "    diff = x_max - x_min\n",
    "    xlim = (x_min - (diff * 0.05), x_max + (diff * 0.05))\n",
    "    h1 = sns.histplot(feature1, ax=axs[0])\n",
    "    h2 = sns.histplot(feature2, ax=axs[1], color='r')\n",
    "    h1.set_xlim(xlim)\n",
    "    h2.set_xlim(xlim)\n",
    "    \n",
    "    h1.set_title(name)\n",
    "    \n",
    "    print(ttest_ind(feature1, feature2, equal_var=False))\n",
    "    print(mannwhitneyu(feature1, feature2))"
   ]
  },
  {
   "cell_type": "code",
   "execution_count": 63,
   "id": "9c50804b-7931-4525-90d8-218dc17452ea",
   "metadata": {},
   "outputs": [
    {
     "name": "stdout",
     "output_type": "stream",
     "text": [
      "Ttest_indResult(statistic=4.702580267936049, pvalue=2.6877244490435034e-06)\n",
      "MannwhitneyuResult(statistic=2911460.0, pvalue=1.659443521242218e-05)\n"
     ]
    },
    {
     "data": {
      "image/png": "[encoded data removed]",
      "text/plain": [
       "<Figure size 432x288 with 2 Axes>"
      ]
     },
     "metadata": {
      "needs_background": "light"
     },
     "output_type": "display_data"
    }
   ],
   "source": [
    "create_comparison_histograms(\"valence\")"
   ]
  },
  {
   "cell_type": "code",
   "execution_count": 64,
   "id": "24c83b42-a8a0-4ef9-866f-f9a7661d86fc",
   "metadata": {},
   "outputs": [
    {
     "name": "stdout",
     "output_type": "stream",
     "text": [
      "Ttest_indResult(statistic=10.568586206689604, pvalue=1.2213502984947524e-25)\n",
      "MannwhitneyuResult(statistic=3190639.5, pvalue=4.985088492742517e-24)\n"
     ]
    },
    {
     "data": {
      "image/png": "[encoded data removed]",
      "text/plain": [
       "<Figure size 432x288 with 2 Axes>"
      ]
     },
     "metadata": {
      "needs_background": "light"
     },
     "output_type": "display_data"
    }
   ],
   "source": [
    "create_comparison_histograms(\"energy\")"
   ]
  },
  {
   "cell_type": "code",
   "execution_count": 65,
   "id": "3de091cf-5372-4444-ba89-df11b311e923",
   "metadata": {},
   "outputs": [
    {
     "name": "stdout",
     "output_type": "stream",
     "text": [
      "Ttest_indResult(statistic=4.390956323346331, pvalue=1.1701874238304686e-05)\n",
      "MannwhitneyuResult(statistic=2902697.5, pvalue=3.719777493844847e-05)\n"
     ]
    },
    {
     "data": {
      "image/png": "[encoded data removed]",
      "text/plain": [
       "<Figure size 432x288 with 2 Axes>"
      ]
     },
     "metadata": {
      "needs_background": "light"
     },
     "output_type": "display_data"
    }
   ],
   "source": [
    "create_comparison_histograms(\"danceability\")"
   ]
  },
  {
   "cell_type": "code",
   "execution_count": 66,
   "id": "2d08035e-db8a-427b-88d8-e1cab4f404fb",
   "metadata": {},
   "outputs": [
    {
     "name": "stdout",
     "output_type": "stream",
     "text": [
      "Ttest_indResult(statistic=14.695535469877498, pvalue=1.2019284424851057e-46)\n",
      "MannwhitneyuResult(statistic=3291640.0, pvalue=2.695717816414336e-34)\n"
     ]
    },
    {
     "data": {
      "image/png": "[encoded data removed]",
      "text/plain": [
       "<Figure size 432x288 with 2 Axes>"
      ]
     },
     "metadata": {
      "needs_background": "light"
     },
     "output_type": "display_data"
    }
   ],
   "source": [
    "create_comparison_histograms(\"popularity\", data_source=\"meta\")"
   ]
  },
  {
   "cell_type": "code",
   "execution_count": 67,
   "id": "5b91b2b4-820c-46e1-b506-a7780269af75",
   "metadata": {},
   "outputs": [
    {
     "name": "stdout",
     "output_type": "stream",
     "text": [
      "Ttest_indResult(statistic=1.3509693135447318, pvalue=0.1767973591080596)\n",
      "MannwhitneyuResult(statistic=2746193.5, pvalue=0.3838845797749164)\n"
     ]
    },
    {
     "data": {
      "image/png": "[encoded data removed]",
      "text/plain": [
       "<Figure size 432x288 with 2 Axes>"
      ]
     },
     "metadata": {
      "needs_background": "light"
     },
     "output_type": "display_data"
    }
   ],
   "source": [
    "create_comparison_histograms(\"duration_ms\", data_source=\"meta\")"
   ]
  },
  {
   "cell_type": "code",
   "execution_count": 68,
   "id": "0f50d2e6-634b-4c0e-82f5-ceb3fd03f901",
   "metadata": {},
   "outputs": [
    {
     "name": "stdout",
     "output_type": "stream",
     "text": [
      "Ttest_indResult(statistic=1.568945623102824, pvalue=0.11677949440975288)\n",
      "MannwhitneyuResult(statistic=2794315.0, pvalue=0.06132745377443589)\n"
     ]
    },
    {
     "data": {
      "image/png": "[encoded data removed]",
      "text/plain": [
       "<Figure size 432x288 with 2 Axes>"
      ]
     },
     "metadata": {
      "needs_background": "light"
     },
     "output_type": "display_data"
    }
   ],
   "source": [
    "create_comparison_histograms(\"tempo\")"
   ]
  },
  {
   "cell_type": "code",
   "execution_count": null,
   "id": "735a18df-9a2a-4a16-8869-992faa68aed2",
   "metadata": {},
   "outputs": [],
   "source": []
  }
 ],
 "metadata": {
  "kernelspec": {
   "display_name": "Python 3 (ipykernel)",
   "language": "python",
   "name": "python3"
  },
  "language_info": {
   "codemirror_mode": {
    "name": "ipython",
    "version": 3
   },
   "file_extension": ".py",
   "mimetype": "text/x-python",
   "name": "python",
   "nbconvert_exporter": "python",
   "pygments_lexer": "ipython3",
   "version": "3.8.10"
  }
 },
 "nbformat": 4,
 "nbformat_minor": 5
}
