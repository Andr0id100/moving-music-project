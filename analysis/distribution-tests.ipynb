{
 "cells": [
  {
   "cell_type": "code",
   "execution_count": 3,
   "id": "a688569e-b0b8-4ef2-bb00-72154f8db687",
   "metadata": {},
   "outputs": [],
   "source": [
    "import json\n",
    "import matplotlib.pyplot as plt\n",
    "import seaborn as sns\n",
    "from scipy.stats import ttest_ind, mannwhitneyu, "
   ]
  },
  {
   "cell_type": "code",
   "execution_count": 4,
   "id": "13e579db-c178-4c2a-b7da-2bec70914a56",
   "metadata": {},
   "outputs": [],
   "source": [
    "with open(\"track-meta-data.json\") as f:\n",
    "    track_meta_data = json.load(f)"
   ]
  },
  {
   "cell_type": "code",
   "execution_count": 5,
   "id": "573dd5ac-1b60-41c2-a17d-a818e9c10648",
   "metadata": {},
   "outputs": [],
   "source": [
    "with open(\"track-audio-features.json\") as f:\n",
    "    track_audio_features = json.load(f)"
   ]
  },
  {
   "cell_type": "code",
   "execution_count": 6,
   "id": "a6c2d78a-40a8-4bf6-b089-a1809657e6b8",
   "metadata": {},
   "outputs": [],
   "source": [
    "with open(\"control-track-meta-data.json\") as f:\n",
    "    control_meta = json.load(f)"
   ]
  },
  {
   "cell_type": "code",
   "execution_count": 7,
   "id": "08d9fbc4-9373-4125-a835-d953513800b8",
   "metadata": {},
   "outputs": [],
   "source": [
    "with open(\"control-track-audio-features.json\") as f:\n",
    "    control_audio_features = json.load(f)"
   ]
  },
  {
   "cell_type": "code",
   "execution_count": 8,
   "id": "dea3c170-5255-4662-95cc-38961ce847d7",
   "metadata": {},
   "outputs": [],
   "source": [
    "def get_feature(feature_name, all_features):\n",
    "    return list(map(lambda x: x[feature_name], all_features))"
   ]
  },
  {
   "cell_type": "code",
   "execution_count": 9,
   "id": "195c4e87-867d-47d3-b276-686229b4b0dc",
   "metadata": {},
   "outputs": [],
   "source": [
    "def get_meta_data(feature_name, meta_data):\n",
    "    return list(map(lambda x: x[feature_name], meta_data))"
   ]
  },
  {
   "cell_type": "code",
   "execution_count": 10,
   "id": "cd77e76c-6818-41e3-9b89-bf1188835c8b",
   "metadata": {},
   "outputs": [],
   "source": [
    "feature_data = {}\n",
    "for feature in track_audio_features[0].keys():\n",
    "    feature_data[feature] = get_feature(feature, track_audio_features)"
   ]
  },
  {
   "cell_type": "code",
   "execution_count": 11,
   "id": "0084a552-ef41-404d-9f2d-a9662cc0a6a1",
   "metadata": {},
   "outputs": [],
   "source": [
    "control_feature_data = {}\n",
    "for feature in control_audio_features[0].keys():\n",
    "    control_feature_data[feature] = get_feature(feature, control_audio_features)"
   ]
  },
  {
   "cell_type": "code",
   "execution_count": 12,
   "id": "6a8b537f-6b35-4f9a-a8c0-6c2ac551c8a9",
   "metadata": {},
   "outputs": [],
   "source": [
    "meta_data = {}\n",
    "for feature in track_meta_data[0].keys():\n",
    "    meta_data[feature] = get_meta_data(feature, track_meta_data)"
   ]
  },
  {
   "cell_type": "code",
   "execution_count": 13,
   "id": "55ccd356-9772-42ca-9791-a1f1771f1974",
   "metadata": {},
   "outputs": [],
   "source": [
    "control_meta_data = {}\n",
    "for feature in control_meta[0].keys():\n",
    "    control_meta_data[feature] = get_meta_data(feature, control_meta)"
   ]
  },
  {
   "cell_type": "code",
   "execution_count": 21,
   "id": "bbeebcae-48d6-444e-8a0a-b3d3dbfbf937",
   "metadata": {},
   "outputs": [],
   "source": [
    "def create_comparison_histograms(name, data_source=\"features\"):\n",
    "    fig, axs = plt.subplots(2, 1)\n",
    "    if data_source == \"features\":\n",
    "        feature1 = feature_data[name]\n",
    "        feature2 = control_feature_data[name]\n",
    "    elif data_source == \"meta\":\n",
    "        feature1 = meta_data[name]\n",
    "        feature2 = control_meta_data[name]\n",
    "    \n",
    "    x1_min, x1_max = min(feature1), max(feature1)\n",
    "    x2_min, x2_max = min(feature2), max(feature2)\n",
    "    x_min = min(x1_min, x2_min)\n",
    "    x_max = max(x1_max, x2_max)\n",
    "    diff = x_max - x_min\n",
    "    xlim = (x_min - (diff * 0.05), x_max + (diff * 0.05))\n",
    "    h1 = sns.histplot(feature1, ax=axs[0])\n",
    "    h2 = sns.histplot(feature2, ax=axs[1], color='r')\n",
    "    h1.set_xlim(xlim)\n",
    "    h2.set_xlim(xlim)\n",
    "    \n",
    "    h1.set_title(name)\n",
    "    \n",
    "    print(ttest_ind(feature1, feature2, equal_var=False))\n",
    "    print(mannwhitneyu(feature1, feature2))"
   ]
  },
  {
   "cell_type": "code",
   "execution_count": 22,
   "id": "9c50804b-7931-4525-90d8-218dc17452ea",
   "metadata": {},
   "outputs": [
    {
     "name": "stdout",
     "output_type": "stream",
     "text": [
      "Ttest_indResult(statistic=-30.337707078789972, pvalue=1.3860813479814288e-165)\n",
      "MannwhitneyuResult(statistic=1164228.5, pvalue=1.0295061990077149e-171)\n"
     ]
    },
    {
     "data": {
      "image/png": "[encoded data removed]",
      "text/plain": [
       "<Figure size 432x288 with 2 Axes>"
      ]
     },
     "metadata": {
      "needs_background": "light"
     },
     "output_type": "display_data"
    }
   ],
   "source": [
    "create_comparison_histograms(\"valence\")"
   ]
  },
  {
   "cell_type": "code",
   "execution_count": 23,
   "id": "24c83b42-a8a0-4ef9-866f-f9a7661d86fc",
   "metadata": {},
   "outputs": [
    {
     "name": "stdout",
     "output_type": "stream",
     "text": [
      "Ttest_indResult(statistic=-17.87902782106958, pvalue=1.435402686220869e-67)\n",
      "MannwhitneyuResult(statistic=1670982.5, pvalue=6.183729128427605e-62)\n"
     ]
    },
    {
     "data": {
      "image/png": "[encoded data removed]",
      "text/plain": [
       "<Figure size 432x288 with 2 Axes>"
      ]
     },
     "metadata": {
      "needs_background": "light"
     },
     "output_type": "display_data"
    }
   ],
   "source": [
    "create_comparison_histograms(\"energy\")"
   ]
  },
  {
   "cell_type": "code",
   "execution_count": 24,
   "id": "3de091cf-5372-4444-ba89-df11b311e923",
   "metadata": {},
   "outputs": [
    {
     "name": "stdout",
     "output_type": "stream",
     "text": [
      "Ttest_indResult(statistic=-19.058752979202353, pvalue=9.003348477493686e-75)\n",
      "MannwhitneyuResult(statistic=1567781.5, pvalue=8.758446861666164e-80)\n"
     ]
    },
    {
     "data": {
      "image/png": "[encoded data removed]",
      "text/plain": [
       "<Figure size 432x288 with 2 Axes>"
      ]
     },
     "metadata": {
      "needs_background": "light"
     },
     "output_type": "display_data"
    }
   ],
   "source": [
    "create_comparison_histograms(\"danceability\")"
   ]
  },
  {
   "cell_type": "code",
   "execution_count": 25,
   "id": "2d08035e-db8a-427b-88d8-e1cab4f404fb",
   "metadata": {},
   "outputs": [
    {
     "name": "stdout",
     "output_type": "stream",
     "text": [
      "Ttest_indResult(statistic=61.556885293919585, pvalue=0.0)\n",
      "MannwhitneyuResult(statistic=4381174.0, pvalue=0.0)\n"
     ]
    },
    {
     "data": {
      "image/png": "[encoded data removed]",
      "text/plain": [
       "<Figure size 432x288 with 2 Axes>"
      ]
     },
     "metadata": {
      "needs_background": "light"
     },
     "output_type": "display_data"
    }
   ],
   "source": [
    "create_comparison_histograms(\"popularity\", data_source=\"meta\")"
   ]
  },
  {
   "cell_type": "code",
   "execution_count": 26,
   "id": "5b91b2b4-820c-46e1-b506-a7780269af75",
   "metadata": {},
   "outputs": [
    {
     "name": "stdout",
     "output_type": "stream",
     "text": [
      "Ttest_indResult(statistic=-5.554499310272966, pvalue=3.175479382882921e-08)\n",
      "MannwhitneyuResult(statistic=2266171.5, pvalue=0.0009545204914872469)\n"
     ]
    },
    {
     "data": {
      "image/png": "[encoded data removed]",
      "text/plain": [
       "<Figure size 432x288 with 2 Axes>"
      ]
     },
     "metadata": {
      "needs_background": "light"
     },
     "output_type": "display_data"
    }
   ],
   "source": [
    "create_comparison_histograms(\"duration_ms\", data_source=\"meta\")"
   ]
  },
  {
   "cell_type": "code",
   "execution_count": 27,
   "id": "0f50d2e6-634b-4c0e-82f5-ceb3fd03f901",
   "metadata": {},
   "outputs": [
    {
     "name": "stdout",
     "output_type": "stream",
     "text": [
      "Ttest_indResult(statistic=-2.743132081973114, pvalue=0.0061264897338275965)\n",
      "MannwhitneyuResult(statistic=2302746.5, pvalue=0.012915833315119762)\n"
     ]
    },
    {
     "data": {
      "image/png": "[encoded data removed]",
      "text/plain": [
       "<Figure size 432x288 with 2 Axes>"
      ]
     },
     "metadata": {
      "needs_background": "light"
     },
     "output_type": "display_data"
    }
   ],
   "source": [
    "create_comparison_histograms(\"tempo\")"
   ]
  },
  {
   "cell_type": "code",
   "execution_count": null,
   "id": "735a18df-9a2a-4a16-8869-992faa68aed2",
   "metadata": {},
   "outputs": [],
   "source": []
  }
 ],
 "metadata": {
  "kernelspec": {
   "display_name": "Python 3 (ipykernel)",
   "language": "python",
   "name": "python3"
  },
  "language_info": {
   "codemirror_mode": {
    "name": "ipython",
    "version": 3
   },
   "file_extension": ".py",
   "mimetype": "text/x-python",
   "name": "python",
   "nbconvert_exporter": "python",
   "pygments_lexer": "ipython3",
   "version": "3.8.10"
  }
 },
 "nbformat": 4,
 "nbformat_minor": 5
}
