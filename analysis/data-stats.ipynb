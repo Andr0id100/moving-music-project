{
 "cells": [
  {
   "cell_type": "code",
   "execution_count": 1,
   "id": "ba06d8dc-fb62-4a8e-b8d4-c294a9009a57",
   "metadata": {},
   "outputs": [],
   "source": [
    "import pygsheets\n",
    "import os\n",
    "import pandas as pd\n",
    "import numpy as np\n",
    "from spotipy.oauth2 import SpotifyClientCredentials\n",
    "from spotipy import Spotify\n",
    "from tqdm import tqdm\n",
    "import seaborn as sns\n",
    "import json"
   ]
  },
  {
   "cell_type": "code",
   "execution_count": 2,
   "id": "8b672317-d1b1-41b5-abbc-50822ddce77f",
   "metadata": {},
   "outputs": [],
   "source": [
    "gs_client = pygsheets.authorize(service_file=os.environ[\"GS_CRED_PATH\"])"
   ]
  },
  {
   "cell_type": "code",
   "execution_count": 3,
   "id": "023f8399-23d6-4b13-a06f-a0f56621e59a",
   "metadata": {},
   "outputs": [],
   "source": [
    "sh = gs_client.open('moving_data')\n",
    "worksheet = sh.sheet1 "
   ]
  },
  {
   "cell_type": "code",
   "execution_count": 4,
   "id": "308418bb-1705-4d9b-8b52-dcdacf848cad",
   "metadata": {},
   "outputs": [
    {
     "data": {
      "text/plain": [
       "<Worksheet 'all' index:0>"
      ]
     },
     "execution_count": 4,
     "metadata": {},
     "output_type": "execute_result"
    }
   ],
   "source": [
    "worksheet"
   ]
  },
  {
   "cell_type": "code",
   "execution_count": 5,
   "id": "ca928a23-3ab8-4d67-a319-0b5c033411e0",
   "metadata": {},
   "outputs": [],
   "source": [
    "df = worksheet.get_as_df()"
   ]
  },
  {
   "cell_type": "code",
   "execution_count": 6,
   "id": "798a36ce-3332-4835-ac63-f9ee7df63d14",
   "metadata": {},
   "outputs": [
    {
     "data": {
      "text/html": [
       "<div>\n",
       "<style scoped>\n",
       "    .dataframe tbody tr th:only-of-type {\n",
       "        vertical-align: middle;\n",
       "    }\n",
       "\n",
       "    .dataframe tbody tr th {\n",
       "        vertical-align: top;\n",
       "    }\n",
       "\n",
       "    .dataframe thead th {\n",
       "        text-align: right;\n",
       "    }\n",
       "</style>\n",
       "<table border=\"1\" class=\"dataframe\">\n",
       "  <thead>\n",
       "    <tr style=\"text-align: right;\">\n",
       "      <th></th>\n",
       "      <th>url</th>\n",
       "      <th>author</th>\n",
       "      <th>comment_id</th>\n",
       "      <th>upvotes</th>\n",
       "      <th>spotify_id</th>\n",
       "      <th>song_match</th>\n",
       "      <th>artist_match</th>\n",
       "      <th>post_id</th>\n",
       "    </tr>\n",
       "  </thead>\n",
       "  <tbody>\n",
       "    <tr>\n",
       "      <th>0</th>\n",
       "      <td>NaN</td>\n",
       "      <td>thunderstorm-nigg</td>\n",
       "      <td>fi72l72</td>\n",
       "      <td>326</td>\n",
       "      <td>561F1zqRwGPCTMRsLsXVtL</td>\n",
       "      <td>Time in bottle</td>\n",
       "      <td>Jim Croce</td>\n",
       "      <td>f6qlck</td>\n",
       "    </tr>\n",
       "    <tr>\n",
       "      <th>1</th>\n",
       "      <td>NaN</td>\n",
       "      <td>hockeyxfight</td>\n",
       "      <td>fi78pa1</td>\n",
       "      <td>2976</td>\n",
       "      <td>6mFkJmJqdDVQ1REhVfGgd1</td>\n",
       "      <td>Wish You Were Here</td>\n",
       "      <td>Pink Floyd</td>\n",
       "      <td>f6qlck</td>\n",
       "    </tr>\n",
       "    <tr>\n",
       "      <th>2</th>\n",
       "      <td>NaN</td>\n",
       "      <td>Zyffrin</td>\n",
       "      <td>fi6laxj</td>\n",
       "      <td>8598</td>\n",
       "      <td>0QZ5yyl6B6utIWkxeBDxQN</td>\n",
       "      <td>The Night We Met</td>\n",
       "      <td>Lord Huron</td>\n",
       "      <td>f6qlck</td>\n",
       "    </tr>\n",
       "    <tr>\n",
       "      <th>3</th>\n",
       "      <td>NaN</td>\n",
       "      <td>Talstone</td>\n",
       "      <td>fi6hjh2</td>\n",
       "      <td>2043</td>\n",
       "      <td>0MNNKSUU9OOQ8DSGWduw79</td>\n",
       "      <td>Mystery of Love</td>\n",
       "      <td>Sufjan Stevens</td>\n",
       "      <td>f6qlck</td>\n",
       "    </tr>\n",
       "    <tr>\n",
       "      <th>4</th>\n",
       "      <td>NaN</td>\n",
       "      <td>_THATSALOTADAMAGE_</td>\n",
       "      <td>fi78ygl</td>\n",
       "      <td>1201</td>\n",
       "      <td>0GgN4MhR5GKn5IcKN0e0rG</td>\n",
       "      <td>Cancer</td>\n",
       "      <td>My Chemical Romance</td>\n",
       "      <td>f6qlck</td>\n",
       "    </tr>\n",
       "  </tbody>\n",
       "</table>\n",
       "</div>"
      ],
      "text/plain": [
       "   url              author comment_id  upvotes              spotify_id  \\\n",
       "0  NaN   thunderstorm-nigg    fi72l72      326  561F1zqRwGPCTMRsLsXVtL   \n",
       "1  NaN        hockeyxfight    fi78pa1     2976  6mFkJmJqdDVQ1REhVfGgd1   \n",
       "2  NaN             Zyffrin    fi6laxj     8598  0QZ5yyl6B6utIWkxeBDxQN   \n",
       "3  NaN            Talstone    fi6hjh2     2043  0MNNKSUU9OOQ8DSGWduw79   \n",
       "4  NaN  _THATSALOTADAMAGE_    fi78ygl     1201  0GgN4MhR5GKn5IcKN0e0rG   \n",
       "\n",
       "           song_match         artist_match post_id  \n",
       "0      Time in bottle            Jim Croce  f6qlck  \n",
       "1  Wish You Were Here           Pink Floyd  f6qlck  \n",
       "2    The Night We Met           Lord Huron  f6qlck  \n",
       "3     Mystery of Love       Sufjan Stevens  f6qlck  \n",
       "4              Cancer  My Chemical Romance  f6qlck  "
      ]
     },
     "execution_count": 6,
     "metadata": {},
     "output_type": "execute_result"
    }
   ],
   "source": [
    "df.head()\n"
   ]
  },
  {
   "cell_type": "code",
   "execution_count": 7,
   "id": "10aa6080-1220-4b2f-bb29-aeaca10688d8",
   "metadata": {},
   "outputs": [
    {
     "data": {
      "text/plain": [
       "8552"
      ]
     },
     "execution_count": 7,
     "metadata": {},
     "output_type": "execute_result"
    }
   ],
   "source": [
    "len(df)"
   ]
  },
  {
   "cell_type": "code",
   "execution_count": 9,
   "id": "1f69ac07-4962-409f-9486-f008d7a4df56",
   "metadata": {},
   "outputs": [
    {
     "data": {
      "text/plain": [
       "3655"
      ]
     },
     "execution_count": 9,
     "metadata": {},
     "output_type": "execute_result"
    }
   ],
   "source": [
    "len(df[\"spotify_id\"].uniqueque())"
   ]
  },
  {
   "cell_type": "code",
   "execution_count": 15,
   "id": "bdbce8ac-4a31-4ca5-a4ea-a4314c649d71",
   "metadata": {},
   "outputs": [
    {
     "data": {
      "text/plain": [
       "float"
      ]
     },
     "execution_count": 15,
     "metadata": {},
     "output_type": "execute_result"
    }
   ],
   "source": [
    "type(df.iloc[0][\"url\"])"
   ]
  },
  {
   "cell_type": "code",
   "execution_count": 20,
   "id": "128e9e6c-4c50-4ba7-9f14-317c56db8c39",
   "metadata": {},
   "outputs": [
    {
     "data": {
      "text/plain": [
       "nan"
      ]
     },
     "execution_count": 20,
     "metadata": {},
     "output_type": "execute_result"
    }
   ],
   "source": [
    "(df.iloc[0][\"url\"])"
   ]
  },
  {
   "cell_type": "code",
   "execution_count": 19,
   "id": "556b34a9-4b8b-4810-97d0-1be0d266b569",
   "metadata": {},
   "outputs": [
    {
     "data": {
      "text/html": [
       "<div>\n",
       "<style scoped>\n",
       "    .dataframe tbody tr th:only-of-type {\n",
       "        vertical-align: middle;\n",
       "    }\n",
       "\n",
       "    .dataframe tbody tr th {\n",
       "        vertical-align: top;\n",
       "    }\n",
       "\n",
       "    .dataframe thead th {\n",
       "        text-align: right;\n",
       "    }\n",
       "</style>\n",
       "<table border=\"1\" class=\"dataframe\">\n",
       "  <thead>\n",
       "    <tr style=\"text-align: right;\">\n",
       "      <th></th>\n",
       "      <th>url</th>\n",
       "      <th>author</th>\n",
       "      <th>comment_id</th>\n",
       "      <th>upvotes</th>\n",
       "      <th>spotify_id</th>\n",
       "      <th>song_match</th>\n",
       "      <th>artist_match</th>\n",
       "      <th>post_id</th>\n",
       "    </tr>\n",
       "  </thead>\n",
       "  <tbody>\n",
       "    <tr>\n",
       "      <th>0</th>\n",
       "      <td>NaN</td>\n",
       "      <td>thunderstorm-nigg</td>\n",
       "      <td>fi72l72</td>\n",
       "      <td>326</td>\n",
       "      <td>561F1zqRwGPCTMRsLsXVtL</td>\n",
       "      <td>Time in bottle</td>\n",
       "      <td>Jim Croce</td>\n",
       "      <td>f6qlck</td>\n",
       "    </tr>\n",
       "    <tr>\n",
       "      <th>1</th>\n",
       "      <td>NaN</td>\n",
       "      <td>hockeyxfight</td>\n",
       "      <td>fi78pa1</td>\n",
       "      <td>2976</td>\n",
       "      <td>6mFkJmJqdDVQ1REhVfGgd1</td>\n",
       "      <td>Wish You Were Here</td>\n",
       "      <td>Pink Floyd</td>\n",
       "      <td>f6qlck</td>\n",
       "    </tr>\n",
       "    <tr>\n",
       "      <th>2</th>\n",
       "      <td>NaN</td>\n",
       "      <td>Zyffrin</td>\n",
       "      <td>fi6laxj</td>\n",
       "      <td>8598</td>\n",
       "      <td>0QZ5yyl6B6utIWkxeBDxQN</td>\n",
       "      <td>The Night We Met</td>\n",
       "      <td>Lord Huron</td>\n",
       "      <td>f6qlck</td>\n",
       "    </tr>\n",
       "    <tr>\n",
       "      <th>3</th>\n",
       "      <td>NaN</td>\n",
       "      <td>Talstone</td>\n",
       "      <td>fi6hjh2</td>\n",
       "      <td>2043</td>\n",
       "      <td>0MNNKSUU9OOQ8DSGWduw79</td>\n",
       "      <td>Mystery of Love</td>\n",
       "      <td>Sufjan Stevens</td>\n",
       "      <td>f6qlck</td>\n",
       "    </tr>\n",
       "    <tr>\n",
       "      <th>4</th>\n",
       "      <td>NaN</td>\n",
       "      <td>_THATSALOTADAMAGE_</td>\n",
       "      <td>fi78ygl</td>\n",
       "      <td>1201</td>\n",
       "      <td>0GgN4MhR5GKn5IcKN0e0rG</td>\n",
       "      <td>Cancer</td>\n",
       "      <td>My Chemical Romance</td>\n",
       "      <td>f6qlck</td>\n",
       "    </tr>\n",
       "    <tr>\n",
       "      <th>...</th>\n",
       "      <td>...</td>\n",
       "      <td>...</td>\n",
       "      <td>...</td>\n",
       "      <td>...</td>\n",
       "      <td>...</td>\n",
       "      <td>...</td>\n",
       "      <td>...</td>\n",
       "      <td>...</td>\n",
       "    </tr>\n",
       "    <tr>\n",
       "      <th>8547</th>\n",
       "      <td>https://www.youtube.com/watch?v=8AOgjFqWP7I</td>\n",
       "      <td>WaBom</td>\n",
       "      <td>co4xr00</td>\n",
       "      <td>3</td>\n",
       "      <td>Video Unavailable</td>\n",
       "      <td>NaN</td>\n",
       "      <td>NaN</td>\n",
       "      <td>2u2q0a</td>\n",
       "    </tr>\n",
       "    <tr>\n",
       "      <th>8548</th>\n",
       "      <td>https://www.youtube.com/watch?v=py0vUPISxLY</td>\n",
       "      <td>WaBom</td>\n",
       "      <td>co4xr00</td>\n",
       "      <td>3</td>\n",
       "      <td>Video Unavailable</td>\n",
       "      <td>NaN</td>\n",
       "      <td>NaN</td>\n",
       "      <td>2u2q0a</td>\n",
       "    </tr>\n",
       "    <tr>\n",
       "      <th>8549</th>\n",
       "      <td>https://www.youtube.com/watch?v=59cZzSmWwbE</td>\n",
       "      <td>MrFCT</td>\n",
       "      <td>co5bxsn</td>\n",
       "      <td>1</td>\n",
       "      <td>Video Unavailable</td>\n",
       "      <td>NaN</td>\n",
       "      <td>NaN</td>\n",
       "      <td>2u2q0a</td>\n",
       "    </tr>\n",
       "    <tr>\n",
       "      <th>8550</th>\n",
       "      <td>https://www.youtube.com/watch?v=vmd1qMN5Yo0</td>\n",
       "      <td>dinosaur_chunks</td>\n",
       "      <td>co5ekkd</td>\n",
       "      <td>1</td>\n",
       "      <td>7mMlbJlXXo2mRtQ4R9sIzD</td>\n",
       "      <td>NaN</td>\n",
       "      <td>NaN</td>\n",
       "      <td>2u2q0a</td>\n",
       "    </tr>\n",
       "    <tr>\n",
       "      <th>8551</th>\n",
       "      <td>https://www.youtube.com/watch?v=XWTL5pKYofY</td>\n",
       "      <td>dinosaur_chunks</td>\n",
       "      <td>co5ekkd</td>\n",
       "      <td>1</td>\n",
       "      <td>7mMlbJlXXo2mRtQ4R9sIzD</td>\n",
       "      <td>NaN</td>\n",
       "      <td>NaN</td>\n",
       "      <td>2u2q0a</td>\n",
       "    </tr>\n",
       "  </tbody>\n",
       "</table>\n",
       "<p>8552 rows × 8 columns</p>\n",
       "</div>"
      ],
      "text/plain": [
       "                                              url              author  \\\n",
       "0                                             NaN   thunderstorm-nigg   \n",
       "1                                             NaN        hockeyxfight   \n",
       "2                                             NaN             Zyffrin   \n",
       "3                                             NaN            Talstone   \n",
       "4                                             NaN  _THATSALOTADAMAGE_   \n",
       "...                                           ...                 ...   \n",
       "8547  https://www.youtube.com/watch?v=8AOgjFqWP7I               WaBom   \n",
       "8548  https://www.youtube.com/watch?v=py0vUPISxLY               WaBom   \n",
       "8549  https://www.youtube.com/watch?v=59cZzSmWwbE               MrFCT   \n",
       "8550  https://www.youtube.com/watch?v=vmd1qMN5Yo0     dinosaur_chunks   \n",
       "8551  https://www.youtube.com/watch?v=XWTL5pKYofY     dinosaur_chunks   \n",
       "\n",
       "     comment_id  upvotes              spotify_id          song_match  \\\n",
       "0       fi72l72      326  561F1zqRwGPCTMRsLsXVtL      Time in bottle   \n",
       "1       fi78pa1     2976  6mFkJmJqdDVQ1REhVfGgd1  Wish You Were Here   \n",
       "2       fi6laxj     8598  0QZ5yyl6B6utIWkxeBDxQN    The Night We Met   \n",
       "3       fi6hjh2     2043  0MNNKSUU9OOQ8DSGWduw79     Mystery of Love   \n",
       "4       fi78ygl     1201  0GgN4MhR5GKn5IcKN0e0rG              Cancer   \n",
       "...         ...      ...                     ...                 ...   \n",
       "8547    co4xr00        3       Video Unavailable                 NaN   \n",
       "8548    co4xr00        3       Video Unavailable                 NaN   \n",
       "8549    co5bxsn        1       Video Unavailable                 NaN   \n",
       "8550    co5ekkd        1  7mMlbJlXXo2mRtQ4R9sIzD                 NaN   \n",
       "8551    co5ekkd        1  7mMlbJlXXo2mRtQ4R9sIzD                 NaN   \n",
       "\n",
       "             artist_match post_id  \n",
       "0               Jim Croce  f6qlck  \n",
       "1              Pink Floyd  f6qlck  \n",
       "2              Lord Huron  f6qlck  \n",
       "3          Sufjan Stevens  f6qlck  \n",
       "4     My Chemical Romance  f6qlck  \n",
       "...                   ...     ...  \n",
       "8547                  NaN  2u2q0a  \n",
       "8548                  NaN  2u2q0a  \n",
       "8549                  NaN  2u2q0a  \n",
       "8550                  NaN  2u2q0a  \n",
       "8551                  NaN  2u2q0a  \n",
       "\n",
       "[8552 rows x 8 columns]"
      ]
     },
     "execution_count": 19,
     "metadata": {},
     "output_type": "execute_result"
    }
   ],
   "source": [
    "df[df[\"url\"] != df.iloc[0][\"url\"]]"
   ]
  },
  {
   "cell_type": "code",
   "execution_count": 24,
   "id": "8985491a-37b3-4d66-8c2f-9a6db326e7e6",
   "metadata": {},
   "outputs": [
    {
     "data": {
      "text/plain": [
       "1669"
      ]
     },
     "execution_count": 24,
     "metadata": {},
     "output_type": "execute_result"
    }
   ],
   "source": [
    "len(df[\"url\"].unique())"
   ]
  },
  {
   "cell_type": "code",
   "execution_count": 28,
   "id": "ce9ab9b9-2a74-4ced-8345-93ceef26a96e",
   "metadata": {},
   "outputs": [
    {
     "data": {
      "text/html": [
       "<div>\n",
       "<style scoped>\n",
       "    .dataframe tbody tr th:only-of-type {\n",
       "        vertical-align: middle;\n",
       "    }\n",
       "\n",
       "    .dataframe tbody tr th {\n",
       "        vertical-align: top;\n",
       "    }\n",
       "\n",
       "    .dataframe thead th {\n",
       "        text-align: right;\n",
       "    }\n",
       "</style>\n",
       "<table border=\"1\" class=\"dataframe\">\n",
       "  <thead>\n",
       "    <tr style=\"text-align: right;\">\n",
       "      <th></th>\n",
       "      <th>song_match</th>\n",
       "      <th>artist_match</th>\n",
       "    </tr>\n",
       "  </thead>\n",
       "  <tbody>\n",
       "    <tr>\n",
       "      <th>0</th>\n",
       "      <td>Time in bottle</td>\n",
       "      <td>Jim Croce</td>\n",
       "    </tr>\n",
       "    <tr>\n",
       "      <th>1</th>\n",
       "      <td>Wish You Were Here</td>\n",
       "      <td>Pink Floyd</td>\n",
       "    </tr>\n",
       "    <tr>\n",
       "      <th>2</th>\n",
       "      <td>The Night We Met</td>\n",
       "      <td>Lord Huron</td>\n",
       "    </tr>\n",
       "    <tr>\n",
       "      <th>3</th>\n",
       "      <td>Mystery of Love</td>\n",
       "      <td>Sufjan Stevens</td>\n",
       "    </tr>\n",
       "    <tr>\n",
       "      <th>4</th>\n",
       "      <td>Cancer</td>\n",
       "      <td>My Chemical Romance</td>\n",
       "    </tr>\n",
       "    <tr>\n",
       "      <th>...</th>\n",
       "      <td>...</td>\n",
       "      <td>...</td>\n",
       "    </tr>\n",
       "    <tr>\n",
       "      <th>8547</th>\n",
       "      <td>NaN</td>\n",
       "      <td>NaN</td>\n",
       "    </tr>\n",
       "    <tr>\n",
       "      <th>8548</th>\n",
       "      <td>NaN</td>\n",
       "      <td>NaN</td>\n",
       "    </tr>\n",
       "    <tr>\n",
       "      <th>8549</th>\n",
       "      <td>NaN</td>\n",
       "      <td>NaN</td>\n",
       "    </tr>\n",
       "    <tr>\n",
       "      <th>8550</th>\n",
       "      <td>NaN</td>\n",
       "      <td>NaN</td>\n",
       "    </tr>\n",
       "    <tr>\n",
       "      <th>8551</th>\n",
       "      <td>NaN</td>\n",
       "      <td>NaN</td>\n",
       "    </tr>\n",
       "  </tbody>\n",
       "</table>\n",
       "<p>8552 rows × 2 columns</p>\n",
       "</div>"
      ],
      "text/plain": [
       "              song_match         artist_match\n",
       "0         Time in bottle            Jim Croce\n",
       "1     Wish You Were Here           Pink Floyd\n",
       "2       The Night We Met           Lord Huron\n",
       "3        Mystery of Love       Sufjan Stevens\n",
       "4                 Cancer  My Chemical Romance\n",
       "...                  ...                  ...\n",
       "8547                 NaN                  NaN\n",
       "8548                 NaN                  NaN\n",
       "8549                 NaN                  NaN\n",
       "8550                 NaN                  NaN\n",
       "8551                 NaN                  NaN\n",
       "\n",
       "[8552 rows x 2 columns]"
      ]
     },
     "execution_count": 28,
     "metadata": {},
     "output_type": "execute_result"
    }
   ],
   "source": [
    "df[[\"song_match\", \"artist_match\"]]"
   ]
  },
  {
   "cell_type": "code",
   "execution_count": 30,
   "id": "af9e6902-2628-4d27-93c7-c78899452f24",
   "metadata": {},
   "outputs": [
    {
     "data": {
      "text/plain": [
       "8552"
      ]
     },
     "execution_count": 30,
     "metadata": {},
     "output_type": "execute_result"
    }
   ],
   "source": [
    "len(list(zip(df.song_match, df.artist_match)))"
   ]
  },
  {
   "cell_type": "code",
   "execution_count": 32,
   "id": "773586cc-b0ee-4968-a021-7777646391e1",
   "metadata": {},
   "outputs": [
    {
     "data": {
      "text/plain": [
       "6486"
      ]
     },
     "execution_count": 32,
     "metadata": {},
     "output_type": "execute_result"
    }
   ],
   "source": [
    "len(set(list(zip(df.song_match, df.artist_match))))"
   ]
  }
 ],
 "metadata": {
  "kernelspec": {
   "display_name": "Python 3 (ipykernel)",
   "language": "python",
   "name": "python3"
  },
  "language_info": {
   "codemirror_mode": {
    "name": "ipython",
    "version": 3
   },
   "file_extension": ".py",
   "mimetype": "text/x-python",
   "name": "python",
   "nbconvert_exporter": "python",
   "pygments_lexer": "ipython3",
   "version": "3.8.10"
  }
 },
 "nbformat": 4,
 "nbformat_minor": 5
}
