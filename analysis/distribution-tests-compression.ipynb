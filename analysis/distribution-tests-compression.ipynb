{
 "cells": [
  {
   "cell_type": "code",
   "execution_count": 2,
   "id": "a688569e-b0b8-4ef2-bb00-72154f8db687",
   "metadata": {},
   "outputs": [],
   "source": [
    "import json\n",
    "import matplotlib.pyplot as plt\n",
    "import seaborn as sns\n",
    "from scipy.stats import ttest_ind, mannwhitneyu, normaltest\n",
    "import numpy as np"
   ]
  },
  {
   "cell_type": "code",
   "execution_count": 2,
   "id": "7c9e711a-e8cb-4339-bc16-03063348f477",
   "metadata": {},
   "outputs": [],
   "source": [
    "MOVING_META_DATA_PATH = \"track-meta-data.json\"\n",
    "MOVING_AUDIO_FEATURES_PATH = \"track-audio-features.json\""
   ]
  },
  {
   "cell_type": "code",
   "execution_count": 9,
   "id": "83c66238-edb4-4391-8da9-d592b21b054f",
   "metadata": {},
   "outputs": [],
   "source": [
    "CONTROL_META_DATA_PATH = \"control-track-meta-data.json\"\n",
    "CONTROL_AUDIO_FEATURES_PATH = \"control-track-audio-features.json\""
   ]
  },
  {
   "cell_type": "markdown",
   "id": "574af4a2-dada-469b-9a33-66f4197b2249",
   "metadata": {},
   "source": [
    "Different Control Group"
   ]
  },
  {
   "cell_type": "code",
   "execution_count": 14,
   "id": "e15e2e62-7701-4837-a8dc-0113fecccc1a",
   "metadata": {},
   "outputs": [],
   "source": [
    "CONTROL_META_DATA_PATH = \"playlist_data/6qZnImkqxbRtL9FiwqHkGK-meta-data.json\"\n",
    "CONTROL_AUDIO_FEATURES_PATH = \"playlist_data/6qZnImkqxbRtL9FiwqHkGK-audio-features.json\""
   ]
  },
  {
   "cell_type": "code",
   "execution_count": 15,
   "id": "13e579db-c178-4c2a-b7da-2bec70914a56",
   "metadata": {},
   "outputs": [],
   "source": [
    "with open(MOVING_META_DATA_PATH) as f:\n",
    "    moving_meta_data = json.load(f)"
   ]
  },
  {
   "cell_type": "code",
   "execution_count": 16,
   "id": "573dd5ac-1b60-41c2-a17d-a818e9c10648",
   "metadata": {},
   "outputs": [],
   "source": [
    "with open(MOVING_AUDIO_FEATURES_PATH) as f:\n",
    "    moving_audio_features = json.load(f)"
   ]
  },
  {
   "cell_type": "code",
   "execution_count": 17,
   "id": "a6c2d78a-40a8-4bf6-b089-a1809657e6b8",
   "metadata": {},
   "outputs": [],
   "source": [
    "with open(CONTROL_META_DATA_PATH) as f:\n",
    "    control_meta_data = json.load(f)"
   ]
  },
  {
   "cell_type": "code",
   "execution_count": 19,
   "id": "08d9fbc4-9373-4125-a835-d953513800b8",
   "metadata": {},
   "outputs": [],
   "source": [
    "with open(CONTROL_AUDIO_FEATURES_PATH) as f:\n",
    "    control_audio_features = json.load(f)"
   ]
  },
  {
   "cell_type": "code",
   "execution_count": 20,
   "id": "dea3c170-5255-4662-95cc-38961ce847d7",
   "metadata": {},
   "outputs": [],
   "source": [
    "def get_feature(feature_name, all_features):\n",
    "    return list(map(lambda x: x[feature_name], all_features))"
   ]
  },
  {
   "cell_type": "code",
   "execution_count": 21,
   "id": "195c4e87-867d-47d3-b276-686229b4b0dc",
   "metadata": {},
   "outputs": [],
   "source": [
    "def get_meta_data(feature_name, meta_data):\n",
    "    return list(map(lambda x: x[feature_name], meta_data))"
   ]
  },
  {
   "cell_type": "code",
   "execution_count": 22,
   "id": "cd77e76c-6818-41e3-9b89-bf1188835c8b",
   "metadata": {},
   "outputs": [],
   "source": [
    "moving_feature = {}\n",
    "for feature in moving_audio_features[0].keys():\n",
    "    moving_feature[feature] = get_feature(feature, moving_audio_features)"
   ]
  },
  {
   "cell_type": "code",
   "execution_count": 23,
   "id": "0084a552-ef41-404d-9f2d-a9662cc0a6a1",
   "metadata": {},
   "outputs": [],
   "source": [
    "control_feature = {}\n",
    "for feature in control_audio_features[0].keys():\n",
    "    control_feature[feature] = get_feature(feature, control_audio_features)"
   ]
  },
  {
   "cell_type": "code",
   "execution_count": 24,
   "id": "6a8b537f-6b35-4f9a-a8c0-6c2ac551c8a9",
   "metadata": {},
   "outputs": [],
   "source": [
    "moving_meta = {}\n",
    "for feature in moving_meta_data[0].keys():\n",
    "    moving_meta[feature] = get_meta_data(feature, moving_meta_data)"
   ]
  },
  {
   "cell_type": "code",
   "execution_count": 25,
   "id": "55ccd356-9772-42ca-9791-a1f1771f1974",
   "metadata": {},
   "outputs": [],
   "source": [
    "control_meta = {}\n",
    "for feature in control_meta_data[0].keys():\n",
    "    control_meta[feature] = get_meta_data(feature, control_meta_data)"
   ]
  },
  {
   "cell_type": "code",
   "execution_count": 25,
   "id": "bbeebcae-48d6-444e-8a0a-b3d3dbfbf937",
   "metadata": {},
   "outputs": [
    {
     "name": "stdout",
     "output_type": "stream",
     "text": [
      "3297\n",
      "3019\n",
      "P-Values\n",
      "Normal-Test:\t0.0\n",
      "T-Test:\t\t0.8903184714700958\n",
      "Mann-Whitney:\t0.6174377320300619\n"
     ]
    },
    {
     "data": {
      "image/png": "[encoded data removed]",
      "text/plain": [
       "<Figure size 432x288 with 2 Axes>"
      ]
     },
     "metadata": {
      "needs_background": "light"
     },
     "output_type": "display_data"
    }
   ],
   "source": [
    "fig, axs = plt.subplots(2, 1)\n",
    "# if data_source == \"features\":\n",
    "#     feature1 = moving_feature[name]\n",
    "#     feature2 = control_feature[name]\n",
    "# elif data_source == \"meta\":\n",
    "#     feature1 = moving_meta[name]\n",
    "#     feature2 = control_meta[name]\n",
    "\n",
    "feature1 = np.load(\"smog/moving.npy\")\n",
    "feature2 = np.load(\"smog/control.npy\")\n",
    "\n",
    "print(len(feature1))\n",
    "feature1 = [x for x in feature1]\n",
    "feature1 = list(filter(lambda x: x > 3.4 , feature1))\n",
    "\n",
    "print(len(feature1))\n",
    "\n",
    "# feature1 = list(range(1000))\n",
    "# feature2 = list(range(1000))\n",
    "\n",
    "x1_min, x1_max = min(feature1), max(feature1)\n",
    "x2_min, x2_max = min(feature2), max(feature2)\n",
    "x_min = min(x1_min, x2_min)\n",
    "x_max = max(x1_max, x2_max)\n",
    "diff = x_max - x_min\n",
    "xlim = (x_min - (diff * 0.05), x_max + (diff * 0.05))\n",
    "h1 = sns.histplot(feature1, ax=axs[0])\n",
    "h2 = sns.histplot(feature2, ax=axs[1], color='r')\n",
    "h1.set_xlim(xlim)\n",
    "h2.set_xlim(xlim)\n",
    "\n",
    "h1.set_title(\"SMOG\")\n",
    "print(\"P-Values\")\n",
    "print(\"Normal-Test:\", normaltest(feature1).pvalue, sep=\"\\t\")\n",
    "print(\"T-Test:\", ttest_ind(feature1, feature2, equal_var=False).pvalue, sep=\"\\t\\t\")\n",
    "print(\"Mann-Whitney:\", mannwhitneyu(feature1, feature2).pvalue, sep=\"\\t\")"
   ]
  },
  {
   "cell_type": "code",
   "execution_count": null,
   "id": "f622879c-bc17-4d97-b87b-66c066c04f4a",
   "metadata": {},
   "outputs": [],
   "source": []
  },
  {
   "cell_type": "code",
   "execution_count": 83,
   "id": "9c50804b-7931-4525-90d8-218dc17452ea",
   "metadata": {},
   "outputs": [
    {
     "name": "stdout",
     "output_type": "stream",
     "text": [
      "P-Values\n",
      "Normal-Test:\t6.115171869209411e-74\n",
      "T-Test:\t\t6.132600967212547e-18\n",
      "Mann-Whitney:\t6.226159145557638e-21\n"
     ]
    },
    {
     "data": {
      "image/png": "[encoded data removed]",
      "text/plain": [
       "<Figure size 432x288 with 2 Axes>"
      ]
     },
     "metadata": {
      "needs_background": "light"
     },
     "output_type": "display_data"
    }
   ],
   "source": [
    "create_comparison_histograms(\"valence\")"
   ]
  },
  {
   "cell_type": "code",
   "execution_count": 84,
   "id": "24c83b42-a8a0-4ef9-866f-f9a7661d86fc",
   "metadata": {},
   "outputs": [
    {
     "name": "stdout",
     "output_type": "stream",
     "text": [
      "P-Values\n",
      "Normal-Test:\t1.8189372486766934e-121\n",
      "T-Test:\t\t9.078189081723354e-25\n",
      "Mann-Whitney:\t5.293786375947693e-24\n"
     ]
    },
    {
     "data": {
      "image/png": "[encoded data removed]",
      "text/plain": [
       "<Figure size 432x288 with 2 Axes>"
      ]
     },
     "metadata": {
      "needs_background": "light"
     },
     "output_type": "display_data"
    }
   ],
   "source": [
    "create_comparison_histograms(\"energy\")"
   ]
  },
  {
   "cell_type": "code",
   "execution_count": 85,
   "id": "3de091cf-5372-4444-ba89-df11b311e923",
   "metadata": {},
   "outputs": [
    {
     "name": "stdout",
     "output_type": "stream",
     "text": [
      "P-Values\n",
      "Normal-Test:\t0.006191027217558171\n",
      "T-Test:\t\t0.00016921028540001253\n",
      "Mann-Whitney:\t0.0002461062399480557\n"
     ]
    },
    {
     "data": {
      "image/png": "[encoded data removed]",
      "text/plain": [
       "<Figure size 432x288 with 2 Axes>"
      ]
     },
     "metadata": {
      "needs_background": "light"
     },
     "output_type": "display_data"
    }
   ],
   "source": [
    "create_comparison_histograms(\"danceability\")"
   ]
  },
  {
   "cell_type": "code",
   "execution_count": 86,
   "id": "2d08035e-db8a-427b-88d8-e1cab4f404fb",
   "metadata": {},
   "outputs": [
    {
     "name": "stdout",
     "output_type": "stream",
     "text": [
      "P-Values\n",
      "Normal-Test:\t1.4328097301667345e-16\n",
      "T-Test:\t\t3.1448964709694925e-101\n",
      "Mann-Whitney:\t5.698208437059771e-106\n"
     ]
    },
    {
     "data": {
      "image/png": "[encoded data removed]",
      "text/plain": [
       "<Figure size 432x288 with 2 Axes>"
      ]
     },
     "metadata": {
      "needs_background": "light"
     },
     "output_type": "display_data"
    }
   ],
   "source": [
    "create_comparison_histograms(\"popularity\", data_source=\"meta\")"
   ]
  },
  {
   "cell_type": "code",
   "execution_count": 87,
   "id": "5b91b2b4-820c-46e1-b506-a7780269af75",
   "metadata": {},
   "outputs": [
    {
     "name": "stdout",
     "output_type": "stream",
     "text": [
      "P-Values\n",
      "Normal-Test:\t0.0\n",
      "T-Test:\t\t5.146880837401583e-16\n",
      "Mann-Whitney:\t2.1066578716588119e-19\n"
     ]
    },
    {
     "data": {
      "image/png": "[encoded data removed]",
      "text/plain": [
       "<Figure size 432x288 with 2 Axes>"
      ]
     },
     "metadata": {
      "needs_background": "light"
     },
     "output_type": "display_data"
    }
   ],
   "source": [
    "create_comparison_histograms(\"duration_ms\", data_source=\"meta\")"
   ]
  },
  {
   "cell_type": "code",
   "execution_count": 88,
   "id": "0f50d2e6-634b-4c0e-82f5-ceb3fd03f901",
   "metadata": {},
   "outputs": [
    {
     "name": "stdout",
     "output_type": "stream",
     "text": [
      "P-Values\n",
      "Normal-Test:\t9.458063911158476e-21\n",
      "T-Test:\t\t1.56013737424934e-05\n",
      "Mann-Whitney:\t4.514796212315444e-05\n"
     ]
    },
    {
     "data": {
      "image/png": "[encoded data removed]",
      "text/plain": [
       "<Figure size 432x288 with 2 Axes>"
      ]
     },
     "metadata": {
      "needs_background": "light"
     },
     "output_type": "display_data"
    }
   ],
   "source": [
    "create_comparison_histograms(\"tempo\")"
   ]
  },
  {
   "cell_type": "code",
   "execution_count": null,
   "id": "735a18df-9a2a-4a16-8869-992faa68aed2",
   "metadata": {},
   "outputs": [],
   "source": []
  }
 ],
 "metadata": {
  "kernelspec": {
   "display_name": "Python 3 (ipykernel)",
   "language": "python",
   "name": "python3"
  },
  "language_info": {
   "codemirror_mode": {
    "name": "ipython",
    "version": 3
   },
   "file_extension": ".py",
   "mimetype": "text/x-python",
   "name": "python",
   "nbconvert_exporter": "python",
   "pygments_lexer": "ipython3",
   "version": "3.8.10"
  }
 },
 "nbformat": 4,
 "nbformat_minor": 5
}
