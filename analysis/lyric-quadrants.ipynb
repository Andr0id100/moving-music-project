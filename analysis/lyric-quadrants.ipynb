{
 "cells": [
  {
   "cell_type": "code",
   "execution_count": 39,
   "id": "15e635e9-a37d-4d0d-8afa-13940346d0d1",
   "metadata": {},
   "outputs": [],
   "source": [
    "import numpy as np\n",
    "import seaborn as sns"
   ]
  },
  {
   "cell_type": "code",
   "execution_count": 48,
   "id": "a5ed138c-cc69-43f8-b6f9-85d7a46c9699",
   "metadata": {},
   "outputs": [],
   "source": [
    "emotions_quadrant_preds = np.load(\"playlist_emotions/4Dg0J0ICj9kKTGDyFu0Cv4.npy\")"
   ]
  },
  {
   "cell_type": "code",
   "execution_count": 41,
   "id": "aa1179f2-d9d0-4285-86de-f2085c46d4ec",
   "metadata": {},
   "outputs": [],
   "source": [
    "emotions_quadrant_preds = np.load(\"lyric-emotion-predictions.npy\")"
   ]
  },
  {
   "cell_type": "code",
   "execution_count": 49,
   "id": "b6ce372e-3b2b-4e47-89ff-022fed1999cc",
   "metadata": {},
   "outputs": [],
   "source": [
    "emotion_quadrants = emotions_quadrant_preds.argmax(axis=-1) + 1"
   ]
  },
  {
   "cell_type": "code",
   "execution_count": 51,
   "id": "c263b5d0-6a40-49b8-bc42-112844df4425",
   "metadata": {},
   "outputs": [
    {
     "data": {
      "image/png": "[encoded data removed]",
      "text/plain": [
       "<Figure size 432x288 with 1 Axes>"
      ]
     },
     "metadata": {
      "needs_background": "light"
     },
     "output_type": "display_data"
    }
   ],
   "source": [
    "g = sns.histplot(emotion_quadrants, color='r')\n",
    "g.set_xticks(range(1, 5));\n",
    "g.set_title(\"Quadrant\");"
   ]
  },
  {
   "cell_type": "code",
   "execution_count": 44,
   "id": "0e8acf29-d918-4eb4-8cab-7fa2b86f099a",
   "metadata": {},
   "outputs": [],
   "source": [
    "occurences = [(emotion_quadrants == i).sum() for i in range(1, 5)]"
   ]
  },
  {
   "cell_type": "code",
   "execution_count": 45,
   "id": "98827d21-5597-4dba-a274-13bf3e58fbca",
   "metadata": {},
   "outputs": [
    {
     "data": {
      "text/plain": [
       "0.44468784227820374"
      ]
     },
     "execution_count": 45,
     "metadata": {},
     "output_type": "execute_result"
    }
   ],
   "source": [
    "occurences[2] / sum(occurences)"
   ]
  },
  {
   "cell_type": "code",
   "execution_count": null,
   "id": "31e3b7c8-4a7a-4f78-8161-9e450dbf855b",
   "metadata": {},
   "outputs": [],
   "source": []
  }
 ],
 "metadata": {
  "kernelspec": {
   "display_name": "Python 3 (ipykernel)",
   "language": "python",
   "name": "python3"
  },
  "language_info": {
   "codemirror_mode": {
    "name": "ipython",
    "version": 3
   },
   "file_extension": ".py",
   "mimetype": "text/x-python",
   "name": "python",
   "nbconvert_exporter": "python",
   "pygments_lexer": "ipython3",
   "version": "3.8.10"
  }
 },
 "nbformat": 4,
 "nbformat_minor": 5
}
