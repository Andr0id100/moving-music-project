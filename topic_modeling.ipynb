{
 "cells": [
  {
   "cell_type": "code",
   "execution_count": 27,
   "id": "c84a8846",
   "metadata": {
    "scrolled": true
   },
   "outputs": [],
   "source": [
    "import pandas as pd \n",
    "import numpy as np\n",
    "from bertopic import BERTopic"
   ]
  },
  {
   "cell_type": "code",
   "execution_count": 2,
   "id": "8c8060c1",
   "metadata": {},
   "outputs": [],
   "source": [
    "df = pd.read_csv('comment_texts.csv')"
   ]
  },
  {
   "cell_type": "code",
   "execution_count": 3,
   "id": "f995bce5",
   "metadata": {},
   "outputs": [
    {
     "data": {
      "text/html": [
       "<div>\n",
       "<style scoped>\n",
       "    .dataframe tbody tr th:only-of-type {\n",
       "        vertical-align: middle;\n",
       "    }\n",
       "\n",
       "    .dataframe tbody tr th {\n",
       "        vertical-align: top;\n",
       "    }\n",
       "\n",
       "    .dataframe thead th {\n",
       "        text-align: right;\n",
       "    }\n",
       "</style>\n",
       "<table border=\"1\" class=\"dataframe\">\n",
       "  <thead>\n",
       "    <tr style=\"text-align: right;\">\n",
       "      <th></th>\n",
       "      <th>text</th>\n",
       "      <th>spotify_id</th>\n",
       "      <th>comment_id</th>\n",
       "      <th>thread_id</th>\n",
       "    </tr>\n",
       "  </thead>\n",
       "  <tbody>\n",
       "    <tr>\n",
       "      <th>0</th>\n",
       "      <td>Written dead son much feels need</td>\n",
       "      <td>7utRJ4BeYx85khzP3lKoBX</td>\n",
       "      <td>c9ipjh8</td>\n",
       "      <td>1cot2h</td>\n",
       "    </tr>\n",
       "    <tr>\n",
       "      <th>1</th>\n",
       "      <td>song ever made cry listening Followed closely ...</td>\n",
       "      <td>685faMVfLADYK10BjdBWgn</td>\n",
       "      <td>c9irgf6</td>\n",
       "      <td>1cot2h</td>\n",
       "    </tr>\n",
       "    <tr>\n",
       "      <th>2</th>\n",
       "      <td>All instruments stripped away layers voice giv...</td>\n",
       "      <td>7mMlbJlXXo2mRtQ4R9sIzD</td>\n",
       "      <td>c9iluh6</td>\n",
       "      <td>1cot2h</td>\n",
       "    </tr>\n",
       "    <tr>\n",
       "      <th>3</th>\n",
       "      <td>The first time I heard incredible chills sent ...</td>\n",
       "      <td>5WJU527RQNyMLuKecjsL8V</td>\n",
       "      <td>c9ioyo5</td>\n",
       "      <td>1cot2h</td>\n",
       "    </tr>\n",
       "    <tr>\n",
       "      <th>4</th>\n",
       "      <td>win popularity contest one effects personally ...</td>\n",
       "      <td>626yrmc2k6AoD8865U67Nn</td>\n",
       "      <td>c9imamq</td>\n",
       "      <td>1cot2h</td>\n",
       "    </tr>\n",
       "  </tbody>\n",
       "</table>\n",
       "</div>"
      ],
      "text/plain": [
       "                                                text              spotify_id  \\\n",
       "0                   Written dead son much feels need  7utRJ4BeYx85khzP3lKoBX   \n",
       "1  song ever made cry listening Followed closely ...  685faMVfLADYK10BjdBWgn   \n",
       "2  All instruments stripped away layers voice giv...  7mMlbJlXXo2mRtQ4R9sIzD   \n",
       "3  The first time I heard incredible chills sent ...  5WJU527RQNyMLuKecjsL8V   \n",
       "4  win popularity contest one effects personally ...  626yrmc2k6AoD8865U67Nn   \n",
       "\n",
       "  comment_id thread_id  \n",
       "0    c9ipjh8    1cot2h  \n",
       "1    c9irgf6    1cot2h  \n",
       "2    c9iluh6    1cot2h  \n",
       "3    c9ioyo5    1cot2h  \n",
       "4    c9imamq    1cot2h  "
      ]
     },
     "execution_count": 3,
     "metadata": {},
     "output_type": "execute_result"
    }
   ],
   "source": [
    "df.head()"
   ]
  },
  {
   "cell_type": "code",
   "execution_count": 4,
   "id": "4be7d64d",
   "metadata": {},
   "outputs": [],
   "source": [
    "comments = df.text.tolist()"
   ]
  },
  {
   "cell_type": "code",
   "execution_count": 5,
   "id": "12f74d36",
   "metadata": {},
   "outputs": [
    {
     "data": {
      "text/plain": [
       "3139"
      ]
     },
     "execution_count": 5,
     "metadata": {},
     "output_type": "execute_result"
    }
   ],
   "source": [
    "len(comments)"
   ]
  },
  {
   "cell_type": "code",
   "execution_count": 6,
   "id": "1b762bd3",
   "metadata": {},
   "outputs": [],
   "source": [
    "comments = list(set(comments))"
   ]
  },
  {
   "cell_type": "code",
   "execution_count": 7,
   "id": "4d359708",
   "metadata": {},
   "outputs": [
    {
     "data": {
      "text/plain": [
       "3080"
      ]
     },
     "execution_count": 7,
     "metadata": {},
     "output_type": "execute_result"
    }
   ],
   "source": [
    "len(comments)"
   ]
  },
  {
   "cell_type": "code",
   "execution_count": 8,
   "id": "347a8417",
   "metadata": {},
   "outputs": [],
   "source": [
    "topic_model = BERTopic(language=\"english\", calculate_probabilities=True, verbose=True)"
   ]
  },
  {
   "cell_type": "code",
   "execution_count": 9,
   "id": "87e3651b",
   "metadata": {},
   "outputs": [
    {
     "data": {
      "application/vnd.jupyter.widget-view+json": {
       "model_id": "e354483f6cf445cf8e03033c4ffd8432",
       "version_major": 2,
       "version_minor": 0
      },
      "text/plain": [
       "Batches:   0%|          | 0/97 [00:00<?, ?it/s]"
      ]
     },
     "metadata": {},
     "output_type": "display_data"
    },
    {
     "name": "stderr",
     "output_type": "stream",
     "text": [
      "2022-04-28 10:17:04,540 - BERTopic - Transformed documents to Embeddings\n",
      "2022-04-28 10:17:24,867 - BERTopic - Reduced dimensionality with UMAP\n",
      "2022-04-28 10:17:25,283 - BERTopic - Clustered UMAP embeddings with HDBSCAN\n"
     ]
    }
   ],
   "source": [
    "topics, probs = topic_model.fit_transform(comments)"
   ]
  },
  {
   "cell_type": "code",
   "execution_count": 11,
   "id": "db5d0edd",
   "metadata": {},
   "outputs": [],
   "source": [
    "freq = topic_model.get_topic_info()"
   ]
  },
  {
   "cell_type": "code",
   "execution_count": 16,
   "id": "61f73748",
   "metadata": {},
   "outputs": [
    {
     "data": {
      "text/html": [
       "<div>\n",
       "<style scoped>\n",
       "    .dataframe tbody tr th:only-of-type {\n",
       "        vertical-align: middle;\n",
       "    }\n",
       "\n",
       "    .dataframe tbody tr th {\n",
       "        vertical-align: top;\n",
       "    }\n",
       "\n",
       "    .dataframe thead th {\n",
       "        text-align: right;\n",
       "    }\n",
       "</style>\n",
       "<table border=\"1\" class=\"dataframe\">\n",
       "  <thead>\n",
       "    <tr style=\"text-align: right;\">\n",
       "      <th></th>\n",
       "      <th>Topic</th>\n",
       "      <th>Count</th>\n",
       "      <th>Name</th>\n",
       "    </tr>\n",
       "  </thead>\n",
       "  <tbody>\n",
       "    <tr>\n",
       "      <th>0</th>\n",
       "      <td>-1</td>\n",
       "      <td>1619</td>\n",
       "      <td>-1_song_time_it_first</td>\n",
       "    </tr>\n",
       "    <tr>\n",
       "      <th>1</th>\n",
       "      <td>0</td>\n",
       "      <td>304</td>\n",
       "      <td>0_cry_tears_time_first</td>\n",
       "    </tr>\n",
       "    <tr>\n",
       "      <th>2</th>\n",
       "      <td>1</td>\n",
       "      <td>78</td>\n",
       "      <td>1_breakup_relationship_broke_song</td>\n",
       "    </tr>\n",
       "    <tr>\n",
       "      <th>3</th>\n",
       "      <td>2</td>\n",
       "      <td>78</td>\n",
       "      <td>2_depression_depressed_suicidal_really</td>\n",
       "    </tr>\n",
       "    <tr>\n",
       "      <th>4</th>\n",
       "      <td>3</td>\n",
       "      <td>61</td>\n",
       "      <td>3_father_dad_my_song</td>\n",
       "    </tr>\n",
       "    <tr>\n",
       "      <th>5</th>\n",
       "      <td>4</td>\n",
       "      <td>60</td>\n",
       "      <td>4_grandfather_grandma_grandpa_passed</td>\n",
       "    </tr>\n",
       "    <tr>\n",
       "      <th>6</th>\n",
       "      <td>5</td>\n",
       "      <td>58</td>\n",
       "      <td>5_album_death_wife_died</td>\n",
       "    </tr>\n",
       "    <tr>\n",
       "      <th>7</th>\n",
       "      <td>6</td>\n",
       "      <td>52</td>\n",
       "      <td>6_movie_orchestra_beautiful_end</td>\n",
       "    </tr>\n",
       "    <tr>\n",
       "      <th>8</th>\n",
       "      <td>7</td>\n",
       "      <td>49</td>\n",
       "      <td>7_feels_first_time_right</td>\n",
       "    </tr>\n",
       "    <tr>\n",
       "      <th>9</th>\n",
       "      <td>8</td>\n",
       "      <td>47</td>\n",
       "      <td>8_emotion_raw_vocals_emotional</td>\n",
       "    </tr>\n",
       "    <tr>\n",
       "      <th>10</th>\n",
       "      <td>9</td>\n",
       "      <td>46</td>\n",
       "      <td>9_dad_father_relationship_daddy</td>\n",
       "    </tr>\n",
       "    <tr>\n",
       "      <th>11</th>\n",
       "      <td>10</td>\n",
       "      <td>42</td>\n",
       "      <td>10_oh_and_mama_nobody</td>\n",
       "    </tr>\n",
       "    <tr>\n",
       "      <th>12</th>\n",
       "      <td>11</td>\n",
       "      <td>42</td>\n",
       "      <td>11_country_the_johnny_cash</td>\n",
       "    </tr>\n",
       "    <tr>\n",
       "      <th>13</th>\n",
       "      <td>12</td>\n",
       "      <td>38</td>\n",
       "      <td>12_mom_my_away_passed</td>\n",
       "    </tr>\n",
       "    <tr>\n",
       "      <th>14</th>\n",
       "      <td>13</td>\n",
       "      <td>35</td>\n",
       "      <td>13_beautiful_song_hindi_damned</td>\n",
       "    </tr>\n",
       "    <tr>\n",
       "      <th>15</th>\n",
       "      <td>14</td>\n",
       "      <td>34</td>\n",
       "      <td>14_friend_suicide_committed_best</td>\n",
       "    </tr>\n",
       "    <tr>\n",
       "      <th>16</th>\n",
       "      <td>15</td>\n",
       "      <td>34</td>\n",
       "      <td>15_sad_songs_song_feel</td>\n",
       "    </tr>\n",
       "    <tr>\n",
       "      <th>17</th>\n",
       "      <td>16</td>\n",
       "      <td>30</td>\n",
       "      <td>16_sadness_heart_coming_know</td>\n",
       "    </tr>\n",
       "    <tr>\n",
       "      <th>18</th>\n",
       "      <td>17</td>\n",
       "      <td>28</td>\n",
       "      <td>17_childhood_school_pooh_robinsons</td>\n",
       "    </tr>\n",
       "    <tr>\n",
       "      <th>19</th>\n",
       "      <td>18</td>\n",
       "      <td>27</td>\n",
       "      <td>18_wedding_dance_married_danced</td>\n",
       "    </tr>\n",
       "    <tr>\n",
       "      <th>20</th>\n",
       "      <td>19</td>\n",
       "      <td>25</td>\n",
       "      <td>19_home_hit_close_hits</td>\n",
       "    </tr>\n",
       "    <tr>\n",
       "      <th>21</th>\n",
       "      <td>20</td>\n",
       "      <td>25</td>\n",
       "      <td>20_nostalgia_nostalgic_lyrics_mood</td>\n",
       "    </tr>\n",
       "    <tr>\n",
       "      <th>22</th>\n",
       "      <td>21</td>\n",
       "      <td>24</td>\n",
       "      <td>21_cat_dog_dogs_pet</td>\n",
       "    </tr>\n",
       "    <tr>\n",
       "      <th>23</th>\n",
       "      <td>22</td>\n",
       "      <td>23</td>\n",
       "      <td>22_french_spanish_gogh_speak</td>\n",
       "    </tr>\n",
       "    <tr>\n",
       "      <th>24</th>\n",
       "      <td>23</td>\n",
       "      <td>23</td>\n",
       "      <td>23_war_soldier_veteran_pilots</td>\n",
       "    </tr>\n",
       "    <tr>\n",
       "      <th>25</th>\n",
       "      <td>24</td>\n",
       "      <td>22</td>\n",
       "      <td>24_watch_feature_wings_bfa</td>\n",
       "    </tr>\n",
       "    <tr>\n",
       "      <th>26</th>\n",
       "      <td>25</td>\n",
       "      <td>19</td>\n",
       "      <td>25_concert_joined_live_crescendo</td>\n",
       "    </tr>\n",
       "    <tr>\n",
       "      <th>27</th>\n",
       "      <td>26</td>\n",
       "      <td>19</td>\n",
       "      <td>26_album_whole_the_great</td>\n",
       "    </tr>\n",
       "    <tr>\n",
       "      <th>28</th>\n",
       "      <td>27</td>\n",
       "      <td>17</td>\n",
       "      <td>27_addiction_drug_drugs_lost</td>\n",
       "    </tr>\n",
       "    <tr>\n",
       "      <th>29</th>\n",
       "      <td>28</td>\n",
       "      <td>16</td>\n",
       "      <td>28_every_single_roots_time</td>\n",
       "    </tr>\n",
       "    <tr>\n",
       "      <th>30</th>\n",
       "      <td>29</td>\n",
       "      <td>15</td>\n",
       "      <td>29_story_sad_song_tells</td>\n",
       "    </tr>\n",
       "    <tr>\n",
       "      <th>31</th>\n",
       "      <td>30</td>\n",
       "      <td>14</td>\n",
       "      <td>30_chester_bennington_suicide_committed</td>\n",
       "    </tr>\n",
       "    <tr>\n",
       "      <th>32</th>\n",
       "      <td>31</td>\n",
       "      <td>14</td>\n",
       "      <td>31_cancer_mom_breast_died</td>\n",
       "    </tr>\n",
       "    <tr>\n",
       "      <th>33</th>\n",
       "      <td>32</td>\n",
       "      <td>14</td>\n",
       "      <td>32_gut_punch_punched_two</td>\n",
       "    </tr>\n",
       "    <tr>\n",
       "      <th>34</th>\n",
       "      <td>33</td>\n",
       "      <td>13</td>\n",
       "      <td>33_sister_uncle_family_brother</td>\n",
       "    </tr>\n",
       "    <tr>\n",
       "      <th>35</th>\n",
       "      <td>34</td>\n",
       "      <td>13</td>\n",
       "      <td>34_mother_mom_carrie_lowell</td>\n",
       "    </tr>\n",
       "    <tr>\n",
       "      <th>36</th>\n",
       "      <td>35</td>\n",
       "      <td>12</td>\n",
       "      <td>35_moving_saying_music_paolo</td>\n",
       "    </tr>\n",
       "    <tr>\n",
       "      <th>37</th>\n",
       "      <td>36</td>\n",
       "      <td>10</td>\n",
       "      <td>36_rough_phrase_moved_patch</td>\n",
       "    </tr>\n",
       "  </tbody>\n",
       "</table>\n",
       "</div>"
      ],
      "text/plain": [
       "    Topic  Count                                     Name\n",
       "0      -1   1619                    -1_song_time_it_first\n",
       "1       0    304                   0_cry_tears_time_first\n",
       "2       1     78        1_breakup_relationship_broke_song\n",
       "3       2     78   2_depression_depressed_suicidal_really\n",
       "4       3     61                     3_father_dad_my_song\n",
       "5       4     60     4_grandfather_grandma_grandpa_passed\n",
       "6       5     58                  5_album_death_wife_died\n",
       "7       6     52          6_movie_orchestra_beautiful_end\n",
       "8       7     49                 7_feels_first_time_right\n",
       "9       8     47           8_emotion_raw_vocals_emotional\n",
       "10      9     46          9_dad_father_relationship_daddy\n",
       "11     10     42                    10_oh_and_mama_nobody\n",
       "12     11     42               11_country_the_johnny_cash\n",
       "13     12     38                    12_mom_my_away_passed\n",
       "14     13     35           13_beautiful_song_hindi_damned\n",
       "15     14     34         14_friend_suicide_committed_best\n",
       "16     15     34                   15_sad_songs_song_feel\n",
       "17     16     30             16_sadness_heart_coming_know\n",
       "18     17     28       17_childhood_school_pooh_robinsons\n",
       "19     18     27          18_wedding_dance_married_danced\n",
       "20     19     25                   19_home_hit_close_hits\n",
       "21     20     25       20_nostalgia_nostalgic_lyrics_mood\n",
       "22     21     24                      21_cat_dog_dogs_pet\n",
       "23     22     23             22_french_spanish_gogh_speak\n",
       "24     23     23            23_war_soldier_veteran_pilots\n",
       "25     24     22               24_watch_feature_wings_bfa\n",
       "26     25     19         25_concert_joined_live_crescendo\n",
       "27     26     19                 26_album_whole_the_great\n",
       "28     27     17             27_addiction_drug_drugs_lost\n",
       "29     28     16               28_every_single_roots_time\n",
       "30     29     15                  29_story_sad_song_tells\n",
       "31     30     14  30_chester_bennington_suicide_committed\n",
       "32     31     14                31_cancer_mom_breast_died\n",
       "33     32     14                 32_gut_punch_punched_two\n",
       "34     33     13           33_sister_uncle_family_brother\n",
       "35     34     13              34_mother_mom_carrie_lowell\n",
       "36     35     12             35_moving_saying_music_paolo\n",
       "37     36     10              36_rough_phrase_moved_patch"
      ]
     },
     "execution_count": 16,
     "metadata": {},
     "output_type": "execute_result"
    }
   ],
   "source": [
    "freq"
   ]
  },
  {
   "cell_type": "code",
   "execution_count": 18,
   "id": "002d8dad",
   "metadata": {},
   "outputs": [
    {
     "data": {
      "text/html": [
       "<div>\n",
       "<style scoped>\n",
       "    .dataframe tbody tr th:only-of-type {\n",
       "        vertical-align: middle;\n",
       "    }\n",
       "\n",
       "    .dataframe tbody tr th {\n",
       "        vertical-align: top;\n",
       "    }\n",
       "\n",
       "    .dataframe thead th {\n",
       "        text-align: right;\n",
       "    }\n",
       "</style>\n",
       "<table border=\"1\" class=\"dataframe\">\n",
       "  <thead>\n",
       "    <tr style=\"text-align: right;\">\n",
       "      <th></th>\n",
       "      <th>Topic</th>\n",
       "      <th>Count</th>\n",
       "      <th>Name</th>\n",
       "    </tr>\n",
       "  </thead>\n",
       "  <tbody>\n",
       "    <tr>\n",
       "      <th>0</th>\n",
       "      <td>-1</td>\n",
       "      <td>1619</td>\n",
       "      <td>-1_song_time_it_first</td>\n",
       "    </tr>\n",
       "    <tr>\n",
       "      <th>1</th>\n",
       "      <td>0</td>\n",
       "      <td>304</td>\n",
       "      <td>0_cry_tears_time_first</td>\n",
       "    </tr>\n",
       "    <tr>\n",
       "      <th>2</th>\n",
       "      <td>1</td>\n",
       "      <td>78</td>\n",
       "      <td>1_breakup_relationship_broke_song</td>\n",
       "    </tr>\n",
       "    <tr>\n",
       "      <th>3</th>\n",
       "      <td>2</td>\n",
       "      <td>78</td>\n",
       "      <td>2_depression_depressed_suicidal_really</td>\n",
       "    </tr>\n",
       "    <tr>\n",
       "      <th>4</th>\n",
       "      <td>3</td>\n",
       "      <td>61</td>\n",
       "      <td>3_father_dad_my_song</td>\n",
       "    </tr>\n",
       "    <tr>\n",
       "      <th>5</th>\n",
       "      <td>4</td>\n",
       "      <td>60</td>\n",
       "      <td>4_grandfather_grandma_grandpa_passed</td>\n",
       "    </tr>\n",
       "    <tr>\n",
       "      <th>6</th>\n",
       "      <td>5</td>\n",
       "      <td>58</td>\n",
       "      <td>5_album_death_wife_died</td>\n",
       "    </tr>\n",
       "    <tr>\n",
       "      <th>7</th>\n",
       "      <td>6</td>\n",
       "      <td>52</td>\n",
       "      <td>6_movie_orchestra_beautiful_end</td>\n",
       "    </tr>\n",
       "    <tr>\n",
       "      <th>8</th>\n",
       "      <td>7</td>\n",
       "      <td>49</td>\n",
       "      <td>7_feels_first_time_right</td>\n",
       "    </tr>\n",
       "    <tr>\n",
       "      <th>9</th>\n",
       "      <td>8</td>\n",
       "      <td>47</td>\n",
       "      <td>8_emotion_raw_vocals_emotional</td>\n",
       "    </tr>\n",
       "    <tr>\n",
       "      <th>10</th>\n",
       "      <td>9</td>\n",
       "      <td>46</td>\n",
       "      <td>9_dad_father_relationship_daddy</td>\n",
       "    </tr>\n",
       "    <tr>\n",
       "      <th>11</th>\n",
       "      <td>10</td>\n",
       "      <td>42</td>\n",
       "      <td>10_oh_and_mama_nobody</td>\n",
       "    </tr>\n",
       "    <tr>\n",
       "      <th>12</th>\n",
       "      <td>11</td>\n",
       "      <td>42</td>\n",
       "      <td>11_country_the_johnny_cash</td>\n",
       "    </tr>\n",
       "    <tr>\n",
       "      <th>13</th>\n",
       "      <td>12</td>\n",
       "      <td>38</td>\n",
       "      <td>12_mom_my_away_passed</td>\n",
       "    </tr>\n",
       "    <tr>\n",
       "      <th>14</th>\n",
       "      <td>13</td>\n",
       "      <td>35</td>\n",
       "      <td>13_beautiful_song_hindi_damned</td>\n",
       "    </tr>\n",
       "  </tbody>\n",
       "</table>\n",
       "</div>"
      ],
      "text/plain": [
       "    Topic  Count                                    Name\n",
       "0      -1   1619                   -1_song_time_it_first\n",
       "1       0    304                  0_cry_tears_time_first\n",
       "2       1     78       1_breakup_relationship_broke_song\n",
       "3       2     78  2_depression_depressed_suicidal_really\n",
       "4       3     61                    3_father_dad_my_song\n",
       "5       4     60    4_grandfather_grandma_grandpa_passed\n",
       "6       5     58                 5_album_death_wife_died\n",
       "7       6     52         6_movie_orchestra_beautiful_end\n",
       "8       7     49                7_feels_first_time_right\n",
       "9       8     47          8_emotion_raw_vocals_emotional\n",
       "10      9     46         9_dad_father_relationship_daddy\n",
       "11     10     42                   10_oh_and_mama_nobody\n",
       "12     11     42              11_country_the_johnny_cash\n",
       "13     12     38                   12_mom_my_away_passed\n",
       "14     13     35          13_beautiful_song_hindi_damned"
      ]
     },
     "execution_count": 18,
     "metadata": {},
     "output_type": "execute_result"
    }
   ],
   "source": [
    "freq.head(15)"
   ]
  },
  {
   "cell_type": "code",
   "execution_count": 56,
   "id": "d317d235",
   "metadata": {},
   "outputs": [
    {
     "data": {
      "text/plain": [
       "[('father', 0.07355865104356028),\n",
       " ('dad', 0.07147281718337445),\n",
       " ('my', 0.030295351312931297),\n",
       " ('song', 0.02633352640352663),\n",
       " ('would', 0.02043295862321119),\n",
       " ('piece', 0.018333055520226956),\n",
       " ('think', 0.01690670503428266),\n",
       " ('family', 0.016842245905461933),\n",
       " ('time', 0.016733780035588793),\n",
       " ('learned', 0.016649134433415574)]"
      ]
     },
     "execution_count": 56,
     "metadata": {},
     "output_type": "execute_result"
    }
   ],
   "source": [
    "topic_model.get_topic(3)"
   ]
  },
  {
   "cell_type": "code",
   "execution_count": 60,
   "id": "e2ea42e2",
   "metadata": {},
   "outputs": [
    {
     "data": {
      "text/plain": [
       "['So depressing Dad died age 3 keep mind song makes sence',\n",
       " 'The moment realize singing dead father heartbreaking',\n",
       " 'Kevin Parker song honestly unbelievably well written common thought I Kevin Parker music lol death dad supposedly makes real I love entirety song']"
      ]
     },
     "execution_count": 60,
     "metadata": {},
     "output_type": "execute_result"
    }
   ],
   "source": [
    "topic_model.get_representative_docs(3)"
   ]
  },
  {
   "cell_type": "code",
   "execution_count": 55,
   "id": "11b4b680",
   "metadata": {},
   "outputs": [
    {
     "data": {
      "text/plain": [
       "[('dad', 0.14434619947211716),\n",
       " ('father', 0.096110583153623),\n",
       " ('relationship', 0.05678973347248677),\n",
       " ('daddy', 0.0441493956220393),\n",
       " ('losing', 0.03176214029555536),\n",
       " ('cat', 0.03139232531359693),\n",
       " ('especially', 0.02875208435768431),\n",
       " ('life', 0.02818996369962792),\n",
       " ('recently', 0.027623588093460993),\n",
       " ('issues', 0.027318070089431618)]"
      ]
     },
     "execution_count": 55,
     "metadata": {},
     "output_type": "execute_result"
    }
   ],
   "source": [
    "topic_model.get_topic(9)"
   ]
  },
  {
   "cell_type": "code",
   "execution_count": 61,
   "id": "5cfc5afb",
   "metadata": {},
   "outputs": [
    {
     "data": {
      "text/plain": [
       "['Especially powerful last month I lost dad',\n",
       " 'A girl already lost mom lost father young',\n",
       " 'My dad still living thought losing made sob like baby']"
      ]
     },
     "execution_count": 61,
     "metadata": {},
     "output_type": "execute_result"
    }
   ],
   "source": [
    "topic_model.get_representative_docs(9)"
   ]
  },
  {
   "cell_type": "code",
   "execution_count": 36,
   "id": "276de300",
   "metadata": {},
   "outputs": [],
   "source": [
    "idx = np.argmax(probs, axis = 1) == 1\n",
    "idx = np.argwhere(idx == True)"
   ]
  },
  {
   "cell_type": "code",
   "execution_count": 54,
   "id": "d6170791",
   "metadata": {},
   "outputs": [
    {
     "data": {
      "application/vnd.plotly.v1+json": {
       "config": {
        "plotlyServerURL": "https://plot.ly"
       },
       "data": [
        {
         "customdata": [
          [
           0,
           "cry | tears | time | first | cried",
           304
          ],
          [
           1,
           "breakup | relationship | broke | song | right",
           78
          ],
          [
           2,
           "depression | depressed | suicidal | really | suicide",
           78
          ],
          [
           3,
           "father | dad | my | song | would",
           61
          ],
          [
           4,
           "grandfather | grandma | grandpa | passed | funeral",
           60
          ],
          [
           5,
           "album | death | wife | died | cancer",
           58
          ],
          [
           6,
           "movie | orchestra | beautiful | end | piano",
           52
          ],
          [
           7,
           "feels | first | time | right | listened",
           49
          ],
          [
           8,
           "emotion | raw | vocals | emotional | lyrics",
           47
          ],
          [
           9,
           "dad | father | relationship | daddy | losing",
           46
          ],
          [
           10,
           "oh | and | mama | nobody | city",
           42
          ],
          [
           11,
           "country | the | johnny | cash | list",
           42
          ],
          [
           12,
           "mom | my | away | passed | custody",
           38
          ],
          [
           13,
           "beautiful | song | hindi | damned | waterworks",
           35
          ],
          [
           14,
           "friend | suicide | committed | best | lost",
           34
          ],
          [
           15,
           "sad | songs | song | feel | know",
           34
          ],
          [
           16,
           "sadness | heart | coming | know | simple",
           30
          ],
          [
           17,
           "childhood | school | pooh | robinsons | new",
           28
          ],
          [
           18,
           "wedding | dance | married | danced | aisle",
           27
          ],
          [
           19,
           "home | hit | close | hits | really",
           25
          ],
          [
           20,
           "nostalgia | nostalgic | lyrics | mood | emotions",
           25
          ],
          [
           21,
           "cat | dog | dogs | pet | miss",
           24
          ],
          [
           22,
           "french | spanish | gogh | speak | attacks",
           23
          ],
          [
           23,
           "war | soldier | veteran | pilots | deployed",
           23
          ],
          [
           24,
           "watch | feature | wings | bfa | seabra",
           22
          ],
          [
           25,
           "concert | joined | live | crescendo | built",
           19
          ],
          [
           26,
           "album | whole | the | great | yet",
           19
          ],
          [
           27,
           "addiction | drug | drugs | lost | needle",
           17
          ],
          [
           28,
           "every | single | roots | time | still",
           16
          ],
          [
           29,
           "story | sad | song | tells | whole",
           15
          ],
          [
           30,
           "chester | bennington | suicide | committed | especially",
           14
          ],
          [
           31,
           "cancer | mom | breast | died | diagnosed",
           14
          ],
          [
           32,
           "gut | punch | punched | two | want",
           14
          ],
          [
           33,
           "sister | uncle | family | brother | died",
           13
          ],
          [
           34,
           "mother | mom | carrie | lowell | amazing",
           13
          ],
          [
           35,
           "moving | saying | music | paolo | nutini",
           12
          ],
          [
           36,
           "rough | phrase | moved | patch | life",
           10
          ]
         ],
         "hovertemplate": "<b>Topic %{customdata[0]}</b><br>Words: %{customdata[1]}<br>Size: %{customdata[2]}",
         "legendgroup": "",
         "marker": {
          "color": "#B0BEC5",
          "line": {
           "color": "DarkSlateGrey",
           "width": 2
          },
          "size": [
           304,
           78,
           78,
           61,
           60,
           58,
           52,
           49,
           47,
           46,
           42,
           42,
           38,
           35,
           34,
           34,
           30,
           28,
           27,
           25,
           25,
           24,
           23,
           23,
           22,
           19,
           19,
           17,
           16,
           15,
           14,
           14,
           14,
           13,
           13,
           12,
           10
          ],
          "sizemode": "area",
          "sizeref": 0.19,
          "symbol": "circle"
         },
         "mode": "markers",
         "name": "",
         "orientation": "v",
         "showlegend": false,
         "type": "scatter",
         "x": [
          12.629076957702637,
          12.443710327148438,
          12.332269668579102,
          6.132814884185791,
          0.49131080508232117,
          0.4564425051212311,
          -10.779664993286133,
          20.23621940612793,
          -10.609081268310547,
          7.021875381469727,
          5.871669769287109,
          5.745484352111816,
          6.461606502532959,
          -10.648720741271973,
          -0.6410916447639465,
          20.759355545043945,
          20.358335494995117,
          7.417334079742432,
          7.262258529663086,
          19.8477725982666,
          -10.581012725830078,
          0.3564228117465973,
          20.896074295043945,
          7.143935203552246,
          -10.541922569274902,
          -0.5877857208251953,
          -10.534211158752441,
          6.350736618041992,
          6.301441669464111,
          -10.388524055480957,
          -1.2464540004730225,
          -1.82924485206604,
          6.17351770401001,
          -1.7242649793624878,
          -1.9270120859146118,
          19.76786994934082,
          20.3818302154541
         ],
         "xaxis": "x",
         "y": [
          11.42507266998291,
          11.239527702331543,
          11.12795639038086,
          4.903462886810303,
          5.964746475219727,
          6.20030403137207,
          -1.73414945602417,
          1.7317018508911133,
          -2.0845136642456055,
          4.507107257843018,
          4.988857269287109,
          5.132145404815674,
          4.733519554138184,
          -2.402581214904785,
          5.896126747131348,
          1.5893698930740356,
          1.5175738334655762,
          4.066339492797852,
          4.379885673522949,
          1.984898567199707,
          -1.4177278280258179,
          6.145596504211426,
          1.4862302541732788,
          4.114005088806152,
          -2.527252435684204,
          6.088404655456543,
          -2.0411036014556885,
          4.251097202301025,
          3.932746171951294,
          -1.1634572744369507,
          5.982217311859131,
          5.868595123291016,
          3.7714977264404297,
          5.672222137451172,
          5.934872150421143,
          1.909871220588684,
          2.05948543548584
         ],
         "yaxis": "y"
        }
       ],
       "layout": {
        "annotations": [
         {
          "showarrow": false,
          "text": "D1",
          "x": -12.396614742279052,
          "y": 5.116246634721756,
          "yshift": 10
         },
         {
          "showarrow": false,
          "text": "D2",
          "x": 5.816935348510743,
          "xshift": 10,
          "y": 13.138833570480347
         }
        ],
        "height": 650,
        "hoverlabel": {
         "bgcolor": "white",
         "font": {
          "family": "Rockwell",
          "size": 16
         }
        },
        "legend": {
         "itemsizing": "constant",
         "tracegroupgap": 0
        },
        "margin": {
         "t": 60
        },
        "shapes": [
         {
          "line": {
           "color": "#CFD8DC",
           "width": 2
          },
          "type": "line",
          "x0": 5.816935348510743,
          "x1": 5.816935348510743,
          "y0": -2.9063403010368347,
          "y1": 13.138833570480347
         },
         {
          "line": {
           "color": "#9E9E9E",
           "width": 2
          },
          "type": "line",
          "x0": -12.396614742279052,
          "x1": 24.030485439300538,
          "y0": 5.116246634721756,
          "y1": 5.116246634721756
         }
        ],
        "sliders": [
         {
          "active": 0,
          "pad": {
           "t": 50
          },
          "steps": [
           {
            "args": [
             {
              "marker.color": [
               [
                "red",
                "#B0BEC5",
                "#B0BEC5",
                "#B0BEC5",
                "#B0BEC5",
                "#B0BEC5",
                "#B0BEC5",
                "#B0BEC5",
                "#B0BEC5",
                "#B0BEC5",
                "#B0BEC5",
                "#B0BEC5",
                "#B0BEC5",
                "#B0BEC5",
                "#B0BEC5",
                "#B0BEC5",
                "#B0BEC5",
                "#B0BEC5",
                "#B0BEC5",
                "#B0BEC5",
                "#B0BEC5",
                "#B0BEC5",
                "#B0BEC5",
                "#B0BEC5",
                "#B0BEC5",
                "#B0BEC5",
                "#B0BEC5",
                "#B0BEC5",
                "#B0BEC5",
                "#B0BEC5",
                "#B0BEC5",
                "#B0BEC5",
                "#B0BEC5",
                "#B0BEC5",
                "#B0BEC5",
                "#B0BEC5",
                "#B0BEC5"
               ]
              ]
             }
            ],
            "label": "Topic 0",
            "method": "update"
           },
           {
            "args": [
             {
              "marker.color": [
               [
                "#B0BEC5",
                "red",
                "#B0BEC5",
                "#B0BEC5",
                "#B0BEC5",
                "#B0BEC5",
                "#B0BEC5",
                "#B0BEC5",
                "#B0BEC5",
                "#B0BEC5",
                "#B0BEC5",
                "#B0BEC5",
                "#B0BEC5",
                "#B0BEC5",
                "#B0BEC5",
                "#B0BEC5",
                "#B0BEC5",
                "#B0BEC5",
                "#B0BEC5",
                "#B0BEC5",
                "#B0BEC5",
                "#B0BEC5",
                "#B0BEC5",
                "#B0BEC5",
                "#B0BEC5",
                "#B0BEC5",
                "#B0BEC5",
                "#B0BEC5",
                "#B0BEC5",
                "#B0BEC5",
                "#B0BEC5",
                "#B0BEC5",
                "#B0BEC5",
                "#B0BEC5",
                "#B0BEC5",
                "#B0BEC5",
                "#B0BEC5"
               ]
              ]
             }
            ],
            "label": "Topic 1",
            "method": "update"
           },
           {
            "args": [
             {
              "marker.color": [
               [
                "#B0BEC5",
                "#B0BEC5",
                "red",
                "#B0BEC5",
                "#B0BEC5",
                "#B0BEC5",
                "#B0BEC5",
                "#B0BEC5",
                "#B0BEC5",
                "#B0BEC5",
                "#B0BEC5",
                "#B0BEC5",
                "#B0BEC5",
                "#B0BEC5",
                "#B0BEC5",
                "#B0BEC5",
                "#B0BEC5",
                "#B0BEC5",
                "#B0BEC5",
                "#B0BEC5",
                "#B0BEC5",
                "#B0BEC5",
                "#B0BEC5",
                "#B0BEC5",
                "#B0BEC5",
                "#B0BEC5",
                "#B0BEC5",
                "#B0BEC5",
                "#B0BEC5",
                "#B0BEC5",
                "#B0BEC5",
                "#B0BEC5",
                "#B0BEC5",
                "#B0BEC5",
                "#B0BEC5",
                "#B0BEC5",
                "#B0BEC5"
               ]
              ]
             }
            ],
            "label": "Topic 2",
            "method": "update"
           },
           {
            "args": [
             {
              "marker.color": [
               [
                "#B0BEC5",
                "#B0BEC5",
                "#B0BEC5",
                "red",
                "#B0BEC5",
                "#B0BEC5",
                "#B0BEC5",
                "#B0BEC5",
                "#B0BEC5",
                "#B0BEC5",
                "#B0BEC5",
                "#B0BEC5",
                "#B0BEC5",
                "#B0BEC5",
                "#B0BEC5",
                "#B0BEC5",
                "#B0BEC5",
                "#B0BEC5",
                "#B0BEC5",
                "#B0BEC5",
                "#B0BEC5",
                "#B0BEC5",
                "#B0BEC5",
                "#B0BEC5",
                "#B0BEC5",
                "#B0BEC5",
                "#B0BEC5",
                "#B0BEC5",
                "#B0BEC5",
                "#B0BEC5",
                "#B0BEC5",
                "#B0BEC5",
                "#B0BEC5",
                "#B0BEC5",
                "#B0BEC5",
                "#B0BEC5",
                "#B0BEC5"
               ]
              ]
             }
            ],
            "label": "Topic 3",
            "method": "update"
           },
           {
            "args": [
             {
              "marker.color": [
               [
                "#B0BEC5",
                "#B0BEC5",
                "#B0BEC5",
                "#B0BEC5",
                "red",
                "#B0BEC5",
                "#B0BEC5",
                "#B0BEC5",
                "#B0BEC5",
                "#B0BEC5",
                "#B0BEC5",
                "#B0BEC5",
                "#B0BEC5",
                "#B0BEC5",
                "#B0BEC5",
                "#B0BEC5",
                "#B0BEC5",
                "#B0BEC5",
                "#B0BEC5",
                "#B0BEC5",
                "#B0BEC5",
                "#B0BEC5",
                "#B0BEC5",
                "#B0BEC5",
                "#B0BEC5",
                "#B0BEC5",
                "#B0BEC5",
                "#B0BEC5",
                "#B0BEC5",
                "#B0BEC5",
                "#B0BEC5",
                "#B0BEC5",
                "#B0BEC5",
                "#B0BEC5",
                "#B0BEC5",
                "#B0BEC5",
                "#B0BEC5"
               ]
              ]
             }
            ],
            "label": "Topic 4",
            "method": "update"
           },
           {
            "args": [
             {
              "marker.color": [
               [
                "#B0BEC5",
                "#B0BEC5",
                "#B0BEC5",
                "#B0BEC5",
                "#B0BEC5",
                "red",
                "#B0BEC5",
                "#B0BEC5",
                "#B0BEC5",
                "#B0BEC5",
                "#B0BEC5",
                "#B0BEC5",
                "#B0BEC5",
                "#B0BEC5",
                "#B0BEC5",
                "#B0BEC5",
                "#B0BEC5",
                "#B0BEC5",
                "#B0BEC5",
                "#B0BEC5",
                "#B0BEC5",
                "#B0BEC5",
                "#B0BEC5",
                "#B0BEC5",
                "#B0BEC5",
                "#B0BEC5",
                "#B0BEC5",
                "#B0BEC5",
                "#B0BEC5",
                "#B0BEC5",
                "#B0BEC5",
                "#B0BEC5",
                "#B0BEC5",
                "#B0BEC5",
                "#B0BEC5",
                "#B0BEC5",
                "#B0BEC5"
               ]
              ]
             }
            ],
            "label": "Topic 5",
            "method": "update"
           },
           {
            "args": [
             {
              "marker.color": [
               [
                "#B0BEC5",
                "#B0BEC5",
                "#B0BEC5",
                "#B0BEC5",
                "#B0BEC5",
                "#B0BEC5",
                "red",
                "#B0BEC5",
                "#B0BEC5",
                "#B0BEC5",
                "#B0BEC5",
                "#B0BEC5",
                "#B0BEC5",
                "#B0BEC5",
                "#B0BEC5",
                "#B0BEC5",
                "#B0BEC5",
                "#B0BEC5",
                "#B0BEC5",
                "#B0BEC5",
                "#B0BEC5",
                "#B0BEC5",
                "#B0BEC5",
                "#B0BEC5",
                "#B0BEC5",
                "#B0BEC5",
                "#B0BEC5",
                "#B0BEC5",
                "#B0BEC5",
                "#B0BEC5",
                "#B0BEC5",
                "#B0BEC5",
                "#B0BEC5",
                "#B0BEC5",
                "#B0BEC5",
                "#B0BEC5",
                "#B0BEC5"
               ]
              ]
             }
            ],
            "label": "Topic 6",
            "method": "update"
           },
           {
            "args": [
             {
              "marker.color": [
               [
                "#B0BEC5",
                "#B0BEC5",
                "#B0BEC5",
                "#B0BEC5",
                "#B0BEC5",
                "#B0BEC5",
                "#B0BEC5",
                "red",
                "#B0BEC5",
                "#B0BEC5",
                "#B0BEC5",
                "#B0BEC5",
                "#B0BEC5",
                "#B0BEC5",
                "#B0BEC5",
                "#B0BEC5",
                "#B0BEC5",
                "#B0BEC5",
                "#B0BEC5",
                "#B0BEC5",
                "#B0BEC5",
                "#B0BEC5",
                "#B0BEC5",
                "#B0BEC5",
                "#B0BEC5",
                "#B0BEC5",
                "#B0BEC5",
                "#B0BEC5",
                "#B0BEC5",
                "#B0BEC5",
                "#B0BEC5",
                "#B0BEC5",
                "#B0BEC5",
                "#B0BEC5",
                "#B0BEC5",
                "#B0BEC5",
                "#B0BEC5"
               ]
              ]
             }
            ],
            "label": "Topic 7",
            "method": "update"
           },
           {
            "args": [
             {
              "marker.color": [
               [
                "#B0BEC5",
                "#B0BEC5",
                "#B0BEC5",
                "#B0BEC5",
                "#B0BEC5",
                "#B0BEC5",
                "#B0BEC5",
                "#B0BEC5",
                "red",
                "#B0BEC5",
                "#B0BEC5",
                "#B0BEC5",
                "#B0BEC5",
                "#B0BEC5",
                "#B0BEC5",
                "#B0BEC5",
                "#B0BEC5",
                "#B0BEC5",
                "#B0BEC5",
                "#B0BEC5",
                "#B0BEC5",
                "#B0BEC5",
                "#B0BEC5",
                "#B0BEC5",
                "#B0BEC5",
                "#B0BEC5",
                "#B0BEC5",
                "#B0BEC5",
                "#B0BEC5",
                "#B0BEC5",
                "#B0BEC5",
                "#B0BEC5",
                "#B0BEC5",
                "#B0BEC5",
                "#B0BEC5",
                "#B0BEC5",
                "#B0BEC5"
               ]
              ]
             }
            ],
            "label": "Topic 8",
            "method": "update"
           },
           {
            "args": [
             {
              "marker.color": [
               [
                "#B0BEC5",
                "#B0BEC5",
                "#B0BEC5",
                "#B0BEC5",
                "#B0BEC5",
                "#B0BEC5",
                "#B0BEC5",
                "#B0BEC5",
                "#B0BEC5",
                "red",
                "#B0BEC5",
                "#B0BEC5",
                "#B0BEC5",
                "#B0BEC5",
                "#B0BEC5",
                "#B0BEC5",
                "#B0BEC5",
                "#B0BEC5",
                "#B0BEC5",
                "#B0BEC5",
                "#B0BEC5",
                "#B0BEC5",
                "#B0BEC5",
                "#B0BEC5",
                "#B0BEC5",
                "#B0BEC5",
                "#B0BEC5",
                "#B0BEC5",
                "#B0BEC5",
                "#B0BEC5",
                "#B0BEC5",
                "#B0BEC5",
                "#B0BEC5",
                "#B0BEC5",
                "#B0BEC5",
                "#B0BEC5",
                "#B0BEC5"
               ]
              ]
             }
            ],
            "label": "Topic 9",
            "method": "update"
           },
           {
            "args": [
             {
              "marker.color": [
               [
                "#B0BEC5",
                "#B0BEC5",
                "#B0BEC5",
                "#B0BEC5",
                "#B0BEC5",
                "#B0BEC5",
                "#B0BEC5",
                "#B0BEC5",
                "#B0BEC5",
                "#B0BEC5",
                "red",
                "#B0BEC5",
                "#B0BEC5",
                "#B0BEC5",
                "#B0BEC5",
                "#B0BEC5",
                "#B0BEC5",
                "#B0BEC5",
                "#B0BEC5",
                "#B0BEC5",
                "#B0BEC5",
                "#B0BEC5",
                "#B0BEC5",
                "#B0BEC5",
                "#B0BEC5",
                "#B0BEC5",
                "#B0BEC5",
                "#B0BEC5",
                "#B0BEC5",
                "#B0BEC5",
                "#B0BEC5",
                "#B0BEC5",
                "#B0BEC5",
                "#B0BEC5",
                "#B0BEC5",
                "#B0BEC5",
                "#B0BEC5"
               ]
              ]
             }
            ],
            "label": "Topic 10",
            "method": "update"
           },
           {
            "args": [
             {
              "marker.color": [
               [
                "#B0BEC5",
                "#B0BEC5",
                "#B0BEC5",
                "#B0BEC5",
                "#B0BEC5",
                "#B0BEC5",
                "#B0BEC5",
                "#B0BEC5",
                "#B0BEC5",
                "#B0BEC5",
                "#B0BEC5",
                "red",
                "#B0BEC5",
                "#B0BEC5",
                "#B0BEC5",
                "#B0BEC5",
                "#B0BEC5",
                "#B0BEC5",
                "#B0BEC5",
                "#B0BEC5",
                "#B0BEC5",
                "#B0BEC5",
                "#B0BEC5",
                "#B0BEC5",
                "#B0BEC5",
                "#B0BEC5",
                "#B0BEC5",
                "#B0BEC5",
                "#B0BEC5",
                "#B0BEC5",
                "#B0BEC5",
                "#B0BEC5",
                "#B0BEC5",
                "#B0BEC5",
                "#B0BEC5",
                "#B0BEC5",
                "#B0BEC5"
               ]
              ]
             }
            ],
            "label": "Topic 11",
            "method": "update"
           },
           {
            "args": [
             {
              "marker.color": [
               [
                "#B0BEC5",
                "#B0BEC5",
                "#B0BEC5",
                "#B0BEC5",
                "#B0BEC5",
                "#B0BEC5",
                "#B0BEC5",
                "#B0BEC5",
                "#B0BEC5",
                "#B0BEC5",
                "#B0BEC5",
                "#B0BEC5",
                "red",
                "#B0BEC5",
                "#B0BEC5",
                "#B0BEC5",
                "#B0BEC5",
                "#B0BEC5",
                "#B0BEC5",
                "#B0BEC5",
                "#B0BEC5",
                "#B0BEC5",
                "#B0BEC5",
                "#B0BEC5",
                "#B0BEC5",
                "#B0BEC5",
                "#B0BEC5",
                "#B0BEC5",
                "#B0BEC5",
                "#B0BEC5",
                "#B0BEC5",
                "#B0BEC5",
                "#B0BEC5",
                "#B0BEC5",
                "#B0BEC5",
                "#B0BEC5",
                "#B0BEC5"
               ]
              ]
             }
            ],
            "label": "Topic 12",
            "method": "update"
           },
           {
            "args": [
             {
              "marker.color": [
               [
                "#B0BEC5",
                "#B0BEC5",
                "#B0BEC5",
                "#B0BEC5",
                "#B0BEC5",
                "#B0BEC5",
                "#B0BEC5",
                "#B0BEC5",
                "#B0BEC5",
                "#B0BEC5",
                "#B0BEC5",
                "#B0BEC5",
                "#B0BEC5",
                "red",
                "#B0BEC5",
                "#B0BEC5",
                "#B0BEC5",
                "#B0BEC5",
                "#B0BEC5",
                "#B0BEC5",
                "#B0BEC5",
                "#B0BEC5",
                "#B0BEC5",
                "#B0BEC5",
                "#B0BEC5",
                "#B0BEC5",
                "#B0BEC5",
                "#B0BEC5",
                "#B0BEC5",
                "#B0BEC5",
                "#B0BEC5",
                "#B0BEC5",
                "#B0BEC5",
                "#B0BEC5",
                "#B0BEC5",
                "#B0BEC5",
                "#B0BEC5"
               ]
              ]
             }
            ],
            "label": "Topic 13",
            "method": "update"
           },
           {
            "args": [
             {
              "marker.color": [
               [
                "#B0BEC5",
                "#B0BEC5",
                "#B0BEC5",
                "#B0BEC5",
                "#B0BEC5",
                "#B0BEC5",
                "#B0BEC5",
                "#B0BEC5",
                "#B0BEC5",
                "#B0BEC5",
                "#B0BEC5",
                "#B0BEC5",
                "#B0BEC5",
                "#B0BEC5",
                "red",
                "#B0BEC5",
                "#B0BEC5",
                "#B0BEC5",
                "#B0BEC5",
                "#B0BEC5",
                "#B0BEC5",
                "#B0BEC5",
                "#B0BEC5",
                "#B0BEC5",
                "#B0BEC5",
                "#B0BEC5",
                "#B0BEC5",
                "#B0BEC5",
                "#B0BEC5",
                "#B0BEC5",
                "#B0BEC5",
                "#B0BEC5",
                "#B0BEC5",
                "#B0BEC5",
                "#B0BEC5",
                "#B0BEC5",
                "#B0BEC5"
               ]
              ]
             }
            ],
            "label": "Topic 14",
            "method": "update"
           },
           {
            "args": [
             {
              "marker.color": [
               [
                "#B0BEC5",
                "#B0BEC5",
                "#B0BEC5",
                "#B0BEC5",
                "#B0BEC5",
                "#B0BEC5",
                "#B0BEC5",
                "#B0BEC5",
                "#B0BEC5",
                "#B0BEC5",
                "#B0BEC5",
                "#B0BEC5",
                "#B0BEC5",
                "#B0BEC5",
                "#B0BEC5",
                "red",
                "#B0BEC5",
                "#B0BEC5",
                "#B0BEC5",
                "#B0BEC5",
                "#B0BEC5",
                "#B0BEC5",
                "#B0BEC5",
                "#B0BEC5",
                "#B0BEC5",
                "#B0BEC5",
                "#B0BEC5",
                "#B0BEC5",
                "#B0BEC5",
                "#B0BEC5",
                "#B0BEC5",
                "#B0BEC5",
                "#B0BEC5",
                "#B0BEC5",
                "#B0BEC5",
                "#B0BEC5",
                "#B0BEC5"
               ]
              ]
             }
            ],
            "label": "Topic 15",
            "method": "update"
           },
           {
            "args": [
             {
              "marker.color": [
               [
                "#B0BEC5",
                "#B0BEC5",
                "#B0BEC5",
                "#B0BEC5",
                "#B0BEC5",
                "#B0BEC5",
                "#B0BEC5",
                "#B0BEC5",
                "#B0BEC5",
                "#B0BEC5",
                "#B0BEC5",
                "#B0BEC5",
                "#B0BEC5",
                "#B0BEC5",
                "#B0BEC5",
                "#B0BEC5",
                "red",
                "#B0BEC5",
                "#B0BEC5",
                "#B0BEC5",
                "#B0BEC5",
                "#B0BEC5",
                "#B0BEC5",
                "#B0BEC5",
                "#B0BEC5",
                "#B0BEC5",
                "#B0BEC5",
                "#B0BEC5",
                "#B0BEC5",
                "#B0BEC5",
                "#B0BEC5",
                "#B0BEC5",
                "#B0BEC5",
                "#B0BEC5",
                "#B0BEC5",
                "#B0BEC5",
                "#B0BEC5"
               ]
              ]
             }
            ],
            "label": "Topic 16",
            "method": "update"
           },
           {
            "args": [
             {
              "marker.color": [
               [
                "#B0BEC5",
                "#B0BEC5",
                "#B0BEC5",
                "#B0BEC5",
                "#B0BEC5",
                "#B0BEC5",
                "#B0BEC5",
                "#B0BEC5",
                "#B0BEC5",
                "#B0BEC5",
                "#B0BEC5",
                "#B0BEC5",
                "#B0BEC5",
                "#B0BEC5",
                "#B0BEC5",
                "#B0BEC5",
                "#B0BEC5",
                "red",
                "#B0BEC5",
                "#B0BEC5",
                "#B0BEC5",
                "#B0BEC5",
                "#B0BEC5",
                "#B0BEC5",
                "#B0BEC5",
                "#B0BEC5",
                "#B0BEC5",
                "#B0BEC5",
                "#B0BEC5",
                "#B0BEC5",
                "#B0BEC5",
                "#B0BEC5",
                "#B0BEC5",
                "#B0BEC5",
                "#B0BEC5",
                "#B0BEC5",
                "#B0BEC5"
               ]
              ]
             }
            ],
            "label": "Topic 17",
            "method": "update"
           },
           {
            "args": [
             {
              "marker.color": [
               [
                "#B0BEC5",
                "#B0BEC5",
                "#B0BEC5",
                "#B0BEC5",
                "#B0BEC5",
                "#B0BEC5",
                "#B0BEC5",
                "#B0BEC5",
                "#B0BEC5",
                "#B0BEC5",
                "#B0BEC5",
                "#B0BEC5",
                "#B0BEC5",
                "#B0BEC5",
                "#B0BEC5",
                "#B0BEC5",
                "#B0BEC5",
                "#B0BEC5",
                "red",
                "#B0BEC5",
                "#B0BEC5",
                "#B0BEC5",
                "#B0BEC5",
                "#B0BEC5",
                "#B0BEC5",
                "#B0BEC5",
                "#B0BEC5",
                "#B0BEC5",
                "#B0BEC5",
                "#B0BEC5",
                "#B0BEC5",
                "#B0BEC5",
                "#B0BEC5",
                "#B0BEC5",
                "#B0BEC5",
                "#B0BEC5",
                "#B0BEC5"
               ]
              ]
             }
            ],
            "label": "Topic 18",
            "method": "update"
           },
           {
            "args": [
             {
              "marker.color": [
               [
                "#B0BEC5",
                "#B0BEC5",
                "#B0BEC5",
                "#B0BEC5",
                "#B0BEC5",
                "#B0BEC5",
                "#B0BEC5",
                "#B0BEC5",
                "#B0BEC5",
                "#B0BEC5",
                "#B0BEC5",
                "#B0BEC5",
                "#B0BEC5",
                "#B0BEC5",
                "#B0BEC5",
                "#B0BEC5",
                "#B0BEC5",
                "#B0BEC5",
                "#B0BEC5",
                "red",
                "#B0BEC5",
                "#B0BEC5",
                "#B0BEC5",
                "#B0BEC5",
                "#B0BEC5",
                "#B0BEC5",
                "#B0BEC5",
                "#B0BEC5",
                "#B0BEC5",
                "#B0BEC5",
                "#B0BEC5",
                "#B0BEC5",
                "#B0BEC5",
                "#B0BEC5",
                "#B0BEC5",
                "#B0BEC5",
                "#B0BEC5"
               ]
              ]
             }
            ],
            "label": "Topic 19",
            "method": "update"
           },
           {
            "args": [
             {
              "marker.color": [
               [
                "#B0BEC5",
                "#B0BEC5",
                "#B0BEC5",
                "#B0BEC5",
                "#B0BEC5",
                "#B0BEC5",
                "#B0BEC5",
                "#B0BEC5",
                "#B0BEC5",
                "#B0BEC5",
                "#B0BEC5",
                "#B0BEC5",
                "#B0BEC5",
                "#B0BEC5",
                "#B0BEC5",
                "#B0BEC5",
                "#B0BEC5",
                "#B0BEC5",
                "#B0BEC5",
                "#B0BEC5",
                "red",
                "#B0BEC5",
                "#B0BEC5",
                "#B0BEC5",
                "#B0BEC5",
                "#B0BEC5",
                "#B0BEC5",
                "#B0BEC5",
                "#B0BEC5",
                "#B0BEC5",
                "#B0BEC5",
                "#B0BEC5",
                "#B0BEC5",
                "#B0BEC5",
                "#B0BEC5",
                "#B0BEC5",
                "#B0BEC5"
               ]
              ]
             }
            ],
            "label": "Topic 20",
            "method": "update"
           },
           {
            "args": [
             {
              "marker.color": [
               [
                "#B0BEC5",
                "#B0BEC5",
                "#B0BEC5",
                "#B0BEC5",
                "#B0BEC5",
                "#B0BEC5",
                "#B0BEC5",
                "#B0BEC5",
                "#B0BEC5",
                "#B0BEC5",
                "#B0BEC5",
                "#B0BEC5",
                "#B0BEC5",
                "#B0BEC5",
                "#B0BEC5",
                "#B0BEC5",
                "#B0BEC5",
                "#B0BEC5",
                "#B0BEC5",
                "#B0BEC5",
                "#B0BEC5",
                "red",
                "#B0BEC5",
                "#B0BEC5",
                "#B0BEC5",
                "#B0BEC5",
                "#B0BEC5",
                "#B0BEC5",
                "#B0BEC5",
                "#B0BEC5",
                "#B0BEC5",
                "#B0BEC5",
                "#B0BEC5",
                "#B0BEC5",
                "#B0BEC5",
                "#B0BEC5",
                "#B0BEC5"
               ]
              ]
             }
            ],
            "label": "Topic 21",
            "method": "update"
           },
           {
            "args": [
             {
              "marker.color": [
               [
                "#B0BEC5",
                "#B0BEC5",
                "#B0BEC5",
                "#B0BEC5",
                "#B0BEC5",
                "#B0BEC5",
                "#B0BEC5",
                "#B0BEC5",
                "#B0BEC5",
                "#B0BEC5",
                "#B0BEC5",
                "#B0BEC5",
                "#B0BEC5",
                "#B0BEC5",
                "#B0BEC5",
                "#B0BEC5",
                "#B0BEC5",
                "#B0BEC5",
                "#B0BEC5",
                "#B0BEC5",
                "#B0BEC5",
                "#B0BEC5",
                "red",
                "#B0BEC5",
                "#B0BEC5",
                "#B0BEC5",
                "#B0BEC5",
                "#B0BEC5",
                "#B0BEC5",
                "#B0BEC5",
                "#B0BEC5",
                "#B0BEC5",
                "#B0BEC5",
                "#B0BEC5",
                "#B0BEC5",
                "#B0BEC5",
                "#B0BEC5"
               ]
              ]
             }
            ],
            "label": "Topic 22",
            "method": "update"
           },
           {
            "args": [
             {
              "marker.color": [
               [
                "#B0BEC5",
                "#B0BEC5",
                "#B0BEC5",
                "#B0BEC5",
                "#B0BEC5",
                "#B0BEC5",
                "#B0BEC5",
                "#B0BEC5",
                "#B0BEC5",
                "#B0BEC5",
                "#B0BEC5",
                "#B0BEC5",
                "#B0BEC5",
                "#B0BEC5",
                "#B0BEC5",
                "#B0BEC5",
                "#B0BEC5",
                "#B0BEC5",
                "#B0BEC5",
                "#B0BEC5",
                "#B0BEC5",
                "#B0BEC5",
                "#B0BEC5",
                "red",
                "#B0BEC5",
                "#B0BEC5",
                "#B0BEC5",
                "#B0BEC5",
                "#B0BEC5",
                "#B0BEC5",
                "#B0BEC5",
                "#B0BEC5",
                "#B0BEC5",
                "#B0BEC5",
                "#B0BEC5",
                "#B0BEC5",
                "#B0BEC5"
               ]
              ]
             }
            ],
            "label": "Topic 23",
            "method": "update"
           },
           {
            "args": [
             {
              "marker.color": [
               [
                "#B0BEC5",
                "#B0BEC5",
                "#B0BEC5",
                "#B0BEC5",
                "#B0BEC5",
                "#B0BEC5",
                "#B0BEC5",
                "#B0BEC5",
                "#B0BEC5",
                "#B0BEC5",
                "#B0BEC5",
                "#B0BEC5",
                "#B0BEC5",
                "#B0BEC5",
                "#B0BEC5",
                "#B0BEC5",
                "#B0BEC5",
                "#B0BEC5",
                "#B0BEC5",
                "#B0BEC5",
                "#B0BEC5",
                "#B0BEC5",
                "#B0BEC5",
                "#B0BEC5",
                "red",
                "#B0BEC5",
                "#B0BEC5",
                "#B0BEC5",
                "#B0BEC5",
                "#B0BEC5",
                "#B0BEC5",
                "#B0BEC5",
                "#B0BEC5",
                "#B0BEC5",
                "#B0BEC5",
                "#B0BEC5",
                "#B0BEC5"
               ]
              ]
             }
            ],
            "label": "Topic 24",
            "method": "update"
           },
           {
            "args": [
             {
              "marker.color": [
               [
                "#B0BEC5",
                "#B0BEC5",
                "#B0BEC5",
                "#B0BEC5",
                "#B0BEC5",
                "#B0BEC5",
                "#B0BEC5",
                "#B0BEC5",
                "#B0BEC5",
                "#B0BEC5",
                "#B0BEC5",
                "#B0BEC5",
                "#B0BEC5",
                "#B0BEC5",
                "#B0BEC5",
                "#B0BEC5",
                "#B0BEC5",
                "#B0BEC5",
                "#B0BEC5",
                "#B0BEC5",
                "#B0BEC5",
                "#B0BEC5",
                "#B0BEC5",
                "#B0BEC5",
                "#B0BEC5",
                "red",
                "#B0BEC5",
                "#B0BEC5",
                "#B0BEC5",
                "#B0BEC5",
                "#B0BEC5",
                "#B0BEC5",
                "#B0BEC5",
                "#B0BEC5",
                "#B0BEC5",
                "#B0BEC5",
                "#B0BEC5"
               ]
              ]
             }
            ],
            "label": "Topic 25",
            "method": "update"
           },
           {
            "args": [
             {
              "marker.color": [
               [
                "#B0BEC5",
                "#B0BEC5",
                "#B0BEC5",
                "#B0BEC5",
                "#B0BEC5",
                "#B0BEC5",
                "#B0BEC5",
                "#B0BEC5",
                "#B0BEC5",
                "#B0BEC5",
                "#B0BEC5",
                "#B0BEC5",
                "#B0BEC5",
                "#B0BEC5",
                "#B0BEC5",
                "#B0BEC5",
                "#B0BEC5",
                "#B0BEC5",
                "#B0BEC5",
                "#B0BEC5",
                "#B0BEC5",
                "#B0BEC5",
                "#B0BEC5",
                "#B0BEC5",
                "#B0BEC5",
                "#B0BEC5",
                "red",
                "#B0BEC5",
                "#B0BEC5",
                "#B0BEC5",
                "#B0BEC5",
                "#B0BEC5",
                "#B0BEC5",
                "#B0BEC5",
                "#B0BEC5",
                "#B0BEC5",
                "#B0BEC5"
               ]
              ]
             }
            ],
            "label": "Topic 26",
            "method": "update"
           },
           {
            "args": [
             {
              "marker.color": [
               [
                "#B0BEC5",
                "#B0BEC5",
                "#B0BEC5",
                "#B0BEC5",
                "#B0BEC5",
                "#B0BEC5",
                "#B0BEC5",
                "#B0BEC5",
                "#B0BEC5",
                "#B0BEC5",
                "#B0BEC5",
                "#B0BEC5",
                "#B0BEC5",
                "#B0BEC5",
                "#B0BEC5",
                "#B0BEC5",
                "#B0BEC5",
                "#B0BEC5",
                "#B0BEC5",
                "#B0BEC5",
                "#B0BEC5",
                "#B0BEC5",
                "#B0BEC5",
                "#B0BEC5",
                "#B0BEC5",
                "#B0BEC5",
                "#B0BEC5",
                "red",
                "#B0BEC5",
                "#B0BEC5",
                "#B0BEC5",
                "#B0BEC5",
                "#B0BEC5",
                "#B0BEC5",
                "#B0BEC5",
                "#B0BEC5",
                "#B0BEC5"
               ]
              ]
             }
            ],
            "label": "Topic 27",
            "method": "update"
           },
           {
            "args": [
             {
              "marker.color": [
               [
                "#B0BEC5",
                "#B0BEC5",
                "#B0BEC5",
                "#B0BEC5",
                "#B0BEC5",
                "#B0BEC5",
                "#B0BEC5",
                "#B0BEC5",
                "#B0BEC5",
                "#B0BEC5",
                "#B0BEC5",
                "#B0BEC5",
                "#B0BEC5",
                "#B0BEC5",
                "#B0BEC5",
                "#B0BEC5",
                "#B0BEC5",
                "#B0BEC5",
                "#B0BEC5",
                "#B0BEC5",
                "#B0BEC5",
                "#B0BEC5",
                "#B0BEC5",
                "#B0BEC5",
                "#B0BEC5",
                "#B0BEC5",
                "#B0BEC5",
                "#B0BEC5",
                "red",
                "#B0BEC5",
                "#B0BEC5",
                "#B0BEC5",
                "#B0BEC5",
                "#B0BEC5",
                "#B0BEC5",
                "#B0BEC5",
                "#B0BEC5"
               ]
              ]
             }
            ],
            "label": "Topic 28",
            "method": "update"
           },
           {
            "args": [
             {
              "marker.color": [
               [
                "#B0BEC5",
                "#B0BEC5",
                "#B0BEC5",
                "#B0BEC5",
                "#B0BEC5",
                "#B0BEC5",
                "#B0BEC5",
                "#B0BEC5",
                "#B0BEC5",
                "#B0BEC5",
                "#B0BEC5",
                "#B0BEC5",
                "#B0BEC5",
                "#B0BEC5",
                "#B0BEC5",
                "#B0BEC5",
                "#B0BEC5",
                "#B0BEC5",
                "#B0BEC5",
                "#B0BEC5",
                "#B0BEC5",
                "#B0BEC5",
                "#B0BEC5",
                "#B0BEC5",
                "#B0BEC5",
                "#B0BEC5",
                "#B0BEC5",
                "#B0BEC5",
                "#B0BEC5",
                "red",
                "#B0BEC5",
                "#B0BEC5",
                "#B0BEC5",
                "#B0BEC5",
                "#B0BEC5",
                "#B0BEC5",
                "#B0BEC5"
               ]
              ]
             }
            ],
            "label": "Topic 29",
            "method": "update"
           },
           {
            "args": [
             {
              "marker.color": [
               [
                "#B0BEC5",
                "#B0BEC5",
                "#B0BEC5",
                "#B0BEC5",
                "#B0BEC5",
                "#B0BEC5",
                "#B0BEC5",
                "#B0BEC5",
                "#B0BEC5",
                "#B0BEC5",
                "#B0BEC5",
                "#B0BEC5",
                "#B0BEC5",
                "#B0BEC5",
                "#B0BEC5",
                "#B0BEC5",
                "#B0BEC5",
                "#B0BEC5",
                "#B0BEC5",
                "#B0BEC5",
                "#B0BEC5",
                "#B0BEC5",
                "#B0BEC5",
                "#B0BEC5",
                "#B0BEC5",
                "#B0BEC5",
                "#B0BEC5",
                "#B0BEC5",
                "#B0BEC5",
                "#B0BEC5",
                "red",
                "#B0BEC5",
                "#B0BEC5",
                "#B0BEC5",
                "#B0BEC5",
                "#B0BEC5",
                "#B0BEC5"
               ]
              ]
             }
            ],
            "label": "Topic 30",
            "method": "update"
           },
           {
            "args": [
             {
              "marker.color": [
               [
                "#B0BEC5",
                "#B0BEC5",
                "#B0BEC5",
                "#B0BEC5",
                "#B0BEC5",
                "#B0BEC5",
                "#B0BEC5",
                "#B0BEC5",
                "#B0BEC5",
                "#B0BEC5",
                "#B0BEC5",
                "#B0BEC5",
                "#B0BEC5",
                "#B0BEC5",
                "#B0BEC5",
                "#B0BEC5",
                "#B0BEC5",
                "#B0BEC5",
                "#B0BEC5",
                "#B0BEC5",
                "#B0BEC5",
                "#B0BEC5",
                "#B0BEC5",
                "#B0BEC5",
                "#B0BEC5",
                "#B0BEC5",
                "#B0BEC5",
                "#B0BEC5",
                "#B0BEC5",
                "#B0BEC5",
                "#B0BEC5",
                "red",
                "#B0BEC5",
                "#B0BEC5",
                "#B0BEC5",
                "#B0BEC5",
                "#B0BEC5"
               ]
              ]
             }
            ],
            "label": "Topic 31",
            "method": "update"
           },
           {
            "args": [
             {
              "marker.color": [
               [
                "#B0BEC5",
                "#B0BEC5",
                "#B0BEC5",
                "#B0BEC5",
                "#B0BEC5",
                "#B0BEC5",
                "#B0BEC5",
                "#B0BEC5",
                "#B0BEC5",
                "#B0BEC5",
                "#B0BEC5",
                "#B0BEC5",
                "#B0BEC5",
                "#B0BEC5",
                "#B0BEC5",
                "#B0BEC5",
                "#B0BEC5",
                "#B0BEC5",
                "#B0BEC5",
                "#B0BEC5",
                "#B0BEC5",
                "#B0BEC5",
                "#B0BEC5",
                "#B0BEC5",
                "#B0BEC5",
                "#B0BEC5",
                "#B0BEC5",
                "#B0BEC5",
                "#B0BEC5",
                "#B0BEC5",
                "#B0BEC5",
                "#B0BEC5",
                "red",
                "#B0BEC5",
                "#B0BEC5",
                "#B0BEC5",
                "#B0BEC5"
               ]
              ]
             }
            ],
            "label": "Topic 32",
            "method": "update"
           },
           {
            "args": [
             {
              "marker.color": [
               [
                "#B0BEC5",
                "#B0BEC5",
                "#B0BEC5",
                "#B0BEC5",
                "#B0BEC5",
                "#B0BEC5",
                "#B0BEC5",
                "#B0BEC5",
                "#B0BEC5",
                "#B0BEC5",
                "#B0BEC5",
                "#B0BEC5",
                "#B0BEC5",
                "#B0BEC5",
                "#B0BEC5",
                "#B0BEC5",
                "#B0BEC5",
                "#B0BEC5",
                "#B0BEC5",
                "#B0BEC5",
                "#B0BEC5",
                "#B0BEC5",
                "#B0BEC5",
                "#B0BEC5",
                "#B0BEC5",
                "#B0BEC5",
                "#B0BEC5",
                "#B0BEC5",
                "#B0BEC5",
                "#B0BEC5",
                "#B0BEC5",
                "#B0BEC5",
                "#B0BEC5",
                "red",
                "#B0BEC5",
                "#B0BEC5",
                "#B0BEC5"
               ]
              ]
             }
            ],
            "label": "Topic 33",
            "method": "update"
           },
           {
            "args": [
             {
              "marker.color": [
               [
                "#B0BEC5",
                "#B0BEC5",
                "#B0BEC5",
                "#B0BEC5",
                "#B0BEC5",
                "#B0BEC5",
                "#B0BEC5",
                "#B0BEC5",
                "#B0BEC5",
                "#B0BEC5",
                "#B0BEC5",
                "#B0BEC5",
                "#B0BEC5",
                "#B0BEC5",
                "#B0BEC5",
                "#B0BEC5",
                "#B0BEC5",
                "#B0BEC5",
                "#B0BEC5",
                "#B0BEC5",
                "#B0BEC5",
                "#B0BEC5",
                "#B0BEC5",
                "#B0BEC5",
                "#B0BEC5",
                "#B0BEC5",
                "#B0BEC5",
                "#B0BEC5",
                "#B0BEC5",
                "#B0BEC5",
                "#B0BEC5",
                "#B0BEC5",
                "#B0BEC5",
                "#B0BEC5",
                "red",
                "#B0BEC5",
                "#B0BEC5"
               ]
              ]
             }
            ],
            "label": "Topic 34",
            "method": "update"
           },
           {
            "args": [
             {
              "marker.color": [
               [
                "#B0BEC5",
                "#B0BEC5",
                "#B0BEC5",
                "#B0BEC5",
                "#B0BEC5",
                "#B0BEC5",
                "#B0BEC5",
                "#B0BEC5",
                "#B0BEC5",
                "#B0BEC5",
                "#B0BEC5",
                "#B0BEC5",
                "#B0BEC5",
                "#B0BEC5",
                "#B0BEC5",
                "#B0BEC5",
                "#B0BEC5",
                "#B0BEC5",
                "#B0BEC5",
                "#B0BEC5",
                "#B0BEC5",
                "#B0BEC5",
                "#B0BEC5",
                "#B0BEC5",
                "#B0BEC5",
                "#B0BEC5",
                "#B0BEC5",
                "#B0BEC5",
                "#B0BEC5",
                "#B0BEC5",
                "#B0BEC5",
                "#B0BEC5",
                "#B0BEC5",
                "#B0BEC5",
                "#B0BEC5",
                "red",
                "#B0BEC5"
               ]
              ]
             }
            ],
            "label": "Topic 35",
            "method": "update"
           },
           {
            "args": [
             {
              "marker.color": [
               [
                "#B0BEC5",
                "#B0BEC5",
                "#B0BEC5",
                "#B0BEC5",
                "#B0BEC5",
                "#B0BEC5",
                "#B0BEC5",
                "#B0BEC5",
                "#B0BEC5",
                "#B0BEC5",
                "#B0BEC5",
                "#B0BEC5",
                "#B0BEC5",
                "#B0BEC5",
                "#B0BEC5",
                "#B0BEC5",
                "#B0BEC5",
                "#B0BEC5",
                "#B0BEC5",
                "#B0BEC5",
                "#B0BEC5",
                "#B0BEC5",
                "#B0BEC5",
                "#B0BEC5",
                "#B0BEC5",
                "#B0BEC5",
                "#B0BEC5",
                "#B0BEC5",
                "#B0BEC5",
                "#B0BEC5",
                "#B0BEC5",
                "#B0BEC5",
                "#B0BEC5",
                "#B0BEC5",
                "#B0BEC5",
                "#B0BEC5",
                "red"
               ]
              ]
             }
            ],
            "label": "Topic 36",
            "method": "update"
           }
          ]
         }
        ],
        "template": {
         "data": {
          "bar": [
           {
            "error_x": {
             "color": "rgb(36,36,36)"
            },
            "error_y": {
             "color": "rgb(36,36,36)"
            },
            "marker": {
             "line": {
              "color": "white",
              "width": 0.5
             },
             "pattern": {
              "fillmode": "overlay",
              "size": 10,
              "solidity": 0.2
             }
            },
            "type": "bar"
           }
          ],
          "barpolar": [
           {
            "marker": {
             "line": {
              "color": "white",
              "width": 0.5
             },
             "pattern": {
              "fillmode": "overlay",
              "size": 10,
              "solidity": 0.2
             }
            },
            "type": "barpolar"
           }
          ],
          "carpet": [
           {
            "aaxis": {
             "endlinecolor": "rgb(36,36,36)",
             "gridcolor": "white",
             "linecolor": "white",
             "minorgridcolor": "white",
             "startlinecolor": "rgb(36,36,36)"
            },
            "baxis": {
             "endlinecolor": "rgb(36,36,36)",
             "gridcolor": "white",
             "linecolor": "white",
             "minorgridcolor": "white",
             "startlinecolor": "rgb(36,36,36)"
            },
            "type": "carpet"
           }
          ],
          "choropleth": [
           {
            "colorbar": {
             "outlinewidth": 1,
             "tickcolor": "rgb(36,36,36)",
             "ticks": "outside"
            },
            "type": "choropleth"
           }
          ],
          "contour": [
           {
            "colorbar": {
             "outlinewidth": 1,
             "tickcolor": "rgb(36,36,36)",
             "ticks": "outside"
            },
            "colorscale": [
             [
              0,
              "#440154"
             ],
             [
              0.1111111111111111,
              "#482878"
             ],
             [
              0.2222222222222222,
              "#3e4989"
             ],
             [
              0.3333333333333333,
              "#31688e"
             ],
             [
              0.4444444444444444,
              "#26828e"
             ],
             [
              0.5555555555555556,
              "#1f9e89"
             ],
             [
              0.6666666666666666,
              "#35b779"
             ],
             [
              0.7777777777777778,
              "#6ece58"
             ],
             [
              0.8888888888888888,
              "#b5de2b"
             ],
             [
              1,
              "#fde725"
             ]
            ],
            "type": "contour"
           }
          ],
          "contourcarpet": [
           {
            "colorbar": {
             "outlinewidth": 1,
             "tickcolor": "rgb(36,36,36)",
             "ticks": "outside"
            },
            "type": "contourcarpet"
           }
          ],
          "heatmap": [
           {
            "colorbar": {
             "outlinewidth": 1,
             "tickcolor": "rgb(36,36,36)",
             "ticks": "outside"
            },
            "colorscale": [
             [
              0,
              "#440154"
             ],
             [
              0.1111111111111111,
              "#482878"
             ],
             [
              0.2222222222222222,
              "#3e4989"
             ],
             [
              0.3333333333333333,
              "#31688e"
             ],
             [
              0.4444444444444444,
              "#26828e"
             ],
             [
              0.5555555555555556,
              "#1f9e89"
             ],
             [
              0.6666666666666666,
              "#35b779"
             ],
             [
              0.7777777777777778,
              "#6ece58"
             ],
             [
              0.8888888888888888,
              "#b5de2b"
             ],
             [
              1,
              "#fde725"
             ]
            ],
            "type": "heatmap"
           }
          ],
          "heatmapgl": [
           {
            "colorbar": {
             "outlinewidth": 1,
             "tickcolor": "rgb(36,36,36)",
             "ticks": "outside"
            },
            "colorscale": [
             [
              0,
              "#440154"
             ],
             [
              0.1111111111111111,
              "#482878"
             ],
             [
              0.2222222222222222,
              "#3e4989"
             ],
             [
              0.3333333333333333,
              "#31688e"
             ],
             [
              0.4444444444444444,
              "#26828e"
             ],
             [
              0.5555555555555556,
              "#1f9e89"
             ],
             [
              0.6666666666666666,
              "#35b779"
             ],
             [
              0.7777777777777778,
              "#6ece58"
             ],
             [
              0.8888888888888888,
              "#b5de2b"
             ],
             [
              1,
              "#fde725"
             ]
            ],
            "type": "heatmapgl"
           }
          ],
          "histogram": [
           {
            "marker": {
             "line": {
              "color": "white",
              "width": 0.6
             }
            },
            "type": "histogram"
           }
          ],
          "histogram2d": [
           {
            "colorbar": {
             "outlinewidth": 1,
             "tickcolor": "rgb(36,36,36)",
             "ticks": "outside"
            },
            "colorscale": [
             [
              0,
              "#440154"
             ],
             [
              0.1111111111111111,
              "#482878"
             ],
             [
              0.2222222222222222,
              "#3e4989"
             ],
             [
              0.3333333333333333,
              "#31688e"
             ],
             [
              0.4444444444444444,
              "#26828e"
             ],
             [
              0.5555555555555556,
              "#1f9e89"
             ],
             [
              0.6666666666666666,
              "#35b779"
             ],
             [
              0.7777777777777778,
              "#6ece58"
             ],
             [
              0.8888888888888888,
              "#b5de2b"
             ],
             [
              1,
              "#fde725"
             ]
            ],
            "type": "histogram2d"
           }
          ],
          "histogram2dcontour": [
           {
            "colorbar": {
             "outlinewidth": 1,
             "tickcolor": "rgb(36,36,36)",
             "ticks": "outside"
            },
            "colorscale": [
             [
              0,
              "#440154"
             ],
             [
              0.1111111111111111,
              "#482878"
             ],
             [
              0.2222222222222222,
              "#3e4989"
             ],
             [
              0.3333333333333333,
              "#31688e"
             ],
             [
              0.4444444444444444,
              "#26828e"
             ],
             [
              0.5555555555555556,
              "#1f9e89"
             ],
             [
              0.6666666666666666,
              "#35b779"
             ],
             [
              0.7777777777777778,
              "#6ece58"
             ],
             [
              0.8888888888888888,
              "#b5de2b"
             ],
             [
              1,
              "#fde725"
             ]
            ],
            "type": "histogram2dcontour"
           }
          ],
          "mesh3d": [
           {
            "colorbar": {
             "outlinewidth": 1,
             "tickcolor": "rgb(36,36,36)",
             "ticks": "outside"
            },
            "type": "mesh3d"
           }
          ],
          "parcoords": [
           {
            "line": {
             "colorbar": {
              "outlinewidth": 1,
              "tickcolor": "rgb(36,36,36)",
              "ticks": "outside"
             }
            },
            "type": "parcoords"
           }
          ],
          "pie": [
           {
            "automargin": true,
            "type": "pie"
           }
          ],
          "scatter": [
           {
            "fillpattern": {
             "fillmode": "overlay",
             "size": 10,
             "solidity": 0.2
            },
            "type": "scatter"
           }
          ],
          "scatter3d": [
           {
            "line": {
             "colorbar": {
              "outlinewidth": 1,
              "tickcolor": "rgb(36,36,36)",
              "ticks": "outside"
             }
            },
            "marker": {
             "colorbar": {
              "outlinewidth": 1,
              "tickcolor": "rgb(36,36,36)",
              "ticks": "outside"
             }
            },
            "type": "scatter3d"
           }
          ],
          "scattercarpet": [
           {
            "marker": {
             "colorbar": {
              "outlinewidth": 1,
              "tickcolor": "rgb(36,36,36)",
              "ticks": "outside"
             }
            },
            "type": "scattercarpet"
           }
          ],
          "scattergeo": [
           {
            "marker": {
             "colorbar": {
              "outlinewidth": 1,
              "tickcolor": "rgb(36,36,36)",
              "ticks": "outside"
             }
            },
            "type": "scattergeo"
           }
          ],
          "scattergl": [
           {
            "marker": {
             "colorbar": {
              "outlinewidth": 1,
              "tickcolor": "rgb(36,36,36)",
              "ticks": "outside"
             }
            },
            "type": "scattergl"
           }
          ],
          "scattermapbox": [
           {
            "marker": {
             "colorbar": {
              "outlinewidth": 1,
              "tickcolor": "rgb(36,36,36)",
              "ticks": "outside"
             }
            },
            "type": "scattermapbox"
           }
          ],
          "scatterpolar": [
           {
            "marker": {
             "colorbar": {
              "outlinewidth": 1,
              "tickcolor": "rgb(36,36,36)",
              "ticks": "outside"
             }
            },
            "type": "scatterpolar"
           }
          ],
          "scatterpolargl": [
           {
            "marker": {
             "colorbar": {
              "outlinewidth": 1,
              "tickcolor": "rgb(36,36,36)",
              "ticks": "outside"
             }
            },
            "type": "scatterpolargl"
           }
          ],
          "scatterternary": [
           {
            "marker": {
             "colorbar": {
              "outlinewidth": 1,
              "tickcolor": "rgb(36,36,36)",
              "ticks": "outside"
             }
            },
            "type": "scatterternary"
           }
          ],
          "surface": [
           {
            "colorbar": {
             "outlinewidth": 1,
             "tickcolor": "rgb(36,36,36)",
             "ticks": "outside"
            },
            "colorscale": [
             [
              0,
              "#440154"
             ],
             [
              0.1111111111111111,
              "#482878"
             ],
             [
              0.2222222222222222,
              "#3e4989"
             ],
             [
              0.3333333333333333,
              "#31688e"
             ],
             [
              0.4444444444444444,
              "#26828e"
             ],
             [
              0.5555555555555556,
              "#1f9e89"
             ],
             [
              0.6666666666666666,
              "#35b779"
             ],
             [
              0.7777777777777778,
              "#6ece58"
             ],
             [
              0.8888888888888888,
              "#b5de2b"
             ],
             [
              1,
              "#fde725"
             ]
            ],
            "type": "surface"
           }
          ],
          "table": [
           {
            "cells": {
             "fill": {
              "color": "rgb(237,237,237)"
             },
             "line": {
              "color": "white"
             }
            },
            "header": {
             "fill": {
              "color": "rgb(217,217,217)"
             },
             "line": {
              "color": "white"
             }
            },
            "type": "table"
           }
          ]
         },
         "layout": {
          "annotationdefaults": {
           "arrowhead": 0,
           "arrowwidth": 1
          },
          "autotypenumbers": "strict",
          "coloraxis": {
           "colorbar": {
            "outlinewidth": 1,
            "tickcolor": "rgb(36,36,36)",
            "ticks": "outside"
           }
          },
          "colorscale": {
           "diverging": [
            [
             0,
             "rgb(103,0,31)"
            ],
            [
             0.1,
             "rgb(178,24,43)"
            ],
            [
             0.2,
             "rgb(214,96,77)"
            ],
            [
             0.3,
             "rgb(244,165,130)"
            ],
            [
             0.4,
             "rgb(253,219,199)"
            ],
            [
             0.5,
             "rgb(247,247,247)"
            ],
            [
             0.6,
             "rgb(209,229,240)"
            ],
            [
             0.7,
             "rgb(146,197,222)"
            ],
            [
             0.8,
             "rgb(67,147,195)"
            ],
            [
             0.9,
             "rgb(33,102,172)"
            ],
            [
             1,
             "rgb(5,48,97)"
            ]
           ],
           "sequential": [
            [
             0,
             "#440154"
            ],
            [
             0.1111111111111111,
             "#482878"
            ],
            [
             0.2222222222222222,
             "#3e4989"
            ],
            [
             0.3333333333333333,
             "#31688e"
            ],
            [
             0.4444444444444444,
             "#26828e"
            ],
            [
             0.5555555555555556,
             "#1f9e89"
            ],
            [
             0.6666666666666666,
             "#35b779"
            ],
            [
             0.7777777777777778,
             "#6ece58"
            ],
            [
             0.8888888888888888,
             "#b5de2b"
            ],
            [
             1,
             "#fde725"
            ]
           ],
           "sequentialminus": [
            [
             0,
             "#440154"
            ],
            [
             0.1111111111111111,
             "#482878"
            ],
            [
             0.2222222222222222,
             "#3e4989"
            ],
            [
             0.3333333333333333,
             "#31688e"
            ],
            [
             0.4444444444444444,
             "#26828e"
            ],
            [
             0.5555555555555556,
             "#1f9e89"
            ],
            [
             0.6666666666666666,
             "#35b779"
            ],
            [
             0.7777777777777778,
             "#6ece58"
            ],
            [
             0.8888888888888888,
             "#b5de2b"
            ],
            [
             1,
             "#fde725"
            ]
           ]
          },
          "colorway": [
           "#1F77B4",
           "#FF7F0E",
           "#2CA02C",
           "#D62728",
           "#9467BD",
           "#8C564B",
           "#E377C2",
           "#7F7F7F",
           "#BCBD22",
           "#17BECF"
          ],
          "font": {
           "color": "rgb(36,36,36)"
          },
          "geo": {
           "bgcolor": "white",
           "lakecolor": "white",
           "landcolor": "white",
           "showlakes": true,
           "showland": true,
           "subunitcolor": "white"
          },
          "hoverlabel": {
           "align": "left"
          },
          "hovermode": "closest",
          "mapbox": {
           "style": "light"
          },
          "paper_bgcolor": "white",
          "plot_bgcolor": "white",
          "polar": {
           "angularaxis": {
            "gridcolor": "rgb(232,232,232)",
            "linecolor": "rgb(36,36,36)",
            "showgrid": false,
            "showline": true,
            "ticks": "outside"
           },
           "bgcolor": "white",
           "radialaxis": {
            "gridcolor": "rgb(232,232,232)",
            "linecolor": "rgb(36,36,36)",
            "showgrid": false,
            "showline": true,
            "ticks": "outside"
           }
          },
          "scene": {
           "xaxis": {
            "backgroundcolor": "white",
            "gridcolor": "rgb(232,232,232)",
            "gridwidth": 2,
            "linecolor": "rgb(36,36,36)",
            "showbackground": true,
            "showgrid": false,
            "showline": true,
            "ticks": "outside",
            "zeroline": false,
            "zerolinecolor": "rgb(36,36,36)"
           },
           "yaxis": {
            "backgroundcolor": "white",
            "gridcolor": "rgb(232,232,232)",
            "gridwidth": 2,
            "linecolor": "rgb(36,36,36)",
            "showbackground": true,
            "showgrid": false,
            "showline": true,
            "ticks": "outside",
            "zeroline": false,
            "zerolinecolor": "rgb(36,36,36)"
           },
           "zaxis": {
            "backgroundcolor": "white",
            "gridcolor": "rgb(232,232,232)",
            "gridwidth": 2,
            "linecolor": "rgb(36,36,36)",
            "showbackground": true,
            "showgrid": false,
            "showline": true,
            "ticks": "outside",
            "zeroline": false,
            "zerolinecolor": "rgb(36,36,36)"
           }
          },
          "shapedefaults": {
           "fillcolor": "black",
           "line": {
            "width": 0
           },
           "opacity": 0.3
          },
          "ternary": {
           "aaxis": {
            "gridcolor": "rgb(232,232,232)",
            "linecolor": "rgb(36,36,36)",
            "showgrid": false,
            "showline": true,
            "ticks": "outside"
           },
           "baxis": {
            "gridcolor": "rgb(232,232,232)",
            "linecolor": "rgb(36,36,36)",
            "showgrid": false,
            "showline": true,
            "ticks": "outside"
           },
           "bgcolor": "white",
           "caxis": {
            "gridcolor": "rgb(232,232,232)",
            "linecolor": "rgb(36,36,36)",
            "showgrid": false,
            "showline": true,
            "ticks": "outside"
           }
          },
          "title": {
           "x": 0.05
          },
          "xaxis": {
           "automargin": true,
           "gridcolor": "rgb(232,232,232)",
           "linecolor": "rgb(36,36,36)",
           "showgrid": false,
           "showline": true,
           "ticks": "outside",
           "title": {
            "standoff": 15
           },
           "zeroline": false,
           "zerolinecolor": "rgb(36,36,36)"
          },
          "yaxis": {
           "automargin": true,
           "gridcolor": "rgb(232,232,232)",
           "linecolor": "rgb(36,36,36)",
           "showgrid": false,
           "showline": true,
           "ticks": "outside",
           "title": {
            "standoff": 15
           },
           "zeroline": false,
           "zerolinecolor": "rgb(36,36,36)"
          }
         }
        },
        "title": {
         "font": {
          "color": "Black",
          "size": 22
         },
         "text": "<b>Intertopic Distance Map",
         "x": 0.5,
         "xanchor": "center",
         "y": 0.95,
         "yanchor": "top"
        },
        "width": 650,
        "xaxis": {
         "anchor": "y",
         "domain": [
          0,
          1
         ],
         "range": [
          -12.396614742279052,
          24.030485439300538
         ],
         "title": {
          "text": ""
         },
         "visible": false
        },
        "yaxis": {
         "anchor": "x",
         "domain": [
          0,
          1
         ],
         "range": [
          -2.9063403010368347,
          13.138833570480347
         ],
         "title": {
          "text": ""
         },
         "visible": false
        }
       }
      },
      "text/html": [
       "<div>                            <div id=\"ffff45dd-e1ac-41bd-a092-bc8593cf9d49\" class=\"plotly-graph-div\" style=\"height:650px; width:650px;\"></div>            <script type=\"text/javascript\">                require([\"plotly\"], function(Plotly) {                    window.PLOTLYENV=window.PLOTLYENV || {};                                    if (document.getElementById(\"ffff45dd-e1ac-41bd-a092-bc8593cf9d49\")) {                    Plotly.newPlot(                        \"ffff45dd-e1ac-41bd-a092-bc8593cf9d49\",                        [{\"customdata\":[[0,\"cry | tears | time | first | cried\",304],[1,\"breakup | relationship | broke | song | right\",78],[2,\"depression | depressed | suicidal | really | suicide\",78],[3,\"father | dad | my | song | would\",61],[4,\"grandfather | grandma | grandpa | passed | funeral\",60],[5,\"album | death | wife | died | cancer\",58],[6,\"movie | orchestra | beautiful | end | piano\",52],[7,\"feels | first | time | right | listened\",49],[8,\"emotion | raw | vocals | emotional | lyrics\",47],[9,\"dad | father | relationship | daddy | losing\",46],[10,\"oh | and | mama | nobody | city\",42],[11,\"country | the | johnny | cash | list\",42],[12,\"mom | my | away | passed | custody\",38],[13,\"beautiful | song | hindi | damned | waterworks\",35],[14,\"friend | suicide | committed | best | lost\",34],[15,\"sad | songs | song | feel | know\",34],[16,\"sadness | heart | coming | know | simple\",30],[17,\"childhood | school | pooh | robinsons | new\",28],[18,\"wedding | dance | married | danced | aisle\",27],[19,\"home | hit | close | hits | really\",25],[20,\"nostalgia | nostalgic | lyrics | mood | emotions\",25],[21,\"cat | dog | dogs | pet | miss\",24],[22,\"french | spanish | gogh | speak | attacks\",23],[23,\"war | soldier | veteran | pilots | deployed\",23],[24,\"watch | feature | wings | bfa | seabra\",22],[25,\"concert | joined | live | crescendo | built\",19],[26,\"album | whole | the | great | yet\",19],[27,\"addiction | drug | drugs | lost | needle\",17],[28,\"every | single | roots | time | still\",16],[29,\"story | sad | song | tells | whole\",15],[30,\"chester | bennington | suicide | committed | especially\",14],[31,\"cancer | mom | breast | died | diagnosed\",14],[32,\"gut | punch | punched | two | want\",14],[33,\"sister | uncle | family | brother | died\",13],[34,\"mother | mom | carrie | lowell | amazing\",13],[35,\"moving | saying | music | paolo | nutini\",12],[36,\"rough | phrase | moved | patch | life\",10]],\"hovertemplate\":\"<b>Topic %{customdata[0]}</b><br>Words: %{customdata[1]}<br>Size: %{customdata[2]}\",\"legendgroup\":\"\",\"marker\":{\"color\":\"#B0BEC5\",\"size\":[304,78,78,61,60,58,52,49,47,46,42,42,38,35,34,34,30,28,27,25,25,24,23,23,22,19,19,17,16,15,14,14,14,13,13,12,10],\"sizemode\":\"area\",\"sizeref\":0.19,\"symbol\":\"circle\",\"line\":{\"color\":\"DarkSlateGrey\",\"width\":2}},\"mode\":\"markers\",\"name\":\"\",\"orientation\":\"v\",\"showlegend\":false,\"x\":[12.629076957702637,12.443710327148438,12.332269668579102,6.132814884185791,0.49131080508232117,0.4564425051212311,-10.779664993286133,20.23621940612793,-10.609081268310547,7.021875381469727,5.871669769287109,5.745484352111816,6.461606502532959,-10.648720741271973,-0.6410916447639465,20.759355545043945,20.358335494995117,7.417334079742432,7.262258529663086,19.8477725982666,-10.581012725830078,0.3564228117465973,20.896074295043945,7.143935203552246,-10.541922569274902,-0.5877857208251953,-10.534211158752441,6.350736618041992,6.301441669464111,-10.388524055480957,-1.2464540004730225,-1.82924485206604,6.17351770401001,-1.7242649793624878,-1.9270120859146118,19.76786994934082,20.3818302154541],\"xaxis\":\"x\",\"y\":[11.42507266998291,11.239527702331543,11.12795639038086,4.903462886810303,5.964746475219727,6.20030403137207,-1.73414945602417,1.7317018508911133,-2.0845136642456055,4.507107257843018,4.988857269287109,5.132145404815674,4.733519554138184,-2.402581214904785,5.896126747131348,1.5893698930740356,1.5175738334655762,4.066339492797852,4.379885673522949,1.984898567199707,-1.4177278280258179,6.145596504211426,1.4862302541732788,4.114005088806152,-2.527252435684204,6.088404655456543,-2.0411036014556885,4.251097202301025,3.932746171951294,-1.1634572744369507,5.982217311859131,5.868595123291016,3.7714977264404297,5.672222137451172,5.934872150421143,1.909871220588684,2.05948543548584],\"yaxis\":\"y\",\"type\":\"scatter\"}],                        {\"template\":{\"data\":{\"barpolar\":[{\"marker\":{\"line\":{\"color\":\"white\",\"width\":0.5},\"pattern\":{\"fillmode\":\"overlay\",\"size\":10,\"solidity\":0.2}},\"type\":\"barpolar\"}],\"bar\":[{\"error_x\":{\"color\":\"rgb(36,36,36)\"},\"error_y\":{\"color\":\"rgb(36,36,36)\"},\"marker\":{\"line\":{\"color\":\"white\",\"width\":0.5},\"pattern\":{\"fillmode\":\"overlay\",\"size\":10,\"solidity\":0.2}},\"type\":\"bar\"}],\"carpet\":[{\"aaxis\":{\"endlinecolor\":\"rgb(36,36,36)\",\"gridcolor\":\"white\",\"linecolor\":\"white\",\"minorgridcolor\":\"white\",\"startlinecolor\":\"rgb(36,36,36)\"},\"baxis\":{\"endlinecolor\":\"rgb(36,36,36)\",\"gridcolor\":\"white\",\"linecolor\":\"white\",\"minorgridcolor\":\"white\",\"startlinecolor\":\"rgb(36,36,36)\"},\"type\":\"carpet\"}],\"choropleth\":[{\"colorbar\":{\"outlinewidth\":1,\"tickcolor\":\"rgb(36,36,36)\",\"ticks\":\"outside\"},\"type\":\"choropleth\"}],\"contourcarpet\":[{\"colorbar\":{\"outlinewidth\":1,\"tickcolor\":\"rgb(36,36,36)\",\"ticks\":\"outside\"},\"type\":\"contourcarpet\"}],\"contour\":[{\"colorbar\":{\"outlinewidth\":1,\"tickcolor\":\"rgb(36,36,36)\",\"ticks\":\"outside\"},\"colorscale\":[[0.0,\"#440154\"],[0.1111111111111111,\"#482878\"],[0.2222222222222222,\"#3e4989\"],[0.3333333333333333,\"#31688e\"],[0.4444444444444444,\"#26828e\"],[0.5555555555555556,\"#1f9e89\"],[0.6666666666666666,\"#35b779\"],[0.7777777777777778,\"#6ece58\"],[0.8888888888888888,\"#b5de2b\"],[1.0,\"#fde725\"]],\"type\":\"contour\"}],\"heatmapgl\":[{\"colorbar\":{\"outlinewidth\":1,\"tickcolor\":\"rgb(36,36,36)\",\"ticks\":\"outside\"},\"colorscale\":[[0.0,\"#440154\"],[0.1111111111111111,\"#482878\"],[0.2222222222222222,\"#3e4989\"],[0.3333333333333333,\"#31688e\"],[0.4444444444444444,\"#26828e\"],[0.5555555555555556,\"#1f9e89\"],[0.6666666666666666,\"#35b779\"],[0.7777777777777778,\"#6ece58\"],[0.8888888888888888,\"#b5de2b\"],[1.0,\"#fde725\"]],\"type\":\"heatmapgl\"}],\"heatmap\":[{\"colorbar\":{\"outlinewidth\":1,\"tickcolor\":\"rgb(36,36,36)\",\"ticks\":\"outside\"},\"colorscale\":[[0.0,\"#440154\"],[0.1111111111111111,\"#482878\"],[0.2222222222222222,\"#3e4989\"],[0.3333333333333333,\"#31688e\"],[0.4444444444444444,\"#26828e\"],[0.5555555555555556,\"#1f9e89\"],[0.6666666666666666,\"#35b779\"],[0.7777777777777778,\"#6ece58\"],[0.8888888888888888,\"#b5de2b\"],[1.0,\"#fde725\"]],\"type\":\"heatmap\"}],\"histogram2dcontour\":[{\"colorbar\":{\"outlinewidth\":1,\"tickcolor\":\"rgb(36,36,36)\",\"ticks\":\"outside\"},\"colorscale\":[[0.0,\"#440154\"],[0.1111111111111111,\"#482878\"],[0.2222222222222222,\"#3e4989\"],[0.3333333333333333,\"#31688e\"],[0.4444444444444444,\"#26828e\"],[0.5555555555555556,\"#1f9e89\"],[0.6666666666666666,\"#35b779\"],[0.7777777777777778,\"#6ece58\"],[0.8888888888888888,\"#b5de2b\"],[1.0,\"#fde725\"]],\"type\":\"histogram2dcontour\"}],\"histogram2d\":[{\"colorbar\":{\"outlinewidth\":1,\"tickcolor\":\"rgb(36,36,36)\",\"ticks\":\"outside\"},\"colorscale\":[[0.0,\"#440154\"],[0.1111111111111111,\"#482878\"],[0.2222222222222222,\"#3e4989\"],[0.3333333333333333,\"#31688e\"],[0.4444444444444444,\"#26828e\"],[0.5555555555555556,\"#1f9e89\"],[0.6666666666666666,\"#35b779\"],[0.7777777777777778,\"#6ece58\"],[0.8888888888888888,\"#b5de2b\"],[1.0,\"#fde725\"]],\"type\":\"histogram2d\"}],\"histogram\":[{\"marker\":{\"line\":{\"color\":\"white\",\"width\":0.6}},\"type\":\"histogram\"}],\"mesh3d\":[{\"colorbar\":{\"outlinewidth\":1,\"tickcolor\":\"rgb(36,36,36)\",\"ticks\":\"outside\"},\"type\":\"mesh3d\"}],\"parcoords\":[{\"line\":{\"colorbar\":{\"outlinewidth\":1,\"tickcolor\":\"rgb(36,36,36)\",\"ticks\":\"outside\"}},\"type\":\"parcoords\"}],\"pie\":[{\"automargin\":true,\"type\":\"pie\"}],\"scatter3d\":[{\"line\":{\"colorbar\":{\"outlinewidth\":1,\"tickcolor\":\"rgb(36,36,36)\",\"ticks\":\"outside\"}},\"marker\":{\"colorbar\":{\"outlinewidth\":1,\"tickcolor\":\"rgb(36,36,36)\",\"ticks\":\"outside\"}},\"type\":\"scatter3d\"}],\"scattercarpet\":[{\"marker\":{\"colorbar\":{\"outlinewidth\":1,\"tickcolor\":\"rgb(36,36,36)\",\"ticks\":\"outside\"}},\"type\":\"scattercarpet\"}],\"scattergeo\":[{\"marker\":{\"colorbar\":{\"outlinewidth\":1,\"tickcolor\":\"rgb(36,36,36)\",\"ticks\":\"outside\"}},\"type\":\"scattergeo\"}],\"scattergl\":[{\"marker\":{\"colorbar\":{\"outlinewidth\":1,\"tickcolor\":\"rgb(36,36,36)\",\"ticks\":\"outside\"}},\"type\":\"scattergl\"}],\"scattermapbox\":[{\"marker\":{\"colorbar\":{\"outlinewidth\":1,\"tickcolor\":\"rgb(36,36,36)\",\"ticks\":\"outside\"}},\"type\":\"scattermapbox\"}],\"scatterpolargl\":[{\"marker\":{\"colorbar\":{\"outlinewidth\":1,\"tickcolor\":\"rgb(36,36,36)\",\"ticks\":\"outside\"}},\"type\":\"scatterpolargl\"}],\"scatterpolar\":[{\"marker\":{\"colorbar\":{\"outlinewidth\":1,\"tickcolor\":\"rgb(36,36,36)\",\"ticks\":\"outside\"}},\"type\":\"scatterpolar\"}],\"scatter\":[{\"fillpattern\":{\"fillmode\":\"overlay\",\"size\":10,\"solidity\":0.2},\"type\":\"scatter\"}],\"scatterternary\":[{\"marker\":{\"colorbar\":{\"outlinewidth\":1,\"tickcolor\":\"rgb(36,36,36)\",\"ticks\":\"outside\"}},\"type\":\"scatterternary\"}],\"surface\":[{\"colorbar\":{\"outlinewidth\":1,\"tickcolor\":\"rgb(36,36,36)\",\"ticks\":\"outside\"},\"colorscale\":[[0.0,\"#440154\"],[0.1111111111111111,\"#482878\"],[0.2222222222222222,\"#3e4989\"],[0.3333333333333333,\"#31688e\"],[0.4444444444444444,\"#26828e\"],[0.5555555555555556,\"#1f9e89\"],[0.6666666666666666,\"#35b779\"],[0.7777777777777778,\"#6ece58\"],[0.8888888888888888,\"#b5de2b\"],[1.0,\"#fde725\"]],\"type\":\"surface\"}],\"table\":[{\"cells\":{\"fill\":{\"color\":\"rgb(237,237,237)\"},\"line\":{\"color\":\"white\"}},\"header\":{\"fill\":{\"color\":\"rgb(217,217,217)\"},\"line\":{\"color\":\"white\"}},\"type\":\"table\"}]},\"layout\":{\"annotationdefaults\":{\"arrowhead\":0,\"arrowwidth\":1},\"autotypenumbers\":\"strict\",\"coloraxis\":{\"colorbar\":{\"outlinewidth\":1,\"tickcolor\":\"rgb(36,36,36)\",\"ticks\":\"outside\"}},\"colorscale\":{\"diverging\":[[0.0,\"rgb(103,0,31)\"],[0.1,\"rgb(178,24,43)\"],[0.2,\"rgb(214,96,77)\"],[0.3,\"rgb(244,165,130)\"],[0.4,\"rgb(253,219,199)\"],[0.5,\"rgb(247,247,247)\"],[0.6,\"rgb(209,229,240)\"],[0.7,\"rgb(146,197,222)\"],[0.8,\"rgb(67,147,195)\"],[0.9,\"rgb(33,102,172)\"],[1.0,\"rgb(5,48,97)\"]],\"sequential\":[[0.0,\"#440154\"],[0.1111111111111111,\"#482878\"],[0.2222222222222222,\"#3e4989\"],[0.3333333333333333,\"#31688e\"],[0.4444444444444444,\"#26828e\"],[0.5555555555555556,\"#1f9e89\"],[0.6666666666666666,\"#35b779\"],[0.7777777777777778,\"#6ece58\"],[0.8888888888888888,\"#b5de2b\"],[1.0,\"#fde725\"]],\"sequentialminus\":[[0.0,\"#440154\"],[0.1111111111111111,\"#482878\"],[0.2222222222222222,\"#3e4989\"],[0.3333333333333333,\"#31688e\"],[0.4444444444444444,\"#26828e\"],[0.5555555555555556,\"#1f9e89\"],[0.6666666666666666,\"#35b779\"],[0.7777777777777778,\"#6ece58\"],[0.8888888888888888,\"#b5de2b\"],[1.0,\"#fde725\"]]},\"colorway\":[\"#1F77B4\",\"#FF7F0E\",\"#2CA02C\",\"#D62728\",\"#9467BD\",\"#8C564B\",\"#E377C2\",\"#7F7F7F\",\"#BCBD22\",\"#17BECF\"],\"font\":{\"color\":\"rgb(36,36,36)\"},\"geo\":{\"bgcolor\":\"white\",\"lakecolor\":\"white\",\"landcolor\":\"white\",\"showlakes\":true,\"showland\":true,\"subunitcolor\":\"white\"},\"hoverlabel\":{\"align\":\"left\"},\"hovermode\":\"closest\",\"mapbox\":{\"style\":\"light\"},\"paper_bgcolor\":\"white\",\"plot_bgcolor\":\"white\",\"polar\":{\"angularaxis\":{\"gridcolor\":\"rgb(232,232,232)\",\"linecolor\":\"rgb(36,36,36)\",\"showgrid\":false,\"showline\":true,\"ticks\":\"outside\"},\"bgcolor\":\"white\",\"radialaxis\":{\"gridcolor\":\"rgb(232,232,232)\",\"linecolor\":\"rgb(36,36,36)\",\"showgrid\":false,\"showline\":true,\"ticks\":\"outside\"}},\"scene\":{\"xaxis\":{\"backgroundcolor\":\"white\",\"gridcolor\":\"rgb(232,232,232)\",\"gridwidth\":2,\"linecolor\":\"rgb(36,36,36)\",\"showbackground\":true,\"showgrid\":false,\"showline\":true,\"ticks\":\"outside\",\"zeroline\":false,\"zerolinecolor\":\"rgb(36,36,36)\"},\"yaxis\":{\"backgroundcolor\":\"white\",\"gridcolor\":\"rgb(232,232,232)\",\"gridwidth\":2,\"linecolor\":\"rgb(36,36,36)\",\"showbackground\":true,\"showgrid\":false,\"showline\":true,\"ticks\":\"outside\",\"zeroline\":false,\"zerolinecolor\":\"rgb(36,36,36)\"},\"zaxis\":{\"backgroundcolor\":\"white\",\"gridcolor\":\"rgb(232,232,232)\",\"gridwidth\":2,\"linecolor\":\"rgb(36,36,36)\",\"showbackground\":true,\"showgrid\":false,\"showline\":true,\"ticks\":\"outside\",\"zeroline\":false,\"zerolinecolor\":\"rgb(36,36,36)\"}},\"shapedefaults\":{\"fillcolor\":\"black\",\"line\":{\"width\":0},\"opacity\":0.3},\"ternary\":{\"aaxis\":{\"gridcolor\":\"rgb(232,232,232)\",\"linecolor\":\"rgb(36,36,36)\",\"showgrid\":false,\"showline\":true,\"ticks\":\"outside\"},\"baxis\":{\"gridcolor\":\"rgb(232,232,232)\",\"linecolor\":\"rgb(36,36,36)\",\"showgrid\":false,\"showline\":true,\"ticks\":\"outside\"},\"bgcolor\":\"white\",\"caxis\":{\"gridcolor\":\"rgb(232,232,232)\",\"linecolor\":\"rgb(36,36,36)\",\"showgrid\":false,\"showline\":true,\"ticks\":\"outside\"}},\"title\":{\"x\":0.05},\"xaxis\":{\"automargin\":true,\"gridcolor\":\"rgb(232,232,232)\",\"linecolor\":\"rgb(36,36,36)\",\"showgrid\":false,\"showline\":true,\"ticks\":\"outside\",\"title\":{\"standoff\":15},\"zeroline\":false,\"zerolinecolor\":\"rgb(36,36,36)\"},\"yaxis\":{\"automargin\":true,\"gridcolor\":\"rgb(232,232,232)\",\"linecolor\":\"rgb(36,36,36)\",\"showgrid\":false,\"showline\":true,\"ticks\":\"outside\",\"title\":{\"standoff\":15},\"zeroline\":false,\"zerolinecolor\":\"rgb(36,36,36)\"}}},\"xaxis\":{\"anchor\":\"y\",\"domain\":[0.0,1.0],\"title\":{\"text\":\"\"},\"visible\":false,\"range\":[-12.396614742279052,24.030485439300538]},\"yaxis\":{\"anchor\":\"x\",\"domain\":[0.0,1.0],\"title\":{\"text\":\"\"},\"visible\":false,\"range\":[-2.9063403010368347,13.138833570480347]},\"legend\":{\"tracegroupgap\":0,\"itemsizing\":\"constant\"},\"margin\":{\"t\":60},\"title\":{\"font\":{\"size\":22,\"color\":\"Black\"},\"text\":\"<b>Intertopic Distance Map\",\"y\":0.95,\"x\":0.5,\"xanchor\":\"center\",\"yanchor\":\"top\"},\"hoverlabel\":{\"font\":{\"size\":16,\"family\":\"Rockwell\"},\"bgcolor\":\"white\"},\"width\":650,\"height\":650,\"sliders\":[{\"active\":0,\"pad\":{\"t\":50},\"steps\":[{\"args\":[{\"marker.color\":[[\"red\",\"#B0BEC5\",\"#B0BEC5\",\"#B0BEC5\",\"#B0BEC5\",\"#B0BEC5\",\"#B0BEC5\",\"#B0BEC5\",\"#B0BEC5\",\"#B0BEC5\",\"#B0BEC5\",\"#B0BEC5\",\"#B0BEC5\",\"#B0BEC5\",\"#B0BEC5\",\"#B0BEC5\",\"#B0BEC5\",\"#B0BEC5\",\"#B0BEC5\",\"#B0BEC5\",\"#B0BEC5\",\"#B0BEC5\",\"#B0BEC5\",\"#B0BEC5\",\"#B0BEC5\",\"#B0BEC5\",\"#B0BEC5\",\"#B0BEC5\",\"#B0BEC5\",\"#B0BEC5\",\"#B0BEC5\",\"#B0BEC5\",\"#B0BEC5\",\"#B0BEC5\",\"#B0BEC5\",\"#B0BEC5\",\"#B0BEC5\"]]}],\"label\":\"Topic 0\",\"method\":\"update\"},{\"args\":[{\"marker.color\":[[\"#B0BEC5\",\"red\",\"#B0BEC5\",\"#B0BEC5\",\"#B0BEC5\",\"#B0BEC5\",\"#B0BEC5\",\"#B0BEC5\",\"#B0BEC5\",\"#B0BEC5\",\"#B0BEC5\",\"#B0BEC5\",\"#B0BEC5\",\"#B0BEC5\",\"#B0BEC5\",\"#B0BEC5\",\"#B0BEC5\",\"#B0BEC5\",\"#B0BEC5\",\"#B0BEC5\",\"#B0BEC5\",\"#B0BEC5\",\"#B0BEC5\",\"#B0BEC5\",\"#B0BEC5\",\"#B0BEC5\",\"#B0BEC5\",\"#B0BEC5\",\"#B0BEC5\",\"#B0BEC5\",\"#B0BEC5\",\"#B0BEC5\",\"#B0BEC5\",\"#B0BEC5\",\"#B0BEC5\",\"#B0BEC5\",\"#B0BEC5\"]]}],\"label\":\"Topic 1\",\"method\":\"update\"},{\"args\":[{\"marker.color\":[[\"#B0BEC5\",\"#B0BEC5\",\"red\",\"#B0BEC5\",\"#B0BEC5\",\"#B0BEC5\",\"#B0BEC5\",\"#B0BEC5\",\"#B0BEC5\",\"#B0BEC5\",\"#B0BEC5\",\"#B0BEC5\",\"#B0BEC5\",\"#B0BEC5\",\"#B0BEC5\",\"#B0BEC5\",\"#B0BEC5\",\"#B0BEC5\",\"#B0BEC5\",\"#B0BEC5\",\"#B0BEC5\",\"#B0BEC5\",\"#B0BEC5\",\"#B0BEC5\",\"#B0BEC5\",\"#B0BEC5\",\"#B0BEC5\",\"#B0BEC5\",\"#B0BEC5\",\"#B0BEC5\",\"#B0BEC5\",\"#B0BEC5\",\"#B0BEC5\",\"#B0BEC5\",\"#B0BEC5\",\"#B0BEC5\",\"#B0BEC5\"]]}],\"label\":\"Topic 2\",\"method\":\"update\"},{\"args\":[{\"marker.color\":[[\"#B0BEC5\",\"#B0BEC5\",\"#B0BEC5\",\"red\",\"#B0BEC5\",\"#B0BEC5\",\"#B0BEC5\",\"#B0BEC5\",\"#B0BEC5\",\"#B0BEC5\",\"#B0BEC5\",\"#B0BEC5\",\"#B0BEC5\",\"#B0BEC5\",\"#B0BEC5\",\"#B0BEC5\",\"#B0BEC5\",\"#B0BEC5\",\"#B0BEC5\",\"#B0BEC5\",\"#B0BEC5\",\"#B0BEC5\",\"#B0BEC5\",\"#B0BEC5\",\"#B0BEC5\",\"#B0BEC5\",\"#B0BEC5\",\"#B0BEC5\",\"#B0BEC5\",\"#B0BEC5\",\"#B0BEC5\",\"#B0BEC5\",\"#B0BEC5\",\"#B0BEC5\",\"#B0BEC5\",\"#B0BEC5\",\"#B0BEC5\"]]}],\"label\":\"Topic 3\",\"method\":\"update\"},{\"args\":[{\"marker.color\":[[\"#B0BEC5\",\"#B0BEC5\",\"#B0BEC5\",\"#B0BEC5\",\"red\",\"#B0BEC5\",\"#B0BEC5\",\"#B0BEC5\",\"#B0BEC5\",\"#B0BEC5\",\"#B0BEC5\",\"#B0BEC5\",\"#B0BEC5\",\"#B0BEC5\",\"#B0BEC5\",\"#B0BEC5\",\"#B0BEC5\",\"#B0BEC5\",\"#B0BEC5\",\"#B0BEC5\",\"#B0BEC5\",\"#B0BEC5\",\"#B0BEC5\",\"#B0BEC5\",\"#B0BEC5\",\"#B0BEC5\",\"#B0BEC5\",\"#B0BEC5\",\"#B0BEC5\",\"#B0BEC5\",\"#B0BEC5\",\"#B0BEC5\",\"#B0BEC5\",\"#B0BEC5\",\"#B0BEC5\",\"#B0BEC5\",\"#B0BEC5\"]]}],\"label\":\"Topic 4\",\"method\":\"update\"},{\"args\":[{\"marker.color\":[[\"#B0BEC5\",\"#B0BEC5\",\"#B0BEC5\",\"#B0BEC5\",\"#B0BEC5\",\"red\",\"#B0BEC5\",\"#B0BEC5\",\"#B0BEC5\",\"#B0BEC5\",\"#B0BEC5\",\"#B0BEC5\",\"#B0BEC5\",\"#B0BEC5\",\"#B0BEC5\",\"#B0BEC5\",\"#B0BEC5\",\"#B0BEC5\",\"#B0BEC5\",\"#B0BEC5\",\"#B0BEC5\",\"#B0BEC5\",\"#B0BEC5\",\"#B0BEC5\",\"#B0BEC5\",\"#B0BEC5\",\"#B0BEC5\",\"#B0BEC5\",\"#B0BEC5\",\"#B0BEC5\",\"#B0BEC5\",\"#B0BEC5\",\"#B0BEC5\",\"#B0BEC5\",\"#B0BEC5\",\"#B0BEC5\",\"#B0BEC5\"]]}],\"label\":\"Topic 5\",\"method\":\"update\"},{\"args\":[{\"marker.color\":[[\"#B0BEC5\",\"#B0BEC5\",\"#B0BEC5\",\"#B0BEC5\",\"#B0BEC5\",\"#B0BEC5\",\"red\",\"#B0BEC5\",\"#B0BEC5\",\"#B0BEC5\",\"#B0BEC5\",\"#B0BEC5\",\"#B0BEC5\",\"#B0BEC5\",\"#B0BEC5\",\"#B0BEC5\",\"#B0BEC5\",\"#B0BEC5\",\"#B0BEC5\",\"#B0BEC5\",\"#B0BEC5\",\"#B0BEC5\",\"#B0BEC5\",\"#B0BEC5\",\"#B0BEC5\",\"#B0BEC5\",\"#B0BEC5\",\"#B0BEC5\",\"#B0BEC5\",\"#B0BEC5\",\"#B0BEC5\",\"#B0BEC5\",\"#B0BEC5\",\"#B0BEC5\",\"#B0BEC5\",\"#B0BEC5\",\"#B0BEC5\"]]}],\"label\":\"Topic 6\",\"method\":\"update\"},{\"args\":[{\"marker.color\":[[\"#B0BEC5\",\"#B0BEC5\",\"#B0BEC5\",\"#B0BEC5\",\"#B0BEC5\",\"#B0BEC5\",\"#B0BEC5\",\"red\",\"#B0BEC5\",\"#B0BEC5\",\"#B0BEC5\",\"#B0BEC5\",\"#B0BEC5\",\"#B0BEC5\",\"#B0BEC5\",\"#B0BEC5\",\"#B0BEC5\",\"#B0BEC5\",\"#B0BEC5\",\"#B0BEC5\",\"#B0BEC5\",\"#B0BEC5\",\"#B0BEC5\",\"#B0BEC5\",\"#B0BEC5\",\"#B0BEC5\",\"#B0BEC5\",\"#B0BEC5\",\"#B0BEC5\",\"#B0BEC5\",\"#B0BEC5\",\"#B0BEC5\",\"#B0BEC5\",\"#B0BEC5\",\"#B0BEC5\",\"#B0BEC5\",\"#B0BEC5\"]]}],\"label\":\"Topic 7\",\"method\":\"update\"},{\"args\":[{\"marker.color\":[[\"#B0BEC5\",\"#B0BEC5\",\"#B0BEC5\",\"#B0BEC5\",\"#B0BEC5\",\"#B0BEC5\",\"#B0BEC5\",\"#B0BEC5\",\"red\",\"#B0BEC5\",\"#B0BEC5\",\"#B0BEC5\",\"#B0BEC5\",\"#B0BEC5\",\"#B0BEC5\",\"#B0BEC5\",\"#B0BEC5\",\"#B0BEC5\",\"#B0BEC5\",\"#B0BEC5\",\"#B0BEC5\",\"#B0BEC5\",\"#B0BEC5\",\"#B0BEC5\",\"#B0BEC5\",\"#B0BEC5\",\"#B0BEC5\",\"#B0BEC5\",\"#B0BEC5\",\"#B0BEC5\",\"#B0BEC5\",\"#B0BEC5\",\"#B0BEC5\",\"#B0BEC5\",\"#B0BEC5\",\"#B0BEC5\",\"#B0BEC5\"]]}],\"label\":\"Topic 8\",\"method\":\"update\"},{\"args\":[{\"marker.color\":[[\"#B0BEC5\",\"#B0BEC5\",\"#B0BEC5\",\"#B0BEC5\",\"#B0BEC5\",\"#B0BEC5\",\"#B0BEC5\",\"#B0BEC5\",\"#B0BEC5\",\"red\",\"#B0BEC5\",\"#B0BEC5\",\"#B0BEC5\",\"#B0BEC5\",\"#B0BEC5\",\"#B0BEC5\",\"#B0BEC5\",\"#B0BEC5\",\"#B0BEC5\",\"#B0BEC5\",\"#B0BEC5\",\"#B0BEC5\",\"#B0BEC5\",\"#B0BEC5\",\"#B0BEC5\",\"#B0BEC5\",\"#B0BEC5\",\"#B0BEC5\",\"#B0BEC5\",\"#B0BEC5\",\"#B0BEC5\",\"#B0BEC5\",\"#B0BEC5\",\"#B0BEC5\",\"#B0BEC5\",\"#B0BEC5\",\"#B0BEC5\"]]}],\"label\":\"Topic 9\",\"method\":\"update\"},{\"args\":[{\"marker.color\":[[\"#B0BEC5\",\"#B0BEC5\",\"#B0BEC5\",\"#B0BEC5\",\"#B0BEC5\",\"#B0BEC5\",\"#B0BEC5\",\"#B0BEC5\",\"#B0BEC5\",\"#B0BEC5\",\"red\",\"#B0BEC5\",\"#B0BEC5\",\"#B0BEC5\",\"#B0BEC5\",\"#B0BEC5\",\"#B0BEC5\",\"#B0BEC5\",\"#B0BEC5\",\"#B0BEC5\",\"#B0BEC5\",\"#B0BEC5\",\"#B0BEC5\",\"#B0BEC5\",\"#B0BEC5\",\"#B0BEC5\",\"#B0BEC5\",\"#B0BEC5\",\"#B0BEC5\",\"#B0BEC5\",\"#B0BEC5\",\"#B0BEC5\",\"#B0BEC5\",\"#B0BEC5\",\"#B0BEC5\",\"#B0BEC5\",\"#B0BEC5\"]]}],\"label\":\"Topic 10\",\"method\":\"update\"},{\"args\":[{\"marker.color\":[[\"#B0BEC5\",\"#B0BEC5\",\"#B0BEC5\",\"#B0BEC5\",\"#B0BEC5\",\"#B0BEC5\",\"#B0BEC5\",\"#B0BEC5\",\"#B0BEC5\",\"#B0BEC5\",\"#B0BEC5\",\"red\",\"#B0BEC5\",\"#B0BEC5\",\"#B0BEC5\",\"#B0BEC5\",\"#B0BEC5\",\"#B0BEC5\",\"#B0BEC5\",\"#B0BEC5\",\"#B0BEC5\",\"#B0BEC5\",\"#B0BEC5\",\"#B0BEC5\",\"#B0BEC5\",\"#B0BEC5\",\"#B0BEC5\",\"#B0BEC5\",\"#B0BEC5\",\"#B0BEC5\",\"#B0BEC5\",\"#B0BEC5\",\"#B0BEC5\",\"#B0BEC5\",\"#B0BEC5\",\"#B0BEC5\",\"#B0BEC5\"]]}],\"label\":\"Topic 11\",\"method\":\"update\"},{\"args\":[{\"marker.color\":[[\"#B0BEC5\",\"#B0BEC5\",\"#B0BEC5\",\"#B0BEC5\",\"#B0BEC5\",\"#B0BEC5\",\"#B0BEC5\",\"#B0BEC5\",\"#B0BEC5\",\"#B0BEC5\",\"#B0BEC5\",\"#B0BEC5\",\"red\",\"#B0BEC5\",\"#B0BEC5\",\"#B0BEC5\",\"#B0BEC5\",\"#B0BEC5\",\"#B0BEC5\",\"#B0BEC5\",\"#B0BEC5\",\"#B0BEC5\",\"#B0BEC5\",\"#B0BEC5\",\"#B0BEC5\",\"#B0BEC5\",\"#B0BEC5\",\"#B0BEC5\",\"#B0BEC5\",\"#B0BEC5\",\"#B0BEC5\",\"#B0BEC5\",\"#B0BEC5\",\"#B0BEC5\",\"#B0BEC5\",\"#B0BEC5\",\"#B0BEC5\"]]}],\"label\":\"Topic 12\",\"method\":\"update\"},{\"args\":[{\"marker.color\":[[\"#B0BEC5\",\"#B0BEC5\",\"#B0BEC5\",\"#B0BEC5\",\"#B0BEC5\",\"#B0BEC5\",\"#B0BEC5\",\"#B0BEC5\",\"#B0BEC5\",\"#B0BEC5\",\"#B0BEC5\",\"#B0BEC5\",\"#B0BEC5\",\"red\",\"#B0BEC5\",\"#B0BEC5\",\"#B0BEC5\",\"#B0BEC5\",\"#B0BEC5\",\"#B0BEC5\",\"#B0BEC5\",\"#B0BEC5\",\"#B0BEC5\",\"#B0BEC5\",\"#B0BEC5\",\"#B0BEC5\",\"#B0BEC5\",\"#B0BEC5\",\"#B0BEC5\",\"#B0BEC5\",\"#B0BEC5\",\"#B0BEC5\",\"#B0BEC5\",\"#B0BEC5\",\"#B0BEC5\",\"#B0BEC5\",\"#B0BEC5\"]]}],\"label\":\"Topic 13\",\"method\":\"update\"},{\"args\":[{\"marker.color\":[[\"#B0BEC5\",\"#B0BEC5\",\"#B0BEC5\",\"#B0BEC5\",\"#B0BEC5\",\"#B0BEC5\",\"#B0BEC5\",\"#B0BEC5\",\"#B0BEC5\",\"#B0BEC5\",\"#B0BEC5\",\"#B0BEC5\",\"#B0BEC5\",\"#B0BEC5\",\"red\",\"#B0BEC5\",\"#B0BEC5\",\"#B0BEC5\",\"#B0BEC5\",\"#B0BEC5\",\"#B0BEC5\",\"#B0BEC5\",\"#B0BEC5\",\"#B0BEC5\",\"#B0BEC5\",\"#B0BEC5\",\"#B0BEC5\",\"#B0BEC5\",\"#B0BEC5\",\"#B0BEC5\",\"#B0BEC5\",\"#B0BEC5\",\"#B0BEC5\",\"#B0BEC5\",\"#B0BEC5\",\"#B0BEC5\",\"#B0BEC5\"]]}],\"label\":\"Topic 14\",\"method\":\"update\"},{\"args\":[{\"marker.color\":[[\"#B0BEC5\",\"#B0BEC5\",\"#B0BEC5\",\"#B0BEC5\",\"#B0BEC5\",\"#B0BEC5\",\"#B0BEC5\",\"#B0BEC5\",\"#B0BEC5\",\"#B0BEC5\",\"#B0BEC5\",\"#B0BEC5\",\"#B0BEC5\",\"#B0BEC5\",\"#B0BEC5\",\"red\",\"#B0BEC5\",\"#B0BEC5\",\"#B0BEC5\",\"#B0BEC5\",\"#B0BEC5\",\"#B0BEC5\",\"#B0BEC5\",\"#B0BEC5\",\"#B0BEC5\",\"#B0BEC5\",\"#B0BEC5\",\"#B0BEC5\",\"#B0BEC5\",\"#B0BEC5\",\"#B0BEC5\",\"#B0BEC5\",\"#B0BEC5\",\"#B0BEC5\",\"#B0BEC5\",\"#B0BEC5\",\"#B0BEC5\"]]}],\"label\":\"Topic 15\",\"method\":\"update\"},{\"args\":[{\"marker.color\":[[\"#B0BEC5\",\"#B0BEC5\",\"#B0BEC5\",\"#B0BEC5\",\"#B0BEC5\",\"#B0BEC5\",\"#B0BEC5\",\"#B0BEC5\",\"#B0BEC5\",\"#B0BEC5\",\"#B0BEC5\",\"#B0BEC5\",\"#B0BEC5\",\"#B0BEC5\",\"#B0BEC5\",\"#B0BEC5\",\"red\",\"#B0BEC5\",\"#B0BEC5\",\"#B0BEC5\",\"#B0BEC5\",\"#B0BEC5\",\"#B0BEC5\",\"#B0BEC5\",\"#B0BEC5\",\"#B0BEC5\",\"#B0BEC5\",\"#B0BEC5\",\"#B0BEC5\",\"#B0BEC5\",\"#B0BEC5\",\"#B0BEC5\",\"#B0BEC5\",\"#B0BEC5\",\"#B0BEC5\",\"#B0BEC5\",\"#B0BEC5\"]]}],\"label\":\"Topic 16\",\"method\":\"update\"},{\"args\":[{\"marker.color\":[[\"#B0BEC5\",\"#B0BEC5\",\"#B0BEC5\",\"#B0BEC5\",\"#B0BEC5\",\"#B0BEC5\",\"#B0BEC5\",\"#B0BEC5\",\"#B0BEC5\",\"#B0BEC5\",\"#B0BEC5\",\"#B0BEC5\",\"#B0BEC5\",\"#B0BEC5\",\"#B0BEC5\",\"#B0BEC5\",\"#B0BEC5\",\"red\",\"#B0BEC5\",\"#B0BEC5\",\"#B0BEC5\",\"#B0BEC5\",\"#B0BEC5\",\"#B0BEC5\",\"#B0BEC5\",\"#B0BEC5\",\"#B0BEC5\",\"#B0BEC5\",\"#B0BEC5\",\"#B0BEC5\",\"#B0BEC5\",\"#B0BEC5\",\"#B0BEC5\",\"#B0BEC5\",\"#B0BEC5\",\"#B0BEC5\",\"#B0BEC5\"]]}],\"label\":\"Topic 17\",\"method\":\"update\"},{\"args\":[{\"marker.color\":[[\"#B0BEC5\",\"#B0BEC5\",\"#B0BEC5\",\"#B0BEC5\",\"#B0BEC5\",\"#B0BEC5\",\"#B0BEC5\",\"#B0BEC5\",\"#B0BEC5\",\"#B0BEC5\",\"#B0BEC5\",\"#B0BEC5\",\"#B0BEC5\",\"#B0BEC5\",\"#B0BEC5\",\"#B0BEC5\",\"#B0BEC5\",\"#B0BEC5\",\"red\",\"#B0BEC5\",\"#B0BEC5\",\"#B0BEC5\",\"#B0BEC5\",\"#B0BEC5\",\"#B0BEC5\",\"#B0BEC5\",\"#B0BEC5\",\"#B0BEC5\",\"#B0BEC5\",\"#B0BEC5\",\"#B0BEC5\",\"#B0BEC5\",\"#B0BEC5\",\"#B0BEC5\",\"#B0BEC5\",\"#B0BEC5\",\"#B0BEC5\"]]}],\"label\":\"Topic 18\",\"method\":\"update\"},{\"args\":[{\"marker.color\":[[\"#B0BEC5\",\"#B0BEC5\",\"#B0BEC5\",\"#B0BEC5\",\"#B0BEC5\",\"#B0BEC5\",\"#B0BEC5\",\"#B0BEC5\",\"#B0BEC5\",\"#B0BEC5\",\"#B0BEC5\",\"#B0BEC5\",\"#B0BEC5\",\"#B0BEC5\",\"#B0BEC5\",\"#B0BEC5\",\"#B0BEC5\",\"#B0BEC5\",\"#B0BEC5\",\"red\",\"#B0BEC5\",\"#B0BEC5\",\"#B0BEC5\",\"#B0BEC5\",\"#B0BEC5\",\"#B0BEC5\",\"#B0BEC5\",\"#B0BEC5\",\"#B0BEC5\",\"#B0BEC5\",\"#B0BEC5\",\"#B0BEC5\",\"#B0BEC5\",\"#B0BEC5\",\"#B0BEC5\",\"#B0BEC5\",\"#B0BEC5\"]]}],\"label\":\"Topic 19\",\"method\":\"update\"},{\"args\":[{\"marker.color\":[[\"#B0BEC5\",\"#B0BEC5\",\"#B0BEC5\",\"#B0BEC5\",\"#B0BEC5\",\"#B0BEC5\",\"#B0BEC5\",\"#B0BEC5\",\"#B0BEC5\",\"#B0BEC5\",\"#B0BEC5\",\"#B0BEC5\",\"#B0BEC5\",\"#B0BEC5\",\"#B0BEC5\",\"#B0BEC5\",\"#B0BEC5\",\"#B0BEC5\",\"#B0BEC5\",\"#B0BEC5\",\"red\",\"#B0BEC5\",\"#B0BEC5\",\"#B0BEC5\",\"#B0BEC5\",\"#B0BEC5\",\"#B0BEC5\",\"#B0BEC5\",\"#B0BEC5\",\"#B0BEC5\",\"#B0BEC5\",\"#B0BEC5\",\"#B0BEC5\",\"#B0BEC5\",\"#B0BEC5\",\"#B0BEC5\",\"#B0BEC5\"]]}],\"label\":\"Topic 20\",\"method\":\"update\"},{\"args\":[{\"marker.color\":[[\"#B0BEC5\",\"#B0BEC5\",\"#B0BEC5\",\"#B0BEC5\",\"#B0BEC5\",\"#B0BEC5\",\"#B0BEC5\",\"#B0BEC5\",\"#B0BEC5\",\"#B0BEC5\",\"#B0BEC5\",\"#B0BEC5\",\"#B0BEC5\",\"#B0BEC5\",\"#B0BEC5\",\"#B0BEC5\",\"#B0BEC5\",\"#B0BEC5\",\"#B0BEC5\",\"#B0BEC5\",\"#B0BEC5\",\"red\",\"#B0BEC5\",\"#B0BEC5\",\"#B0BEC5\",\"#B0BEC5\",\"#B0BEC5\",\"#B0BEC5\",\"#B0BEC5\",\"#B0BEC5\",\"#B0BEC5\",\"#B0BEC5\",\"#B0BEC5\",\"#B0BEC5\",\"#B0BEC5\",\"#B0BEC5\",\"#B0BEC5\"]]}],\"label\":\"Topic 21\",\"method\":\"update\"},{\"args\":[{\"marker.color\":[[\"#B0BEC5\",\"#B0BEC5\",\"#B0BEC5\",\"#B0BEC5\",\"#B0BEC5\",\"#B0BEC5\",\"#B0BEC5\",\"#B0BEC5\",\"#B0BEC5\",\"#B0BEC5\",\"#B0BEC5\",\"#B0BEC5\",\"#B0BEC5\",\"#B0BEC5\",\"#B0BEC5\",\"#B0BEC5\",\"#B0BEC5\",\"#B0BEC5\",\"#B0BEC5\",\"#B0BEC5\",\"#B0BEC5\",\"#B0BEC5\",\"red\",\"#B0BEC5\",\"#B0BEC5\",\"#B0BEC5\",\"#B0BEC5\",\"#B0BEC5\",\"#B0BEC5\",\"#B0BEC5\",\"#B0BEC5\",\"#B0BEC5\",\"#B0BEC5\",\"#B0BEC5\",\"#B0BEC5\",\"#B0BEC5\",\"#B0BEC5\"]]}],\"label\":\"Topic 22\",\"method\":\"update\"},{\"args\":[{\"marker.color\":[[\"#B0BEC5\",\"#B0BEC5\",\"#B0BEC5\",\"#B0BEC5\",\"#B0BEC5\",\"#B0BEC5\",\"#B0BEC5\",\"#B0BEC5\",\"#B0BEC5\",\"#B0BEC5\",\"#B0BEC5\",\"#B0BEC5\",\"#B0BEC5\",\"#B0BEC5\",\"#B0BEC5\",\"#B0BEC5\",\"#B0BEC5\",\"#B0BEC5\",\"#B0BEC5\",\"#B0BEC5\",\"#B0BEC5\",\"#B0BEC5\",\"#B0BEC5\",\"red\",\"#B0BEC5\",\"#B0BEC5\",\"#B0BEC5\",\"#B0BEC5\",\"#B0BEC5\",\"#B0BEC5\",\"#B0BEC5\",\"#B0BEC5\",\"#B0BEC5\",\"#B0BEC5\",\"#B0BEC5\",\"#B0BEC5\",\"#B0BEC5\"]]}],\"label\":\"Topic 23\",\"method\":\"update\"},{\"args\":[{\"marker.color\":[[\"#B0BEC5\",\"#B0BEC5\",\"#B0BEC5\",\"#B0BEC5\",\"#B0BEC5\",\"#B0BEC5\",\"#B0BEC5\",\"#B0BEC5\",\"#B0BEC5\",\"#B0BEC5\",\"#B0BEC5\",\"#B0BEC5\",\"#B0BEC5\",\"#B0BEC5\",\"#B0BEC5\",\"#B0BEC5\",\"#B0BEC5\",\"#B0BEC5\",\"#B0BEC5\",\"#B0BEC5\",\"#B0BEC5\",\"#B0BEC5\",\"#B0BEC5\",\"#B0BEC5\",\"red\",\"#B0BEC5\",\"#B0BEC5\",\"#B0BEC5\",\"#B0BEC5\",\"#B0BEC5\",\"#B0BEC5\",\"#B0BEC5\",\"#B0BEC5\",\"#B0BEC5\",\"#B0BEC5\",\"#B0BEC5\",\"#B0BEC5\"]]}],\"label\":\"Topic 24\",\"method\":\"update\"},{\"args\":[{\"marker.color\":[[\"#B0BEC5\",\"#B0BEC5\",\"#B0BEC5\",\"#B0BEC5\",\"#B0BEC5\",\"#B0BEC5\",\"#B0BEC5\",\"#B0BEC5\",\"#B0BEC5\",\"#B0BEC5\",\"#B0BEC5\",\"#B0BEC5\",\"#B0BEC5\",\"#B0BEC5\",\"#B0BEC5\",\"#B0BEC5\",\"#B0BEC5\",\"#B0BEC5\",\"#B0BEC5\",\"#B0BEC5\",\"#B0BEC5\",\"#B0BEC5\",\"#B0BEC5\",\"#B0BEC5\",\"#B0BEC5\",\"red\",\"#B0BEC5\",\"#B0BEC5\",\"#B0BEC5\",\"#B0BEC5\",\"#B0BEC5\",\"#B0BEC5\",\"#B0BEC5\",\"#B0BEC5\",\"#B0BEC5\",\"#B0BEC5\",\"#B0BEC5\"]]}],\"label\":\"Topic 25\",\"method\":\"update\"},{\"args\":[{\"marker.color\":[[\"#B0BEC5\",\"#B0BEC5\",\"#B0BEC5\",\"#B0BEC5\",\"#B0BEC5\",\"#B0BEC5\",\"#B0BEC5\",\"#B0BEC5\",\"#B0BEC5\",\"#B0BEC5\",\"#B0BEC5\",\"#B0BEC5\",\"#B0BEC5\",\"#B0BEC5\",\"#B0BEC5\",\"#B0BEC5\",\"#B0BEC5\",\"#B0BEC5\",\"#B0BEC5\",\"#B0BEC5\",\"#B0BEC5\",\"#B0BEC5\",\"#B0BEC5\",\"#B0BEC5\",\"#B0BEC5\",\"#B0BEC5\",\"red\",\"#B0BEC5\",\"#B0BEC5\",\"#B0BEC5\",\"#B0BEC5\",\"#B0BEC5\",\"#B0BEC5\",\"#B0BEC5\",\"#B0BEC5\",\"#B0BEC5\",\"#B0BEC5\"]]}],\"label\":\"Topic 26\",\"method\":\"update\"},{\"args\":[{\"marker.color\":[[\"#B0BEC5\",\"#B0BEC5\",\"#B0BEC5\",\"#B0BEC5\",\"#B0BEC5\",\"#B0BEC5\",\"#B0BEC5\",\"#B0BEC5\",\"#B0BEC5\",\"#B0BEC5\",\"#B0BEC5\",\"#B0BEC5\",\"#B0BEC5\",\"#B0BEC5\",\"#B0BEC5\",\"#B0BEC5\",\"#B0BEC5\",\"#B0BEC5\",\"#B0BEC5\",\"#B0BEC5\",\"#B0BEC5\",\"#B0BEC5\",\"#B0BEC5\",\"#B0BEC5\",\"#B0BEC5\",\"#B0BEC5\",\"#B0BEC5\",\"red\",\"#B0BEC5\",\"#B0BEC5\",\"#B0BEC5\",\"#B0BEC5\",\"#B0BEC5\",\"#B0BEC5\",\"#B0BEC5\",\"#B0BEC5\",\"#B0BEC5\"]]}],\"label\":\"Topic 27\",\"method\":\"update\"},{\"args\":[{\"marker.color\":[[\"#B0BEC5\",\"#B0BEC5\",\"#B0BEC5\",\"#B0BEC5\",\"#B0BEC5\",\"#B0BEC5\",\"#B0BEC5\",\"#B0BEC5\",\"#B0BEC5\",\"#B0BEC5\",\"#B0BEC5\",\"#B0BEC5\",\"#B0BEC5\",\"#B0BEC5\",\"#B0BEC5\",\"#B0BEC5\",\"#B0BEC5\",\"#B0BEC5\",\"#B0BEC5\",\"#B0BEC5\",\"#B0BEC5\",\"#B0BEC5\",\"#B0BEC5\",\"#B0BEC5\",\"#B0BEC5\",\"#B0BEC5\",\"#B0BEC5\",\"#B0BEC5\",\"red\",\"#B0BEC5\",\"#B0BEC5\",\"#B0BEC5\",\"#B0BEC5\",\"#B0BEC5\",\"#B0BEC5\",\"#B0BEC5\",\"#B0BEC5\"]]}],\"label\":\"Topic 28\",\"method\":\"update\"},{\"args\":[{\"marker.color\":[[\"#B0BEC5\",\"#B0BEC5\",\"#B0BEC5\",\"#B0BEC5\",\"#B0BEC5\",\"#B0BEC5\",\"#B0BEC5\",\"#B0BEC5\",\"#B0BEC5\",\"#B0BEC5\",\"#B0BEC5\",\"#B0BEC5\",\"#B0BEC5\",\"#B0BEC5\",\"#B0BEC5\",\"#B0BEC5\",\"#B0BEC5\",\"#B0BEC5\",\"#B0BEC5\",\"#B0BEC5\",\"#B0BEC5\",\"#B0BEC5\",\"#B0BEC5\",\"#B0BEC5\",\"#B0BEC5\",\"#B0BEC5\",\"#B0BEC5\",\"#B0BEC5\",\"#B0BEC5\",\"red\",\"#B0BEC5\",\"#B0BEC5\",\"#B0BEC5\",\"#B0BEC5\",\"#B0BEC5\",\"#B0BEC5\",\"#B0BEC5\"]]}],\"label\":\"Topic 29\",\"method\":\"update\"},{\"args\":[{\"marker.color\":[[\"#B0BEC5\",\"#B0BEC5\",\"#B0BEC5\",\"#B0BEC5\",\"#B0BEC5\",\"#B0BEC5\",\"#B0BEC5\",\"#B0BEC5\",\"#B0BEC5\",\"#B0BEC5\",\"#B0BEC5\",\"#B0BEC5\",\"#B0BEC5\",\"#B0BEC5\",\"#B0BEC5\",\"#B0BEC5\",\"#B0BEC5\",\"#B0BEC5\",\"#B0BEC5\",\"#B0BEC5\",\"#B0BEC5\",\"#B0BEC5\",\"#B0BEC5\",\"#B0BEC5\",\"#B0BEC5\",\"#B0BEC5\",\"#B0BEC5\",\"#B0BEC5\",\"#B0BEC5\",\"#B0BEC5\",\"red\",\"#B0BEC5\",\"#B0BEC5\",\"#B0BEC5\",\"#B0BEC5\",\"#B0BEC5\",\"#B0BEC5\"]]}],\"label\":\"Topic 30\",\"method\":\"update\"},{\"args\":[{\"marker.color\":[[\"#B0BEC5\",\"#B0BEC5\",\"#B0BEC5\",\"#B0BEC5\",\"#B0BEC5\",\"#B0BEC5\",\"#B0BEC5\",\"#B0BEC5\",\"#B0BEC5\",\"#B0BEC5\",\"#B0BEC5\",\"#B0BEC5\",\"#B0BEC5\",\"#B0BEC5\",\"#B0BEC5\",\"#B0BEC5\",\"#B0BEC5\",\"#B0BEC5\",\"#B0BEC5\",\"#B0BEC5\",\"#B0BEC5\",\"#B0BEC5\",\"#B0BEC5\",\"#B0BEC5\",\"#B0BEC5\",\"#B0BEC5\",\"#B0BEC5\",\"#B0BEC5\",\"#B0BEC5\",\"#B0BEC5\",\"#B0BEC5\",\"red\",\"#B0BEC5\",\"#B0BEC5\",\"#B0BEC5\",\"#B0BEC5\",\"#B0BEC5\"]]}],\"label\":\"Topic 31\",\"method\":\"update\"},{\"args\":[{\"marker.color\":[[\"#B0BEC5\",\"#B0BEC5\",\"#B0BEC5\",\"#B0BEC5\",\"#B0BEC5\",\"#B0BEC5\",\"#B0BEC5\",\"#B0BEC5\",\"#B0BEC5\",\"#B0BEC5\",\"#B0BEC5\",\"#B0BEC5\",\"#B0BEC5\",\"#B0BEC5\",\"#B0BEC5\",\"#B0BEC5\",\"#B0BEC5\",\"#B0BEC5\",\"#B0BEC5\",\"#B0BEC5\",\"#B0BEC5\",\"#B0BEC5\",\"#B0BEC5\",\"#B0BEC5\",\"#B0BEC5\",\"#B0BEC5\",\"#B0BEC5\",\"#B0BEC5\",\"#B0BEC5\",\"#B0BEC5\",\"#B0BEC5\",\"#B0BEC5\",\"red\",\"#B0BEC5\",\"#B0BEC5\",\"#B0BEC5\",\"#B0BEC5\"]]}],\"label\":\"Topic 32\",\"method\":\"update\"},{\"args\":[{\"marker.color\":[[\"#B0BEC5\",\"#B0BEC5\",\"#B0BEC5\",\"#B0BEC5\",\"#B0BEC5\",\"#B0BEC5\",\"#B0BEC5\",\"#B0BEC5\",\"#B0BEC5\",\"#B0BEC5\",\"#B0BEC5\",\"#B0BEC5\",\"#B0BEC5\",\"#B0BEC5\",\"#B0BEC5\",\"#B0BEC5\",\"#B0BEC5\",\"#B0BEC5\",\"#B0BEC5\",\"#B0BEC5\",\"#B0BEC5\",\"#B0BEC5\",\"#B0BEC5\",\"#B0BEC5\",\"#B0BEC5\",\"#B0BEC5\",\"#B0BEC5\",\"#B0BEC5\",\"#B0BEC5\",\"#B0BEC5\",\"#B0BEC5\",\"#B0BEC5\",\"#B0BEC5\",\"red\",\"#B0BEC5\",\"#B0BEC5\",\"#B0BEC5\"]]}],\"label\":\"Topic 33\",\"method\":\"update\"},{\"args\":[{\"marker.color\":[[\"#B0BEC5\",\"#B0BEC5\",\"#B0BEC5\",\"#B0BEC5\",\"#B0BEC5\",\"#B0BEC5\",\"#B0BEC5\",\"#B0BEC5\",\"#B0BEC5\",\"#B0BEC5\",\"#B0BEC5\",\"#B0BEC5\",\"#B0BEC5\",\"#B0BEC5\",\"#B0BEC5\",\"#B0BEC5\",\"#B0BEC5\",\"#B0BEC5\",\"#B0BEC5\",\"#B0BEC5\",\"#B0BEC5\",\"#B0BEC5\",\"#B0BEC5\",\"#B0BEC5\",\"#B0BEC5\",\"#B0BEC5\",\"#B0BEC5\",\"#B0BEC5\",\"#B0BEC5\",\"#B0BEC5\",\"#B0BEC5\",\"#B0BEC5\",\"#B0BEC5\",\"#B0BEC5\",\"red\",\"#B0BEC5\",\"#B0BEC5\"]]}],\"label\":\"Topic 34\",\"method\":\"update\"},{\"args\":[{\"marker.color\":[[\"#B0BEC5\",\"#B0BEC5\",\"#B0BEC5\",\"#B0BEC5\",\"#B0BEC5\",\"#B0BEC5\",\"#B0BEC5\",\"#B0BEC5\",\"#B0BEC5\",\"#B0BEC5\",\"#B0BEC5\",\"#B0BEC5\",\"#B0BEC5\",\"#B0BEC5\",\"#B0BEC5\",\"#B0BEC5\",\"#B0BEC5\",\"#B0BEC5\",\"#B0BEC5\",\"#B0BEC5\",\"#B0BEC5\",\"#B0BEC5\",\"#B0BEC5\",\"#B0BEC5\",\"#B0BEC5\",\"#B0BEC5\",\"#B0BEC5\",\"#B0BEC5\",\"#B0BEC5\",\"#B0BEC5\",\"#B0BEC5\",\"#B0BEC5\",\"#B0BEC5\",\"#B0BEC5\",\"#B0BEC5\",\"red\",\"#B0BEC5\"]]}],\"label\":\"Topic 35\",\"method\":\"update\"},{\"args\":[{\"marker.color\":[[\"#B0BEC5\",\"#B0BEC5\",\"#B0BEC5\",\"#B0BEC5\",\"#B0BEC5\",\"#B0BEC5\",\"#B0BEC5\",\"#B0BEC5\",\"#B0BEC5\",\"#B0BEC5\",\"#B0BEC5\",\"#B0BEC5\",\"#B0BEC5\",\"#B0BEC5\",\"#B0BEC5\",\"#B0BEC5\",\"#B0BEC5\",\"#B0BEC5\",\"#B0BEC5\",\"#B0BEC5\",\"#B0BEC5\",\"#B0BEC5\",\"#B0BEC5\",\"#B0BEC5\",\"#B0BEC5\",\"#B0BEC5\",\"#B0BEC5\",\"#B0BEC5\",\"#B0BEC5\",\"#B0BEC5\",\"#B0BEC5\",\"#B0BEC5\",\"#B0BEC5\",\"#B0BEC5\",\"#B0BEC5\",\"#B0BEC5\",\"red\"]]}],\"label\":\"Topic 36\",\"method\":\"update\"}]}],\"shapes\":[{\"line\":{\"color\":\"#CFD8DC\",\"width\":2},\"type\":\"line\",\"x0\":5.816935348510743,\"x1\":5.816935348510743,\"y0\":-2.9063403010368347,\"y1\":13.138833570480347},{\"line\":{\"color\":\"#9E9E9E\",\"width\":2},\"type\":\"line\",\"x0\":-12.396614742279052,\"x1\":24.030485439300538,\"y0\":5.116246634721756,\"y1\":5.116246634721756}],\"annotations\":[{\"showarrow\":false,\"text\":\"D1\",\"x\":-12.396614742279052,\"y\":5.116246634721756,\"yshift\":10},{\"showarrow\":false,\"text\":\"D2\",\"x\":5.816935348510743,\"xshift\":10,\"y\":13.138833570480347}]},                        {\"responsive\": true}                    ).then(function(){\n",
       "                            \n",
       "var gd = document.getElementById('ffff45dd-e1ac-41bd-a092-bc8593cf9d49');\n",
       "var x = new MutationObserver(function (mutations, observer) {{\n",
       "        var display = window.getComputedStyle(gd).display;\n",
       "        if (!display || display === 'none') {{\n",
       "            console.log([gd, 'removed!']);\n",
       "            Plotly.purge(gd);\n",
       "            observer.disconnect();\n",
       "        }}\n",
       "}});\n",
       "\n",
       "// Listen for the removal of the full notebook cells\n",
       "var notebookContainer = gd.closest('#notebook-container');\n",
       "if (notebookContainer) {{\n",
       "    x.observe(notebookContainer, {childList: true});\n",
       "}}\n",
       "\n",
       "// Listen for the clearing of the current output cell\n",
       "var outputEl = gd.closest('.output');\n",
       "if (outputEl) {{\n",
       "    x.observe(outputEl, {childList: true});\n",
       "}}\n",
       "\n",
       "                        })                };                });            </script>        </div>"
      ]
     },
     "metadata": {},
     "output_type": "display_data"
    }
   ],
   "source": [
    "thing"
   ]
  },
  {
   "cell_type": "code",
   "execution_count": 43,
   "id": "c0aeeae1",
   "metadata": {},
   "outputs": [
    {
     "name": "stdout",
     "output_type": "stream",
     "text": [
      "First heard going really sad breakup song still destroys\n",
      "Was going rough breakup hit right hurt\n",
      "At time I crawling close relationship needed end A friend gave record gift loved much wanted share When hit part wails I leaving I lost It captured emotion struggle heart forcefully It took another months us split The song still gets\n",
      "I know everyones cup tea lyrics spoke personally Just mirrored everything I feeling last year life I lost shit It still makes want break I stop listening\n",
      "Probably help I got dumped previous day\n"
     ]
    }
   ],
   "source": [
    "for i in idx[:5].tolist():\n",
    "    print(comments[i[0]])"
   ]
  },
  {
   "cell_type": "code",
   "execution_count": 22,
   "id": "ed9e29db",
   "metadata": {},
   "outputs": [
    {
     "data": {
      "application/vnd.plotly.v1+json": {
       "config": {
        "plotlyServerURL": "https://plot.ly"
       },
       "data": [
        {
         "marker": {
          "color": "#C8D2D7",
          "line": {
           "color": "#6E8484",
           "width": 1
          }
         },
         "orientation": "h",
         "type": "bar",
         "x": [
          0.029323237201952165,
          0.022427940877316595,
          0.01706793974939518,
          0.029032356618555785,
          0.015217012465966732,
          0.05006093982781552,
          0.01838084005719446,
          0.40434550790273266,
          0.02038113006716565
         ],
         "y": [
          "<b>Topic 1</b>: breakup_relationship_bro...",
          "<b>Topic 7</b>: feels_first_time_right_l...",
          "<b>Topic 16</b>: sadness_heart_coming_kn...",
          "<b>Topic 19</b>: home_hit_close_hits_rea...",
          "<b>Topic 27</b>: addiction_drug_drugs_lo...",
          "<b>Topic 28</b>: every_single_roots_time...",
          "<b>Topic 29</b>: story_sad_song_tells_wh...",
          "<b>Topic 32</b>: gut_punch_punched_two_w...",
          "<b>Topic 36</b>: rough_phrase_moved_patc..."
         ]
        }
       ],
       "layout": {
        "height": 600,
        "hoverlabel": {
         "bgcolor": "white",
         "font": {
          "family": "Rockwell",
          "size": 16
         }
        },
        "template": {
         "data": {
          "bar": [
           {
            "error_x": {
             "color": "rgb(36,36,36)"
            },
            "error_y": {
             "color": "rgb(36,36,36)"
            },
            "marker": {
             "line": {
              "color": "white",
              "width": 0.5
             },
             "pattern": {
              "fillmode": "overlay",
              "size": 10,
              "solidity": 0.2
             }
            },
            "type": "bar"
           }
          ],
          "barpolar": [
           {
            "marker": {
             "line": {
              "color": "white",
              "width": 0.5
             },
             "pattern": {
              "fillmode": "overlay",
              "size": 10,
              "solidity": 0.2
             }
            },
            "type": "barpolar"
           }
          ],
          "carpet": [
           {
            "aaxis": {
             "endlinecolor": "rgb(36,36,36)",
             "gridcolor": "white",
             "linecolor": "white",
             "minorgridcolor": "white",
             "startlinecolor": "rgb(36,36,36)"
            },
            "baxis": {
             "endlinecolor": "rgb(36,36,36)",
             "gridcolor": "white",
             "linecolor": "white",
             "minorgridcolor": "white",
             "startlinecolor": "rgb(36,36,36)"
            },
            "type": "carpet"
           }
          ],
          "choropleth": [
           {
            "colorbar": {
             "outlinewidth": 1,
             "tickcolor": "rgb(36,36,36)",
             "ticks": "outside"
            },
            "type": "choropleth"
           }
          ],
          "contour": [
           {
            "colorbar": {
             "outlinewidth": 1,
             "tickcolor": "rgb(36,36,36)",
             "ticks": "outside"
            },
            "colorscale": [
             [
              0,
              "#440154"
             ],
             [
              0.1111111111111111,
              "#482878"
             ],
             [
              0.2222222222222222,
              "#3e4989"
             ],
             [
              0.3333333333333333,
              "#31688e"
             ],
             [
              0.4444444444444444,
              "#26828e"
             ],
             [
              0.5555555555555556,
              "#1f9e89"
             ],
             [
              0.6666666666666666,
              "#35b779"
             ],
             [
              0.7777777777777778,
              "#6ece58"
             ],
             [
              0.8888888888888888,
              "#b5de2b"
             ],
             [
              1,
              "#fde725"
             ]
            ],
            "type": "contour"
           }
          ],
          "contourcarpet": [
           {
            "colorbar": {
             "outlinewidth": 1,
             "tickcolor": "rgb(36,36,36)",
             "ticks": "outside"
            },
            "type": "contourcarpet"
           }
          ],
          "heatmap": [
           {
            "colorbar": {
             "outlinewidth": 1,
             "tickcolor": "rgb(36,36,36)",
             "ticks": "outside"
            },
            "colorscale": [
             [
              0,
              "#440154"
             ],
             [
              0.1111111111111111,
              "#482878"
             ],
             [
              0.2222222222222222,
              "#3e4989"
             ],
             [
              0.3333333333333333,
              "#31688e"
             ],
             [
              0.4444444444444444,
              "#26828e"
             ],
             [
              0.5555555555555556,
              "#1f9e89"
             ],
             [
              0.6666666666666666,
              "#35b779"
             ],
             [
              0.7777777777777778,
              "#6ece58"
             ],
             [
              0.8888888888888888,
              "#b5de2b"
             ],
             [
              1,
              "#fde725"
             ]
            ],
            "type": "heatmap"
           }
          ],
          "heatmapgl": [
           {
            "colorbar": {
             "outlinewidth": 1,
             "tickcolor": "rgb(36,36,36)",
             "ticks": "outside"
            },
            "colorscale": [
             [
              0,
              "#440154"
             ],
             [
              0.1111111111111111,
              "#482878"
             ],
             [
              0.2222222222222222,
              "#3e4989"
             ],
             [
              0.3333333333333333,
              "#31688e"
             ],
             [
              0.4444444444444444,
              "#26828e"
             ],
             [
              0.5555555555555556,
              "#1f9e89"
             ],
             [
              0.6666666666666666,
              "#35b779"
             ],
             [
              0.7777777777777778,
              "#6ece58"
             ],
             [
              0.8888888888888888,
              "#b5de2b"
             ],
             [
              1,
              "#fde725"
             ]
            ],
            "type": "heatmapgl"
           }
          ],
          "histogram": [
           {
            "marker": {
             "line": {
              "color": "white",
              "width": 0.6
             }
            },
            "type": "histogram"
           }
          ],
          "histogram2d": [
           {
            "colorbar": {
             "outlinewidth": 1,
             "tickcolor": "rgb(36,36,36)",
             "ticks": "outside"
            },
            "colorscale": [
             [
              0,
              "#440154"
             ],
             [
              0.1111111111111111,
              "#482878"
             ],
             [
              0.2222222222222222,
              "#3e4989"
             ],
             [
              0.3333333333333333,
              "#31688e"
             ],
             [
              0.4444444444444444,
              "#26828e"
             ],
             [
              0.5555555555555556,
              "#1f9e89"
             ],
             [
              0.6666666666666666,
              "#35b779"
             ],
             [
              0.7777777777777778,
              "#6ece58"
             ],
             [
              0.8888888888888888,
              "#b5de2b"
             ],
             [
              1,
              "#fde725"
             ]
            ],
            "type": "histogram2d"
           }
          ],
          "histogram2dcontour": [
           {
            "colorbar": {
             "outlinewidth": 1,
             "tickcolor": "rgb(36,36,36)",
             "ticks": "outside"
            },
            "colorscale": [
             [
              0,
              "#440154"
             ],
             [
              0.1111111111111111,
              "#482878"
             ],
             [
              0.2222222222222222,
              "#3e4989"
             ],
             [
              0.3333333333333333,
              "#31688e"
             ],
             [
              0.4444444444444444,
              "#26828e"
             ],
             [
              0.5555555555555556,
              "#1f9e89"
             ],
             [
              0.6666666666666666,
              "#35b779"
             ],
             [
              0.7777777777777778,
              "#6ece58"
             ],
             [
              0.8888888888888888,
              "#b5de2b"
             ],
             [
              1,
              "#fde725"
             ]
            ],
            "type": "histogram2dcontour"
           }
          ],
          "mesh3d": [
           {
            "colorbar": {
             "outlinewidth": 1,
             "tickcolor": "rgb(36,36,36)",
             "ticks": "outside"
            },
            "type": "mesh3d"
           }
          ],
          "parcoords": [
           {
            "line": {
             "colorbar": {
              "outlinewidth": 1,
              "tickcolor": "rgb(36,36,36)",
              "ticks": "outside"
             }
            },
            "type": "parcoords"
           }
          ],
          "pie": [
           {
            "automargin": true,
            "type": "pie"
           }
          ],
          "scatter": [
           {
            "fillpattern": {
             "fillmode": "overlay",
             "size": 10,
             "solidity": 0.2
            },
            "type": "scatter"
           }
          ],
          "scatter3d": [
           {
            "line": {
             "colorbar": {
              "outlinewidth": 1,
              "tickcolor": "rgb(36,36,36)",
              "ticks": "outside"
             }
            },
            "marker": {
             "colorbar": {
              "outlinewidth": 1,
              "tickcolor": "rgb(36,36,36)",
              "ticks": "outside"
             }
            },
            "type": "scatter3d"
           }
          ],
          "scattercarpet": [
           {
            "marker": {
             "colorbar": {
              "outlinewidth": 1,
              "tickcolor": "rgb(36,36,36)",
              "ticks": "outside"
             }
            },
            "type": "scattercarpet"
           }
          ],
          "scattergeo": [
           {
            "marker": {
             "colorbar": {
              "outlinewidth": 1,
              "tickcolor": "rgb(36,36,36)",
              "ticks": "outside"
             }
            },
            "type": "scattergeo"
           }
          ],
          "scattergl": [
           {
            "marker": {
             "colorbar": {
              "outlinewidth": 1,
              "tickcolor": "rgb(36,36,36)",
              "ticks": "outside"
             }
            },
            "type": "scattergl"
           }
          ],
          "scattermapbox": [
           {
            "marker": {
             "colorbar": {
              "outlinewidth": 1,
              "tickcolor": "rgb(36,36,36)",
              "ticks": "outside"
             }
            },
            "type": "scattermapbox"
           }
          ],
          "scatterpolar": [
           {
            "marker": {
             "colorbar": {
              "outlinewidth": 1,
              "tickcolor": "rgb(36,36,36)",
              "ticks": "outside"
             }
            },
            "type": "scatterpolar"
           }
          ],
          "scatterpolargl": [
           {
            "marker": {
             "colorbar": {
              "outlinewidth": 1,
              "tickcolor": "rgb(36,36,36)",
              "ticks": "outside"
             }
            },
            "type": "scatterpolargl"
           }
          ],
          "scatterternary": [
           {
            "marker": {
             "colorbar": {
              "outlinewidth": 1,
              "tickcolor": "rgb(36,36,36)",
              "ticks": "outside"
             }
            },
            "type": "scatterternary"
           }
          ],
          "surface": [
           {
            "colorbar": {
             "outlinewidth": 1,
             "tickcolor": "rgb(36,36,36)",
             "ticks": "outside"
            },
            "colorscale": [
             [
              0,
              "#440154"
             ],
             [
              0.1111111111111111,
              "#482878"
             ],
             [
              0.2222222222222222,
              "#3e4989"
             ],
             [
              0.3333333333333333,
              "#31688e"
             ],
             [
              0.4444444444444444,
              "#26828e"
             ],
             [
              0.5555555555555556,
              "#1f9e89"
             ],
             [
              0.6666666666666666,
              "#35b779"
             ],
             [
              0.7777777777777778,
              "#6ece58"
             ],
             [
              0.8888888888888888,
              "#b5de2b"
             ],
             [
              1,
              "#fde725"
             ]
            ],
            "type": "surface"
           }
          ],
          "table": [
           {
            "cells": {
             "fill": {
              "color": "rgb(237,237,237)"
             },
             "line": {
              "color": "white"
             }
            },
            "header": {
             "fill": {
              "color": "rgb(217,217,217)"
             },
             "line": {
              "color": "white"
             }
            },
            "type": "table"
           }
          ]
         },
         "layout": {
          "annotationdefaults": {
           "arrowhead": 0,
           "arrowwidth": 1
          },
          "autotypenumbers": "strict",
          "coloraxis": {
           "colorbar": {
            "outlinewidth": 1,
            "tickcolor": "rgb(36,36,36)",
            "ticks": "outside"
           }
          },
          "colorscale": {
           "diverging": [
            [
             0,
             "rgb(103,0,31)"
            ],
            [
             0.1,
             "rgb(178,24,43)"
            ],
            [
             0.2,
             "rgb(214,96,77)"
            ],
            [
             0.3,
             "rgb(244,165,130)"
            ],
            [
             0.4,
             "rgb(253,219,199)"
            ],
            [
             0.5,
             "rgb(247,247,247)"
            ],
            [
             0.6,
             "rgb(209,229,240)"
            ],
            [
             0.7,
             "rgb(146,197,222)"
            ],
            [
             0.8,
             "rgb(67,147,195)"
            ],
            [
             0.9,
             "rgb(33,102,172)"
            ],
            [
             1,
             "rgb(5,48,97)"
            ]
           ],
           "sequential": [
            [
             0,
             "#440154"
            ],
            [
             0.1111111111111111,
             "#482878"
            ],
            [
             0.2222222222222222,
             "#3e4989"
            ],
            [
             0.3333333333333333,
             "#31688e"
            ],
            [
             0.4444444444444444,
             "#26828e"
            ],
            [
             0.5555555555555556,
             "#1f9e89"
            ],
            [
             0.6666666666666666,
             "#35b779"
            ],
            [
             0.7777777777777778,
             "#6ece58"
            ],
            [
             0.8888888888888888,
             "#b5de2b"
            ],
            [
             1,
             "#fde725"
            ]
           ],
           "sequentialminus": [
            [
             0,
             "#440154"
            ],
            [
             0.1111111111111111,
             "#482878"
            ],
            [
             0.2222222222222222,
             "#3e4989"
            ],
            [
             0.3333333333333333,
             "#31688e"
            ],
            [
             0.4444444444444444,
             "#26828e"
            ],
            [
             0.5555555555555556,
             "#1f9e89"
            ],
            [
             0.6666666666666666,
             "#35b779"
            ],
            [
             0.7777777777777778,
             "#6ece58"
            ],
            [
             0.8888888888888888,
             "#b5de2b"
            ],
            [
             1,
             "#fde725"
            ]
           ]
          },
          "colorway": [
           "#1F77B4",
           "#FF7F0E",
           "#2CA02C",
           "#D62728",
           "#9467BD",
           "#8C564B",
           "#E377C2",
           "#7F7F7F",
           "#BCBD22",
           "#17BECF"
          ],
          "font": {
           "color": "rgb(36,36,36)"
          },
          "geo": {
           "bgcolor": "white",
           "lakecolor": "white",
           "landcolor": "white",
           "showlakes": true,
           "showland": true,
           "subunitcolor": "white"
          },
          "hoverlabel": {
           "align": "left"
          },
          "hovermode": "closest",
          "mapbox": {
           "style": "light"
          },
          "paper_bgcolor": "white",
          "plot_bgcolor": "white",
          "polar": {
           "angularaxis": {
            "gridcolor": "rgb(232,232,232)",
            "linecolor": "rgb(36,36,36)",
            "showgrid": false,
            "showline": true,
            "ticks": "outside"
           },
           "bgcolor": "white",
           "radialaxis": {
            "gridcolor": "rgb(232,232,232)",
            "linecolor": "rgb(36,36,36)",
            "showgrid": false,
            "showline": true,
            "ticks": "outside"
           }
          },
          "scene": {
           "xaxis": {
            "backgroundcolor": "white",
            "gridcolor": "rgb(232,232,232)",
            "gridwidth": 2,
            "linecolor": "rgb(36,36,36)",
            "showbackground": true,
            "showgrid": false,
            "showline": true,
            "ticks": "outside",
            "zeroline": false,
            "zerolinecolor": "rgb(36,36,36)"
           },
           "yaxis": {
            "backgroundcolor": "white",
            "gridcolor": "rgb(232,232,232)",
            "gridwidth": 2,
            "linecolor": "rgb(36,36,36)",
            "showbackground": true,
            "showgrid": false,
            "showline": true,
            "ticks": "outside",
            "zeroline": false,
            "zerolinecolor": "rgb(36,36,36)"
           },
           "zaxis": {
            "backgroundcolor": "white",
            "gridcolor": "rgb(232,232,232)",
            "gridwidth": 2,
            "linecolor": "rgb(36,36,36)",
            "showbackground": true,
            "showgrid": false,
            "showline": true,
            "ticks": "outside",
            "zeroline": false,
            "zerolinecolor": "rgb(36,36,36)"
           }
          },
          "shapedefaults": {
           "fillcolor": "black",
           "line": {
            "width": 0
           },
           "opacity": 0.3
          },
          "ternary": {
           "aaxis": {
            "gridcolor": "rgb(232,232,232)",
            "linecolor": "rgb(36,36,36)",
            "showgrid": false,
            "showline": true,
            "ticks": "outside"
           },
           "baxis": {
            "gridcolor": "rgb(232,232,232)",
            "linecolor": "rgb(36,36,36)",
            "showgrid": false,
            "showline": true,
            "ticks": "outside"
           },
           "bgcolor": "white",
           "caxis": {
            "gridcolor": "rgb(232,232,232)",
            "linecolor": "rgb(36,36,36)",
            "showgrid": false,
            "showline": true,
            "ticks": "outside"
           }
          },
          "title": {
           "x": 0.05
          },
          "xaxis": {
           "automargin": true,
           "gridcolor": "rgb(232,232,232)",
           "linecolor": "rgb(36,36,36)",
           "showgrid": false,
           "showline": true,
           "ticks": "outside",
           "title": {
            "standoff": 15
           },
           "zeroline": false,
           "zerolinecolor": "rgb(36,36,36)"
          },
          "yaxis": {
           "automargin": true,
           "gridcolor": "rgb(232,232,232)",
           "linecolor": "rgb(36,36,36)",
           "showgrid": false,
           "showline": true,
           "ticks": "outside",
           "title": {
            "standoff": 15
           },
           "zeroline": false,
           "zerolinecolor": "rgb(36,36,36)"
          }
         }
        },
        "title": {
         "font": {
          "color": "Black",
          "size": 22
         },
         "text": "<b>Topic Probability Distribution",
         "x": 0.5,
         "xanchor": "center",
         "y": 0.95,
         "yanchor": "top"
        },
        "width": 800,
        "xaxis": {
         "title": {
          "text": "Probability"
         }
        }
       }
      },
      "text/html": [
       "<div>                            <div id=\"90166e96-7dc7-482e-bbb0-da70ae18aaa7\" class=\"plotly-graph-div\" style=\"height:600px; width:800px;\"></div>            <script type=\"text/javascript\">                require([\"plotly\"], function(Plotly) {                    window.PLOTLYENV=window.PLOTLYENV || {};                                    if (document.getElementById(\"90166e96-7dc7-482e-bbb0-da70ae18aaa7\")) {                    Plotly.newPlot(                        \"90166e96-7dc7-482e-bbb0-da70ae18aaa7\",                        [{\"marker\":{\"color\":\"#C8D2D7\",\"line\":{\"color\":\"#6E8484\",\"width\":1}},\"orientation\":\"h\",\"x\":[0.029323237201952165,0.022427940877316595,0.01706793974939518,0.029032356618555785,0.015217012465966732,0.05006093982781552,0.01838084005719446,0.40434550790273266,0.02038113006716565],\"y\":[\"<b>Topic 1</b>: breakup_relationship_bro...\",\"<b>Topic 7</b>: feels_first_time_right_l...\",\"<b>Topic 16</b>: sadness_heart_coming_kn...\",\"<b>Topic 19</b>: home_hit_close_hits_rea...\",\"<b>Topic 27</b>: addiction_drug_drugs_lo...\",\"<b>Topic 28</b>: every_single_roots_time...\",\"<b>Topic 29</b>: story_sad_song_tells_wh...\",\"<b>Topic 32</b>: gut_punch_punched_two_w...\",\"<b>Topic 36</b>: rough_phrase_moved_patc...\"],\"type\":\"bar\"}],                        {\"template\":{\"data\":{\"barpolar\":[{\"marker\":{\"line\":{\"color\":\"white\",\"width\":0.5},\"pattern\":{\"fillmode\":\"overlay\",\"size\":10,\"solidity\":0.2}},\"type\":\"barpolar\"}],\"bar\":[{\"error_x\":{\"color\":\"rgb(36,36,36)\"},\"error_y\":{\"color\":\"rgb(36,36,36)\"},\"marker\":{\"line\":{\"color\":\"white\",\"width\":0.5},\"pattern\":{\"fillmode\":\"overlay\",\"size\":10,\"solidity\":0.2}},\"type\":\"bar\"}],\"carpet\":[{\"aaxis\":{\"endlinecolor\":\"rgb(36,36,36)\",\"gridcolor\":\"white\",\"linecolor\":\"white\",\"minorgridcolor\":\"white\",\"startlinecolor\":\"rgb(36,36,36)\"},\"baxis\":{\"endlinecolor\":\"rgb(36,36,36)\",\"gridcolor\":\"white\",\"linecolor\":\"white\",\"minorgridcolor\":\"white\",\"startlinecolor\":\"rgb(36,36,36)\"},\"type\":\"carpet\"}],\"choropleth\":[{\"colorbar\":{\"outlinewidth\":1,\"tickcolor\":\"rgb(36,36,36)\",\"ticks\":\"outside\"},\"type\":\"choropleth\"}],\"contourcarpet\":[{\"colorbar\":{\"outlinewidth\":1,\"tickcolor\":\"rgb(36,36,36)\",\"ticks\":\"outside\"},\"type\":\"contourcarpet\"}],\"contour\":[{\"colorbar\":{\"outlinewidth\":1,\"tickcolor\":\"rgb(36,36,36)\",\"ticks\":\"outside\"},\"colorscale\":[[0.0,\"#440154\"],[0.1111111111111111,\"#482878\"],[0.2222222222222222,\"#3e4989\"],[0.3333333333333333,\"#31688e\"],[0.4444444444444444,\"#26828e\"],[0.5555555555555556,\"#1f9e89\"],[0.6666666666666666,\"#35b779\"],[0.7777777777777778,\"#6ece58\"],[0.8888888888888888,\"#b5de2b\"],[1.0,\"#fde725\"]],\"type\":\"contour\"}],\"heatmapgl\":[{\"colorbar\":{\"outlinewidth\":1,\"tickcolor\":\"rgb(36,36,36)\",\"ticks\":\"outside\"},\"colorscale\":[[0.0,\"#440154\"],[0.1111111111111111,\"#482878\"],[0.2222222222222222,\"#3e4989\"],[0.3333333333333333,\"#31688e\"],[0.4444444444444444,\"#26828e\"],[0.5555555555555556,\"#1f9e89\"],[0.6666666666666666,\"#35b779\"],[0.7777777777777778,\"#6ece58\"],[0.8888888888888888,\"#b5de2b\"],[1.0,\"#fde725\"]],\"type\":\"heatmapgl\"}],\"heatmap\":[{\"colorbar\":{\"outlinewidth\":1,\"tickcolor\":\"rgb(36,36,36)\",\"ticks\":\"outside\"},\"colorscale\":[[0.0,\"#440154\"],[0.1111111111111111,\"#482878\"],[0.2222222222222222,\"#3e4989\"],[0.3333333333333333,\"#31688e\"],[0.4444444444444444,\"#26828e\"],[0.5555555555555556,\"#1f9e89\"],[0.6666666666666666,\"#35b779\"],[0.7777777777777778,\"#6ece58\"],[0.8888888888888888,\"#b5de2b\"],[1.0,\"#fde725\"]],\"type\":\"heatmap\"}],\"histogram2dcontour\":[{\"colorbar\":{\"outlinewidth\":1,\"tickcolor\":\"rgb(36,36,36)\",\"ticks\":\"outside\"},\"colorscale\":[[0.0,\"#440154\"],[0.1111111111111111,\"#482878\"],[0.2222222222222222,\"#3e4989\"],[0.3333333333333333,\"#31688e\"],[0.4444444444444444,\"#26828e\"],[0.5555555555555556,\"#1f9e89\"],[0.6666666666666666,\"#35b779\"],[0.7777777777777778,\"#6ece58\"],[0.8888888888888888,\"#b5de2b\"],[1.0,\"#fde725\"]],\"type\":\"histogram2dcontour\"}],\"histogram2d\":[{\"colorbar\":{\"outlinewidth\":1,\"tickcolor\":\"rgb(36,36,36)\",\"ticks\":\"outside\"},\"colorscale\":[[0.0,\"#440154\"],[0.1111111111111111,\"#482878\"],[0.2222222222222222,\"#3e4989\"],[0.3333333333333333,\"#31688e\"],[0.4444444444444444,\"#26828e\"],[0.5555555555555556,\"#1f9e89\"],[0.6666666666666666,\"#35b779\"],[0.7777777777777778,\"#6ece58\"],[0.8888888888888888,\"#b5de2b\"],[1.0,\"#fde725\"]],\"type\":\"histogram2d\"}],\"histogram\":[{\"marker\":{\"line\":{\"color\":\"white\",\"width\":0.6}},\"type\":\"histogram\"}],\"mesh3d\":[{\"colorbar\":{\"outlinewidth\":1,\"tickcolor\":\"rgb(36,36,36)\",\"ticks\":\"outside\"},\"type\":\"mesh3d\"}],\"parcoords\":[{\"line\":{\"colorbar\":{\"outlinewidth\":1,\"tickcolor\":\"rgb(36,36,36)\",\"ticks\":\"outside\"}},\"type\":\"parcoords\"}],\"pie\":[{\"automargin\":true,\"type\":\"pie\"}],\"scatter3d\":[{\"line\":{\"colorbar\":{\"outlinewidth\":1,\"tickcolor\":\"rgb(36,36,36)\",\"ticks\":\"outside\"}},\"marker\":{\"colorbar\":{\"outlinewidth\":1,\"tickcolor\":\"rgb(36,36,36)\",\"ticks\":\"outside\"}},\"type\":\"scatter3d\"}],\"scattercarpet\":[{\"marker\":{\"colorbar\":{\"outlinewidth\":1,\"tickcolor\":\"rgb(36,36,36)\",\"ticks\":\"outside\"}},\"type\":\"scattercarpet\"}],\"scattergeo\":[{\"marker\":{\"colorbar\":{\"outlinewidth\":1,\"tickcolor\":\"rgb(36,36,36)\",\"ticks\":\"outside\"}},\"type\":\"scattergeo\"}],\"scattergl\":[{\"marker\":{\"colorbar\":{\"outlinewidth\":1,\"tickcolor\":\"rgb(36,36,36)\",\"ticks\":\"outside\"}},\"type\":\"scattergl\"}],\"scattermapbox\":[{\"marker\":{\"colorbar\":{\"outlinewidth\":1,\"tickcolor\":\"rgb(36,36,36)\",\"ticks\":\"outside\"}},\"type\":\"scattermapbox\"}],\"scatterpolargl\":[{\"marker\":{\"colorbar\":{\"outlinewidth\":1,\"tickcolor\":\"rgb(36,36,36)\",\"ticks\":\"outside\"}},\"type\":\"scatterpolargl\"}],\"scatterpolar\":[{\"marker\":{\"colorbar\":{\"outlinewidth\":1,\"tickcolor\":\"rgb(36,36,36)\",\"ticks\":\"outside\"}},\"type\":\"scatterpolar\"}],\"scatter\":[{\"fillpattern\":{\"fillmode\":\"overlay\",\"size\":10,\"solidity\":0.2},\"type\":\"scatter\"}],\"scatterternary\":[{\"marker\":{\"colorbar\":{\"outlinewidth\":1,\"tickcolor\":\"rgb(36,36,36)\",\"ticks\":\"outside\"}},\"type\":\"scatterternary\"}],\"surface\":[{\"colorbar\":{\"outlinewidth\":1,\"tickcolor\":\"rgb(36,36,36)\",\"ticks\":\"outside\"},\"colorscale\":[[0.0,\"#440154\"],[0.1111111111111111,\"#482878\"],[0.2222222222222222,\"#3e4989\"],[0.3333333333333333,\"#31688e\"],[0.4444444444444444,\"#26828e\"],[0.5555555555555556,\"#1f9e89\"],[0.6666666666666666,\"#35b779\"],[0.7777777777777778,\"#6ece58\"],[0.8888888888888888,\"#b5de2b\"],[1.0,\"#fde725\"]],\"type\":\"surface\"}],\"table\":[{\"cells\":{\"fill\":{\"color\":\"rgb(237,237,237)\"},\"line\":{\"color\":\"white\"}},\"header\":{\"fill\":{\"color\":\"rgb(217,217,217)\"},\"line\":{\"color\":\"white\"}},\"type\":\"table\"}]},\"layout\":{\"annotationdefaults\":{\"arrowhead\":0,\"arrowwidth\":1},\"autotypenumbers\":\"strict\",\"coloraxis\":{\"colorbar\":{\"outlinewidth\":1,\"tickcolor\":\"rgb(36,36,36)\",\"ticks\":\"outside\"}},\"colorscale\":{\"diverging\":[[0.0,\"rgb(103,0,31)\"],[0.1,\"rgb(178,24,43)\"],[0.2,\"rgb(214,96,77)\"],[0.3,\"rgb(244,165,130)\"],[0.4,\"rgb(253,219,199)\"],[0.5,\"rgb(247,247,247)\"],[0.6,\"rgb(209,229,240)\"],[0.7,\"rgb(146,197,222)\"],[0.8,\"rgb(67,147,195)\"],[0.9,\"rgb(33,102,172)\"],[1.0,\"rgb(5,48,97)\"]],\"sequential\":[[0.0,\"#440154\"],[0.1111111111111111,\"#482878\"],[0.2222222222222222,\"#3e4989\"],[0.3333333333333333,\"#31688e\"],[0.4444444444444444,\"#26828e\"],[0.5555555555555556,\"#1f9e89\"],[0.6666666666666666,\"#35b779\"],[0.7777777777777778,\"#6ece58\"],[0.8888888888888888,\"#b5de2b\"],[1.0,\"#fde725\"]],\"sequentialminus\":[[0.0,\"#440154\"],[0.1111111111111111,\"#482878\"],[0.2222222222222222,\"#3e4989\"],[0.3333333333333333,\"#31688e\"],[0.4444444444444444,\"#26828e\"],[0.5555555555555556,\"#1f9e89\"],[0.6666666666666666,\"#35b779\"],[0.7777777777777778,\"#6ece58\"],[0.8888888888888888,\"#b5de2b\"],[1.0,\"#fde725\"]]},\"colorway\":[\"#1F77B4\",\"#FF7F0E\",\"#2CA02C\",\"#D62728\",\"#9467BD\",\"#8C564B\",\"#E377C2\",\"#7F7F7F\",\"#BCBD22\",\"#17BECF\"],\"font\":{\"color\":\"rgb(36,36,36)\"},\"geo\":{\"bgcolor\":\"white\",\"lakecolor\":\"white\",\"landcolor\":\"white\",\"showlakes\":true,\"showland\":true,\"subunitcolor\":\"white\"},\"hoverlabel\":{\"align\":\"left\"},\"hovermode\":\"closest\",\"mapbox\":{\"style\":\"light\"},\"paper_bgcolor\":\"white\",\"plot_bgcolor\":\"white\",\"polar\":{\"angularaxis\":{\"gridcolor\":\"rgb(232,232,232)\",\"linecolor\":\"rgb(36,36,36)\",\"showgrid\":false,\"showline\":true,\"ticks\":\"outside\"},\"bgcolor\":\"white\",\"radialaxis\":{\"gridcolor\":\"rgb(232,232,232)\",\"linecolor\":\"rgb(36,36,36)\",\"showgrid\":false,\"showline\":true,\"ticks\":\"outside\"}},\"scene\":{\"xaxis\":{\"backgroundcolor\":\"white\",\"gridcolor\":\"rgb(232,232,232)\",\"gridwidth\":2,\"linecolor\":\"rgb(36,36,36)\",\"showbackground\":true,\"showgrid\":false,\"showline\":true,\"ticks\":\"outside\",\"zeroline\":false,\"zerolinecolor\":\"rgb(36,36,36)\"},\"yaxis\":{\"backgroundcolor\":\"white\",\"gridcolor\":\"rgb(232,232,232)\",\"gridwidth\":2,\"linecolor\":\"rgb(36,36,36)\",\"showbackground\":true,\"showgrid\":false,\"showline\":true,\"ticks\":\"outside\",\"zeroline\":false,\"zerolinecolor\":\"rgb(36,36,36)\"},\"zaxis\":{\"backgroundcolor\":\"white\",\"gridcolor\":\"rgb(232,232,232)\",\"gridwidth\":2,\"linecolor\":\"rgb(36,36,36)\",\"showbackground\":true,\"showgrid\":false,\"showline\":true,\"ticks\":\"outside\",\"zeroline\":false,\"zerolinecolor\":\"rgb(36,36,36)\"}},\"shapedefaults\":{\"fillcolor\":\"black\",\"line\":{\"width\":0},\"opacity\":0.3},\"ternary\":{\"aaxis\":{\"gridcolor\":\"rgb(232,232,232)\",\"linecolor\":\"rgb(36,36,36)\",\"showgrid\":false,\"showline\":true,\"ticks\":\"outside\"},\"baxis\":{\"gridcolor\":\"rgb(232,232,232)\",\"linecolor\":\"rgb(36,36,36)\",\"showgrid\":false,\"showline\":true,\"ticks\":\"outside\"},\"bgcolor\":\"white\",\"caxis\":{\"gridcolor\":\"rgb(232,232,232)\",\"linecolor\":\"rgb(36,36,36)\",\"showgrid\":false,\"showline\":true,\"ticks\":\"outside\"}},\"title\":{\"x\":0.05},\"xaxis\":{\"automargin\":true,\"gridcolor\":\"rgb(232,232,232)\",\"linecolor\":\"rgb(36,36,36)\",\"showgrid\":false,\"showline\":true,\"ticks\":\"outside\",\"title\":{\"standoff\":15},\"zeroline\":false,\"zerolinecolor\":\"rgb(36,36,36)\"},\"yaxis\":{\"automargin\":true,\"gridcolor\":\"rgb(232,232,232)\",\"linecolor\":\"rgb(36,36,36)\",\"showgrid\":false,\"showline\":true,\"ticks\":\"outside\",\"title\":{\"standoff\":15},\"zeroline\":false,\"zerolinecolor\":\"rgb(36,36,36)\"}}},\"title\":{\"font\":{\"size\":22,\"color\":\"Black\"},\"text\":\"<b>Topic Probability Distribution\",\"y\":0.95,\"x\":0.5,\"xanchor\":\"center\",\"yanchor\":\"top\"},\"hoverlabel\":{\"font\":{\"size\":16,\"family\":\"Rockwell\"},\"bgcolor\":\"white\"},\"xaxis\":{\"title\":{\"text\":\"Probability\"}},\"width\":800,\"height\":600},                        {\"responsive\": true}                    ).then(function(){\n",
       "                            \n",
       "var gd = document.getElementById('90166e96-7dc7-482e-bbb0-da70ae18aaa7');\n",
       "var x = new MutationObserver(function (mutations, observer) {{\n",
       "        var display = window.getComputedStyle(gd).display;\n",
       "        if (!display || display === 'none') {{\n",
       "            console.log([gd, 'removed!']);\n",
       "            Plotly.purge(gd);\n",
       "            observer.disconnect();\n",
       "        }}\n",
       "}});\n",
       "\n",
       "// Listen for the removal of the full notebook cells\n",
       "var notebookContainer = gd.closest('#notebook-container');\n",
       "if (notebookContainer) {{\n",
       "    x.observe(notebookContainer, {childList: true});\n",
       "}}\n",
       "\n",
       "// Listen for the clearing of the current output cell\n",
       "var outputEl = gd.closest('.output');\n",
       "if (outputEl) {{\n",
       "    x.observe(outputEl, {childList: true});\n",
       "}}\n",
       "\n",
       "                        })                };                });            </script>        </div>"
      ]
     },
     "metadata": {},
     "output_type": "display_data"
    }
   ],
   "source": [
    "topic_model.visualize_distribution(probs[0])"
   ]
  },
  {
   "cell_type": "code",
   "execution_count": 51,
   "id": "ee9e633d",
   "metadata": {},
   "outputs": [],
   "source": [
    "thing = topic_model.visualize_topics()"
   ]
  },
  {
   "cell_type": "code",
   "execution_count": 53,
   "id": "23a85fdd",
   "metadata": {},
   "outputs": [],
   "source": [
    "thing.write_html('topics.html')"
   ]
  },
  {
   "cell_type": "code",
   "execution_count": 15,
   "id": "8afdd364",
   "metadata": {},
   "outputs": [
    {
     "data": {
      "application/vnd.plotly.v1+json": {
       "config": {
        "plotlyServerURL": "https://plot.ly"
       },
       "data": [
        {
         "coloraxis": "coloraxis",
         "hovertemplate": "x: %{x}<br>y: %{y}<br>Similarity Score: %{z}<extra></extra>",
         "name": "0",
         "type": "heatmap",
         "x": [
          "-1_song_time_it",
          "0_cry_tears_time",
          "1_breakup_relationship_broke",
          "2_depression_depressed_suic...",
          "3_father_dad_my",
          "4_grandfather_grandma_grandpa",
          "5_album_death_wife",
          "6_movie_orchestra_beautiful",
          "7_feels_first_time",
          "8_emotion_raw_vocals",
          "9_dad_father_relationship",
          "10_oh_and_mama",
          "11_country_the_johnny",
          "12_mom_my_away",
          "13_beautiful_song_hindi",
          "14_friend_suicide_committed",
          "15_sad_songs_song",
          "16_sadness_heart_coming",
          "17_childhood_school_pooh",
          "18_wedding_dance_married",
          "19_home_hit_close",
          "20_nostalgia_nostalgic_lyrics",
          "21_cat_dog_dogs",
          "22_french_spanish_gogh",
          "23_war_soldier_veteran",
          "24_watch_feature_wings",
          "25_concert_joined_live",
          "26_album_whole_the",
          "27_addiction_drug_drugs",
          "28_every_single_roots",
          "29_story_sad_song",
          "30_chester_bennington_suicide",
          "31_cancer_mom_breast",
          "32_gut_punch_punched",
          "33_sister_uncle_family",
          "34_mother_mom_carrie",
          "35_moving_saying_music",
          "36_rough_phrase_moved"
         ],
         "xaxis": "x",
         "y": [
          "-1_song_time_it",
          "0_cry_tears_time",
          "1_breakup_relationship_broke",
          "2_depression_depressed_suic...",
          "3_father_dad_my",
          "4_grandfather_grandma_grandpa",
          "5_album_death_wife",
          "6_movie_orchestra_beautiful",
          "7_feels_first_time",
          "8_emotion_raw_vocals",
          "9_dad_father_relationship",
          "10_oh_and_mama",
          "11_country_the_johnny",
          "12_mom_my_away",
          "13_beautiful_song_hindi",
          "14_friend_suicide_committed",
          "15_sad_songs_song",
          "16_sadness_heart_coming",
          "17_childhood_school_pooh",
          "18_wedding_dance_married",
          "19_home_hit_close",
          "20_nostalgia_nostalgic_lyrics",
          "21_cat_dog_dogs",
          "22_french_spanish_gogh",
          "23_war_soldier_veteran",
          "24_watch_feature_wings",
          "25_concert_joined_live",
          "26_album_whole_the",
          "27_addiction_drug_drugs",
          "28_every_single_roots",
          "29_story_sad_song",
          "30_chester_bennington_suicide",
          "31_cancer_mom_breast",
          "32_gut_punch_punched",
          "33_sister_uncle_family",
          "34_mother_mom_carrie",
          "35_moving_saying_music",
          "36_rough_phrase_moved"
         ],
         "yaxis": "y",
         "z": [
          [
           1,
           0.8038856769545957,
           0.7267260554027061,
           0.6813470583719066,
           0.7556650635351889,
           0.6185985940033214,
           0.7759457833382565,
           0.7764049940366808,
           0.8592468560786322,
           0.7347157216452296,
           0.6722285809487045,
           0.7960436666555171,
           0.8076366081795777,
           0.7608396161903708,
           0.779006637455153,
           0.7376427095635159,
           0.8097780846850254,
           0.798110482350713,
           0.7770165848608276,
           0.570286373718293,
           0.7879567434113931,
           0.7574558552692173,
           0.7059535552864185,
           0.6919374101471367,
           0.6019775079050486,
           0.7658386876700267,
           0.7289375317968889,
           0.8508110041135892,
           0.6477953777783904,
           0.8230625882004443,
           0.7521338668140264,
           0.6401779123142763,
           0.682500121441079,
           0.6566501129866245,
           0.7561474149138394,
           0.7240386356090607,
           0.7367398175071264,
           0.7773766806997306
          ],
          [
           0.8038856769545957,
           0.9999999999999991,
           0.7194172962202501,
           0.686303066462176,
           0.7000688007301743,
           0.5845500647754168,
           0.7254827294154051,
           0.6664975556663022,
           0.8183637777299717,
           0.7524453906513306,
           0.651465249621201,
           0.726891308285984,
           0.6784743093277927,
           0.722280504387082,
           0.7107356131042053,
           0.7303315506468082,
           0.754759957633487,
           0.8105203311708262,
           0.6986627299978573,
           0.5264196257811591,
           0.7179926467558032,
           0.7215874856631272,
           0.6205046550159125,
           0.6068569113293254,
           0.551727427857053,
           0.7324552247103516,
           0.6420286698558006,
           0.7188159619369155,
           0.5927491137456276,
           0.7808282001431125,
           0.7087278153441393,
           0.5892522701694456,
           0.6378648628026395,
           0.6292814439819208,
           0.6986556325297995,
           0.7171173319683537,
           0.6871265925904069,
           0.7327136114244852
          ],
          [
           0.7267260554027061,
           0.7194172962202501,
           1.0000000000000002,
           0.6799476269958231,
           0.6909739252190011,
           0.572211626989319,
           0.7359429848033947,
           0.6794550174728877,
           0.68782281368484,
           0.6839420014458875,
           0.7153109429083109,
           0.6591217095452031,
           0.6779900273424991,
           0.6867765046442081,
           0.6642237946940239,
           0.6870056256681938,
           0.699769210632056,
           0.7677580865490197,
           0.7117478740929282,
           0.609656121762263,
           0.708300261211608,
           0.6886036230868816,
           0.6343870594693187,
           0.6226691372235736,
           0.5727090942112827,
           0.6599887359402928,
           0.6689302907860744,
           0.7308108446065991,
           0.639806130441382,
           0.7834207306192602,
           0.6874735548014451,
           0.6024928773323249,
           0.627285848932305,
           0.6494811758158228,
           0.6912421284950726,
           0.6688808289162922,
           0.6912094659671834,
           0.6949280301930444
          ],
          [
           0.6813470583719066,
           0.686303066462176,
           0.6799476269958231,
           0.9999999999999999,
           0.6204321291466055,
           0.5767711227158516,
           0.7243848674399969,
           0.6314960554527654,
           0.63032884775939,
           0.6986812610214639,
           0.6058605236742851,
           0.5941140806485677,
           0.6274340062547283,
           0.6349517133977285,
           0.60535935118528,
           0.6952337954980645,
           0.6901946667661961,
           0.7515336133073702,
           0.6727947232466696,
           0.5313993242090369,
           0.6322981602483577,
           0.7449907442754331,
           0.6051833431402197,
           0.5772151785979471,
           0.5377563984681853,
           0.5814202969005857,
           0.5711299245654117,
           0.6789104299851925,
           0.7351906326340758,
           0.6471955112920118,
           0.6748493887913141,
           0.635470088493284,
           0.6493062707325227,
           0.5394944807714566,
           0.6124973408367919,
           0.6272963132105682,
           0.638590728197643,
           0.666595438643425
          ],
          [
           0.7556650635351889,
           0.7000688007301743,
           0.6909739252190011,
           0.6204321291466055,
           0.9999999999999998,
           0.7383324848470325,
           0.7373033271160148,
           0.6758453732797416,
           0.6875754280249596,
           0.6843970758581421,
           0.9482015450839311,
           0.7242356245649955,
           0.7405929470767219,
           0.873511975555294,
           0.6444013810767635,
           0.6646239414705679,
           0.6727072546726462,
           0.7335860699389122,
           0.7351340666276773,
           0.6313261463276587,
           0.7106555787707529,
           0.6907406277995132,
           0.6880754895294108,
           0.678449299348922,
           0.5995313764128238,
           0.6677429881895074,
           0.6644332981255858,
           0.7280394605444044,
           0.6448052488407954,
           0.7109230453741404,
           0.6801165831241425,
           0.6209689038457513,
           0.7121225560729947,
           0.6159190103116148,
           0.8485121060806624,
           0.8151690607686237,
           0.6778244083690484,
           0.700798955984181
          ],
          [
           0.6185985940033214,
           0.5845500647754168,
           0.572211626989319,
           0.5767711227158516,
           0.7383324848470325,
           1,
           0.7297626826214734,
           0.6147412131306313,
           0.5581289406508181,
           0.5630890834432489,
           0.7317551472657062,
           0.6424839228319432,
           0.6461680311720199,
           0.7283618109465468,
           0.5611663563074679,
           0.6022801358909842,
           0.5912856239056563,
           0.6321563691310679,
           0.6732875257828778,
           0.6293508727739436,
           0.6215430670946149,
           0.6376485731356323,
           0.6359365453333519,
           0.5997242016274111,
           0.582773088011955,
           0.6006034305864494,
           0.6320162848066504,
           0.5957918362832251,
           0.5794080010945077,
           0.5823983244252373,
           0.5964563593925765,
           0.6695911972309649,
           0.6794305187015298,
           0.5348615650059758,
           0.772086365907775,
           0.7418989418958147,
           0.5913604351029221,
           0.630400869556523
          ],
          [
           0.7759457833382565,
           0.7254827294154051,
           0.7359429848033947,
           0.7243848674399969,
           0.7373033271160148,
           0.7297626826214734,
           0.9999999999999999,
           0.7247744610821815,
           0.6931812307924703,
           0.7152838686873453,
           0.7208762791401035,
           0.7450516329174227,
           0.7339308279603289,
           0.7450593416075563,
           0.7075083480878928,
           0.7593601782805874,
           0.7421365587739508,
           0.7723861653326247,
           0.7287584168545758,
           0.637374352740999,
           0.7292875613949259,
           0.7312487779018302,
           0.706481773071669,
           0.689432090144826,
           0.6394126589142481,
           0.6822080276826108,
           0.714070421784096,
           0.8316591379546752,
           0.7030313793677212,
           0.7294206119753602,
           0.7078766205646176,
           0.731198897989308,
           0.8269271619847139,
           0.6406845232197217,
           0.7742622661585619,
           0.7939153535806998,
           0.6816831678930685,
           0.7207416513528047
          ],
          [
           0.7764049940366808,
           0.6664975556663022,
           0.6794550174728877,
           0.6314960554527654,
           0.6758453732797416,
           0.6147412131306313,
           0.7247744610821815,
           0.9999999999999999,
           0.6870733862031567,
           0.7172764371309779,
           0.6216056555843719,
           0.6747904400028517,
           0.7501966758041623,
           0.6603337680238692,
           0.7678302405931202,
           0.6710901191715077,
           0.728752378197173,
           0.7241142768298876,
           0.7341950669989584,
           0.6673407633777759,
           0.6877061788397374,
           0.7442138793569283,
           0.6810167610465007,
           0.7050867490842258,
           0.6138029071890938,
           0.7186625593780598,
           0.7461349615493779,
           0.7736900724876191,
           0.6262226298839174,
           0.6840663594114507,
           0.7009773612695643,
           0.6013483231040782,
           0.6309224133029256,
           0.585122429866246,
           0.6704598860979338,
           0.6838827733163695,
           0.7198669992422408,
           0.7225765901548905
          ],
          [
           0.8592468560786322,
           0.8183637777299717,
           0.68782281368484,
           0.63032884775939,
           0.6875754280249596,
           0.5581289406508181,
           0.6931812307924703,
           0.6870733862031567,
           0.9999999999999999,
           0.6904434631260679,
           0.6108249009997728,
           0.7891028269739382,
           0.7253670369353454,
           0.7116496161939667,
           0.7420108174336122,
           0.7596586929727748,
           0.8069697434886485,
           0.8039311346143416,
           0.7155970031530805,
           0.5343851945774494,
           0.7517666819711408,
           0.7097174127754556,
           0.6185321866433307,
           0.6168696064306141,
           0.5456904804500695,
           0.730309518303474,
           0.6683657526899092,
           0.7579618992027017,
           0.5795849218534932,
           0.8015314385980791,
           0.7252966196895253,
           0.5933092935162323,
           0.6144316460988823,
           0.6031906850648145,
           0.7064193067377074,
           0.6973591192258202,
           0.705811885923478,
           0.7464664573654879
          ],
          [
           0.7347157216452296,
           0.7524453906513306,
           0.6839420014458875,
           0.6986812610214639,
           0.6843970758581421,
           0.5630890834432489,
           0.7152838686873453,
           0.7172764371309779,
           0.6904434631260679,
           0.9999999999999998,
           0.6453256149132116,
           0.6636713672377812,
           0.6982347551197159,
           0.6607983444451063,
           0.7016032582528063,
           0.6570494631751806,
           0.7613071720301505,
           0.8041860684079554,
           0.6891266873434317,
           0.571951809697667,
           0.6659193374068616,
           0.83835488344759,
           0.6293130784205695,
           0.6939261216392961,
           0.5487030928761472,
           0.7086251237806901,
           0.6619337920911403,
           0.7604039798059972,
           0.6178729760396043,
           0.6803858628878778,
           0.6746121054708808,
           0.5828785365955053,
           0.6286364898359449,
           0.6450814707058836,
           0.6500802987955958,
           0.7008091817527689,
           0.690410670454888,
           0.6730219385379578
          ],
          [
           0.6722285809487045,
           0.651465249621201,
           0.7153109429083109,
           0.6058605236742851,
           0.9482015450839311,
           0.7317551472657062,
           0.7208762791401035,
           0.6216056555843719,
           0.6108249009997728,
           0.6453256149132116,
           1,
           0.6790551255823054,
           0.6938337971475939,
           0.827931025729077,
           0.5872813663544713,
           0.6394721897210235,
           0.6072042449503042,
           0.7055905059154255,
           0.7108386342248652,
           0.6359511466202761,
           0.6632254268140771,
           0.6560283866814269,
           0.6891926403190944,
           0.643732995428342,
           0.5963567665502459,
           0.6168542621371698,
           0.615398841600888,
           0.6618573207454972,
           0.6431180048218814,
           0.6688980723224387,
           0.640599692873336,
           0.6136462153776991,
           0.7071563714473377,
           0.5935624057420797,
           0.8180891511267654,
           0.7844642833016404,
           0.6481560913625208,
           0.6675548687693058
          ],
          [
           0.7960436666555171,
           0.726891308285984,
           0.6591217095452031,
           0.5941140806485677,
           0.7242356245649955,
           0.6424839228319432,
           0.7450516329174227,
           0.6747904400028517,
           0.7891028269739382,
           0.6636713672377812,
           0.6790551255823054,
           1.0000000000000007,
           0.7770207478789364,
           0.7464330849217778,
           0.7249417738999469,
           0.7287622730353994,
           0.7013906881921484,
           0.7419677582857533,
           0.7259628065359942,
           0.5518235233326765,
           0.7491738240823558,
           0.6601987786902636,
           0.6775667571424275,
           0.6948894149105467,
           0.5934201457062698,
           0.7719713067293597,
           0.7134247514263399,
           0.7621301217651459,
           0.5971926924686484,
           0.7727466108406739,
           0.6981321487775688,
           0.6470650173702304,
           0.6602209590836322,
           0.644672421689104,
           0.7512165133173481,
           0.7593014634944819,
           0.7381303195486899,
           0.7375557314362613
          ],
          [
           0.8076366081795777,
           0.6784743093277927,
           0.6779900273424991,
           0.6274340062547283,
           0.7405929470767219,
           0.6461680311720199,
           0.7339308279603289,
           0.7501966758041623,
           0.7253670369353454,
           0.6982347551197159,
           0.6938337971475939,
           0.7770207478789364,
           1,
           0.7308314904453592,
           0.7087377684636937,
           0.7090940152379188,
           0.7205328925129342,
           0.715825047976685,
           0.7485772109902166,
           0.5997974319387835,
           0.7274388784050208,
           0.6972479350704679,
           0.7248200442457626,
           0.7487918781897289,
           0.6462871935729204,
           0.7292979212123385,
           0.7302335583803762,
           0.8052209673713773,
           0.668981852213846,
           0.7105003951549484,
           0.6656788640724084,
           0.6789823384656757,
           0.6317125605685097,
           0.6650173461739235,
           0.7381344373887553,
           0.7086050156953638,
           0.730306180822609,
           0.7369752759277493
          ],
          [
           0.7608396161903708,
           0.722280504387082,
           0.6867765046442081,
           0.6349517133977285,
           0.873511975555294,
           0.7283618109465468,
           0.7450593416075563,
           0.6603337680238692,
           0.7116496161939667,
           0.6607983444451063,
           0.827931025729077,
           0.7464330849217778,
           0.7308314904453592,
           1.0000000000000004,
           0.6608730800723515,
           0.704897828555194,
           0.6540590746685528,
           0.7355937175785148,
           0.7607226667943018,
           0.6322547205229958,
           0.7559565944526998,
           0.6816746439431534,
           0.7126024469722939,
           0.6489691546099052,
           0.6141354504757606,
           0.6776979087990298,
           0.6894821931456903,
           0.7168086549428837,
           0.6431532407536598,
           0.7244450169736855,
           0.697966742206628,
           0.6337205257889305,
           0.719638715087437,
           0.6237951063811438,
           0.8217949065095718,
           0.8889403492469331,
           0.7011301897890088,
           0.7329546812773373
          ],
          [
           0.779006637455153,
           0.7107356131042053,
           0.6642237946940239,
           0.60535935118528,
           0.6444013810767635,
           0.5611663563074679,
           0.7075083480878928,
           0.7678302405931202,
           0.7420108174336122,
           0.7016032582528063,
           0.5872813663544713,
           0.7249417738999469,
           0.7087377684636937,
           0.6608730800723515,
           0.9999999999999999,
           0.7095387507411135,
           0.795869955777903,
           0.7592088151594953,
           0.7169268927198966,
           0.5735909325391457,
           0.7135179049561686,
           0.6855690197175615,
           0.6590620440784807,
           0.6711955890983397,
           0.5804019017211854,
           0.6960060780127044,
           0.6898284868197508,
           0.7683818946833527,
           0.5640165581713589,
           0.7183391405581231,
           0.705091907312497,
           0.5793190379184361,
           0.6144812261643788,
           0.5702168457548865,
           0.6444779051877643,
           0.7073070938639898,
           0.6754252917083349,
           0.7318596489573653
          ],
          [
           0.7376427095635159,
           0.7303315506468082,
           0.6870056256681938,
           0.6952337954980645,
           0.6646239414705679,
           0.6022801358909842,
           0.7593601782805874,
           0.6710901191715077,
           0.7596586929727748,
           0.6570494631751806,
           0.6394721897210235,
           0.7287622730353994,
           0.7090940152379188,
           0.704897828555194,
           0.7095387507411135,
           1.0000000000000002,
           0.7310196063195363,
           0.7680998301968223,
           0.7389258697400214,
           0.5681169482196304,
           0.7464310575035289,
           0.6812132232077716,
           0.6798831665387981,
           0.6195393134256653,
           0.6006741363570155,
           0.689581173595139,
           0.6922416950243222,
           0.7418401637925298,
           0.6902602337662807,
           0.7166751022213058,
           0.7276844060601825,
           0.6361777727643525,
           0.6399291546604098,
           0.5807962027115914,
           0.7550894609877428,
           0.7096541175593113,
           0.6837846738174164,
           0.7661677216959442
          ],
          [
           0.8097780846850254,
           0.754759957633487,
           0.699769210632056,
           0.6901946667661961,
           0.6727072546726462,
           0.5912856239056563,
           0.7421365587739508,
           0.728752378197173,
           0.8069697434886485,
           0.7613071720301505,
           0.6072042449503042,
           0.7013906881921484,
           0.7205328925129342,
           0.6540590746685528,
           0.795869955777903,
           0.7310196063195363,
           0.9999999999999997,
           0.8142215498901101,
           0.7214203744860646,
           0.5656544036042377,
           0.7123920120946814,
           0.7754318847391362,
           0.5989125514291092,
           0.6239979211504245,
           0.5440104248722597,
           0.673259201266465,
           0.6630481729774578,
           0.8132987556351317,
           0.5994391608120506,
           0.7227669041441371,
           0.8116504323786272,
           0.603569687240459,
           0.5941123862076091,
           0.5690451646618726,
           0.6590611441631935,
           0.6892020709258633,
           0.7015888294467256,
           0.6907061454836896
          ],
          [
           0.798110482350713,
           0.8105203311708262,
           0.7677580865490197,
           0.7515336133073702,
           0.7335860699389122,
           0.6321563691310679,
           0.7723861653326247,
           0.7241142768298876,
           0.8039311346143416,
           0.8041860684079554,
           0.7055905059154255,
           0.7419677582857533,
           0.715825047976685,
           0.7355937175785148,
           0.7592088151594953,
           0.7680998301968223,
           0.8142215498901101,
           0.9999999999999999,
           0.7529538823201886,
           0.6025260346486843,
           0.7530062513361669,
           0.7761655317085365,
           0.7105145708753804,
           0.6771187354213526,
           0.6021090878523911,
           0.7531582752865369,
           0.6813693071652009,
           0.776508224454578,
           0.668057344306096,
           0.808528028631721,
           0.7826855974361027,
           0.6544221116187399,
           0.6950999769019691,
           0.6979649552588436,
           0.7436389073097354,
           0.7284518532404483,
           0.7394062683789518,
           0.7724597398377
          ],
          [
           0.7770165848608276,
           0.6986627299978573,
           0.7117478740929282,
           0.6727947232466696,
           0.7351340666276773,
           0.6732875257828778,
           0.7287584168545758,
           0.7341950669989584,
           0.7155970031530805,
           0.6891266873434317,
           0.7108386342248652,
           0.7259628065359942,
           0.7485772109902166,
           0.7607226667943018,
           0.7169268927198966,
           0.7389258697400214,
           0.7214203744860646,
           0.7529538823201886,
           1,
           0.5942872211092582,
           0.7212464905523204,
           0.7761356886554447,
           0.7027457396637904,
           0.676788436753846,
           0.6431201804195626,
           0.6885918890342135,
           0.7181385305627181,
           0.7508433725371418,
           0.6954571867710513,
           0.7183514401798696,
           0.7007798762399617,
           0.659746300637807,
           0.6853989438641743,
           0.6167076201442465,
           0.7398046277458346,
           0.7410087634831581,
           0.7167819475106416,
           0.7411800777622638
          ],
          [
           0.570286373718293,
           0.5264196257811591,
           0.609656121762263,
           0.5313993242090369,
           0.6313261463276587,
           0.6293508727739436,
           0.637374352740999,
           0.6673407633777759,
           0.5343851945774494,
           0.571951809697667,
           0.6359511466202761,
           0.5518235233326765,
           0.5997974319387835,
           0.6322547205229958,
           0.5735909325391457,
           0.5681169482196304,
           0.5656544036042377,
           0.6025260346486843,
           0.5942872211092582,
           0.9999999999999996,
           0.5856307049433973,
           0.5916180381229689,
           0.5548555985470331,
           0.5892710839376756,
           0.4979723403894638,
           0.5581683438267636,
           0.6219581748766441,
           0.5712479422798158,
           0.5377723372419014,
           0.5714301788995666,
           0.555934044042041,
           0.5279391997321503,
           0.5662957614995392,
           0.5389882469726492,
           0.6235620023158132,
           0.6334817838080326,
           0.6298781114662761,
           0.5701957624903752
          ],
          [
           0.7879567434113931,
           0.7179926467558032,
           0.708300261211608,
           0.6322981602483577,
           0.7106555787707529,
           0.6215430670946149,
           0.7292875613949259,
           0.6877061788397374,
           0.7517666819711408,
           0.6659193374068616,
           0.6632254268140771,
           0.7491738240823558,
           0.7274388784050208,
           0.7559565944526998,
           0.7135179049561686,
           0.7464310575035289,
           0.7123920120946814,
           0.7530062513361669,
           0.7212464905523204,
           0.5856307049433973,
           0.9999999999999996,
           0.6746922499058343,
           0.6786986773442181,
           0.6560165837604091,
           0.6001850864170878,
           0.7256772015948776,
           0.7484588579698359,
           0.7349714106484082,
           0.6241608364880797,
           0.7930886119543286,
           0.708690944777801,
           0.6194333519182869,
           0.6347480567749473,
           0.6688865316983393,
           0.7194009529286107,
           0.7154116614717602,
           0.7401100581055393,
           0.8063712480959282
          ],
          [
           0.7574558552692173,
           0.7215874856631272,
           0.6886036230868816,
           0.7449907442754331,
           0.6907406277995132,
           0.6376485731356323,
           0.7312487779018302,
           0.7442138793569283,
           0.7097174127754556,
           0.83835488344759,
           0.6560283866814269,
           0.6601987786902636,
           0.6972479350704679,
           0.6816746439431534,
           0.6855690197175615,
           0.6812132232077716,
           0.7754318847391362,
           0.7761655317085365,
           0.7761356886554447,
           0.5916180381229689,
           0.6746922499058343,
           1.0000000000000002,
           0.6704684344228392,
           0.6821900856011536,
           0.6123650369540125,
           0.6940535350724981,
           0.6441457061093259,
           0.7368509214374944,
           0.6903814070025425,
           0.6976204926315727,
           0.6959434979775285,
           0.5929337027633435,
           0.6373429943651008,
           0.5926490519751653,
           0.6635004326791764,
           0.6911512706486602,
           0.688528485697763,
           0.7039715802955653
          ],
          [
           0.7059535552864185,
           0.6205046550159125,
           0.6343870594693187,
           0.6051833431402197,
           0.6880754895294108,
           0.6359365453333519,
           0.706481773071669,
           0.6810167610465007,
           0.6185321866433307,
           0.6293130784205695,
           0.6891926403190944,
           0.6775667571424275,
           0.7248200442457626,
           0.7126024469722939,
           0.6590620440784807,
           0.6798831665387981,
           0.5989125514291092,
           0.7105145708753804,
           0.7027457396637904,
           0.5548555985470331,
           0.6786986773442181,
           0.6704684344228392,
           1,
           0.6814416922948612,
           0.6164557494284462,
           0.6508527268084321,
           0.6381320151863692,
           0.6719080522374635,
           0.6302248984759531,
           0.6355802960975371,
           0.6364497653871439,
           0.6516505950855729,
           0.680077988223653,
           0.6039833371004072,
           0.7073397742540907,
           0.6929075057577405,
           0.6425821025881735,
           0.6716251415562058
          ],
          [
           0.6919374101471367,
           0.6068569113293254,
           0.6226691372235736,
           0.5772151785979471,
           0.678449299348922,
           0.5997242016274111,
           0.689432090144826,
           0.7050867490842258,
           0.6168696064306141,
           0.6939261216392961,
           0.643732995428342,
           0.6948894149105467,
           0.7487918781897289,
           0.6489691546099052,
           0.6711955890983397,
           0.6195393134256653,
           0.6239979211504245,
           0.6771187354213526,
           0.676788436753846,
           0.5892710839376756,
           0.6560165837604091,
           0.6821900856011536,
           0.6814416922948612,
           1,
           0.6559711226828755,
           0.6998202575963964,
           0.6614740426046091,
           0.7056683371613605,
           0.5972543711775028,
           0.6572442653024633,
           0.6270882411506156,
           0.6090872279539788,
           0.6323513091963422,
           0.6332177501518863,
           0.6589267619436809,
           0.6589080364885802,
           0.6974813145774272,
           0.6637927795741757
          ],
          [
           0.6019775079050486,
           0.551727427857053,
           0.5727090942112827,
           0.5377563984681853,
           0.5995313764128238,
           0.582773088011955,
           0.6394126589142481,
           0.6138029071890938,
           0.5456904804500695,
           0.5487030928761472,
           0.5963567665502459,
           0.5934201457062698,
           0.6462871935729204,
           0.6141354504757606,
           0.5804019017211854,
           0.6006741363570155,
           0.5440104248722597,
           0.6021090878523911,
           0.6431201804195626,
           0.4979723403894638,
           0.6001850864170878,
           0.6123650369540125,
           0.6164557494284462,
           0.6559711226828755,
           1.0000000000000002,
           0.5956021101559696,
           0.5795159584240913,
           0.5909122143770187,
           0.5794792660840298,
           0.5646124757617275,
           0.5303825814485479,
           0.543891743631501,
           0.6304214310618682,
           0.5248144841549329,
           0.5920477385993921,
           0.5951676887111854,
           0.5874767354172198,
           0.6272694804429472
          ],
          [
           0.7658386876700267,
           0.7324552247103516,
           0.6599887359402928,
           0.5814202969005857,
           0.6677429881895074,
           0.6006034305864494,
           0.6822080276826108,
           0.7186625593780598,
           0.730309518303474,
           0.7086251237806901,
           0.6168542621371698,
           0.7719713067293597,
           0.7292979212123385,
           0.6776979087990298,
           0.6960060780127044,
           0.689581173595139,
           0.673259201266465,
           0.7531582752865369,
           0.6885918890342135,
           0.5581683438267636,
           0.7256772015948776,
           0.6940535350724981,
           0.6508527268084321,
           0.6998202575963964,
           0.5956021101559696,
           0.9999999999999996,
           0.7430840436145264,
           0.7197694327500707,
           0.5815199646777961,
           0.733291095824493,
           0.6628894147833856,
           0.5811675470797688,
           0.6158971288454778,
           0.6312002638159901,
           0.6934347586055851,
           0.6779684882815824,
           0.7184986017148987,
           0.7253046265452527
          ],
          [
           0.7289375317968889,
           0.6420286698558006,
           0.6689302907860744,
           0.5711299245654117,
           0.6644332981255858,
           0.6320162848066504,
           0.714070421784096,
           0.7461349615493779,
           0.6683657526899092,
           0.6619337920911403,
           0.615398841600888,
           0.7134247514263399,
           0.7302335583803762,
           0.6894821931456903,
           0.6898284868197508,
           0.6922416950243222,
           0.6630481729774578,
           0.6813693071652009,
           0.7181385305627181,
           0.6219581748766441,
           0.7484588579698359,
           0.6441457061093259,
           0.6381320151863692,
           0.6614740426046091,
           0.5795159584240913,
           0.7430840436145264,
           0.9999999999999997,
           0.7616902747198382,
           0.5843419542341572,
           0.7115858550217977,
           0.6032444981140033,
           0.6396275854098196,
           0.6022087809204424,
           0.5919930623331453,
           0.6785100312097655,
           0.6763535575221504,
           0.7357923379310833,
           0.7550225027545847
          ],
          [
           0.8508110041135892,
           0.7188159619369155,
           0.7308108446065991,
           0.6789104299851925,
           0.7280394605444044,
           0.5957918362832251,
           0.8316591379546752,
           0.7736900724876191,
           0.7579618992027017,
           0.7604039798059972,
           0.6618573207454972,
           0.7621301217651459,
           0.8052209673713773,
           0.7168086549428837,
           0.7683818946833527,
           0.7418401637925298,
           0.8132987556351317,
           0.776508224454578,
           0.7508433725371418,
           0.5712479422798158,
           0.7349714106484082,
           0.7368509214374944,
           0.6719080522374635,
           0.7056683371613605,
           0.5909122143770187,
           0.7197694327500707,
           0.7616902747198382,
           1.0000000000000004,
           0.6533963819625042,
           0.7596642390016111,
           0.7330617216612842,
           0.6519515978804487,
           0.6646570563180254,
           0.6378021519704302,
           0.716438497789235,
           0.7159767570084861,
           0.7011608047577176,
           0.7372031804741408
          ],
          [
           0.6477953777783904,
           0.5927491137456276,
           0.639806130441382,
           0.7351906326340758,
           0.6448052488407954,
           0.5794080010945077,
           0.7030313793677212,
           0.6262226298839174,
           0.5795849218534932,
           0.6178729760396043,
           0.6431180048218814,
           0.5971926924686484,
           0.668981852213846,
           0.6431532407536598,
           0.5640165581713589,
           0.6902602337662807,
           0.5994391608120506,
           0.668057344306096,
           0.6954571867710513,
           0.5377723372419014,
           0.6241608364880797,
           0.6903814070025425,
           0.6302248984759531,
           0.5972543711775028,
           0.5794792660840298,
           0.5815199646777961,
           0.5843419542341572,
           0.6533963819625042,
           0.9999999999999998,
           0.612854171702623,
           0.615689151683179,
           0.5923335453700771,
           0.6779209191956743,
           0.5490560932754005,
           0.6470661733052456,
           0.6395412946882313,
           0.5982336038168198,
           0.6389627334125892
          ],
          [
           0.8230625882004443,
           0.7808282001431125,
           0.7834207306192602,
           0.6471955112920118,
           0.7109230453741404,
           0.5823983244252373,
           0.7294206119753602,
           0.6840663594114507,
           0.8015314385980791,
           0.6803858628878778,
           0.6688980723224387,
           0.7727466108406739,
           0.7105003951549484,
           0.7244450169736855,
           0.7183391405581231,
           0.7166751022213058,
           0.7227669041441371,
           0.808528028631721,
           0.7183514401798696,
           0.5714301788995666,
           0.7930886119543286,
           0.6976204926315727,
           0.6355802960975371,
           0.6572442653024633,
           0.5646124757617275,
           0.733291095824493,
           0.7115858550217977,
           0.7596642390016111,
           0.612854171702623,
           0.9999999999999996,
           0.7002382852988027,
           0.6039721179897394,
           0.6501737953223485,
           0.6886474880786331,
           0.7042747168588817,
           0.6935305913092961,
           0.7497710364364548,
           0.7939413146777834
          ],
          [
           0.7521338668140264,
           0.7087278153441393,
           0.6874735548014451,
           0.6748493887913141,
           0.6801165831241425,
           0.5964563593925765,
           0.7078766205646176,
           0.7009773612695643,
           0.7252966196895253,
           0.6746121054708808,
           0.640599692873336,
           0.6981321487775688,
           0.6656788640724084,
           0.697966742206628,
           0.705091907312497,
           0.7276844060601825,
           0.8116504323786272,
           0.7826855974361027,
           0.7007798762399617,
           0.555934044042041,
           0.708690944777801,
           0.6959434979775285,
           0.6364497653871439,
           0.6270882411506156,
           0.5303825814485479,
           0.6628894147833856,
           0.6032444981140033,
           0.7330617216612842,
           0.615689151683179,
           0.7002382852988027,
           0.9999999999999998,
           0.5917349605944647,
           0.6023798427286303,
           0.5739720373781816,
           0.6962510567299163,
           0.6884388229131316,
           0.6796488658405745,
           0.6948096881009105
          ],
          [
           0.6401779123142763,
           0.5892522701694456,
           0.6024928773323249,
           0.635470088493284,
           0.6209689038457513,
           0.6695911972309649,
           0.731198897989308,
           0.6013483231040782,
           0.5933092935162323,
           0.5828785365955053,
           0.6136462153776991,
           0.6470650173702304,
           0.6789823384656757,
           0.6337205257889305,
           0.5793190379184361,
           0.6361777727643525,
           0.603569687240459,
           0.6544221116187399,
           0.659746300637807,
           0.5279391997321503,
           0.6194333519182869,
           0.5929337027633435,
           0.6516505950855729,
           0.6090872279539788,
           0.543891743631501,
           0.5811675470797688,
           0.6396275854098196,
           0.6519515978804487,
           0.5923335453700771,
           0.6039721179897394,
           0.5917349605944647,
           1.0000000000000004,
           0.6088861766501688,
           0.5079453355853428,
           0.6706572959078936,
           0.658656944436711,
           0.6197181281823326,
           0.6379759754603784
          ],
          [
           0.682500121441079,
           0.6378648628026395,
           0.627285848932305,
           0.6493062707325227,
           0.7121225560729947,
           0.6794305187015298,
           0.8269271619847139,
           0.6309224133029256,
           0.6144316460988823,
           0.6286364898359449,
           0.7071563714473377,
           0.6602209590836322,
           0.6317125605685097,
           0.719638715087437,
           0.6144812261643788,
           0.6399291546604098,
           0.5941123862076091,
           0.6950999769019691,
           0.6853989438641743,
           0.5662957614995392,
           0.6347480567749473,
           0.6373429943651008,
           0.680077988223653,
           0.6323513091963422,
           0.6304214310618682,
           0.6158971288454778,
           0.6022087809204424,
           0.6646570563180254,
           0.6779209191956743,
           0.6501737953223485,
           0.6023798427286303,
           0.6088861766501688,
           0.9999999999999999,
           0.6000572400042196,
           0.7060919981374121,
           0.7422723098219445,
           0.5950740090675841,
           0.6379137194241249
          ],
          [
           0.6566501129866245,
           0.6292814439819208,
           0.6494811758158228,
           0.5394944807714566,
           0.6159190103116148,
           0.5348615650059758,
           0.6406845232197217,
           0.585122429866246,
           0.6031906850648145,
           0.6450814707058836,
           0.5935624057420797,
           0.644672421689104,
           0.6650173461739235,
           0.6237951063811438,
           0.5702168457548865,
           0.5807962027115914,
           0.5690451646618726,
           0.6979649552588436,
           0.6167076201442465,
           0.5389882469726492,
           0.6688865316983393,
           0.5926490519751653,
           0.6039833371004072,
           0.6332177501518863,
           0.5248144841549329,
           0.6312002638159901,
           0.5919930623331453,
           0.6378021519704302,
           0.5490560932754005,
           0.6886474880786331,
           0.5739720373781816,
           0.5079453355853428,
           0.6000572400042196,
           1.0000000000000007,
           0.6090034931790302,
           0.629296525071612,
           0.6221151565039764,
           0.6661650279446634
          ],
          [
           0.7561474149138394,
           0.6986556325297995,
           0.6912421284950726,
           0.6124973408367919,
           0.8485121060806624,
           0.772086365907775,
           0.7742622661585619,
           0.6704598860979338,
           0.7064193067377074,
           0.6500802987955958,
           0.8180891511267654,
           0.7512165133173481,
           0.7381344373887553,
           0.8217949065095718,
           0.6444779051877643,
           0.7550894609877428,
           0.6590611441631935,
           0.7436389073097354,
           0.7398046277458346,
           0.6235620023158132,
           0.7194009529286107,
           0.6635004326791764,
           0.7073397742540907,
           0.6589267619436809,
           0.5920477385993921,
           0.6934347586055851,
           0.6785100312097655,
           0.716438497789235,
           0.6470661733052456,
           0.7042747168588817,
           0.6962510567299163,
           0.6706572959078936,
           0.7060919981374121,
           0.6090034931790302,
           0.9999999999999996,
           0.7956672586637099,
           0.674426434732653,
           0.7091229244633588
          ],
          [
           0.7240386356090607,
           0.7171173319683537,
           0.6688808289162922,
           0.6272963132105682,
           0.8151690607686237,
           0.7418989418958147,
           0.7939153535806998,
           0.6838827733163695,
           0.6973591192258202,
           0.7008091817527689,
           0.7844642833016404,
           0.7593014634944819,
           0.7086050156953638,
           0.8889403492469331,
           0.7073070938639898,
           0.7096541175593113,
           0.6892020709258633,
           0.7284518532404483,
           0.7410087634831581,
           0.6334817838080326,
           0.7154116614717602,
           0.6911512706486602,
           0.6929075057577405,
           0.6589080364885802,
           0.5951676887111854,
           0.6779684882815824,
           0.6763535575221504,
           0.7159767570084861,
           0.6395412946882313,
           0.6935305913092961,
           0.6884388229131316,
           0.658656944436711,
           0.7422723098219445,
           0.629296525071612,
           0.7956672586637099,
           1,
           0.6998935250902472,
           0.69579706250813
          ],
          [
           0.7367398175071264,
           0.6871265925904069,
           0.6912094659671834,
           0.638590728197643,
           0.6778244083690484,
           0.5913604351029221,
           0.6816831678930685,
           0.7198669992422408,
           0.705811885923478,
           0.690410670454888,
           0.6481560913625208,
           0.7381303195486899,
           0.730306180822609,
           0.7011301897890088,
           0.6754252917083349,
           0.6837846738174164,
           0.7015888294467256,
           0.7394062683789518,
           0.7167819475106416,
           0.6298781114662761,
           0.7401100581055393,
           0.688528485697763,
           0.6425821025881735,
           0.6974813145774272,
           0.5874767354172198,
           0.7184986017148987,
           0.7357923379310833,
           0.7011608047577176,
           0.5982336038168198,
           0.7497710364364548,
           0.6796488658405745,
           0.6197181281823326,
           0.5950740090675841,
           0.6221151565039764,
           0.674426434732653,
           0.6998935250902472,
           0.9999999999999993,
           0.7748520618030346
          ],
          [
           0.7773766806997306,
           0.7327136114244852,
           0.6949280301930444,
           0.666595438643425,
           0.700798955984181,
           0.630400869556523,
           0.7207416513528047,
           0.7225765901548905,
           0.7464664573654879,
           0.6730219385379578,
           0.6675548687693058,
           0.7375557314362613,
           0.7369752759277493,
           0.7329546812773373,
           0.7318596489573653,
           0.7661677216959442,
           0.6907061454836896,
           0.7724597398377,
           0.7411800777622638,
           0.5701957624903752,
           0.8063712480959282,
           0.7039715802955653,
           0.6716251415562058,
           0.6637927795741757,
           0.6272694804429472,
           0.7253046265452527,
           0.7550225027545847,
           0.7372031804741408,
           0.6389627334125892,
           0.7939413146777834,
           0.6948096881009105,
           0.6379759754603784,
           0.6379137194241249,
           0.6661650279446634,
           0.7091229244633588,
           0.69579706250813,
           0.7748520618030346,
           0.9999999999999996
          ]
         ]
        }
       ],
       "layout": {
        "coloraxis": {
         "colorbar": {
          "title": {
           "text": "Similarity Score"
          }
         },
         "colorscale": [
          [
           0,
           "rgb(247,252,240)"
          ],
          [
           0.125,
           "rgb(224,243,219)"
          ],
          [
           0.25,
           "rgb(204,235,197)"
          ],
          [
           0.375,
           "rgb(168,221,181)"
          ],
          [
           0.5,
           "rgb(123,204,196)"
          ],
          [
           0.625,
           "rgb(78,179,211)"
          ],
          [
           0.75,
           "rgb(43,140,190)"
          ],
          [
           0.875,
           "rgb(8,104,172)"
          ],
          [
           1,
           "rgb(8,64,129)"
          ]
         ]
        },
        "height": 1000,
        "hoverlabel": {
         "bgcolor": "white",
         "font": {
          "family": "Rockwell",
          "size": 16
         }
        },
        "legend": {
         "title": {
          "text": "Trend"
         }
        },
        "margin": {
         "t": 60
        },
        "showlegend": true,
        "template": {
         "data": {
          "bar": [
           {
            "error_x": {
             "color": "#2a3f5f"
            },
            "error_y": {
             "color": "#2a3f5f"
            },
            "marker": {
             "line": {
              "color": "#E5ECF6",
              "width": 0.5
             },
             "pattern": {
              "fillmode": "overlay",
              "size": 10,
              "solidity": 0.2
             }
            },
            "type": "bar"
           }
          ],
          "barpolar": [
           {
            "marker": {
             "line": {
              "color": "#E5ECF6",
              "width": 0.5
             },
             "pattern": {
              "fillmode": "overlay",
              "size": 10,
              "solidity": 0.2
             }
            },
            "type": "barpolar"
           }
          ],
          "carpet": [
           {
            "aaxis": {
             "endlinecolor": "#2a3f5f",
             "gridcolor": "white",
             "linecolor": "white",
             "minorgridcolor": "white",
             "startlinecolor": "#2a3f5f"
            },
            "baxis": {
             "endlinecolor": "#2a3f5f",
             "gridcolor": "white",
             "linecolor": "white",
             "minorgridcolor": "white",
             "startlinecolor": "#2a3f5f"
            },
            "type": "carpet"
           }
          ],
          "choropleth": [
           {
            "colorbar": {
             "outlinewidth": 0,
             "ticks": ""
            },
            "type": "choropleth"
           }
          ],
          "contour": [
           {
            "colorbar": {
             "outlinewidth": 0,
             "ticks": ""
            },
            "colorscale": [
             [
              0,
              "#0d0887"
             ],
             [
              0.1111111111111111,
              "#46039f"
             ],
             [
              0.2222222222222222,
              "#7201a8"
             ],
             [
              0.3333333333333333,
              "#9c179e"
             ],
             [
              0.4444444444444444,
              "#bd3786"
             ],
             [
              0.5555555555555556,
              "#d8576b"
             ],
             [
              0.6666666666666666,
              "#ed7953"
             ],
             [
              0.7777777777777778,
              "#fb9f3a"
             ],
             [
              0.8888888888888888,
              "#fdca26"
             ],
             [
              1,
              "#f0f921"
             ]
            ],
            "type": "contour"
           }
          ],
          "contourcarpet": [
           {
            "colorbar": {
             "outlinewidth": 0,
             "ticks": ""
            },
            "type": "contourcarpet"
           }
          ],
          "heatmap": [
           {
            "colorbar": {
             "outlinewidth": 0,
             "ticks": ""
            },
            "colorscale": [
             [
              0,
              "#0d0887"
             ],
             [
              0.1111111111111111,
              "#46039f"
             ],
             [
              0.2222222222222222,
              "#7201a8"
             ],
             [
              0.3333333333333333,
              "#9c179e"
             ],
             [
              0.4444444444444444,
              "#bd3786"
             ],
             [
              0.5555555555555556,
              "#d8576b"
             ],
             [
              0.6666666666666666,
              "#ed7953"
             ],
             [
              0.7777777777777778,
              "#fb9f3a"
             ],
             [
              0.8888888888888888,
              "#fdca26"
             ],
             [
              1,
              "#f0f921"
             ]
            ],
            "type": "heatmap"
           }
          ],
          "heatmapgl": [
           {
            "colorbar": {
             "outlinewidth": 0,
             "ticks": ""
            },
            "colorscale": [
             [
              0,
              "#0d0887"
             ],
             [
              0.1111111111111111,
              "#46039f"
             ],
             [
              0.2222222222222222,
              "#7201a8"
             ],
             [
              0.3333333333333333,
              "#9c179e"
             ],
             [
              0.4444444444444444,
              "#bd3786"
             ],
             [
              0.5555555555555556,
              "#d8576b"
             ],
             [
              0.6666666666666666,
              "#ed7953"
             ],
             [
              0.7777777777777778,
              "#fb9f3a"
             ],
             [
              0.8888888888888888,
              "#fdca26"
             ],
             [
              1,
              "#f0f921"
             ]
            ],
            "type": "heatmapgl"
           }
          ],
          "histogram": [
           {
            "marker": {
             "pattern": {
              "fillmode": "overlay",
              "size": 10,
              "solidity": 0.2
             }
            },
            "type": "histogram"
           }
          ],
          "histogram2d": [
           {
            "colorbar": {
             "outlinewidth": 0,
             "ticks": ""
            },
            "colorscale": [
             [
              0,
              "#0d0887"
             ],
             [
              0.1111111111111111,
              "#46039f"
             ],
             [
              0.2222222222222222,
              "#7201a8"
             ],
             [
              0.3333333333333333,
              "#9c179e"
             ],
             [
              0.4444444444444444,
              "#bd3786"
             ],
             [
              0.5555555555555556,
              "#d8576b"
             ],
             [
              0.6666666666666666,
              "#ed7953"
             ],
             [
              0.7777777777777778,
              "#fb9f3a"
             ],
             [
              0.8888888888888888,
              "#fdca26"
             ],
             [
              1,
              "#f0f921"
             ]
            ],
            "type": "histogram2d"
           }
          ],
          "histogram2dcontour": [
           {
            "colorbar": {
             "outlinewidth": 0,
             "ticks": ""
            },
            "colorscale": [
             [
              0,
              "#0d0887"
             ],
             [
              0.1111111111111111,
              "#46039f"
             ],
             [
              0.2222222222222222,
              "#7201a8"
             ],
             [
              0.3333333333333333,
              "#9c179e"
             ],
             [
              0.4444444444444444,
              "#bd3786"
             ],
             [
              0.5555555555555556,
              "#d8576b"
             ],
             [
              0.6666666666666666,
              "#ed7953"
             ],
             [
              0.7777777777777778,
              "#fb9f3a"
             ],
             [
              0.8888888888888888,
              "#fdca26"
             ],
             [
              1,
              "#f0f921"
             ]
            ],
            "type": "histogram2dcontour"
           }
          ],
          "mesh3d": [
           {
            "colorbar": {
             "outlinewidth": 0,
             "ticks": ""
            },
            "type": "mesh3d"
           }
          ],
          "parcoords": [
           {
            "line": {
             "colorbar": {
              "outlinewidth": 0,
              "ticks": ""
             }
            },
            "type": "parcoords"
           }
          ],
          "pie": [
           {
            "automargin": true,
            "type": "pie"
           }
          ],
          "scatter": [
           {
            "fillpattern": {
             "fillmode": "overlay",
             "size": 10,
             "solidity": 0.2
            },
            "type": "scatter"
           }
          ],
          "scatter3d": [
           {
            "line": {
             "colorbar": {
              "outlinewidth": 0,
              "ticks": ""
             }
            },
            "marker": {
             "colorbar": {
              "outlinewidth": 0,
              "ticks": ""
             }
            },
            "type": "scatter3d"
           }
          ],
          "scattercarpet": [
           {
            "marker": {
             "colorbar": {
              "outlinewidth": 0,
              "ticks": ""
             }
            },
            "type": "scattercarpet"
           }
          ],
          "scattergeo": [
           {
            "marker": {
             "colorbar": {
              "outlinewidth": 0,
              "ticks": ""
             }
            },
            "type": "scattergeo"
           }
          ],
          "scattergl": [
           {
            "marker": {
             "colorbar": {
              "outlinewidth": 0,
              "ticks": ""
             }
            },
            "type": "scattergl"
           }
          ],
          "scattermapbox": [
           {
            "marker": {
             "colorbar": {
              "outlinewidth": 0,
              "ticks": ""
             }
            },
            "type": "scattermapbox"
           }
          ],
          "scatterpolar": [
           {
            "marker": {
             "colorbar": {
              "outlinewidth": 0,
              "ticks": ""
             }
            },
            "type": "scatterpolar"
           }
          ],
          "scatterpolargl": [
           {
            "marker": {
             "colorbar": {
              "outlinewidth": 0,
              "ticks": ""
             }
            },
            "type": "scatterpolargl"
           }
          ],
          "scatterternary": [
           {
            "marker": {
             "colorbar": {
              "outlinewidth": 0,
              "ticks": ""
             }
            },
            "type": "scatterternary"
           }
          ],
          "surface": [
           {
            "colorbar": {
             "outlinewidth": 0,
             "ticks": ""
            },
            "colorscale": [
             [
              0,
              "#0d0887"
             ],
             [
              0.1111111111111111,
              "#46039f"
             ],
             [
              0.2222222222222222,
              "#7201a8"
             ],
             [
              0.3333333333333333,
              "#9c179e"
             ],
             [
              0.4444444444444444,
              "#bd3786"
             ],
             [
              0.5555555555555556,
              "#d8576b"
             ],
             [
              0.6666666666666666,
              "#ed7953"
             ],
             [
              0.7777777777777778,
              "#fb9f3a"
             ],
             [
              0.8888888888888888,
              "#fdca26"
             ],
             [
              1,
              "#f0f921"
             ]
            ],
            "type": "surface"
           }
          ],
          "table": [
           {
            "cells": {
             "fill": {
              "color": "#EBF0F8"
             },
             "line": {
              "color": "white"
             }
            },
            "header": {
             "fill": {
              "color": "#C8D4E3"
             },
             "line": {
              "color": "white"
             }
            },
            "type": "table"
           }
          ]
         },
         "layout": {
          "annotationdefaults": {
           "arrowcolor": "#2a3f5f",
           "arrowhead": 0,
           "arrowwidth": 1
          },
          "autotypenumbers": "strict",
          "coloraxis": {
           "colorbar": {
            "outlinewidth": 0,
            "ticks": ""
           }
          },
          "colorscale": {
           "diverging": [
            [
             0,
             "#8e0152"
            ],
            [
             0.1,
             "#c51b7d"
            ],
            [
             0.2,
             "#de77ae"
            ],
            [
             0.3,
             "#f1b6da"
            ],
            [
             0.4,
             "#fde0ef"
            ],
            [
             0.5,
             "#f7f7f7"
            ],
            [
             0.6,
             "#e6f5d0"
            ],
            [
             0.7,
             "#b8e186"
            ],
            [
             0.8,
             "#7fbc41"
            ],
            [
             0.9,
             "#4d9221"
            ],
            [
             1,
             "#276419"
            ]
           ],
           "sequential": [
            [
             0,
             "#0d0887"
            ],
            [
             0.1111111111111111,
             "#46039f"
            ],
            [
             0.2222222222222222,
             "#7201a8"
            ],
            [
             0.3333333333333333,
             "#9c179e"
            ],
            [
             0.4444444444444444,
             "#bd3786"
            ],
            [
             0.5555555555555556,
             "#d8576b"
            ],
            [
             0.6666666666666666,
             "#ed7953"
            ],
            [
             0.7777777777777778,
             "#fb9f3a"
            ],
            [
             0.8888888888888888,
             "#fdca26"
            ],
            [
             1,
             "#f0f921"
            ]
           ],
           "sequentialminus": [
            [
             0,
             "#0d0887"
            ],
            [
             0.1111111111111111,
             "#46039f"
            ],
            [
             0.2222222222222222,
             "#7201a8"
            ],
            [
             0.3333333333333333,
             "#9c179e"
            ],
            [
             0.4444444444444444,
             "#bd3786"
            ],
            [
             0.5555555555555556,
             "#d8576b"
            ],
            [
             0.6666666666666666,
             "#ed7953"
            ],
            [
             0.7777777777777778,
             "#fb9f3a"
            ],
            [
             0.8888888888888888,
             "#fdca26"
            ],
            [
             1,
             "#f0f921"
            ]
           ]
          },
          "colorway": [
           "#636efa",
           "#EF553B",
           "#00cc96",
           "#ab63fa",
           "#FFA15A",
           "#19d3f3",
           "#FF6692",
           "#B6E880",
           "#FF97FF",
           "#FECB52"
          ],
          "font": {
           "color": "#2a3f5f"
          },
          "geo": {
           "bgcolor": "white",
           "lakecolor": "white",
           "landcolor": "#E5ECF6",
           "showlakes": true,
           "showland": true,
           "subunitcolor": "white"
          },
          "hoverlabel": {
           "align": "left"
          },
          "hovermode": "closest",
          "mapbox": {
           "style": "light"
          },
          "paper_bgcolor": "white",
          "plot_bgcolor": "#E5ECF6",
          "polar": {
           "angularaxis": {
            "gridcolor": "white",
            "linecolor": "white",
            "ticks": ""
           },
           "bgcolor": "#E5ECF6",
           "radialaxis": {
            "gridcolor": "white",
            "linecolor": "white",
            "ticks": ""
           }
          },
          "scene": {
           "xaxis": {
            "backgroundcolor": "#E5ECF6",
            "gridcolor": "white",
            "gridwidth": 2,
            "linecolor": "white",
            "showbackground": true,
            "ticks": "",
            "zerolinecolor": "white"
           },
           "yaxis": {
            "backgroundcolor": "#E5ECF6",
            "gridcolor": "white",
            "gridwidth": 2,
            "linecolor": "white",
            "showbackground": true,
            "ticks": "",
            "zerolinecolor": "white"
           },
           "zaxis": {
            "backgroundcolor": "#E5ECF6",
            "gridcolor": "white",
            "gridwidth": 2,
            "linecolor": "white",
            "showbackground": true,
            "ticks": "",
            "zerolinecolor": "white"
           }
          },
          "shapedefaults": {
           "line": {
            "color": "#2a3f5f"
           }
          },
          "ternary": {
           "aaxis": {
            "gridcolor": "white",
            "linecolor": "white",
            "ticks": ""
           },
           "baxis": {
            "gridcolor": "white",
            "linecolor": "white",
            "ticks": ""
           },
           "bgcolor": "#E5ECF6",
           "caxis": {
            "gridcolor": "white",
            "linecolor": "white",
            "ticks": ""
           }
          },
          "title": {
           "x": 0.05
          },
          "xaxis": {
           "automargin": true,
           "gridcolor": "white",
           "linecolor": "white",
           "ticks": "",
           "title": {
            "standoff": 15
           },
           "zerolinecolor": "white",
           "zerolinewidth": 2
          },
          "yaxis": {
           "automargin": true,
           "gridcolor": "white",
           "linecolor": "white",
           "ticks": "",
           "title": {
            "standoff": 15
           },
           "zerolinecolor": "white",
           "zerolinewidth": 2
          }
         }
        },
        "title": {
         "font": {
          "color": "Black",
          "size": 22
         },
         "text": "<b>Similarity Matrix",
         "x": 0.55,
         "xanchor": "center",
         "y": 0.95,
         "yanchor": "top"
        },
        "width": 1000,
        "xaxis": {
         "anchor": "y",
         "constrain": "domain",
         "domain": [
          0,
          1
         ],
         "scaleanchor": "y"
        },
        "yaxis": {
         "anchor": "x",
         "autorange": "reversed",
         "constrain": "domain",
         "domain": [
          0,
          1
         ]
        }
       }
      },
      "text/html": [
       "<div>                            <div id=\"e7fc2d55-4b48-483e-9bba-d0b8360547fd\" class=\"plotly-graph-div\" style=\"height:1000px; width:1000px;\"></div>            <script type=\"text/javascript\">                require([\"plotly\"], function(Plotly) {                    window.PLOTLYENV=window.PLOTLYENV || {};                                    if (document.getElementById(\"e7fc2d55-4b48-483e-9bba-d0b8360547fd\")) {                    Plotly.newPlot(                        \"e7fc2d55-4b48-483e-9bba-d0b8360547fd\",                        [{\"coloraxis\":\"coloraxis\",\"name\":\"0\",\"x\":[\"-1_song_time_it\",\"0_cry_tears_time\",\"1_breakup_relationship_broke\",\"2_depression_depressed_suic...\",\"3_father_dad_my\",\"4_grandfather_grandma_grandpa\",\"5_album_death_wife\",\"6_movie_orchestra_beautiful\",\"7_feels_first_time\",\"8_emotion_raw_vocals\",\"9_dad_father_relationship\",\"10_oh_and_mama\",\"11_country_the_johnny\",\"12_mom_my_away\",\"13_beautiful_song_hindi\",\"14_friend_suicide_committed\",\"15_sad_songs_song\",\"16_sadness_heart_coming\",\"17_childhood_school_pooh\",\"18_wedding_dance_married\",\"19_home_hit_close\",\"20_nostalgia_nostalgic_lyrics\",\"21_cat_dog_dogs\",\"22_french_spanish_gogh\",\"23_war_soldier_veteran\",\"24_watch_feature_wings\",\"25_concert_joined_live\",\"26_album_whole_the\",\"27_addiction_drug_drugs\",\"28_every_single_roots\",\"29_story_sad_song\",\"30_chester_bennington_suicide\",\"31_cancer_mom_breast\",\"32_gut_punch_punched\",\"33_sister_uncle_family\",\"34_mother_mom_carrie\",\"35_moving_saying_music\",\"36_rough_phrase_moved\"],\"y\":[\"-1_song_time_it\",\"0_cry_tears_time\",\"1_breakup_relationship_broke\",\"2_depression_depressed_suic...\",\"3_father_dad_my\",\"4_grandfather_grandma_grandpa\",\"5_album_death_wife\",\"6_movie_orchestra_beautiful\",\"7_feels_first_time\",\"8_emotion_raw_vocals\",\"9_dad_father_relationship\",\"10_oh_and_mama\",\"11_country_the_johnny\",\"12_mom_my_away\",\"13_beautiful_song_hindi\",\"14_friend_suicide_committed\",\"15_sad_songs_song\",\"16_sadness_heart_coming\",\"17_childhood_school_pooh\",\"18_wedding_dance_married\",\"19_home_hit_close\",\"20_nostalgia_nostalgic_lyrics\",\"21_cat_dog_dogs\",\"22_french_spanish_gogh\",\"23_war_soldier_veteran\",\"24_watch_feature_wings\",\"25_concert_joined_live\",\"26_album_whole_the\",\"27_addiction_drug_drugs\",\"28_every_single_roots\",\"29_story_sad_song\",\"30_chester_bennington_suicide\",\"31_cancer_mom_breast\",\"32_gut_punch_punched\",\"33_sister_uncle_family\",\"34_mother_mom_carrie\",\"35_moving_saying_music\",\"36_rough_phrase_moved\"],\"z\":[[1.0,0.8038856769545957,0.7267260554027061,0.6813470583719066,0.7556650635351889,0.6185985940033214,0.7759457833382565,0.7764049940366808,0.8592468560786322,0.7347157216452296,0.6722285809487045,0.7960436666555171,0.8076366081795777,0.7608396161903708,0.779006637455153,0.7376427095635159,0.8097780846850254,0.798110482350713,0.7770165848608276,0.570286373718293,0.7879567434113931,0.7574558552692173,0.7059535552864185,0.6919374101471367,0.6019775079050486,0.7658386876700267,0.7289375317968889,0.8508110041135892,0.6477953777783904,0.8230625882004443,0.7521338668140264,0.6401779123142763,0.682500121441079,0.6566501129866245,0.7561474149138394,0.7240386356090607,0.7367398175071264,0.7773766806997306],[0.8038856769545957,0.9999999999999991,0.7194172962202501,0.686303066462176,0.7000688007301743,0.5845500647754168,0.7254827294154051,0.6664975556663022,0.8183637777299717,0.7524453906513306,0.651465249621201,0.726891308285984,0.6784743093277927,0.722280504387082,0.7107356131042053,0.7303315506468082,0.754759957633487,0.8105203311708262,0.6986627299978573,0.5264196257811591,0.7179926467558032,0.7215874856631272,0.6205046550159125,0.6068569113293254,0.551727427857053,0.7324552247103516,0.6420286698558006,0.7188159619369155,0.5927491137456276,0.7808282001431125,0.7087278153441393,0.5892522701694456,0.6378648628026395,0.6292814439819208,0.6986556325297995,0.7171173319683537,0.6871265925904069,0.7327136114244852],[0.7267260554027061,0.7194172962202501,1.0000000000000002,0.6799476269958231,0.6909739252190011,0.572211626989319,0.7359429848033947,0.6794550174728877,0.68782281368484,0.6839420014458875,0.7153109429083109,0.6591217095452031,0.6779900273424991,0.6867765046442081,0.6642237946940239,0.6870056256681938,0.699769210632056,0.7677580865490197,0.7117478740929282,0.609656121762263,0.708300261211608,0.6886036230868816,0.6343870594693187,0.6226691372235736,0.5727090942112827,0.6599887359402928,0.6689302907860744,0.7308108446065991,0.639806130441382,0.7834207306192602,0.6874735548014451,0.6024928773323249,0.627285848932305,0.6494811758158228,0.6912421284950726,0.6688808289162922,0.6912094659671834,0.6949280301930444],[0.6813470583719066,0.686303066462176,0.6799476269958231,0.9999999999999999,0.6204321291466055,0.5767711227158516,0.7243848674399969,0.6314960554527654,0.63032884775939,0.6986812610214639,0.6058605236742851,0.5941140806485677,0.6274340062547283,0.6349517133977285,0.60535935118528,0.6952337954980645,0.6901946667661961,0.7515336133073702,0.6727947232466696,0.5313993242090369,0.6322981602483577,0.7449907442754331,0.6051833431402197,0.5772151785979471,0.5377563984681853,0.5814202969005857,0.5711299245654117,0.6789104299851925,0.7351906326340758,0.6471955112920118,0.6748493887913141,0.635470088493284,0.6493062707325227,0.5394944807714566,0.6124973408367919,0.6272963132105682,0.638590728197643,0.666595438643425],[0.7556650635351889,0.7000688007301743,0.6909739252190011,0.6204321291466055,0.9999999999999998,0.7383324848470325,0.7373033271160148,0.6758453732797416,0.6875754280249596,0.6843970758581421,0.9482015450839311,0.7242356245649955,0.7405929470767219,0.873511975555294,0.6444013810767635,0.6646239414705679,0.6727072546726462,0.7335860699389122,0.7351340666276773,0.6313261463276587,0.7106555787707529,0.6907406277995132,0.6880754895294108,0.678449299348922,0.5995313764128238,0.6677429881895074,0.6644332981255858,0.7280394605444044,0.6448052488407954,0.7109230453741404,0.6801165831241425,0.6209689038457513,0.7121225560729947,0.6159190103116148,0.8485121060806624,0.8151690607686237,0.6778244083690484,0.700798955984181],[0.6185985940033214,0.5845500647754168,0.572211626989319,0.5767711227158516,0.7383324848470325,1.0,0.7297626826214734,0.6147412131306313,0.5581289406508181,0.5630890834432489,0.7317551472657062,0.6424839228319432,0.6461680311720199,0.7283618109465468,0.5611663563074679,0.6022801358909842,0.5912856239056563,0.6321563691310679,0.6732875257828778,0.6293508727739436,0.6215430670946149,0.6376485731356323,0.6359365453333519,0.5997242016274111,0.582773088011955,0.6006034305864494,0.6320162848066504,0.5957918362832251,0.5794080010945077,0.5823983244252373,0.5964563593925765,0.6695911972309649,0.6794305187015298,0.5348615650059758,0.772086365907775,0.7418989418958147,0.5913604351029221,0.630400869556523],[0.7759457833382565,0.7254827294154051,0.7359429848033947,0.7243848674399969,0.7373033271160148,0.7297626826214734,0.9999999999999999,0.7247744610821815,0.6931812307924703,0.7152838686873453,0.7208762791401035,0.7450516329174227,0.7339308279603289,0.7450593416075563,0.7075083480878928,0.7593601782805874,0.7421365587739508,0.7723861653326247,0.7287584168545758,0.637374352740999,0.7292875613949259,0.7312487779018302,0.706481773071669,0.689432090144826,0.6394126589142481,0.6822080276826108,0.714070421784096,0.8316591379546752,0.7030313793677212,0.7294206119753602,0.7078766205646176,0.731198897989308,0.8269271619847139,0.6406845232197217,0.7742622661585619,0.7939153535806998,0.6816831678930685,0.7207416513528047],[0.7764049940366808,0.6664975556663022,0.6794550174728877,0.6314960554527654,0.6758453732797416,0.6147412131306313,0.7247744610821815,0.9999999999999999,0.6870733862031567,0.7172764371309779,0.6216056555843719,0.6747904400028517,0.7501966758041623,0.6603337680238692,0.7678302405931202,0.6710901191715077,0.728752378197173,0.7241142768298876,0.7341950669989584,0.6673407633777759,0.6877061788397374,0.7442138793569283,0.6810167610465007,0.7050867490842258,0.6138029071890938,0.7186625593780598,0.7461349615493779,0.7736900724876191,0.6262226298839174,0.6840663594114507,0.7009773612695643,0.6013483231040782,0.6309224133029256,0.585122429866246,0.6704598860979338,0.6838827733163695,0.7198669992422408,0.7225765901548905],[0.8592468560786322,0.8183637777299717,0.68782281368484,0.63032884775939,0.6875754280249596,0.5581289406508181,0.6931812307924703,0.6870733862031567,0.9999999999999999,0.6904434631260679,0.6108249009997728,0.7891028269739382,0.7253670369353454,0.7116496161939667,0.7420108174336122,0.7596586929727748,0.8069697434886485,0.8039311346143416,0.7155970031530805,0.5343851945774494,0.7517666819711408,0.7097174127754556,0.6185321866433307,0.6168696064306141,0.5456904804500695,0.730309518303474,0.6683657526899092,0.7579618992027017,0.5795849218534932,0.8015314385980791,0.7252966196895253,0.5933092935162323,0.6144316460988823,0.6031906850648145,0.7064193067377074,0.6973591192258202,0.705811885923478,0.7464664573654879],[0.7347157216452296,0.7524453906513306,0.6839420014458875,0.6986812610214639,0.6843970758581421,0.5630890834432489,0.7152838686873453,0.7172764371309779,0.6904434631260679,0.9999999999999998,0.6453256149132116,0.6636713672377812,0.6982347551197159,0.6607983444451063,0.7016032582528063,0.6570494631751806,0.7613071720301505,0.8041860684079554,0.6891266873434317,0.571951809697667,0.6659193374068616,0.83835488344759,0.6293130784205695,0.6939261216392961,0.5487030928761472,0.7086251237806901,0.6619337920911403,0.7604039798059972,0.6178729760396043,0.6803858628878778,0.6746121054708808,0.5828785365955053,0.6286364898359449,0.6450814707058836,0.6500802987955958,0.7008091817527689,0.690410670454888,0.6730219385379578],[0.6722285809487045,0.651465249621201,0.7153109429083109,0.6058605236742851,0.9482015450839311,0.7317551472657062,0.7208762791401035,0.6216056555843719,0.6108249009997728,0.6453256149132116,1.0,0.6790551255823054,0.6938337971475939,0.827931025729077,0.5872813663544713,0.6394721897210235,0.6072042449503042,0.7055905059154255,0.7108386342248652,0.6359511466202761,0.6632254268140771,0.6560283866814269,0.6891926403190944,0.643732995428342,0.5963567665502459,0.6168542621371698,0.615398841600888,0.6618573207454972,0.6431180048218814,0.6688980723224387,0.640599692873336,0.6136462153776991,0.7071563714473377,0.5935624057420797,0.8180891511267654,0.7844642833016404,0.6481560913625208,0.6675548687693058],[0.7960436666555171,0.726891308285984,0.6591217095452031,0.5941140806485677,0.7242356245649955,0.6424839228319432,0.7450516329174227,0.6747904400028517,0.7891028269739382,0.6636713672377812,0.6790551255823054,1.0000000000000007,0.7770207478789364,0.7464330849217778,0.7249417738999469,0.7287622730353994,0.7013906881921484,0.7419677582857533,0.7259628065359942,0.5518235233326765,0.7491738240823558,0.6601987786902636,0.6775667571424275,0.6948894149105467,0.5934201457062698,0.7719713067293597,0.7134247514263399,0.7621301217651459,0.5971926924686484,0.7727466108406739,0.6981321487775688,0.6470650173702304,0.6602209590836322,0.644672421689104,0.7512165133173481,0.7593014634944819,0.7381303195486899,0.7375557314362613],[0.8076366081795777,0.6784743093277927,0.6779900273424991,0.6274340062547283,0.7405929470767219,0.6461680311720199,0.7339308279603289,0.7501966758041623,0.7253670369353454,0.6982347551197159,0.6938337971475939,0.7770207478789364,1.0,0.7308314904453592,0.7087377684636937,0.7090940152379188,0.7205328925129342,0.715825047976685,0.7485772109902166,0.5997974319387835,0.7274388784050208,0.6972479350704679,0.7248200442457626,0.7487918781897289,0.6462871935729204,0.7292979212123385,0.7302335583803762,0.8052209673713773,0.668981852213846,0.7105003951549484,0.6656788640724084,0.6789823384656757,0.6317125605685097,0.6650173461739235,0.7381344373887553,0.7086050156953638,0.730306180822609,0.7369752759277493],[0.7608396161903708,0.722280504387082,0.6867765046442081,0.6349517133977285,0.873511975555294,0.7283618109465468,0.7450593416075563,0.6603337680238692,0.7116496161939667,0.6607983444451063,0.827931025729077,0.7464330849217778,0.7308314904453592,1.0000000000000004,0.6608730800723515,0.704897828555194,0.6540590746685528,0.7355937175785148,0.7607226667943018,0.6322547205229958,0.7559565944526998,0.6816746439431534,0.7126024469722939,0.6489691546099052,0.6141354504757606,0.6776979087990298,0.6894821931456903,0.7168086549428837,0.6431532407536598,0.7244450169736855,0.697966742206628,0.6337205257889305,0.719638715087437,0.6237951063811438,0.8217949065095718,0.8889403492469331,0.7011301897890088,0.7329546812773373],[0.779006637455153,0.7107356131042053,0.6642237946940239,0.60535935118528,0.6444013810767635,0.5611663563074679,0.7075083480878928,0.7678302405931202,0.7420108174336122,0.7016032582528063,0.5872813663544713,0.7249417738999469,0.7087377684636937,0.6608730800723515,0.9999999999999999,0.7095387507411135,0.795869955777903,0.7592088151594953,0.7169268927198966,0.5735909325391457,0.7135179049561686,0.6855690197175615,0.6590620440784807,0.6711955890983397,0.5804019017211854,0.6960060780127044,0.6898284868197508,0.7683818946833527,0.5640165581713589,0.7183391405581231,0.705091907312497,0.5793190379184361,0.6144812261643788,0.5702168457548865,0.6444779051877643,0.7073070938639898,0.6754252917083349,0.7318596489573653],[0.7376427095635159,0.7303315506468082,0.6870056256681938,0.6952337954980645,0.6646239414705679,0.6022801358909842,0.7593601782805874,0.6710901191715077,0.7596586929727748,0.6570494631751806,0.6394721897210235,0.7287622730353994,0.7090940152379188,0.704897828555194,0.7095387507411135,1.0000000000000002,0.7310196063195363,0.7680998301968223,0.7389258697400214,0.5681169482196304,0.7464310575035289,0.6812132232077716,0.6798831665387981,0.6195393134256653,0.6006741363570155,0.689581173595139,0.6922416950243222,0.7418401637925298,0.6902602337662807,0.7166751022213058,0.7276844060601825,0.6361777727643525,0.6399291546604098,0.5807962027115914,0.7550894609877428,0.7096541175593113,0.6837846738174164,0.7661677216959442],[0.8097780846850254,0.754759957633487,0.699769210632056,0.6901946667661961,0.6727072546726462,0.5912856239056563,0.7421365587739508,0.728752378197173,0.8069697434886485,0.7613071720301505,0.6072042449503042,0.7013906881921484,0.7205328925129342,0.6540590746685528,0.795869955777903,0.7310196063195363,0.9999999999999997,0.8142215498901101,0.7214203744860646,0.5656544036042377,0.7123920120946814,0.7754318847391362,0.5989125514291092,0.6239979211504245,0.5440104248722597,0.673259201266465,0.6630481729774578,0.8132987556351317,0.5994391608120506,0.7227669041441371,0.8116504323786272,0.603569687240459,0.5941123862076091,0.5690451646618726,0.6590611441631935,0.6892020709258633,0.7015888294467256,0.6907061454836896],[0.798110482350713,0.8105203311708262,0.7677580865490197,0.7515336133073702,0.7335860699389122,0.6321563691310679,0.7723861653326247,0.7241142768298876,0.8039311346143416,0.8041860684079554,0.7055905059154255,0.7419677582857533,0.715825047976685,0.7355937175785148,0.7592088151594953,0.7680998301968223,0.8142215498901101,0.9999999999999999,0.7529538823201886,0.6025260346486843,0.7530062513361669,0.7761655317085365,0.7105145708753804,0.6771187354213526,0.6021090878523911,0.7531582752865369,0.6813693071652009,0.776508224454578,0.668057344306096,0.808528028631721,0.7826855974361027,0.6544221116187399,0.6950999769019691,0.6979649552588436,0.7436389073097354,0.7284518532404483,0.7394062683789518,0.7724597398377],[0.7770165848608276,0.6986627299978573,0.7117478740929282,0.6727947232466696,0.7351340666276773,0.6732875257828778,0.7287584168545758,0.7341950669989584,0.7155970031530805,0.6891266873434317,0.7108386342248652,0.7259628065359942,0.7485772109902166,0.7607226667943018,0.7169268927198966,0.7389258697400214,0.7214203744860646,0.7529538823201886,1.0,0.5942872211092582,0.7212464905523204,0.7761356886554447,0.7027457396637904,0.676788436753846,0.6431201804195626,0.6885918890342135,0.7181385305627181,0.7508433725371418,0.6954571867710513,0.7183514401798696,0.7007798762399617,0.659746300637807,0.6853989438641743,0.6167076201442465,0.7398046277458346,0.7410087634831581,0.7167819475106416,0.7411800777622638],[0.570286373718293,0.5264196257811591,0.609656121762263,0.5313993242090369,0.6313261463276587,0.6293508727739436,0.637374352740999,0.6673407633777759,0.5343851945774494,0.571951809697667,0.6359511466202761,0.5518235233326765,0.5997974319387835,0.6322547205229958,0.5735909325391457,0.5681169482196304,0.5656544036042377,0.6025260346486843,0.5942872211092582,0.9999999999999996,0.5856307049433973,0.5916180381229689,0.5548555985470331,0.5892710839376756,0.4979723403894638,0.5581683438267636,0.6219581748766441,0.5712479422798158,0.5377723372419014,0.5714301788995666,0.555934044042041,0.5279391997321503,0.5662957614995392,0.5389882469726492,0.6235620023158132,0.6334817838080326,0.6298781114662761,0.5701957624903752],[0.7879567434113931,0.7179926467558032,0.708300261211608,0.6322981602483577,0.7106555787707529,0.6215430670946149,0.7292875613949259,0.6877061788397374,0.7517666819711408,0.6659193374068616,0.6632254268140771,0.7491738240823558,0.7274388784050208,0.7559565944526998,0.7135179049561686,0.7464310575035289,0.7123920120946814,0.7530062513361669,0.7212464905523204,0.5856307049433973,0.9999999999999996,0.6746922499058343,0.6786986773442181,0.6560165837604091,0.6001850864170878,0.7256772015948776,0.7484588579698359,0.7349714106484082,0.6241608364880797,0.7930886119543286,0.708690944777801,0.6194333519182869,0.6347480567749473,0.6688865316983393,0.7194009529286107,0.7154116614717602,0.7401100581055393,0.8063712480959282],[0.7574558552692173,0.7215874856631272,0.6886036230868816,0.7449907442754331,0.6907406277995132,0.6376485731356323,0.7312487779018302,0.7442138793569283,0.7097174127754556,0.83835488344759,0.6560283866814269,0.6601987786902636,0.6972479350704679,0.6816746439431534,0.6855690197175615,0.6812132232077716,0.7754318847391362,0.7761655317085365,0.7761356886554447,0.5916180381229689,0.6746922499058343,1.0000000000000002,0.6704684344228392,0.6821900856011536,0.6123650369540125,0.6940535350724981,0.6441457061093259,0.7368509214374944,0.6903814070025425,0.6976204926315727,0.6959434979775285,0.5929337027633435,0.6373429943651008,0.5926490519751653,0.6635004326791764,0.6911512706486602,0.688528485697763,0.7039715802955653],[0.7059535552864185,0.6205046550159125,0.6343870594693187,0.6051833431402197,0.6880754895294108,0.6359365453333519,0.706481773071669,0.6810167610465007,0.6185321866433307,0.6293130784205695,0.6891926403190944,0.6775667571424275,0.7248200442457626,0.7126024469722939,0.6590620440784807,0.6798831665387981,0.5989125514291092,0.7105145708753804,0.7027457396637904,0.5548555985470331,0.6786986773442181,0.6704684344228392,1.0,0.6814416922948612,0.6164557494284462,0.6508527268084321,0.6381320151863692,0.6719080522374635,0.6302248984759531,0.6355802960975371,0.6364497653871439,0.6516505950855729,0.680077988223653,0.6039833371004072,0.7073397742540907,0.6929075057577405,0.6425821025881735,0.6716251415562058],[0.6919374101471367,0.6068569113293254,0.6226691372235736,0.5772151785979471,0.678449299348922,0.5997242016274111,0.689432090144826,0.7050867490842258,0.6168696064306141,0.6939261216392961,0.643732995428342,0.6948894149105467,0.7487918781897289,0.6489691546099052,0.6711955890983397,0.6195393134256653,0.6239979211504245,0.6771187354213526,0.676788436753846,0.5892710839376756,0.6560165837604091,0.6821900856011536,0.6814416922948612,1.0,0.6559711226828755,0.6998202575963964,0.6614740426046091,0.7056683371613605,0.5972543711775028,0.6572442653024633,0.6270882411506156,0.6090872279539788,0.6323513091963422,0.6332177501518863,0.6589267619436809,0.6589080364885802,0.6974813145774272,0.6637927795741757],[0.6019775079050486,0.551727427857053,0.5727090942112827,0.5377563984681853,0.5995313764128238,0.582773088011955,0.6394126589142481,0.6138029071890938,0.5456904804500695,0.5487030928761472,0.5963567665502459,0.5934201457062698,0.6462871935729204,0.6141354504757606,0.5804019017211854,0.6006741363570155,0.5440104248722597,0.6021090878523911,0.6431201804195626,0.4979723403894638,0.6001850864170878,0.6123650369540125,0.6164557494284462,0.6559711226828755,1.0000000000000002,0.5956021101559696,0.5795159584240913,0.5909122143770187,0.5794792660840298,0.5646124757617275,0.5303825814485479,0.543891743631501,0.6304214310618682,0.5248144841549329,0.5920477385993921,0.5951676887111854,0.5874767354172198,0.6272694804429472],[0.7658386876700267,0.7324552247103516,0.6599887359402928,0.5814202969005857,0.6677429881895074,0.6006034305864494,0.6822080276826108,0.7186625593780598,0.730309518303474,0.7086251237806901,0.6168542621371698,0.7719713067293597,0.7292979212123385,0.6776979087990298,0.6960060780127044,0.689581173595139,0.673259201266465,0.7531582752865369,0.6885918890342135,0.5581683438267636,0.7256772015948776,0.6940535350724981,0.6508527268084321,0.6998202575963964,0.5956021101559696,0.9999999999999996,0.7430840436145264,0.7197694327500707,0.5815199646777961,0.733291095824493,0.6628894147833856,0.5811675470797688,0.6158971288454778,0.6312002638159901,0.6934347586055851,0.6779684882815824,0.7184986017148987,0.7253046265452527],[0.7289375317968889,0.6420286698558006,0.6689302907860744,0.5711299245654117,0.6644332981255858,0.6320162848066504,0.714070421784096,0.7461349615493779,0.6683657526899092,0.6619337920911403,0.615398841600888,0.7134247514263399,0.7302335583803762,0.6894821931456903,0.6898284868197508,0.6922416950243222,0.6630481729774578,0.6813693071652009,0.7181385305627181,0.6219581748766441,0.7484588579698359,0.6441457061093259,0.6381320151863692,0.6614740426046091,0.5795159584240913,0.7430840436145264,0.9999999999999997,0.7616902747198382,0.5843419542341572,0.7115858550217977,0.6032444981140033,0.6396275854098196,0.6022087809204424,0.5919930623331453,0.6785100312097655,0.6763535575221504,0.7357923379310833,0.7550225027545847],[0.8508110041135892,0.7188159619369155,0.7308108446065991,0.6789104299851925,0.7280394605444044,0.5957918362832251,0.8316591379546752,0.7736900724876191,0.7579618992027017,0.7604039798059972,0.6618573207454972,0.7621301217651459,0.8052209673713773,0.7168086549428837,0.7683818946833527,0.7418401637925298,0.8132987556351317,0.776508224454578,0.7508433725371418,0.5712479422798158,0.7349714106484082,0.7368509214374944,0.6719080522374635,0.7056683371613605,0.5909122143770187,0.7197694327500707,0.7616902747198382,1.0000000000000004,0.6533963819625042,0.7596642390016111,0.7330617216612842,0.6519515978804487,0.6646570563180254,0.6378021519704302,0.716438497789235,0.7159767570084861,0.7011608047577176,0.7372031804741408],[0.6477953777783904,0.5927491137456276,0.639806130441382,0.7351906326340758,0.6448052488407954,0.5794080010945077,0.7030313793677212,0.6262226298839174,0.5795849218534932,0.6178729760396043,0.6431180048218814,0.5971926924686484,0.668981852213846,0.6431532407536598,0.5640165581713589,0.6902602337662807,0.5994391608120506,0.668057344306096,0.6954571867710513,0.5377723372419014,0.6241608364880797,0.6903814070025425,0.6302248984759531,0.5972543711775028,0.5794792660840298,0.5815199646777961,0.5843419542341572,0.6533963819625042,0.9999999999999998,0.612854171702623,0.615689151683179,0.5923335453700771,0.6779209191956743,0.5490560932754005,0.6470661733052456,0.6395412946882313,0.5982336038168198,0.6389627334125892],[0.8230625882004443,0.7808282001431125,0.7834207306192602,0.6471955112920118,0.7109230453741404,0.5823983244252373,0.7294206119753602,0.6840663594114507,0.8015314385980791,0.6803858628878778,0.6688980723224387,0.7727466108406739,0.7105003951549484,0.7244450169736855,0.7183391405581231,0.7166751022213058,0.7227669041441371,0.808528028631721,0.7183514401798696,0.5714301788995666,0.7930886119543286,0.6976204926315727,0.6355802960975371,0.6572442653024633,0.5646124757617275,0.733291095824493,0.7115858550217977,0.7596642390016111,0.612854171702623,0.9999999999999996,0.7002382852988027,0.6039721179897394,0.6501737953223485,0.6886474880786331,0.7042747168588817,0.6935305913092961,0.7497710364364548,0.7939413146777834],[0.7521338668140264,0.7087278153441393,0.6874735548014451,0.6748493887913141,0.6801165831241425,0.5964563593925765,0.7078766205646176,0.7009773612695643,0.7252966196895253,0.6746121054708808,0.640599692873336,0.6981321487775688,0.6656788640724084,0.697966742206628,0.705091907312497,0.7276844060601825,0.8116504323786272,0.7826855974361027,0.7007798762399617,0.555934044042041,0.708690944777801,0.6959434979775285,0.6364497653871439,0.6270882411506156,0.5303825814485479,0.6628894147833856,0.6032444981140033,0.7330617216612842,0.615689151683179,0.7002382852988027,0.9999999999999998,0.5917349605944647,0.6023798427286303,0.5739720373781816,0.6962510567299163,0.6884388229131316,0.6796488658405745,0.6948096881009105],[0.6401779123142763,0.5892522701694456,0.6024928773323249,0.635470088493284,0.6209689038457513,0.6695911972309649,0.731198897989308,0.6013483231040782,0.5933092935162323,0.5828785365955053,0.6136462153776991,0.6470650173702304,0.6789823384656757,0.6337205257889305,0.5793190379184361,0.6361777727643525,0.603569687240459,0.6544221116187399,0.659746300637807,0.5279391997321503,0.6194333519182869,0.5929337027633435,0.6516505950855729,0.6090872279539788,0.543891743631501,0.5811675470797688,0.6396275854098196,0.6519515978804487,0.5923335453700771,0.6039721179897394,0.5917349605944647,1.0000000000000004,0.6088861766501688,0.5079453355853428,0.6706572959078936,0.658656944436711,0.6197181281823326,0.6379759754603784],[0.682500121441079,0.6378648628026395,0.627285848932305,0.6493062707325227,0.7121225560729947,0.6794305187015298,0.8269271619847139,0.6309224133029256,0.6144316460988823,0.6286364898359449,0.7071563714473377,0.6602209590836322,0.6317125605685097,0.719638715087437,0.6144812261643788,0.6399291546604098,0.5941123862076091,0.6950999769019691,0.6853989438641743,0.5662957614995392,0.6347480567749473,0.6373429943651008,0.680077988223653,0.6323513091963422,0.6304214310618682,0.6158971288454778,0.6022087809204424,0.6646570563180254,0.6779209191956743,0.6501737953223485,0.6023798427286303,0.6088861766501688,0.9999999999999999,0.6000572400042196,0.7060919981374121,0.7422723098219445,0.5950740090675841,0.6379137194241249],[0.6566501129866245,0.6292814439819208,0.6494811758158228,0.5394944807714566,0.6159190103116148,0.5348615650059758,0.6406845232197217,0.585122429866246,0.6031906850648145,0.6450814707058836,0.5935624057420797,0.644672421689104,0.6650173461739235,0.6237951063811438,0.5702168457548865,0.5807962027115914,0.5690451646618726,0.6979649552588436,0.6167076201442465,0.5389882469726492,0.6688865316983393,0.5926490519751653,0.6039833371004072,0.6332177501518863,0.5248144841549329,0.6312002638159901,0.5919930623331453,0.6378021519704302,0.5490560932754005,0.6886474880786331,0.5739720373781816,0.5079453355853428,0.6000572400042196,1.0000000000000007,0.6090034931790302,0.629296525071612,0.6221151565039764,0.6661650279446634],[0.7561474149138394,0.6986556325297995,0.6912421284950726,0.6124973408367919,0.8485121060806624,0.772086365907775,0.7742622661585619,0.6704598860979338,0.7064193067377074,0.6500802987955958,0.8180891511267654,0.7512165133173481,0.7381344373887553,0.8217949065095718,0.6444779051877643,0.7550894609877428,0.6590611441631935,0.7436389073097354,0.7398046277458346,0.6235620023158132,0.7194009529286107,0.6635004326791764,0.7073397742540907,0.6589267619436809,0.5920477385993921,0.6934347586055851,0.6785100312097655,0.716438497789235,0.6470661733052456,0.7042747168588817,0.6962510567299163,0.6706572959078936,0.7060919981374121,0.6090034931790302,0.9999999999999996,0.7956672586637099,0.674426434732653,0.7091229244633588],[0.7240386356090607,0.7171173319683537,0.6688808289162922,0.6272963132105682,0.8151690607686237,0.7418989418958147,0.7939153535806998,0.6838827733163695,0.6973591192258202,0.7008091817527689,0.7844642833016404,0.7593014634944819,0.7086050156953638,0.8889403492469331,0.7073070938639898,0.7096541175593113,0.6892020709258633,0.7284518532404483,0.7410087634831581,0.6334817838080326,0.7154116614717602,0.6911512706486602,0.6929075057577405,0.6589080364885802,0.5951676887111854,0.6779684882815824,0.6763535575221504,0.7159767570084861,0.6395412946882313,0.6935305913092961,0.6884388229131316,0.658656944436711,0.7422723098219445,0.629296525071612,0.7956672586637099,1.0,0.6998935250902472,0.69579706250813],[0.7367398175071264,0.6871265925904069,0.6912094659671834,0.638590728197643,0.6778244083690484,0.5913604351029221,0.6816831678930685,0.7198669992422408,0.705811885923478,0.690410670454888,0.6481560913625208,0.7381303195486899,0.730306180822609,0.7011301897890088,0.6754252917083349,0.6837846738174164,0.7015888294467256,0.7394062683789518,0.7167819475106416,0.6298781114662761,0.7401100581055393,0.688528485697763,0.6425821025881735,0.6974813145774272,0.5874767354172198,0.7184986017148987,0.7357923379310833,0.7011608047577176,0.5982336038168198,0.7497710364364548,0.6796488658405745,0.6197181281823326,0.5950740090675841,0.6221151565039764,0.674426434732653,0.6998935250902472,0.9999999999999993,0.7748520618030346],[0.7773766806997306,0.7327136114244852,0.6949280301930444,0.666595438643425,0.700798955984181,0.630400869556523,0.7207416513528047,0.7225765901548905,0.7464664573654879,0.6730219385379578,0.6675548687693058,0.7375557314362613,0.7369752759277493,0.7329546812773373,0.7318596489573653,0.7661677216959442,0.6907061454836896,0.7724597398377,0.7411800777622638,0.5701957624903752,0.8063712480959282,0.7039715802955653,0.6716251415562058,0.6637927795741757,0.6272694804429472,0.7253046265452527,0.7550225027545847,0.7372031804741408,0.6389627334125892,0.7939413146777834,0.6948096881009105,0.6379759754603784,0.6379137194241249,0.6661650279446634,0.7091229244633588,0.69579706250813,0.7748520618030346,0.9999999999999996]],\"type\":\"heatmap\",\"xaxis\":\"x\",\"yaxis\":\"y\",\"hovertemplate\":\"x: %{x}<br>y: %{y}<br>Similarity Score: %{z}<extra></extra>\"}],                        {\"template\":{\"data\":{\"histogram2dcontour\":[{\"type\":\"histogram2dcontour\",\"colorbar\":{\"outlinewidth\":0,\"ticks\":\"\"},\"colorscale\":[[0.0,\"#0d0887\"],[0.1111111111111111,\"#46039f\"],[0.2222222222222222,\"#7201a8\"],[0.3333333333333333,\"#9c179e\"],[0.4444444444444444,\"#bd3786\"],[0.5555555555555556,\"#d8576b\"],[0.6666666666666666,\"#ed7953\"],[0.7777777777777778,\"#fb9f3a\"],[0.8888888888888888,\"#fdca26\"],[1.0,\"#f0f921\"]]}],\"choropleth\":[{\"type\":\"choropleth\",\"colorbar\":{\"outlinewidth\":0,\"ticks\":\"\"}}],\"histogram2d\":[{\"type\":\"histogram2d\",\"colorbar\":{\"outlinewidth\":0,\"ticks\":\"\"},\"colorscale\":[[0.0,\"#0d0887\"],[0.1111111111111111,\"#46039f\"],[0.2222222222222222,\"#7201a8\"],[0.3333333333333333,\"#9c179e\"],[0.4444444444444444,\"#bd3786\"],[0.5555555555555556,\"#d8576b\"],[0.6666666666666666,\"#ed7953\"],[0.7777777777777778,\"#fb9f3a\"],[0.8888888888888888,\"#fdca26\"],[1.0,\"#f0f921\"]]}],\"heatmap\":[{\"type\":\"heatmap\",\"colorbar\":{\"outlinewidth\":0,\"ticks\":\"\"},\"colorscale\":[[0.0,\"#0d0887\"],[0.1111111111111111,\"#46039f\"],[0.2222222222222222,\"#7201a8\"],[0.3333333333333333,\"#9c179e\"],[0.4444444444444444,\"#bd3786\"],[0.5555555555555556,\"#d8576b\"],[0.6666666666666666,\"#ed7953\"],[0.7777777777777778,\"#fb9f3a\"],[0.8888888888888888,\"#fdca26\"],[1.0,\"#f0f921\"]]}],\"heatmapgl\":[{\"type\":\"heatmapgl\",\"colorbar\":{\"outlinewidth\":0,\"ticks\":\"\"},\"colorscale\":[[0.0,\"#0d0887\"],[0.1111111111111111,\"#46039f\"],[0.2222222222222222,\"#7201a8\"],[0.3333333333333333,\"#9c179e\"],[0.4444444444444444,\"#bd3786\"],[0.5555555555555556,\"#d8576b\"],[0.6666666666666666,\"#ed7953\"],[0.7777777777777778,\"#fb9f3a\"],[0.8888888888888888,\"#fdca26\"],[1.0,\"#f0f921\"]]}],\"contourcarpet\":[{\"type\":\"contourcarpet\",\"colorbar\":{\"outlinewidth\":0,\"ticks\":\"\"}}],\"contour\":[{\"type\":\"contour\",\"colorbar\":{\"outlinewidth\":0,\"ticks\":\"\"},\"colorscale\":[[0.0,\"#0d0887\"],[0.1111111111111111,\"#46039f\"],[0.2222222222222222,\"#7201a8\"],[0.3333333333333333,\"#9c179e\"],[0.4444444444444444,\"#bd3786\"],[0.5555555555555556,\"#d8576b\"],[0.6666666666666666,\"#ed7953\"],[0.7777777777777778,\"#fb9f3a\"],[0.8888888888888888,\"#fdca26\"],[1.0,\"#f0f921\"]]}],\"surface\":[{\"type\":\"surface\",\"colorbar\":{\"outlinewidth\":0,\"ticks\":\"\"},\"colorscale\":[[0.0,\"#0d0887\"],[0.1111111111111111,\"#46039f\"],[0.2222222222222222,\"#7201a8\"],[0.3333333333333333,\"#9c179e\"],[0.4444444444444444,\"#bd3786\"],[0.5555555555555556,\"#d8576b\"],[0.6666666666666666,\"#ed7953\"],[0.7777777777777778,\"#fb9f3a\"],[0.8888888888888888,\"#fdca26\"],[1.0,\"#f0f921\"]]}],\"mesh3d\":[{\"type\":\"mesh3d\",\"colorbar\":{\"outlinewidth\":0,\"ticks\":\"\"}}],\"scatter\":[{\"fillpattern\":{\"fillmode\":\"overlay\",\"size\":10,\"solidity\":0.2},\"type\":\"scatter\"}],\"parcoords\":[{\"type\":\"parcoords\",\"line\":{\"colorbar\":{\"outlinewidth\":0,\"ticks\":\"\"}}}],\"scatterpolargl\":[{\"type\":\"scatterpolargl\",\"marker\":{\"colorbar\":{\"outlinewidth\":0,\"ticks\":\"\"}}}],\"bar\":[{\"error_x\":{\"color\":\"#2a3f5f\"},\"error_y\":{\"color\":\"#2a3f5f\"},\"marker\":{\"line\":{\"color\":\"#E5ECF6\",\"width\":0.5},\"pattern\":{\"fillmode\":\"overlay\",\"size\":10,\"solidity\":0.2}},\"type\":\"bar\"}],\"scattergeo\":[{\"type\":\"scattergeo\",\"marker\":{\"colorbar\":{\"outlinewidth\":0,\"ticks\":\"\"}}}],\"scatterpolar\":[{\"type\":\"scatterpolar\",\"marker\":{\"colorbar\":{\"outlinewidth\":0,\"ticks\":\"\"}}}],\"histogram\":[{\"marker\":{\"pattern\":{\"fillmode\":\"overlay\",\"size\":10,\"solidity\":0.2}},\"type\":\"histogram\"}],\"scattergl\":[{\"type\":\"scattergl\",\"marker\":{\"colorbar\":{\"outlinewidth\":0,\"ticks\":\"\"}}}],\"scatter3d\":[{\"type\":\"scatter3d\",\"line\":{\"colorbar\":{\"outlinewidth\":0,\"ticks\":\"\"}},\"marker\":{\"colorbar\":{\"outlinewidth\":0,\"ticks\":\"\"}}}],\"scattermapbox\":[{\"type\":\"scattermapbox\",\"marker\":{\"colorbar\":{\"outlinewidth\":0,\"ticks\":\"\"}}}],\"scatterternary\":[{\"type\":\"scatterternary\",\"marker\":{\"colorbar\":{\"outlinewidth\":0,\"ticks\":\"\"}}}],\"scattercarpet\":[{\"type\":\"scattercarpet\",\"marker\":{\"colorbar\":{\"outlinewidth\":0,\"ticks\":\"\"}}}],\"carpet\":[{\"aaxis\":{\"endlinecolor\":\"#2a3f5f\",\"gridcolor\":\"white\",\"linecolor\":\"white\",\"minorgridcolor\":\"white\",\"startlinecolor\":\"#2a3f5f\"},\"baxis\":{\"endlinecolor\":\"#2a3f5f\",\"gridcolor\":\"white\",\"linecolor\":\"white\",\"minorgridcolor\":\"white\",\"startlinecolor\":\"#2a3f5f\"},\"type\":\"carpet\"}],\"table\":[{\"cells\":{\"fill\":{\"color\":\"#EBF0F8\"},\"line\":{\"color\":\"white\"}},\"header\":{\"fill\":{\"color\":\"#C8D4E3\"},\"line\":{\"color\":\"white\"}},\"type\":\"table\"}],\"barpolar\":[{\"marker\":{\"line\":{\"color\":\"#E5ECF6\",\"width\":0.5},\"pattern\":{\"fillmode\":\"overlay\",\"size\":10,\"solidity\":0.2}},\"type\":\"barpolar\"}],\"pie\":[{\"automargin\":true,\"type\":\"pie\"}]},\"layout\":{\"autotypenumbers\":\"strict\",\"colorway\":[\"#636efa\",\"#EF553B\",\"#00cc96\",\"#ab63fa\",\"#FFA15A\",\"#19d3f3\",\"#FF6692\",\"#B6E880\",\"#FF97FF\",\"#FECB52\"],\"font\":{\"color\":\"#2a3f5f\"},\"hovermode\":\"closest\",\"hoverlabel\":{\"align\":\"left\"},\"paper_bgcolor\":\"white\",\"plot_bgcolor\":\"#E5ECF6\",\"polar\":{\"bgcolor\":\"#E5ECF6\",\"angularaxis\":{\"gridcolor\":\"white\",\"linecolor\":\"white\",\"ticks\":\"\"},\"radialaxis\":{\"gridcolor\":\"white\",\"linecolor\":\"white\",\"ticks\":\"\"}},\"ternary\":{\"bgcolor\":\"#E5ECF6\",\"aaxis\":{\"gridcolor\":\"white\",\"linecolor\":\"white\",\"ticks\":\"\"},\"baxis\":{\"gridcolor\":\"white\",\"linecolor\":\"white\",\"ticks\":\"\"},\"caxis\":{\"gridcolor\":\"white\",\"linecolor\":\"white\",\"ticks\":\"\"}},\"coloraxis\":{\"colorbar\":{\"outlinewidth\":0,\"ticks\":\"\"}},\"colorscale\":{\"sequential\":[[0.0,\"#0d0887\"],[0.1111111111111111,\"#46039f\"],[0.2222222222222222,\"#7201a8\"],[0.3333333333333333,\"#9c179e\"],[0.4444444444444444,\"#bd3786\"],[0.5555555555555556,\"#d8576b\"],[0.6666666666666666,\"#ed7953\"],[0.7777777777777778,\"#fb9f3a\"],[0.8888888888888888,\"#fdca26\"],[1.0,\"#f0f921\"]],\"sequentialminus\":[[0.0,\"#0d0887\"],[0.1111111111111111,\"#46039f\"],[0.2222222222222222,\"#7201a8\"],[0.3333333333333333,\"#9c179e\"],[0.4444444444444444,\"#bd3786\"],[0.5555555555555556,\"#d8576b\"],[0.6666666666666666,\"#ed7953\"],[0.7777777777777778,\"#fb9f3a\"],[0.8888888888888888,\"#fdca26\"],[1.0,\"#f0f921\"]],\"diverging\":[[0,\"#8e0152\"],[0.1,\"#c51b7d\"],[0.2,\"#de77ae\"],[0.3,\"#f1b6da\"],[0.4,\"#fde0ef\"],[0.5,\"#f7f7f7\"],[0.6,\"#e6f5d0\"],[0.7,\"#b8e186\"],[0.8,\"#7fbc41\"],[0.9,\"#4d9221\"],[1,\"#276419\"]]},\"xaxis\":{\"gridcolor\":\"white\",\"linecolor\":\"white\",\"ticks\":\"\",\"title\":{\"standoff\":15},\"zerolinecolor\":\"white\",\"automargin\":true,\"zerolinewidth\":2},\"yaxis\":{\"gridcolor\":\"white\",\"linecolor\":\"white\",\"ticks\":\"\",\"title\":{\"standoff\":15},\"zerolinecolor\":\"white\",\"automargin\":true,\"zerolinewidth\":2},\"scene\":{\"xaxis\":{\"backgroundcolor\":\"#E5ECF6\",\"gridcolor\":\"white\",\"linecolor\":\"white\",\"showbackground\":true,\"ticks\":\"\",\"zerolinecolor\":\"white\",\"gridwidth\":2},\"yaxis\":{\"backgroundcolor\":\"#E5ECF6\",\"gridcolor\":\"white\",\"linecolor\":\"white\",\"showbackground\":true,\"ticks\":\"\",\"zerolinecolor\":\"white\",\"gridwidth\":2},\"zaxis\":{\"backgroundcolor\":\"#E5ECF6\",\"gridcolor\":\"white\",\"linecolor\":\"white\",\"showbackground\":true,\"ticks\":\"\",\"zerolinecolor\":\"white\",\"gridwidth\":2}},\"shapedefaults\":{\"line\":{\"color\":\"#2a3f5f\"}},\"annotationdefaults\":{\"arrowcolor\":\"#2a3f5f\",\"arrowhead\":0,\"arrowwidth\":1},\"geo\":{\"bgcolor\":\"white\",\"landcolor\":\"#E5ECF6\",\"subunitcolor\":\"white\",\"showland\":true,\"showlakes\":true,\"lakecolor\":\"white\"},\"title\":{\"x\":0.05},\"mapbox\":{\"style\":\"light\"}}},\"xaxis\":{\"anchor\":\"y\",\"domain\":[0.0,1.0],\"scaleanchor\":\"y\",\"constrain\":\"domain\"},\"yaxis\":{\"anchor\":\"x\",\"domain\":[0.0,1.0],\"autorange\":\"reversed\",\"constrain\":\"domain\"},\"coloraxis\":{\"colorbar\":{\"title\":{\"text\":\"Similarity Score\"}},\"colorscale\":[[0.0,\"rgb(247,252,240)\"],[0.125,\"rgb(224,243,219)\"],[0.25,\"rgb(204,235,197)\"],[0.375,\"rgb(168,221,181)\"],[0.5,\"rgb(123,204,196)\"],[0.625,\"rgb(78,179,211)\"],[0.75,\"rgb(43,140,190)\"],[0.875,\"rgb(8,104,172)\"],[1.0,\"rgb(8,64,129)\"]]},\"margin\":{\"t\":60},\"title\":{\"font\":{\"size\":22,\"color\":\"Black\"},\"text\":\"<b>Similarity Matrix\",\"y\":0.95,\"x\":0.55,\"xanchor\":\"center\",\"yanchor\":\"top\"},\"hoverlabel\":{\"font\":{\"size\":16,\"family\":\"Rockwell\"},\"bgcolor\":\"white\"},\"width\":1000,\"height\":1000,\"showlegend\":true,\"legend\":{\"title\":{\"text\":\"Trend\"}}},                        {\"responsive\": true}                    ).then(function(){\n",
       "                            \n",
       "var gd = document.getElementById('e7fc2d55-4b48-483e-9bba-d0b8360547fd');\n",
       "var x = new MutationObserver(function (mutations, observer) {{\n",
       "        var display = window.getComputedStyle(gd).display;\n",
       "        if (!display || display === 'none') {{\n",
       "            console.log([gd, 'removed!']);\n",
       "            Plotly.purge(gd);\n",
       "            observer.disconnect();\n",
       "        }}\n",
       "}});\n",
       "\n",
       "// Listen for the removal of the full notebook cells\n",
       "var notebookContainer = gd.closest('#notebook-container');\n",
       "if (notebookContainer) {{\n",
       "    x.observe(notebookContainer, {childList: true});\n",
       "}}\n",
       "\n",
       "// Listen for the clearing of the current output cell\n",
       "var outputEl = gd.closest('.output');\n",
       "if (outputEl) {{\n",
       "    x.observe(outputEl, {childList: true});\n",
       "}}\n",
       "\n",
       "                        })                };                });            </script>        </div>"
      ]
     },
     "metadata": {},
     "output_type": "display_data"
    }
   ],
   "source": [
    "topic_model.visualize_heatmap(n_clusters=1, width=1000, height=1000)"
   ]
  },
  {
   "cell_type": "code",
   "execution_count": null,
   "id": "6f6695b4",
   "metadata": {},
   "outputs": [],
   "source": []
  }
 ],
 "metadata": {
  "kernelspec": {
   "display_name": "Python 3",
   "language": "python",
   "name": "python3"
  },
  "language_info": {
   "codemirror_mode": {
    "name": "ipython",
    "version": 3
   },
   "file_extension": ".py",
   "mimetype": "text/x-python",
   "name": "python",
   "nbconvert_exporter": "python",
   "pygments_lexer": "ipython3",
   "version": "3.8.8"
  }
 },
 "nbformat": 4,
 "nbformat_minor": 5
}
